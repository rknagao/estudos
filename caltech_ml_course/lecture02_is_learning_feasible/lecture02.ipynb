{
 "cells": [
  {
   "cell_type": "markdown",
   "metadata": {},
   "source": [
    "# Lecture 02 - Is Learning Feasible?"
   ]
  },
  {
   "cell_type": "code",
   "execution_count": 3,
   "metadata": {},
   "outputs": [],
   "source": [
    "import math\n",
    "import numpy as np"
   ]
  },
  {
   "cell_type": "markdown",
   "metadata": {},
   "source": [
    "### Hoeffding's Inequality"
   ]
  },
  {
   "cell_type": "markdown",
   "metadata": {},
   "source": [
    "<img src=\"img/hoeffding-equation.PNG\" />\n",
    "\n",
    "When Hoeffding's Inequality equations is true, than, in a probabilistic point of view, when we can assume that the mean of a **sample A** obtained from a population is probablyu approximately equal to the population mean."
   ]
  },
  {
   "cell_type": "code",
   "execution_count": 9,
   "metadata": {},
   "outputs": [
    {
     "name": "stdout",
     "output_type": "stream",
     "text": [
      "0.5003581288436408\n",
      "False\n",
      "False\n"
     ]
    }
   ],
   "source": [
    "population = np.random.rand(1, 1000)[0]\n",
    "print(population.mean())\n",
    "error = 0.05"
   ]
  },
  {
   "cell_type": "code",
   "execution_count": 18,
   "metadata": {},
   "outputs": [
    {
     "data": {
      "text/plain": [
       "1.3475893998170925"
      ]
     },
     "execution_count": 18,
     "metadata": {},
     "output_type": "execute_result"
    }
   ],
   "source": [
    "# Applying Hoeffding's Inequality equation.\n",
    "max_prob = 2 * math.e**(-2 * error**2 * 1000) *100\n",
    "max_prob"
   ]
  },
  {
   "cell_type": "code",
   "execution_count": 21,
   "metadata": {},
   "outputs": [],
   "source": [
    "list_true = []\n",
    "list_false = []\n",
    "\n",
    "for i in range(1000):\n",
    "    random_sample = np.random.choice(population, size=100, replace=True)\n",
    "    diff = population.mean() - random_sample.mean()\n",
    "    if abs(diff) > error:\n",
    "        list_false.append(random_sample.mean())\n",
    "    else:\n",
    "        list_true.append(random_sample.mean())\n",
    "    \n"
   ]
  },
  {
   "cell_type": "code",
   "execution_count": 22,
   "metadata": {},
   "outputs": [
    {
     "data": {
      "text/plain": [
       "11.195121951219512"
      ]
     },
     "execution_count": 22,
     "metadata": {},
     "output_type": "execute_result"
    }
   ],
   "source": [
    "len(list_true)/len(list_false)"
   ]
  },
  {
   "cell_type": "markdown",
   "metadata": {},
   "source": [
    "something is wrong."
   ]
  }
 ],
 "metadata": {
  "interpreter": {
   "hash": "7d7662bde5678ddf41fb482e2cda39dd85fc62406be2c88b1ebdc7b78e575873"
  },
  "kernelspec": {
   "display_name": "Python 3.10.4 64-bit",
   "language": "python",
   "name": "python3"
  },
  "language_info": {
   "codemirror_mode": {
    "name": "ipython",
    "version": 3
   },
   "file_extension": ".py",
   "mimetype": "text/x-python",
   "name": "python",
   "nbconvert_exporter": "python",
   "pygments_lexer": "ipython3",
   "version": "3.10.4"
  },
  "orig_nbformat": 4
 },
 "nbformat": 4,
 "nbformat_minor": 2
}
