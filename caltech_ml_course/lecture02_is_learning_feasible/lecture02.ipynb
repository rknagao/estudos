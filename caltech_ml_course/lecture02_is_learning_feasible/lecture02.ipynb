{
 "cells": [
  {
   "cell_type": "markdown",
   "metadata": {},
   "source": [
    "# Lecture 02 - Is Learning Feasible?"
   ]
  },
  {
   "cell_type": "code",
   "execution_count": 4,
   "metadata": {},
   "outputs": [],
   "source": [
    "import math\n",
    "import numpy as np\n",
    "import pandas as pd\n",
    "import seaborn as sns"
   ]
  },
  {
   "cell_type": "markdown",
   "metadata": {},
   "source": [
    "### Hoeffding's Inequality"
   ]
  },
  {
   "cell_type": "markdown",
   "metadata": {},
   "source": [
    "<img src=\"img/hoeffding-equation.PNG\" />\n",
    "\n",
    "When Hoeffding's Inequality equations is true, than, in a probabilistic point of view, when we can assume that the mean of a **sample A** obtained from a population is probably approximately equal to the population mean."
   ]
  },
  {
   "cell_type": "markdown",
   "metadata": {},
   "source": [
    "#### Single bin"
   ]
  },
  {
   "cell_type": "code",
   "execution_count": 25,
   "metadata": {},
   "outputs": [
    {
     "name": "stdout",
     "output_type": "stream",
     "text": [
      "0.498\n",
      "0.5375\n"
     ]
    }
   ],
   "source": [
    "# Creating the population.\n",
    "bin = np.random.randint(2, size=1000)\n",
    "mi = bin.mean()\n",
    "print(mi)\n",
    "\n",
    "# Choosing the sample.\n",
    "nu = np.random.choice(bin, 400, replace=True).mean()\n",
    "print(nu)"
   ]
  },
  {
   "cell_type": "code",
   "execution_count": 79,
   "metadata": {},
   "outputs": [
    {
     "name": "stdout",
     "output_type": "stream",
     "text": [
      "Round 1: frequency of bad events equals 7 of 1000\n",
      "Round 2: frequency of bad events equals 10 of 1000\n",
      "Round 3: frequency of bad events equals 9 of 1000\n",
      "Round 4: frequency of bad events equals 9 of 1000\n",
      "Round 5: frequency of bad events equals 9 of 1000\n",
      "Round 6: frequency of bad events equals 9 of 1000\n",
      "Round 7: frequency of bad events equals 12 of 1000\n",
      "Round 8: frequency of bad events equals 8 of 1000\n",
      "Round 9: frequency of bad events equals 14 of 1000\n",
      "Round 10: frequency of bad events equals 10 of 1000\n"
     ]
    }
   ],
   "source": [
    "error = 0.05\n",
    "bad_event = 0\n",
    "\n",
    "for i in range(10):\n",
    "    bad_event = 0\n",
    "\n",
    "    for j in range(1000):\n",
    "        random_nu = np.random.choice(bin, 400, replace=False).mean()\n",
    "        if abs(random_nu - mi) > error:\n",
    "            bad_event += 1\n",
    "\n",
    "    print(f\"Round {i+1}: frequency of bad events equals {bad_event} of 1000\")"
   ]
  },
  {
   "cell_type": "code",
   "execution_count": 33,
   "metadata": {},
   "outputs": [
    {
     "name": "stdout",
     "output_type": "stream",
     "text": [
      "Hoeffding's threshold of bad events: 27 of 1000\n"
     ]
    }
   ],
   "source": [
    "# Applying Hoeffding's Inequality equation.\n",
    "max_prob = 2 * math.e**(-2 * error**2 * 400)\n",
    "\n",
    "print(f\"Hoeffding's threshold of bad events: {int(max_prob * 100)} of 1000\")"
   ]
  },
  {
   "cell_type": "markdown",
   "metadata": {},
   "source": [
    "#### Multiple Bins (coin example)"
   ]
  },
  {
   "cell_type": "markdown",
   "metadata": {},
   "source": [
    "When faced with multiple bins, Hoeffding Inequality behaves poorly. The threshold is design to be applied on just one bin (or variable), since it does not account for the overlap of the probabilities of each term to result in a bad event.\n",
    "\n",
    "<img src=\"img/hoeffding-equation2.PNG\" />"
   ]
  },
  {
   "cell_type": "code",
   "execution_count": 195,
   "metadata": {},
   "outputs": [
    {
     "name": "stdout",
     "output_type": "stream",
     "text": [
      "All heads: 11 of 10000 (0.1%) rounds.\n"
     ]
    }
   ],
   "source": [
    "event_count = 0\n",
    "\n",
    "for i in range(10000):\n",
    "    coin_toss = np.random.randint(2, size=10)\n",
    "    if coin_toss.sum() == 10:\n",
    "        event_count += 1\n",
    "\n",
    "print(f\"All heads: {event_count} of 10000 ({round(event_count/100, 1)}%) rounds.\")"
   ]
  },
  {
   "cell_type": "code",
   "execution_count": 196,
   "metadata": {},
   "outputs": [
    {
     "name": "stdout",
     "output_type": "stream",
     "text": [
      "All heads: 6309 of 10000 (63.1%) rounds.\n"
     ]
    }
   ],
   "source": [
    "event_count = 0\n",
    "\n",
    "for i in range(10000):\n",
    "    df = pd.DataFrame(data=np.random.randint(0, 2, size=(1000, 10)))\n",
    "    df['all_heads'] = df.sum(axis=1)\n",
    "    if df['all_heads'].max() == 10:\n",
    "        event_count += 1\n",
    "\n",
    "print(f\"All heads: {event_count} of 10000 ({round(event_count/100, 1)}%) rounds.\")"
   ]
  },
  {
   "cell_type": "code",
   "execution_count": 7,
   "metadata": {},
   "outputs": [
    {
     "name": "stdout",
     "output_type": "stream",
     "text": [
      "1 coins: 6 of 10000 (0.1%) all heads ocurrence.\n",
      "2 coins: 25 of 10000 (0.2%) all heads ocurrence.\n",
      "3 coins: 56 of 10000 (0.6%) all heads ocurrence.\n",
      "4 coins: 101 of 10000 (1.0%) all heads ocurrence.\n",
      "5 coins: 155 of 10000 (1.6%) all heads ocurrence.\n",
      "6 coins: 219 of 10000 (2.2%) all heads ocurrence.\n",
      "7 coins: 285 of 10000 (2.9%) all heads ocurrence.\n",
      "8 coins: 374 of 10000 (3.7%) all heads ocurrence.\n",
      "9 coins: 470 of 10000 (4.7%) all heads ocurrence.\n",
      "10 coins: 566 of 10000 (5.7%) all heads ocurrence.\n",
      "11 coins: 664 of 10000 (6.6%) all heads ocurrence.\n",
      "12 coins: 788 of 10000 (7.9%) all heads ocurrence.\n",
      "13 coins: 909 of 10000 (9.1%) all heads ocurrence.\n",
      "14 coins: 1031 of 10000 (10.3%) all heads ocurrence.\n",
      "15 coins: 1167 of 10000 (11.7%) all heads ocurrence.\n",
      "16 coins: 1315 of 10000 (13.2%) all heads ocurrence.\n",
      "17 coins: 1471 of 10000 (14.7%) all heads ocurrence.\n",
      "18 coins: 1648 of 10000 (16.5%) all heads ocurrence.\n",
      "19 coins: 1836 of 10000 (18.4%) all heads ocurrence.\n",
      "20 coins: 2052 of 10000 (20.5%) all heads ocurrence.\n"
     ]
    }
   ],
   "source": [
    "# (extra) How fast the Hoeffding threshold increases based on the number of coins?\n",
    " \n",
    "event_list = []\n",
    "event_count = 0\n",
    "\n",
    "for i in range(1, 21, 1):\n",
    "    for j in range(10000):\n",
    "        df = pd.DataFrame(data=np.random.randint(0, 2, size=(i, 10)))\n",
    "        df['all_heads'] = df.sum(axis=1)\n",
    "        if df['all_heads'].max() == 10:\n",
    "            event_count += 1\n",
    "\n",
    "    event_list.append(event_count)\n",
    "    print(f\"{i} coins: {event_count} of 10000 ({round(event_count/100, 1)}%) all heads ocurrence.\")"
   ]
  },
  {
   "cell_type": "code",
   "execution_count": 19,
   "metadata": {},
   "outputs": [
    {
     "data": {
      "text/plain": [
       "<AxesSubplot:xlabel='Number of coins', ylabel='Frequency all heads output (%)'>"
      ]
     },
     "execution_count": 19,
     "metadata": {},
     "output_type": "execute_result"
    },
    {
     "data": {
      "image/png": "[encoded data removed]",
      "text/plain": [
       "<Figure size 432x288 with 1 Axes>"
      ]
     },
     "metadata": {
      "needs_background": "light"
     },
     "output_type": "display_data"
    }
   ],
   "source": [
    "data = pd.DataFrame({'Number of coins': range(1, 21, 1), 'Frequency all heads output (%)': np.array(event_list)/100})\n",
    "sns.lineplot(data=data, x='Number of coins', y='Frequency all heads output (%)')"
   ]
  },
  {
   "cell_type": "markdown",
   "metadata": {},
   "source": [
    "**Conclusion:**\n",
    "the plot above suggests that the increase of Hoeffding's threshold follows a exponential curve. This evidence illustrate how sensible the threshold is for the addition of new variables into a model, since the threshold tends to increase faster than the model complexity. "
   ]
  }
 ],
 "metadata": {
  "interpreter": {
   "hash": "7d7662bde5678ddf41fb482e2cda39dd85fc62406be2c88b1ebdc7b78e575873"
  },
  "kernelspec": {
   "display_name": "Python 3.10.4 64-bit",
   "language": "python",
   "name": "python3"
  },
  "language_info": {
   "codemirror_mode": {
    "name": "ipython",
    "version": 3
   },
   "file_extension": ".py",
   "mimetype": "text/x-python",
   "name": "python",
   "nbconvert_exporter": "python",
   "pygments_lexer": "ipython3",
   "version": "3.10.4"
  },
  "orig_nbformat": 4
 },
 "nbformat": 4,
 "nbformat_minor": 2
}
