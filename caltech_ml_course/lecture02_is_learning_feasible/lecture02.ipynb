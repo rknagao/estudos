{
 "cells": [
  {
   "cell_type": "markdown",
   "metadata": {},
   "source": [
    "# Lecture 02 - Is Learning Feasible?"
   ]
  },
  {
   "cell_type": "code",
   "execution_count": 2,
   "metadata": {},
   "outputs": [],
   "source": [
    "import math\n",
    "import numpy as np"
   ]
  },
  {
   "cell_type": "markdown",
   "metadata": {},
   "source": [
    "### Hoeffding's Inequality"
   ]
  },
  {
   "cell_type": "markdown",
   "metadata": {},
   "source": [
    "<img src=\"img/hoeffding-equation.PNG\" />\n",
    "\n",
    "When Hoeffding's Inequality equations is true, than, in a probabilistic point of view, when we can assume that the mean of a **sample A** obtained from a population is probably approximately equal to the population mean."
   ]
  },
  {
   "cell_type": "code",
   "execution_count": 119,
   "metadata": {},
   "outputs": [
    {
     "name": "stdout",
     "output_type": "stream",
     "text": [
      "0.514\n",
      "0.5475\n"
     ]
    }
   ],
   "source": [
    "# Creating the population.\n",
    "bin = np.random.randint(2, size=1000)\n",
    "mi = bin.mean()\n",
    "print(mi)\n",
    "\n",
    "# Choosing the sample.\n",
    "nu = np.random.choice(bin, 400, replace=True).mean()\n",
    "print(nu)"
   ]
  },
  {
   "cell_type": "code",
   "execution_count": 148,
   "metadata": {},
   "outputs": [
    {
     "name": "stdout",
     "output_type": "stream",
     "text": [
      "Frequency of bad events: 43 of 1000\n"
     ]
    }
   ],
   "source": [
    "error = 0.05\n",
    "bad_event = 0\n",
    "\n",
    "for i in range(1000):\n",
    "    random_nu = np.random.choice(bin, 400, replace=True).mean()\n",
    "    if abs(random_nu - mi) > error:\n",
    "        bad_event += 1\n",
    "\n",
    "print(f\"Frequency of bad events: {bad_event} of 1000\")"
   ]
  },
  {
   "cell_type": "code",
   "execution_count": 151,
   "metadata": {},
   "outputs": [
    {
     "name": "stdout",
     "output_type": "stream",
     "text": [
      "Hoeffding's threshold of bad events: 27 of 1000\n"
     ]
    }
   ],
   "source": [
    "# Applying Hoeffding's Inequality equation.\n",
    "max_prob = 2 * math.e**(-2 * error**2 * 400)\n",
    "\n",
    "print(f\"Hoeffding's threshold of bad events: {int(max_prob * 100)} of 1000\")"
   ]
  },
  {
   "cell_type": "markdown",
   "metadata": {},
   "source": [
    "something is wrong."
   ]
  }
 ],
 "metadata": {
  "interpreter": {
   "hash": "7d7662bde5678ddf41fb482e2cda39dd85fc62406be2c88b1ebdc7b78e575873"
  },
  "kernelspec": {
   "display_name": "Python 3.10.4 64-bit",
   "language": "python",
   "name": "python3"
  },
  "language_info": {
   "codemirror_mode": {
    "name": "ipython",
    "version": 3
   },
   "file_extension": ".py",
   "mimetype": "text/x-python",
   "name": "python",
   "nbconvert_exporter": "python",
   "pygments_lexer": "ipython3",
   "version": "3.10.4"
  },
  "orig_nbformat": 4
 },
 "nbformat": 4,
 "nbformat_minor": 2
}
