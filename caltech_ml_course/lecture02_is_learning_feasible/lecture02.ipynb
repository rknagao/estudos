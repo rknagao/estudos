{
 "cells": [
  {
   "cell_type": "markdown",
   "metadata": {},
   "source": [
    "# Lecture 02 - Is Learning Feasible?"
   ]
  },
  {
   "cell_type": "code",
   "execution_count": 194,
   "metadata": {},
   "outputs": [],
   "source": [
    "import math\n",
    "import numpy as np\n",
    "import pandas as pd\n",
    "import seaborn as sns"
   ]
  },
  {
   "cell_type": "markdown",
   "metadata": {},
   "source": [
    "### Hoeffding's Inequality"
   ]
  },
  {
   "cell_type": "markdown",
   "metadata": {},
   "source": [
    "<img src=\"img/hoeffding-equation.PNG\" />\n",
    "\n",
    "When Hoeffding's Inequality equations is true, than, in a probabilistic point of view, when we can assume that the mean of a **sample A** obtained from a population is probably approximately equal to the population mean."
   ]
  },
  {
   "cell_type": "markdown",
   "metadata": {},
   "source": [
    "#### Single bin"
   ]
  },
  {
   "cell_type": "code",
   "execution_count": 25,
   "metadata": {},
   "outputs": [
    {
     "name": "stdout",
     "output_type": "stream",
     "text": [
      "0.498\n",
      "0.5375\n"
     ]
    }
   ],
   "source": [
    "# Creating the population.\n",
    "bin = np.random.randint(2, size=1000)\n",
    "mi = bin.mean()\n",
    "print(mi)\n",
    "\n",
    "# Choosing the sample.\n",
    "nu = np.random.choice(bin, 400, replace=True).mean()\n",
    "print(nu)"
   ]
  },
  {
   "cell_type": "code",
   "execution_count": 79,
   "metadata": {},
   "outputs": [
    {
     "name": "stdout",
     "output_type": "stream",
     "text": [
      "Round 1: frequency of bad events equals 7 of 1000\n",
      "Round 2: frequency of bad events equals 10 of 1000\n",
      "Round 3: frequency of bad events equals 9 of 1000\n",
      "Round 4: frequency of bad events equals 9 of 1000\n",
      "Round 5: frequency of bad events equals 9 of 1000\n",
      "Round 6: frequency of bad events equals 9 of 1000\n",
      "Round 7: frequency of bad events equals 12 of 1000\n",
      "Round 8: frequency of bad events equals 8 of 1000\n",
      "Round 9: frequency of bad events equals 14 of 1000\n",
      "Round 10: frequency of bad events equals 10 of 1000\n"
     ]
    }
   ],
   "source": [
    "error = 0.05\n",
    "bad_event = 0\n",
    "\n",
    "for i in range(10):\n",
    "    bad_event = 0\n",
    "\n",
    "    for j in range(1000):\n",
    "        random_nu = np.random.choice(bin, 400, replace=False).mean()\n",
    "        if abs(random_nu - mi) > error:\n",
    "            bad_event += 1\n",
    "\n",
    "    print(f\"Round {i+1}: frequency of bad events equals {bad_event} of 1000\")"
   ]
  },
  {
   "cell_type": "code",
   "execution_count": 33,
   "metadata": {},
   "outputs": [
    {
     "name": "stdout",
     "output_type": "stream",
     "text": [
      "Hoeffding's threshold of bad events: 27 of 1000\n"
     ]
    }
   ],
   "source": [
    "# Applying Hoeffding's Inequality equation.\n",
    "max_prob = 2 * math.e**(-2 * error**2 * 400)\n",
    "\n",
    "print(f\"Hoeffding's threshold of bad events: {int(max_prob * 100)} of 1000\")"
   ]
  },
  {
   "cell_type": "markdown",
   "metadata": {},
   "source": [
    "#### Multiple Bins (coin example)"
   ]
  },
  {
   "cell_type": "code",
   "execution_count": 195,
   "metadata": {},
   "outputs": [
    {
     "name": "stdout",
     "output_type": "stream",
     "text": [
      "All heads: 11 of 10000 (0.1%) rounds.\n"
     ]
    }
   ],
   "source": [
    "event_count = 0\n",
    "\n",
    "for i in range(10000):\n",
    "    coin_toss = np.random.randint(2, size=10)\n",
    "    if coin_toss.sum() == 10:\n",
    "        event_count += 1\n",
    "\n",
    "print(f\"All heads: {event_count} of 10000 ({round(event_count/100, 1)}%) rounds.\")"
   ]
  },
  {
   "cell_type": "code",
   "execution_count": 196,
   "metadata": {},
   "outputs": [
    {
     "name": "stdout",
     "output_type": "stream",
     "text": [
      "All heads: 6309 of 10000 (63.1%) rounds.\n"
     ]
    }
   ],
   "source": [
    "event_count = 0\n",
    "\n",
    "for i in range(10000):\n",
    "    df = pd.DataFrame(data=np.random.randint(0, 2, size=(1000, 10)))\n",
    "    df['all_heads'] = df.sum(axis=1)\n",
    "    if df['all_heads'].max() == 10:\n",
    "        event_count += 1\n",
    "\n",
    "print(f\"All heads: {event_count} of 10000 ({round(event_count/100, 1)}%) rounds.\")"
   ]
  }
 ],
 "metadata": {
  "interpreter": {
   "hash": "7d7662bde5678ddf41fb482e2cda39dd85fc62406be2c88b1ebdc7b78e575873"
  },
  "kernelspec": {
   "display_name": "Python 3.10.4 64-bit",
   "language": "python",
   "name": "python3"
  },
  "language_info": {
   "codemirror_mode": {
    "name": "ipython",
    "version": 3
   },
   "file_extension": ".py",
   "mimetype": "text/x-python",
   "name": "python",
   "nbconvert_exporter": "python",
   "pygments_lexer": "ipython3",
   "version": "3.10.4"
  },
  "orig_nbformat": 4
 },
 "nbformat": 4,
 "nbformat_minor": 2
}
