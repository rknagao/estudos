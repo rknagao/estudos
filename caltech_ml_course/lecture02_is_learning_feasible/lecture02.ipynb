{
 "cells": [
  {
   "cell_type": "markdown",
   "metadata": {},
   "source": [
    "# Lecture 02 - Is Learning Feasible?"
   ]
  },
  {
   "cell_type": "code",
   "execution_count": 27,
   "metadata": {},
   "outputs": [],
   "source": [
    "import math\n",
    "import numpy as np"
   ]
  },
  {
   "cell_type": "markdown",
   "metadata": {},
   "source": [
    "### Hoeffding's Inequality"
   ]
  },
  {
   "cell_type": "markdown",
   "metadata": {},
   "source": [
    "<img src=\"img/hoeffding-equation.PNG\" />\n",
    "\n",
    "When Hoeffding's Inequality equations is true, than, in a probabilistic point of view, when we can assume that a **sample A** obtained from a population is equal to another **sample B** also obtained from the same population."
   ]
  },
  {
   "cell_type": "code",
   "execution_count": 23,
   "metadata": {},
   "outputs": [],
   "source": [
    "population = np.random.rand(1, 1000)[0]\n",
    "sampleA = np.random.choice(population, size=100, replace=True)\n",
    "sampleB = np.random.choice(population, size=100, replace=True)\n",
    "error = 0.05\n",
    "\n",
    "# Just checking the sample compositions.\n",
    "assert all([x in population and y in population for x, y in zip(sampleA, sampleB)])"
   ]
  },
  {
   "cell_type": "code",
   "execution_count": 32,
   "metadata": {},
   "outputs": [
    {
     "data": {
      "text/plain": [
       "0.013475893998170925"
      ]
     },
     "execution_count": 32,
     "metadata": {},
     "output_type": "execute_result"
    }
   ],
   "source": [
    "# Applying Hoeffding's Inequality equation.\n",
    "max_prob = 2 * math.e**(-2 * error**2 * 1000)\n",
    "max_prob"
   ]
  },
  {
   "cell_type": "code",
   "execution_count": 31,
   "metadata": {},
   "outputs": [
    {
     "data": {
      "text/plain": [
       "0.013475893998170925"
      ]
     },
     "execution_count": 31,
     "metadata": {},
     "output_type": "execute_result"
    }
   ],
   "source": [
    "max_prob"
   ]
  }
 ],
 "metadata": {
  "interpreter": {
   "hash": "7d7662bde5678ddf41fb482e2cda39dd85fc62406be2c88b1ebdc7b78e575873"
  },
  "kernelspec": {
   "display_name": "Python 3.10.4 64-bit",
   "language": "python",
   "name": "python3"
  },
  "language_info": {
   "codemirror_mode": {
    "name": "ipython",
    "version": 3
   },
   "file_extension": ".py",
   "mimetype": "text/x-python",
   "name": "python",
   "nbconvert_exporter": "python",
   "pygments_lexer": "ipython3",
   "version": "3.10.4"
  },
  "orig_nbformat": 4
 },
 "nbformat": 4,
 "nbformat_minor": 2
}
