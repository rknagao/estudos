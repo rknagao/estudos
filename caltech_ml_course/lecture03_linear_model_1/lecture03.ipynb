{
 "cells": [
  {
   "cell_type": "markdown",
   "metadata": {},
   "source": [
    "# Lecture 3 - Linear Problem"
   ]
  },
  {
   "cell_type": "code",
   "execution_count": 13,
   "metadata": {},
   "outputs": [],
   "source": [
    "import matplotlib.pyplot as plt\n",
    "import numpy as np\n",
    "import pandas as pd\n",
    "import seaborn as sns\n",
    "from sklearn.datasets import load_digits, make_regression\n",
    "from sklearn.linear_model import LogisticRegression\n",
    "from sklearn.metrics import accuracy_score, confusion_matrix\n",
    "from sklearn.model_selection import train_test_split"
   ]
  },
  {
   "cell_type": "markdown",
   "metadata": {},
   "source": [
    "## Classification: Image number problem"
   ]
  },
  {
   "cell_type": "markdown",
   "metadata": {},
   "source": [
    "**Objective:**\n",
    "to compare different approachs to a image classification problem: (1) considering every pixel as a variable and (2) reducing the dimensionality by aggregating the information in two features. "
   ]
  },
  {
   "cell_type": "code",
   "execution_count": 2,
   "metadata": {},
   "outputs": [
    {
     "data": {
      "text/plain": [
       "(1797, 64)"
      ]
     },
     "execution_count": 2,
     "metadata": {},
     "output_type": "execute_result"
    }
   ],
   "source": [
    "data = load_digits()\n",
    "data['data'].shape"
   ]
  },
  {
   "cell_type": "code",
   "execution_count": 3,
   "metadata": {},
   "outputs": [
    {
     "data": {
      "text/plain": [
       "(0,\n",
       " array([[ 0.,  0.,  5., 13.,  9.,  1.,  0.,  0.],\n",
       "        [ 0.,  0., 13., 15., 10., 15.,  5.,  0.],\n",
       "        [ 0.,  3., 15.,  2.,  0., 11.,  8.,  0.],\n",
       "        [ 0.,  4., 12.,  0.,  0.,  8.,  8.,  0.],\n",
       "        [ 0.,  5.,  8.,  0.,  0.,  9.,  8.,  0.],\n",
       "        [ 0.,  4., 11.,  0.,  1., 12.,  7.,  0.],\n",
       "        [ 0.,  2., 14.,  5., 10., 12.,  0.,  0.],\n",
       "        [ 0.,  0.,  6., 13., 10.,  0.,  0.,  0.]]))"
      ]
     },
     "execution_count": 3,
     "metadata": {},
     "output_type": "execute_result"
    }
   ],
   "source": [
    "data['target'][0], data['images'][0]"
   ]
  },
  {
   "cell_type": "code",
   "execution_count": 4,
   "metadata": {},
   "outputs": [
    {
     "data": {
      "text/plain": [
       "<AxesSubplot:>"
      ]
     },
     "execution_count": 4,
     "metadata": {},
     "output_type": "execute_result"
    },
    {
     "data": {
      "image/png": "[encoded data removed]",
      "text/plain": [
       "<Figure size 432x288 with 1 Axes>"
      ]
     },
     "metadata": {
      "needs_background": "light"
     },
     "output_type": "display_data"
    }
   ],
   "source": [
    "sns.heatmap(data['images'][0], cbar=False, cmap='gray_r')"
   ]
  },
  {
   "cell_type": "markdown",
   "metadata": {},
   "source": [
    "### Approach 1: every pixel is a variable"
   ]
  },
  {
   "cell_type": "markdown",
   "metadata": {},
   "source": [
    "Applying the approach of considering every pixel as a variable, and applying a classification algorith. To simplify things, let's compare only two numbers: 1 e 5"
   ]
  },
  {
   "cell_type": "code",
   "execution_count": 5,
   "metadata": {},
   "outputs": [
    {
     "name": "stdout",
     "output_type": "stream",
     "text": [
      "dataset size: 182\n"
     ]
    },
    {
     "data": {
      "image/png": "[encoded data removed]",
      "text/plain": [
       "<Figure size 432x288 with 1 Axes>"
      ]
     },
     "metadata": {
      "needs_background": "light"
     },
     "output_type": "display_data"
    },
    {
     "name": "stdout",
     "output_type": "stream",
     "text": [
      "dataset size: 182\n"
     ]
    },
    {
     "data": {
      "image/png": "[encoded data removed]",
      "text/plain": [
       "<Figure size 432x288 with 1 Axes>"
      ]
     },
     "metadata": {
      "needs_background": "light"
     },
     "output_type": "display_data"
    }
   ],
   "source": [
    "# Selecting the sample from dataset.\n",
    "\n",
    "def filtering_data(whole_data, number):\n",
    "    ''' Return only the specified number data from the original dataset. '''\n",
    "    index = whole_data['target'] == number\n",
    "    filtered_data = whole_data['data'][index]\n",
    "    figure_data = whole_data['images'][index]\n",
    "    \n",
    "    # Checking the result\n",
    "    print(f\"dataset size: {len(filtered_data)}\")\n",
    "    sns.heatmap(figure_data[0], cbar=False, cmap='gray_r')\n",
    "    plt.show()\n",
    "\n",
    "    return filtered_data, figure_data\n",
    "\n",
    "\n",
    "data1, image1 = filtering_data(data, 1)\n",
    "data5, image5 = filtering_data(data, 5)"
   ]
  },
  {
   "cell_type": "code",
   "execution_count": 6,
   "metadata": {},
   "outputs": [
    {
     "name": "stdout",
     "output_type": "stream",
     "text": [
      "(364, 64) (364,)\n",
      "(291, 64) (73, 64) (291,) (73,)\n"
     ]
    }
   ],
   "source": [
    "# Processing the sample before training the model.\n",
    "\n",
    "df_number1 = pd.DataFrame(data1)\n",
    "df_number1['target'] = 1\n",
    "\n",
    "df_number5 = pd.DataFrame(data5)\n",
    "df_number5['target'] = 5\n",
    "\n",
    "df = pd.concat([df_number1, df_number5], axis=0, ignore_index=True)\n",
    "X = df.loc[:, 0:63]\n",
    "y = df['target']\n",
    "print(X.shape, y.shape)\n",
    "\n",
    "X_train, X_test, y_train, y_test = train_test_split(X, y, test_size=0.2, random_state=42)\n",
    "print(X_train.shape, X_test.shape, y_train.shape, y_test.shape)"
   ]
  },
  {
   "cell_type": "code",
   "execution_count": 7,
   "metadata": {},
   "outputs": [
    {
     "name": "stdout",
     "output_type": "stream",
     "text": [
      "1.0\n",
      "[[37  0]\n",
      " [ 0 36]]\n"
     ]
    }
   ],
   "source": [
    "# Predicting and measuring the accuracy.\n",
    "model = LogisticRegression(random_state=42).fit(X_train, y_train)\n",
    "y_pred = model.predict(X_test)\n",
    "\n",
    "print(accuracy_score(y_test, y_pred))\n",
    "print(confusion_matrix(y_test, y_pred))"
   ]
  },
  {
   "cell_type": "code",
   "execution_count": 8,
   "metadata": {},
   "outputs": [
    {
     "name": "stdout",
     "output_type": "stream",
     "text": [
      "Predicted number: 5\n"
     ]
    },
    {
     "data": {
      "text/plain": [
       "<AxesSubplot:>"
      ]
     },
     "execution_count": 8,
     "metadata": {},
     "output_type": "execute_result"
    },
    {
     "data": {
      "image/png": "[encoded data removed]",
      "text/plain": [
       "<Figure size 432x288 with 1 Axes>"
      ]
     },
     "metadata": {
      "needs_background": "light"
     },
     "output_type": "display_data"
    }
   ],
   "source": [
    "print(f\"Predicted number: {y_pred[0]}\")\n",
    "sns.heatmap(np.array(df.loc[y_test.index[0], 0:63]).reshape(8, 8), cbar=False, cmap='gray_r')"
   ]
  },
  {
   "cell_type": "markdown",
   "metadata": {},
   "source": [
    "**Conclusion:**\n",
    "a regression logistic with every \"pixel\" as a variable had a good performance since it classified correclty the numbers 1 and 5 most of the times. This approach, however may not be applicable to most of the cenarios, since a high definitive image with a high quantity of variable increse exponentially the complexity of the model."
   ]
  },
  {
   "cell_type": "markdown",
   "metadata": {},
   "source": [
    "### Approach 2: aggregated intensity and simmetry"
   ]
  },
  {
   "cell_type": "markdown",
   "metadata": {},
   "source": [
    "In a more \"efficient\" approach, only 3 features will be used:\n",
    "1. image index\n",
    "2. average intensity of color\n",
    "3. average symmetry"
   ]
  },
  {
   "cell_type": "code",
   "execution_count": 9,
   "metadata": {},
   "outputs": [],
   "source": [
    "def image_decomposition(data):\n",
    "    \"\"\"\n",
    "    Obtain 3 features from an 8x8 matrix: location, intensity and symmetry. \n",
    "    \"\"\"\n",
    "    index_list = list(range(len(data1)))\n",
    "    intensity_list = []\n",
    "    symmetry_list = []\n",
    "    df = pd.DataFrame()\n",
    "    for i in data:\n",
    "\n",
    "        # Generating a custom intensity feature\n",
    "        intensity_list.append(i.sum())\n",
    "\n",
    "        # Generating a custom symmetry feature: \n",
    "        symmetry_v = abs(i - np.flip(i, 0)).sum()\n",
    "        symmetry_h = abs(i - np.flip(i, 1)).sum()\n",
    "        symmetry_list.append(symmetry_v + symmetry_h)\n",
    "\n",
    "    df = pd.DataFrame({'index':index_list, 'intensity':intensity_list, 'anti symmetry':symmetry_list})\n",
    "    return df"
   ]
  },
  {
   "cell_type": "code",
   "execution_count": 10,
   "metadata": {},
   "outputs": [
    {
     "data": {
      "text/html": [
       "<div>\n",
       "<style scoped>\n",
       "    .dataframe tbody tr th:only-of-type {\n",
       "        vertical-align: middle;\n",
       "    }\n",
       "\n",
       "    .dataframe tbody tr th {\n",
       "        vertical-align: top;\n",
       "    }\n",
       "\n",
       "    .dataframe thead th {\n",
       "        text-align: right;\n",
       "    }\n",
       "</style>\n",
       "<table border=\"1\" class=\"dataframe\">\n",
       "  <thead>\n",
       "    <tr style=\"text-align: right;\">\n",
       "      <th></th>\n",
       "      <th>index</th>\n",
       "      <th>intensity</th>\n",
       "      <th>anti symmetry</th>\n",
       "      <th>target</th>\n",
       "    </tr>\n",
       "  </thead>\n",
       "  <tbody>\n",
       "    <tr>\n",
       "      <th>205</th>\n",
       "      <td>23</td>\n",
       "      <td>310.0</td>\n",
       "      <td>464.0</td>\n",
       "      <td>5</td>\n",
       "    </tr>\n",
       "    <tr>\n",
       "      <th>324</th>\n",
       "      <td>142</td>\n",
       "      <td>297.0</td>\n",
       "      <td>648.0</td>\n",
       "      <td>5</td>\n",
       "    </tr>\n",
       "    <tr>\n",
       "      <th>325</th>\n",
       "      <td>143</td>\n",
       "      <td>286.0</td>\n",
       "      <td>504.0</td>\n",
       "      <td>5</td>\n",
       "    </tr>\n",
       "    <tr>\n",
       "      <th>34</th>\n",
       "      <td>34</td>\n",
       "      <td>280.0</td>\n",
       "      <td>452.0</td>\n",
       "      <td>1</td>\n",
       "    </tr>\n",
       "    <tr>\n",
       "      <th>31</th>\n",
       "      <td>31</td>\n",
       "      <td>326.0</td>\n",
       "      <td>420.0</td>\n",
       "      <td>1</td>\n",
       "    </tr>\n",
       "  </tbody>\n",
       "</table>\n",
       "</div>"
      ],
      "text/plain": [
       "     index  intensity  anti symmetry  target\n",
       "205     23      310.0          464.0       5\n",
       "324    142      297.0          648.0       5\n",
       "325    143      286.0          504.0       5\n",
       "34      34      280.0          452.0       1\n",
       "31      31      326.0          420.0       1"
      ]
     },
     "execution_count": 10,
     "metadata": {},
     "output_type": "execute_result"
    }
   ],
   "source": [
    "df1 = image_decomposition(image1)\n",
    "df1['target'] = 1\n",
    "\n",
    "df5 = image_decomposition(image5)\n",
    "df5['target'] = 5\n",
    "\n",
    "df = pd.concat([df1, df5], axis=0, ignore_index=True)\n",
    "df.sample(5)"
   ]
  },
  {
   "cell_type": "code",
   "execution_count": 11,
   "metadata": {},
   "outputs": [
    {
     "data": {
      "text/plain": [
       "<AxesSubplot:xlabel='intensity', ylabel='anti symmetry'>"
      ]
     },
     "execution_count": 11,
     "metadata": {},
     "output_type": "execute_result"
    },
    {
     "data": {
      "image/png": "[encoded data removed]",
      "text/plain": [
       "<Figure size 432x288 with 1 Axes>"
      ]
     },
     "metadata": {
      "needs_background": "light"
     },
     "output_type": "display_data"
    }
   ],
   "source": [
    "sns.scatterplot(data=df, x='intensity', y='anti symmetry', hue='target')\n",
    "#plt.ylim(reversed(plt.ylim()))"
   ]
  },
  {
   "cell_type": "code",
   "execution_count": 12,
   "metadata": {},
   "outputs": [
    {
     "name": "stdout",
     "output_type": "stream",
     "text": [
      "(364, 3) (364,)\n",
      "(291, 3) (73, 3) (291,) (73,)\n",
      "0.6164383561643836\n",
      "[[20 17]\n",
      " [11 25]]\n"
     ]
    }
   ],
   "source": [
    "X = df.drop(columns='target')\n",
    "y = df['target']\n",
    "print(X.shape, y.shape)\n",
    "\n",
    "X_train, X_test, y_train, y_test = train_test_split(X, y, test_size=0.2, random_state=42, stratify=y)\n",
    "print(X_train.shape, X_test.shape, y_train.shape, y_test.shape)\n",
    "\n",
    "# Predicting and measuring the accuracy.\n",
    "model = LogisticRegression(random_state=42).fit(X_train, y_train)\n",
    "y_pred = model.predict(X_test)\n",
    "\n",
    "print(accuracy_score(y_test, y_pred))\n",
    "print(confusion_matrix(y_test, y_pred))"
   ]
  },
  {
   "cell_type": "markdown",
   "metadata": {},
   "source": [
    "**Conclusion:**\n",
    "the model underperformed considerably when comparing with the previous approach, although the model became simpler. It is arguable that the perfomance was offset by the aggregation method, as the plot above shows the variables used were not relevant. Since the dataset in this notebook is not the same used in the lectures, diverging results are expected."
   ]
  },
  {
   "cell_type": "markdown",
   "metadata": {},
   "source": [
    "## Linear Regression: credit problem"
   ]
  },
  {
   "cell_type": "markdown",
   "metadata": {},
   "source": [
    "**Objective:**\n",
    "demonstrate the calculations of a matrix calculations of linear regression.\n",
    "\n",
    "<img src=\"img/linear-regression-matrix.PNG\" />"
   ]
  },
  {
   "cell_type": "code",
   "execution_count": 69,
   "metadata": {},
   "outputs": [
    {
     "name": "stdout",
     "output_type": "stream",
     "text": [
      "[ 7.87490733 48.7645258  43.43886449]\n"
     ]
    },
    {
     "data": {
      "text/html": [
       "<div>\n",
       "<style scoped>\n",
       "    .dataframe tbody tr th:only-of-type {\n",
       "        vertical-align: middle;\n",
       "    }\n",
       "\n",
       "    .dataframe tbody tr th {\n",
       "        vertical-align: top;\n",
       "    }\n",
       "\n",
       "    .dataframe thead th {\n",
       "        text-align: right;\n",
       "    }\n",
       "</style>\n",
       "<table border=\"1\" class=\"dataframe\">\n",
       "  <thead>\n",
       "    <tr style=\"text-align: right;\">\n",
       "      <th></th>\n",
       "      <th>x1</th>\n",
       "      <th>x2</th>\n",
       "      <th>x3</th>\n",
       "      <th>y</th>\n",
       "    </tr>\n",
       "  </thead>\n",
       "  <tbody>\n",
       "    <tr>\n",
       "      <th>0</th>\n",
       "      <td>1.279132</td>\n",
       "      <td>0.659736</td>\n",
       "      <td>-0.455381</td>\n",
       "      <td>23.463551</td>\n",
       "    </tr>\n",
       "    <tr>\n",
       "      <th>1</th>\n",
       "      <td>-0.484149</td>\n",
       "      <td>1.319828</td>\n",
       "      <td>1.445540</td>\n",
       "      <td>124.340762</td>\n",
       "    </tr>\n",
       "    <tr>\n",
       "      <th>2</th>\n",
       "      <td>1.239795</td>\n",
       "      <td>0.560636</td>\n",
       "      <td>-0.542817</td>\n",
       "      <td>14.523060</td>\n",
       "    </tr>\n",
       "    <tr>\n",
       "      <th>3</th>\n",
       "      <td>0.216783</td>\n",
       "      <td>0.507742</td>\n",
       "      <td>0.973072</td>\n",
       "      <td>69.736110</td>\n",
       "    </tr>\n",
       "    <tr>\n",
       "      <th>4</th>\n",
       "      <td>0.519476</td>\n",
       "      <td>-1.268750</td>\n",
       "      <td>0.240420</td>\n",
       "      <td>-46.335614</td>\n",
       "    </tr>\n",
       "    <tr>\n",
       "      <th>5</th>\n",
       "      <td>1.465789</td>\n",
       "      <td>-0.418927</td>\n",
       "      <td>1.466306</td>\n",
       "      <td>55.808853</td>\n",
       "    </tr>\n",
       "    <tr>\n",
       "      <th>6</th>\n",
       "      <td>0.051817</td>\n",
       "      <td>1.628679</td>\n",
       "      <td>-0.366000</td>\n",
       "      <td>64.931201</td>\n",
       "    </tr>\n",
       "    <tr>\n",
       "      <th>7</th>\n",
       "      <td>-0.356642</td>\n",
       "      <td>-0.788295</td>\n",
       "      <td>-0.232578</td>\n",
       "      <td>-50.352245</td>\n",
       "    </tr>\n",
       "    <tr>\n",
       "      <th>8</th>\n",
       "      <td>-0.803957</td>\n",
       "      <td>0.017344</td>\n",
       "      <td>0.394394</td>\n",
       "      <td>12.646707</td>\n",
       "    </tr>\n",
       "    <tr>\n",
       "      <th>9</th>\n",
       "      <td>-0.847501</td>\n",
       "      <td>-1.748253</td>\n",
       "      <td>0.808072</td>\n",
       "      <td>-55.824990</td>\n",
       "    </tr>\n",
       "  </tbody>\n",
       "</table>\n",
       "</div>"
      ],
      "text/plain": [
       "         x1        x2        x3           y\n",
       "0  1.279132  0.659736 -0.455381   23.463551\n",
       "1 -0.484149  1.319828  1.445540  124.340762\n",
       "2  1.239795  0.560636 -0.542817   14.523060\n",
       "3  0.216783  0.507742  0.973072   69.736110\n",
       "4  0.519476 -1.268750  0.240420  -46.335614\n",
       "5  1.465789 -0.418927  1.466306   55.808853\n",
       "6  0.051817  1.628679 -0.366000   64.931201\n",
       "7 -0.356642 -0.788295 -0.232578  -50.352245\n",
       "8 -0.803957  0.017344  0.394394   12.646707\n",
       "9 -0.847501 -1.748253  0.808072  -55.824990"
      ]
     },
     "execution_count": 69,
     "metadata": {},
     "output_type": "execute_result"
    }
   ],
   "source": [
    "# Creating the dummy dataset with bias.\n",
    "X, y, coef = make_regression(n_samples=10, n_features=3, n_informative=3, bias=1, coef=True, random_state=52)\n",
    "print(coef)\n",
    "\n",
    "df = pd.DataFrame(data=X, columns=['x1', 'x2', 'x3'])\n",
    "df['y'] = y\n",
    "df"
   ]
  },
  {
   "cell_type": "code",
   "execution_count": 70,
   "metadata": {},
   "outputs": [
    {
     "data": {
      "text/plain": [
       "22.463551327079134"
      ]
     },
     "execution_count": 70,
     "metadata": {},
     "output_type": "execute_result"
    }
   ],
   "source": [
    "# Checking the variables and coefficient.\n",
    "y_pred = df.loc[0, 'x1'] * coef[0] + df.loc[0, 'x2'] * coef[1] + df.loc[0, 'x3'] * coef[2]\n",
    "y_pred"
   ]
  },
  {
   "cell_type": "markdown",
   "metadata": {},
   "source": [
    "`y` and `y_pred` are close, and the small difference is because of the bias argument inserted during the creating of the dataset."
   ]
  },
  {
   "cell_type": "code",
   "execution_count": 64,
   "metadata": {},
   "outputs": [
    {
     "name": "stdout",
     "output_type": "stream",
     "text": [
      "(10, 3)\n"
     ]
    },
    {
     "data": {
      "text/plain": [
       "array([[ 1.27913226,  0.65973637, -0.45538088],\n",
       "       [-0.48414947,  1.31982782,  1.44554   ],\n",
       "       [ 1.23979542,  0.56063586, -0.54281703],\n",
       "       [ 0.21678252,  0.50774249,  0.97307206],\n",
       "       [ 0.51947584, -1.26875038,  0.24042003],\n",
       "       [ 1.46578903, -0.41892673,  1.4663059 ],\n",
       "       [ 0.05181732,  1.62867942, -0.36600024],\n",
       "       [-0.35664161, -0.78829462, -0.23257772],\n",
       "       [-0.80395743,  0.0173441 ,  0.39439383],\n",
       "       [-0.84750125, -1.74825258,  0.80807157]])"
      ]
     },
     "execution_count": 64,
     "metadata": {},
     "output_type": "execute_result"
    }
   ],
   "source": [
    "print(X.shape)\n",
    "X"
   ]
  },
  {
   "cell_type": "code",
   "execution_count": 65,
   "metadata": {},
   "outputs": [
    {
     "name": "stdout",
     "output_type": "stream",
     "text": [
      "(3, 10)\n"
     ]
    },
    {
     "data": {
      "text/plain": [
       "array([[ 1.27913226, -0.48414947,  1.23979542,  0.21678252,  0.51947584,\n",
       "         1.46578903,  0.05181732, -0.35664161, -0.80395743, -0.84750125],\n",
       "       [ 0.65973637,  1.31982782,  0.56063586,  0.50774249, -1.26875038,\n",
       "        -0.41892673,  1.62867942, -0.78829462,  0.0173441 , -1.74825258],\n",
       "       [-0.45538088,  1.44554   , -0.54281703,  0.97307206,  0.24042003,\n",
       "         1.4663059 , -0.36600024, -0.23257772,  0.39439383,  0.80807157]])"
      ]
     },
     "execution_count": 65,
     "metadata": {},
     "output_type": "execute_result"
    }
   ],
   "source": [
    "print(X.T.shape)\n",
    "X.T"
   ]
  },
  {
   "cell_type": "code",
   "execution_count": 66,
   "metadata": {},
   "outputs": [
    {
     "name": "stdout",
     "output_type": "stream",
     "text": [
      "(3, 10)\n"
     ]
    },
    {
     "data": {
      "text/plain": [
       "array([[ 0.16375865, -0.08572008,  0.1596996 ,  0.0259435 ,  0.09932746,\n",
       "         0.2222812 , -0.02703341, -0.0357692 , -0.11084718, -0.0796728 ],\n",
       "       [ 0.03245811,  0.15383088,  0.02266143,  0.05629285, -0.12907688,\n",
       "        -0.05130472,  0.15078493, -0.07141972,  0.02236839, -0.14113609],\n",
       "       [-0.05309431,  0.23065309, -0.06767394,  0.15373466,  0.02365878,\n",
       "         0.22375533, -0.03487834, -0.04662159,  0.05490161,  0.09532675]])"
      ]
     },
     "execution_count": 66,
     "metadata": {},
     "output_type": "execute_result"
    }
   ],
   "source": [
    "X_dagger = np.matmul(np.linalg.inv(np.matmul(X.T, X)), X.T)\n",
    "print(X_dagger.shape)\n",
    "X_dagger"
   ]
  },
  {
   "cell_type": "code",
   "execution_count": 67,
   "metadata": {},
   "outputs": [
    {
     "name": "stdout",
     "output_type": "stream",
     "text": [
      "(3,)\n"
     ]
    },
    {
     "data": {
      "text/plain": [
       "array([ 8.20687507, 48.80998499, 44.01862652])"
      ]
     },
     "execution_count": 67,
     "metadata": {},
     "output_type": "execute_result"
    }
   ],
   "source": [
    "# The coefficients resulted from the matrix calculations.\n",
    "w = np.matmul(X_dagger, y)\n",
    "print(w.shape)\n",
    "w"
   ]
  },
  {
   "cell_type": "code",
   "execution_count": 68,
   "metadata": {},
   "outputs": [
    {
     "data": {
      "text/plain": [
       "array([ 7.87490733, 48.7645258 , 43.43886449])"
      ]
     },
     "execution_count": 68,
     "metadata": {},
     "output_type": "execute_result"
    }
   ],
   "source": [
    "# The real coefficients used when creating the dataset.\n",
    "coef"
   ]
  },
  {
   "cell_type": "markdown",
   "metadata": {},
   "source": [
    "**Conclusion:**\n",
    "the matrix calculations were able to estimate the coefficients based on the variables and the target. Since the dummy datset were created with bias, the estimate was not perfect, although it minimized the erros between prediction and target."
   ]
  }
 ],
 "metadata": {
  "kernelspec": {
   "display_name": "Python 3.10.4 64-bit",
   "language": "python",
   "name": "python3"
  },
  "language_info": {
   "codemirror_mode": {
    "name": "ipython",
    "version": 3
   },
   "file_extension": ".py",
   "mimetype": "text/x-python",
   "name": "python",
   "nbconvert_exporter": "python",
   "pygments_lexer": "ipython3",
   "version": "3.10.4"
  },
  "orig_nbformat": 4,
  "vscode": {
   "interpreter": {
    "hash": "7d7662bde5678ddf41fb482e2cda39dd85fc62406be2c88b1ebdc7b78e575873"
   }
  }
 },
 "nbformat": 4,
 "nbformat_minor": 2
}
