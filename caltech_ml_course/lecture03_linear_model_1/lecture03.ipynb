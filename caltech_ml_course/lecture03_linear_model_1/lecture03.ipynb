{
 "cells": [
  {
   "cell_type": "markdown",
   "metadata": {},
   "source": [
    "# Lecture 3 - Linear Problem"
   ]
  },
  {
   "cell_type": "code",
   "execution_count": 1,
   "metadata": {},
   "outputs": [],
   "source": [
    "import matplotlib.pyplot as plt\n",
    "import numpy as np\n",
    "import pandas as pd\n",
    "import seaborn as sns\n",
    "from sklearn.datasets import load_digits\n",
    "from sklearn.linear_model import LogisticRegression\n",
    "from sklearn.metrics import accuracy_score, confusion_matrix\n",
    "from sklearn.model_selection import train_test_split"
   ]
  },
  {
   "cell_type": "markdown",
   "metadata": {},
   "source": [
    "## Image number problem"
   ]
  },
  {
   "cell_type": "markdown",
   "metadata": {},
   "source": [
    "- brute force: do a linear regression with every pixel (256 total) being a variable \n",
    "- smart: use 3 variables (pixel, intensity and symmetry)\n",
    "- lpa: show the data is not linearly separably by lpa\n",
    "- pocket lpa: apply lpa and keep only the best score \"in your pocket\""
   ]
  },
  {
   "cell_type": "code",
   "execution_count": 11,
   "metadata": {},
   "outputs": [
    {
     "data": {
      "text/plain": [
       "(1797, 64)"
      ]
     },
     "execution_count": 11,
     "metadata": {},
     "output_type": "execute_result"
    }
   ],
   "source": [
    "data = load_digits()\n",
    "data['data'].shape"
   ]
  },
  {
   "cell_type": "code",
   "execution_count": 12,
   "metadata": {},
   "outputs": [
    {
     "data": {
      "text/plain": [
       "(0,\n",
       " array([[ 0.,  0.,  5., 13.,  9.,  1.,  0.,  0.],\n",
       "        [ 0.,  0., 13., 15., 10., 15.,  5.,  0.],\n",
       "        [ 0.,  3., 15.,  2.,  0., 11.,  8.,  0.],\n",
       "        [ 0.,  4., 12.,  0.,  0.,  8.,  8.,  0.],\n",
       "        [ 0.,  5.,  8.,  0.,  0.,  9.,  8.,  0.],\n",
       "        [ 0.,  4., 11.,  0.,  1., 12.,  7.,  0.],\n",
       "        [ 0.,  2., 14.,  5., 10., 12.,  0.,  0.],\n",
       "        [ 0.,  0.,  6., 13., 10.,  0.,  0.,  0.]]))"
      ]
     },
     "execution_count": 12,
     "metadata": {},
     "output_type": "execute_result"
    }
   ],
   "source": [
    "data['target'][0], data['images'][0]"
   ]
  },
  {
   "cell_type": "code",
   "execution_count": 13,
   "metadata": {},
   "outputs": [
    {
     "data": {
      "text/plain": [
       "<AxesSubplot:>"
      ]
     },
     "execution_count": 13,
     "metadata": {},
     "output_type": "execute_result"
    },
    {
     "data": {
      "image/png": "[encoded data removed]",
      "text/plain": [
       "<Figure size 432x288 with 1 Axes>"
      ]
     },
     "metadata": {
      "needs_background": "light"
     },
     "output_type": "display_data"
    }
   ],
   "source": [
    "sns.heatmap(data['images'][0], cbar=False, cmap='gray_r')"
   ]
  },
  {
   "cell_type": "markdown",
   "metadata": {},
   "source": [
    "### The \"wrong\" way"
   ]
  },
  {
   "cell_type": "markdown",
   "metadata": {},
   "source": [
    "Applying the approach of considering every pixel as a variable, and applying a classification algorith. To simplify things, let's compare only two numbers: 1 e 5"
   ]
  },
  {
   "cell_type": "code",
   "execution_count": 14,
   "metadata": {},
   "outputs": [
    {
     "name": "stdout",
     "output_type": "stream",
     "text": [
      "dataset size: 182\n"
     ]
    },
    {
     "data": {
      "image/png": "[encoded data removed]",
      "text/plain": [
       "<Figure size 432x288 with 1 Axes>"
      ]
     },
     "metadata": {
      "needs_background": "light"
     },
     "output_type": "display_data"
    },
    {
     "name": "stdout",
     "output_type": "stream",
     "text": [
      "dataset size: 182\n"
     ]
    },
    {
     "data": {
      "image/png": "[encoded data removed]",
      "text/plain": [
       "<Figure size 432x288 with 1 Axes>"
      ]
     },
     "metadata": {
      "needs_background": "light"
     },
     "output_type": "display_data"
    }
   ],
   "source": [
    "# Selecting the sample from dataset.\n",
    "\n",
    "def filtering_data(whole_data, number):\n",
    "    ''' Return only the specified number data from the original dataset. '''\n",
    "    index = whole_data['target'] == number\n",
    "    filtered_data = whole_data['data'][index]\n",
    "    figure_data = whole_data['images'][index]\n",
    "    \n",
    "    # Checking the result\n",
    "    print(f\"dataset size: {len(filtered_data)}\")\n",
    "    sns.heatmap(figure_data[0], cbar=False, cmap='gray_r')\n",
    "    plt.show()\n",
    "\n",
    "    return filtered_data, figure_data\n",
    "\n",
    "\n",
    "data1, image1 = filtering_data(data, 1)\n",
    "data5, image5 = filtering_data(data, 5)"
   ]
  },
  {
   "cell_type": "code",
   "execution_count": 15,
   "metadata": {},
   "outputs": [
    {
     "name": "stdout",
     "output_type": "stream",
     "text": [
      "(364, 64) (364,)\n",
      "(291, 64) (73, 64) (291,) (73,)\n"
     ]
    }
   ],
   "source": [
    "# Processing the sample before training the model.\n",
    "\n",
    "df_number1 = pd.DataFrame(data1)\n",
    "df_number1['target'] = 1\n",
    "\n",
    "df_number5 = pd.DataFrame(data5)\n",
    "df_number5['target'] = 5\n",
    "\n",
    "df = pd.concat([df_number1, df_number5], axis=0, ignore_index=True)\n",
    "X = df.loc[:, 0:63]\n",
    "y = df['target']\n",
    "print(X.shape, y.shape)\n",
    "\n",
    "X_train, X_test, y_train, y_test = train_test_split(X, y, test_size=0.2, random_state=42)\n",
    "print(X_train.shape, X_test.shape, y_train.shape, y_test.shape)"
   ]
  },
  {
   "cell_type": "code",
   "execution_count": 16,
   "metadata": {},
   "outputs": [
    {
     "name": "stdout",
     "output_type": "stream",
     "text": [
      "1.0\n",
      "[[37  0]\n",
      " [ 0 36]]\n"
     ]
    }
   ],
   "source": [
    "# Predicting and measuring the accuracy.\n",
    "model = LogisticRegression(random_state=42).fit(X_train, y_train)\n",
    "y_pred = model.predict(X_test)\n",
    "\n",
    "print(accuracy_score(y_test, y_pred))\n",
    "print(confusion_matrix(y_test, y_pred))"
   ]
  },
  {
   "cell_type": "code",
   "execution_count": 17,
   "metadata": {},
   "outputs": [
    {
     "name": "stdout",
     "output_type": "stream",
     "text": [
      "Predicted number: 5\n"
     ]
    },
    {
     "data": {
      "text/plain": [
       "<AxesSubplot:>"
      ]
     },
     "execution_count": 17,
     "metadata": {},
     "output_type": "execute_result"
    },
    {
     "data": {
      "image/png": "[encoded data removed]",
      "text/plain": [
       "<Figure size 432x288 with 1 Axes>"
      ]
     },
     "metadata": {
      "needs_background": "light"
     },
     "output_type": "display_data"
    }
   ],
   "source": [
    "print(f\"Predicted number: {y_pred[0]}\")\n",
    "sns.heatmap(np.array(df.loc[y_test.index[0], 0:63]).reshape(8, 8), cbar=False, cmap='gray_r')"
   ]
  },
  {
   "cell_type": "markdown",
   "metadata": {},
   "source": [
    "**Conclusion:**\n",
    "the model classified correctly the numbers 1 and 5. Curiosly, it didn't exactly confirmed our hypothesis that using every pixel as a variable was a bad way of doing things, but it certainly doesn't prove it is the better way."
   ]
  },
  {
   "cell_type": "markdown",
   "metadata": {},
   "source": [
    "### The \"right\" way"
   ]
  },
  {
   "cell_type": "markdown",
   "metadata": {},
   "source": [
    "In a more \"efficient\" approach, only 3 features will be used:\n",
    "1. image index\n",
    "2. average intensity of color\n",
    "3. average simetry"
   ]
  },
  {
   "cell_type": "code",
   "execution_count": 200,
   "metadata": {},
   "outputs": [],
   "source": [
    "def image_decomposition(data):\n",
    "    \"\"\"\n",
    "    Obtain 3 features from an 8x8 matrix: location, intensity and simetry. \n",
    "    \"\"\"\n",
    "    index_list = list(range(len(data1)))\n",
    "    intensity_list = []\n",
    "    simetry_list = []\n",
    "    df = pd.DataFrame()\n",
    "    for i in data:\n",
    "        intensity_list.append(i.mean())\n",
    "        #simetry_transpose_score = (i - np.resize(np.resize(i, (8, 8)).T, (1, len(i)))).mean()\n",
    "        simetry_vertical = i - np.resize(np.flip(np.resize(i, (8, 8)), 0), (1, len(i)))\n",
    "        simetry_horizontal = i - np.resize(np.flip(np.resize(i, (8, 8)), 1), (1, len(i)))\n",
    "        simetry_score = (abs(simetry_vertical) + abs(simetry_horizontal)).mean()\n",
    "        simetry_list.append(simetry_score)\n",
    "\n",
    "    df = pd.DataFrame({'index':index_list, 'intensity':intensity_list, 'simetry':simetry_list})\n",
    "    return df"
   ]
  },
  {
   "cell_type": "code",
   "execution_count": 201,
   "metadata": {},
   "outputs": [
    {
     "data": {
      "text/html": [
       "<div>\n",
       "<style scoped>\n",
       "    .dataframe tbody tr th:only-of-type {\n",
       "        vertical-align: middle;\n",
       "    }\n",
       "\n",
       "    .dataframe tbody tr th {\n",
       "        vertical-align: top;\n",
       "    }\n",
       "\n",
       "    .dataframe thead th {\n",
       "        text-align: right;\n",
       "    }\n",
       "</style>\n",
       "<table border=\"1\" class=\"dataframe\">\n",
       "  <thead>\n",
       "    <tr style=\"text-align: right;\">\n",
       "      <th></th>\n",
       "      <th>index</th>\n",
       "      <th>intensity</th>\n",
       "      <th>simetry</th>\n",
       "      <th>target</th>\n",
       "    </tr>\n",
       "  </thead>\n",
       "  <tbody>\n",
       "    <tr>\n",
       "      <th>359</th>\n",
       "      <td>177</td>\n",
       "      <td>4.71875</td>\n",
       "      <td>7.250</td>\n",
       "      <td>5</td>\n",
       "    </tr>\n",
       "    <tr>\n",
       "      <th>85</th>\n",
       "      <td>85</td>\n",
       "      <td>5.68750</td>\n",
       "      <td>5.000</td>\n",
       "      <td>1</td>\n",
       "    </tr>\n",
       "    <tr>\n",
       "      <th>43</th>\n",
       "      <td>43</td>\n",
       "      <td>4.87500</td>\n",
       "      <td>6.875</td>\n",
       "      <td>1</td>\n",
       "    </tr>\n",
       "  </tbody>\n",
       "</table>\n",
       "</div>"
      ],
      "text/plain": [
       "     index  intensity  simetry  target\n",
       "359    177    4.71875    7.250       5\n",
       "85      85    5.68750    5.000       1\n",
       "43      43    4.87500    6.875       1"
      ]
     },
     "execution_count": 201,
     "metadata": {},
     "output_type": "execute_result"
    }
   ],
   "source": [
    "df1 = image_decomposition(data1)\n",
    "df1['target'] = 1\n",
    "\n",
    "df5 = image_decomposition(data5)\n",
    "df5['target'] = 5\n",
    "\n",
    "df = pd.concat([df1, df5], axis=0, ignore_index=True)\n",
    "df.sample(3)"
   ]
  },
  {
   "cell_type": "code",
   "execution_count": 115,
   "metadata": {},
   "outputs": [
    {
     "name": "stdout",
     "output_type": "stream",
     "text": [
      "(23296, 3) (23296,)\n",
      "(18636, 3) (4660, 3) (18636,) (4660,)\n",
      "0.4978540772532189\n",
      "[[1053 1277]\n",
      " [1063 1267]]\n"
     ]
    }
   ],
   "source": [
    "X = df.drop(columns='target')\n",
    "y = df['target']\n",
    "print(X.shape, y.shape)\n",
    "\n",
    "X_train, X_test, y_train, y_test = train_test_split(X, y, test_size=0.2, random_state=42, stratify=y)\n",
    "print(X_train.shape, X_test.shape, y_train.shape, y_test.shape)\n",
    "\n",
    "# Predicting and measuring the accuracy.\n",
    "model = LogisticRegression(random_state=42).fit(X_train, y_train)\n",
    "y_pred = model.predict(X_test)\n",
    "\n",
    "print(accuracy_score(y_test, y_pred))\n",
    "print(confusion_matrix(y_test, y_pred))"
   ]
  }
 ],
 "metadata": {
  "kernelspec": {
   "display_name": "Python 3.10.4 64-bit",
   "language": "python",
   "name": "python3"
  },
  "language_info": {
   "codemirror_mode": {
    "name": "ipython",
    "version": 3
   },
   "file_extension": ".py",
   "mimetype": "text/x-python",
   "name": "python",
   "nbconvert_exporter": "python",
   "pygments_lexer": "ipython3",
   "version": "3.10.4"
  },
  "orig_nbformat": 4,
  "vscode": {
   "interpreter": {
    "hash": "7d7662bde5678ddf41fb482e2cda39dd85fc62406be2c88b1ebdc7b78e575873"
   }
  }
 },
 "nbformat": 4,
 "nbformat_minor": 2
}
