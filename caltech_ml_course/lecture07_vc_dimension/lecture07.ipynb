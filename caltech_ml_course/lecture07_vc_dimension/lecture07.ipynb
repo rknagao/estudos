{
 "cells": [
  {
   "cell_type": "markdown",
   "metadata": {},
   "source": [
    "# Lecture 7 - The VC Dimensions"
   ]
  },
  {
   "cell_type": "code",
   "execution_count": 12,
   "metadata": {},
   "outputs": [],
   "source": [
    "import pandas as pd\n",
    "import numpy as np"
   ]
  },
  {
   "cell_type": "markdown",
   "metadata": {},
   "source": [
    "## Proving $d_{vc} = d +1$"
   ]
  },
  {
   "cell_type": "markdown",
   "metadata": {},
   "source": [
    "### Step 1: proving $d_{vc} \\geq d + 1$"
   ]
  },
  {
   "cell_type": "markdown",
   "metadata": {},
   "source": [
    "Picking a set of $N = d + 1$ shattered points, as seen in the lecture.\n",
    "\n",
    "<div>\n",
    "<img src=\"img/dvc-break-point-formula.PNG\" width=\"800\"/>\n",
    "<div>"
   ]
  },
  {
   "cell_type": "code",
   "execution_count": 13,
   "metadata": {},
   "outputs": [],
   "source": [
    "X = np.array([[1, 0, 0, 0, 0],\n",
    "              [1, 1, 0, 0, 0],\n",
    "              [1, 0, 1, 0, 0],\n",
    "              [1, 0, 0, 1, 0],\n",
    "              [1, 0, 0, 0, 1]])"
   ]
  },
  {
   "cell_type": "markdown",
   "metadata": {},
   "source": [
    "Defining a specific dichotomy `y`"
   ]
  },
  {
   "cell_type": "code",
   "execution_count": 14,
   "metadata": {},
   "outputs": [],
   "source": [
    "y = np.array([[1],\n",
    "              [-1],\n",
    "              [1],\n",
    "              [1],\n",
    "              [-1]])"
   ]
  },
  {
   "cell_type": "markdown",
   "metadata": {},
   "source": [
    "Their relationship is $sign(Xw) = y$, which is the same as $w = X^{-1}y$\n",
    "\n",
    "*obs: sign is a simple function that returns the signal of the number (-1 if negative and +1 if positive)*"
   ]
  },
  {
   "cell_type": "code",
   "execution_count": 15,
   "metadata": {},
   "outputs": [
    {
     "name": "stdout",
     "output_type": "stream",
     "text": [
      "[[ 1.]\n",
      " [-2.]\n",
      " [ 0.]\n",
      " [ 0.]\n",
      " [-2.]]\n"
     ]
    }
   ],
   "source": [
    "X_inv = np.linalg.inv(X)\n",
    "\n",
    "w = np.matmul(X_inv, y)\n",
    "print(w)\n",
    "\n",
    "assert all(np.matmul(X, w) == y)"
   ]
  },
  {
   "cell_type": "markdown",
   "metadata": {},
   "source": [
    "We found `w = [1, -2, 0, 0, -2]` which satisfies the single dichotomy `y = [1, -1, 1, 1, -1]`. To prove $d_{vc} \\geq d + 1$ though, it is necessary to find all possible Y dichotomies."
   ]
  },
  {
   "cell_type": "code",
   "execution_count": 18,
   "metadata": {},
   "outputs": [
    {
     "data": {
      "text/plain": [
       "array([[-1, -1, -1, -1, -1],\n",
       "       [-1, -1, -1, -1,  1],\n",
       "       [-1, -1, -1,  1, -1],\n",
       "       [-1, -1, -1,  1,  1],\n",
       "       [-1, -1,  1, -1, -1]], dtype=int64)"
      ]
     },
     "execution_count": 18,
     "metadata": {},
     "output_type": "execute_result"
    }
   ],
   "source": [
    "def create_all_y(d):\n",
    "    \"\"\"\n",
    "    To create all possible binaries arrays with a input d.\n",
    "    \"\"\"\n",
    "\n",
    "    df_left = pd.DataFrame()\n",
    "    df_left['d1'] = [-1, 1]\n",
    "\n",
    "    for i in range(2, d+1, 1):\n",
    "        df_right = pd.DataFrame()\n",
    "        df_right['d1'] = [-1, -1, 1, 1] \n",
    "        df_right[f'd{i}'] = [-1, 1, -1, 1]\n",
    "\n",
    "        df_left = pd.merge(df_left, df_right, on='d1', how='left')\n",
    "\n",
    "    all_y = df_left.to_numpy()\n",
    "\n",
    "    return all_y\n",
    "\n",
    "\n",
    "all_y = create_all_y(d=5)\n",
    "all_y[:5]"
   ]
  },
  {
   "cell_type": "code",
   "execution_count": 20,
   "metadata": {},
   "outputs": [
    {
     "name": "stdout",
     "output_type": "stream",
     "text": [
      "Round 1: for y = [-1 -1 -1 -1 -1], w = [-1.  0.  0.  0.  0.]\n",
      "Round 2: for y = [-1 -1 -1 -1  1], w = [-1.  0.  0.  0.  2.]\n",
      "Round 3: for y = [-1 -1 -1  1 -1], w = [-1.  0.  0.  2.  0.]\n",
      "Round 4: for y = [-1 -1 -1  1  1], w = [-1.  0.  0.  2.  2.]\n",
      "Round 5: for y = [-1 -1  1 -1 -1], w = [-1.  0.  2.  0.  0.]\n",
      "Round 6: for y = [-1 -1  1 -1  1], w = [-1.  0.  2.  0.  2.]\n",
      "Round 7: for y = [-1 -1  1  1 -1], w = [-1.  0.  2.  2.  0.]\n",
      "Round 8: for y = [-1 -1  1  1  1], w = [-1.  0.  2.  2.  2.]\n",
      "Round 9: for y = [-1  1 -1 -1 -1], w = [-1.  2.  0.  0.  0.]\n",
      "Round 10: for y = [-1  1 -1 -1  1], w = [-1.  2.  0.  0.  2.]\n",
      "Round 11: for y = [-1  1 -1  1 -1], w = [-1.  2.  0.  2.  0.]\n",
      "Round 12: for y = [-1  1 -1  1  1], w = [-1.  2.  0.  2.  2.]\n",
      "Round 13: for y = [-1  1  1 -1 -1], w = [-1.  2.  2.  0.  0.]\n",
      "Round 14: for y = [-1  1  1 -1  1], w = [-1.  2.  2.  0.  2.]\n",
      "Round 15: for y = [-1  1  1  1 -1], w = [-1.  2.  2.  2.  0.]\n",
      "Round 16: for y = [-1  1  1  1  1], w = [-1.  2.  2.  2.  2.]\n",
      "Round 17: for y = [ 1 -1 -1 -1 -1], w = [ 1. -2. -2. -2. -2.]\n",
      "Round 18: for y = [ 1 -1 -1 -1  1], w = [ 1. -2. -2. -2.  0.]\n",
      "Round 19: for y = [ 1 -1 -1  1 -1], w = [ 1. -2. -2.  0. -2.]\n",
      "Round 20: for y = [ 1 -1 -1  1  1], w = [ 1. -2. -2.  0.  0.]\n",
      "Round 21: for y = [ 1 -1  1 -1 -1], w = [ 1. -2.  0. -2. -2.]\n",
      "Round 22: for y = [ 1 -1  1 -1  1], w = [ 1. -2.  0. -2.  0.]\n",
      "Round 23: for y = [ 1 -1  1  1 -1], w = [ 1. -2.  0.  0. -2.]\n",
      "Round 24: for y = [ 1 -1  1  1  1], w = [ 1. -2.  0.  0.  0.]\n",
      "Round 25: for y = [ 1  1 -1 -1 -1], w = [ 1.  0. -2. -2. -2.]\n",
      "Round 26: for y = [ 1  1 -1 -1  1], w = [ 1.  0. -2. -2.  0.]\n",
      "Round 27: for y = [ 1  1 -1  1 -1], w = [ 1.  0. -2.  0. -2.]\n",
      "Round 28: for y = [ 1  1 -1  1  1], w = [ 1.  0. -2.  0.  0.]\n",
      "Round 29: for y = [ 1  1  1 -1 -1], w = [ 1.  0.  0. -2. -2.]\n",
      "Round 30: for y = [ 1  1  1 -1  1], w = [ 1.  0.  0. -2.  0.]\n",
      "Round 31: for y = [ 1  1  1  1 -1], w = [ 1.  0.  0.  0. -2.]\n",
      "Round 32: for y = [1 1 1 1 1], w = [1. 0. 0. 0. 0.]\n"
     ]
    }
   ],
   "source": [
    "for i in range(len(all_y)):\n",
    "    print(f'Round {i+1}: for y = {all_y[i]}, w = {np.matmul(X_inv, all_y[i].reshape(5,1)).T[0]}')"
   ]
  },
  {
   "cell_type": "markdown",
   "metadata": {},
   "source": [
    "### Step 2: proving $d_{vc} \\leq d + 1$"
   ]
  },
  {
   "cell_type": "markdown",
   "metadata": {},
   "source": [
    "Taking any $d+2$ points, it is inevitable that at least one of the points is a linear combination of the others. \n",
    "\n",
    "\n",
    "> **Question:** why the added coordinate (i.e. the 1 in $d_{vc} = d + 1$) are not considered a linear combination, thus invalidating the whole experiment?"
   ]
  },
  {
   "cell_type": "code",
   "execution_count": null,
   "metadata": {},
   "outputs": [],
   "source": []
  }
 ],
 "metadata": {
  "kernelspec": {
   "display_name": "Python 3.10.4 64-bit",
   "language": "python",
   "name": "python3"
  },
  "language_info": {
   "codemirror_mode": {
    "name": "ipython",
    "version": 3
   },
   "file_extension": ".py",
   "mimetype": "text/x-python",
   "name": "python",
   "nbconvert_exporter": "python",
   "pygments_lexer": "ipython3",
   "version": "3.10.4"
  },
  "orig_nbformat": 4,
  "vscode": {
   "interpreter": {
    "hash": "7d7662bde5678ddf41fb482e2cda39dd85fc62406be2c88b1ebdc7b78e575873"
   }
  }
 },
 "nbformat": 4,
 "nbformat_minor": 2
}
