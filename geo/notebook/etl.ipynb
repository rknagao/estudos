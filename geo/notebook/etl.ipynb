{
 "cells": [
  {
   "cell_type": "markdown",
   "metadata": {},
   "source": [
    "# Transform Data from Google Maps Platform"
   ]
  },
  {
   "cell_type": "markdown",
   "metadata": {},
   "source": [
    "GoogleMapPlatform (or GoogleMaps) allows its users to extract their own geolocation data collected through the years. This notebook uses the author's personal data, but you should be able to extract your own data on link below: \n",
    "\n",
    "> https://myaccount.google.com/yourdata/maps"
   ]
  },
  {
   "cell_type": "code",
   "execution_count": 38,
   "metadata": {},
   "outputs": [],
   "source": [
    "import numpy as np\n",
    "import pandas as pd\n",
    "import json\n",
    "from tqdm import tqdm"
   ]
  },
  {
   "cell_type": "code",
   "execution_count": 39,
   "metadata": {},
   "outputs": [],
   "source": [
    "path_in = '../data/raw/Records.json'\n",
    "read = open(path_in, 'r')\n",
    "data = json.load(read)"
   ]
  },
  {
   "cell_type": "markdown",
   "metadata": {},
   "source": [
    "## Overview of Raw Data"
   ]
  },
  {
   "cell_type": "code",
   "execution_count": 40,
   "metadata": {},
   "outputs": [
    {
     "data": {
      "text/plain": [
       "{'latitudeE7': -235822740,\n",
       " 'longitudeE7': -466856661,\n",
       " 'accuracy': 67,\n",
       " 'activity': [{'activity': [{'type': 'STILL', 'confidence': 62},\n",
       "    {'type': 'IN_VEHICLE', 'confidence': 31},\n",
       "    {'type': 'ON_FOOT', 'confidence': 8},\n",
       "    {'type': 'WALKING', 'confidence': 8}],\n",
       "   'timestamp': '2016-06-21T21:02:53.977Z'}],\n",
       " 'source': 'WIFI',\n",
       " 'deviceTag': -1740635755,\n",
       " 'timestamp': '2016-06-21T21:02:54.337Z'}"
      ]
     },
     "execution_count": 40,
     "metadata": {},
     "output_type": "execute_result"
    }
   ],
   "source": [
    "data['locations'][0]"
   ]
  },
  {
   "cell_type": "markdown",
   "metadata": {},
   "source": [
    "A few questions:\n",
    "1. How many data points are available?\n",
    "2. How are they distributed through the time?\n"
   ]
  },
  {
   "cell_type": "code",
   "execution_count": 41,
   "metadata": {},
   "outputs": [
    {
     "data": {
      "text/plain": [
       "430498"
      ]
     },
     "execution_count": 41,
     "metadata": {},
     "output_type": "execute_result"
    }
   ],
   "source": [
    "len(data['locations'])"
   ]
  },
  {
   "cell_type": "code",
   "execution_count": 42,
   "metadata": {},
   "outputs": [
    {
     "name": "stderr",
     "output_type": "stream",
     "text": [
      "100%|██████████| 430498/430498 [00:00<00:00, 3499993.18it/s]\n"
     ]
    }
   ],
   "source": [
    "list_date = []\n",
    "\n",
    "for i in tqdm(range(len(data['locations']))):\n",
    "    list_date.append(data['locations'][i]['timestamp'])    "
   ]
  },
  {
   "cell_type": "code",
   "execution_count": 43,
   "metadata": {},
   "outputs": [
    {
     "data": {
      "text/html": [
       "<div>\n",
       "<style scoped>\n",
       "    .dataframe tbody tr th:only-of-type {\n",
       "        vertical-align: middle;\n",
       "    }\n",
       "\n",
       "    .dataframe tbody tr th {\n",
       "        vertical-align: top;\n",
       "    }\n",
       "\n",
       "    .dataframe thead th {\n",
       "        text-align: right;\n",
       "    }\n",
       "</style>\n",
       "<table border=\"1\" class=\"dataframe\">\n",
       "  <thead>\n",
       "    <tr style=\"text-align: right;\">\n",
       "      <th></th>\n",
       "      <th>date</th>\n",
       "      <th>year</th>\n",
       "    </tr>\n",
       "  </thead>\n",
       "  <tbody>\n",
       "    <tr>\n",
       "      <th>0</th>\n",
       "      <td>2016-06-21 21:02:54</td>\n",
       "      <td>2016</td>\n",
       "    </tr>\n",
       "    <tr>\n",
       "      <th>1</th>\n",
       "      <td>2016-06-21 21:05:08</td>\n",
       "      <td>2016</td>\n",
       "    </tr>\n",
       "    <tr>\n",
       "      <th>2</th>\n",
       "      <td>2016-06-21 21:07:17</td>\n",
       "      <td>2016</td>\n",
       "    </tr>\n",
       "    <tr>\n",
       "      <th>3</th>\n",
       "      <td>2016-06-21 21:07:44</td>\n",
       "      <td>2016</td>\n",
       "    </tr>\n",
       "    <tr>\n",
       "      <th>4</th>\n",
       "      <td>2016-06-21 21:08:59</td>\n",
       "      <td>2016</td>\n",
       "    </tr>\n",
       "  </tbody>\n",
       "</table>\n",
       "</div>"
      ],
      "text/plain": [
       "                 date  year\n",
       "0 2016-06-21 21:02:54  2016\n",
       "1 2016-06-21 21:05:08  2016\n",
       "2 2016-06-21 21:07:17  2016\n",
       "3 2016-06-21 21:07:44  2016\n",
       "4 2016-06-21 21:08:59  2016"
      ]
     },
     "execution_count": 43,
     "metadata": {},
     "output_type": "execute_result"
    }
   ],
   "source": [
    "df = pd.DataFrame(list_date, columns=['date'])\n",
    "df['date'] = df['date'].astype('datetime64[s]')\n",
    "df['year'] = df['date'].dt.year\n",
    "df.head()"
   ]
  },
  {
   "cell_type": "code",
   "execution_count": 44,
   "metadata": {},
   "outputs": [
    {
     "data": {
      "image/png": "[encoded data removed]",
      "text/plain": [
       "<Figure size 432x288 with 1 Axes>"
      ]
     },
     "metadata": {
      "needs_background": "light"
     },
     "output_type": "display_data"
    }
   ],
   "source": [
    "df_plot = df.groupby('year').agg({'date':'count'}).reset_index(drop=False)\n",
    "fig = df_plot.plot(x='year', y='date', kind='area', title='Data available by year')"
   ]
  },
  {
   "cell_type": "markdown",
   "metadata": {},
   "source": [
    "## Obtaining Latitude and Longitude"
   ]
  },
  {
   "cell_type": "code",
   "execution_count": 45,
   "metadata": {},
   "outputs": [
    {
     "data": {
      "text/plain": [
       "{'latitudeE7': -235822740,\n",
       " 'longitudeE7': -466856661,\n",
       " 'accuracy': 67,\n",
       " 'activity': [{'activity': [{'type': 'STILL', 'confidence': 62},\n",
       "    {'type': 'IN_VEHICLE', 'confidence': 31},\n",
       "    {'type': 'ON_FOOT', 'confidence': 8},\n",
       "    {'type': 'WALKING', 'confidence': 8}],\n",
       "   'timestamp': '2016-06-21T21:02:53.977Z'}],\n",
       " 'source': 'WIFI',\n",
       " 'deviceTag': -1740635755,\n",
       " 'timestamp': '2016-06-21T21:02:54.337Z'}"
      ]
     },
     "execution_count": 45,
     "metadata": {},
     "output_type": "execute_result"
    }
   ],
   "source": [
    "#example\n",
    "data['locations'][0]"
   ]
  },
  {
   "cell_type": "code",
   "execution_count": 46,
   "metadata": {},
   "outputs": [
    {
     "name": "stderr",
     "output_type": "stream",
     "text": [
      "100%|██████████| 430498/430498 [00:00<00:00, 3236864.39it/s]\n"
     ]
    }
   ],
   "source": [
    "list_lat = []\n",
    "list_long = []\n",
    "\n",
    "for i in tqdm(data['locations']):\n",
    "    list_lat.append(i['latitudeE7'])\n",
    "    list_long.append(i['longitudeE7'])\n",
    "\n",
    "#inserting latitude and longitude in dataframe\n",
    "df['latitude'] = pd.Series(list_lat)\n",
    "df['longitude'] = pd.Series(list_long)"
   ]
  },
  {
   "cell_type": "code",
   "execution_count": 47,
   "metadata": {},
   "outputs": [
    {
     "data": {
      "text/html": [
       "<div>\n",
       "<style scoped>\n",
       "    .dataframe tbody tr th:only-of-type {\n",
       "        vertical-align: middle;\n",
       "    }\n",
       "\n",
       "    .dataframe tbody tr th {\n",
       "        vertical-align: top;\n",
       "    }\n",
       "\n",
       "    .dataframe thead th {\n",
       "        text-align: right;\n",
       "    }\n",
       "</style>\n",
       "<table border=\"1\" class=\"dataframe\">\n",
       "  <thead>\n",
       "    <tr style=\"text-align: right;\">\n",
       "      <th></th>\n",
       "      <th>date</th>\n",
       "      <th>year</th>\n",
       "      <th>latitude</th>\n",
       "      <th>longitude</th>\n",
       "      <th>lat_signal</th>\n",
       "      <th>long_signal</th>\n",
       "    </tr>\n",
       "  </thead>\n",
       "  <tbody>\n",
       "    <tr>\n",
       "      <th>0</th>\n",
       "      <td>2016-06-21 21:02:54</td>\n",
       "      <td>2016</td>\n",
       "      <td>-23.5822740</td>\n",
       "      <td>-46.6856661</td>\n",
       "      <td>-</td>\n",
       "      <td>-</td>\n",
       "    </tr>\n",
       "    <tr>\n",
       "      <th>1</th>\n",
       "      <td>2016-06-21 21:05:08</td>\n",
       "      <td>2016</td>\n",
       "      <td>-23.5853147</td>\n",
       "      <td>-46.6884743</td>\n",
       "      <td>-</td>\n",
       "      <td>-</td>\n",
       "    </tr>\n",
       "    <tr>\n",
       "      <th>2</th>\n",
       "      <td>2016-06-21 21:07:17</td>\n",
       "      <td>2016</td>\n",
       "      <td>-23.5850464</td>\n",
       "      <td>-46.6910407</td>\n",
       "      <td>-</td>\n",
       "      <td>-</td>\n",
       "    </tr>\n",
       "    <tr>\n",
       "      <th>3</th>\n",
       "      <td>2016-06-21 21:07:44</td>\n",
       "      <td>2016</td>\n",
       "      <td>-23.5845803</td>\n",
       "      <td>-46.6917750</td>\n",
       "      <td>-</td>\n",
       "      <td>-</td>\n",
       "    </tr>\n",
       "    <tr>\n",
       "      <th>4</th>\n",
       "      <td>2016-06-21 21:08:59</td>\n",
       "      <td>2016</td>\n",
       "      <td>-23.5864830</td>\n",
       "      <td>-46.6955541</td>\n",
       "      <td>-</td>\n",
       "      <td>-</td>\n",
       "    </tr>\n",
       "  </tbody>\n",
       "</table>\n",
       "</div>"
      ],
      "text/plain": [
       "                 date  year     latitude    longitude lat_signal long_signal\n",
       "0 2016-06-21 21:02:54  2016  -23.5822740  -46.6856661          -           -\n",
       "1 2016-06-21 21:05:08  2016  -23.5853147  -46.6884743          -           -\n",
       "2 2016-06-21 21:07:17  2016  -23.5850464  -46.6910407          -           -\n",
       "3 2016-06-21 21:07:44  2016  -23.5845803  -46.6917750          -           -\n",
       "4 2016-06-21 21:08:59  2016  -23.5864830  -46.6955541          -           -"
      ]
     },
     "execution_count": 47,
     "metadata": {},
     "output_type": "execute_result"
    }
   ],
   "source": [
    "#add '.' after second digit of both coordinates\n",
    "df['lat_signal'] = np.where(df['latitude'] > 0, '+', '-')\n",
    "df['long_signal'] = np.where(df['longitude'] > 0, '+', '-')\n",
    "\n",
    "df['latitude'] = np.where(df['lat_signal'] == '-',\\\n",
    "                         df['latitude'].astype(str).str[:3] + '.' + df['latitude'].astype(str).str[3:],\\\n",
    "                         df['latitude'].astype(str).str[:2] + '.' + df['latitude'].astype(str).str[2:])\n",
    "\n",
    "df['longitude'] = np.where(df['long_signal'] == '-',\\\n",
    "                          df['longitude'].astype(str).str[:3] + '.' + df['longitude'].astype(str).str[3:],\\\n",
    "                          df['longitude'].astype(str).str[:2] + '.' + df['longitude'].astype(str).str[2:])\n",
    "\n",
    "df.head()"
   ]
  },
  {
   "cell_type": "markdown",
   "metadata": {},
   "source": [
    "## Saving Data in 'intermediate' folder"
   ]
  },
  {
   "cell_type": "code",
   "execution_count": 49,
   "metadata": {},
   "outputs": [],
   "source": [
    "path_out = '../data/intermediate/data_intermediate.csv'\n",
    "df[['date','year','latitude','longitude']].to_csv(path_out, sep=';', index=False)"
   ]
  }
 ],
 "metadata": {
  "interpreter": {
   "hash": "5069c40d0919acfc919ba69b4a4d6ed4ea13303c3fbc9d067e494b47178b3648"
  },
  "kernelspec": {
   "display_name": "Python 3.9.6 64-bit",
   "language": "python",
   "name": "python3"
  },
  "language_info": {
   "codemirror_mode": {
    "name": "ipython",
    "version": 3
   },
   "file_extension": ".py",
   "mimetype": "text/x-python",
   "name": "python",
   "nbconvert_exporter": "python",
   "pygments_lexer": "ipython3",
   "version": "3.9.6"
  },
  "orig_nbformat": 4
 },
 "nbformat": 4,
 "nbformat_minor": 2
}
