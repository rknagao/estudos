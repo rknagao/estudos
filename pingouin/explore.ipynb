{
 "cells": [
  {
   "cell_type": "code",
   "execution_count": 73,
   "metadata": {},
   "outputs": [],
   "source": [
    "import numpy as np\n",
    "import pandas as pd\n",
    "import pingouin as pg"
   ]
  },
  {
   "cell_type": "code",
   "execution_count": 70,
   "metadata": {},
   "outputs": [
    {
     "data": {
      "text/plain": [
       "Index(['T', 'dof', 'alternative', 'p-val', 'CI95%', 'cohen-d', 'BF10',\n",
       "       'power'],\n",
       "      dtype='object')"
      ]
     },
     "execution_count": 70,
     "metadata": {},
     "output_type": "execute_result"
    }
   ],
   "source": [
    "media = 10\n",
    "dp = 1\n",
    "amostra1 = np.random.normal(media, dp, 100)\n",
    "\n",
    "media = 1\n",
    "dp = 2\n",
    "amostra2 = np.random.normal(media, dp, 100)\n",
    "\n",
    "pg.ttest(amostra1, amostra2).round(3).columns"
   ]
  },
  {
   "cell_type": "code",
   "execution_count": 114,
   "metadata": {},
   "outputs": [
    {
     "data": {
      "text/plain": [
       "<AxesSubplot:xlabel='media_amostra2'>"
      ]
     },
     "execution_count": 114,
     "metadata": {},
     "output_type": "execute_result"
    },
    {
     "data": {
      "image/png": "[encoded data removed]",
      "text/plain": [
       "<Figure size 432x288 with 1 Axes>"
      ]
     },
     "metadata": {
      "needs_background": "light"
     },
     "output_type": "display_data"
    }
   ],
   "source": [
    "df_final = pd.DataFrame(columns=['media_amostra2','T', 'dof', 'alternative', 'p-val', 'CI95%', 'cohen-d', 'BF10', 'power'])\n",
    "\n",
    "media = 10\n",
    "dp = 1\n",
    "amostra1 = np.random.normal(media, dp, 100)\n",
    "\n",
    "for i in range(1, 11, 1):\n",
    "    media = 10 + i/10\n",
    "    dp = 2\n",
    "    amostra2 = np.random.normal(media, dp, 100)\n",
    "\n",
    "    df = pg.ttest(amostra1, amostra2).round(3)\n",
    "    df['media_amostra2'] = 10 + i/10\n",
    "\n",
    "    df_final = df_final.append(df)\n",
    "\n",
    "#df_final[['media_amostra2','T','p-val']]\n",
    "df_final.plot.line(x='media_amostra2', y='p-val')"
   ]
  }
 ],
 "metadata": {
  "interpreter": {
   "hash": "5069c40d0919acfc919ba69b4a4d6ed4ea13303c3fbc9d067e494b47178b3648"
  },
  "kernelspec": {
   "display_name": "Python 3.9.6 64-bit",
   "language": "python",
   "name": "python3"
  },
  "language_info": {
   "codemirror_mode": {
    "name": "ipython",
    "version": 3
   },
   "file_extension": ".py",
   "mimetype": "text/x-python",
   "name": "python",
   "nbconvert_exporter": "python",
   "pygments_lexer": "ipython3",
   "version": "3.9.6"
  },
  "orig_nbformat": 4
 },
 "nbformat": 4,
 "nbformat_minor": 2
}
