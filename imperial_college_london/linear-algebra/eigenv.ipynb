{
 "cells": [
  {
   "cell_type": "markdown",
   "metadata": {},
   "source": [
    "## Quiz 1 - Semana 5"
   ]
  },
  {
   "cell_type": "code",
   "execution_count": 3,
   "metadata": {},
   "outputs": [],
   "source": [
    "from numpy.linalg import det, eig\n",
    "from numpy import matmul\n",
    "import numpy as np\n"
   ]
  },
  {
   "cell_type": "code",
   "execution_count": 4,
   "metadata": {},
   "outputs": [],
   "source": [
    "def quiz(a, b, c, d, lista_l):\n",
    "\n",
    "    A = np.array([[a, b],\n",
    "                  [c, d]])\n",
    "\n",
    "    lista_l_final = []\n",
    "\n",
    "    for l in lista_l:\n",
    "\n",
    "        L = np.array([[l, 0],\n",
    "                      [0, l]])\n",
    "\n",
    "        #print(f\"Lâmbda {l} resulta em det = {det(A - L)}\")\n",
    "        if det(A - L) == 0:\n",
    "            print(f\"Lâmbda {l} resulta em det = {det(A - L)}\")\n",
    "            lista_l_final.append(l)\n",
    "            print(A - L)\n",
    "\n",
    "    return eig(A)"
   ]
  },
  {
   "cell_type": "code",
   "execution_count": 5,
   "metadata": {},
   "outputs": [
    {
     "name": "stdout",
     "output_type": "stream",
     "text": [
      "Lâmbda 1 resulta em det = 0.0\n",
      "[[0 0]\n",
      " [0 1]]\n",
      "Lâmbda 2 resulta em det = 0.0\n",
      "[[-1  0]\n",
      " [ 0  0]]\n"
     ]
    },
    {
     "data": {
      "text/plain": [
       "((array([1., 2.]),\n",
       "  array([[1., 0.],\n",
       "         [0., 1.]])),)"
      ]
     },
     "execution_count": 5,
     "metadata": {},
     "output_type": "execute_result"
    }
   ],
   "source": [
    "quiz(1, 0, 0, 2, [1, -1, 2, -2]),"
   ]
  },
  {
   "cell_type": "code",
   "execution_count": 6,
   "metadata": {},
   "outputs": [
    {
     "name": "stdout",
     "output_type": "stream",
     "text": [
      "Lâmbda 3 resulta em det = 0.0\n",
      "[[0 4]\n",
      " [0 2]]\n",
      "Lâmbda 5 resulta em det = 0.0\n",
      "[[-2  4]\n",
      " [ 0  0]]\n"
     ]
    },
    {
     "data": {
      "text/plain": [
       "(array([3., 5.]),\n",
       " array([[1.        , 0.89442719],\n",
       "        [0.        , 0.4472136 ]]))"
      ]
     },
     "execution_count": 6,
     "metadata": {},
     "output_type": "execute_result"
    }
   ],
   "source": [
    "quiz(3, 4, 0, 5, [3, -3, 5, -5])"
   ]
  },
  {
   "cell_type": "code",
   "execution_count": 7,
   "metadata": {},
   "outputs": [
    {
     "name": "stdout",
     "output_type": "stream",
     "text": [
      "Lâmbda 1 resulta em det = 0.0\n",
      "[[ 0  0]\n",
      " [-1  3]]\n",
      "Lâmbda 4 resulta em det = 0.0\n",
      "[[-3  0]\n",
      " [-1  0]]\n"
     ]
    },
    {
     "data": {
      "text/plain": [
       "(array([4., 1.]),\n",
       " array([[0.        , 0.9486833 ],\n",
       "        [1.        , 0.31622777]]))"
      ]
     },
     "execution_count": 7,
     "metadata": {},
     "output_type": "execute_result"
    }
   ],
   "source": [
    "quiz(1, 0, -1, 4, [1, -1, 4, -4])"
   ]
  },
  {
   "cell_type": "code",
   "execution_count": 8,
   "metadata": {},
   "outputs": [
    {
     "name": "stdout",
     "output_type": "stream",
     "text": [
      "Lâmbda 5 resulta em det = 0.0\n",
      "[[-8  8]\n",
      " [ 2 -2]]\n",
      "Lâmbda -5 resulta em det = 0.0\n",
      "[[2 8]\n",
      " [2 8]]\n"
     ]
    },
    {
     "data": {
      "text/plain": [
       "(array([-5.,  5.]),\n",
       " array([[-0.9701425 , -0.70710678],\n",
       "        [ 0.24253563, -0.70710678]]))"
      ]
     },
     "execution_count": 8,
     "metadata": {},
     "output_type": "execute_result"
    }
   ],
   "source": [
    "quiz(-3, 8, 2, 3, [5, -5])"
   ]
  },
  {
   "cell_type": "code",
   "execution_count": 9,
   "metadata": {},
   "outputs": [
    {
     "data": {
      "text/plain": [
       "(array([1.+2.98023224e-08j, 1.-2.98023224e-08j]),\n",
       " array([[ 0.70710678+0.00000000e+00j,  0.70710678-0.00000000e+00j],\n",
       "        [-0.70710678+5.26835606e-09j, -0.70710678-5.26835606e-09j]]))"
      ]
     },
     "execution_count": 9,
     "metadata": {},
     "output_type": "execute_result"
    }
   ],
   "source": [
    "eig(np.array([[5, 4], [-4, -3]]))"
   ]
  },
  {
   "cell_type": "code",
   "execution_count": 10,
   "metadata": {},
   "outputs": [
    {
     "data": {
      "text/plain": [
       "(array([-0.5+0.8660254j, -0.5-0.8660254j]),\n",
       " array([[ 0.8660254+0.j  ,  0.8660254-0.j  ],\n",
       "        [-0.4330127-0.25j, -0.4330127+0.25j]]))"
      ]
     },
     "execution_count": 10,
     "metadata": {},
     "output_type": "execute_result"
    }
   ],
   "source": [
    "eig(np.array([[-2, -3], [1, 1]]))"
   ]
  },
  {
   "cell_type": "markdown",
   "metadata": {},
   "source": [
    "## Quiz 2 - Semana 5"
   ]
  },
  {
   "cell_type": "code",
   "execution_count": 11,
   "metadata": {},
   "outputs": [],
   "source": [
    "# Calcular a matriz diagonal \n",
    "# D = C^-1 * T * C\n",
    "\n",
    "def matriz_diagonal(t11, t12, t21, t22, c11, c12, c21, c22):\n",
    "    T = np.array([[t11, t12],\n",
    "                  [t21, t22]])\n",
    "\n",
    "    C = np.array([[c11, c12],\n",
    "                  [c21, c22]])                  \n",
    "\n",
    "    Cinv = np.linalg.inv(C)\n",
    "\n",
    "    return np.matmul(np.matmul(Cinv, T), C)"
   ]
  },
  {
   "cell_type": "code",
   "execution_count": 12,
   "metadata": {},
   "outputs": [
    {
     "data": {
      "text/plain": [
       "array([[5., 0.],\n",
       "       [0., 4.]])"
      ]
     },
     "execution_count": 12,
     "metadata": {},
     "output_type": "execute_result"
    }
   ],
   "source": [
    "# Q1\n",
    "matriz_diagonal(6,-1,2,3,1,1,1,2)"
   ]
  },
  {
   "cell_type": "code",
   "execution_count": 13,
   "metadata": {},
   "outputs": [
    {
     "data": {
      "text/plain": [
       "array([[-1.00000000e+00,  0.00000000e+00],\n",
       "       [ 1.77635684e-15,  2.00000000e+00]])"
      ]
     },
     "execution_count": 13,
     "metadata": {},
     "output_type": "execute_result"
    }
   ],
   "source": [
    "# Q2\n",
    "matriz_diagonal(2,7,0,-1,7,1,-3,0)"
   ]
  },
  {
   "cell_type": "code",
   "execution_count": 14,
   "metadata": {},
   "outputs": [
    {
     "data": {
      "text/plain": [
       "array([[ 1.,  0.],\n",
       "       [ 0., -1.]])"
      ]
     },
     "execution_count": 14,
     "metadata": {},
     "output_type": "execute_result"
    }
   ],
   "source": [
    "# Q3\n",
    "matriz_diagonal(1,0,2,-1,1,0,1,1)"
   ]
  },
  {
   "cell_type": "code",
   "execution_count": 15,
   "metadata": {},
   "outputs": [],
   "source": [
    "def matriz_potencial(c11, c12, c21, c22, d11, d12, d21, d22, power):\n",
    "    C = np.array([[c11, c12],\n",
    "                  [c21, c22]]) \n",
    "\n",
    "    D = np.array([[d11 ** power, d12],\n",
    "                  [d21, d22 ** power]])\n",
    "\n",
    "    Cinv = np.linalg.inv(C)\n",
    "\n",
    "    T = np.matmul(np.matmul(C, D), Cinv)\n",
    "    return T"
   ]
  },
  {
   "cell_type": "code",
   "execution_count": 16,
   "metadata": {},
   "outputs": [
    {
     "data": {
      "text/plain": [
       "array([[10.,  0.],\n",
       "       [ 0., 10.]])"
      ]
     },
     "execution_count": 16,
     "metadata": {},
     "output_type": "execute_result"
    }
   ],
   "source": [
    "# Q4\n",
    "matriz_potencial(1,2,0,1,10,0,0,10, 1)"
   ]
  },
  {
   "cell_type": "code",
   "execution_count": 17,
   "metadata": {},
   "outputs": [
    {
     "data": {
      "text/plain": [
       "array([[186., -61.],\n",
       "       [122.,   3.]])"
      ]
     },
     "execution_count": 17,
     "metadata": {},
     "output_type": "execute_result"
    }
   ],
   "source": [
    "# Q5\n",
    "matriz_potencial(1,1,1,2,5,0,0,4,3)"
   ]
  },
  {
   "cell_type": "code",
   "execution_count": 18,
   "metadata": {},
   "outputs": [
    {
     "data": {
      "text/plain": [
       "array([[ 8., 21.],\n",
       "       [ 0., -1.]])"
      ]
     },
     "execution_count": 18,
     "metadata": {},
     "output_type": "execute_result"
    }
   ],
   "source": [
    "# Q6\n",
    "matriz_potencial(7,1,-3,0,-1,0,0,2,3)"
   ]
  },
  {
   "cell_type": "code",
   "execution_count": 19,
   "metadata": {},
   "outputs": [
    {
     "data": {
      "text/plain": [
       "array([[ 1.,  0.],\n",
       "       [ 2., -1.]])"
      ]
     },
     "execution_count": 19,
     "metadata": {},
     "output_type": "execute_result"
    }
   ],
   "source": [
    "# Q7\n",
    "matriz_potencial(1,0,1,1,1,0,0,-1,5)"
   ]
  },
  {
   "cell_type": "markdown",
   "metadata": {},
   "source": [
    "## Quiz 3"
   ]
  },
  {
   "cell_type": "code",
   "execution_count": 28,
   "metadata": {},
   "outputs": [
    {
     "name": "stdout",
     "output_type": "stream",
     "text": [
      "0.0\n"
     ]
    },
    {
     "data": {
      "text/plain": [
       "(array([ 0.,  0.,  1., -1.]),\n",
       " array([[ 0. ,  0. ,  0.5,  0.5],\n",
       "        [ 0. ,  0. ,  0.5, -0.5],\n",
       "        [ 0. ,  0. ,  0.5,  0.5],\n",
       "        [ 1. , -1. ,  0.5, -0.5]]))"
      ]
     },
     "execution_count": 28,
     "metadata": {},
     "output_type": "execute_result"
    }
   ],
   "source": [
    "# Q4\n",
    "A  = np.array([[0,1,0,0],\n",
    "              [1,0,0,0],\n",
    "              [0,1,0,0],\n",
    "              [0,0,1,0]])\n",
    "\n",
    "print(np.linalg.det(A))\n",
    "\n",
    "vals, vecs = np.linalg.eig(A)           \n",
    "vals, vecs.round(1)"
   ]
  },
  {
   "cell_type": "code",
   "execution_count": 33,
   "metadata": {},
   "outputs": [
    {
     "data": {
      "text/plain": [
       "(array([ 0. ,  1. ,  0.6, -0.6]),\n",
       " array([[ 0. ,  0.5, -0.5,  0.7],\n",
       "        [ 0. ,  0.5,  0.5, -0. ],\n",
       "        [ 0. ,  0.5, -0.5, -0.7],\n",
       "        [ 1. ,  0.5,  0.5, -0. ]]))"
      ]
     },
     "execution_count": 33,
     "metadata": {},
     "output_type": "execute_result"
    }
   ],
   "source": [
    "# Q5\n",
    "A  = np.array([[0,1,0,0],\n",
    "              [1,0,0,0],\n",
    "              [0,1,0,0],\n",
    "              [0,0,1,0]])\n",
    "\n",
    "D = np.array([[.1,.1,.1,.7],\n",
    "              [.7,.1,.1,.1],\n",
    "              [.1,.7,.1,.1],\n",
    "              [.1,.1,.7,.1]])\n",
    "\n",
    "B = D @ A\n",
    "'''\n",
    "while np.linalg.norm(A - B) > 0.01 :\n",
    "    lastA = B\n",
    "    B = L @ B\n",
    "print(B)\n",
    "'''\n",
    "vals, vecs = np.linalg.eig(B)           \n",
    "vals, vecs.round(1)"
   ]
  },
  {
   "cell_type": "code",
   "execution_count": 41,
   "metadata": {},
   "outputs": [
    {
     "name": "stdout",
     "output_type": "stream",
     "text": [
      "lambda ^ 2 - 2.0 * lambda + 0.25 \n"
     ]
    }
   ],
   "source": [
    "# Q6\n",
    "a11 = 3/2\n",
    "a12 = -1\n",
    "a21 = -1/2\n",
    "a22 = 1/2\n",
    "\n",
    "print(f\"lambda ^ 2 - {a11 + a22} * lambda + {a11 * a22 - a12 * a21} \")"
   ]
  },
  {
   "cell_type": "code",
   "execution_count": 46,
   "metadata": {},
   "outputs": [
    {
     "name": "stdout",
     "output_type": "stream",
     "text": [
      "(array([1.8660254, 0.1339746]), array([[ 0.9390708 ,  0.59069049],\n",
      "       [-0.34372377,  0.80689822]]))\n"
     ]
    },
    {
     "data": {
      "text/plain": [
       "1.7320508075688772"
      ]
     },
     "execution_count": 46,
     "metadata": {},
     "output_type": "execute_result"
    }
   ],
   "source": [
    "# Q8\n",
    "A = np.array([[3/2, -1],\n",
    "              [-1/2, 1/2]])\n",
    "\n",
    "print(np.linalg.eig(A))\n",
    "3 ** (1/2)\n"
   ]
  },
  {
   "cell_type": "markdown",
   "metadata": {},
   "source": [
    "## Pagerank"
   ]
  },
  {
   "cell_type": "code",
   "execution_count": 14,
   "metadata": {},
   "outputs": [],
   "source": [
    "import numpy as np\n",
    "import numpy.linalg as la"
   ]
  },
  {
   "cell_type": "code",
   "execution_count": 12,
   "metadata": {},
   "outputs": [],
   "source": [
    "# Matrix de probabilidade para ir a cada página\n",
    "L = np.array([[0,   1/2, 1/3, 0, 0,   0 ],\n",
    "              [1/3, 0,   0,   0, 1/2, 0 ],\n",
    "              [1/3, 1/2, 0,   1, 0,   1/2],\n",
    "              [1/3, 0,   1/3, 0, 1/2, 1/2],\n",
    "              [0,   0,   0,   0, 0,   0 ],\n",
    "              [0,   0,   1/3, 0, 0,   0 ]])"
   ]
  },
  {
   "cell_type": "code",
   "execution_count": 24,
   "metadata": {},
   "outputs": [
    {
     "name": "stdout",
     "output_type": "stream",
     "text": [
      "Autovalores originais: [ 1.  +0.j   0.31+0.j  -0.54+0.3j -0.54-0.3j -0.23+0.j   0.  +0.j ]\n",
      "Autovetores originais:\n",
      "[[ 0.31+0.j    0.53+0.j   -0.25-0.36j -0.25+0.36j -0.29+0.j   -0.8 +0.j  ]\n",
      " [ 0.1 +0.j    0.56+0.j    0.03+0.23j  0.03-0.23j  0.43+0.j    0.  +0.j  ]\n",
      " [ 0.77+0.j   -0.34+0.j    0.7 +0.j    0.7 -0.j   -0.44+0.j   -0.  +0.j  ]\n",
      " [ 0.49+0.j   -0.38+0.j   -0.15+0.31j -0.15-0.31j -0.34+0.j    0.27+0.j  ]\n",
      " [ 0.  +0.j    0.  +0.j    0.  +0.j    0.  -0.j    0.  +0.j    0.53+0.j  ]\n",
      " [ 0.26+0.j   -0.37+0.j   -0.33-0.18j -0.33+0.18j  0.65+0.j   -0.  +0.j  ]]\n",
      "Ordem de grandeza: [0 3 2 1 4 5]\n",
      "Principal autovetor: [0.31+0.j 0.1 +0.j 0.77+0.j 0.49+0.j 0.  +0.j 0.26+0.j]\n"
     ]
    },
    {
     "data": {
      "text/plain": [
       "array([16.        ,  5.33333333, 40.        , 25.33333333,  0.        ,\n",
       "       13.33333333])"
      ]
     },
     "execution_count": 24,
     "metadata": {},
     "output_type": "execute_result"
    }
   ],
   "source": [
    "# Resolução mais simples, porém mais custosa em termos de processamento.\n",
    "eVals, eVecs = la.eig(L) # Gets the eigenvalues and vectors\n",
    "print(f\"Autovalores originais: {eVals.round(2)}\")\n",
    "print(f\"Autovetores originais:\\n{eVecs.round(2)}\")\n",
    "\n",
    "order = np.absolute(eVals).argsort()[::-1] # Orders them by their eigenvalues\n",
    "print(f\"Ordem de grandeza: {order}\")\n",
    "\n",
    "r = eVecs[:, 0] # Sets r to be the principal eigenvector\n",
    "print(f\"Principal autovetor: {r.round(2)}\")\n",
    "\n",
    "100 * np.real(r / np.sum(r)) # Make this eigenvector sum to one, then multiply by 100 Procrastinating Pats"
   ]
  },
  {
   "cell_type": "markdown",
   "metadata": {},
   "source": [
    "## Quiz Final"
   ]
  },
  {
   "cell_type": "code",
   "execution_count": 1,
   "metadata": {},
   "outputs": [],
   "source": [
    "import numpy as np"
   ]
  },
  {
   "cell_type": "code",
   "execution_count": 3,
   "metadata": {},
   "outputs": [
    {
     "data": {
      "text/plain": [
       "(array([ 1., -4., -3.]),\n",
       " array([[-0.6882472 , -0.66666667,  0.40824829],\n",
       "        [-0.6882472 , -0.66666667, -0.40824829],\n",
       "        [-0.22941573,  0.33333333, -0.81649658]]))"
      ]
     },
     "execution_count": 3,
     "metadata": {},
     "output_type": "execute_result"
    }
   ],
   "source": [
    "# Q1\n",
    "A = np.array([[4,-5,6],\n",
    "            [7,-8,6],\n",
    "            [3/2,-1/2,-2]])\n",
    "\n",
    "np.linalg.eig(A)     "
   ]
  },
  {
   "cell_type": "code",
   "execution_count": 40,
   "metadata": {},
   "outputs": [
    {
     "name": "stdout",
     "output_type": "stream",
     "text": [
      "Autovalores: [-1.  0.  0.  1.]\n"
     ]
    },
    {
     "data": {
      "text/plain": [
       "array([[-0.5,  0. ,  0. , -0.5],\n",
       "       [ 0.5, -0.5, -0.5, -0.5],\n",
       "       [-0.5, -0. , -0. , -0.5],\n",
       "       [ 0.5,  0.5,  0.5, -0.5]])"
      ]
     },
     "execution_count": 40,
     "metadata": {},
     "output_type": "execute_result"
    }
   ],
   "source": [
    "# Q2\n",
    "L = np.array([[0,0,0,1],\n",
    "              [1,0,0,0],\n",
    "              [0,1,0,0],\n",
    "              [0,0,1,0]])\n",
    "\n",
    "vals, vecs = np.linalg.eig(L)\n",
    "print(f\"Autovalores: {np.real(vals).round(2)}\")\n",
    "\n",
    "order = np.absolute(vals).argsort()[::-1]\n",
    "order\n",
    "#vecs = vecs[:,order]\n",
    "np.real(vecs).round(2)"
   ]
  },
  {
   "cell_type": "code",
   "execution_count": 42,
   "metadata": {},
   "outputs": [
    {
     "name": "stdout",
     "output_type": "stream",
     "text": [
      "Autovalores: [ 1.  -0.6  0.   0. ]\n"
     ]
    },
    {
     "data": {
      "text/plain": [
       "array([[ 0.5,  0.5,  0.5,  0.5],\n",
       "       [ 0.5, -0.5, -0. , -0. ],\n",
       "       [ 0.5,  0.5, -0.5, -0.5],\n",
       "       [ 0.5, -0.5,  0. ,  0. ]])"
      ]
     },
     "execution_count": 42,
     "metadata": {},
     "output_type": "execute_result"
    }
   ],
   "source": [
    "# Q3\n",
    "L = np.array([[.1,.1,.1,.7],\n",
    "              [.7,.1,.1,.1],\n",
    "              [.1,.7,.1,.1],\n",
    "              [.1,.1,.7,.1]])\n",
    "\n",
    "vals, vecs = np.linalg.eig(L)\n",
    "print(f\"Autovalores: {np.real(vals).round(2)}\")\n",
    "\n",
    "order = np.absolute(vals).argsort()[::-1]\n",
    "order\n",
    "np.real(vecs).round(2)"
   ]
  },
  {
   "cell_type": "code",
   "execution_count": 45,
   "metadata": {},
   "outputs": [
    {
     "name": "stdout",
     "output_type": "stream",
     "text": [
      "Autovalores: [ 1. -1.  1. -1.]\n"
     ]
    },
    {
     "data": {
      "text/plain": [
       "array([[ 0.71, -0.71,  0.  ,  0.  ],\n",
       "       [ 0.71,  0.71,  0.  ,  0.  ],\n",
       "       [ 0.  ,  0.  ,  0.71, -0.71],\n",
       "       [ 0.  ,  0.  ,  0.71,  0.71]])"
      ]
     },
     "execution_count": 45,
     "metadata": {},
     "output_type": "execute_result"
    }
   ],
   "source": [
    "#Q4\n",
    "L = np.array([[0,1,0,0],\n",
    "              [1,0,0,0],\n",
    "              [0,0,0,1],\n",
    "              [0,0,1,0]])\n",
    "            \n",
    "vals, vecs = np.linalg.eig(L)\n",
    "print(f\"Autovalores: {np.real(vals).round(2)}\")\n",
    "\n",
    "order = np.absolute(vals).argsort()[::-1]\n",
    "order\n",
    "np.real(vecs).round(2)"
   ]
  },
  {
   "cell_type": "code",
   "execution_count": 44,
   "metadata": {},
   "outputs": [
    {
     "name": "stdout",
     "output_type": "stream",
     "text": [
      "Autovalores: [-0.6  0.6  1.  -0.6]\n"
     ]
    },
    {
     "data": {
      "text/plain": [
       "array([[ 0.71, -0.5 , -0.5 , -0.07],\n",
       "       [-0.71, -0.5 , -0.5 ,  0.07],\n",
       "       [-0.  ,  0.5 , -0.5 , -0.7 ],\n",
       "       [ 0.  ,  0.5 , -0.5 ,  0.7 ]])"
      ]
     },
     "execution_count": 44,
     "metadata": {},
     "output_type": "execute_result"
    }
   ],
   "source": [
    "#Q5\n",
    "L = np.array([[.1,.7,.1,.1],\n",
    "              [.7,.1,.1,.1],\n",
    "              [.1,.1,.1,.7],\n",
    "              [.1,.1,.7,.1]])\n",
    "\n",
    "vals, vecs = np.linalg.eig(L)\n",
    "print(f\"Autovalores: {np.real(vals).round(2)}\")\n",
    "\n",
    "order = np.absolute(vals).argsort()[::-1]\n",
    "order\n",
    "np.real(vecs).round(2)"
   ]
  },
  {
   "cell_type": "code",
   "execution_count": 8,
   "metadata": {},
   "outputs": [
    {
     "data": {
      "text/plain": [
       "array([[ 1.28867513, -1.57735027],\n",
       "       [-0.42264973,  0.71132487]])"
      ]
     },
     "execution_count": 8,
     "metadata": {},
     "output_type": "execute_result"
    }
   ],
   "source": [
    "# Q9\n",
    "A = np.array([[3/2, -1],\n",
    "              [-1/2, 1/2]])\n",
    "\n",
    "C = np.array([[1 - 3**(0.5), 1 + 3**(0.5)],\n",
    "              [1, 1]])\n",
    "\n",
    "Cinv = np.linalg.inv(C)\n",
    "\n",
    "np.matmul(np.matmul(Cinv, A), C)"
   ]
  }
 ],
 "metadata": {
  "kernelspec": {
   "display_name": "Python 3.10.4 64-bit",
   "language": "python",
   "name": "python3"
  },
  "language_info": {
   "codemirror_mode": {
    "name": "ipython",
    "version": 3
   },
   "file_extension": ".py",
   "mimetype": "text/x-python",
   "name": "python",
   "nbconvert_exporter": "python",
   "pygments_lexer": "ipython3",
   "version": "3.10.4"
  },
  "orig_nbformat": 4,
  "vscode": {
   "interpreter": {
    "hash": "7d7662bde5678ddf41fb482e2cda39dd85fc62406be2c88b1ebdc7b78e575873"
   }
  }
 },
 "nbformat": 4,
 "nbformat_minor": 2
}
