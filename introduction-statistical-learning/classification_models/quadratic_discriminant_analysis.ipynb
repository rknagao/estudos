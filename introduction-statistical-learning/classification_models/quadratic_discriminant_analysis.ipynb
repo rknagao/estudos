{
 "cells": [
  {
   "cell_type": "markdown",
   "metadata": {},
   "source": [
    "# Quadratic Linear Analysis (QDA)\n",
    "\n",
    "**Objective**:\n",
    " demonstrate how QDA works for classification.\n",
    "\n",
    "**Assumptions**\n",
    "- all features are normal distributed.\n",
    "- all features are uncorrelated\n",
    "- ~~all classes displays the same covariance matrix~~"
   ]
  },
  {
   "cell_type": "code",
   "execution_count": 108,
   "metadata": {},
   "outputs": [],
   "source": [
    "import numpy as np\n",
    "import pandas as pd\n",
    "import seaborn as sns\n",
    "from sklearn.discriminant_analysis import QuadraticDiscriminantAnalysis, LinearDiscriminantAnalysis\n",
    "from sklearn.metrics import confusion_matrix, accuracy_score, recall_score, precision_score\n",
    "from sklearn.model_selection import train_test_split"
   ]
  },
  {
   "cell_type": "markdown",
   "metadata": {},
   "source": [
    "## Example 1: two predictors with differente correlation matrices"
   ]
  },
  {
   "cell_type": "markdown",
   "metadata": {},
   "source": [
    "Creating the data"
   ]
  },
  {
   "cell_type": "code",
   "execution_count": 2,
   "metadata": {},
   "outputs": [
    {
     "name": "stdout",
     "output_type": "stream",
     "text": [
      "            xA         xB         fx  y\n",
      "537  17.141467 -12.402730   4.738736  1\n",
      "571  20.371952  -2.864881  17.507071  1\n",
      "77    8.915731 -10.522882  -1.607151  0\n",
      "261  11.327308 -13.257831  -1.930523  0\n",
      "923  16.204832 -17.055482  -0.850650  0\n"
     ]
    },
    {
     "data": {
      "text/plain": [
       "<AxesSubplot:xlabel='value', ylabel='Count'>"
      ]
     },
     "execution_count": 2,
     "metadata": {},
     "output_type": "execute_result"
    },
    {
     "data": {
      "image/png": "[encoded data removed]",
      "text/plain": [
       "<Figure size 432x288 with 1 Axes>"
      ]
     },
     "metadata": {
      "needs_background": "light"
     },
     "output_type": "display_data"
    }
   ],
   "source": [
    "#features X\n",
    "meanA, stdA = 10, 5\n",
    "xA = np.random.normal(meanA, stdA, 1000)\n",
    "\n",
    "meanB, stdB = -10, 5\n",
    "xB = np.random.normal(meanB, stdB, 1000)\n",
    "\n",
    "#target y\n",
    "fx = xA + xB\n",
    "y = [1 if i >= (meanA + meanB) else 0 for i in fx]\n",
    "\n",
    "#data with X an y\n",
    "data = pd.DataFrame({'xA':xA, 'xB':xB, 'fx': fx, 'y':y})\n",
    "print(data.sample(5))\n",
    "\n",
    "sns.histplot(data=pd.melt(data, id_vars=['y'], value_vars=['xA', 'xB', 'fx']), x='value', hue='variable', kde=True)"
   ]
  },
  {
   "cell_type": "markdown",
   "metadata": {},
   "source": [
    "### Manual QDA"
   ]
  },
  {
   "cell_type": "markdown",
   "metadata": {},
   "source": [
    "Checking the covariance matrices"
   ]
  },
  {
   "cell_type": "code",
   "execution_count": 3,
   "metadata": {},
   "outputs": [
    {
     "name": "stdout",
     "output_type": "stream",
     "text": [
      "           xA         xB\n",
      "xA  17.767949  -8.097322\n",
      "xB  -8.097322  17.862263\n",
      "           xA         xB\n",
      "xA  18.682219  -7.333267\n",
      "xB  -7.333267  17.429247\n"
     ]
    }
   ],
   "source": [
    "#separing the data\n",
    "sample0 = data.loc[data['y'] == 0]\n",
    "sample1 = data.loc[data['y'] == 1]\n",
    "assert data.shape[0] == sample0.shape[0] + sample1.shape[0]\n",
    "\n",
    "#calculating the covariance matrices\n",
    "print(sample0[['xA', 'xB']].cov())\n",
    "print(sample1[['xA', 'xB']].cov())"
   ]
  },
  {
   "cell_type": "markdown",
   "metadata": {},
   "source": [
    "The results above shows the differente between the covariance matrices, which is an indication that QDA should be a better suggestion. Since the QDA's decision function is a curve, it would allow more flexibility than the LDA's decision function, which is a straight line, thus resulting in lower bias.\n",
    "\n",
    "QDA's decision function:\n",
    "\n",
    "<img src=\"img/qda_decision_function.PNG\" />\n",
    "\n",
    "*source: https://www.statlearning.com/*"
   ]
  },
  {
   "cell_type": "code",
   "execution_count": 4,
   "metadata": {},
   "outputs": [],
   "source": [
    "def preparation(df):\n",
    "    '''calculate every variable (except x and xt) necessary for the decision equation'''\n",
    "\n",
    "    sample0 = data.loc[data['y'] == 0]\n",
    "    sample1 = data.loc[data['y'] == 1]\n",
    "\n",
    "    m0 = sample0[['xA','xB']].mean().array.reshape(2,1)\n",
    "    m0_t = sample0[['xA','xB']].mean().array\n",
    "    m1 = sample1[['xA','xB']].mean().array.reshape(2,1)\n",
    "    m1_t = sample1[['xA','xB']].mean().array\n",
    "\n",
    "    cov0 = sample0[['xA', 'xB']].cov().to_numpy()\n",
    "    cov0_inv = np.linalg.inv(sample0[['xA', 'xB']].cov())\n",
    "    cov1 = sample1[['xA', 'xB']].cov().to_numpy()\n",
    "    cov1_inv = np.linalg.inv(sample1[['xA', 'xB']].cov())\n",
    "\n",
    "    ln0, ln1 = np.log(np.linalg.det(cov0)), np.log(np.linalg.det(cov1))\n",
    "    prob0, prob1 = np.log((sample0.shape[0]/data.shape[0])), np.log((sample1.shape[0]/data.shape[0]))\n",
    "\n",
    "    return m0, m0_t, m1, m1_t, cov0_inv, cov1_inv, ln0, ln1, prob0, prob1\n",
    "\n",
    "\n",
    "#calculating each variable of the equation\n",
    "m0, m0_t, m1, m1_t, cov0_inv, cov1_inv, ln0, ln1, prob0, prob1 = preparation(data)"
   ]
  },
  {
   "cell_type": "code",
   "execution_count": 5,
   "metadata": {},
   "outputs": [
    {
     "data": {
      "text/html": [
       "<div>\n",
       "<style scoped>\n",
       "    .dataframe tbody tr th:only-of-type {\n",
       "        vertical-align: middle;\n",
       "    }\n",
       "\n",
       "    .dataframe tbody tr th {\n",
       "        vertical-align: top;\n",
       "    }\n",
       "\n",
       "    .dataframe thead th {\n",
       "        text-align: right;\n",
       "    }\n",
       "</style>\n",
       "<table border=\"1\" class=\"dataframe\">\n",
       "  <thead>\n",
       "    <tr style=\"text-align: right;\">\n",
       "      <th></th>\n",
       "      <th>xA</th>\n",
       "      <th>xB</th>\n",
       "      <th>fx</th>\n",
       "      <th>y</th>\n",
       "      <th>manual_fx0</th>\n",
       "      <th>manual_fx1</th>\n",
       "      <th>manual_decision_function</th>\n",
       "      <th>manual_prediction</th>\n",
       "    </tr>\n",
       "  </thead>\n",
       "  <tbody>\n",
       "    <tr>\n",
       "      <th>45</th>\n",
       "      <td>12.094415</td>\n",
       "      <td>-3.022317</td>\n",
       "      <td>9.072098</td>\n",
       "      <td>1</td>\n",
       "      <td>-9.245279</td>\n",
       "      <td>-3.975468</td>\n",
       "      <td>5.269811</td>\n",
       "      <td>1</td>\n",
       "    </tr>\n",
       "    <tr>\n",
       "      <th>965</th>\n",
       "      <td>1.686836</td>\n",
       "      <td>-9.609984</td>\n",
       "      <td>-7.923148</td>\n",
       "      <td>0</td>\n",
       "      <td>-4.296304</td>\n",
       "      <td>-8.473557</td>\n",
       "      <td>-4.177253</td>\n",
       "      <td>0</td>\n",
       "    </tr>\n",
       "    <tr>\n",
       "      <th>289</th>\n",
       "      <td>2.309022</td>\n",
       "      <td>-7.440453</td>\n",
       "      <td>-5.131431</td>\n",
       "      <td>0</td>\n",
       "      <td>-4.442946</td>\n",
       "      <td>-7.160729</td>\n",
       "      <td>-2.717783</td>\n",
       "      <td>0</td>\n",
       "    </tr>\n",
       "  </tbody>\n",
       "</table>\n",
       "</div>"
      ],
      "text/plain": [
       "            xA        xB        fx  y  manual_fx0  manual_fx1  \\\n",
       "45   12.094415 -3.022317  9.072098  1   -9.245279   -3.975468   \n",
       "965   1.686836 -9.609984 -7.923148  0   -4.296304   -8.473557   \n",
       "289   2.309022 -7.440453 -5.131431  0   -4.442946   -7.160729   \n",
       "\n",
       "     manual_decision_function  manual_prediction  \n",
       "45                   5.269811                  1  \n",
       "965                 -4.177253                  0  \n",
       "289                 -2.717783                  0  "
      ]
     },
     "execution_count": 5,
     "metadata": {},
     "output_type": "execute_result"
    }
   ],
   "source": [
    "def decision_function(x, x_t, m, m_t, cov_inv, ln, prob):\n",
    "    '''create the function for each row'''\n",
    "    fx = -0.5 * np.matmul(np.matmul(x_t, cov_inv), x) + \\\n",
    "              + np.matmul(np.matmul(x_t, cov_inv), m) + \\\n",
    "         -0.5 * np.matmul(np.matmul(m_t, cov_inv), m) + \\\n",
    "         -0.5 * ln + prob               \n",
    "    return fx[0]\n",
    "\n",
    "\n",
    "#calculating the decision function\n",
    "data['manual_fx0'] = np.nan\n",
    "data['manual_fx1'] = np.nan\n",
    "data['manual_decision_function'] = np.nan\n",
    "data['manual_prediction'] = np.nan\n",
    "\n",
    "for index, row in data.iterrows():\n",
    "    x_t = data[['xA','xB']].loc[index].array\n",
    "    x = data[['xA','xB']].loc[index].array.reshape(2,1)\n",
    "\n",
    "    data.loc[index, 'manual_fx0'] = decision_function(x, x_t, m0, m0_t, cov0_inv, ln0, prob0)\n",
    "    data.loc[index, 'manual_fx1'] = decision_function(x, x_t, m1, m1_t, cov1_inv, ln1, prob1)\n",
    "    data['manual_decision_function'] = data['manual_fx1'] - data['manual_fx0']\n",
    "    data['manual_prediction'] = np.where(data['manual_fx1'] >= data['manual_fx0'], 1, 0)\n",
    "\n",
    "data.sample(3)"
   ]
  },
  {
   "cell_type": "code",
   "execution_count": 6,
   "metadata": {},
   "outputs": [
    {
     "name": "stdout",
     "output_type": "stream",
     "text": [
      "[[491   2]\n",
      " [  0 507]]\n",
      "0.998\n",
      "0.9960707269155207\n",
      "1.0\n"
     ]
    }
   ],
   "source": [
    "#comparing the results\n",
    "print(confusion_matrix(data['y'], data['manual_prediction']))\n",
    "print(accuracy_score(data['y'], data['manual_prediction']))\n",
    "print(precision_score(data['y'], data['manual_prediction']))\n",
    "print(recall_score(data['y'], data['manual_prediction']))"
   ]
  },
  {
   "cell_type": "markdown",
   "metadata": {},
   "source": [
    "Something is wrong with the formula. Doing some investigation."
   ]
  },
  {
   "cell_type": "markdown",
   "metadata": {},
   "source": [
    "### Sklearn QDA"
   ]
  },
  {
   "cell_type": "code",
   "execution_count": 7,
   "metadata": {},
   "outputs": [],
   "source": [
    "X = data[['xA','xB']]\n",
    "y = data['y']\n",
    "\n",
    "qda = QuadraticDiscriminantAnalysis(store_covariance=True)\n",
    "qda.fit(X, y)\n",
    "\n",
    "data['fx0_sklearn'] = qda.predict_log_proba(X)[:, 0]\n",
    "data['fx1_sklearn'] = qda.predict_log_proba(X)[:, 1]\n",
    "data['sklearn_decision_function'] = qda.decision_function(X)\n",
    "data['sklearn_prediction'] = qda.predict(X)"
   ]
  },
  {
   "cell_type": "code",
   "execution_count": 8,
   "metadata": {},
   "outputs": [
    {
     "data": {
      "text/html": [
       "<div>\n",
       "<style scoped>\n",
       "    .dataframe tbody tr th:only-of-type {\n",
       "        vertical-align: middle;\n",
       "    }\n",
       "\n",
       "    .dataframe tbody tr th {\n",
       "        vertical-align: top;\n",
       "    }\n",
       "\n",
       "    .dataframe thead th {\n",
       "        text-align: right;\n",
       "    }\n",
       "</style>\n",
       "<table border=\"1\" class=\"dataframe\">\n",
       "  <thead>\n",
       "    <tr style=\"text-align: right;\">\n",
       "      <th></th>\n",
       "      <th>xA</th>\n",
       "      <th>xB</th>\n",
       "      <th>fx</th>\n",
       "      <th>y</th>\n",
       "      <th>manual_fx0</th>\n",
       "      <th>manual_fx1</th>\n",
       "      <th>manual_decision_function</th>\n",
       "      <th>manual_prediction</th>\n",
       "      <th>fx0_sklearn</th>\n",
       "      <th>fx1_sklearn</th>\n",
       "      <th>sklearn_decision_function</th>\n",
       "      <th>sklearn_prediction</th>\n",
       "    </tr>\n",
       "  </thead>\n",
       "  <tbody>\n",
       "    <tr>\n",
       "      <th>192</th>\n",
       "      <td>10.494996</td>\n",
       "      <td>-9.651591</td>\n",
       "      <td>0.843404</td>\n",
       "      <td>1</td>\n",
       "      <td>-4.556738</td>\n",
       "      <td>-4.057672</td>\n",
       "      <td>0.499066</td>\n",
       "      <td>1</td>\n",
       "      <td>-0.973495</td>\n",
       "      <td>-0.474430</td>\n",
       "      <td>0.499066</td>\n",
       "      <td>1</td>\n",
       "    </tr>\n",
       "    <tr>\n",
       "      <th>444</th>\n",
       "      <td>16.345449</td>\n",
       "      <td>-4.320168</td>\n",
       "      <td>12.025281</td>\n",
       "      <td>1</td>\n",
       "      <td>-11.514844</td>\n",
       "      <td>-4.386779</td>\n",
       "      <td>7.128065</td>\n",
       "      <td>1</td>\n",
       "      <td>-7.128867</td>\n",
       "      <td>-0.000802</td>\n",
       "      <td>7.128065</td>\n",
       "      <td>1</td>\n",
       "    </tr>\n",
       "    <tr>\n",
       "      <th>863</th>\n",
       "      <td>8.032330</td>\n",
       "      <td>-15.773676</td>\n",
       "      <td>-7.741347</td>\n",
       "      <td>0</td>\n",
       "      <td>-3.742399</td>\n",
       "      <td>-7.975157</td>\n",
       "      <td>-4.232758</td>\n",
       "      <td>0</td>\n",
       "      <td>-0.014408</td>\n",
       "      <td>-4.247166</td>\n",
       "      <td>-4.232758</td>\n",
       "      <td>0</td>\n",
       "    </tr>\n",
       "  </tbody>\n",
       "</table>\n",
       "</div>"
      ],
      "text/plain": [
       "            xA         xB         fx  y  manual_fx0  manual_fx1  \\\n",
       "192  10.494996  -9.651591   0.843404  1   -4.556738   -4.057672   \n",
       "444  16.345449  -4.320168  12.025281  1  -11.514844   -4.386779   \n",
       "863   8.032330 -15.773676  -7.741347  0   -3.742399   -7.975157   \n",
       "\n",
       "     manual_decision_function  manual_prediction  fx0_sklearn  fx1_sklearn  \\\n",
       "192                  0.499066                  1    -0.973495    -0.474430   \n",
       "444                  7.128065                  1    -7.128867    -0.000802   \n",
       "863                 -4.232758                  0    -0.014408    -4.247166   \n",
       "\n",
       "     sklearn_decision_function  sklearn_prediction  \n",
       "192                   0.499066                   1  \n",
       "444                   7.128065                   1  \n",
       "863                  -4.232758                   0  "
      ]
     },
     "execution_count": 8,
     "metadata": {},
     "output_type": "execute_result"
    }
   ],
   "source": [
    "data.sample(3)"
   ]
  },
  {
   "cell_type": "code",
   "execution_count": 9,
   "metadata": {},
   "outputs": [
    {
     "name": "stdout",
     "output_type": "stream",
     "text": [
      "[[491   2]\n",
      " [  0 507]]\n",
      "0.998\n",
      "0.9960707269155207\n",
      "1.0\n"
     ]
    },
    {
     "data": {
      "text/plain": [
       "<AxesSubplot:xlabel='manual_decision_function', ylabel='sklearn_decision_function'>"
      ]
     },
     "execution_count": 9,
     "metadata": {},
     "output_type": "execute_result"
    },
    {
     "data": {
      "image/png": "[encoded data removed]",
      "text/plain": [
       "<Figure size 432x288 with 1 Axes>"
      ]
     },
     "metadata": {
      "needs_background": "light"
     },
     "output_type": "display_data"
    }
   ],
   "source": [
    "# Comparing the results.\n",
    "print(confusion_matrix(data['y'], data['sklearn_prediction']))\n",
    "print(accuracy_score(data['y'], data['sklearn_prediction']))\n",
    "print(precision_score(data['y'], data['sklearn_prediction']))\n",
    "print(recall_score(data['y'], data['sklearn_prediction']))\n",
    "\n",
    "data.plot(x='manual_decision_function', y='sklearn_decision_function', kind='scatter')"
   ]
  },
  {
   "cell_type": "code",
   "execution_count": 10,
   "metadata": {},
   "outputs": [
    {
     "name": "stdout",
     "output_type": "stream",
     "text": [
      "           xA         xB\n",
      "xA  17.767949  -8.097322\n",
      "xB  -8.097322  17.862263\n",
      "           xA         xB\n",
      "xA  18.682219  -7.333267\n",
      "xB  -7.333267  17.429247\n"
     ]
    },
    {
     "data": {
      "text/plain": [
       "[array([[17.76794862, -8.09732193],\n",
       "        [-8.09732193, 17.86226285]]),\n",
       " array([[18.68221886, -7.33326705],\n",
       "        [-7.33326705, 17.42924658]])]"
      ]
     },
     "execution_count": 10,
     "metadata": {},
     "output_type": "execute_result"
    }
   ],
   "source": [
    "#calculating the covariance matrices\n",
    "print(sample0[['xA', 'xB']].cov())\n",
    "print(sample1[['xA', 'xB']].cov())\n",
    "\n",
    "qda.covariance_"
   ]
  },
  {
   "cell_type": "markdown",
   "metadata": {},
   "source": [
    "As predicted, sklearn's QDA uses separately both sample's correlation matrices."
   ]
  },
  {
   "cell_type": "markdown",
   "metadata": {},
   "source": [
    "## Comparison LDA vs QDA"
   ]
  },
  {
   "cell_type": "markdown",
   "metadata": {},
   "source": [
    "In theory, both algorithms follows the same logic and the only difference is the covariance matrix: LDA assumes the same covariance but QDA don't. In the next steps, we will analyse the impact of different samples in the classification performance. In the example, let's use Stranger Things for context.\n"
   ]
  },
  {
   "cell_type": "markdown",
   "metadata": {},
   "source": [
    "### Data availability: plenty   "
   ]
  },
  {
   "cell_type": "code",
   "execution_count": 136,
   "metadata": {},
   "outputs": [
    {
     "name": "stdout",
     "output_type": "stream",
     "text": [
      "            x1         x2          x3           x4  y\n",
      "828  16.487879  50.571093  102.547351  1112.071097  1\n",
      "387  29.036685  40.142777  115.863423   920.269127  0\n",
      "501   0.199860  45.514920  122.909863   914.068573  0\n",
      "676   9.253344  50.882602  111.472776  1219.519334  1\n",
      "51    2.797447  50.374950   87.753519  1036.407755  1\n"
     ]
    }
   ],
   "source": [
    "# Creating dummy data\n",
    "early_dart = np.random.normal(10, 20, 1000)\n",
    "late_dart = np.random.normal(30, 20, 1000)\n",
    "demogorgon = np.random.normal(100, 20, 1000)\n",
    "mind_flayer = np.random.normal(1000, 100, 1000)\n",
    "\n",
    "fx = early_dart + late_dart + demogorgon + mind_flayer\n",
    "bad_guys_win = [1 if i >= 1131 else 0 for i in fx]\n",
    "\n",
    "#data with X an y\n",
    "data = pd.DataFrame({'x1':early_dart, 'x2':late_date, 'x3': demogorgon, 'x4':mind_flayer, 'y':bad_guys_win})\n",
    "print(data.sample(5))"
   ]
  },
  {
   "cell_type": "code",
   "execution_count": 137,
   "metadata": {},
   "outputs": [
    {
     "data": {
      "text/plain": [
       "1    558\n",
       "0    442\n",
       "Name: y, dtype: int64"
      ]
     },
     "execution_count": 137,
     "metadata": {},
     "output_type": "execute_result"
    }
   ],
   "source": [
    "data['y'].value_counts()"
   ]
  },
  {
   "cell_type": "code",
   "execution_count": 138,
   "metadata": {},
   "outputs": [],
   "source": [
    "X = data.drop(columns='y')\n",
    "y = data['y']\n",
    "\n",
    "lda = LinearDiscriminantAnalysis().fit(X, y)\n",
    "qda = QuadraticDiscriminantAnalysis().fit(X, y)"
   ]
  },
  {
   "cell_type": "code",
   "execution_count": 139,
   "metadata": {},
   "outputs": [
    {
     "name": "stdout",
     "output_type": "stream",
     "text": [
      "[[401  41]\n",
      " [ 25 533]]\n",
      "0.934\n",
      "0.9285714285714286\n",
      "0.9551971326164874\n",
      "[[404  38]\n",
      " [ 29 529]]\n",
      "0.933\n",
      "0.9329805996472663\n",
      "0.9480286738351255\n"
     ]
    }
   ],
   "source": [
    "# LDA\n",
    "print(confusion_matrix(data['y'], lda.predict(X)))\n",
    "print(accuracy_score(data['y'], lda.predict(X)))\n",
    "print(precision_score(data['y'], lda.predict(X)))\n",
    "print(recall_score(data['y'], lda.predict(X)))\n",
    "\n",
    "# QDA\n",
    "print(confusion_matrix(data['y'], qda.predict(X)))\n",
    "print(accuracy_score(data['y'], qda.predict(X)))\n",
    "print(precision_score(data['y'], qda.predict(X)))\n",
    "print(recall_score(data['y'], qda.predict(X)))"
   ]
  },
  {
   "cell_type": "markdown",
   "metadata": {},
   "source": [
    "### Data availability: scarce   "
   ]
  },
  {
   "cell_type": "code",
   "execution_count": 140,
   "metadata": {},
   "outputs": [],
   "source": [
    "_, X_scarce, _, y_scarce = train_test_split(X, y, test_size=0.02, stratify=y)\n",
    "\n",
    "lda_scarce = LinearDiscriminantAnalysis().fit(X_scarce, y_scarce)\n",
    "qda_scarce = QuadraticDiscriminantAnalysis().fit(X_scarce, y_scarce)"
   ]
  },
  {
   "cell_type": "code",
   "execution_count": 141,
   "metadata": {},
   "outputs": [
    {
     "name": "stdout",
     "output_type": "stream",
     "text": [
      "[[ 9  0]\n",
      " [ 0 11]]\n",
      "1.0\n",
      "1.0\n",
      "1.0\n",
      "[[ 9  0]\n",
      " [ 0 11]]\n",
      "1.0\n",
      "1.0\n",
      "1.0\n"
     ]
    }
   ],
   "source": [
    "# LDA\n",
    "print(confusion_matrix(y_scarce, lda_scarce.predict(X_scarce)))\n",
    "print(accuracy_score(y_scarce, lda_scarce.predict(X_scarce)))\n",
    "print(precision_score(y_scarce, lda_scarce.predict(X_scarce)))\n",
    "print(recall_score(y_scarce, lda_scarce.predict(X_scarce)))\n",
    "\n",
    "# QDA\n",
    "print(confusion_matrix(y_scarce, qda_scarce.predict(X_scarce)))\n",
    "print(accuracy_score(y_scarce, qda_scarce.predict(X_scarce)))\n",
    "print(precision_score(y_scarce, qda_scarce.predict(X_scarce)))\n",
    "print(recall_score(y_scarce, qda_scarce.predict(X_scarce)))"
   ]
  },
  {
   "cell_type": "markdown",
   "metadata": {},
   "source": [
    "### Evolution"
   ]
  },
  {
   "cell_type": "code",
   "execution_count": 142,
   "metadata": {},
   "outputs": [],
   "source": [
    "## CRIAR GRAFICO MOSTRANDO X=tamanho de sample, y=metrica e cor = lda ou qda"
   ]
  }
 ],
 "metadata": {
  "interpreter": {
   "hash": "0697e33743e68981c006cc22ac94fff3ae17d2c85313f2bafa4691fafef3845b"
  },
  "kernelspec": {
   "display_name": "Python 3 (ipykernel)",
   "language": "python",
   "name": "python3"
  },
  "language_info": {
   "codemirror_mode": {
    "name": "ipython",
    "version": 3
   },
   "file_extension": ".py",
   "mimetype": "text/x-python",
   "name": "python",
   "nbconvert_exporter": "python",
   "pygments_lexer": "ipython3",
   "version": "3.10.4"
  }
 },
 "nbformat": 4,
 "nbformat_minor": 4
}
