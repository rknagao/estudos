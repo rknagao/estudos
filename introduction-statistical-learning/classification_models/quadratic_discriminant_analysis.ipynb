{
 "cells": [
  {
   "cell_type": "markdown",
   "metadata": {},
   "source": [
    "# Quadratic Linear Analysis (QDA)\n",
    "\n",
    "**Objective**:\n",
    " demonstrate how QDA works for classification.\n",
    "\n",
    "**Assumptions**\n",
    "- all features are normal distributed.\n",
    "- all features are uncorrelated\n",
    "- ~~all classes displays the same covariance matrix~~"
   ]
  },
  {
   "cell_type": "code",
   "execution_count": 7,
   "metadata": {},
   "outputs": [],
   "source": [
    "import numpy as np\n",
    "import pandas as pd\n",
    "import seaborn as sns\n",
    "from sklearn.metrics import confusion_matrix, accuracy_score, recall_score, precision_score"
   ]
  },
  {
   "cell_type": "markdown",
   "metadata": {},
   "source": [
    "### Example 1: two predictors with differente correlation matrices"
   ]
  },
  {
   "cell_type": "markdown",
   "metadata": {},
   "source": [
    "Creating the data"
   ]
  },
  {
   "cell_type": "code",
   "execution_count": 2,
   "metadata": {},
   "outputs": [
    {
     "name": "stdout",
     "output_type": "stream",
     "text": [
      "            xA         xB         fx  y\n",
      "586   2.246981  -6.741174  -4.494193  0\n",
      "779  21.518940 -15.266398   6.252542  1\n",
      "322  16.299621  -5.728692  10.570929  1\n",
      "480  13.925070  -5.884072   8.040998  1\n",
      "87    1.557341  -6.707773  -5.150432  0\n"
     ]
    },
    {
     "data": {
      "text/plain": [
       "<AxesSubplot:xlabel='value', ylabel='Count'>"
      ]
     },
     "execution_count": 2,
     "metadata": {},
     "output_type": "execute_result"
    },
    {
     "data": {
      "image/png": "[encoded data removed]",
      "text/plain": [
       "<Figure size 432x288 with 1 Axes>"
      ]
     },
     "metadata": {
      "needs_background": "light"
     },
     "output_type": "display_data"
    }
   ],
   "source": [
    "#features X\n",
    "meanA, stdA = 10, 5\n",
    "xA = np.random.normal(meanA, stdA, 1000)\n",
    "\n",
    "meanB, stdB = -10, 5\n",
    "xB = np.random.normal(meanB, stdB, 1000)\n",
    "\n",
    "#target y\n",
    "fx = xA + xB\n",
    "y = [1 if i >= (meanA + meanB) else 0 for i in fx]\n",
    "\n",
    "#data with X an y\n",
    "data = pd.DataFrame({'xA':xA, 'xB':xB, 'fx': fx, 'y':y})\n",
    "print(data.sample(5))\n",
    "\n",
    "sns.histplot(data=pd.melt(data, id_vars=['y'], value_vars=['xA', 'xB', 'fx']), x='value', hue='variable', kde=True)"
   ]
  },
  {
   "cell_type": "markdown",
   "metadata": {},
   "source": [
    "Checking the covariance matrices"
   ]
  },
  {
   "cell_type": "code",
   "execution_count": 3,
   "metadata": {},
   "outputs": [
    {
     "name": "stdout",
     "output_type": "stream",
     "text": [
      "           xA         xB\n",
      "xA  16.433043  -7.405066\n",
      "xB  -7.405066  17.508346\n",
      "           xA         xB\n",
      "xA  17.299124  -6.098108\n",
      "xB  -6.098108  17.594789\n"
     ]
    }
   ],
   "source": [
    "#separing the data\n",
    "sample0 = data.loc[data['y'] == 0]\n",
    "sample1 = data.loc[data['y'] == 1]\n",
    "assert data.shape[0] == sample0.shape[0] + sample1.shape[0]\n",
    "\n",
    "#calculating the covariance matrices\n",
    "print(sample0[['xA', 'xB']].cov())\n",
    "print(sample1[['xA', 'xB']].cov())"
   ]
  },
  {
   "cell_type": "markdown",
   "metadata": {},
   "source": [
    "The results above shows the differente between the covariance matrices, which is an indication that QDA should be a better suggestion. Since the QDA's decision function is a curve, it would allow more flexibility than the LDA's decision function, which is a straight line, thus resulting in lower bias.\n",
    "\n",
    "QDA's decision function:\n",
    "\n",
    "<img src=\"img/qda_decision_function.PNG\" />\n",
    "\n",
    "*source: https://www.statlearning.com/*"
   ]
  },
  {
   "cell_type": "code",
   "execution_count": 4,
   "metadata": {},
   "outputs": [],
   "source": [
    "def preparation(df):\n",
    "    '''calculate every variable (except x and xt) necessary for the decision equation'''\n",
    "\n",
    "    sample0 = data.loc[data['y'] == 0]\n",
    "    sample1 = data.loc[data['y'] == 1]\n",
    "\n",
    "    m0 = sample0[['xA','xB']].mean().array.reshape(2,1)\n",
    "    m0_t = sample0[['xA','xB']].mean().array\n",
    "    m1 = sample1[['xA','xB']].mean().array.reshape(2,1)\n",
    "    m1_t = sample1[['xA','xB']].mean().array\n",
    "\n",
    "    cov0 = sample0[['xA', 'xB']].cov().to_numpy()\n",
    "    cov0_inv = np.linalg.inv(sample0[['xA', 'xB']].cov())\n",
    "    cov1 = sample1[['xA', 'xB']].cov().to_numpy()\n",
    "    cov1_inv = np.linalg.inv(sample1[['xA', 'xB']].cov())\n",
    "\n",
    "    ln0, ln1 = np.linalg.det(cov0), np.linalg.det(cov1)\n",
    "    prob0, prob1 = (sample0.shape[0]/data.shape[0]), (sample1.shape[0]/data.shape[0])\n",
    "\n",
    "    return m0, m0_t, m1, m1_t, cov0_inv, cov1_inv, ln0, ln1, prob0, prob1\n",
    "\n",
    "\n",
    "#calculating each variable of the equation\n",
    "m0, m0_t, m1, m1_t, cov0_inv, cov1_inv, ln0, ln1, prob0, prob1 = preparation(data)"
   ]
  },
  {
   "cell_type": "code",
   "execution_count": 5,
   "metadata": {},
   "outputs": [
    {
     "data": {
      "text/html": [
       "<div>\n",
       "<style scoped>\n",
       "    .dataframe tbody tr th:only-of-type {\n",
       "        vertical-align: middle;\n",
       "    }\n",
       "\n",
       "    .dataframe tbody tr th {\n",
       "        vertical-align: top;\n",
       "    }\n",
       "\n",
       "    .dataframe thead th {\n",
       "        text-align: right;\n",
       "    }\n",
       "</style>\n",
       "<table border=\"1\" class=\"dataframe\">\n",
       "  <thead>\n",
       "    <tr style=\"text-align: right;\">\n",
       "      <th></th>\n",
       "      <th>xA</th>\n",
       "      <th>xB</th>\n",
       "      <th>fx</th>\n",
       "      <th>y</th>\n",
       "      <th>fx0</th>\n",
       "      <th>fx1</th>\n",
       "      <th>qda_prediction</th>\n",
       "    </tr>\n",
       "  </thead>\n",
       "  <tbody>\n",
       "    <tr>\n",
       "      <th>0</th>\n",
       "      <td>8.324456</td>\n",
       "      <td>1.871568</td>\n",
       "      <td>10.196024</td>\n",
       "      <td>1</td>\n",
       "      <td>-123.978713</td>\n",
       "      <td>-135.334297</td>\n",
       "      <td>0</td>\n",
       "    </tr>\n",
       "    <tr>\n",
       "      <th>1</th>\n",
       "      <td>5.777577</td>\n",
       "      <td>-5.662278</td>\n",
       "      <td>0.115299</td>\n",
       "      <td>1</td>\n",
       "      <td>-117.448432</td>\n",
       "      <td>-134.617707</td>\n",
       "      <td>0</td>\n",
       "    </tr>\n",
       "    <tr>\n",
       "      <th>2</th>\n",
       "      <td>6.891542</td>\n",
       "      <td>-5.211345</td>\n",
       "      <td>1.680197</td>\n",
       "      <td>1</td>\n",
       "      <td>-117.843272</td>\n",
       "      <td>-134.145836</td>\n",
       "      <td>0</td>\n",
       "    </tr>\n",
       "    <tr>\n",
       "      <th>3</th>\n",
       "      <td>3.513287</td>\n",
       "      <td>-0.002168</td>\n",
       "      <td>3.511119</td>\n",
       "      <td>1</td>\n",
       "      <td>-120.667119</td>\n",
       "      <td>-136.044842</td>\n",
       "      <td>0</td>\n",
       "    </tr>\n",
       "    <tr>\n",
       "      <th>4</th>\n",
       "      <td>16.324454</td>\n",
       "      <td>-8.942814</td>\n",
       "      <td>7.381639</td>\n",
       "      <td>1</td>\n",
       "      <td>-120.584477</td>\n",
       "      <td>-133.462459</td>\n",
       "      <td>0</td>\n",
       "    </tr>\n",
       "    <tr>\n",
       "      <th>...</th>\n",
       "      <td>...</td>\n",
       "      <td>...</td>\n",
       "      <td>...</td>\n",
       "      <td>...</td>\n",
       "      <td>...</td>\n",
       "      <td>...</td>\n",
       "      <td>...</td>\n",
       "    </tr>\n",
       "    <tr>\n",
       "      <th>995</th>\n",
       "      <td>3.037320</td>\n",
       "      <td>-22.204443</td>\n",
       "      <td>-19.167124</td>\n",
       "      <td>0</td>\n",
       "      <td>-121.072226</td>\n",
       "      <td>-147.389965</td>\n",
       "      <td>0</td>\n",
       "    </tr>\n",
       "    <tr>\n",
       "      <th>996</th>\n",
       "      <td>12.647420</td>\n",
       "      <td>-4.503826</td>\n",
       "      <td>8.143594</td>\n",
       "      <td>1</td>\n",
       "      <td>-120.796314</td>\n",
       "      <td>-133.262829</td>\n",
       "      <td>0</td>\n",
       "    </tr>\n",
       "    <tr>\n",
       "      <th>997</th>\n",
       "      <td>9.027095</td>\n",
       "      <td>-15.390879</td>\n",
       "      <td>-6.363785</td>\n",
       "      <td>0</td>\n",
       "      <td>-116.150529</td>\n",
       "      <td>-136.708540</td>\n",
       "      <td>0</td>\n",
       "    </tr>\n",
       "    <tr>\n",
       "      <th>998</th>\n",
       "      <td>9.935817</td>\n",
       "      <td>-13.521981</td>\n",
       "      <td>-3.586164</td>\n",
       "      <td>0</td>\n",
       "      <td>-116.151444</td>\n",
       "      <td>-135.279691</td>\n",
       "      <td>0</td>\n",
       "    </tr>\n",
       "    <tr>\n",
       "      <th>999</th>\n",
       "      <td>1.994044</td>\n",
       "      <td>-5.333842</td>\n",
       "      <td>-3.339798</td>\n",
       "      <td>0</td>\n",
       "      <td>-117.685072</td>\n",
       "      <td>-136.707100</td>\n",
       "      <td>0</td>\n",
       "    </tr>\n",
       "  </tbody>\n",
       "</table>\n",
       "<p>1000 rows × 7 columns</p>\n",
       "</div>"
      ],
      "text/plain": [
       "            xA         xB         fx  y         fx0         fx1  \\\n",
       "0     8.324456   1.871568  10.196024  1 -123.978713 -135.334297   \n",
       "1     5.777577  -5.662278   0.115299  1 -117.448432 -134.617707   \n",
       "2     6.891542  -5.211345   1.680197  1 -117.843272 -134.145836   \n",
       "3     3.513287  -0.002168   3.511119  1 -120.667119 -136.044842   \n",
       "4    16.324454  -8.942814   7.381639  1 -120.584477 -133.462459   \n",
       "..         ...        ...        ... ..         ...         ...   \n",
       "995   3.037320 -22.204443 -19.167124  0 -121.072226 -147.389965   \n",
       "996  12.647420  -4.503826   8.143594  1 -120.796314 -133.262829   \n",
       "997   9.027095 -15.390879  -6.363785  0 -116.150529 -136.708540   \n",
       "998   9.935817 -13.521981  -3.586164  0 -116.151444 -135.279691   \n",
       "999   1.994044  -5.333842  -3.339798  0 -117.685072 -136.707100   \n",
       "\n",
       "     qda_prediction  \n",
       "0                 0  \n",
       "1                 0  \n",
       "2                 0  \n",
       "3                 0  \n",
       "4                 0  \n",
       "..              ...  \n",
       "995               0  \n",
       "996               0  \n",
       "997               0  \n",
       "998               0  \n",
       "999               0  \n",
       "\n",
       "[1000 rows x 7 columns]"
      ]
     },
     "execution_count": 5,
     "metadata": {},
     "output_type": "execute_result"
    }
   ],
   "source": [
    "def decision_function(x, x_t, m, m_t, cov_inv, ln, prob):\n",
    "    '''create the function for each row'''\n",
    "    fx = -0.5 * np.matmul(np.matmul(x_t, cov_inv), x) + \\\n",
    "              + np.matmul(np.matmul(x_t, cov_inv), m) + \\\n",
    "         -0.5 * np.matmul(np.matmul(m_t, cov_inv), m) + \\\n",
    "         -0.5 * ln + prob               \n",
    "    return fx[0]\n",
    "\n",
    "\n",
    "#calculating the decision function\n",
    "data['fx0'] = np.nan\n",
    "data['fx1'] = np.nan\n",
    "data['qda_prediction'] = np.nan\n",
    "\n",
    "for index, row in data.iterrows():\n",
    "    x_t = data[['xA','xB']].loc[index].array\n",
    "    x = data[['xA','xB']].loc[index].array.reshape(2,1)\n",
    "\n",
    "    data.loc[index, 'fx0'] = decision_function(x, x_t, m0, m0_t, cov0_inv, ln0, prob0)\n",
    "    data.loc[index, 'fx1'] = decision_function(x, x_t, m1, m1_t, cov1_inv, ln1, prob1)\n",
    "    data['qda_prediction'] = np.where(data['fx1'] >= data['fx0'], 1, 0)\n",
    "\n",
    "data"
   ]
  },
  {
   "cell_type": "code",
   "execution_count": 8,
   "metadata": {},
   "outputs": [
    {
     "name": "stdout",
     "output_type": "stream",
     "text": [
      "[[503   0]\n",
      " [497   0]]\n",
      "0.503\n",
      "0.0\n",
      "0.0\n"
     ]
    },
    {
     "name": "stderr",
     "output_type": "stream",
     "text": [
      "C:\\Users\\Kenji\\AppData\\Local\\Programs\\Python\\Python310\\lib\\site-packages\\sklearn\\metrics\\_classification.py:1318: UndefinedMetricWarning: Precision is ill-defined and being set to 0.0 due to no predicted samples. Use `zero_division` parameter to control this behavior.\n",
      "  _warn_prf(average, modifier, msg_start, len(result))\n"
     ]
    }
   ],
   "source": [
    "#comparing the results\n",
    "print(confusion_matrix(data['y'], data['qda_prediction']))\n",
    "print(accuracy_score(data['y'], data['qda_prediction']))\n",
    "print(precision_score(data['y'], data['qda_prediction']))\n",
    "print(recall_score(data['y'], data['qda_prediction']))"
   ]
  },
  {
   "cell_type": "markdown",
   "metadata": {},
   "source": [
    "Something is wrong with the formula. Doing some investigation."
   ]
  }
 ],
 "metadata": {
  "interpreter": {
   "hash": "0697e33743e68981c006cc22ac94fff3ae17d2c85313f2bafa4691fafef3845b"
  },
  "kernelspec": {
   "display_name": "Python 3.10.4 64-bit",
   "language": "python",
   "name": "python3"
  },
  "language_info": {
   "codemirror_mode": {
    "name": "ipython",
    "version": 3
   },
   "file_extension": ".py",
   "mimetype": "text/x-python",
   "name": "python",
   "nbconvert_exporter": "python",
   "pygments_lexer": "ipython3",
   "version": "3.10.4"
  },
  "orig_nbformat": 4
 },
 "nbformat": 4,
 "nbformat_minor": 2
}
