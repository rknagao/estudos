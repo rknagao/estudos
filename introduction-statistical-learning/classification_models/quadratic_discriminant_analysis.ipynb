{
 "cells": [
  {
   "cell_type": "markdown",
   "metadata": {},
   "source": [
    "# Quadratic Linear Analysis (QDA)\n",
    "\n",
    "**Objective**:\n",
    " demonstrate how QDA works for classification.\n",
    "\n",
    "**Assumptions**\n",
    "- all features are normal distributed.\n",
    "- all features are uncorrelated\n",
    "- ~~all classes displays the same covariance matrix~~"
   ]
  },
  {
   "cell_type": "code",
   "execution_count": 104,
   "metadata": {},
   "outputs": [],
   "source": [
    "import numpy as np\n",
    "import pandas as pd\n",
    "import seaborn as sns"
   ]
  },
  {
   "cell_type": "markdown",
   "metadata": {},
   "source": [
    "### Example 1: two predictors with differente correlation matrices"
   ]
  },
  {
   "cell_type": "markdown",
   "metadata": {},
   "source": [
    "Creating the data"
   ]
  },
  {
   "cell_type": "code",
   "execution_count": 105,
   "metadata": {},
   "outputs": [
    {
     "name": "stdout",
     "output_type": "stream",
     "text": [
      "            xA         xB        fx  y\n",
      "136  12.610865 -10.924324  1.686541  1\n",
      "257   7.119439  -9.178628 -2.059189  0\n",
      "592  15.756551  -6.474808  9.281743  1\n",
      "438  17.554824 -13.781094  3.773729  1\n",
      "531  13.997904  -5.158835  8.839068  1\n"
     ]
    },
    {
     "data": {
      "text/plain": [
       "<AxesSubplot:xlabel='value', ylabel='Count'>"
      ]
     },
     "execution_count": 105,
     "metadata": {},
     "output_type": "execute_result"
    },
    {
     "data": {
      "image/png": "[encoded data removed]",
      "text/plain": [
       "<Figure size 432x288 with 1 Axes>"
      ]
     },
     "metadata": {
      "needs_background": "light"
     },
     "output_type": "display_data"
    }
   ],
   "source": [
    "#features X\n",
    "meanA, stdA = 10, 5\n",
    "xA = np.random.normal(meanA, stdA, 1000)\n",
    "\n",
    "meanB, stdB = -10, 5\n",
    "xB = np.random.normal(meanB, stdB, 1000)\n",
    "\n",
    "#target y\n",
    "fx = xA + xB\n",
    "y = [1 if i >= (meanA + meanB) else 0 for i in fx]\n",
    "\n",
    "#data with X an y\n",
    "data = pd.DataFrame({'xA':xA, 'xB':xB, 'fx': fx, 'y':y})\n",
    "print(data.sample(5))\n",
    "\n",
    "sns.histplot(data=pd.melt(data, id_vars=['y'], value_vars=['xA', 'xB', 'fx']), x='value', hue='variable', kde=True)"
   ]
  },
  {
   "cell_type": "markdown",
   "metadata": {},
   "source": [
    "Checking the covariance matrices"
   ]
  },
  {
   "cell_type": "code",
   "execution_count": 106,
   "metadata": {},
   "outputs": [
    {
     "name": "stdout",
     "output_type": "stream",
     "text": [
      "           xA         xB\n",
      "xA  16.794555  -9.226566\n",
      "xB  -9.226566  18.089364\n",
      "           xA         xB\n",
      "xA  16.648352  -7.424631\n",
      "xB  -7.424631  16.000445\n"
     ]
    }
   ],
   "source": [
    "#separing the data\n",
    "sample0 = data.loc[data['y'] == 0]\n",
    "sample1 = data.loc[data['y'] == 1]\n",
    "assert data.shape[0] == sample0.shape[0] + sample1.shape[0]\n",
    "\n",
    "#calculating the covariance matrices\n",
    "print(sample0[['xA', 'xB']].cov())\n",
    "print(sample1[['xA', 'xB']].cov())"
   ]
  },
  {
   "cell_type": "markdown",
   "metadata": {},
   "source": [
    "The results above shows the differente between the covariance matrices, which is an indication that QDA should be a better suggestion. Since the QDA's decision function is a curve, it would allow more flexibility than the LDA's decision function, which is a straight line, thus resulting in lower bias.\n",
    "\n",
    "QDA's decision function:\n",
    "\n",
    "<img src=\"img/qda_decision_function.PNG\" />\n",
    "\n",
    "*source: https://www.statlearning.com/*"
   ]
  },
  {
   "cell_type": "code",
   "execution_count": 107,
   "metadata": {},
   "outputs": [],
   "source": [
    "def preparation(df):\n",
    "    '''calculate every variable (except x and xt) necessary for the decision equation'''\n",
    "\n",
    "    sample0 = data.loc[data['y'] == 0]\n",
    "    sample1 = data.loc[data['y'] == 1]\n",
    "\n",
    "    m0 = sample0[['xA','xB']].mean().array.reshape(2,1)\n",
    "    m0_t = sample0[['xA','xB']].mean().array\n",
    "    m1 = sample1[['xA','xB']].mean().array.reshape(2,1)\n",
    "    m1_t = sample1[['xA','xB']].mean().array\n",
    "\n",
    "    cov0 = sample0[['xA', 'xB']].cov().to_numpy()\n",
    "    cov0_inv = np.linalg.inv(sample0[['xA', 'xB']].cov())\n",
    "    cov1 = sample1[['xA', 'xB']].cov().to_numpy()\n",
    "    cov1_inv = np.linalg.inv(sample1[['xA', 'xB']].cov())\n",
    "\n",
    "    ln0, ln1 = np.linalg.det(cov0), np.linalg.det(cov1)\n",
    "    prob0, prob1 = (sample0.shape[0]/data.shape[0]), (sample1.shape[0]/data.shape[0])\n",
    "\n",
    "    return m0, m0_t, m1, m1_t, cov0_inv, cov1_inv, ln0, ln1, prob0, prob1\n",
    "\n",
    "\n",
    "#calculating each variable of the equation\n",
    "m0, m0_t, m1, m1_t, cov0_inv, cov1_inv, ln0, ln1, prob0, prob1 = preparation(data)"
   ]
  },
  {
   "cell_type": "code",
   "execution_count": 108,
   "metadata": {},
   "outputs": [
    {
     "data": {
      "text/html": [
       "<div>\n",
       "<style scoped>\n",
       "    .dataframe tbody tr th:only-of-type {\n",
       "        vertical-align: middle;\n",
       "    }\n",
       "\n",
       "    .dataframe tbody tr th {\n",
       "        vertical-align: top;\n",
       "    }\n",
       "\n",
       "    .dataframe thead th {\n",
       "        text-align: right;\n",
       "    }\n",
       "</style>\n",
       "<table border=\"1\" class=\"dataframe\">\n",
       "  <thead>\n",
       "    <tr style=\"text-align: right;\">\n",
       "      <th></th>\n",
       "      <th>xA</th>\n",
       "      <th>xB</th>\n",
       "      <th>fx</th>\n",
       "      <th>y</th>\n",
       "      <th>fx0</th>\n",
       "      <th>fx1</th>\n",
       "      <th>qda_prediction</th>\n",
       "    </tr>\n",
       "  </thead>\n",
       "  <tbody>\n",
       "    <tr>\n",
       "      <th>0</th>\n",
       "      <td>7.364575</td>\n",
       "      <td>-11.774838</td>\n",
       "      <td>-4.410263</td>\n",
       "      <td>0</td>\n",
       "      <td>-108.845494</td>\n",
       "      <td>-107.891930</td>\n",
       "      <td>1</td>\n",
       "    </tr>\n",
       "    <tr>\n",
       "      <th>1</th>\n",
       "      <td>11.280773</td>\n",
       "      <td>-13.950333</td>\n",
       "      <td>-2.669560</td>\n",
       "      <td>0</td>\n",
       "      <td>-109.311103</td>\n",
       "      <td>-107.271603</td>\n",
       "      <td>1</td>\n",
       "    </tr>\n",
       "    <tr>\n",
       "      <th>2</th>\n",
       "      <td>11.428865</td>\n",
       "      <td>-6.312893</td>\n",
       "      <td>5.115973</td>\n",
       "      <td>1</td>\n",
       "      <td>-112.124683</td>\n",
       "      <td>-105.227833</td>\n",
       "      <td>1</td>\n",
       "    </tr>\n",
       "    <tr>\n",
       "      <th>3</th>\n",
       "      <td>6.698252</td>\n",
       "      <td>-17.123181</td>\n",
       "      <td>-10.424929</td>\n",
       "      <td>0</td>\n",
       "      <td>-109.737529</td>\n",
       "      <td>-112.395264</td>\n",
       "      <td>0</td>\n",
       "    </tr>\n",
       "    <tr>\n",
       "      <th>4</th>\n",
       "      <td>12.954100</td>\n",
       "      <td>-11.383189</td>\n",
       "      <td>1.570911</td>\n",
       "      <td>1</td>\n",
       "      <td>-110.477295</td>\n",
       "      <td>-105.740547</td>\n",
       "      <td>1</td>\n",
       "    </tr>\n",
       "    <tr>\n",
       "      <th>...</th>\n",
       "      <td>...</td>\n",
       "      <td>...</td>\n",
       "      <td>...</td>\n",
       "      <td>...</td>\n",
       "      <td>...</td>\n",
       "      <td>...</td>\n",
       "      <td>...</td>\n",
       "    </tr>\n",
       "    <tr>\n",
       "      <th>995</th>\n",
       "      <td>6.024311</td>\n",
       "      <td>-8.476358</td>\n",
       "      <td>-2.452046</td>\n",
       "      <td>0</td>\n",
       "      <td>-109.314849</td>\n",
       "      <td>-107.243987</td>\n",
       "      <td>1</td>\n",
       "    </tr>\n",
       "    <tr>\n",
       "      <th>996</th>\n",
       "      <td>11.581728</td>\n",
       "      <td>-13.098697</td>\n",
       "      <td>-1.516969</td>\n",
       "      <td>0</td>\n",
       "      <td>-109.489073</td>\n",
       "      <td>-106.723241</td>\n",
       "      <td>1</td>\n",
       "    </tr>\n",
       "    <tr>\n",
       "      <th>997</th>\n",
       "      <td>9.268479</td>\n",
       "      <td>-12.014967</td>\n",
       "      <td>-2.746488</td>\n",
       "      <td>0</td>\n",
       "      <td>-109.036132</td>\n",
       "      <td>-107.050491</td>\n",
       "      <td>1</td>\n",
       "    </tr>\n",
       "    <tr>\n",
       "      <th>998</th>\n",
       "      <td>0.720112</td>\n",
       "      <td>-11.208824</td>\n",
       "      <td>-10.488712</td>\n",
       "      <td>0</td>\n",
       "      <td>-110.305750</td>\n",
       "      <td>-112.956796</td>\n",
       "      <td>0</td>\n",
       "    </tr>\n",
       "    <tr>\n",
       "      <th>999</th>\n",
       "      <td>9.989088</td>\n",
       "      <td>-5.081799</td>\n",
       "      <td>4.907288</td>\n",
       "      <td>1</td>\n",
       "      <td>-112.130375</td>\n",
       "      <td>-105.460050</td>\n",
       "      <td>1</td>\n",
       "    </tr>\n",
       "  </tbody>\n",
       "</table>\n",
       "<p>1000 rows × 7 columns</p>\n",
       "</div>"
      ],
      "text/plain": [
       "            xA         xB         fx  y         fx0         fx1  \\\n",
       "0     7.364575 -11.774838  -4.410263  0 -108.845494 -107.891930   \n",
       "1    11.280773 -13.950333  -2.669560  0 -109.311103 -107.271603   \n",
       "2    11.428865  -6.312893   5.115973  1 -112.124683 -105.227833   \n",
       "3     6.698252 -17.123181 -10.424929  0 -109.737529 -112.395264   \n",
       "4    12.954100 -11.383189   1.570911  1 -110.477295 -105.740547   \n",
       "..         ...        ...        ... ..         ...         ...   \n",
       "995   6.024311  -8.476358  -2.452046  0 -109.314849 -107.243987   \n",
       "996  11.581728 -13.098697  -1.516969  0 -109.489073 -106.723241   \n",
       "997   9.268479 -12.014967  -2.746488  0 -109.036132 -107.050491   \n",
       "998   0.720112 -11.208824 -10.488712  0 -110.305750 -112.956796   \n",
       "999   9.989088  -5.081799   4.907288  1 -112.130375 -105.460050   \n",
       "\n",
       "     qda_prediction  \n",
       "0                 1  \n",
       "1                 1  \n",
       "2                 1  \n",
       "3                 0  \n",
       "4                 1  \n",
       "..              ...  \n",
       "995               1  \n",
       "996               1  \n",
       "997               1  \n",
       "998               0  \n",
       "999               1  \n",
       "\n",
       "[1000 rows x 7 columns]"
      ]
     },
     "execution_count": 108,
     "metadata": {},
     "output_type": "execute_result"
    }
   ],
   "source": [
    "def decision_function(x, x_t, m, m_t, cov_inv, ln, prob):\n",
    "    '''create the function for each row'''\n",
    "    fx = -0.5 * np.matmul(np.matmul(x_t, cov_inv), x) + \\\n",
    "              + np.matmul(np.matmul(x_t, cov_inv), m) + \\\n",
    "         -0.5 * np.matmul(np.matmul(m_t, cov_inv), m) + \\\n",
    "         -0.5 * ln + prob               \n",
    "    return fx[0]\n",
    "\n",
    "\n",
    "#calculating the decision function\n",
    "data['fx0'] = np.nan\n",
    "data['fx1'] = np.nan\n",
    "data['qda_prediction'] = np.nan\n",
    "\n",
    "for index, row in data.iterrows():\n",
    "    x_t = data[['xA','xB']].loc[index].array\n",
    "    x = data[['xA','xB']].loc[index].array.reshape(2,1)\n",
    "\n",
    "    data.loc[index, 'fx0'] = decision_function(x, x_t, m0, m0_t, cov0_inv, ln0, prob0)\n",
    "    data.loc[index, 'fx1'] = decision_function(x, x_t, m1, m1_t, cov1_inv, ln1, prob1)\n",
    "    data['qda_prediction'] = np.where(data['fx1'] >= data['fx0'], 1, 0)\n",
    "\n",
    "data"
   ]
  },
  {
   "cell_type": "code",
   "execution_count": null,
   "metadata": {},
   "outputs": [],
   "source": []
  },
  {
   "cell_type": "code",
   "execution_count": null,
   "metadata": {},
   "outputs": [],
   "source": []
  }
 ],
 "metadata": {
  "interpreter": {
   "hash": "0697e33743e68981c006cc22ac94fff3ae17d2c85313f2bafa4691fafef3845b"
  },
  "kernelspec": {
   "display_name": "Python 3.10.4 64-bit",
   "language": "python",
   "name": "python3"
  },
  "language_info": {
   "codemirror_mode": {
    "name": "ipython",
    "version": 3
   },
   "file_extension": ".py",
   "mimetype": "text/x-python",
   "name": "python",
   "nbconvert_exporter": "python",
   "pygments_lexer": "ipython3",
   "version": "3.10.4"
  },
  "orig_nbformat": 4
 },
 "nbformat": 4,
 "nbformat_minor": 2
}
