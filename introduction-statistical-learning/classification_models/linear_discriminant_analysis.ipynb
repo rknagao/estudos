{
 "cells": [
  {
   "cell_type": "markdown",
   "metadata": {},
   "source": [
    "# Linear Discriminant Analysis (LDA)\n",
    "\n",
    "**Objective**:\n",
    " demonstrate how LDA works.\n",
    "\n",
    "**Assumptions**\n",
    "- all features are normal distributed"
   ]
  },
  {
   "cell_type": "code",
   "execution_count": 3,
   "metadata": {},
   "outputs": [],
   "source": [
    "import pandas as pd\n",
    "import matplotlib.pyplot as plt\n",
    "import numpy as np\n",
    "import seaborn as sns\n",
    "from sklearn.metrics import confusion_matrix, accuracy_score, recall_score, precision_score"
   ]
  },
  {
   "cell_type": "markdown",
   "metadata": {},
   "source": [
    "### Cenario 1 - LDA with 1 normal distribuited feature and 1 class "
   ]
  },
  {
   "cell_type": "code",
   "execution_count": 4,
   "metadata": {},
   "outputs": [
    {
     "name": "stdout",
     "output_type": "stream",
     "text": [
      "             x  y\n",
      "258  15.555925  1\n",
      "612  12.363528  1\n",
      "244  14.835385  1\n",
      "57    6.005414  0\n",
      "17    8.664645  0\n"
     ]
    },
    {
     "data": {
      "text/plain": [
       "<AxesSubplot:xlabel='x', ylabel='Count'>"
      ]
     },
     "execution_count": 4,
     "metadata": {},
     "output_type": "execute_result"
    },
    {
     "data": {
      "image/png": "[encoded data removed]",
      "text/plain": [
       "<Figure size 432x288 with 1 Axes>"
      ]
     },
     "metadata": {
      "needs_background": "light"
     },
     "output_type": "display_data"
    }
   ],
   "source": [
    "#feature\n",
    "mean, std = 10, 5\n",
    "x = np.random.normal(mean, std, 1000)\n",
    "\n",
    "#class\n",
    "#fx = b0 + b1 * x1 + error\n",
    "error = np.random.normal(0, 1, 1000)\n",
    "fx = x + error\n",
    "\n",
    "y = [1 if i >= mean else 0 for i in x]\n",
    "\n",
    "#data with X an y\n",
    "data = pd.DataFrame({'x':x, 'y':y})\n",
    "print(data.sample(5))\n",
    "\n",
    "sns.histplot(data=data, x='x', kde=True)"
   ]
  },
  {
   "cell_type": "code",
   "execution_count": 5,
   "metadata": {},
   "outputs": [
    {
     "name": "stdout",
     "output_type": "stream",
     "text": [
      "14.08072295122703\n",
      "6.021956454410554\n",
      "0.512\n",
      "0.488\n",
      "9.57165737516744\n"
     ]
    }
   ],
   "source": [
    "#LDA\n",
    "#step 1: separate the sample by class\n",
    "sample_class1 = data.loc[data['y'] == 1, 'x']\n",
    "sample_class0 = data.loc[data['y'] == 0, 'x']\n",
    "\n",
    "\n",
    "#step 2: calculate the means and probability of a random element belong to each class\n",
    "mean_class1 = sample_class1.mean()\n",
    "print(mean_class1)\n",
    "\n",
    "mean_class0 = sample_class0.mean()\n",
    "print(mean_class0)\n",
    "\n",
    "prob_class1 = len(sample_class1)/len(data)\n",
    "print(prob_class1)\n",
    "\n",
    "prob_class0 = 1 - prob_class1\n",
    "print(prob_class0)\n",
    "\n",
    "\n",
    "#step 3: calculate std as a weighted average of sample variance for each class\n",
    "sample_lda = 1/(len(data) - len(set(y))) * (sum((sample_class1 - mean_class1) ** 2) + sum((sample_class0 - mean_class0) ** 2))\n",
    "print(sample_lda)\n",
    "\n",
    "\n",
    "#step 4: LDA classifier\n",
    "pred_class1 = data['x'] * mean_class1/(sample_lda**2) - (mean_class1**2)/(2*(sample_lda**2)) + np.log(prob_class1)\n",
    "pred_class0 = data['x'] * mean_class0/(sample_lda**2) - (mean_class0**2)/(2*(sample_lda**2)) + np.log(prob_class0)"
   ]
  },
  {
   "cell_type": "code",
   "execution_count": 6,
   "metadata": {},
   "outputs": [
    {
     "name": "stdout",
     "output_type": "stream",
     "text": [
      "[[449  39]\n",
      " [  0 512]]\n",
      "0.961\n",
      "0.9292196007259528\n",
      "1.0\n"
     ]
    }
   ],
   "source": [
    "#comparing results\n",
    "data['prob_class1'] = pred_class1\n",
    "data['prob_class0'] = pred_class0\n",
    "data['prediction_lda'] = np.where(data['prob_class1'] > data['prob_class0'], 1, 0)\n",
    "\n",
    "print(confusion_matrix(data['y'], data['prediction_lda']))\n",
    "print(accuracy_score(data['y'], data['prediction_lda']))\n",
    "print(precision_score(data['y'], data['prediction_lda']))\n",
    "print(recall_score(data['y'], data['prediction_lda']))"
   ]
  },
  {
   "cell_type": "code",
   "execution_count": 7,
   "metadata": {},
   "outputs": [
    {
     "data": {
      "text/plain": [
       "<AxesSubplot:xlabel='x', ylabel='prob_class1'>"
      ]
     },
     "execution_count": 7,
     "metadata": {},
     "output_type": "execute_result"
    },
    {
     "data": {
      "image/png": "[encoded data removed]",
      "text/plain": [
       "<Figure size 432x288 with 1 Axes>"
      ]
     },
     "metadata": {
      "needs_background": "light"
     },
     "output_type": "display_data"
    }
   ],
   "source": [
    "#graphing the probabilty\n",
    "sns.histplot(data=data, x='x', y='prob_class1', kde=True, color='red')\n",
    "sns.histplot(data=data, x='x', y='prob_class0', kde=True)"
   ]
  },
  {
   "cell_type": "markdown",
   "metadata": {},
   "source": [
    "**Conclusion**: the predictions of LDA displayed accuracy higher than 90% in most of the executions. As we can see in the graph, each line is the probability calculated by the algorithm for every element to belong to each class, and so the prediction is based on wich line is higher. "
   ]
  }
 ],
 "metadata": {
  "interpreter": {
   "hash": "5069c40d0919acfc919ba69b4a4d6ed4ea13303c3fbc9d067e494b47178b3648"
  },
  "kernelspec": {
   "display_name": "Python 3.9.6 64-bit",
   "language": "python",
   "name": "python3"
  },
  "language_info": {
   "codemirror_mode": {
    "name": "ipython",
    "version": 3
   },
   "file_extension": ".py",
   "mimetype": "text/x-python",
   "name": "python",
   "nbconvert_exporter": "python",
   "pygments_lexer": "ipython3",
   "version": "3.10.4"
  },
  "orig_nbformat": 4
 },
 "nbformat": 4,
 "nbformat_minor": 2
}
