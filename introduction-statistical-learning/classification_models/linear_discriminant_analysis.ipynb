{
 "cells": [
  {
   "cell_type": "markdown",
   "metadata": {},
   "source": [
    "# Linear Discriminant Analysis (LDA)\n",
    "\n",
    "**Objective**:\n",
    " demonstrate how LDA works.\n",
    "\n",
    "**Assumptions**\n",
    "- all features are normal distributed.\n",
    "- all features are uncorrelated"
   ]
  },
  {
   "cell_type": "code",
   "execution_count": 2,
   "metadata": {},
   "outputs": [],
   "source": [
    "import pandas as pd\n",
    "import matplotlib.pyplot as plt\n",
    "import numpy as np\n",
    "import seaborn as sns\n",
    "from sklearn.metrics import confusion_matrix, accuracy_score, recall_score, precision_score"
   ]
  },
  {
   "cell_type": "markdown",
   "metadata": {},
   "source": [
    "### Cenario 1 - LDA with 1 normal distribuited feature"
   ]
  },
  {
   "cell_type": "code",
   "execution_count": 3,
   "metadata": {},
   "outputs": [
    {
     "name": "stdout",
     "output_type": "stream",
     "text": [
      "             x  y\n",
      "133  12.139149  1\n",
      "629   6.437758  0\n",
      "544  11.330208  1\n",
      "916   3.651016  0\n",
      "766  10.193700  1\n"
     ]
    },
    {
     "data": {
      "text/plain": [
       "<AxesSubplot:xlabel='x', ylabel='Count'>"
      ]
     },
     "execution_count": 3,
     "metadata": {},
     "output_type": "execute_result"
    },
    {
     "data": {
      "image/png": "[encoded data removed]",
      "text/plain": [
       "<Figure size 432x288 with 1 Axes>"
      ]
     },
     "metadata": {
      "needs_background": "light"
     },
     "output_type": "display_data"
    }
   ],
   "source": [
    "#feature\n",
    "mean, std = 10, 5\n",
    "x = np.random.normal(mean, std, 1000)\n",
    "\n",
    "#class\n",
    "#fx = b0 + b1 * x1 + error\n",
    "error = np.random.normal(0, 1, 1000)\n",
    "fx = x + error\n",
    "\n",
    "y = [1 if i >= mean else 0 for i in x]\n",
    "\n",
    "#data with X an y\n",
    "data = pd.DataFrame({'x':x, 'y':y})\n",
    "print(data.sample(5))\n",
    "\n",
    "sns.histplot(data=data, x='x', kde=True)"
   ]
  },
  {
   "cell_type": "code",
   "execution_count": 4,
   "metadata": {},
   "outputs": [
    {
     "name": "stdout",
     "output_type": "stream",
     "text": [
      "13.947469506933544\n",
      "6.053704948541593\n",
      "0.498\n",
      "0.502\n",
      "8.763301730208315\n"
     ]
    }
   ],
   "source": [
    "#LDA\n",
    "#step 1: separate the sample by class\n",
    "sample_class1 = data.loc[data['y'] == 1, 'x']\n",
    "sample_class0 = data.loc[data['y'] == 0, 'x']\n",
    "\n",
    "\n",
    "#step 2: calculate the means and probability of a random element belong to each class\n",
    "mean_class1 = sample_class1.mean()\n",
    "print(mean_class1)\n",
    "\n",
    "mean_class0 = sample_class0.mean()\n",
    "print(mean_class0)\n",
    "\n",
    "prob_class1 = len(sample_class1)/len(data)\n",
    "print(prob_class1)\n",
    "\n",
    "prob_class0 = 1 - prob_class1\n",
    "print(prob_class0)\n",
    "\n",
    "\n",
    "#step 3: calculate std as a weighted average of sample variance for each class\n",
    "sample_lda = 1/(len(data) - len(set(y))) * (sum((sample_class1 - mean_class1) ** 2) + sum((sample_class0 - mean_class0) ** 2))\n",
    "print(sample_lda)\n",
    "\n",
    "\n",
    "#step 4: LDA classifier\n",
    "pred_class1 = data['x'] * mean_class1/(sample_lda**2) - (mean_class1**2)/(2*(sample_lda**2)) + np.log(prob_class1)\n",
    "pred_class0 = data['x'] * mean_class0/(sample_lda**2) - (mean_class0**2)/(2*(sample_lda**2)) + np.log(prob_class0)"
   ]
  },
  {
   "cell_type": "code",
   "execution_count": 5,
   "metadata": {},
   "outputs": [
    {
     "name": "stdout",
     "output_type": "stream",
     "text": [
      "[[502   0]\n",
      " [  7 491]]\n",
      "0.993\n",
      "1.0\n",
      "0.9859437751004017\n"
     ]
    }
   ],
   "source": [
    "#comparing results\n",
    "data['prob_class1'] = pred_class1\n",
    "data['prob_class0'] = pred_class0\n",
    "data['prediction_lda'] = np.where(data['prob_class1'] > data['prob_class0'], 1, 0)\n",
    "\n",
    "print(confusion_matrix(data['y'], data['prediction_lda']))\n",
    "print(accuracy_score(data['y'], data['prediction_lda']))\n",
    "print(precision_score(data['y'], data['prediction_lda']))\n",
    "print(recall_score(data['y'], data['prediction_lda']))"
   ]
  },
  {
   "cell_type": "code",
   "execution_count": 6,
   "metadata": {},
   "outputs": [
    {
     "data": {
      "text/plain": [
       "<AxesSubplot:xlabel='x', ylabel='prob_class1'>"
      ]
     },
     "execution_count": 6,
     "metadata": {},
     "output_type": "execute_result"
    },
    {
     "data": {
      "image/png": "[encoded data removed]",
      "text/plain": [
       "<Figure size 432x288 with 1 Axes>"
      ]
     },
     "metadata": {
      "needs_background": "light"
     },
     "output_type": "display_data"
    }
   ],
   "source": [
    "#graphing the probabilty\n",
    "sns.histplot(data=data, x='x', y='prob_class1', kde=True, color='red')\n",
    "sns.histplot(data=data, x='x', y='prob_class0', kde=True)"
   ]
  },
  {
   "cell_type": "markdown",
   "metadata": {},
   "source": [
    "**Conclusion**: the predictions of LDA displayed accuracy higher than 90% in most of the executions. As we can see in the graph, each line is the probability calculated by the algorithm for every element to belong to each class, and so the prediction is based on wich line is higher. "
   ]
  },
  {
   "cell_type": "markdown",
   "metadata": {},
   "source": [
    "### Cenario 2 - LDA with 3 normal distributed and uncorrelated features"
   ]
  },
  {
   "cell_type": "code",
   "execution_count": 10,
   "metadata": {},
   "outputs": [
    {
     "name": "stdout",
     "output_type": "stream",
     "text": [
      "            xA         xB         xC  y\n",
      "314  17.322396 -10.872933  -3.239347  1\n",
      "579   6.168071  -7.966652 -12.462735  1\n",
      "689  15.536318 -15.823596  -1.739038  1\n",
      "642   8.437507  -2.383451   8.716284  1\n",
      "736  -2.368912 -11.044704   3.342691  1\n"
     ]
    },
    {
     "data": {
      "text/plain": [
       "<AxesSubplot:xlabel='value', ylabel='Count'>"
      ]
     },
     "execution_count": 10,
     "metadata": {},
     "output_type": "execute_result"
    },
    {
     "data": {
      "image/png": "[encoded data removed]",
      "text/plain": [
       "<Figure size 432x288 with 1 Axes>"
      ]
     },
     "metadata": {
      "needs_background": "light"
     },
     "output_type": "display_data"
    }
   ],
   "source": [
    "#feature A\n",
    "meanA, stdA = 10, 5\n",
    "xA = np.random.normal(meanA, stdA, 1000)\n",
    "\n",
    "\n",
    "#feature B\n",
    "meanB, stdB = -10, 5\n",
    "xB = np.random.normal(meanB, stdB, 1000)\n",
    "\n",
    "\n",
    "#feature C\n",
    "meanC, stdC = 0, 5\n",
    "xC = np.random.normal(meanC, stdC, 1000)\n",
    "\n",
    "#class\n",
    "error = np.random.normal(0, 1, 1000)\n",
    "fx = xA + xB + xC + error\n",
    "\n",
    "y = [1 if i >= (meanA + meanB + meanC) else 0 for i in x]\n",
    "\n",
    "#data with X an y\n",
    "data = pd.DataFrame({'xA':xA, 'xB':xB, 'xC':xC, 'y':y})\n",
    "print(data.sample(5))\n",
    "\n",
    "sns.histplot(data=pd.melt(data, id_vars=['y'], value_vars=['xA', 'xB', 'xC']), x='value', hue='variable', kde=True)"
   ]
  },
  {
   "cell_type": "code",
   "execution_count": 25,
   "metadata": {},
   "outputs": [
    {
     "data": {
      "text/html": [
       "<div>\n",
       "<style scoped>\n",
       "    .dataframe tbody tr th:only-of-type {\n",
       "        vertical-align: middle;\n",
       "    }\n",
       "\n",
       "    .dataframe tbody tr th {\n",
       "        vertical-align: top;\n",
       "    }\n",
       "\n",
       "    .dataframe thead th {\n",
       "        text-align: right;\n",
       "    }\n",
       "</style>\n",
       "<table border=\"1\" class=\"dataframe\">\n",
       "  <thead>\n",
       "    <tr style=\"text-align: right;\">\n",
       "      <th></th>\n",
       "      <th>xA</th>\n",
       "      <th>xB</th>\n",
       "      <th>xC</th>\n",
       "    </tr>\n",
       "  </thead>\n",
       "  <tbody>\n",
       "    <tr>\n",
       "      <th>xA</th>\n",
       "      <td>1.000000</td>\n",
       "      <td>0.008745</td>\n",
       "      <td>-0.038725</td>\n",
       "    </tr>\n",
       "    <tr>\n",
       "      <th>xB</th>\n",
       "      <td>0.008745</td>\n",
       "      <td>1.000000</td>\n",
       "      <td>0.014587</td>\n",
       "    </tr>\n",
       "    <tr>\n",
       "      <th>xC</th>\n",
       "      <td>-0.038725</td>\n",
       "      <td>0.014587</td>\n",
       "      <td>1.000000</td>\n",
       "    </tr>\n",
       "  </tbody>\n",
       "</table>\n",
       "</div>"
      ],
      "text/plain": [
       "          xA        xB        xC\n",
       "xA  1.000000  0.008745 -0.038725\n",
       "xB  0.008745  1.000000  0.014587\n",
       "xC -0.038725  0.014587  1.000000"
      ]
     },
     "execution_count": 25,
     "metadata": {},
     "output_type": "execute_result"
    }
   ],
   "source": [
    "#correlation matrix\n",
    "data.drop(columns='y').corr()"
   ]
  },
  {
   "cell_type": "code",
   "execution_count": 47,
   "metadata": {},
   "outputs": [
    {
     "name": "stdout",
     "output_type": "stream",
     "text": [
      "xA    9.773698\n",
      "xB   -9.926601\n",
      "xC   -0.252843\n",
      "dtype: float64\n",
      "xA     8.807366\n",
      "xB   -10.374311\n",
      "xC    -1.335470\n",
      "dtype: float64\n",
      "0.972\n",
      "0.028000000000000025\n"
     ]
    },
    {
     "name": "stderr",
     "output_type": "stream",
     "text": [
      "C:\\Users\\Kenji\\AppData\\Local\\Temp\\ipykernel_10808\\1444407484.py:27: FutureWarning: Calling a ufunc on non-aligned DataFrames (or DataFrame/Series combination). Currently, the indices are ignored and the result takes the index/columns of the first DataFrame. In the future , the DataFrames/Series will be aligned before applying the ufunc.\n",
      "Convert one of the arguments to a NumPy array (eg 'ufunc(df1, np.asarray(df2)') to keep the current behaviour, or align manually (eg 'df1, df2 = df1.align(df2)') before passing to the ufunc to obtain the future behaviour and silence this warning.\n",
      "  pred_class1 = np.matmul(X.T, X_corr) * mean_class1 - 0.5 * np.matmul(mean_class1, X_corr) * mean_class1 + np.log(prob_class1)\n"
     ]
    },
    {
     "ename": "ValueError",
     "evalue": "Dot product shape mismatch, (3, 1000) vs (3, 3)",
     "output_type": "error",
     "traceback": [
      "\u001b[1;31m---------------------------------------------------------------------------\u001b[0m",
      "\u001b[1;31mValueError\u001b[0m                                Traceback (most recent call last)",
      "\u001b[1;32md:\\DS\\estudos\\introduction-statistical-learning\\classification_models\\linear_discriminant_analysis.ipynb Cell 12'\u001b[0m in \u001b[0;36m<cell line: 27>\u001b[1;34m()\u001b[0m\n\u001b[0;32m     <a href='vscode-notebook-cell:/d%3A/DS/estudos/introduction-statistical-learning/classification_models/linear_discriminant_analysis.ipynb#ch0000024?line=21'>22</a>\u001b[0m X_corr \u001b[39m=\u001b[39m X\u001b[39m.\u001b[39mcorr()\n\u001b[0;32m     <a href='vscode-notebook-cell:/d%3A/DS/estudos/introduction-statistical-learning/classification_models/linear_discriminant_analysis.ipynb#ch0000024?line=24'>25</a>\u001b[0m \u001b[39m#step 4: LDA classifier\u001b[39;00m\n\u001b[0;32m     <a href='vscode-notebook-cell:/d%3A/DS/estudos/introduction-statistical-learning/classification_models/linear_discriminant_analysis.ipynb#ch0000024?line=25'>26</a>\u001b[0m \u001b[39m#pred_class1 = np.matmul(X, X_corr) * mean_class1 - 0.5 * np.matmul([mean_class1, mean_class1, mean_class1], X_corr) * mean_class1 + np.log(prob_class1)\u001b[39;00m\n\u001b[1;32m---> <a href='vscode-notebook-cell:/d%3A/DS/estudos/introduction-statistical-learning/classification_models/linear_discriminant_analysis.ipynb#ch0000024?line=26'>27</a>\u001b[0m pred_class1 \u001b[39m=\u001b[39m np\u001b[39m.\u001b[39;49mmatmul(X\u001b[39m.\u001b[39;49mT, X_corr) \u001b[39m*\u001b[39m mean_class1 \u001b[39m-\u001b[39m \u001b[39m0.5\u001b[39m \u001b[39m*\u001b[39m np\u001b[39m.\u001b[39mmatmul(mean_class1, X_corr) \u001b[39m*\u001b[39m mean_class1 \u001b[39m+\u001b[39m np\u001b[39m.\u001b[39mlog(prob_class1)\n",
      "File \u001b[1;32m~\\AppData\\Local\\Programs\\Python\\Python310\\lib\\site-packages\\pandas\\core\\generic.py:2101\u001b[0m, in \u001b[0;36mNDFrame.__array_ufunc__\u001b[1;34m(self, ufunc, method, *inputs, **kwargs)\u001b[0m\n\u001b[0;32m   <a href='file:///c%3A/Users/Kenji/AppData/Local/Programs/Python/Python310/lib/site-packages/pandas/core/generic.py?line=2096'>2097</a>\u001b[0m \u001b[39m@final\u001b[39m\n\u001b[0;32m   <a href='file:///c%3A/Users/Kenji/AppData/Local/Programs/Python/Python310/lib/site-packages/pandas/core/generic.py?line=2097'>2098</a>\u001b[0m \u001b[39mdef\u001b[39;00m \u001b[39m__array_ufunc__\u001b[39m(\n\u001b[0;32m   <a href='file:///c%3A/Users/Kenji/AppData/Local/Programs/Python/Python310/lib/site-packages/pandas/core/generic.py?line=2098'>2099</a>\u001b[0m     \u001b[39mself\u001b[39m, ufunc: np\u001b[39m.\u001b[39mufunc, method: \u001b[39mstr\u001b[39m, \u001b[39m*\u001b[39minputs: Any, \u001b[39m*\u001b[39m\u001b[39m*\u001b[39mkwargs: Any\n\u001b[0;32m   <a href='file:///c%3A/Users/Kenji/AppData/Local/Programs/Python/Python310/lib/site-packages/pandas/core/generic.py?line=2099'>2100</a>\u001b[0m ):\n\u001b[1;32m-> <a href='file:///c%3A/Users/Kenji/AppData/Local/Programs/Python/Python310/lib/site-packages/pandas/core/generic.py?line=2100'>2101</a>\u001b[0m     \u001b[39mreturn\u001b[39;00m arraylike\u001b[39m.\u001b[39marray_ufunc(\u001b[39mself\u001b[39m, ufunc, method, \u001b[39m*\u001b[39minputs, \u001b[39m*\u001b[39m\u001b[39m*\u001b[39mkwargs)\n",
      "File \u001b[1;32m~\\AppData\\Local\\Programs\\Python\\Python310\\lib\\site-packages\\pandas\\core\\arraylike.py:258\u001b[0m, in \u001b[0;36marray_ufunc\u001b[1;34m(self, ufunc, method, *inputs, **kwargs)\u001b[0m\n\u001b[0;32m    <a href='file:///c%3A/Users/Kenji/AppData/Local/Programs/Python/Python310/lib/site-packages/pandas/core/arraylike.py?line=254'>255</a>\u001b[0m kwargs \u001b[39m=\u001b[39m _standardize_out_kwarg(\u001b[39m*\u001b[39m\u001b[39m*\u001b[39mkwargs)\n\u001b[0;32m    <a href='file:///c%3A/Users/Kenji/AppData/Local/Programs/Python/Python310/lib/site-packages/pandas/core/arraylike.py?line=256'>257</a>\u001b[0m \u001b[39m# for backwards compatibility check and potentially fallback for non-aligned frames\u001b[39;00m\n\u001b[1;32m--> <a href='file:///c%3A/Users/Kenji/AppData/Local/Programs/Python/Python310/lib/site-packages/pandas/core/arraylike.py?line=257'>258</a>\u001b[0m result \u001b[39m=\u001b[39m _maybe_fallback(ufunc, method, \u001b[39m*\u001b[39minputs, \u001b[39m*\u001b[39m\u001b[39m*\u001b[39mkwargs)\n\u001b[0;32m    <a href='file:///c%3A/Users/Kenji/AppData/Local/Programs/Python/Python310/lib/site-packages/pandas/core/arraylike.py?line=258'>259</a>\u001b[0m \u001b[39mif\u001b[39;00m result \u001b[39mis\u001b[39;00m \u001b[39mnot\u001b[39;00m \u001b[39mNotImplemented\u001b[39m:\n\u001b[0;32m    <a href='file:///c%3A/Users/Kenji/AppData/Local/Programs/Python/Python310/lib/site-packages/pandas/core/arraylike.py?line=259'>260</a>\u001b[0m     \u001b[39mreturn\u001b[39;00m result\n",
      "File \u001b[1;32m~\\AppData\\Local\\Programs\\Python\\Python310\\lib\\site-packages\\pandas\\core\\arraylike.py:236\u001b[0m, in \u001b[0;36m_maybe_fallback\u001b[1;34m(ufunc, method, *inputs, **kwargs)\u001b[0m\n\u001b[0;32m    <a href='file:///c%3A/Users/Kenji/AppData/Local/Programs/Python/Python310/lib/site-packages/pandas/core/arraylike.py?line=232'>233</a>\u001b[0m                 new_inputs\u001b[39m.\u001b[39mappend(x)\n\u001b[0;32m    <a href='file:///c%3A/Users/Kenji/AppData/Local/Programs/Python/Python310/lib/site-packages/pandas/core/arraylike.py?line=234'>235</a>\u001b[0m         \u001b[39m# call the ufunc on those transformed inputs\u001b[39;00m\n\u001b[1;32m--> <a href='file:///c%3A/Users/Kenji/AppData/Local/Programs/Python/Python310/lib/site-packages/pandas/core/arraylike.py?line=235'>236</a>\u001b[0m         \u001b[39mreturn\u001b[39;00m \u001b[39mgetattr\u001b[39m(ufunc, method)(\u001b[39m*\u001b[39mnew_inputs, \u001b[39m*\u001b[39m\u001b[39m*\u001b[39mkwargs)\n\u001b[0;32m    <a href='file:///c%3A/Users/Kenji/AppData/Local/Programs/Python/Python310/lib/site-packages/pandas/core/arraylike.py?line=237'>238</a>\u001b[0m \u001b[39m# signal that we didn't fallback / execute the ufunc yet\u001b[39;00m\n\u001b[0;32m    <a href='file:///c%3A/Users/Kenji/AppData/Local/Programs/Python/Python310/lib/site-packages/pandas/core/arraylike.py?line=238'>239</a>\u001b[0m \u001b[39mreturn\u001b[39;00m \u001b[39mNotImplemented\u001b[39m\n",
      "File \u001b[1;32m~\\AppData\\Local\\Programs\\Python\\Python310\\lib\\site-packages\\pandas\\core\\generic.py:2101\u001b[0m, in \u001b[0;36mNDFrame.__array_ufunc__\u001b[1;34m(self, ufunc, method, *inputs, **kwargs)\u001b[0m\n\u001b[0;32m   <a href='file:///c%3A/Users/Kenji/AppData/Local/Programs/Python/Python310/lib/site-packages/pandas/core/generic.py?line=2096'>2097</a>\u001b[0m \u001b[39m@final\u001b[39m\n\u001b[0;32m   <a href='file:///c%3A/Users/Kenji/AppData/Local/Programs/Python/Python310/lib/site-packages/pandas/core/generic.py?line=2097'>2098</a>\u001b[0m \u001b[39mdef\u001b[39;00m \u001b[39m__array_ufunc__\u001b[39m(\n\u001b[0;32m   <a href='file:///c%3A/Users/Kenji/AppData/Local/Programs/Python/Python310/lib/site-packages/pandas/core/generic.py?line=2098'>2099</a>\u001b[0m     \u001b[39mself\u001b[39m, ufunc: np\u001b[39m.\u001b[39mufunc, method: \u001b[39mstr\u001b[39m, \u001b[39m*\u001b[39minputs: Any, \u001b[39m*\u001b[39m\u001b[39m*\u001b[39mkwargs: Any\n\u001b[0;32m   <a href='file:///c%3A/Users/Kenji/AppData/Local/Programs/Python/Python310/lib/site-packages/pandas/core/generic.py?line=2099'>2100</a>\u001b[0m ):\n\u001b[1;32m-> <a href='file:///c%3A/Users/Kenji/AppData/Local/Programs/Python/Python310/lib/site-packages/pandas/core/generic.py?line=2100'>2101</a>\u001b[0m     \u001b[39mreturn\u001b[39;00m arraylike\u001b[39m.\u001b[39marray_ufunc(\u001b[39mself\u001b[39m, ufunc, method, \u001b[39m*\u001b[39minputs, \u001b[39m*\u001b[39m\u001b[39m*\u001b[39mkwargs)\n",
      "File \u001b[1;32m~\\AppData\\Local\\Programs\\Python\\Python310\\lib\\site-packages\\pandas\\core\\arraylike.py:263\u001b[0m, in \u001b[0;36marray_ufunc\u001b[1;34m(self, ufunc, method, *inputs, **kwargs)\u001b[0m\n\u001b[0;32m    <a href='file:///c%3A/Users/Kenji/AppData/Local/Programs/Python/Python310/lib/site-packages/pandas/core/arraylike.py?line=259'>260</a>\u001b[0m     \u001b[39mreturn\u001b[39;00m result\n\u001b[0;32m    <a href='file:///c%3A/Users/Kenji/AppData/Local/Programs/Python/Python310/lib/site-packages/pandas/core/arraylike.py?line=261'>262</a>\u001b[0m \u001b[39m# for binary ops, use our custom dunder methods\u001b[39;00m\n\u001b[1;32m--> <a href='file:///c%3A/Users/Kenji/AppData/Local/Programs/Python/Python310/lib/site-packages/pandas/core/arraylike.py?line=262'>263</a>\u001b[0m result \u001b[39m=\u001b[39m maybe_dispatch_ufunc_to_dunder_op(\u001b[39mself\u001b[39m, ufunc, method, \u001b[39m*\u001b[39minputs, \u001b[39m*\u001b[39m\u001b[39m*\u001b[39mkwargs)\n\u001b[0;32m    <a href='file:///c%3A/Users/Kenji/AppData/Local/Programs/Python/Python310/lib/site-packages/pandas/core/arraylike.py?line=263'>264</a>\u001b[0m \u001b[39mif\u001b[39;00m result \u001b[39mis\u001b[39;00m \u001b[39mnot\u001b[39;00m \u001b[39mNotImplemented\u001b[39m:\n\u001b[0;32m    <a href='file:///c%3A/Users/Kenji/AppData/Local/Programs/Python/Python310/lib/site-packages/pandas/core/arraylike.py?line=264'>265</a>\u001b[0m     \u001b[39mreturn\u001b[39;00m result\n",
      "File \u001b[1;32m~\\AppData\\Local\\Programs\\Python\\Python310\\lib\\site-packages\\pandas\\_libs\\ops_dispatch.pyx:107\u001b[0m, in \u001b[0;36mpandas._libs.ops_dispatch.maybe_dispatch_ufunc_to_dunder_op\u001b[1;34m()\u001b[0m\n",
      "File \u001b[1;32m~\\AppData\\Local\\Programs\\Python\\Python310\\lib\\site-packages\\pandas\\core\\frame.py:1553\u001b[0m, in \u001b[0;36mDataFrame.__matmul__\u001b[1;34m(self, other)\u001b[0m\n\u001b[0;32m   <a href='file:///c%3A/Users/Kenji/AppData/Local/Programs/Python/Python310/lib/site-packages/pandas/core/frame.py?line=1546'>1547</a>\u001b[0m \u001b[39mdef\u001b[39;00m \u001b[39m__matmul__\u001b[39m(\n\u001b[0;32m   <a href='file:///c%3A/Users/Kenji/AppData/Local/Programs/Python/Python310/lib/site-packages/pandas/core/frame.py?line=1547'>1548</a>\u001b[0m     \u001b[39mself\u001b[39m, other: AnyArrayLike \u001b[39m|\u001b[39m DataFrame \u001b[39m|\u001b[39m Series\n\u001b[0;32m   <a href='file:///c%3A/Users/Kenji/AppData/Local/Programs/Python/Python310/lib/site-packages/pandas/core/frame.py?line=1548'>1549</a>\u001b[0m ) \u001b[39m-\u001b[39m\u001b[39m>\u001b[39m DataFrame \u001b[39m|\u001b[39m Series:\n\u001b[0;32m   <a href='file:///c%3A/Users/Kenji/AppData/Local/Programs/Python/Python310/lib/site-packages/pandas/core/frame.py?line=1549'>1550</a>\u001b[0m     \u001b[39m\"\"\"\u001b[39;00m\n\u001b[0;32m   <a href='file:///c%3A/Users/Kenji/AppData/Local/Programs/Python/Python310/lib/site-packages/pandas/core/frame.py?line=1550'>1551</a>\u001b[0m \u001b[39m    Matrix multiplication using binary `@` operator in Python>=3.5.\u001b[39;00m\n\u001b[0;32m   <a href='file:///c%3A/Users/Kenji/AppData/Local/Programs/Python/Python310/lib/site-packages/pandas/core/frame.py?line=1551'>1552</a>\u001b[0m \u001b[39m    \"\"\"\u001b[39;00m\n\u001b[1;32m-> <a href='file:///c%3A/Users/Kenji/AppData/Local/Programs/Python/Python310/lib/site-packages/pandas/core/frame.py?line=1552'>1553</a>\u001b[0m     \u001b[39mreturn\u001b[39;00m \u001b[39mself\u001b[39;49m\u001b[39m.\u001b[39;49mdot(other)\n",
      "File \u001b[1;32m~\\AppData\\Local\\Programs\\Python\\Python310\\lib\\site-packages\\pandas\\core\\frame.py:1518\u001b[0m, in \u001b[0;36mDataFrame.dot\u001b[1;34m(self, other)\u001b[0m\n\u001b[0;32m   <a href='file:///c%3A/Users/Kenji/AppData/Local/Programs/Python/Python310/lib/site-packages/pandas/core/frame.py?line=1515'>1516</a>\u001b[0m     rvals \u001b[39m=\u001b[39m np\u001b[39m.\u001b[39masarray(other)\n\u001b[0;32m   <a href='file:///c%3A/Users/Kenji/AppData/Local/Programs/Python/Python310/lib/site-packages/pandas/core/frame.py?line=1516'>1517</a>\u001b[0m     \u001b[39mif\u001b[39;00m lvals\u001b[39m.\u001b[39mshape[\u001b[39m1\u001b[39m] \u001b[39m!=\u001b[39m rvals\u001b[39m.\u001b[39mshape[\u001b[39m0\u001b[39m]:\n\u001b[1;32m-> <a href='file:///c%3A/Users/Kenji/AppData/Local/Programs/Python/Python310/lib/site-packages/pandas/core/frame.py?line=1517'>1518</a>\u001b[0m         \u001b[39mraise\u001b[39;00m \u001b[39mValueError\u001b[39;00m(\n\u001b[0;32m   <a href='file:///c%3A/Users/Kenji/AppData/Local/Programs/Python/Python310/lib/site-packages/pandas/core/frame.py?line=1518'>1519</a>\u001b[0m             \u001b[39mf\u001b[39m\u001b[39m\"\u001b[39m\u001b[39mDot product shape mismatch, \u001b[39m\u001b[39m{\u001b[39;00mlvals\u001b[39m.\u001b[39mshape\u001b[39m}\u001b[39;00m\u001b[39m vs \u001b[39m\u001b[39m{\u001b[39;00mrvals\u001b[39m.\u001b[39mshape\u001b[39m}\u001b[39;00m\u001b[39m\"\u001b[39m\n\u001b[0;32m   <a href='file:///c%3A/Users/Kenji/AppData/Local/Programs/Python/Python310/lib/site-packages/pandas/core/frame.py?line=1519'>1520</a>\u001b[0m         )\n\u001b[0;32m   <a href='file:///c%3A/Users/Kenji/AppData/Local/Programs/Python/Python310/lib/site-packages/pandas/core/frame.py?line=1521'>1522</a>\u001b[0m \u001b[39mif\u001b[39;00m \u001b[39misinstance\u001b[39m(other, DataFrame):\n\u001b[0;32m   <a href='file:///c%3A/Users/Kenji/AppData/Local/Programs/Python/Python310/lib/site-packages/pandas/core/frame.py?line=1522'>1523</a>\u001b[0m     \u001b[39mreturn\u001b[39;00m \u001b[39mself\u001b[39m\u001b[39m.\u001b[39m_constructor(\n\u001b[0;32m   <a href='file:///c%3A/Users/Kenji/AppData/Local/Programs/Python/Python310/lib/site-packages/pandas/core/frame.py?line=1523'>1524</a>\u001b[0m         np\u001b[39m.\u001b[39mdot(lvals, rvals), index\u001b[39m=\u001b[39mleft\u001b[39m.\u001b[39mindex, columns\u001b[39m=\u001b[39mother\u001b[39m.\u001b[39mcolumns\n\u001b[0;32m   <a href='file:///c%3A/Users/Kenji/AppData/Local/Programs/Python/Python310/lib/site-packages/pandas/core/frame.py?line=1524'>1525</a>\u001b[0m     )\n",
      "\u001b[1;31mValueError\u001b[0m: Dot product shape mismatch, (3, 1000) vs (3, 3)"
     ]
    }
   ],
   "source": [
    "#LDA\n",
    "#step 1: separate the sample by class\n",
    "sample_class1 = data.loc[data['y'] == 1].drop(columns='y')\n",
    "sample_class0 = data.loc[data['y'] == 0].drop(columns='y')\n",
    "\n",
    "\n",
    "#step 2: calculate the means and probability of a random element belong to each class\n",
    "mean_class1 = sample_class1.mean()\n",
    "print(mean_class1)\n",
    "\n",
    "mean_class0 = sample_class0.mean()\n",
    "print(mean_class0)\n",
    "\n",
    "prob_class1 = len(sample_class1)/len(data)\n",
    "print(prob_class1)\n",
    "\n",
    "prob_class0 = 1 - prob_class1\n",
    "print(prob_class0)\n",
    "\n",
    "\n",
    "#step 3: calculate std as a weighted average of sample variance for each class\n",
    "X_corr = X.corr()\n",
    "\n",
    "\n",
    "#step 4: LDA classifier\n",
    "pred_class1 = np.matmul(X, X_corr) * mean_class1 - 0.5 * np.matmul(mean_class1, X_corr) * mean_class1 + np.log(prob_class1)\n",
    "\n",
    "\n",
    "#########ERRRO NA FX\n",
    "A multiplicação de matrizes precisa ser um valor escalar. Acho que precisa transport e inverter as matrizes (pag 146)"
   ]
  },
  {
   "cell_type": "code",
   "execution_count": 46,
   "metadata": {},
   "outputs": [
    {
     "data": {
      "text/html": [
       "<div>\n",
       "<style scoped>\n",
       "    .dataframe tbody tr th:only-of-type {\n",
       "        vertical-align: middle;\n",
       "    }\n",
       "\n",
       "    .dataframe tbody tr th {\n",
       "        vertical-align: top;\n",
       "    }\n",
       "\n",
       "    .dataframe thead th {\n",
       "        text-align: right;\n",
       "    }\n",
       "</style>\n",
       "<table border=\"1\" class=\"dataframe\">\n",
       "  <thead>\n",
       "    <tr style=\"text-align: right;\">\n",
       "      <th></th>\n",
       "      <th>0</th>\n",
       "      <th>1</th>\n",
       "      <th>2</th>\n",
       "      <th>xA</th>\n",
       "      <th>xB</th>\n",
       "      <th>xC</th>\n",
       "    </tr>\n",
       "  </thead>\n",
       "  <tbody>\n",
       "    <tr>\n",
       "      <th>0</th>\n",
       "      <td>NaN</td>\n",
       "      <td>NaN</td>\n",
       "      <td>NaN</td>\n",
       "      <td>NaN</td>\n",
       "      <td>NaN</td>\n",
       "      <td>NaN</td>\n",
       "    </tr>\n",
       "    <tr>\n",
       "      <th>1</th>\n",
       "      <td>NaN</td>\n",
       "      <td>NaN</td>\n",
       "      <td>NaN</td>\n",
       "      <td>NaN</td>\n",
       "      <td>NaN</td>\n",
       "      <td>NaN</td>\n",
       "    </tr>\n",
       "    <tr>\n",
       "      <th>2</th>\n",
       "      <td>NaN</td>\n",
       "      <td>NaN</td>\n",
       "      <td>NaN</td>\n",
       "      <td>NaN</td>\n",
       "      <td>NaN</td>\n",
       "      <td>NaN</td>\n",
       "    </tr>\n",
       "    <tr>\n",
       "      <th>3</th>\n",
       "      <td>NaN</td>\n",
       "      <td>NaN</td>\n",
       "      <td>NaN</td>\n",
       "      <td>NaN</td>\n",
       "      <td>NaN</td>\n",
       "      <td>NaN</td>\n",
       "    </tr>\n",
       "    <tr>\n",
       "      <th>4</th>\n",
       "      <td>NaN</td>\n",
       "      <td>NaN</td>\n",
       "      <td>NaN</td>\n",
       "      <td>NaN</td>\n",
       "      <td>NaN</td>\n",
       "      <td>NaN</td>\n",
       "    </tr>\n",
       "    <tr>\n",
       "      <th>...</th>\n",
       "      <td>...</td>\n",
       "      <td>...</td>\n",
       "      <td>...</td>\n",
       "      <td>...</td>\n",
       "      <td>...</td>\n",
       "      <td>...</td>\n",
       "    </tr>\n",
       "    <tr>\n",
       "      <th>995</th>\n",
       "      <td>NaN</td>\n",
       "      <td>NaN</td>\n",
       "      <td>NaN</td>\n",
       "      <td>NaN</td>\n",
       "      <td>NaN</td>\n",
       "      <td>NaN</td>\n",
       "    </tr>\n",
       "    <tr>\n",
       "      <th>996</th>\n",
       "      <td>NaN</td>\n",
       "      <td>NaN</td>\n",
       "      <td>NaN</td>\n",
       "      <td>NaN</td>\n",
       "      <td>NaN</td>\n",
       "      <td>NaN</td>\n",
       "    </tr>\n",
       "    <tr>\n",
       "      <th>997</th>\n",
       "      <td>NaN</td>\n",
       "      <td>NaN</td>\n",
       "      <td>NaN</td>\n",
       "      <td>NaN</td>\n",
       "      <td>NaN</td>\n",
       "      <td>NaN</td>\n",
       "    </tr>\n",
       "    <tr>\n",
       "      <th>998</th>\n",
       "      <td>NaN</td>\n",
       "      <td>NaN</td>\n",
       "      <td>NaN</td>\n",
       "      <td>NaN</td>\n",
       "      <td>NaN</td>\n",
       "      <td>NaN</td>\n",
       "    </tr>\n",
       "    <tr>\n",
       "      <th>999</th>\n",
       "      <td>NaN</td>\n",
       "      <td>NaN</td>\n",
       "      <td>NaN</td>\n",
       "      <td>NaN</td>\n",
       "      <td>NaN</td>\n",
       "      <td>NaN</td>\n",
       "    </tr>\n",
       "  </tbody>\n",
       "</table>\n",
       "<p>1000 rows × 6 columns</p>\n",
       "</div>"
      ],
      "text/plain": [
       "      0   1   2  xA  xB  xC\n",
       "0   NaN NaN NaN NaN NaN NaN\n",
       "1   NaN NaN NaN NaN NaN NaN\n",
       "2   NaN NaN NaN NaN NaN NaN\n",
       "3   NaN NaN NaN NaN NaN NaN\n",
       "4   NaN NaN NaN NaN NaN NaN\n",
       "..   ..  ..  ..  ..  ..  ..\n",
       "995 NaN NaN NaN NaN NaN NaN\n",
       "996 NaN NaN NaN NaN NaN NaN\n",
       "997 NaN NaN NaN NaN NaN NaN\n",
       "998 NaN NaN NaN NaN NaN NaN\n",
       "999 NaN NaN NaN NaN NaN NaN\n",
       "\n",
       "[1000 rows x 6 columns]"
      ]
     },
     "execution_count": 46,
     "metadata": {},
     "output_type": "execute_result"
    }
   ],
   "source": [
    "pred_class1"
   ]
  },
  {
   "cell_type": "code",
   "execution_count": null,
   "metadata": {},
   "outputs": [],
   "source": []
  },
  {
   "cell_type": "markdown",
   "metadata": {},
   "source": [
    "### Cenario 3 - LDA with 2 normal distributed and high correlated features"
   ]
  },
  {
   "cell_type": "code",
   "execution_count": null,
   "metadata": {},
   "outputs": [],
   "source": []
  },
  {
   "cell_type": "markdown",
   "metadata": {},
   "source": [
    "### Cenario 3 - LDA with 1 non-normal distribuited feature and 1 class "
   ]
  },
  {
   "cell_type": "code",
   "execution_count": null,
   "metadata": {},
   "outputs": [],
   "source": []
  },
  {
   "cell_type": "markdown",
   "metadata": {},
   "source": [
    "### Cenario 4 - LDA with 1 normal distribuited feature and 1 multi-class "
   ]
  },
  {
   "cell_type": "markdown",
   "metadata": {},
   "source": [
    "**Conclusion**: the predictions of LDA displayed accuracy higher than 90% in most of the executions. As we can see in the graph, each line is the probability calculated by the algorithm for every element to belong to each class, and so the prediction is based on wich line is higher. "
   ]
  }
 ],
 "metadata": {
  "interpreter": {
   "hash": "5069c40d0919acfc919ba69b4a4d6ed4ea13303c3fbc9d067e494b47178b3648"
  },
  "kernelspec": {
   "display_name": "Python 3.9.6 64-bit",
   "language": "python",
   "name": "python3"
  },
  "language_info": {
   "codemirror_mode": {
    "name": "ipython",
    "version": 3
   },
   "file_extension": ".py",
   "mimetype": "text/x-python",
   "name": "python",
   "nbconvert_exporter": "python",
   "pygments_lexer": "ipython3",
   "version": "3.10.4"
  },
  "orig_nbformat": 4
 },
 "nbformat": 4,
 "nbformat_minor": 2
}
