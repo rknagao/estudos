{
 "cells": [
  {
   "cell_type": "markdown",
   "metadata": {},
   "source": [
    "# Generative Model for Classification"
   ]
  },
  {
   "cell_type": "code",
   "execution_count": 1,
   "metadata": {},
   "outputs": [],
   "source": [
    "import pandas as pd\n",
    "import numpy as np\n",
    "from scipy.stats import norm\n",
    "import seaborn as sns\n",
    "from sklearn.metrics import confusion_matrix, accuracy_score, recall_score, precision_score"
   ]
  },
  {
   "cell_type": "code",
   "execution_count": 2,
   "metadata": {},
   "outputs": [
    {
     "data": {
      "application/vnd.plotly.v1+json": {
       "config": {
        "plotlyServerURL": "https://plot.ly"
       },
       "data": [
        {
         "hovertemplate": "color=team B<br>x1=%{x}<br>x2=%{y}<br>y=%{z}<extra></extra>",
         "legendgroup": "team B",
         "marker": {
          "color": "#636efa",
          "symbol": "circle"
         },
         "mode": "markers",
         "name": "team B",
         "scene": "scene",
         "showlegend": true,
         "type": "scatter3d",
         "x": [
          9.154873515419458,
          10.860520246996735,
          9.626530854846646,
          11.198313396759234,
          10.775277980664187,
          10.377668596523437,
          9.61273673349807,
          10.445397238322489,
          11.169738395365915,
          9.741033960608778,
          10.408466102153378,
          10.436772279725389,
          10.325902175539039,
          11.114388236573452,
          9.879632484471566,
          9.793224911319829,
          12.15117995680399,
          11.80414797258581,
          10.211879083394876,
          10.050330802437108,
          11.231663124834244,
          10.69716570325268,
          10.688785132511907,
          10.172928120092891,
          10.50900132071734,
          10.25658330106105,
          9.723904699329262,
          11.338101533869589,
          10.064579602113376,
          10.498616431304434,
          9.1378476919629,
          9.532989260452663,
          10.306202406199207,
          8.923649307048109,
          9.322569072776657,
          10.331183802791893,
          10.234357782308823,
          10.003456185704408,
          11.781784835233314,
          11.023661167292238,
          10.81757986673519,
          9.982517388631413,
          11.786490764379316,
          9.925785570252124,
          10.649026760297234,
          8.83685083355985,
          11.402839527339237,
          10.30257886201465,
          10.648549863264185,
          9.770899143722186,
          11.319569918367892,
          11.008377847461176,
          10.456428817602546,
          10.98583366632236,
          11.961837274735457,
          11.399343299468029,
          10.93044973856753,
          9.614725751291987,
          9.362538012396934,
          10.037453867885107,
          11.04630673283227,
          10.396108606513936,
          9.70578731763585,
          11.713974498911943,
          9.415236656555892,
          10.519864119144936,
          10.108356331390683,
          9.508077040758627
         ],
         "y": [
          -9.59188060872848,
          -10.618275687575439,
          -9.4867453865534,
          -8.650901310319385,
          -10.21795168158,
          -10.133534838812583,
          -10.230709828721906,
          -9.286609876607098,
          -10.423991024553562,
          -10.120878788450138,
          -10.95669515929384,
          -11.102541212414115,
          -8.052963328557555,
          -11.623387441285853,
          -10.255480359247118,
          -9.730038345727477,
          -10.016578180061195,
          -10.786164832771389,
          -9.845921097012479,
          -9.320534898431836,
          -9.843451010545532,
          -11.439934035761638,
          -9.792732793297406,
          -8.955787860732734,
          -11.117416120770383,
          -8.80030990588407,
          -10.165890857567442,
          -9.169827326467205,
          -8.782821850215152,
          -10.326430937186135,
          -8.037602972911063,
          -8.596819071359649,
          -10.381648625797851,
          -9.216007504518647,
          -8.881588041092046,
          -10.233716437383393,
          -9.850389279284075,
          -9.24994605268346,
          -10.683234651438974,
          -9.375130946533918,
          -9.318629724257525,
          -8.139578710993096,
          -8.776588411078624,
          -8.314125495435956,
          -10.05073820572266,
          -8.938939597665279,
          -9.590067221409443,
          -9.224445646875287,
          -11.256171653744595,
          -9.684772236099167,
          -7.9974736264701445,
          -9.44200207051519,
          -9.824847984808926,
          -10.556689105487306,
          -10.7614090918032,
          -11.222006178779978,
          -11.326031283969453,
          -7.915540465669064,
          -9.95847504491276,
          -8.691865782006026,
          -10.029146136938838,
          -10.64572355506449,
          -8.549954194641195,
          -11.404778269893631,
          -9.040557947291274,
          -11.259735038288966,
          -9.74409322646056,
          -8.614464387805953
         ],
         "z": [
          0.3574001177258459,
          1.0366517704561644,
          0.9341926793281139,
          3.341819297474717,
          1.3517335101190546,
          1.0385409687457219,
          0.1764341158110312,
          1.9531945727502584,
          1.540154581847221,
          0.4145623831935079,
          0.2461781538944059,
          0.12863827834614194,
          3.0673460580163523,
          0.2854080063224671,
          0.4185593362593163,
          0.8575937766272197,
          2.929008987777663,
          1.8123903508492887,
          1.160365197417266,
          1.5242031150401398,
          2.1826193253235795,
          0.051638878525909204,
          1.6904595502493691,
          2.0115474703950253,
          0.18599241098182584,
          2.2506806062118487,
          0.35242105279668823,
          2.962681418437252,
          2.0761649629330927,
          0.9665927051531671,
          1.8946519300867048,
          1.730577400127882,
          0.7189609914362236,
          0.5020490135643303,
          1.2353882427194793,
          0.891874576443368,
          1.1783757140596165,
          1.5479173440558156,
          1.8929573948292073,
          2.4429374317931876,
          2.2933573535125342,
          2.6373458886731855,
          3.8043095643355604,
          2.4060672858510364,
          1.392695765609443,
          0.6923184469294401,
          2.6071795169646625,
          1.8725404261742316,
          0.18678542055445813,
          0.8805341186578868,
          4.116503502932615,
          2.360782987980854,
          1.4259880438284884,
          1.223551771869922,
          1.9948353939671246,
          0.9717443317229193,
          0.3988256656329454,
          2.493592496657791,
          0.19847017851904236,
          2.1399952969139493,
          1.811567806928301,
          0.5447922624843133,
          1.950240334029522,
          1.10360344005318,
          1.169085920299486,
          0.054536291890838084,
          1.1586703159649907,
          1.6880198639875423
         ]
        },
        {
         "hovertemplate": "color=team A<br>x1=%{x}<br>x2=%{y}<br>y=%{z}<extra></extra>",
         "legendgroup": "team A",
         "marker": {
          "color": "#EF553B",
          "symbol": "circle"
         },
         "mode": "markers",
         "name": "team A",
         "scene": "scene",
         "showlegend": true,
         "type": "scatter3d",
         "x": [
          9.19049233554276,
          8.663858535818436,
          10.027724044284518,
          8.60999017205641,
          10.062574211899152,
          8.032409335375661,
          8.895186025668632,
          10.205797600531573,
          10.28104165087046,
          9.671326540295139,
          11.498952960399924,
          9.155315961181358,
          9.556151263566035,
          8.897545128286769,
          9.173516739974922,
          9.188589191480366,
          8.576724132392215,
          8.426459641969066,
          9.352459149275315,
          8.493153450062263,
          9.446460566971094,
          9.82194254479886,
          9.376617075445186,
          9.587579948285985,
          8.890398855082791,
          9.21794638285066,
          9.731367486264944,
          8.496851749312693,
          9.054525745495182,
          10.031238341000341,
          8.81319699557307,
          8.717016848368798
         ],
         "y": [
          -11.955269722410698,
          -11.588460999132234,
          -11.946876035461965,
          -10.200252651448416,
          -10.859770846601629,
          -11.162467385649286,
          -11.211079250786113,
          -11.59001227096762,
          -11.07900101518991,
          -10.860743388197596,
          -13.027547894398413,
          -10.318068305125136,
          -12.522677478752989,
          -12.680617372340333,
          -12.10754542946199,
          -10.612621797104067,
          -10.94905063405663,
          -9.833023213946584,
          -10.41320406254934,
          -10.24174114035844,
          -10.965411971137705,
          -10.858129465721657,
          -10.275350828975828,
          -11.308662939686519,
          -10.39398387228486,
          -10.783588366697073,
          -10.66097728579468,
          -9.510546698558967,
          -10.723961528670657,
          -10.884284487279002,
          -9.961238295732173,
          -9.814225713359697
         ],
         "z": [
          -1.9703701758330692,
          -2.13019525227893,
          -1.124744780142579,
          -0.795855268357138,
          -0.0027894236676087036,
          -2.335650839238757,
          -1.521486014082613,
          -0.5898074594011782,
          -0.003552153284581694,
          -0.39500963686758905,
          -0.7341877229636211,
          -0.3683451329089096,
          -2.172119004152086,
          -2.9886650330186955,
          -2.1396214784521996,
          -0.6296253945888328,
          -1.577919290629546,
          -0.6121563609426499,
          -0.26633770223915687,
          -0.95418047926131,
          -0.7245441931317427,
          -0.2417797098879284,
          -0.10432654249577422,
          -0.926675780365666,
          -0.7091778061672003,
          -0.7712347728115454,
          -0.13520258849486777,
          -0.21928773821140557,
          -0.8750285721406066,
          -0.058638935243793044,
          -0.353634089124234,
          -0.30280165395603054
         ]
        }
       ],
       "layout": {
        "legend": {
         "title": {
          "text": "color"
         },
         "tracegroupgap": 0
        },
        "margin": {
         "t": 60
        },
        "scene": {
         "domain": {
          "x": [
           0,
           1
          ],
          "y": [
           0,
           1
          ]
         },
         "xaxis": {
          "title": {
           "text": "x1"
          }
         },
         "yaxis": {
          "title": {
           "text": "x2"
          }
         },
         "zaxis": {
          "title": {
           "text": "y"
          }
         }
        },
        "template": {
         "data": {
          "bar": [
           {
            "error_x": {
             "color": "#2a3f5f"
            },
            "error_y": {
             "color": "#2a3f5f"
            },
            "marker": {
             "line": {
              "color": "#E5ECF6",
              "width": 0.5
             },
             "pattern": {
              "fillmode": "overlay",
              "size": 10,
              "solidity": 0.2
             }
            },
            "type": "bar"
           }
          ],
          "barpolar": [
           {
            "marker": {
             "line": {
              "color": "#E5ECF6",
              "width": 0.5
             },
             "pattern": {
              "fillmode": "overlay",
              "size": 10,
              "solidity": 0.2
             }
            },
            "type": "barpolar"
           }
          ],
          "carpet": [
           {
            "aaxis": {
             "endlinecolor": "#2a3f5f",
             "gridcolor": "white",
             "linecolor": "white",
             "minorgridcolor": "white",
             "startlinecolor": "#2a3f5f"
            },
            "baxis": {
             "endlinecolor": "#2a3f5f",
             "gridcolor": "white",
             "linecolor": "white",
             "minorgridcolor": "white",
             "startlinecolor": "#2a3f5f"
            },
            "type": "carpet"
           }
          ],
          "choropleth": [
           {
            "colorbar": {
             "outlinewidth": 0,
             "ticks": ""
            },
            "type": "choropleth"
           }
          ],
          "contour": [
           {
            "colorbar": {
             "outlinewidth": 0,
             "ticks": ""
            },
            "colorscale": [
             [
              0,
              "#0d0887"
             ],
             [
              0.1111111111111111,
              "#46039f"
             ],
             [
              0.2222222222222222,
              "#7201a8"
             ],
             [
              0.3333333333333333,
              "#9c179e"
             ],
             [
              0.4444444444444444,
              "#bd3786"
             ],
             [
              0.5555555555555556,
              "#d8576b"
             ],
             [
              0.6666666666666666,
              "#ed7953"
             ],
             [
              0.7777777777777778,
              "#fb9f3a"
             ],
             [
              0.8888888888888888,
              "#fdca26"
             ],
             [
              1,
              "#f0f921"
             ]
            ],
            "type": "contour"
           }
          ],
          "contourcarpet": [
           {
            "colorbar": {
             "outlinewidth": 0,
             "ticks": ""
            },
            "type": "contourcarpet"
           }
          ],
          "heatmap": [
           {
            "colorbar": {
             "outlinewidth": 0,
             "ticks": ""
            },
            "colorscale": [
             [
              0,
              "#0d0887"
             ],
             [
              0.1111111111111111,
              "#46039f"
             ],
             [
              0.2222222222222222,
              "#7201a8"
             ],
             [
              0.3333333333333333,
              "#9c179e"
             ],
             [
              0.4444444444444444,
              "#bd3786"
             ],
             [
              0.5555555555555556,
              "#d8576b"
             ],
             [
              0.6666666666666666,
              "#ed7953"
             ],
             [
              0.7777777777777778,
              "#fb9f3a"
             ],
             [
              0.8888888888888888,
              "#fdca26"
             ],
             [
              1,
              "#f0f921"
             ]
            ],
            "type": "heatmap"
           }
          ],
          "heatmapgl": [
           {
            "colorbar": {
             "outlinewidth": 0,
             "ticks": ""
            },
            "colorscale": [
             [
              0,
              "#0d0887"
             ],
             [
              0.1111111111111111,
              "#46039f"
             ],
             [
              0.2222222222222222,
              "#7201a8"
             ],
             [
              0.3333333333333333,
              "#9c179e"
             ],
             [
              0.4444444444444444,
              "#bd3786"
             ],
             [
              0.5555555555555556,
              "#d8576b"
             ],
             [
              0.6666666666666666,
              "#ed7953"
             ],
             [
              0.7777777777777778,
              "#fb9f3a"
             ],
             [
              0.8888888888888888,
              "#fdca26"
             ],
             [
              1,
              "#f0f921"
             ]
            ],
            "type": "heatmapgl"
           }
          ],
          "histogram": [
           {
            "marker": {
             "pattern": {
              "fillmode": "overlay",
              "size": 10,
              "solidity": 0.2
             }
            },
            "type": "histogram"
           }
          ],
          "histogram2d": [
           {
            "colorbar": {
             "outlinewidth": 0,
             "ticks": ""
            },
            "colorscale": [
             [
              0,
              "#0d0887"
             ],
             [
              0.1111111111111111,
              "#46039f"
             ],
             [
              0.2222222222222222,
              "#7201a8"
             ],
             [
              0.3333333333333333,
              "#9c179e"
             ],
             [
              0.4444444444444444,
              "#bd3786"
             ],
             [
              0.5555555555555556,
              "#d8576b"
             ],
             [
              0.6666666666666666,
              "#ed7953"
             ],
             [
              0.7777777777777778,
              "#fb9f3a"
             ],
             [
              0.8888888888888888,
              "#fdca26"
             ],
             [
              1,
              "#f0f921"
             ]
            ],
            "type": "histogram2d"
           }
          ],
          "histogram2dcontour": [
           {
            "colorbar": {
             "outlinewidth": 0,
             "ticks": ""
            },
            "colorscale": [
             [
              0,
              "#0d0887"
             ],
             [
              0.1111111111111111,
              "#46039f"
             ],
             [
              0.2222222222222222,
              "#7201a8"
             ],
             [
              0.3333333333333333,
              "#9c179e"
             ],
             [
              0.4444444444444444,
              "#bd3786"
             ],
             [
              0.5555555555555556,
              "#d8576b"
             ],
             [
              0.6666666666666666,
              "#ed7953"
             ],
             [
              0.7777777777777778,
              "#fb9f3a"
             ],
             [
              0.8888888888888888,
              "#fdca26"
             ],
             [
              1,
              "#f0f921"
             ]
            ],
            "type": "histogram2dcontour"
           }
          ],
          "mesh3d": [
           {
            "colorbar": {
             "outlinewidth": 0,
             "ticks": ""
            },
            "type": "mesh3d"
           }
          ],
          "parcoords": [
           {
            "line": {
             "colorbar": {
              "outlinewidth": 0,
              "ticks": ""
             }
            },
            "type": "parcoords"
           }
          ],
          "pie": [
           {
            "automargin": true,
            "type": "pie"
           }
          ],
          "scatter": [
           {
            "marker": {
             "colorbar": {
              "outlinewidth": 0,
              "ticks": ""
             }
            },
            "type": "scatter"
           }
          ],
          "scatter3d": [
           {
            "line": {
             "colorbar": {
              "outlinewidth": 0,
              "ticks": ""
             }
            },
            "marker": {
             "colorbar": {
              "outlinewidth": 0,
              "ticks": ""
             }
            },
            "type": "scatter3d"
           }
          ],
          "scattercarpet": [
           {
            "marker": {
             "colorbar": {
              "outlinewidth": 0,
              "ticks": ""
             }
            },
            "type": "scattercarpet"
           }
          ],
          "scattergeo": [
           {
            "marker": {
             "colorbar": {
              "outlinewidth": 0,
              "ticks": ""
             }
            },
            "type": "scattergeo"
           }
          ],
          "scattergl": [
           {
            "marker": {
             "colorbar": {
              "outlinewidth": 0,
              "ticks": ""
             }
            },
            "type": "scattergl"
           }
          ],
          "scattermapbox": [
           {
            "marker": {
             "colorbar": {
              "outlinewidth": 0,
              "ticks": ""
             }
            },
            "type": "scattermapbox"
           }
          ],
          "scatterpolar": [
           {
            "marker": {
             "colorbar": {
              "outlinewidth": 0,
              "ticks": ""
             }
            },
            "type": "scatterpolar"
           }
          ],
          "scatterpolargl": [
           {
            "marker": {
             "colorbar": {
              "outlinewidth": 0,
              "ticks": ""
             }
            },
            "type": "scatterpolargl"
           }
          ],
          "scatterternary": [
           {
            "marker": {
             "colorbar": {
              "outlinewidth": 0,
              "ticks": ""
             }
            },
            "type": "scatterternary"
           }
          ],
          "surface": [
           {
            "colorbar": {
             "outlinewidth": 0,
             "ticks": ""
            },
            "colorscale": [
             [
              0,
              "#0d0887"
             ],
             [
              0.1111111111111111,
              "#46039f"
             ],
             [
              0.2222222222222222,
              "#7201a8"
             ],
             [
              0.3333333333333333,
              "#9c179e"
             ],
             [
              0.4444444444444444,
              "#bd3786"
             ],
             [
              0.5555555555555556,
              "#d8576b"
             ],
             [
              0.6666666666666666,
              "#ed7953"
             ],
             [
              0.7777777777777778,
              "#fb9f3a"
             ],
             [
              0.8888888888888888,
              "#fdca26"
             ],
             [
              1,
              "#f0f921"
             ]
            ],
            "type": "surface"
           }
          ],
          "table": [
           {
            "cells": {
             "fill": {
              "color": "#EBF0F8"
             },
             "line": {
              "color": "white"
             }
            },
            "header": {
             "fill": {
              "color": "#C8D4E3"
             },
             "line": {
              "color": "white"
             }
            },
            "type": "table"
           }
          ]
         },
         "layout": {
          "annotationdefaults": {
           "arrowcolor": "#2a3f5f",
           "arrowhead": 0,
           "arrowwidth": 1
          },
          "autotypenumbers": "strict",
          "coloraxis": {
           "colorbar": {
            "outlinewidth": 0,
            "ticks": ""
           }
          },
          "colorscale": {
           "diverging": [
            [
             0,
             "#8e0152"
            ],
            [
             0.1,
             "#c51b7d"
            ],
            [
             0.2,
             "#de77ae"
            ],
            [
             0.3,
             "#f1b6da"
            ],
            [
             0.4,
             "#fde0ef"
            ],
            [
             0.5,
             "#f7f7f7"
            ],
            [
             0.6,
             "#e6f5d0"
            ],
            [
             0.7,
             "#b8e186"
            ],
            [
             0.8,
             "#7fbc41"
            ],
            [
             0.9,
             "#4d9221"
            ],
            [
             1,
             "#276419"
            ]
           ],
           "sequential": [
            [
             0,
             "#0d0887"
            ],
            [
             0.1111111111111111,
             "#46039f"
            ],
            [
             0.2222222222222222,
             "#7201a8"
            ],
            [
             0.3333333333333333,
             "#9c179e"
            ],
            [
             0.4444444444444444,
             "#bd3786"
            ],
            [
             0.5555555555555556,
             "#d8576b"
            ],
            [
             0.6666666666666666,
             "#ed7953"
            ],
            [
             0.7777777777777778,
             "#fb9f3a"
            ],
            [
             0.8888888888888888,
             "#fdca26"
            ],
            [
             1,
             "#f0f921"
            ]
           ],
           "sequentialminus": [
            [
             0,
             "#0d0887"
            ],
            [
             0.1111111111111111,
             "#46039f"
            ],
            [
             0.2222222222222222,
             "#7201a8"
            ],
            [
             0.3333333333333333,
             "#9c179e"
            ],
            [
             0.4444444444444444,
             "#bd3786"
            ],
            [
             0.5555555555555556,
             "#d8576b"
            ],
            [
             0.6666666666666666,
             "#ed7953"
            ],
            [
             0.7777777777777778,
             "#fb9f3a"
            ],
            [
             0.8888888888888888,
             "#fdca26"
            ],
            [
             1,
             "#f0f921"
            ]
           ]
          },
          "colorway": [
           "#636efa",
           "#EF553B",
           "#00cc96",
           "#ab63fa",
           "#FFA15A",
           "#19d3f3",
           "#FF6692",
           "#B6E880",
           "#FF97FF",
           "#FECB52"
          ],
          "font": {
           "color": "#2a3f5f"
          },
          "geo": {
           "bgcolor": "white",
           "lakecolor": "white",
           "landcolor": "#E5ECF6",
           "showlakes": true,
           "showland": true,
           "subunitcolor": "white"
          },
          "hoverlabel": {
           "align": "left"
          },
          "hovermode": "closest",
          "mapbox": {
           "style": "light"
          },
          "paper_bgcolor": "white",
          "plot_bgcolor": "#E5ECF6",
          "polar": {
           "angularaxis": {
            "gridcolor": "white",
            "linecolor": "white",
            "ticks": ""
           },
           "bgcolor": "#E5ECF6",
           "radialaxis": {
            "gridcolor": "white",
            "linecolor": "white",
            "ticks": ""
           }
          },
          "scene": {
           "xaxis": {
            "backgroundcolor": "#E5ECF6",
            "gridcolor": "white",
            "gridwidth": 2,
            "linecolor": "white",
            "showbackground": true,
            "ticks": "",
            "zerolinecolor": "white"
           },
           "yaxis": {
            "backgroundcolor": "#E5ECF6",
            "gridcolor": "white",
            "gridwidth": 2,
            "linecolor": "white",
            "showbackground": true,
            "ticks": "",
            "zerolinecolor": "white"
           },
           "zaxis": {
            "backgroundcolor": "#E5ECF6",
            "gridcolor": "white",
            "gridwidth": 2,
            "linecolor": "white",
            "showbackground": true,
            "ticks": "",
            "zerolinecolor": "white"
           }
          },
          "shapedefaults": {
           "line": {
            "color": "#2a3f5f"
           }
          },
          "ternary": {
           "aaxis": {
            "gridcolor": "white",
            "linecolor": "white",
            "ticks": ""
           },
           "baxis": {
            "gridcolor": "white",
            "linecolor": "white",
            "ticks": ""
           },
           "bgcolor": "#E5ECF6",
           "caxis": {
            "gridcolor": "white",
            "linecolor": "white",
            "ticks": ""
           }
          },
          "title": {
           "x": 0.05
          },
          "xaxis": {
           "automargin": true,
           "gridcolor": "white",
           "linecolor": "white",
           "ticks": "",
           "title": {
            "standoff": 15
           },
           "zerolinecolor": "white",
           "zerolinewidth": 2
          },
          "yaxis": {
           "automargin": true,
           "gridcolor": "white",
           "linecolor": "white",
           "ticks": "",
           "title": {
            "standoff": 15
           },
           "zerolinecolor": "white",
           "zerolinewidth": 2
          }
         }
        }
       }
      }
     },
     "metadata": {},
     "output_type": "display_data"
    }
   ],
   "source": [
    "#populational function\n",
    "mean = 10\n",
    "std = 1\n",
    "x1 = np.random.normal(mean, std, 100)\n",
    "fx1 = norm.pdf(np.sort(x1), mean, std)\n",
    "\n",
    "mean = -10\n",
    "std = 1\n",
    "x2 = np.random.normal(mean, std, 100)\n",
    "fx2 = norm.pdf(np.sort(x2), mean, std)\n",
    "\n",
    "#function\n",
    "y = x1 + x2 + np.random.rand()\n",
    "\n",
    "class_y = list(map(lambda y: 'team B' if y >= 0 else 'team A', y))\n",
    "\n",
    "#plot\n",
    "import plotly.express as px\n",
    "fig = px.scatter_3d(x=x1, y=x2, z=y, color=class_y, labels={'x':'x1', 'y':'x2', 'z':'y'})\n",
    "fig.show()"
   ]
  },
  {
   "cell_type": "code",
   "execution_count": 3,
   "metadata": {},
   "outputs": [
    {
     "data": {
      "image/png": "[encoded data removed]",
      "text/plain": [
       "<Figure size 432x288 with 1 Axes>"
      ]
     },
     "metadata": {
      "needs_background": "light"
     },
     "output_type": "display_data"
    },
    {
     "data": {
      "image/png": "[encoded data removed]",
      "text/plain": [
       "<Figure size 432x288 with 1 Axes>"
      ]
     },
     "metadata": {
      "needs_background": "light"
     },
     "output_type": "display_data"
    }
   ],
   "source": [
    "import matplotlib.pyplot as plt\n",
    "plt.plot(np.sort(x1), fx1)\n",
    "plt.show()\n",
    "\n",
    "plt.plot(np.sort(x2), fx2)\n",
    "plt.show()"
   ]
  },
  {
   "cell_type": "code",
   "execution_count": 4,
   "metadata": {},
   "outputs": [
    {
     "name": "stdout",
     "output_type": "stream",
     "text": [
      "0.32\n",
      "0.68\n",
      "0.32\n",
      "0.68\n"
     ]
    }
   ],
   "source": [
    "#classes\n",
    "k = ['team A', 'team B']\n",
    "\n",
    "#conditional probabilities\n",
    "#prior probabilities\n",
    "prob_A = class_y.count('team A') / len(class_y)\n",
    "print(prob_A)\n",
    "prob_B = class_y.count('team B') / len(class_y)\n",
    "print(prob_B)\n",
    "\n",
    "#posterior probabilites (?)\n",
    "prob_A_given_B = (0.5 * prob_A)/ 0.5\n",
    "prob_B_given_A = (0.5 * prob_B)/ 0.5\n",
    "print(prob_A_given_B/(prob_B_given_A + prob_A_given_B))\n",
    "print(prob_B_given_A/(prob_B_given_A + prob_A_given_B))\n",
    "\n",
    "#https://analyticsindiamag.com/a-guide-to-bayesian-statistics-in-python-for-beginners/"
   ]
  },
  {
   "cell_type": "code",
   "execution_count": 11,
   "metadata": {},
   "outputs": [
    {
     "data": {
      "text/plain": [
       "0.6808510638297872"
      ]
     },
     "execution_count": 11,
     "metadata": {},
     "output_type": "execute_result"
    }
   ],
   "source": [
    "#posterior probability is calculated by updating the prior probability using Bayes' theorem\n",
    "bayer_classifier = (fx1 * prob_A) / (fx2 * prob_B)\n",
    "class_y_pred = list(map(lambda y: 'team A' if y > 1 else 'team B', bayer_classifier))\n",
    "precision_score(class_y, class_y_pred, pos_label='team B')"
   ]
  },
  {
   "cell_type": "code",
   "execution_count": 15,
   "metadata": {},
   "outputs": [
    {
     "name": "stdout",
     "output_type": "stream",
     "text": [
      "Accuracy: 0.66\n",
      "Precision: 0.681\n",
      "Recall: 0.941\n"
     ]
    },
    {
     "data": {
      "image/png": "[encoded data removed]",
      "text/plain": [
       "<Figure size 432x288 with 1 Axes>"
      ]
     },
     "metadata": {
      "needs_background": "light"
     },
     "output_type": "display_data"
    }
   ],
   "source": [
    "#posterior probability is calculated by updating the prior probability using Bayes' theorem\n",
    "bayer_classifier = (fx1 * prob_A) / (fx2 * prob_B)\n",
    "class_y_pred = list(map(lambda y: 'team A' if y > 1 else 'team B', bayer_classifier))\n",
    "\n",
    "#metrics\n",
    "def metrics(y, y_pred):\n",
    "    #role: display metrics of estimation\n",
    "\n",
    "    print(f'Accuracy: {accuracy_score(y, y_pred).round(3)}')\n",
    "    print(f\"Precision: {precision_score(y, y_pred, pos_label='team B').round(3)}\")\n",
    "    print(f\"Recall: {recall_score(y, y_pred, pos_label='team B').round(3)}\")\n",
    "\n",
    "    cmax = confusion_matrix(y, y_pred)\n",
    "    fig = sns.heatmap(cmax, annot=True,cbar=False, cmap='Blues', xticklabels=['Team A', 'Team B'], yticklabels=['Team A', 'Team B'])\n",
    "    fig.set(xlabel='Predict', ylabel='Real')\n",
    "    plt.show()\n",
    "    \n",
    "metrics(class_y, class_y_pred)"
   ]
  },
  {
   "cell_type": "markdown",
   "metadata": {},
   "source": [
    "### Linear Discriminant Analysis"
   ]
  },
  {
   "cell_type": "code",
   "execution_count": null,
   "metadata": {},
   "outputs": [],
   "source": []
  }
 ],
 "metadata": {
  "interpreter": {
   "hash": "5069c40d0919acfc919ba69b4a4d6ed4ea13303c3fbc9d067e494b47178b3648"
  },
  "kernelspec": {
   "display_name": "Python 3.9.6 64-bit",
   "language": "python",
   "name": "python3"
  },
  "language_info": {
   "codemirror_mode": {
    "name": "ipython",
    "version": 3
   },
   "file_extension": ".py",
   "mimetype": "text/x-python",
   "name": "python",
   "nbconvert_exporter": "python",
   "pygments_lexer": "ipython3",
   "version": "3.9.6"
  },
  "orig_nbformat": 4
 },
 "nbformat": 4,
 "nbformat_minor": 2
}
