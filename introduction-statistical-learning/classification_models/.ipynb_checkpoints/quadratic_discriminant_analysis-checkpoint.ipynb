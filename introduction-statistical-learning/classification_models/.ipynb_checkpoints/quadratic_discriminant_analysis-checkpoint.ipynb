{
 "cells": [
  {
   "cell_type": "markdown",
   "metadata": {},
   "source": [
    "# Quadratic Linear Analysis (QDA)\n",
    "\n",
    "**Objective**:\n",
    " demonstrate how QDA works for classification.\n",
    "\n",
    "**Assumptions**\n",
    "- all features are normal distributed.\n",
    "- all features are uncorrelated\n",
    "- ~~all classes displays the same covariance matrix~~"
   ]
  },
  {
   "cell_type": "code",
   "execution_count": 51,
   "metadata": {},
   "outputs": [],
   "source": [
    "import matplotlib.pyplot as plt\n",
    "import numpy as np\n",
    "import pandas as pd\n",
    "import seaborn as sns\n",
    "from sklearn.discriminant_analysis import QuadraticDiscriminantAnalysis, LinearDiscriminantAnalysis\n",
    "from sklearn.metrics import confusion_matrix, accuracy_score, recall_score, precision_score\n",
    "from sklearn.model_selection import train_test_split\n",
    "from tqdm import tqdm"
   ]
  },
  {
   "cell_type": "markdown",
   "metadata": {},
   "source": [
    "## Example 1: two predictors with differente correlation matrices"
   ]
  },
  {
   "cell_type": "markdown",
   "metadata": {},
   "source": [
    "Creating the data"
   ]
  },
  {
   "cell_type": "code",
   "execution_count": 2,
   "metadata": {},
   "outputs": [
    {
     "name": "stdout",
     "output_type": "stream",
     "text": [
      "           xA         xB        fx  y\n",
      "590  1.013302  -9.388627 -8.375325  0\n",
      "183  8.466551 -15.333483 -6.866932  0\n",
      "521  7.859517  -5.149457  2.710060  1\n",
      "601  2.588761  -9.420098 -6.831337  0\n",
      "823  0.890522 -10.792817 -9.902295  0\n"
     ]
    },
    {
     "data": {
      "text/plain": [
       "<AxesSubplot:xlabel='value', ylabel='Count'>"
      ]
     },
     "execution_count": 2,
     "metadata": {},
     "output_type": "execute_result"
    },
    {
     "data": {
      "image/png": "[encoded data removed]",
      "text/plain": [
       "<Figure size 432x288 with 1 Axes>"
      ]
     },
     "metadata": {
      "needs_background": "light"
     },
     "output_type": "display_data"
    }
   ],
   "source": [
    "#features X\n",
    "meanA, stdA = 10, 5\n",
    "xA = np.random.normal(meanA, stdA, 1000)\n",
    "\n",
    "meanB, stdB = -10, 5\n",
    "xB = np.random.normal(meanB, stdB, 1000)\n",
    "\n",
    "#target y\n",
    "fx = xA + xB\n",
    "y = [1 if i >= (meanA + meanB) else 0 for i in fx]\n",
    "\n",
    "#data with X an y\n",
    "data = pd.DataFrame({'xA':xA, 'xB':xB, 'fx': fx, 'y':y})\n",
    "print(data.sample(5))\n",
    "\n",
    "sns.histplot(data=pd.melt(data, id_vars=['y'], value_vars=['xA', 'xB', 'fx']), x='value', hue='variable', kde=True)"
   ]
  },
  {
   "cell_type": "markdown",
   "metadata": {},
   "source": [
    "### Manual QDA"
   ]
  },
  {
   "cell_type": "markdown",
   "metadata": {},
   "source": [
    "Checking the covariance matrices"
   ]
  },
  {
   "cell_type": "code",
   "execution_count": 3,
   "metadata": {},
   "outputs": [
    {
     "name": "stdout",
     "output_type": "stream",
     "text": [
      "           xA         xB\n",
      "xA  16.719295  -8.293735\n",
      "xB  -8.293735  17.641782\n",
      "           xA         xB\n",
      "xA  18.536762  -8.580606\n",
      "xB  -8.580606  17.343167\n"
     ]
    }
   ],
   "source": [
    "#separing the data\n",
    "sample0 = data.loc[data['y'] == 0]\n",
    "sample1 = data.loc[data['y'] == 1]\n",
    "assert data.shape[0] == sample0.shape[0] + sample1.shape[0]\n",
    "\n",
    "#calculating the covariance matrices\n",
    "print(sample0[['xA', 'xB']].cov())\n",
    "print(sample1[['xA', 'xB']].cov())"
   ]
  },
  {
   "cell_type": "markdown",
   "metadata": {},
   "source": [
    "The results above shows the differente between the covariance matrices, which is an indication that QDA should be a better suggestion. Since the QDA's decision function is a curve, it would allow more flexibility than the LDA's decision function, which is a straight line, thus resulting in lower bias.\n",
    "\n",
    "QDA's decision function:\n",
    "\n",
    "<img src=\"img/qda_decision_function.PNG\" />\n",
    "\n",
    "*source: https://www.statlearning.com/*"
   ]
  },
  {
   "cell_type": "code",
   "execution_count": 4,
   "metadata": {},
   "outputs": [],
   "source": [
    "def preparation(df):\n",
    "    '''calculate every variable (except x and xt) necessary for the decision equation'''\n",
    "\n",
    "    sample0 = data.loc[data['y'] == 0]\n",
    "    sample1 = data.loc[data['y'] == 1]\n",
    "\n",
    "    m0 = sample0[['xA','xB']].mean().array.reshape(2,1)\n",
    "    m0_t = sample0[['xA','xB']].mean().array\n",
    "    m1 = sample1[['xA','xB']].mean().array.reshape(2,1)\n",
    "    m1_t = sample1[['xA','xB']].mean().array\n",
    "\n",
    "    cov0 = sample0[['xA', 'xB']].cov().to_numpy()\n",
    "    cov0_inv = np.linalg.inv(sample0[['xA', 'xB']].cov())\n",
    "    cov1 = sample1[['xA', 'xB']].cov().to_numpy()\n",
    "    cov1_inv = np.linalg.inv(sample1[['xA', 'xB']].cov())\n",
    "\n",
    "    ln0, ln1 = np.log(np.linalg.det(cov0)), np.log(np.linalg.det(cov1))\n",
    "    prob0, prob1 = np.log((sample0.shape[0]/data.shape[0])), np.log((sample1.shape[0]/data.shape[0]))\n",
    "\n",
    "    return m0, m0_t, m1, m1_t, cov0_inv, cov1_inv, ln0, ln1, prob0, prob1\n",
    "\n",
    "\n",
    "#calculating each variable of the equation\n",
    "m0, m0_t, m1, m1_t, cov0_inv, cov1_inv, ln0, ln1, prob0, prob1 = preparation(data)"
   ]
  },
  {
   "cell_type": "code",
   "execution_count": 5,
   "metadata": {},
   "outputs": [
    {
     "data": {
      "text/html": [
       "<div>\n",
       "<style scoped>\n",
       "    .dataframe tbody tr th:only-of-type {\n",
       "        vertical-align: middle;\n",
       "    }\n",
       "\n",
       "    .dataframe tbody tr th {\n",
       "        vertical-align: top;\n",
       "    }\n",
       "\n",
       "    .dataframe thead th {\n",
       "        text-align: right;\n",
       "    }\n",
       "</style>\n",
       "<table border=\"1\" class=\"dataframe\">\n",
       "  <thead>\n",
       "    <tr style=\"text-align: right;\">\n",
       "      <th></th>\n",
       "      <th>xA</th>\n",
       "      <th>xB</th>\n",
       "      <th>fx</th>\n",
       "      <th>y</th>\n",
       "      <th>manual_fx0</th>\n",
       "      <th>manual_fx1</th>\n",
       "      <th>manual_decision_function</th>\n",
       "      <th>manual_prediction</th>\n",
       "    </tr>\n",
       "  </thead>\n",
       "  <tbody>\n",
       "    <tr>\n",
       "      <th>262</th>\n",
       "      <td>9.729343</td>\n",
       "      <td>-10.884891</td>\n",
       "      <td>-1.155547</td>\n",
       "      <td>0</td>\n",
       "      <td>-3.971390</td>\n",
       "      <td>-4.702248</td>\n",
       "      <td>-0.730858</td>\n",
       "      <td>0</td>\n",
       "    </tr>\n",
       "    <tr>\n",
       "      <th>668</th>\n",
       "      <td>13.272031</td>\n",
       "      <td>-5.180058</td>\n",
       "      <td>8.091974</td>\n",
       "      <td>1</td>\n",
       "      <td>-8.722292</td>\n",
       "      <td>-3.648601</td>\n",
       "      <td>5.073692</td>\n",
       "      <td>1</td>\n",
       "    </tr>\n",
       "    <tr>\n",
       "      <th>922</th>\n",
       "      <td>8.662731</td>\n",
       "      <td>-12.808835</td>\n",
       "      <td>-4.146104</td>\n",
       "      <td>0</td>\n",
       "      <td>-3.479846</td>\n",
       "      <td>-6.055833</td>\n",
       "      <td>-2.575987</td>\n",
       "      <td>0</td>\n",
       "    </tr>\n",
       "  </tbody>\n",
       "</table>\n",
       "</div>"
      ],
      "text/plain": [
       "            xA         xB        fx  y  manual_fx0  manual_fx1  \\\n",
       "262   9.729343 -10.884891 -1.155547  0   -3.971390   -4.702248   \n",
       "668  13.272031  -5.180058  8.091974  1   -8.722292   -3.648601   \n",
       "922   8.662731 -12.808835 -4.146104  0   -3.479846   -6.055833   \n",
       "\n",
       "     manual_decision_function  manual_prediction  \n",
       "262                 -0.730858                  0  \n",
       "668                  5.073692                  1  \n",
       "922                 -2.575987                  0  "
      ]
     },
     "execution_count": 5,
     "metadata": {},
     "output_type": "execute_result"
    }
   ],
   "source": [
    "def decision_function(x, x_t, m, m_t, cov_inv, ln, prob):\n",
    "    '''create the function for each row'''\n",
    "    fx = -0.5 * np.matmul(np.matmul(x_t, cov_inv), x) + \\\n",
    "              + np.matmul(np.matmul(x_t, cov_inv), m) + \\\n",
    "         -0.5 * np.matmul(np.matmul(m_t, cov_inv), m) + \\\n",
    "         -0.5 * ln + prob               \n",
    "    return fx[0]\n",
    "\n",
    "\n",
    "#calculating the decision function\n",
    "data['manual_fx0'] = np.nan\n",
    "data['manual_fx1'] = np.nan\n",
    "data['manual_decision_function'] = np.nan\n",
    "data['manual_prediction'] = np.nan\n",
    "\n",
    "for index, row in data.iterrows():\n",
    "    x_t = data[['xA','xB']].loc[index].array\n",
    "    x = data[['xA','xB']].loc[index].array.reshape(2,1)\n",
    "\n",
    "    data.loc[index, 'manual_fx0'] = decision_function(x, x_t, m0, m0_t, cov0_inv, ln0, prob0)\n",
    "    data.loc[index, 'manual_fx1'] = decision_function(x, x_t, m1, m1_t, cov1_inv, ln1, prob1)\n",
    "    data['manual_decision_function'] = data['manual_fx1'] - data['manual_fx0']\n",
    "    data['manual_prediction'] = np.where(data['manual_fx1'] >= data['manual_fx0'], 1, 0)\n",
    "\n",
    "data.sample(3)"
   ]
  },
  {
   "cell_type": "code",
   "execution_count": 6,
   "metadata": {},
   "outputs": [
    {
     "name": "stdout",
     "output_type": "stream",
     "text": [
      "[[499   1]\n",
      " [  2 498]]\n",
      "0.997\n",
      "0.9979959919839679\n",
      "0.996\n"
     ]
    }
   ],
   "source": [
    "#comparing the results\n",
    "print(confusion_matrix(data['y'], data['manual_prediction']))\n",
    "print(accuracy_score(data['y'], data['manual_prediction']))\n",
    "print(precision_score(data['y'], data['manual_prediction']))\n",
    "print(recall_score(data['y'], data['manual_prediction']))"
   ]
  },
  {
   "cell_type": "markdown",
   "metadata": {},
   "source": [
    "Something is wrong with the formula. Doing some investigation."
   ]
  },
  {
   "cell_type": "markdown",
   "metadata": {},
   "source": [
    "### Sklearn QDA"
   ]
  },
  {
   "cell_type": "code",
   "execution_count": 7,
   "metadata": {},
   "outputs": [],
   "source": [
    "X = data[['xA','xB']]\n",
    "y = data['y']\n",
    "\n",
    "qda = QuadraticDiscriminantAnalysis(store_covariance=True)\n",
    "qda.fit(X, y)\n",
    "\n",
    "data['fx0_sklearn'] = qda.predict_log_proba(X)[:, 0]\n",
    "data['fx1_sklearn'] = qda.predict_log_proba(X)[:, 1]\n",
    "data['sklearn_decision_function'] = qda.decision_function(X)\n",
    "data['sklearn_prediction'] = qda.predict(X)"
   ]
  },
  {
   "cell_type": "code",
   "execution_count": 8,
   "metadata": {},
   "outputs": [
    {
     "data": {
      "text/html": [
       "<div>\n",
       "<style scoped>\n",
       "    .dataframe tbody tr th:only-of-type {\n",
       "        vertical-align: middle;\n",
       "    }\n",
       "\n",
       "    .dataframe tbody tr th {\n",
       "        vertical-align: top;\n",
       "    }\n",
       "\n",
       "    .dataframe thead th {\n",
       "        text-align: right;\n",
       "    }\n",
       "</style>\n",
       "<table border=\"1\" class=\"dataframe\">\n",
       "  <thead>\n",
       "    <tr style=\"text-align: right;\">\n",
       "      <th></th>\n",
       "      <th>xA</th>\n",
       "      <th>xB</th>\n",
       "      <th>fx</th>\n",
       "      <th>y</th>\n",
       "      <th>manual_fx0</th>\n",
       "      <th>manual_fx1</th>\n",
       "      <th>manual_decision_function</th>\n",
       "      <th>manual_prediction</th>\n",
       "      <th>fx0_sklearn</th>\n",
       "      <th>fx1_sklearn</th>\n",
       "      <th>sklearn_decision_function</th>\n",
       "      <th>sklearn_prediction</th>\n",
       "    </tr>\n",
       "  </thead>\n",
       "  <tbody>\n",
       "    <tr>\n",
       "      <th>347</th>\n",
       "      <td>8.898272</td>\n",
       "      <td>-8.443522</td>\n",
       "      <td>0.454750</td>\n",
       "      <td>1</td>\n",
       "      <td>-4.521370</td>\n",
       "      <td>-4.253060</td>\n",
       "      <td>0.268311</td>\n",
       "      <td>1</td>\n",
       "      <td>-0.836274</td>\n",
       "      <td>-0.567964</td>\n",
       "      <td>0.268311</td>\n",
       "      <td>1</td>\n",
       "    </tr>\n",
       "    <tr>\n",
       "      <th>169</th>\n",
       "      <td>17.100808</td>\n",
       "      <td>-3.717428</td>\n",
       "      <td>13.383379</td>\n",
       "      <td>1</td>\n",
       "      <td>-13.603107</td>\n",
       "      <td>-5.033378</td>\n",
       "      <td>8.569729</td>\n",
       "      <td>1</td>\n",
       "      <td>-8.569919</td>\n",
       "      <td>-0.000190</td>\n",
       "      <td>8.569729</td>\n",
       "      <td>1</td>\n",
       "    </tr>\n",
       "    <tr>\n",
       "      <th>710</th>\n",
       "      <td>10.913386</td>\n",
       "      <td>-16.800047</td>\n",
       "      <td>-5.886661</td>\n",
       "      <td>0</td>\n",
       "      <td>-3.931498</td>\n",
       "      <td>-7.628327</td>\n",
       "      <td>-3.696829</td>\n",
       "      <td>0</td>\n",
       "      <td>-0.024499</td>\n",
       "      <td>-3.721329</td>\n",
       "      <td>-3.696829</td>\n",
       "      <td>0</td>\n",
       "    </tr>\n",
       "  </tbody>\n",
       "</table>\n",
       "</div>"
      ],
      "text/plain": [
       "            xA         xB         fx  y  manual_fx0  manual_fx1  \\\n",
       "347   8.898272  -8.443522   0.454750  1   -4.521370   -4.253060   \n",
       "169  17.100808  -3.717428  13.383379  1  -13.603107   -5.033378   \n",
       "710  10.913386 -16.800047  -5.886661  0   -3.931498   -7.628327   \n",
       "\n",
       "     manual_decision_function  manual_prediction  fx0_sklearn  fx1_sklearn  \\\n",
       "347                  0.268311                  1    -0.836274    -0.567964   \n",
       "169                  8.569729                  1    -8.569919    -0.000190   \n",
       "710                 -3.696829                  0    -0.024499    -3.721329   \n",
       "\n",
       "     sklearn_decision_function  sklearn_prediction  \n",
       "347                   0.268311                   1  \n",
       "169                   8.569729                   1  \n",
       "710                  -3.696829                   0  "
      ]
     },
     "execution_count": 8,
     "metadata": {},
     "output_type": "execute_result"
    }
   ],
   "source": [
    "data.sample(3)"
   ]
  },
  {
   "cell_type": "code",
   "execution_count": 9,
   "metadata": {},
   "outputs": [
    {
     "name": "stdout",
     "output_type": "stream",
     "text": [
      "[[499   1]\n",
      " [  2 498]]\n",
      "0.997\n",
      "0.9979959919839679\n",
      "0.996\n"
     ]
    },
    {
     "data": {
      "text/plain": [
       "<AxesSubplot:xlabel='manual_decision_function', ylabel='sklearn_decision_function'>"
      ]
     },
     "execution_count": 9,
     "metadata": {},
     "output_type": "execute_result"
    },
    {
     "data": {
      "image/png": "[encoded data removed]",
      "text/plain": [
       "<Figure size 432x288 with 1 Axes>"
      ]
     },
     "metadata": {
      "needs_background": "light"
     },
     "output_type": "display_data"
    }
   ],
   "source": [
    "# Comparing the results.\n",
    "print(confusion_matrix(data['y'], data['sklearn_prediction']))\n",
    "print(accuracy_score(data['y'], data['sklearn_prediction']))\n",
    "print(precision_score(data['y'], data['sklearn_prediction']))\n",
    "print(recall_score(data['y'], data['sklearn_prediction']))\n",
    "\n",
    "data.plot(x='manual_decision_function', y='sklearn_decision_function', kind='scatter')"
   ]
  },
  {
   "cell_type": "code",
   "execution_count": 10,
   "metadata": {},
   "outputs": [
    {
     "name": "stdout",
     "output_type": "stream",
     "text": [
      "           xA         xB\n",
      "xA  16.719295  -8.293735\n",
      "xB  -8.293735  17.641782\n",
      "           xA         xB\n",
      "xA  18.536762  -8.580606\n",
      "xB  -8.580606  17.343167\n"
     ]
    },
    {
     "data": {
      "text/plain": [
       "[array([[16.71929475, -8.29373542],\n",
       "        [-8.29373542, 17.64178216]]),\n",
       " array([[18.53676227, -8.58060639],\n",
       "        [-8.58060639, 17.34316677]])]"
      ]
     },
     "execution_count": 10,
     "metadata": {},
     "output_type": "execute_result"
    }
   ],
   "source": [
    "#calculating the covariance matrices\n",
    "print(sample0[['xA', 'xB']].cov())\n",
    "print(sample1[['xA', 'xB']].cov())\n",
    "\n",
    "qda.covariance_"
   ]
  },
  {
   "cell_type": "markdown",
   "metadata": {},
   "source": [
    "As predicted, sklearn's QDA uses separately both sample's correlation matrices."
   ]
  },
  {
   "cell_type": "markdown",
   "metadata": {},
   "source": [
    "## Comparison LDA vs QDA"
   ]
  },
  {
   "cell_type": "markdown",
   "metadata": {},
   "source": [
    "In theory, both algorithms follows the same logic and the only difference is the covariance matrix: LDA assumes the same covariance but QDA don't. In the next steps, we will analyse the impact of different samples in the classification performance. In the example, let's use Stranger Things for context.\n"
   ]
  },
  {
   "cell_type": "markdown",
   "metadata": {},
   "source": [
    "### Data availability: plenty   "
   ]
  },
  {
   "cell_type": "code",
   "execution_count": 29,
   "metadata": {},
   "outputs": [
    {
     "name": "stdout",
     "output_type": "stream",
     "text": [
      "            x1         x2          x3           x4          x5  y\n",
      "493 -14.816665  29.917630   98.657754   915.713776  523.337324  0\n",
      "256 -17.373417  48.884249  130.679331  1158.863231  519.181963  1\n",
      "586  36.880383  57.249594  102.384836  1042.875618  619.889580  1\n",
      "403  37.727797  33.369437  110.163760  1146.894030  582.657562  1\n",
      "231   7.944849  27.103864  107.521109  1010.630712  485.361219  1\n"
     ]
    }
   ],
   "source": [
    "# Creating dummy data\n",
    "early_dart = np.random.normal(10, 20, 1000)\n",
    "late_dart = np.random.normal(30, 20, 1000)\n",
    "demogorgon = np.random.normal(100, 20, 1000)\n",
    "mind_flayer = np.random.normal(1000, 100, 1000)\n",
    "vecna = np.random.normal(500, 200, 1000)\n",
    "luck = np.random.normal(100, 500, 1000)\n",
    "\n",
    "fx = early_dart + late_dart + demogorgon + mind_flayer + vecna\n",
    "bad_guys_win = [1 if i >= 1631 else 0 for i in fx]\n",
    "\n",
    "#data with X an y\n",
    "data = pd.DataFrame({'x1':early_dart, 'x2':late_dart, 'x3': demogorgon, 'x4':mind_flayer, 'x5':vecna, 'y':bad_guys_win})\n",
    "print(data.sample(5))"
   ]
  },
  {
   "cell_type": "code",
   "execution_count": 30,
   "metadata": {},
   "outputs": [
    {
     "data": {
      "text/plain": [
       "1    519\n",
       "0    481\n",
       "Name: y, dtype: int64"
      ]
     },
     "execution_count": 30,
     "metadata": {},
     "output_type": "execute_result"
    }
   ],
   "source": [
    "data['y'].value_counts()"
   ]
  },
  {
   "cell_type": "code",
   "execution_count": 31,
   "metadata": {},
   "outputs": [],
   "source": [
    "X = data.drop(columns='y')\n",
    "y = data['y']\n",
    "\n",
    "lda = LinearDiscriminantAnalysis().fit(X, y)\n",
    "qda = QuadraticDiscriminantAnalysis().fit(X, y)"
   ]
  },
  {
   "cell_type": "code",
   "execution_count": 32,
   "metadata": {},
   "outputs": [
    {
     "name": "stdout",
     "output_type": "stream",
     "text": [
      "[[472   9]\n",
      " [  6 513]]\n",
      "0.985\n",
      "0.9827586206896551\n",
      "0.9884393063583815\n",
      "[[468  13]\n",
      " [  5 514]]\n",
      "0.982\n",
      "0.9753320683111955\n",
      "0.9903660886319846\n"
     ]
    }
   ],
   "source": [
    "# LDA\n",
    "print(confusion_matrix(data['y'], lda.predict(X)))\n",
    "print(accuracy_score(data['y'], lda.predict(X)))\n",
    "print(precision_score(data['y'], lda.predict(X)))\n",
    "print(recall_score(data['y'], lda.predict(X)))\n",
    "\n",
    "# QDA\n",
    "print(confusion_matrix(data['y'], qda.predict(X)))\n",
    "print(accuracy_score(data['y'], qda.predict(X)))\n",
    "print(precision_score(data['y'], qda.predict(X)))\n",
    "print(recall_score(data['y'], qda.predict(X)))"
   ]
  },
  {
   "cell_type": "markdown",
   "metadata": {},
   "source": [
    "### Data availability: scarce   "
   ]
  },
  {
   "cell_type": "code",
   "execution_count": 33,
   "metadata": {},
   "outputs": [],
   "source": [
    "_, X_scarce, _, y_scarce = train_test_split(X, y, test_size=0.02, stratify=y)\n",
    "\n",
    "lda_scarce = LinearDiscriminantAnalysis().fit(X_scarce, y_scarce)\n",
    "qda_scarce = QuadraticDiscriminantAnalysis().fit(X_scarce, y_scarce)"
   ]
  },
  {
   "cell_type": "code",
   "execution_count": 34,
   "metadata": {},
   "outputs": [
    {
     "name": "stdout",
     "output_type": "stream",
     "text": [
      "[[10  0]\n",
      " [ 0 10]]\n",
      "1.0\n",
      "1.0\n",
      "1.0\n",
      "[[10  0]\n",
      " [ 0 10]]\n",
      "1.0\n",
      "1.0\n",
      "1.0\n"
     ]
    }
   ],
   "source": [
    "# LDA\n",
    "print(confusion_matrix(y_scarce, lda_scarce.predict(X_scarce)))\n",
    "print(accuracy_score(y_scarce, lda_scarce.predict(X_scarce)))\n",
    "print(precision_score(y_scarce, lda_scarce.predict(X_scarce)))\n",
    "print(recall_score(y_scarce, lda_scarce.predict(X_scarce)))\n",
    "\n",
    "# QDA\n",
    "print(confusion_matrix(y_scarce, qda_scarce.predict(X_scarce)))\n",
    "print(accuracy_score(y_scarce, qda_scarce.predict(X_scarce)))\n",
    "print(precision_score(y_scarce, qda_scarce.predict(X_scarce)))\n",
    "print(recall_score(y_scarce, qda_scarce.predict(X_scarce)))"
   ]
  },
  {
   "cell_type": "markdown",
   "metadata": {},
   "source": [
    "### Evolution"
   ]
  },
  {
   "cell_type": "code",
   "execution_count": 70,
   "metadata": {},
   "outputs": [
    {
     "name": "stderr",
     "output_type": "stream",
     "text": [
      "  0%|                                                                                           | 0/99 [00:00<?, ?it/s]C:\\Users\\Kenji\\AppData\\Local\\Programs\\Python\\Python310\\lib\\site-packages\\sklearn\\discriminant_analysis.py:878: UserWarning: Variables are collinear\n",
      "  warnings.warn(\"Variables are collinear\")\n",
      "100%|█████████████████████████████████████████████████████████████████████████████████| 99/99 [00:00<00:00, 316.30it/s]\n"
     ]
    }
   ],
   "source": [
    "lda_acc = []\n",
    "qda_acc = []\n",
    "sample_size = list(range(10, 1000, 10))\n",
    "\n",
    "for i in tqdm(sample_size):\n",
    "    sample = data.loc[:i]\n",
    "    \n",
    "    X = sample.drop(columns='y')\n",
    "    y = sample['y']\n",
    "    lda_sample = LinearDiscriminantAnalysis().fit(X, y)\n",
    "    qda_sample = QuadraticDiscriminantAnalysis().fit(X, y)\n",
    "    \n",
    "    lda_acc.append(accuracy_score(y, lda_scarce.predict(X)))\n",
    "    qda_acc.append(accuracy_score(y, qda_scarce.predict(X)))\n",
    "    \n",
    "df_metric = pd.DataFrame({'n':sample_size, 'LDA':lda_acc, 'QDA':qda_acc})"
   ]
  },
  {
   "cell_type": "code",
   "execution_count": 71,
   "metadata": {},
   "outputs": [
    {
     "data": {
      "text/html": [
       "<div>\n",
       "<style scoped>\n",
       "    .dataframe tbody tr th:only-of-type {\n",
       "        vertical-align: middle;\n",
       "    }\n",
       "\n",
       "    .dataframe tbody tr th {\n",
       "        vertical-align: top;\n",
       "    }\n",
       "\n",
       "    .dataframe thead th {\n",
       "        text-align: right;\n",
       "    }\n",
       "</style>\n",
       "<table border=\"1\" class=\"dataframe\">\n",
       "  <thead>\n",
       "    <tr style=\"text-align: right;\">\n",
       "      <th></th>\n",
       "      <th>n</th>\n",
       "      <th>LDA</th>\n",
       "      <th>QDA</th>\n",
       "    </tr>\n",
       "  </thead>\n",
       "  <tbody>\n",
       "    <tr>\n",
       "      <th>0</th>\n",
       "      <td>10</td>\n",
       "      <td>0.909091</td>\n",
       "      <td>0.909091</td>\n",
       "    </tr>\n",
       "    <tr>\n",
       "      <th>1</th>\n",
       "      <td>20</td>\n",
       "      <td>0.904762</td>\n",
       "      <td>0.904762</td>\n",
       "    </tr>\n",
       "    <tr>\n",
       "      <th>2</th>\n",
       "      <td>30</td>\n",
       "      <td>0.903226</td>\n",
       "      <td>0.903226</td>\n",
       "    </tr>\n",
       "    <tr>\n",
       "      <th>3</th>\n",
       "      <td>40</td>\n",
       "      <td>0.926829</td>\n",
       "      <td>0.902439</td>\n",
       "    </tr>\n",
       "    <tr>\n",
       "      <th>4</th>\n",
       "      <td>50</td>\n",
       "      <td>0.901961</td>\n",
       "      <td>0.862745</td>\n",
       "    </tr>\n",
       "    <tr>\n",
       "      <th>...</th>\n",
       "      <td>...</td>\n",
       "      <td>...</td>\n",
       "      <td>...</td>\n",
       "    </tr>\n",
       "    <tr>\n",
       "      <th>94</th>\n",
       "      <td>950</td>\n",
       "      <td>0.921136</td>\n",
       "      <td>0.870662</td>\n",
       "    </tr>\n",
       "    <tr>\n",
       "      <th>95</th>\n",
       "      <td>960</td>\n",
       "      <td>0.921956</td>\n",
       "      <td>0.872008</td>\n",
       "    </tr>\n",
       "    <tr>\n",
       "      <th>96</th>\n",
       "      <td>970</td>\n",
       "      <td>0.921730</td>\n",
       "      <td>0.870237</td>\n",
       "    </tr>\n",
       "    <tr>\n",
       "      <th>97</th>\n",
       "      <td>980</td>\n",
       "      <td>0.921509</td>\n",
       "      <td>0.868502</td>\n",
       "    </tr>\n",
       "    <tr>\n",
       "      <th>98</th>\n",
       "      <td>990</td>\n",
       "      <td>0.921292</td>\n",
       "      <td>0.868819</td>\n",
       "    </tr>\n",
       "  </tbody>\n",
       "</table>\n",
       "<p>99 rows × 3 columns</p>\n",
       "</div>"
      ],
      "text/plain": [
       "      n       LDA       QDA\n",
       "0    10  0.909091  0.909091\n",
       "1    20  0.904762  0.904762\n",
       "2    30  0.903226  0.903226\n",
       "3    40  0.926829  0.902439\n",
       "4    50  0.901961  0.862745\n",
       "..  ...       ...       ...\n",
       "94  950  0.921136  0.870662\n",
       "95  960  0.921956  0.872008\n",
       "96  970  0.921730  0.870237\n",
       "97  980  0.921509  0.868502\n",
       "98  990  0.921292  0.868819\n",
       "\n",
       "[99 rows x 3 columns]"
      ]
     },
     "execution_count": 71,
     "metadata": {},
     "output_type": "execute_result"
    }
   ],
   "source": [
    "df_metric"
   ]
  },
  {
   "cell_type": "code",
   "execution_count": 80,
   "metadata": {},
   "outputs": [
    {
     "data": {
      "text/plain": [
       "[Text(0.5, 0, 'Sample size'),\n",
       " Text(0, 0.5, 'Accuracy'),\n",
       " Text(0.5, 1.0, 'Comparing QDA and LDA accuracy in different sample sizes'),\n",
       " (0.0, 1.0)]"
      ]
     },
     "execution_count": 80,
     "metadata": {},
     "output_type": "execute_result"
    },
    {
     "data": {
      "image/png": "[encoded data removed]",
      "text/plain": [
       "<Figure size 720x288 with 1 Axes>"
      ]
     },
     "metadata": {
      "needs_background": "light"
     },
     "output_type": "display_data"
    }
   ],
   "source": [
    "df_plot = pd.melt(df_metric, id_vars='n', value_vars=['QDA', 'LDA'])\n",
    "\n",
    "fig = plt.figure(figsize=(10, 4)) \n",
    "fig = sns.lineplot(data=df_plot, x='n', y='value', hue='variable')\n",
    "fig.set(xlabel='Sample size', ylabel='Accuracy', title='Comparing QDA and LDA accuracy in different sample sizes', ylim=(0, 1))"
   ]
  },
  {
   "cell_type": "markdown",
   "metadata": {},
   "source": [
    "**Results:**\n",
    "the graph above shows the accuracy (vertical axis) of LDA (blue) and QDA (red) algorithm when changing the sample size (horizontal axis). The first insight is the gap between the metrics becoming stabler as sample size is increased. In terms of numbers, both algorithm achieved a high level of performance independent of sample size. This result was no expected since theory indicates QDA requires more data for estimate two correlation matrices instead of one. It is possible that low difference is due to the two correlation matrices being similar."
   ]
  },
  {
   "cell_type": "markdown",
   "metadata": {},
   "source": [
    "### Very different correlation matrices"
   ]
  },
  {
   "cell_type": "code",
   "execution_count": 150,
   "metadata": {},
   "outputs": [
    {
     "data": {
      "text/plain": [
       "0    511\n",
       "1    489\n",
       "Name: y, dtype: int64"
      ]
     },
     "execution_count": 150,
     "metadata": {},
     "output_type": "execute_result"
    }
   ],
   "source": [
    "# Creating dummy data with different correlation matrices\n",
    "mike = np.random.normal(100, 50, 1000)\n",
    "lucas = np.random.normal(100, 20, 1000)\n",
    "maxine = np.random.normal(100, 60, 1000)\n",
    "dustin = np.random.normal(100, 100, 1000)\n",
    "eleven = np.random.normal(500, 200, 1000)\n",
    "\n",
    "\n",
    "# y is the predicted outcome of the good guys winning, which happens when Eleven carries the whole team.\n",
    "data = pd.DataFrame({'x1': mike, 'x2': lucas, 'x3': maxine, 'x4':dustin, 'x5':eleven})\n",
    "data['y'] = np.select([data['x5']>1000, data['x4']>100], [1,1], 0)\n",
    "\n",
    "data['y'].value_counts()"
   ]
  },
  {
   "cell_type": "code",
   "execution_count": 151,
   "metadata": {},
   "outputs": [
    {
     "name": "stdout",
     "output_type": "stream",
     "text": [
      "             x1          x2           x3           x4            x5\n",
      "x1  2724.366334   -5.561414    55.603322  -313.083081   -443.298649\n",
      "x2    -5.561414  384.475940   -36.973305    26.657910    -89.212858\n",
      "x3    55.603322  -36.973305  3758.769815    34.370027    158.712519\n",
      "x4  -313.083081   26.657910    34.370027  3923.341984    875.345555\n",
      "x5  -443.298649  -89.212858   158.712519   875.345555  41796.430132\n",
      "             x1          x2           x3           x4            x5\n",
      "x1  2703.240980  -47.398608   186.026857   186.402392    171.777352\n",
      "x2   -47.398608  392.467517     7.735376   -13.655051   -162.524302\n",
      "x3   186.026857    7.735376  4014.000540   -67.610838   -187.253855\n",
      "x4   186.402392  -13.655051   -67.610838  3334.774827     78.974587\n",
      "x5   171.777352 -162.524302  -187.253855    78.974587  41744.712487\n"
     ]
    }
   ],
   "source": [
    "#calculating the covariance matrices\n",
    "print(data.loc[data['y'] == 0].drop(columns='y').cov())\n",
    "print(data.loc[data['y'] == 1].drop(columns='y').cov())"
   ]
  },
  {
   "cell_type": "code",
   "execution_count": 152,
   "metadata": {},
   "outputs": [
    {
     "name": "stderr",
     "output_type": "stream",
     "text": [
      "  0%|                                                                                           | 0/99 [00:00<?, ?it/s]C:\\Users\\Kenji\\AppData\\Local\\Programs\\Python\\Python310\\lib\\site-packages\\sklearn\\discriminant_analysis.py:878: UserWarning: Variables are collinear\n",
      "  warnings.warn(\"Variables are collinear\")\n",
      "100%|█████████████████████████████████████████████████████████████████████████████████| 99/99 [00:00<00:00, 316.67it/s]\n"
     ]
    }
   ],
   "source": [
    "lda_acc = []\n",
    "qda_acc = []\n",
    "sample_size = list(range(10, 1000, 10))\n",
    "\n",
    "for i in tqdm(sample_size):\n",
    "    sample = data.loc[:i]\n",
    "    \n",
    "    X = sample.drop(columns='y')\n",
    "    y = sample['y']\n",
    "    lda_sample = LinearDiscriminantAnalysis().fit(X, y)\n",
    "    qda_sample = QuadraticDiscriminantAnalysis().fit(X, y)\n",
    "    \n",
    "    lda_acc.append(accuracy_score(y, lda_scarce.predict(X)))\n",
    "    qda_acc.append(accuracy_score(y, qda_scarce.predict(X)))\n",
    "    \n",
    "df_metric = pd.DataFrame({'n':sample_size, 'LDA':lda_acc, 'QDA':qda_acc})"
   ]
  },
  {
   "cell_type": "code",
   "execution_count": 153,
   "metadata": {},
   "outputs": [
    {
     "data": {
      "text/plain": [
       "[Text(0.5, 0, 'Sample size'),\n",
       " Text(0, 0.5, 'Accuracy'),\n",
       " Text(0.5, 1.0, 'Comparing QDA and LDA accuracy in different sample sizes'),\n",
       " (0.0, 1.0)]"
      ]
     },
     "execution_count": 153,
     "metadata": {},
     "output_type": "execute_result"
    },
    {
     "data": {
      "image/png": "[encoded data removed]",
      "text/plain": [
       "<Figure size 720x288 with 1 Axes>"
      ]
     },
     "metadata": {
      "needs_background": "light"
     },
     "output_type": "display_data"
    }
   ],
   "source": [
    "df_plot = pd.melt(df_metric, id_vars='n', value_vars=['QDA', 'LDA'])\n",
    "\n",
    "fig = plt.figure(figsize=(10, 4)) \n",
    "fig = sns.lineplot(data=df_plot, x='n', y='value', hue='variable')\n",
    "fig.set(xlabel='Sample size', ylabel='Accuracy', title='Comparing QDA and LDA accuracy in different sample sizes', ylim=(0, 1))"
   ]
  },
  {
   "cell_type": "markdown",
   "metadata": {},
   "source": [
    "**Results:**\n",
    "the behavior observed is similar to the previous setup: the gap between algorithm tends to become stabler with increasing sample size and LDA performs better. It is curious that the LDA performed better  in this second cenario of higher divergence of correlation matrices, although it is not clear if this results are attributed to the almost random rule of what constitutes y outcome."
   ]
  }
 ],
 "metadata": {
  "interpreter": {
   "hash": "0697e33743e68981c006cc22ac94fff3ae17d2c85313f2bafa4691fafef3845b"
  },
  "kernelspec": {
   "display_name": "Python 3 (ipykernel)",
   "language": "python",
   "name": "python3"
  },
  "language_info": {
   "codemirror_mode": {
    "name": "ipython",
    "version": 3
   },
   "file_extension": ".py",
   "mimetype": "text/x-python",
   "name": "python",
   "nbconvert_exporter": "python",
   "pygments_lexer": "ipython3",
   "version": "3.10.4"
  }
 },
 "nbformat": 4,
 "nbformat_minor": 4
}
