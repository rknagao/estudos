{
 "cells": [
  {
   "cell_type": "markdown",
   "metadata": {},
   "source": [
    "# Experiment on GeoData"
   ]
  },
  {
   "cell_type": "code",
   "execution_count": 31,
   "metadata": {},
   "outputs": [],
   "source": [
    "#general libs\n",
    "import json\n",
    "import numpy as np\n",
    "import pandas as pd\n",
    "from time import sleep\n",
    "from tqdm import tqdm\n",
    "\n",
    "#geodata libs\n",
    "import folium\n",
    "import openrouteservice"
   ]
  },
  {
   "cell_type": "markdown",
   "metadata": {},
   "source": [
    "Global variables (api keys and other stuff)"
   ]
  },
  {
   "cell_type": "code",
   "execution_count": 32,
   "metadata": {},
   "outputs": [],
   "source": [
    "secrets = json.load(open('..\\secrets.json'))\n",
    "\n",
    "KEY_OPENROUTESERVICE = secrets['OPENROUTESERVICE']['API_KEY']\n"
   ]
  },
  {
   "cell_type": "code",
   "execution_count": 33,
   "metadata": {},
   "outputs": [
    {
     "data": {
      "text/html": [
       "<div>\n",
       "<style scoped>\n",
       "    .dataframe tbody tr th:only-of-type {\n",
       "        vertical-align: middle;\n",
       "    }\n",
       "\n",
       "    .dataframe tbody tr th {\n",
       "        vertical-align: top;\n",
       "    }\n",
       "\n",
       "    .dataframe thead th {\n",
       "        text-align: right;\n",
       "    }\n",
       "</style>\n",
       "<table border=\"1\" class=\"dataframe\">\n",
       "  <thead>\n",
       "    <tr style=\"text-align: right;\">\n",
       "      <th></th>\n",
       "      <th>date</th>\n",
       "      <th>year</th>\n",
       "      <th>latitude</th>\n",
       "      <th>longitude</th>\n",
       "    </tr>\n",
       "  </thead>\n",
       "  <tbody>\n",
       "    <tr>\n",
       "      <th>0</th>\n",
       "      <td>2016-06-21 21:02:54</td>\n",
       "      <td>2016</td>\n",
       "      <td>-23.582274</td>\n",
       "      <td>-46.685666</td>\n",
       "    </tr>\n",
       "    <tr>\n",
       "      <th>1</th>\n",
       "      <td>2016-06-21 21:05:08</td>\n",
       "      <td>2016</td>\n",
       "      <td>-23.585315</td>\n",
       "      <td>-46.688474</td>\n",
       "    </tr>\n",
       "    <tr>\n",
       "      <th>2</th>\n",
       "      <td>2016-06-21 21:07:17</td>\n",
       "      <td>2016</td>\n",
       "      <td>-23.585046</td>\n",
       "      <td>-46.691041</td>\n",
       "    </tr>\n",
       "    <tr>\n",
       "      <th>3</th>\n",
       "      <td>2016-06-21 21:07:44</td>\n",
       "      <td>2016</td>\n",
       "      <td>-23.584580</td>\n",
       "      <td>-46.691775</td>\n",
       "    </tr>\n",
       "    <tr>\n",
       "      <th>4</th>\n",
       "      <td>2016-06-21 21:08:59</td>\n",
       "      <td>2016</td>\n",
       "      <td>-23.586483</td>\n",
       "      <td>-46.695554</td>\n",
       "    </tr>\n",
       "  </tbody>\n",
       "</table>\n",
       "</div>"
      ],
      "text/plain": [
       "                 date  year   latitude  longitude\n",
       "0 2016-06-21 21:02:54  2016 -23.582274 -46.685666\n",
       "1 2016-06-21 21:05:08  2016 -23.585315 -46.688474\n",
       "2 2016-06-21 21:07:17  2016 -23.585046 -46.691041\n",
       "3 2016-06-21 21:07:44  2016 -23.584580 -46.691775\n",
       "4 2016-06-21 21:08:59  2016 -23.586483 -46.695554"
      ]
     },
     "execution_count": 33,
     "metadata": {},
     "output_type": "execute_result"
    }
   ],
   "source": [
    "df = pd.read_csv('../data/intermediate/data_intermediate.csv', sep=';')\n",
    "\n",
    "#correcting datatype\n",
    "df['date'] = pd.to_datetime(df['date'])\n",
    "\n",
    "df.head()"
   ]
  },
  {
   "cell_type": "markdown",
   "metadata": {},
   "source": [
    "### Hotwheels protocol\n",
    "\n",
    "Limitting the volume of data during tests"
   ]
  },
  {
   "cell_type": "code",
   "execution_count": 34,
   "metadata": {},
   "outputs": [],
   "source": [
    "df = df.head(10)"
   ]
  },
  {
   "cell_type": "markdown",
   "metadata": {},
   "source": [
    "Defining default coordinates when plotting map"
   ]
  },
  {
   "cell_type": "code",
   "execution_count": 35,
   "metadata": {},
   "outputs": [
    {
     "name": "stdout",
     "output_type": "stream",
     "text": [
      "-23.57891611\n",
      "-46.697245179999996\n"
     ]
    }
   ],
   "source": [
    "lat_default = df['latitude'].mean()\n",
    "long_default = df['longitude'].mean()\n",
    "\n",
    "print(lat_default)\n",
    "print(long_default)\n",
    "\n",
    "#folium.Map(location=[lat_default, long_default], zoom_start=2)"
   ]
  },
  {
   "cell_type": "markdown",
   "metadata": {},
   "source": [
    "### Step 1: create the map with coordinates"
   ]
  },
  {
   "cell_type": "code",
   "execution_count": 48,
   "metadata": {},
   "outputs": [
    {
     "name": "stderr",
     "output_type": "stream",
     "text": [
      "100%|██████████| 9/9 [00:00<00:00, 8989.93it/s]\n"
     ]
    },
    {
     "data": {
      "text/html": [
       "<div style=\"width:100%;\"><div style=\"position:relative;width:100%;height:0;padding-bottom:60%;\"><span style=\"color:#565656\">Make this Notebook Trusted to load map: File -> Trust Notebook</span><iframe src=\"about:blank\" style=\"position:absolute;width:100%;height:100%;left:0;top:0;border:none !important;\" data-html=%3C%21DOCTYPE%20html%3E%0A%3Chead%3E%20%20%20%20%0A%20%20%20%20%3Cmeta%20http-equiv%3D%22content-type%22%20content%3D%22text/html%3B%20charset%3DUTF-8%22%20/%3E%0A%20%20%20%20%0A%20%20%20%20%20%20%20%20%3Cscript%3E%0A%20%20%20%20%20%20%20%20%20%20%20%20L_NO_TOUCH%20%3D%20false%3B%0A%20%20%20%20%20%20%20%20%20%20%20%20L_DISABLE_3D%20%3D%20false%3B%0A%20%20%20%20%20%20%20%20%3C/script%3E%0A%20%20%20%20%0A%20%20%20%20%3Cstyle%3Ehtml%2C%20body%20%7Bwidth%3A%20100%25%3Bheight%3A%20100%25%3Bmargin%3A%200%3Bpadding%3A%200%3B%7D%3C/style%3E%0A%20%20%20%20%3Cstyle%3E%23map%20%7Bposition%3Aabsolute%3Btop%3A0%3Bbottom%3A0%3Bright%3A0%3Bleft%3A0%3B%7D%3C/style%3E%0A%20%20%20%20%3Cscript%20src%3D%22https%3A//cdn.jsdelivr.net/npm/leaflet%401.6.0/dist/leaflet.js%22%3E%3C/script%3E%0A%20%20%20%20%3Cscript%20src%3D%22https%3A//code.jquery.com/jquery-1.12.4.min.js%22%3E%3C/script%3E%0A%20%20%20%20%3Cscript%20src%3D%22https%3A//maxcdn.bootstrapcdn.com/bootstrap/3.2.0/js/bootstrap.min.js%22%3E%3C/script%3E%0A%20%20%20%20%3Cscript%20src%3D%22https%3A//cdnjs.cloudflare.com/ajax/libs/Leaflet.awesome-markers/2.0.2/leaflet.awesome-markers.js%22%3E%3C/script%3E%0A%20%20%20%20%3Clink%20rel%3D%22stylesheet%22%20href%3D%22https%3A//cdn.jsdelivr.net/npm/leaflet%401.6.0/dist/leaflet.css%22/%3E%0A%20%20%20%20%3Clink%20rel%3D%22stylesheet%22%20href%3D%22https%3A//maxcdn.bootstrapcdn.com/bootstrap/3.2.0/css/bootstrap.min.css%22/%3E%0A%20%20%20%20%3Clink%20rel%3D%22stylesheet%22%20href%3D%22https%3A//maxcdn.bootstrapcdn.com/bootstrap/3.2.0/css/bootstrap-theme.min.css%22/%3E%0A%20%20%20%20%3Clink%20rel%3D%22stylesheet%22%20href%3D%22https%3A//maxcdn.bootstrapcdn.com/font-awesome/4.6.3/css/font-awesome.min.css%22/%3E%0A%20%20%20%20%3Clink%20rel%3D%22stylesheet%22%20href%3D%22https%3A//cdnjs.cloudflare.com/ajax/libs/Leaflet.awesome-markers/2.0.2/leaflet.awesome-markers.css%22/%3E%0A%20%20%20%20%3Clink%20rel%3D%22stylesheet%22%20href%3D%22https%3A//cdn.jsdelivr.net/gh/python-visualization/folium/folium/templates/leaflet.awesome.rotate.min.css%22/%3E%0A%20%20%20%20%0A%20%20%20%20%20%20%20%20%20%20%20%20%3Cmeta%20name%3D%22viewport%22%20content%3D%22width%3Ddevice-width%2C%0A%20%20%20%20%20%20%20%20%20%20%20%20%20%20%20%20initial-scale%3D1.0%2C%20maximum-scale%3D1.0%2C%20user-scalable%3Dno%22%20/%3E%0A%20%20%20%20%20%20%20%20%20%20%20%20%3Cstyle%3E%0A%20%20%20%20%20%20%20%20%20%20%20%20%20%20%20%20%23map_7624b1d9bf124ffdb5de03fe67a26ac2%20%7B%0A%20%20%20%20%20%20%20%20%20%20%20%20%20%20%20%20%20%20%20%20position%3A%20relative%3B%0A%20%20%20%20%20%20%20%20%20%20%20%20%20%20%20%20%20%20%20%20width%3A%20100.0%25%3B%0A%20%20%20%20%20%20%20%20%20%20%20%20%20%20%20%20%20%20%20%20height%3A%20100.0%25%3B%0A%20%20%20%20%20%20%20%20%20%20%20%20%20%20%20%20%20%20%20%20left%3A%200.0%25%3B%0A%20%20%20%20%20%20%20%20%20%20%20%20%20%20%20%20%20%20%20%20top%3A%200.0%25%3B%0A%20%20%20%20%20%20%20%20%20%20%20%20%20%20%20%20%7D%0A%20%20%20%20%20%20%20%20%20%20%20%20%3C/style%3E%0A%20%20%20%20%20%20%20%20%0A%3C/head%3E%0A%3Cbody%3E%20%20%20%20%0A%20%20%20%20%0A%20%20%20%20%20%20%20%20%20%20%20%20%3Cdiv%20class%3D%22folium-map%22%20id%3D%22map_7624b1d9bf124ffdb5de03fe67a26ac2%22%20%3E%3C/div%3E%0A%20%20%20%20%20%20%20%20%0A%3C/body%3E%0A%3Cscript%3E%20%20%20%20%0A%20%20%20%20%0A%20%20%20%20%20%20%20%20%20%20%20%20var%20map_7624b1d9bf124ffdb5de03fe67a26ac2%20%3D%20L.map%28%0A%20%20%20%20%20%20%20%20%20%20%20%20%20%20%20%20%22map_7624b1d9bf124ffdb5de03fe67a26ac2%22%2C%0A%20%20%20%20%20%20%20%20%20%20%20%20%20%20%20%20%7B%0A%20%20%20%20%20%20%20%20%20%20%20%20%20%20%20%20%20%20%20%20center%3A%20%5B-23.57891611%2C%20-46.697245179999996%5D%2C%0A%20%20%20%20%20%20%20%20%20%20%20%20%20%20%20%20%20%20%20%20crs%3A%20L.CRS.EPSG3857%2C%0A%20%20%20%20%20%20%20%20%20%20%20%20%20%20%20%20%20%20%20%20zoom%3A%2016%2C%0A%20%20%20%20%20%20%20%20%20%20%20%20%20%20%20%20%20%20%20%20zoomControl%3A%20true%2C%0A%20%20%20%20%20%20%20%20%20%20%20%20%20%20%20%20%20%20%20%20preferCanvas%3A%20false%2C%0A%20%20%20%20%20%20%20%20%20%20%20%20%20%20%20%20%7D%0A%20%20%20%20%20%20%20%20%20%20%20%20%29%3B%0A%0A%20%20%20%20%20%20%20%20%20%20%20%20%0A%0A%20%20%20%20%20%20%20%20%0A%20%20%20%20%0A%20%20%20%20%20%20%20%20%20%20%20%20var%20tile_layer_7ce7a9b3db484309951bb3f3838333a7%20%3D%20L.tileLayer%28%0A%20%20%20%20%20%20%20%20%20%20%20%20%20%20%20%20%22https%3A//cartodb-basemaps-%7Bs%7D.global.ssl.fastly.net/light_all/%7Bz%7D/%7Bx%7D/%7By%7D.png%22%2C%0A%20%20%20%20%20%20%20%20%20%20%20%20%20%20%20%20%7B%22attribution%22%3A%20%22%5Cu0026copy%3B%20%5Cu003ca%20href%3D%5C%22http%3A//www.openstreetmap.org/copyright%5C%22%5Cu003eOpenStreetMap%5Cu003c/a%5Cu003e%20contributors%20%5Cu0026copy%3B%20%5Cu003ca%20href%3D%5C%22http%3A//cartodb.com/attributions%5C%22%5Cu003eCartoDB%5Cu003c/a%5Cu003e%2C%20CartoDB%20%5Cu003ca%20href%20%3D%5C%22http%3A//cartodb.com/attributions%5C%22%5Cu003eattributions%5Cu003c/a%5Cu003e%22%2C%20%22detectRetina%22%3A%20false%2C%20%22maxNativeZoom%22%3A%2018%2C%20%22maxZoom%22%3A%2018%2C%20%22minZoom%22%3A%200%2C%20%22noWrap%22%3A%20false%2C%20%22opacity%22%3A%201%2C%20%22subdomains%22%3A%20%22abc%22%2C%20%22tms%22%3A%20false%7D%0A%20%20%20%20%20%20%20%20%20%20%20%20%29.addTo%28map_7624b1d9bf124ffdb5de03fe67a26ac2%29%3B%0A%20%20%20%20%20%20%20%20%0A%20%20%20%20%0A%20%20%20%20%20%20%20%20%20%20%20%20var%20circle_marker_f3b4e885e2794db6bc5e03e18284342f%20%3D%20L.circleMarker%28%0A%20%20%20%20%20%20%20%20%20%20%20%20%20%20%20%20%5B-23.582274%2C%20-46.6856661%5D%2C%0A%20%20%20%20%20%20%20%20%20%20%20%20%20%20%20%20%7B%22bubblingMouseEvents%22%3A%20true%2C%20%22color%22%3A%20%22red%22%2C%20%22dashArray%22%3A%20null%2C%20%22dashOffset%22%3A%20null%2C%20%22fill%22%3A%20true%2C%20%22fillColor%22%3A%20%22red%22%2C%20%22fillOpacity%22%3A%200.2%2C%20%22fillRule%22%3A%20%22evenodd%22%2C%20%22lineCap%22%3A%20%22round%22%2C%20%22lineJoin%22%3A%20%22round%22%2C%20%22opacity%22%3A%201.0%2C%20%22radius%22%3A%205%2C%20%22stroke%22%3A%20true%2C%20%22weight%22%3A%201%7D%0A%20%20%20%20%20%20%20%20%20%20%20%20%29.addTo%28map_7624b1d9bf124ffdb5de03fe67a26ac2%29%3B%0A%20%20%20%20%20%20%20%20%0A%20%20%20%20%0A%20%20%20%20%20%20%20%20%20%20%20%20var%20circle_marker_1fc83d8597a94cd9a6cc3ef286010b34%20%3D%20L.circleMarker%28%0A%20%20%20%20%20%20%20%20%20%20%20%20%20%20%20%20%5B-23.5853147%2C%20-46.6884743%5D%2C%0A%20%20%20%20%20%20%20%20%20%20%20%20%20%20%20%20%7B%22bubblingMouseEvents%22%3A%20true%2C%20%22color%22%3A%20%22red%22%2C%20%22dashArray%22%3A%20null%2C%20%22dashOffset%22%3A%20null%2C%20%22fill%22%3A%20true%2C%20%22fillColor%22%3A%20%22red%22%2C%20%22fillOpacity%22%3A%200.2%2C%20%22fillRule%22%3A%20%22evenodd%22%2C%20%22lineCap%22%3A%20%22round%22%2C%20%22lineJoin%22%3A%20%22round%22%2C%20%22opacity%22%3A%201.0%2C%20%22radius%22%3A%205%2C%20%22stroke%22%3A%20true%2C%20%22weight%22%3A%201%7D%0A%20%20%20%20%20%20%20%20%20%20%20%20%29.addTo%28map_7624b1d9bf124ffdb5de03fe67a26ac2%29%3B%0A%20%20%20%20%20%20%20%20%0A%20%20%20%20%0A%20%20%20%20%20%20%20%20%20%20%20%20var%20circle_marker_97d63e1eb9e0478ca2e28806f3c97d34%20%3D%20L.circleMarker%28%0A%20%20%20%20%20%20%20%20%20%20%20%20%20%20%20%20%5B-23.5850464%2C%20-46.6910407%5D%2C%0A%20%20%20%20%20%20%20%20%20%20%20%20%20%20%20%20%7B%22bubblingMouseEvents%22%3A%20true%2C%20%22color%22%3A%20%22red%22%2C%20%22dashArray%22%3A%20null%2C%20%22dashOffset%22%3A%20null%2C%20%22fill%22%3A%20true%2C%20%22fillColor%22%3A%20%22red%22%2C%20%22fillOpacity%22%3A%200.2%2C%20%22fillRule%22%3A%20%22evenodd%22%2C%20%22lineCap%22%3A%20%22round%22%2C%20%22lineJoin%22%3A%20%22round%22%2C%20%22opacity%22%3A%201.0%2C%20%22radius%22%3A%205%2C%20%22stroke%22%3A%20true%2C%20%22weight%22%3A%201%7D%0A%20%20%20%20%20%20%20%20%20%20%20%20%29.addTo%28map_7624b1d9bf124ffdb5de03fe67a26ac2%29%3B%0A%20%20%20%20%20%20%20%20%0A%20%20%20%20%0A%20%20%20%20%20%20%20%20%20%20%20%20var%20circle_marker_26cd89ec08b343d89a454a2df97d77f7%20%3D%20L.circleMarker%28%0A%20%20%20%20%20%20%20%20%20%20%20%20%20%20%20%20%5B-23.5845803%2C%20-46.691775%5D%2C%0A%20%20%20%20%20%20%20%20%20%20%20%20%20%20%20%20%7B%22bubblingMouseEvents%22%3A%20true%2C%20%22color%22%3A%20%22red%22%2C%20%22dashArray%22%3A%20null%2C%20%22dashOffset%22%3A%20null%2C%20%22fill%22%3A%20true%2C%20%22fillColor%22%3A%20%22red%22%2C%20%22fillOpacity%22%3A%200.2%2C%20%22fillRule%22%3A%20%22evenodd%22%2C%20%22lineCap%22%3A%20%22round%22%2C%20%22lineJoin%22%3A%20%22round%22%2C%20%22opacity%22%3A%201.0%2C%20%22radius%22%3A%205%2C%20%22stroke%22%3A%20true%2C%20%22weight%22%3A%201%7D%0A%20%20%20%20%20%20%20%20%20%20%20%20%29.addTo%28map_7624b1d9bf124ffdb5de03fe67a26ac2%29%3B%0A%20%20%20%20%20%20%20%20%0A%20%20%20%20%0A%20%20%20%20%20%20%20%20%20%20%20%20var%20circle_marker_b8e8f80571504662880c34db7a1ecfc8%20%3D%20L.circleMarker%28%0A%20%20%20%20%20%20%20%20%20%20%20%20%20%20%20%20%5B-23.586483%2C%20-46.6955541%5D%2C%0A%20%20%20%20%20%20%20%20%20%20%20%20%20%20%20%20%7B%22bubblingMouseEvents%22%3A%20true%2C%20%22color%22%3A%20%22red%22%2C%20%22dashArray%22%3A%20null%2C%20%22dashOffset%22%3A%20null%2C%20%22fill%22%3A%20true%2C%20%22fillColor%22%3A%20%22red%22%2C%20%22fillOpacity%22%3A%200.2%2C%20%22fillRule%22%3A%20%22evenodd%22%2C%20%22lineCap%22%3A%20%22round%22%2C%20%22lineJoin%22%3A%20%22round%22%2C%20%22opacity%22%3A%201.0%2C%20%22radius%22%3A%205%2C%20%22stroke%22%3A%20true%2C%20%22weight%22%3A%201%7D%0A%20%20%20%20%20%20%20%20%20%20%20%20%29.addTo%28map_7624b1d9bf124ffdb5de03fe67a26ac2%29%3B%0A%20%20%20%20%20%20%20%20%0A%20%20%20%20%0A%20%20%20%20%20%20%20%20%20%20%20%20var%20circle_marker_b25e2634e8624faf967a8d342e1f06bf%20%3D%20L.circleMarker%28%0A%20%20%20%20%20%20%20%20%20%20%20%20%20%20%20%20%5B-23.5841196%2C%20-46.6989807%5D%2C%0A%20%20%20%20%20%20%20%20%20%20%20%20%20%20%20%20%7B%22bubblingMouseEvents%22%3A%20true%2C%20%22color%22%3A%20%22red%22%2C%20%22dashArray%22%3A%20null%2C%20%22dashOffset%22%3A%20null%2C%20%22fill%22%3A%20true%2C%20%22fillColor%22%3A%20%22red%22%2C%20%22fillOpacity%22%3A%200.2%2C%20%22fillRule%22%3A%20%22evenodd%22%2C%20%22lineCap%22%3A%20%22round%22%2C%20%22lineJoin%22%3A%20%22round%22%2C%20%22opacity%22%3A%201.0%2C%20%22radius%22%3A%205%2C%20%22stroke%22%3A%20true%2C%20%22weight%22%3A%201%7D%0A%20%20%20%20%20%20%20%20%20%20%20%20%29.addTo%28map_7624b1d9bf124ffdb5de03fe67a26ac2%29%3B%0A%20%20%20%20%20%20%20%20%0A%20%20%20%20%0A%20%20%20%20%20%20%20%20%20%20%20%20var%20circle_marker_039f192f713a4be29572250f9ab02684%20%3D%20L.circleMarker%28%0A%20%20%20%20%20%20%20%20%20%20%20%20%20%20%20%20%5B-23.5775489%2C%20-46.7020922%5D%2C%0A%20%20%20%20%20%20%20%20%20%20%20%20%20%20%20%20%7B%22bubblingMouseEvents%22%3A%20true%2C%20%22color%22%3A%20%22red%22%2C%20%22dashArray%22%3A%20null%2C%20%22dashOffset%22%3A%20null%2C%20%22fill%22%3A%20true%2C%20%22fillColor%22%3A%20%22red%22%2C%20%22fillOpacity%22%3A%200.2%2C%20%22fillRule%22%3A%20%22evenodd%22%2C%20%22lineCap%22%3A%20%22round%22%2C%20%22lineJoin%22%3A%20%22round%22%2C%20%22opacity%22%3A%201.0%2C%20%22radius%22%3A%205%2C%20%22stroke%22%3A%20true%2C%20%22weight%22%3A%201%7D%0A%20%20%20%20%20%20%20%20%20%20%20%20%29.addTo%28map_7624b1d9bf124ffdb5de03fe67a26ac2%29%3B%0A%20%20%20%20%20%20%20%20%0A%20%20%20%20%0A%20%20%20%20%20%20%20%20%20%20%20%20var%20circle_marker_777ce76c6da14df289ca55d276f8eff0%20%3D%20L.circleMarker%28%0A%20%20%20%20%20%20%20%20%20%20%20%20%20%20%20%20%5B-23.5737421%2C%20-46.7033941%5D%2C%0A%20%20%20%20%20%20%20%20%20%20%20%20%20%20%20%20%7B%22bubblingMouseEvents%22%3A%20true%2C%20%22color%22%3A%20%22red%22%2C%20%22dashArray%22%3A%20null%2C%20%22dashOffset%22%3A%20null%2C%20%22fill%22%3A%20true%2C%20%22fillColor%22%3A%20%22red%22%2C%20%22fillOpacity%22%3A%200.2%2C%20%22fillRule%22%3A%20%22evenodd%22%2C%20%22lineCap%22%3A%20%22round%22%2C%20%22lineJoin%22%3A%20%22round%22%2C%20%22opacity%22%3A%201.0%2C%20%22radius%22%3A%205%2C%20%22stroke%22%3A%20true%2C%20%22weight%22%3A%201%7D%0A%20%20%20%20%20%20%20%20%20%20%20%20%29.addTo%28map_7624b1d9bf124ffdb5de03fe67a26ac2%29%3B%0A%20%20%20%20%20%20%20%20%0A%20%20%20%20%0A%20%20%20%20%20%20%20%20%20%20%20%20var%20circle_marker_d27833a23d9641fc8bd81c5d5db2bbcb%20%3D%20L.circleMarker%28%0A%20%20%20%20%20%20%20%20%20%20%20%20%20%20%20%20%5B-23.5713257%2C%20-46.7052409%5D%2C%0A%20%20%20%20%20%20%20%20%20%20%20%20%20%20%20%20%7B%22bubblingMouseEvents%22%3A%20true%2C%20%22color%22%3A%20%22red%22%2C%20%22dashArray%22%3A%20null%2C%20%22dashOffset%22%3A%20null%2C%20%22fill%22%3A%20true%2C%20%22fillColor%22%3A%20%22red%22%2C%20%22fillOpacity%22%3A%200.2%2C%20%22fillRule%22%3A%20%22evenodd%22%2C%20%22lineCap%22%3A%20%22round%22%2C%20%22lineJoin%22%3A%20%22round%22%2C%20%22opacity%22%3A%201.0%2C%20%22radius%22%3A%205%2C%20%22stroke%22%3A%20true%2C%20%22weight%22%3A%201%7D%0A%20%20%20%20%20%20%20%20%20%20%20%20%29.addTo%28map_7624b1d9bf124ffdb5de03fe67a26ac2%29%3B%0A%20%20%20%20%20%20%20%20%0A%3C/script%3E onload=\"this.contentDocument.open();this.contentDocument.write(    decodeURIComponent(this.getAttribute('data-html')));this.contentDocument.close();\" allowfullscreen webkitallowfullscreen mozallowfullscreen></iframe></div></div>"
      ],
      "text/plain": [
       "<folium.folium.Map at 0x1a632216070>"
      ]
     },
     "execution_count": 48,
     "metadata": {},
     "output_type": "execute_result"
    }
   ],
   "source": [
    "#generate a new map\n",
    "map = folium.Map(location=[lat_default, long_default], zoom_start=16, tiles='cartodbpositron')\n",
    "\n",
    "#for each row in the data, add a cicle marker\n",
    "for index, row in tqdm(df.iterrows(), total=df.shape[0]):\n",
    "\n",
    "    #add starting location markers to the map\n",
    "    folium.CircleMarker(location=[row['latitude'], row['longitude']],\n",
    "                        color='red',\n",
    "                        radius=5,\n",
    "                        weight=1,\n",
    "                        fill=True).add_to(map)\n",
    "\n",
    "map"
   ]
  },
  {
   "cell_type": "markdown",
   "metadata": {},
   "source": [
    "### Step 2: connecting the dots"
   ]
  },
  {
   "cell_type": "markdown",
   "metadata": {},
   "source": [
    "#### First try: with Open Route Service"
   ]
  },
  {
   "cell_type": "code",
   "execution_count": 46,
   "metadata": {},
   "outputs": [
    {
     "name": "stderr",
     "output_type": "stream",
     "text": [
      "100%|██████████| 9/9 [00:00<00:00, 9004.95it/s]\n"
     ]
    }
   ],
   "source": [
    "#generate a new map\n",
    "map_1try = folium.Map(location=[lat_default, long_default], zoom_start=15, tiles='cartodbpositron')\n",
    "\n",
    "#for each row in the data, add a cicle marker\n",
    "for index, row in tqdm(df.iterrows(), total=df.shape[0]):\n",
    "\n",
    "    #add starting location markers to the map\n",
    "    folium.CircleMarker(location=[row['latitude'], row['longitude']],\n",
    "                        color='red',\n",
    "                        radius=5,\n",
    "                        weight=1,\n",
    "                        fill=True).add_to(map_1try)"
   ]
  },
  {
   "cell_type": "markdown",
   "metadata": {},
   "source": [
    "Match coordinates"
   ]
  },
  {
   "cell_type": "code",
   "execution_count": 38,
   "metadata": {},
   "outputs": [
    {
     "data": {
      "text/html": [
       "<div>\n",
       "<style scoped>\n",
       "    .dataframe tbody tr th:only-of-type {\n",
       "        vertical-align: middle;\n",
       "    }\n",
       "\n",
       "    .dataframe tbody tr th {\n",
       "        vertical-align: top;\n",
       "    }\n",
       "\n",
       "    .dataframe thead th {\n",
       "        text-align: right;\n",
       "    }\n",
       "</style>\n",
       "<table border=\"1\" class=\"dataframe\">\n",
       "  <thead>\n",
       "    <tr style=\"text-align: right;\">\n",
       "      <th></th>\n",
       "      <th>date</th>\n",
       "      <th>year</th>\n",
       "      <th>latitude</th>\n",
       "      <th>longitude</th>\n",
       "      <th>latitude_next</th>\n",
       "      <th>longitude_next</th>\n",
       "    </tr>\n",
       "  </thead>\n",
       "  <tbody>\n",
       "    <tr>\n",
       "      <th>0</th>\n",
       "      <td>2016-06-21 21:02:54</td>\n",
       "      <td>2016</td>\n",
       "      <td>-23.582274</td>\n",
       "      <td>-46.685666</td>\n",
       "      <td>-23.585315</td>\n",
       "      <td>-46.688474</td>\n",
       "    </tr>\n",
       "    <tr>\n",
       "      <th>1</th>\n",
       "      <td>2016-06-21 21:05:08</td>\n",
       "      <td>2016</td>\n",
       "      <td>-23.585315</td>\n",
       "      <td>-46.688474</td>\n",
       "      <td>-23.585046</td>\n",
       "      <td>-46.691041</td>\n",
       "    </tr>\n",
       "    <tr>\n",
       "      <th>2</th>\n",
       "      <td>2016-06-21 21:07:17</td>\n",
       "      <td>2016</td>\n",
       "      <td>-23.585046</td>\n",
       "      <td>-46.691041</td>\n",
       "      <td>-23.584580</td>\n",
       "      <td>-46.691775</td>\n",
       "    </tr>\n",
       "    <tr>\n",
       "      <th>3</th>\n",
       "      <td>2016-06-21 21:07:44</td>\n",
       "      <td>2016</td>\n",
       "      <td>-23.584580</td>\n",
       "      <td>-46.691775</td>\n",
       "      <td>-23.586483</td>\n",
       "      <td>-46.695554</td>\n",
       "    </tr>\n",
       "    <tr>\n",
       "      <th>4</th>\n",
       "      <td>2016-06-21 21:08:59</td>\n",
       "      <td>2016</td>\n",
       "      <td>-23.586483</td>\n",
       "      <td>-46.695554</td>\n",
       "      <td>-23.584120</td>\n",
       "      <td>-46.698981</td>\n",
       "    </tr>\n",
       "  </tbody>\n",
       "</table>\n",
       "</div>"
      ],
      "text/plain": [
       "                 date  year   latitude  longitude  latitude_next  \\\n",
       "0 2016-06-21 21:02:54  2016 -23.582274 -46.685666     -23.585315   \n",
       "1 2016-06-21 21:05:08  2016 -23.585315 -46.688474     -23.585046   \n",
       "2 2016-06-21 21:07:17  2016 -23.585046 -46.691041     -23.584580   \n",
       "3 2016-06-21 21:07:44  2016 -23.584580 -46.691775     -23.586483   \n",
       "4 2016-06-21 21:08:59  2016 -23.586483 -46.695554     -23.584120   \n",
       "\n",
       "   longitude_next  \n",
       "0      -46.688474  \n",
       "1      -46.691041  \n",
       "2      -46.691775  \n",
       "3      -46.695554  \n",
       "4      -46.698981  "
      ]
     },
     "execution_count": 38,
     "metadata": {},
     "output_type": "execute_result"
    }
   ],
   "source": [
    "df.sort_values('date', ascending=True, inplace=True)\n",
    "\n",
    "#matching current coordinates with next coordinates\n",
    "df_shifted_coordinates = df[['latitude','longitude']].shift(periods=-1, axis=0)\n",
    "df_shifted_coordinates.set_axis(['latitude_next','longitude_next'], axis=1, inplace=True)\n",
    "\n",
    "df = pd.concat([df, df_shifted_coordinates], axis=1)\n",
    "df.head()"
   ]
  },
  {
   "cell_type": "markdown",
   "metadata": {},
   "source": [
    "Using OpenRouteService API"
   ]
  },
  {
   "cell_type": "code",
   "execution_count": 39,
   "metadata": {},
   "outputs": [
    {
     "name": "stderr",
     "output_type": "stream",
     "text": [
      "100%|██████████| 10/10 [00:18<00:00,  1.85s/it]\n"
     ]
    }
   ],
   "source": [
    "path_list = []\n",
    "reserve = []\n",
    "\n",
    "for index, row in tqdm(df.iterrows(), total=df.shape[0]):\n",
    "    \n",
    "    # I included try / except as a precaution in case any paths are extremely long, which we'll skip. \n",
    "    # I noticed this exception error when I accidentally generated a lat / long for no address. Be aware of this and remove prior to using this function. \n",
    "    try:\n",
    "        # coordinates of the trips living within specific table columns.\n",
    "        coords = ((row['longitude'],row['latitude']),(row['longitude_next'],row['latitude_next']))\n",
    "        \n",
    "        # Specify your personal API key\n",
    "        client = openrouteservice.Client(key=KEY_OPENROUTESERVICE) \n",
    "        geometry = client.directions(coords)['routes'][0]['geometry']\n",
    "        decoded = openrouteservice.convert.decode_polyline(geometry)\n",
    "        \n",
    "        # We need to reverse the long / lat output from results so that we can graph lat / long\n",
    "        reverse = [(y, x) for x, y in decoded['coordinates']]        \n",
    "        \n",
    "        # Append each route to the path_list list\n",
    "        path_list.append(reverse)\n",
    "        \n",
    "        # confirmation of each route being processed. Feel free to comment out.\n",
    "        sleep(1)\n",
    "\n",
    "    except:\n",
    "        pass"
   ]
  },
  {
   "cell_type": "code",
   "execution_count": 40,
   "metadata": {},
   "outputs": [
    {
     "data": {
      "text/html": [
       "<div style=\"width:100%;\"><div style=\"position:relative;width:100%;height:0;padding-bottom:60%;\"><span style=\"color:#565656\">Make this Notebook Trusted to load map: File -> Trust Notebook</span><iframe src=\"about:blank\" style=\"position:absolute;width:100%;height:100%;left:0;top:0;border:none !important;\" data-html=%3C%21DOCTYPE%20html%3E%0A%3Chead%3E%20%20%20%20%0A%20%20%20%20%3Cmeta%20http-equiv%3D%22content-type%22%20content%3D%22text/html%3B%20charset%3DUTF-8%22%20/%3E%0A%20%20%20%20%0A%20%20%20%20%20%20%20%20%3Cscript%3E%0A%20%20%20%20%20%20%20%20%20%20%20%20L_NO_TOUCH%20%3D%20false%3B%0A%20%20%20%20%20%20%20%20%20%20%20%20L_DISABLE_3D%20%3D%20false%3B%0A%20%20%20%20%20%20%20%20%3C/script%3E%0A%20%20%20%20%0A%20%20%20%20%3Cstyle%3Ehtml%2C%20body%20%7Bwidth%3A%20100%25%3Bheight%3A%20100%25%3Bmargin%3A%200%3Bpadding%3A%200%3B%7D%3C/style%3E%0A%20%20%20%20%3Cstyle%3E%23map%20%7Bposition%3Aabsolute%3Btop%3A0%3Bbottom%3A0%3Bright%3A0%3Bleft%3A0%3B%7D%3C/style%3E%0A%20%20%20%20%3Cscript%20src%3D%22https%3A//cdn.jsdelivr.net/npm/leaflet%401.6.0/dist/leaflet.js%22%3E%3C/script%3E%0A%20%20%20%20%3Cscript%20src%3D%22https%3A//code.jquery.com/jquery-1.12.4.min.js%22%3E%3C/script%3E%0A%20%20%20%20%3Cscript%20src%3D%22https%3A//maxcdn.bootstrapcdn.com/bootstrap/3.2.0/js/bootstrap.min.js%22%3E%3C/script%3E%0A%20%20%20%20%3Cscript%20src%3D%22https%3A//cdnjs.cloudflare.com/ajax/libs/Leaflet.awesome-markers/2.0.2/leaflet.awesome-markers.js%22%3E%3C/script%3E%0A%20%20%20%20%3Clink%20rel%3D%22stylesheet%22%20href%3D%22https%3A//cdn.jsdelivr.net/npm/leaflet%401.6.0/dist/leaflet.css%22/%3E%0A%20%20%20%20%3Clink%20rel%3D%22stylesheet%22%20href%3D%22https%3A//maxcdn.bootstrapcdn.com/bootstrap/3.2.0/css/bootstrap.min.css%22/%3E%0A%20%20%20%20%3Clink%20rel%3D%22stylesheet%22%20href%3D%22https%3A//maxcdn.bootstrapcdn.com/bootstrap/3.2.0/css/bootstrap-theme.min.css%22/%3E%0A%20%20%20%20%3Clink%20rel%3D%22stylesheet%22%20href%3D%22https%3A//maxcdn.bootstrapcdn.com/font-awesome/4.6.3/css/font-awesome.min.css%22/%3E%0A%20%20%20%20%3Clink%20rel%3D%22stylesheet%22%20href%3D%22https%3A//cdnjs.cloudflare.com/ajax/libs/Leaflet.awesome-markers/2.0.2/leaflet.awesome-markers.css%22/%3E%0A%20%20%20%20%3Clink%20rel%3D%22stylesheet%22%20href%3D%22https%3A//cdn.jsdelivr.net/gh/python-visualization/folium/folium/templates/leaflet.awesome.rotate.min.css%22/%3E%0A%20%20%20%20%0A%20%20%20%20%20%20%20%20%20%20%20%20%3Cmeta%20name%3D%22viewport%22%20content%3D%22width%3Ddevice-width%2C%0A%20%20%20%20%20%20%20%20%20%20%20%20%20%20%20%20initial-scale%3D1.0%2C%20maximum-scale%3D1.0%2C%20user-scalable%3Dno%22%20/%3E%0A%20%20%20%20%20%20%20%20%20%20%20%20%3Cstyle%3E%0A%20%20%20%20%20%20%20%20%20%20%20%20%20%20%20%20%23map_857dbf0d8f8f44a89348793b2df3ba2e%20%7B%0A%20%20%20%20%20%20%20%20%20%20%20%20%20%20%20%20%20%20%20%20position%3A%20relative%3B%0A%20%20%20%20%20%20%20%20%20%20%20%20%20%20%20%20%20%20%20%20width%3A%20100.0%25%3B%0A%20%20%20%20%20%20%20%20%20%20%20%20%20%20%20%20%20%20%20%20height%3A%20100.0%25%3B%0A%20%20%20%20%20%20%20%20%20%20%20%20%20%20%20%20%20%20%20%20left%3A%200.0%25%3B%0A%20%20%20%20%20%20%20%20%20%20%20%20%20%20%20%20%20%20%20%20top%3A%200.0%25%3B%0A%20%20%20%20%20%20%20%20%20%20%20%20%20%20%20%20%7D%0A%20%20%20%20%20%20%20%20%20%20%20%20%3C/style%3E%0A%20%20%20%20%20%20%20%20%0A%3C/head%3E%0A%3Cbody%3E%20%20%20%20%0A%20%20%20%20%0A%20%20%20%20%20%20%20%20%20%20%20%20%3Cdiv%20class%3D%22folium-map%22%20id%3D%22map_857dbf0d8f8f44a89348793b2df3ba2e%22%20%3E%3C/div%3E%0A%20%20%20%20%20%20%20%20%0A%3C/body%3E%0A%3Cscript%3E%20%20%20%20%0A%20%20%20%20%0A%20%20%20%20%20%20%20%20%20%20%20%20var%20map_857dbf0d8f8f44a89348793b2df3ba2e%20%3D%20L.map%28%0A%20%20%20%20%20%20%20%20%20%20%20%20%20%20%20%20%22map_857dbf0d8f8f44a89348793b2df3ba2e%22%2C%0A%20%20%20%20%20%20%20%20%20%20%20%20%20%20%20%20%7B%0A%20%20%20%20%20%20%20%20%20%20%20%20%20%20%20%20%20%20%20%20center%3A%20%5B-23.57891611%2C%20-46.697245179999996%5D%2C%0A%20%20%20%20%20%20%20%20%20%20%20%20%20%20%20%20%20%20%20%20crs%3A%20L.CRS.EPSG3857%2C%0A%20%20%20%20%20%20%20%20%20%20%20%20%20%20%20%20%20%20%20%20zoom%3A%2015%2C%0A%20%20%20%20%20%20%20%20%20%20%20%20%20%20%20%20%20%20%20%20zoomControl%3A%20true%2C%0A%20%20%20%20%20%20%20%20%20%20%20%20%20%20%20%20%20%20%20%20preferCanvas%3A%20false%2C%0A%20%20%20%20%20%20%20%20%20%20%20%20%20%20%20%20%7D%0A%20%20%20%20%20%20%20%20%20%20%20%20%29%3B%0A%0A%20%20%20%20%20%20%20%20%20%20%20%20%0A%0A%20%20%20%20%20%20%20%20%0A%20%20%20%20%0A%20%20%20%20%20%20%20%20%20%20%20%20var%20tile_layer_f9fb18cccc2d4d13b53636e08b4f7066%20%3D%20L.tileLayer%28%0A%20%20%20%20%20%20%20%20%20%20%20%20%20%20%20%20%22https%3A//cartodb-basemaps-%7Bs%7D.global.ssl.fastly.net/light_all/%7Bz%7D/%7Bx%7D/%7By%7D.png%22%2C%0A%20%20%20%20%20%20%20%20%20%20%20%20%20%20%20%20%7B%22attribution%22%3A%20%22%5Cu0026copy%3B%20%5Cu003ca%20href%3D%5C%22http%3A//www.openstreetmap.org/copyright%5C%22%5Cu003eOpenStreetMap%5Cu003c/a%5Cu003e%20contributors%20%5Cu0026copy%3B%20%5Cu003ca%20href%3D%5C%22http%3A//cartodb.com/attributions%5C%22%5Cu003eCartoDB%5Cu003c/a%5Cu003e%2C%20CartoDB%20%5Cu003ca%20href%20%3D%5C%22http%3A//cartodb.com/attributions%5C%22%5Cu003eattributions%5Cu003c/a%5Cu003e%22%2C%20%22detectRetina%22%3A%20false%2C%20%22maxNativeZoom%22%3A%2018%2C%20%22maxZoom%22%3A%2018%2C%20%22minZoom%22%3A%200%2C%20%22noWrap%22%3A%20false%2C%20%22opacity%22%3A%201%2C%20%22subdomains%22%3A%20%22abc%22%2C%20%22tms%22%3A%20false%7D%0A%20%20%20%20%20%20%20%20%20%20%20%20%29.addTo%28map_857dbf0d8f8f44a89348793b2df3ba2e%29%3B%0A%20%20%20%20%20%20%20%20%0A%20%20%20%20%0A%20%20%20%20%20%20%20%20%20%20%20%20var%20circle_marker_ffe7b2ae8e534211a40ad5dee90a3ed5%20%3D%20L.circleMarker%28%0A%20%20%20%20%20%20%20%20%20%20%20%20%20%20%20%20%5B-23.582274%2C%20-46.6856661%5D%2C%0A%20%20%20%20%20%20%20%20%20%20%20%20%20%20%20%20%7B%22bubblingMouseEvents%22%3A%20true%2C%20%22color%22%3A%20%22red%22%2C%20%22dashArray%22%3A%20null%2C%20%22dashOffset%22%3A%20null%2C%20%22fill%22%3A%20true%2C%20%22fillColor%22%3A%20%22red%22%2C%20%22fillOpacity%22%3A%200.2%2C%20%22fillRule%22%3A%20%22evenodd%22%2C%20%22lineCap%22%3A%20%22round%22%2C%20%22lineJoin%22%3A%20%22round%22%2C%20%22opacity%22%3A%201.0%2C%20%22radius%22%3A%205%2C%20%22stroke%22%3A%20true%2C%20%22weight%22%3A%201%7D%0A%20%20%20%20%20%20%20%20%20%20%20%20%29.addTo%28map_857dbf0d8f8f44a89348793b2df3ba2e%29%3B%0A%20%20%20%20%20%20%20%20%0A%20%20%20%20%0A%20%20%20%20%20%20%20%20%20%20%20%20var%20circle_marker_b9c5f39caaae4877820e2d73b61efdf3%20%3D%20L.circleMarker%28%0A%20%20%20%20%20%20%20%20%20%20%20%20%20%20%20%20%5B-23.5853147%2C%20-46.6884743%5D%2C%0A%20%20%20%20%20%20%20%20%20%20%20%20%20%20%20%20%7B%22bubblingMouseEvents%22%3A%20true%2C%20%22color%22%3A%20%22red%22%2C%20%22dashArray%22%3A%20null%2C%20%22dashOffset%22%3A%20null%2C%20%22fill%22%3A%20true%2C%20%22fillColor%22%3A%20%22red%22%2C%20%22fillOpacity%22%3A%200.2%2C%20%22fillRule%22%3A%20%22evenodd%22%2C%20%22lineCap%22%3A%20%22round%22%2C%20%22lineJoin%22%3A%20%22round%22%2C%20%22opacity%22%3A%201.0%2C%20%22radius%22%3A%205%2C%20%22stroke%22%3A%20true%2C%20%22weight%22%3A%201%7D%0A%20%20%20%20%20%20%20%20%20%20%20%20%29.addTo%28map_857dbf0d8f8f44a89348793b2df3ba2e%29%3B%0A%20%20%20%20%20%20%20%20%0A%20%20%20%20%0A%20%20%20%20%20%20%20%20%20%20%20%20var%20circle_marker_7e4a59899a5249c1b1b2d456f07ff328%20%3D%20L.circleMarker%28%0A%20%20%20%20%20%20%20%20%20%20%20%20%20%20%20%20%5B-23.5850464%2C%20-46.6910407%5D%2C%0A%20%20%20%20%20%20%20%20%20%20%20%20%20%20%20%20%7B%22bubblingMouseEvents%22%3A%20true%2C%20%22color%22%3A%20%22red%22%2C%20%22dashArray%22%3A%20null%2C%20%22dashOffset%22%3A%20null%2C%20%22fill%22%3A%20true%2C%20%22fillColor%22%3A%20%22red%22%2C%20%22fillOpacity%22%3A%200.2%2C%20%22fillRule%22%3A%20%22evenodd%22%2C%20%22lineCap%22%3A%20%22round%22%2C%20%22lineJoin%22%3A%20%22round%22%2C%20%22opacity%22%3A%201.0%2C%20%22radius%22%3A%205%2C%20%22stroke%22%3A%20true%2C%20%22weight%22%3A%201%7D%0A%20%20%20%20%20%20%20%20%20%20%20%20%29.addTo%28map_857dbf0d8f8f44a89348793b2df3ba2e%29%3B%0A%20%20%20%20%20%20%20%20%0A%20%20%20%20%0A%20%20%20%20%20%20%20%20%20%20%20%20var%20circle_marker_cc32c96a26414ca48ef9fb609a227213%20%3D%20L.circleMarker%28%0A%20%20%20%20%20%20%20%20%20%20%20%20%20%20%20%20%5B-23.5845803%2C%20-46.691775%5D%2C%0A%20%20%20%20%20%20%20%20%20%20%20%20%20%20%20%20%7B%22bubblingMouseEvents%22%3A%20true%2C%20%22color%22%3A%20%22red%22%2C%20%22dashArray%22%3A%20null%2C%20%22dashOffset%22%3A%20null%2C%20%22fill%22%3A%20true%2C%20%22fillColor%22%3A%20%22red%22%2C%20%22fillOpacity%22%3A%200.2%2C%20%22fillRule%22%3A%20%22evenodd%22%2C%20%22lineCap%22%3A%20%22round%22%2C%20%22lineJoin%22%3A%20%22round%22%2C%20%22opacity%22%3A%201.0%2C%20%22radius%22%3A%205%2C%20%22stroke%22%3A%20true%2C%20%22weight%22%3A%201%7D%0A%20%20%20%20%20%20%20%20%20%20%20%20%29.addTo%28map_857dbf0d8f8f44a89348793b2df3ba2e%29%3B%0A%20%20%20%20%20%20%20%20%0A%20%20%20%20%0A%20%20%20%20%20%20%20%20%20%20%20%20var%20circle_marker_2c1aebf613b44f438dc6be5447b3666b%20%3D%20L.circleMarker%28%0A%20%20%20%20%20%20%20%20%20%20%20%20%20%20%20%20%5B-23.586483%2C%20-46.6955541%5D%2C%0A%20%20%20%20%20%20%20%20%20%20%20%20%20%20%20%20%7B%22bubblingMouseEvents%22%3A%20true%2C%20%22color%22%3A%20%22red%22%2C%20%22dashArray%22%3A%20null%2C%20%22dashOffset%22%3A%20null%2C%20%22fill%22%3A%20true%2C%20%22fillColor%22%3A%20%22red%22%2C%20%22fillOpacity%22%3A%200.2%2C%20%22fillRule%22%3A%20%22evenodd%22%2C%20%22lineCap%22%3A%20%22round%22%2C%20%22lineJoin%22%3A%20%22round%22%2C%20%22opacity%22%3A%201.0%2C%20%22radius%22%3A%205%2C%20%22stroke%22%3A%20true%2C%20%22weight%22%3A%201%7D%0A%20%20%20%20%20%20%20%20%20%20%20%20%29.addTo%28map_857dbf0d8f8f44a89348793b2df3ba2e%29%3B%0A%20%20%20%20%20%20%20%20%0A%20%20%20%20%0A%20%20%20%20%20%20%20%20%20%20%20%20var%20circle_marker_12cc7c26c402416ab5e9597339986b2b%20%3D%20L.circleMarker%28%0A%20%20%20%20%20%20%20%20%20%20%20%20%20%20%20%20%5B-23.5841196%2C%20-46.6989807%5D%2C%0A%20%20%20%20%20%20%20%20%20%20%20%20%20%20%20%20%7B%22bubblingMouseEvents%22%3A%20true%2C%20%22color%22%3A%20%22red%22%2C%20%22dashArray%22%3A%20null%2C%20%22dashOffset%22%3A%20null%2C%20%22fill%22%3A%20true%2C%20%22fillColor%22%3A%20%22red%22%2C%20%22fillOpacity%22%3A%200.2%2C%20%22fillRule%22%3A%20%22evenodd%22%2C%20%22lineCap%22%3A%20%22round%22%2C%20%22lineJoin%22%3A%20%22round%22%2C%20%22opacity%22%3A%201.0%2C%20%22radius%22%3A%205%2C%20%22stroke%22%3A%20true%2C%20%22weight%22%3A%201%7D%0A%20%20%20%20%20%20%20%20%20%20%20%20%29.addTo%28map_857dbf0d8f8f44a89348793b2df3ba2e%29%3B%0A%20%20%20%20%20%20%20%20%0A%20%20%20%20%0A%20%20%20%20%20%20%20%20%20%20%20%20var%20circle_marker_100430cb19344de6bcba5796069095ff%20%3D%20L.circleMarker%28%0A%20%20%20%20%20%20%20%20%20%20%20%20%20%20%20%20%5B-23.5775489%2C%20-46.7020922%5D%2C%0A%20%20%20%20%20%20%20%20%20%20%20%20%20%20%20%20%7B%22bubblingMouseEvents%22%3A%20true%2C%20%22color%22%3A%20%22red%22%2C%20%22dashArray%22%3A%20null%2C%20%22dashOffset%22%3A%20null%2C%20%22fill%22%3A%20true%2C%20%22fillColor%22%3A%20%22red%22%2C%20%22fillOpacity%22%3A%200.2%2C%20%22fillRule%22%3A%20%22evenodd%22%2C%20%22lineCap%22%3A%20%22round%22%2C%20%22lineJoin%22%3A%20%22round%22%2C%20%22opacity%22%3A%201.0%2C%20%22radius%22%3A%205%2C%20%22stroke%22%3A%20true%2C%20%22weight%22%3A%201%7D%0A%20%20%20%20%20%20%20%20%20%20%20%20%29.addTo%28map_857dbf0d8f8f44a89348793b2df3ba2e%29%3B%0A%20%20%20%20%20%20%20%20%0A%20%20%20%20%0A%20%20%20%20%20%20%20%20%20%20%20%20var%20circle_marker_aafef2aa44b347d086117326b5ebfe5c%20%3D%20L.circleMarker%28%0A%20%20%20%20%20%20%20%20%20%20%20%20%20%20%20%20%5B-23.5737421%2C%20-46.7033941%5D%2C%0A%20%20%20%20%20%20%20%20%20%20%20%20%20%20%20%20%7B%22bubblingMouseEvents%22%3A%20true%2C%20%22color%22%3A%20%22red%22%2C%20%22dashArray%22%3A%20null%2C%20%22dashOffset%22%3A%20null%2C%20%22fill%22%3A%20true%2C%20%22fillColor%22%3A%20%22red%22%2C%20%22fillOpacity%22%3A%200.2%2C%20%22fillRule%22%3A%20%22evenodd%22%2C%20%22lineCap%22%3A%20%22round%22%2C%20%22lineJoin%22%3A%20%22round%22%2C%20%22opacity%22%3A%201.0%2C%20%22radius%22%3A%205%2C%20%22stroke%22%3A%20true%2C%20%22weight%22%3A%201%7D%0A%20%20%20%20%20%20%20%20%20%20%20%20%29.addTo%28map_857dbf0d8f8f44a89348793b2df3ba2e%29%3B%0A%20%20%20%20%20%20%20%20%0A%20%20%20%20%0A%20%20%20%20%20%20%20%20%20%20%20%20var%20circle_marker_7d37def0c8504b238c309512308aa2e8%20%3D%20L.circleMarker%28%0A%20%20%20%20%20%20%20%20%20%20%20%20%20%20%20%20%5B-23.5713257%2C%20-46.7052409%5D%2C%0A%20%20%20%20%20%20%20%20%20%20%20%20%20%20%20%20%7B%22bubblingMouseEvents%22%3A%20true%2C%20%22color%22%3A%20%22red%22%2C%20%22dashArray%22%3A%20null%2C%20%22dashOffset%22%3A%20null%2C%20%22fill%22%3A%20true%2C%20%22fillColor%22%3A%20%22red%22%2C%20%22fillOpacity%22%3A%200.2%2C%20%22fillRule%22%3A%20%22evenodd%22%2C%20%22lineCap%22%3A%20%22round%22%2C%20%22lineJoin%22%3A%20%22round%22%2C%20%22opacity%22%3A%201.0%2C%20%22radius%22%3A%205%2C%20%22stroke%22%3A%20true%2C%20%22weight%22%3A%201%7D%0A%20%20%20%20%20%20%20%20%20%20%20%20%29.addTo%28map_857dbf0d8f8f44a89348793b2df3ba2e%29%3B%0A%20%20%20%20%20%20%20%20%0A%20%20%20%20%0A%20%20%20%20%20%20%20%20%20%20%20%20var%20circle_marker_b1ee3f2c9bcb4f19aeb9438546f783d0%20%3D%20L.circleMarker%28%0A%20%20%20%20%20%20%20%20%20%20%20%20%20%20%20%20%5B-23.5587264%2C%20-46.7102337%5D%2C%0A%20%20%20%20%20%20%20%20%20%20%20%20%20%20%20%20%7B%22bubblingMouseEvents%22%3A%20true%2C%20%22color%22%3A%20%22red%22%2C%20%22dashArray%22%3A%20null%2C%20%22dashOffset%22%3A%20null%2C%20%22fill%22%3A%20true%2C%20%22fillColor%22%3A%20%22red%22%2C%20%22fillOpacity%22%3A%200.2%2C%20%22fillRule%22%3A%20%22evenodd%22%2C%20%22lineCap%22%3A%20%22round%22%2C%20%22lineJoin%22%3A%20%22round%22%2C%20%22opacity%22%3A%201.0%2C%20%22radius%22%3A%205%2C%20%22stroke%22%3A%20true%2C%20%22weight%22%3A%201%7D%0A%20%20%20%20%20%20%20%20%20%20%20%20%29.addTo%28map_857dbf0d8f8f44a89348793b2df3ba2e%29%3B%0A%20%20%20%20%20%20%20%20%0A%20%20%20%20%0A%20%20%20%20%20%20%20%20%20%20%20%20var%20poly_line_f677f39689b14c6fa3a84f226b8325fe%20%3D%20L.polyline%28%0A%20%20%20%20%20%20%20%20%20%20%20%20%20%20%20%20%5B%5B-23.58226%2C%20-46.68562%5D%2C%20%5B-23.58233%2C%20-46.6856%5D%2C%20%5B-23.58258%2C%20-46.68585%5D%2C%20%5B-23.58298%2C%20-46.68626%5D%2C%20%5B-23.58306%2C%20-46.68635%5D%2C%20%5B-23.5831%2C%20-46.68639%5D%2C%20%5B-23.58463%2C%20-46.68799%5D%2C%20%5B-23.58542%2C%20-46.68878%5D%2C%20%5B-23.58559%2C%20-46.68898%5D%2C%20%5B-23.58587%2C%20-46.68927%5D%2C%20%5B-23.58601%2C%20-46.68942%5D%2C%20%5B-23.58638%2C%20-46.68983%5D%2C%20%5B-23.58648%2C%20-46.68996%5D%2C%20%5B-23.58655%2C%20-46.69008%5D%2C%20%5B-23.58659%2C%20-46.69019%5D%2C%20%5B-23.58661%2C%20-46.6903%5D%2C%20%5B-23.58662%2C%20-46.69043%5D%2C%20%5B-23.5867%2C%20-46.69262%5D%2C%20%5B-23.5867%2C%20-46.69267%5D%2C%20%5B-23.58661%2C%20-46.69284%5D%2C%20%5B-23.58651%2C%20-46.69297%5D%2C%20%5B-23.58631%2C%20-46.69309%5D%2C%20%5B-23.58627%2C%20-46.69311%5D%2C%20%5B-23.58587%2C%20-46.69321%5D%2C%20%5B-23.58568%2C%20-46.6932%5D%2C%20%5B-23.58559%2C%20-46.69317%5D%2C%20%5B-23.58553%2C%20-46.69311%5D%2C%20%5B-23.58545%2C%20-46.69301%5D%2C%20%5B-23.58544%2C%20-46.69293%5D%2C%20%5B-23.58545%2C%20-46.69284%5D%2C%20%5B-23.58547%2C%20-46.69275%5D%2C%20%5B-23.58553%2C%20-46.69265%5D%2C%20%5B-23.58561%2C%20-46.69256%5D%2C%20%5B-23.5857%2C%20-46.69249%5D%2C%20%5B-23.58587%2C%20-46.69238%5D%2C%20%5B-23.58611%2C%20-46.69233%5D%2C%20%5B-23.58633%2C%20-46.6923%5D%2C%20%5B-23.58651%2C%20-46.69229%5D%2C%20%5B-23.58701%2C%20-46.69233%5D%2C%20%5B-23.58746%2C%20-46.69239%5D%2C%20%5B-23.5877%2C%20-46.69244%5D%2C%20%5B-23.58777%2C%20-46.69257%5D%2C%20%5B-23.58785%2C%20-46.6927%5D%2C%20%5B-23.58787%2C%20-46.69277%5D%2C%20%5B-23.58786%2C%20-46.69287%5D%2C%20%5B-23.58779%2C%20-46.69296%5D%2C%20%5B-23.58768%2C%20-46.69301%5D%2C%20%5B-23.58751%2C%20-46.69303%5D%2C%20%5B-23.58721%2C%20-46.693%5D%2C%20%5B-23.58711%2C%20-46.69297%5D%2C%20%5B-23.58698%2C%20-46.69289%5D%2C%20%5B-23.58693%2C%20-46.69279%5D%2C%20%5B-23.58688%2C%20-46.69255%5D%2C%20%5B-23.58685%2C%20-46.69251%5D%2C%20%5B-23.58685%2C%20-46.69249%5D%2C%20%5B-23.58683%2C%20-46.69195%5D%2C%20%5B-23.58679%2C%20-46.69042%5D%2C%20%5B-23.58679%2C%20-46.69042%5D%2C%20%5B-23.58673%2C%20-46.69026%5D%2C%20%5B-23.58668%2C%20-46.69011%5D%2C%20%5B-23.58652%2C%20-46.68985%5D%2C%20%5B-23.58576%2C%20-46.68903%5D%2C%20%5B-23.58548%2C%20-46.68866%5D%2C%20%5B-23.58547%2C%20-46.68864%5D%2C%20%5B-23.5854%2C%20-46.68857%5D%2C%20%5B-23.58536%2C%20-46.68853%5D%2C%20%5B-23.58531%2C%20-46.68848%5D%5D%2C%0A%20%20%20%20%20%20%20%20%20%20%20%20%20%20%20%20%7B%22bubblingMouseEvents%22%3A%20true%2C%20%22color%22%3A%20%22%230A8A9F%22%2C%20%22dashArray%22%3A%20null%2C%20%22dashOffset%22%3A%20null%2C%20%22fill%22%3A%20false%2C%20%22fillColor%22%3A%20%22%230A8A9F%22%2C%20%22fillOpacity%22%3A%200.2%2C%20%22fillRule%22%3A%20%22evenodd%22%2C%20%22lineCap%22%3A%20%22round%22%2C%20%22lineJoin%22%3A%20%22round%22%2C%20%22noClip%22%3A%20false%2C%20%22opacity%22%3A%201.0%2C%20%22smoothFactor%22%3A%201.0%2C%20%22stroke%22%3A%20true%2C%20%22weight%22%3A%201%7D%0A%20%20%20%20%20%20%20%20%20%20%20%20%29.addTo%28map_857dbf0d8f8f44a89348793b2df3ba2e%29%3B%0A%20%20%20%20%20%20%20%20%0A%20%20%20%20%0A%20%20%20%20%20%20%20%20%20%20%20%20var%20poly_line_315d8ac0871d4a0fa68315267e351386%20%3D%20L.polyline%28%0A%20%20%20%20%20%20%20%20%20%20%20%20%20%20%20%20%5B%5B-23.58531%2C%20-46.68848%5D%2C%20%5B-23.58529%2C%20-46.68847%5D%2C%20%5B-23.58475%2C%20-46.68794%5D%2C%20%5B-23.58471%2C%20-46.6879%5D%2C%20%5B-23.58387%2C%20-46.687%5D%2C%20%5B-23.58332%2C%20-46.68643%5D%2C%20%5B-23.58321%2C%20-46.68632%5D%2C%20%5B-23.58316%2C%20-46.68627%5D%2C%20%5B-23.58324%2C%20-46.68623%5D%2C%20%5B-23.58441%2C%20-46.68555%5D%2C%20%5B-23.58562%2C%20-46.68805%5D%2C%20%5B-23.58566%2C%20-46.68808%5D%2C%20%5B-23.58575%2C%20-46.68809%5D%2C%20%5B-23.58576%2C%20-46.68785%5D%2C%20%5B-23.58586%2C%20-46.68743%5D%2C%20%5B-23.58591%2C%20-46.68731%5D%2C%20%5B-23.58603%2C%20-46.68716%5D%2C%20%5B-23.5861%2C%20-46.68711%5D%2C%20%5B-23.58614%2C%20-46.68709%5D%2C%20%5B-23.58642%2C%20-46.6869%5D%2C%20%5B-23.58662%2C%20-46.68677%5D%2C%20%5B-23.58682%2C%20-46.68668%5D%2C%20%5B-23.587%2C%20-46.68664%5D%2C%20%5B-23.58716%2C%20-46.68664%5D%2C%20%5B-23.58734%2C%20-46.68668%5D%2C%20%5B-23.5877%2C%20-46.68683%5D%2C%20%5B-23.58785%2C%20-46.68689%5D%2C%20%5B-23.58809%2C%20-46.68701%5D%2C%20%5B-23.5881%2C%20-46.68701%5D%2C%20%5B-23.58822%2C%20-46.68714%5D%2C%20%5B-23.58832%2C%20-46.68727%5D%2C%20%5B-23.5885%2C%20-46.68754%5D%2C%20%5B-23.58874%2C%20-46.68793%5D%2C%20%5B-23.58882%2C%20-46.68801%5D%2C%20%5B-23.58888%2C%20-46.68805%5D%2C%20%5B-23.58901%2C%20-46.68813%5D%2C%20%5B-23.58905%2C%20-46.68815%5D%2C%20%5B-23.58937%2C%20-46.68828%5D%2C%20%5B-23.58963%2C%20-46.68837%5D%2C%20%5B-23.58985%2C%20-46.68845%5D%2C%20%5B-23.59038%2C%20-46.68863%5D%2C%20%5B-23.59047%2C%20-46.68866%5D%2C%20%5B-23.59054%2C%20-46.68872%5D%2C%20%5B-23.5906%2C%20-46.6888%5D%2C%20%5B-23.59059%2C%20-46.68893%5D%2C%20%5B-23.5904%2C%20-46.6896%5D%2C%20%5B-23.59038%2C%20-46.68964%5D%2C%20%5B-23.59034%2C%20-46.68979%5D%2C%20%5B-23.59022%2C%20-46.69019%5D%2C%20%5B-23.59006%2C%20-46.69065%5D%2C%20%5B-23.58999%2C%20-46.69079%5D%2C%20%5B-23.58991%2C%20-46.6909%5D%2C%20%5B-23.58984%2C%20-46.69096%5D%2C%20%5B-23.58965%2C%20-46.69104%5D%2C%20%5B-23.58955%2C%20-46.69106%5D%2C%20%5B-23.58946%2C%20-46.69105%5D%2C%20%5B-23.58902%2C%20-46.69091%5D%2C%20%5B-23.58887%2C%20-46.69087%5D%2C%20%5B-23.58883%2C%20-46.69086%5D%2C%20%5B-23.58873%2C%20-46.69085%5D%2C%20%5B-23.58818%2C%20-46.69074%5D%2C%20%5B-23.58785%2C%20-46.69069%5D%2C%20%5B-23.58757%2C%20-46.69068%5D%2C%20%5B-23.58731%2C%20-46.69071%5D%2C%20%5B-23.5871%2C%20-46.69075%5D%2C%20%5B-23.58695%2C%20-46.69075%5D%2C%20%5B-23.58651%2C%20-46.69076%5D%2C%20%5B-23.58612%2C%20-46.69078%5D%2C%20%5B-23.58577%2C%20-46.69081%5D%2C%20%5B-23.58544%2C%20-46.69087%5D%2C%20%5B-23.58517%2C%20-46.69095%5D%2C%20%5B-23.58503%2C%20-46.691%5D%5D%2C%0A%20%20%20%20%20%20%20%20%20%20%20%20%20%20%20%20%7B%22bubblingMouseEvents%22%3A%20true%2C%20%22color%22%3A%20%22%230A8A9F%22%2C%20%22dashArray%22%3A%20null%2C%20%22dashOffset%22%3A%20null%2C%20%22fill%22%3A%20false%2C%20%22fillColor%22%3A%20%22%230A8A9F%22%2C%20%22fillOpacity%22%3A%200.2%2C%20%22fillRule%22%3A%20%22evenodd%22%2C%20%22lineCap%22%3A%20%22round%22%2C%20%22lineJoin%22%3A%20%22round%22%2C%20%22noClip%22%3A%20false%2C%20%22opacity%22%3A%201.0%2C%20%22smoothFactor%22%3A%201.0%2C%20%22stroke%22%3A%20true%2C%20%22weight%22%3A%201%7D%0A%20%20%20%20%20%20%20%20%20%20%20%20%29.addTo%28map_857dbf0d8f8f44a89348793b2df3ba2e%29%3B%0A%20%20%20%20%20%20%20%20%0A%20%20%20%20%0A%20%20%20%20%20%20%20%20%20%20%20%20var%20poly_line_e561dd28427d4a41bb82ba4db83a9f50%20%3D%20L.polyline%28%0A%20%20%20%20%20%20%20%20%20%20%20%20%20%20%20%20%5B%5B-23.58503%2C%20-46.691%5D%2C%20%5B-23.58452%2C%20-46.6912%5D%2C%20%5B-23.58437%2C%20-46.69128%5D%5D%2C%0A%20%20%20%20%20%20%20%20%20%20%20%20%20%20%20%20%7B%22bubblingMouseEvents%22%3A%20true%2C%20%22color%22%3A%20%22%230A8A9F%22%2C%20%22dashArray%22%3A%20null%2C%20%22dashOffset%22%3A%20null%2C%20%22fill%22%3A%20false%2C%20%22fillColor%22%3A%20%22%230A8A9F%22%2C%20%22fillOpacity%22%3A%200.2%2C%20%22fillRule%22%3A%20%22evenodd%22%2C%20%22lineCap%22%3A%20%22round%22%2C%20%22lineJoin%22%3A%20%22round%22%2C%20%22noClip%22%3A%20false%2C%20%22opacity%22%3A%201.0%2C%20%22smoothFactor%22%3A%201.0%2C%20%22stroke%22%3A%20true%2C%20%22weight%22%3A%201%7D%0A%20%20%20%20%20%20%20%20%20%20%20%20%29.addTo%28map_857dbf0d8f8f44a89348793b2df3ba2e%29%3B%0A%20%20%20%20%20%20%20%20%0A%20%20%20%20%0A%20%20%20%20%20%20%20%20%20%20%20%20var%20poly_line_3cb5211fe26f4c32959af0d61a06fa87%20%3D%20L.polyline%28%0A%20%20%20%20%20%20%20%20%20%20%20%20%20%20%20%20%5B%5B-23.58437%2C%20-46.69128%5D%2C%20%5B-23.58412%2C%20-46.6914%5D%2C%20%5B-23.58344%2C%20-46.69177%5D%2C%20%5B-23.58145%2C%20-46.69294%5D%2C%20%5B-23.58062%2C%20-46.69341%5D%2C%20%5B-23.57917%2C%20-46.69423%5D%2C%20%5B-23.5783%2C%20-46.69472%5D%2C%20%5B-23.57797%2C%20-46.69479%5D%2C%20%5B-23.57776%2C%20-46.69488%5D%2C%20%5B-23.57691%2C%20-46.69531%5D%2C%20%5B-23.57674%2C%20-46.69537%5D%2C%20%5B-23.57664%2C%20-46.69539%5D%2C%20%5B-23.57643%2C%20-46.69552%5D%2C%20%5B-23.57629%2C%20-46.69561%5D%2C%20%5B-23.57585%2C%20-46.6959%5D%2C%20%5B-23.57573%2C%20-46.69598%5D%2C%20%5B-23.57508%2C%20-46.69648%5D%2C%20%5B-23.57483%2C%20-46.6967%5D%2C%20%5B-23.57463%2C%20-46.69689%5D%2C%20%5B-23.57452%2C%20-46.69699%5D%2C%20%5B-23.57419%2C%20-46.69734%5D%2C%20%5B-23.574%2C%20-46.69757%5D%2C%20%5B-23.57367%2C%20-46.69792%5D%2C%20%5B-23.57337%2C%20-46.69827%5D%2C%20%5B-23.57331%2C%20-46.69836%5D%2C%20%5B-23.57322%2C%20-46.69851%5D%2C%20%5B-23.57316%2C%20-46.69863%5D%2C%20%5B-23.57313%2C%20-46.69868%5D%2C%20%5B-23.57303%2C%20-46.69885%5D%2C%20%5B-23.57262%2C%20-46.69959%5D%2C%20%5B-23.57249%2C%20-46.69979%5D%2C%20%5B-23.57234%2C%20-46.7%5D%2C%20%5B-23.57229%2C%20-46.70006%5D%2C%20%5B-23.57224%2C%20-46.70013%5D%2C%20%5B-23.57214%2C%20-46.70024%5D%2C%20%5B-23.572%2C%20-46.70039%5D%2C%20%5B-23.57182%2C%20-46.7004%5D%2C%20%5B-23.57168%2C%20-46.70035%5D%2C%20%5B-23.57162%2C%20-46.70029%5D%2C%20%5B-23.5716%2C%20-46.70023%5D%2C%20%5B-23.5716%2C%20-46.69977%5D%2C%20%5B-23.57161%2C%20-46.69968%5D%2C%20%5B-23.57165%2C%20-46.69963%5D%2C%20%5B-23.57171%2C%20-46.69959%5D%2C%20%5B-23.57178%2C%20-46.69959%5D%2C%20%5B-23.57188%2C%20-46.69964%5D%2C%20%5B-23.57201%2C%20-46.7%5D%2C%20%5B-23.57208%2C%20-46.70022%5D%2C%20%5B-23.57209%2C%20-46.70026%5D%2C%20%5B-23.5721%2C%20-46.70038%5D%2C%20%5B-23.57214%2C%20-46.70075%5D%2C%20%5B-23.57217%2C%20-46.70108%5D%2C%20%5B-23.57222%2C%20-46.70139%5D%2C%20%5B-23.57227%2C%20-46.70173%5D%2C%20%5B-23.57228%2C%20-46.7021%5D%2C%20%5B-23.57226%2C%20-46.70221%5D%2C%20%5B-23.57225%2C%20-46.70226%5D%2C%20%5B-23.57221%2C%20-46.7023%5D%2C%20%5B-23.57207%2C%20-46.70242%5D%2C%20%5B-23.57199%2C%20-46.70247%5D%2C%20%5B-23.57192%2C%20-46.7025%5D%2C%20%5B-23.5717%2C%20-46.70262%5D%2C%20%5B-23.57158%2C%20-46.70269%5D%2C%20%5B-23.57147%2C%20-46.70274%5D%2C%20%5B-23.57081%2C%20-46.70312%5D%2C%20%5B-23.57078%2C%20-46.7031%5D%2C%20%5B-23.57074%2C%20-46.70304%5D%2C%20%5B-23.57075%2C%20-46.70296%5D%2C%20%5B-23.57103%2C%20-46.7027%5D%2C%20%5B-23.57129%2C%20-46.70252%5D%2C%20%5B-23.57143%2C%20-46.70244%5D%2C%20%5B-23.57161%2C%20-46.7023%5D%2C%20%5B-23.57179%2C%20-46.70213%5D%2C%20%5B-23.57183%2C%20-46.70207%5D%2C%20%5B-23.57216%2C%20-46.70181%5D%2C%20%5B-23.57274%2C%20-46.70134%5D%2C%20%5B-23.57299%2C%20-46.70114%5D%2C%20%5B-23.57312%2C%20-46.70103%5D%2C%20%5B-23.57315%2C%20-46.701%5D%2C%20%5B-23.57329%2C%20-46.70089%5D%2C%20%5B-23.57367%2C%20-46.70047%5D%2C%20%5B-23.57423%2C%20-46.69985%5D%2C%20%5B-23.57498%2C%20-46.69904%5D%2C%20%5B-23.57548%2C%20-46.6985%5D%2C%20%5B-23.57597%2C%20-46.69798%5D%2C%20%5B-23.57619%2C%20-46.69777%5D%2C%20%5B-23.57682%2C%20-46.69732%5D%2C%20%5B-23.57764%2C%20-46.69682%5D%2C%20%5B-23.58291%2C%20-46.69378%5D%2C%20%5B-23.58388%2C%20-46.69317%5D%2C%20%5B-23.58418%2C%20-46.69308%5D%2C%20%5B-23.58442%2C%20-46.693%5D%2C%20%5B-23.58467%2C%20-46.69289%5D%2C%20%5B-23.58476%2C%20-46.69287%5D%2C%20%5B-23.58514%2C%20-46.69276%5D%2C%20%5B-23.58524%2C%20-46.69277%5D%2C%20%5B-23.5853%2C%20-46.69284%5D%2C%20%5B-23.58545%2C%20-46.69326%5D%2C%20%5B-23.58552%2C%20-46.69337%5D%2C%20%5B-23.58567%2C%20-46.69368%5D%2C%20%5B-23.5858%2C%20-46.6939%5D%2C%20%5B-23.5859%2C%20-46.69403%5D%2C%20%5B-23.58609%2C%20-46.69418%5D%2C%20%5B-23.58626%2C%20-46.69427%5D%2C%20%5B-23.58643%2C%20-46.69434%5D%2C%20%5B-23.5865%2C%20-46.69437%5D%2C%20%5B-23.58649%2C%20-46.69444%5D%2C%20%5B-23.58647%2C%20-46.69462%5D%2C%20%5B-23.58641%2C%20-46.69518%5D%2C%20%5B-23.58636%2C%20-46.69565%5D%2C%20%5B-23.58623%2C%20-46.69687%5D%2C%20%5B-23.58616%2C%20-46.6976%5D%2C%20%5B-23.58615%2C%20-46.69773%5D%2C%20%5B-23.58615%2C%20-46.6978%5D%2C%20%5B-23.58617%2C%20-46.69788%5D%2C%20%5B-23.58625%2C%20-46.69766%5D%2C%20%5B-23.58628%2C%20-46.69741%5D%2C%20%5B-23.58637%2C%20-46.69669%5D%2C%20%5B-23.58646%2C%20-46.69598%5D%2C%20%5B-23.58648%2C%20-46.69577%5D%2C%20%5B-23.58651%2C%20-46.69556%5D%5D%2C%0A%20%20%20%20%20%20%20%20%20%20%20%20%20%20%20%20%7B%22bubblingMouseEvents%22%3A%20true%2C%20%22color%22%3A%20%22%230A8A9F%22%2C%20%22dashArray%22%3A%20null%2C%20%22dashOffset%22%3A%20null%2C%20%22fill%22%3A%20false%2C%20%22fillColor%22%3A%20%22%230A8A9F%22%2C%20%22fillOpacity%22%3A%200.2%2C%20%22fillRule%22%3A%20%22evenodd%22%2C%20%22lineCap%22%3A%20%22round%22%2C%20%22lineJoin%22%3A%20%22round%22%2C%20%22noClip%22%3A%20false%2C%20%22opacity%22%3A%201.0%2C%20%22smoothFactor%22%3A%201.0%2C%20%22stroke%22%3A%20true%2C%20%22weight%22%3A%201%7D%0A%20%20%20%20%20%20%20%20%20%20%20%20%29.addTo%28map_857dbf0d8f8f44a89348793b2df3ba2e%29%3B%0A%20%20%20%20%20%20%20%20%0A%20%20%20%20%0A%20%20%20%20%20%20%20%20%20%20%20%20var%20poly_line_c1144afacc804dd4ad344e5b5837a675%20%3D%20L.polyline%28%0A%20%20%20%20%20%20%20%20%20%20%20%20%20%20%20%20%5B%5B-23.58651%2C%20-46.69556%5D%2C%20%5B-23.58653%2C%20-46.69542%5D%2C%20%5B-23.58655%2C%20-46.6952%5D%2C%20%5B-23.58666%2C%20-46.69409%5D%2C%20%5B-23.58674%2C%20-46.69343%5D%2C%20%5B-23.58674%2C%20-46.69341%5D%2C%20%5B-23.58683%2C%20-46.69282%5D%2C%20%5B-23.58685%2C%20-46.69264%5D%2C%20%5B-23.58685%2C%20-46.69251%5D%2C%20%5B-23.58685%2C%20-46.69249%5D%2C%20%5B-23.58683%2C%20-46.69195%5D%2C%20%5B-23.58679%2C%20-46.69042%5D%2C%20%5B-23.58679%2C%20-46.69042%5D%2C%20%5B-23.58677%2C%20-46.69026%5D%2C%20%5B-23.58673%2C%20-46.69004%5D%2C%20%5B-23.5866%2C%20-46.68977%5D%2C%20%5B-23.58655%2C%20-46.68971%5D%2C%20%5B-23.58605%2C%20-46.68919%5D%2C%20%5B-23.58586%2C%20-46.68898%5D%2C%20%5B-23.58577%2C%20-46.68883%5D%2C%20%5B-23.58574%2C%20-46.68871%5D%2C%20%5B-23.58573%2C%20-46.68847%5D%2C%20%5B-23.58573%2C%20-46.68834%5D%2C%20%5B-23.58574%2C%20-46.68824%5D%2C%20%5B-23.58575%2C%20-46.68809%5D%2C%20%5B-23.58576%2C%20-46.68785%5D%2C%20%5B-23.58586%2C%20-46.68743%5D%2C%20%5B-23.58591%2C%20-46.68731%5D%2C%20%5B-23.58603%2C%20-46.68716%5D%2C%20%5B-23.5861%2C%20-46.68711%5D%2C%20%5B-23.58614%2C%20-46.68709%5D%2C%20%5B-23.58615%2C%20-46.68701%5D%2C%20%5B-23.58611%2C%20-46.68684%5D%2C%20%5B-23.58602%2C%20-46.68653%5D%2C%20%5B-23.58591%2C%20-46.68603%5D%2C%20%5B-23.58558%2C%20-46.6848%5D%2C%20%5B-23.5855%2C%20-46.68448%5D%2C%20%5B-23.58539%2C%20-46.68405%5D%2C%20%5B-23.58535%2C%20-46.68393%5D%2C%20%5B-23.5853%2C%20-46.68376%5D%2C%20%5B-23.58516%2C%20-46.68325%5D%2C%20%5B-23.58512%2C%20-46.68308%5D%2C%20%5B-23.58522%2C%20-46.68306%5D%2C%20%5B-23.58555%2C%20-46.68297%5D%2C%20%5B-23.58576%2C%20-46.68291%5D%2C%20%5B-23.58593%2C%20-46.68285%5D%2C%20%5B-23.58602%2C%20-46.6828%5D%2C%20%5B-23.58614%2C%20-46.68275%5D%2C%20%5B-23.58638%2C%20-46.68264%5D%2C%20%5B-23.58741%2C%20-46.68235%5D%2C%20%5B-23.58753%2C%20-46.68231%5D%2C%20%5B-23.58764%2C%20-46.68228%5D%2C%20%5B-23.58808%2C%20-46.68215%5D%2C%20%5B-23.58828%2C%20-46.6821%5D%2C%20%5B-23.58855%2C%20-46.68202%5D%2C%20%5B-23.58863%2C%20-46.682%5D%2C%20%5B-23.58873%2C%20-46.68198%5D%2C%20%5B-23.58914%2C%20-46.68187%5D%2C%20%5B-23.58931%2C%20-46.68183%5D%2C%20%5B-23.58973%2C%20-46.68172%5D%2C%20%5B-23.59013%2C%20-46.68161%5D%2C%20%5B-23.59022%2C%20-46.68162%5D%2C%20%5B-23.59038%2C%20-46.68167%5D%2C%20%5B-23.59046%2C%20-46.68174%5D%2C%20%5B-23.59054%2C%20-46.68182%5D%2C%20%5B-23.59068%2C%20-46.68235%5D%2C%20%5B-23.5908%2C%20-46.68277%5D%2C%20%5B-23.59095%2C%20-46.68329%5D%2C%20%5B-23.59099%2C%20-46.68343%5D%2C%20%5B-23.59106%2C%20-46.68369%5D%2C%20%5B-23.59118%2C%20-46.68412%5D%2C%20%5B-23.59129%2C%20-46.68458%5D%2C%20%5B-23.59138%2C%20-46.68497%5D%2C%20%5B-23.59141%2C%20-46.68509%5D%2C%20%5B-23.59148%2C%20-46.68527%5D%2C%20%5B-23.59154%2C%20-46.68556%5D%2C%20%5B-23.59156%2C%20-46.68574%5D%2C%20%5B-23.59154%2C%20-46.6859%5D%2C%20%5B-23.59152%2C%20-46.68604%5D%2C%20%5B-23.59138%2C%20-46.68651%5D%2C%20%5B-23.59086%2C%20-46.68828%5D%2C%20%5B-23.59047%2C%20-46.68964%5D%2C%20%5B-23.58999%2C%20-46.69123%5D%2C%20%5B-23.58976%2C%20-46.69179%5D%2C%20%5B-23.58954%2C%20-46.69217%5D%2C%20%5B-23.58925%2C%20-46.69253%5D%2C%20%5B-23.58854%2C%20-46.69321%5D%2C%20%5B-23.58732%2C%20-46.6941%5D%2C%20%5B-23.58705%2C%20-46.69435%5D%2C%20%5B-23.58688%2C%20-46.69456%5D%2C%20%5B-23.58652%2C%20-46.69516%5D%2C%20%5B-23.58645%2C%20-46.69533%5D%2C%20%5B-23.58621%2C%20-46.6975%5D%2C%20%5B-23.58619%2C%20-46.69778%5D%2C%20%5B-23.58608%2C%20-46.69792%5D%2C%20%5B-23.58597%2C%20-46.69803%5D%2C%20%5B-23.58585%2C%20-46.69811%5D%2C%20%5B-23.58517%2C%20-46.69843%5D%2C%20%5B-23.58441%2C%20-46.69882%5D%2C%20%5B-23.58412%2C%20-46.69898%5D%5D%2C%0A%20%20%20%20%20%20%20%20%20%20%20%20%20%20%20%20%7B%22bubblingMouseEvents%22%3A%20true%2C%20%22color%22%3A%20%22%230A8A9F%22%2C%20%22dashArray%22%3A%20null%2C%20%22dashOffset%22%3A%20null%2C%20%22fill%22%3A%20false%2C%20%22fillColor%22%3A%20%22%230A8A9F%22%2C%20%22fillOpacity%22%3A%200.2%2C%20%22fillRule%22%3A%20%22evenodd%22%2C%20%22lineCap%22%3A%20%22round%22%2C%20%22lineJoin%22%3A%20%22round%22%2C%20%22noClip%22%3A%20false%2C%20%22opacity%22%3A%201.0%2C%20%22smoothFactor%22%3A%201.0%2C%20%22stroke%22%3A%20true%2C%20%22weight%22%3A%201%7D%0A%20%20%20%20%20%20%20%20%20%20%20%20%29.addTo%28map_857dbf0d8f8f44a89348793b2df3ba2e%29%3B%0A%20%20%20%20%20%20%20%20%0A%20%20%20%20%0A%20%20%20%20%20%20%20%20%20%20%20%20var%20poly_line_d718acb9ceb7471882fd17abb16f22ce%20%3D%20L.polyline%28%0A%20%20%20%20%20%20%20%20%20%20%20%20%20%20%20%20%5B%5B-23.58412%2C%20-46.69898%5D%2C%20%5B-23.58411%2C%20-46.69898%5D%2C%20%5B-23.5835%2C%20-46.69935%5D%2C%20%5B-23.58314%2C%20-46.69947%5D%2C%20%5B-23.58311%2C%20-46.69948%5D%2C%20%5B-23.58302%2C%20-46.69954%5D%2C%20%5B-23.58123%2C%20-46.70058%5D%2C%20%5B-23.58027%2C%20-46.70111%5D%2C%20%5B-23.58009%2C%20-46.70122%5D%2C%20%5B-23.57989%2C%20-46.70131%5D%2C%20%5B-23.57985%2C%20-46.70133%5D%2C%20%5B-23.57959%2C%20-46.7014%5D%2C%20%5B-23.57954%2C%20-46.70141%5D%2C%20%5B-23.57842%2C%20-46.70168%5D%2C%20%5B-23.57782%2C%20-46.70183%5D%2C%20%5B-23.57722%2C%20-46.702%5D%2C%20%5B-23.57652%2C%20-46.70219%5D%2C%20%5B-23.5764%2C%20-46.70223%5D%2C%20%5B-23.57604%2C%20-46.70243%5D%2C%20%5B-23.57478%2C%20-46.7031%5D%2C%20%5B-23.57467%2C%20-46.70323%5D%2C%20%5B-23.57415%2C%20-46.70356%5D%2C%20%5B-23.57341%2C%20-46.70399%5D%2C%20%5B-23.57197%2C%20-46.70481%5D%2C%20%5B-23.57159%2C%20-46.70504%5D%2C%20%5B-23.57103%2C%20-46.70543%5D%2C%20%5B-23.57065%2C%20-46.70566%5D%2C%20%5B-23.57052%2C%20-46.70572%5D%2C%20%5B-23.57049%2C%20-46.70574%5D%2C%20%5B-23.57035%2C%20-46.70583%5D%2C%20%5B-23.5702%2C%20-46.70594%5D%2C%20%5B-23.57014%2C%20-46.70598%5D%2C%20%5B-23.56938%2C%20-46.70649%5D%2C%20%5B-23.56947%2C%20-46.70664%5D%2C%20%5B-23.57028%2C%20-46.70609%5D%2C%20%5B-23.57037%2C%20-46.70603%5D%2C%20%5B-23.57044%2C%20-46.70597%5D%2C%20%5B-23.57057%2C%20-46.70589%5D%2C%20%5B-23.57067%2C%20-46.70582%5D%2C%20%5B-23.57102%2C%20-46.70554%5D%2C%20%5B-23.57162%2C%20-46.70511%5D%2C%20%5B-23.57199%2C%20-46.70488%5D%2C%20%5B-23.57341%2C%20-46.70408%5D%2C%20%5B-23.57367%2C%20-46.70393%5D%2C%20%5B-23.57469%2C%20-46.70331%5D%2C%20%5B-23.57487%2C%20-46.70322%5D%2C%20%5B-23.57532%2C%20-46.70299%5D%2C%20%5B-23.57616%2C%20-46.70252%5D%2C%20%5B-23.57657%2C%20-46.70232%5D%2C%20%5B-23.57738%2C%20-46.70211%5D%2C%20%5B-23.57754%2C%20-46.70206%5D%5D%2C%0A%20%20%20%20%20%20%20%20%20%20%20%20%20%20%20%20%7B%22bubblingMouseEvents%22%3A%20true%2C%20%22color%22%3A%20%22%230A8A9F%22%2C%20%22dashArray%22%3A%20null%2C%20%22dashOffset%22%3A%20null%2C%20%22fill%22%3A%20false%2C%20%22fillColor%22%3A%20%22%230A8A9F%22%2C%20%22fillOpacity%22%3A%200.2%2C%20%22fillRule%22%3A%20%22evenodd%22%2C%20%22lineCap%22%3A%20%22round%22%2C%20%22lineJoin%22%3A%20%22round%22%2C%20%22noClip%22%3A%20false%2C%20%22opacity%22%3A%201.0%2C%20%22smoothFactor%22%3A%201.0%2C%20%22stroke%22%3A%20true%2C%20%22weight%22%3A%201%7D%0A%20%20%20%20%20%20%20%20%20%20%20%20%29.addTo%28map_857dbf0d8f8f44a89348793b2df3ba2e%29%3B%0A%20%20%20%20%20%20%20%20%0A%20%20%20%20%0A%20%20%20%20%20%20%20%20%20%20%20%20var%20poly_line_042a39389d13497c9baa428cc8c67187%20%3D%20L.polyline%28%0A%20%20%20%20%20%20%20%20%20%20%20%20%20%20%20%20%5B%5B-23.57754%2C%20-46.70206%5D%2C%20%5B-23.57775%2C%20-46.70201%5D%2C%20%5B-23.57781%2C%20-46.70197%5D%2C%20%5B-23.57783%2C%20-46.70194%5D%2C%20%5B-23.57783%2C%20-46.70187%5D%2C%20%5B-23.57782%2C%20-46.70183%5D%2C%20%5B-23.57778%2C%20-46.70169%5D%2C%20%5B-23.57768%2C%20-46.70137%5D%2C%20%5B-23.57748%2C%20-46.70145%5D%2C%20%5B-23.5773%2C%20-46.70149%5D%2C%20%5B-23.5772%2C%20-46.70149%5D%2C%20%5B-23.57562%2C%20-46.70238%5D%2C%20%5B-23.57505%2C%20-46.70273%5D%2C%20%5B-23.57504%2C%20-46.70279%5D%2C%20%5B-23.57502%2C%20-46.70288%5D%2C%20%5B-23.57499%2C%20-46.7029%5D%2C%20%5B-23.57389%2C%20-46.70353%5D%2C%20%5B-23.57374%2C%20-46.70353%5D%5D%2C%0A%20%20%20%20%20%20%20%20%20%20%20%20%20%20%20%20%7B%22bubblingMouseEvents%22%3A%20true%2C%20%22color%22%3A%20%22%230A8A9F%22%2C%20%22dashArray%22%3A%20null%2C%20%22dashOffset%22%3A%20null%2C%20%22fill%22%3A%20false%2C%20%22fillColor%22%3A%20%22%230A8A9F%22%2C%20%22fillOpacity%22%3A%200.2%2C%20%22fillRule%22%3A%20%22evenodd%22%2C%20%22lineCap%22%3A%20%22round%22%2C%20%22lineJoin%22%3A%20%22round%22%2C%20%22noClip%22%3A%20false%2C%20%22opacity%22%3A%201.0%2C%20%22smoothFactor%22%3A%201.0%2C%20%22stroke%22%3A%20true%2C%20%22weight%22%3A%201%7D%0A%20%20%20%20%20%20%20%20%20%20%20%20%29.addTo%28map_857dbf0d8f8f44a89348793b2df3ba2e%29%3B%0A%20%20%20%20%20%20%20%20%0A%20%20%20%20%0A%20%20%20%20%20%20%20%20%20%20%20%20var%20poly_line_d09ee2d20ff94a2abd3102a743ee08ca%20%3D%20L.polyline%28%0A%20%20%20%20%20%20%20%20%20%20%20%20%20%20%20%20%5B%5B-23.57374%2C%20-46.70353%5D%2C%20%5B-23.57389%2C%20-46.70353%5D%2C%20%5B-23.57499%2C%20-46.7029%5D%2C%20%5B-23.57502%2C%20-46.70288%5D%2C%20%5B-23.57504%2C%20-46.70279%5D%2C%20%5B-23.57505%2C%20-46.70273%5D%2C%20%5B-23.57562%2C%20-46.70238%5D%2C%20%5B-23.5772%2C%20-46.70149%5D%2C%20%5B-23.5773%2C%20-46.70149%5D%2C%20%5B-23.57748%2C%20-46.70145%5D%2C%20%5B-23.57768%2C%20-46.70137%5D%2C%20%5B-23.57778%2C%20-46.70169%5D%2C%20%5B-23.57782%2C%20-46.70183%5D%2C%20%5B-23.57722%2C%20-46.702%5D%2C%20%5B-23.57652%2C%20-46.70219%5D%2C%20%5B-23.5764%2C%20-46.70223%5D%2C%20%5B-23.57604%2C%20-46.70243%5D%2C%20%5B-23.57478%2C%20-46.7031%5D%2C%20%5B-23.57467%2C%20-46.70323%5D%2C%20%5B-23.57415%2C%20-46.70356%5D%2C%20%5B-23.57341%2C%20-46.70399%5D%2C%20%5B-23.57197%2C%20-46.70481%5D%2C%20%5B-23.57159%2C%20-46.70504%5D%2C%20%5B-23.57132%2C%20-46.70523%5D%5D%2C%0A%20%20%20%20%20%20%20%20%20%20%20%20%20%20%20%20%7B%22bubblingMouseEvents%22%3A%20true%2C%20%22color%22%3A%20%22%230A8A9F%22%2C%20%22dashArray%22%3A%20null%2C%20%22dashOffset%22%3A%20null%2C%20%22fill%22%3A%20false%2C%20%22fillColor%22%3A%20%22%230A8A9F%22%2C%20%22fillOpacity%22%3A%200.2%2C%20%22fillRule%22%3A%20%22evenodd%22%2C%20%22lineCap%22%3A%20%22round%22%2C%20%22lineJoin%22%3A%20%22round%22%2C%20%22noClip%22%3A%20false%2C%20%22opacity%22%3A%201.0%2C%20%22smoothFactor%22%3A%201.0%2C%20%22stroke%22%3A%20true%2C%20%22weight%22%3A%201%7D%0A%20%20%20%20%20%20%20%20%20%20%20%20%29.addTo%28map_857dbf0d8f8f44a89348793b2df3ba2e%29%3B%0A%20%20%20%20%20%20%20%20%0A%20%20%20%20%0A%20%20%20%20%20%20%20%20%20%20%20%20var%20poly_line_63088dae2cc946b48092399fccdfdc5a%20%3D%20L.polyline%28%0A%20%20%20%20%20%20%20%20%20%20%20%20%20%20%20%20%5B%5B-23.57132%2C%20-46.70523%5D%2C%20%5B-23.57103%2C%20-46.70543%5D%2C%20%5B-23.57065%2C%20-46.70566%5D%2C%20%5B-23.57052%2C%20-46.70572%5D%2C%20%5B-23.57049%2C%20-46.70574%5D%2C%20%5B-23.57035%2C%20-46.70583%5D%2C%20%5B-23.5702%2C%20-46.70594%5D%2C%20%5B-23.57014%2C%20-46.70598%5D%2C%20%5B-23.56938%2C%20-46.70649%5D%2C%20%5B-23.56947%2C%20-46.70664%5D%2C%20%5B-23.57028%2C%20-46.70609%5D%2C%20%5B-23.57037%2C%20-46.70603%5D%2C%20%5B-23.57044%2C%20-46.70597%5D%2C%20%5B-23.57049%2C%20-46.70606%5D%2C%20%5B-23.57086%2C%20-46.70671%5D%2C%20%5B-23.5709%2C%20-46.70679%5D%2C%20%5B-23.57137%2C%20-46.70759%5D%2C%20%5B-23.57139%2C%20-46.70764%5D%2C%20%5B-23.57144%2C%20-46.70773%5D%2C%20%5B-23.57149%2C%20-46.70778%5D%2C%20%5B-23.57154%2C%20-46.70782%5D%2C%20%5B-23.57158%2C%20-46.70767%5D%2C%20%5B-23.57225%2C%20-46.70557%5D%2C%20%5B-23.57228%2C%20-46.70546%5D%2C%20%5B-23.57246%2C%20-46.70489%5D%2C%20%5B-23.57247%2C%20-46.70484%5D%2C%20%5B-23.57253%2C%20-46.70467%5D%2C%20%5B-23.57257%2C%20-46.70449%5D%2C%20%5B-23.57259%2C%20-46.70437%5D%2C%20%5B-23.57264%2C%20-46.7042%5D%2C%20%5B-23.57261%2C%20-46.70411%5D%2C%20%5B-23.57257%2C%20-46.70395%5D%2C%20%5B-23.5725%2C%20-46.70354%5D%2C%20%5B-23.57246%2C%20-46.70328%5D%2C%20%5B-23.57244%2C%20-46.70306%5D%2C%20%5B-23.57242%2C%20-46.70282%5D%2C%20%5B-23.57241%2C%20-46.70256%5D%2C%20%5B-23.57241%2C%20-46.70225%5D%2C%20%5B-23.57242%2C%20-46.70208%5D%2C%20%5B-23.5724%2C%20-46.70185%5D%2C%20%5B-23.57239%2C%20-46.70176%5D%2C%20%5B-23.57238%2C%20-46.7017%5D%2C%20%5B-23.57222%2C%20-46.70026%5D%2C%20%5B-23.57218%2C%20-46.69994%5D%2C%20%5B-23.57214%2C%20-46.69968%5D%2C%20%5B-23.57211%2C%20-46.69948%5D%2C%20%5B-23.57211%2C%20-46.69945%5D%2C%20%5B-23.57205%2C%20-46.69917%5D%2C%20%5B-23.57204%2C%20-46.69907%5D%2C%20%5B-23.57201%2C%20-46.69884%5D%2C%20%5B-23.57196%2C%20-46.6984%5D%2C%20%5B-23.57189%2C%20-46.69782%5D%2C%20%5B-23.57184%2C%20-46.69738%5D%2C%20%5B-23.57183%2C%20-46.69725%5D%2C%20%5B-23.57174%2C%20-46.69648%5D%2C%20%5B-23.57171%2C%20-46.69628%5D%2C%20%5B-23.5717%2C%20-46.69616%5D%2C%20%5B-23.57168%2C%20-46.69593%5D%2C%20%5B-23.57158%2C%20-46.6951%5D%2C%20%5B-23.57156%2C%20-46.69497%5D%2C%20%5B-23.57174%2C%20-46.69491%5D%2C%20%5B-23.57199%2C%20-46.69489%5D%2C%20%5B-23.57217%2C%20-46.69486%5D%2C%20%5B-23.57235%2C%20-46.6948%5D%2C%20%5B-23.5725%2C%20-46.69472%5D%2C%20%5B-23.57263%2C%20-46.69463%5D%2C%20%5B-23.57271%2C%20-46.69458%5D%2C%20%5B-23.57277%2C%20-46.69454%5D%2C%20%5B-23.57286%2C%20-46.69448%5D%2C%20%5B-23.57292%2C%20-46.69444%5D%2C%20%5B-23.57295%2C%20-46.69442%5D%2C%20%5B-23.57296%2C%20-46.69444%5D%2C%20%5B-23.57299%2C%20-46.69445%5D%2C%20%5B-23.573%2C%20-46.69445%5D%2C%20%5B-23.57305%2C%20-46.6945%5D%2C%20%5B-23.57307%2C%20-46.69453%5D%2C%20%5B-23.57309%2C%20-46.69457%5D%2C%20%5B-23.57344%2C%20-46.69521%5D%2C%20%5B-23.57366%2C%20-46.69562%5D%2C%20%5B-23.57371%2C%20-46.69572%5D%2C%20%5B-23.57397%2C%20-46.69619%5D%2C%20%5B-23.57409%2C%20-46.6964%5D%2C%20%5B-23.57419%2C%20-46.69661%5D%2C%20%5B-23.57426%2C%20-46.69675%5D%2C%20%5B-23.57429%2C%20-46.69685%5D%2C%20%5B-23.5743%2C%20-46.6969%5D%2C%20%5B-23.57429%2C%20-46.69706%5D%2C%20%5B-23.57424%2C%20-46.69722%5D%2C%20%5B-23.57419%2C%20-46.69734%5D%2C%20%5B-23.574%2C%20-46.69757%5D%2C%20%5B-23.57367%2C%20-46.69792%5D%2C%20%5B-23.57363%2C%20-46.69799%5D%2C%20%5B-23.5736%2C%20-46.69803%5D%2C%20%5B-23.57354%2C%20-46.69813%5D%2C%20%5B-23.57343%2C%20-46.69827%5D%2C%20%5B-23.57329%2C%20-46.69849%5D%2C%20%5B-23.5732%2C%20-46.69863%5D%2C%20%5B-23.57305%2C%20-46.69894%5D%2C%20%5B-23.57301%2C%20-46.69907%5D%2C%20%5B-23.57296%2C%20-46.69923%5D%2C%20%5B-23.57253%2C%20-46.69994%5D%2C%20%5B-23.57243%2C%20-46.70011%5D%2C%20%5B-23.57229%2C%20-46.7003%5D%2C%20%5B-23.57216%2C%20-46.70043%5D%2C%20%5B-23.57201%2C%20-46.70056%5D%2C%20%5B-23.57193%2C%20-46.70061%5D%2C%20%5B-23.57157%2C%20-46.70082%5D%2C%20%5B-23.57137%2C%20-46.70091%5D%2C%20%5B-23.57077%2C%20-46.70119%5D%2C%20%5B-23.57057%2C%20-46.70129%5D%2C%20%5B-23.56927%2C%20-46.70182%5D%2C%20%5B-23.56774%2C%20-46.70237%5D%2C%20%5B-23.56419%2C%20-46.70367%5D%2C%20%5B-23.56365%2C%20-46.7039%5D%2C%20%5B-23.56336%2C%20-46.70404%5D%2C%20%5B-23.56281%2C%20-46.70432%5D%2C%20%5B-23.5623%2C%20-46.70463%5D%2C%20%5B-23.56152%2C%20-46.7052%5D%2C%20%5B-23.56096%2C%20-46.70573%5D%2C%20%5B-23.56024%2C%20-46.70653%5D%2C%20%5B-23.55998%2C%20-46.70687%5D%2C%20%5B-23.55942%2C%20-46.7077%5D%2C%20%5B-23.55917%2C%20-46.70816%5D%2C%20%5B-23.55892%2C%20-46.70871%5D%2C%20%5B-23.55833%2C%20-46.71003%5D%5D%2C%0A%20%20%20%20%20%20%20%20%20%20%20%20%20%20%20%20%7B%22bubblingMouseEvents%22%3A%20true%2C%20%22color%22%3A%20%22%230A8A9F%22%2C%20%22dashArray%22%3A%20null%2C%20%22dashOffset%22%3A%20null%2C%20%22fill%22%3A%20false%2C%20%22fillColor%22%3A%20%22%230A8A9F%22%2C%20%22fillOpacity%22%3A%200.2%2C%20%22fillRule%22%3A%20%22evenodd%22%2C%20%22lineCap%22%3A%20%22round%22%2C%20%22lineJoin%22%3A%20%22round%22%2C%20%22noClip%22%3A%20false%2C%20%22opacity%22%3A%201.0%2C%20%22smoothFactor%22%3A%201.0%2C%20%22stroke%22%3A%20true%2C%20%22weight%22%3A%201%7D%0A%20%20%20%20%20%20%20%20%20%20%20%20%29.addTo%28map_857dbf0d8f8f44a89348793b2df3ba2e%29%3B%0A%20%20%20%20%20%20%20%20%0A%3C/script%3E onload=\"this.contentDocument.open();this.contentDocument.write(    decodeURIComponent(this.getAttribute('data-html')));this.contentDocument.close();\" allowfullscreen webkitallowfullscreen mozallowfullscreen></iframe></div></div>"
      ],
      "text/plain": [
       "<folium.folium.Map at 0x1a62c601520>"
      ]
     },
     "execution_count": 40,
     "metadata": {},
     "output_type": "execute_result"
    }
   ],
   "source": [
    "for path in path_list:\n",
    "    \n",
    "    line = folium.PolyLine(\n",
    "        path,\n",
    "        weight=1,\n",
    "        color='#0A8A9F'\n",
    "    ).add_to(map_1try)\n",
    "\n",
    "map_1try"
   ]
  },
  {
   "cell_type": "markdown",
   "metadata": {},
   "source": [
    "#### Second try"
   ]
  },
  {
   "cell_type": "code",
   "execution_count": 45,
   "metadata": {},
   "outputs": [
    {
     "name": "stderr",
     "output_type": "stream",
     "text": [
      "100%|██████████| 9/9 [00:00<00:00, 8998.51it/s]\n"
     ]
    }
   ],
   "source": [
    "#generate a new map\n",
    "map_2try = folium.Map(location=[lat_default, long_default], zoom_start=16, tiles='cartodbpositron')\n",
    "\n",
    "#for each row in the data, add a cicle marker\n",
    "for index, row in tqdm(df.iterrows(), total=df.shape[0]):\n",
    "\n",
    "    #add starting location markers to the map\n",
    "    folium.CircleMarker(location=[row['latitude'], row['longitude']],\n",
    "                        color='red',\n",
    "                        radius=5,\n",
    "                        weight=1,\n",
    "                        fill=True).add_to(map_2try)"
   ]
  },
  {
   "cell_type": "code",
   "execution_count": 44,
   "metadata": {},
   "outputs": [
    {
     "name": "stderr",
     "output_type": "stream",
     "text": [
      "100%|██████████| 9/9 [00:00<00:00, 9004.95it/s]"
     ]
    },
    {
     "name": "stdout",
     "output_type": "stream",
     "text": [
      "[(-23.582274, -46.6856661), (-23.5853147, -46.6884743)]\n",
      "[(-23.5853147, -46.6884743), (-23.5850464, -46.6910407)]\n",
      "[(-23.5850464, -46.6910407), (-23.5845803, -46.691775)]\n",
      "[(-23.5845803, -46.691775), (-23.586483, -46.6955541)]\n",
      "[(-23.586483, -46.6955541), (-23.5841196, -46.6989807)]\n",
      "[(-23.5841196, -46.6989807), (-23.5775489, -46.7020922)]\n",
      "[(-23.5775489, -46.7020922), (-23.5737421, -46.7033941)]\n",
      "[(-23.5737421, -46.7033941), (-23.5713257, -46.7052409)]\n",
      "[(-23.5713257, -46.7052409), (-23.5587264, -46.7102337)]\n"
     ]
    },
    {
     "name": "stderr",
     "output_type": "stream",
     "text": [
      "\n"
     ]
    },
    {
     "data": {
      "text/html": [
       "<div style=\"width:100%;\"><div style=\"position:relative;width:100%;height:0;padding-bottom:60%;\"><span style=\"color:#565656\">Make this Notebook Trusted to load map: File -> Trust Notebook</span><iframe src=\"about:blank\" style=\"position:absolute;width:100%;height:100%;left:0;top:0;border:none !important;\" data-html=%3C%21DOCTYPE%20html%3E%0A%3Chead%3E%20%20%20%20%0A%20%20%20%20%3Cmeta%20http-equiv%3D%22content-type%22%20content%3D%22text/html%3B%20charset%3DUTF-8%22%20/%3E%0A%20%20%20%20%0A%20%20%20%20%20%20%20%20%3Cscript%3E%0A%20%20%20%20%20%20%20%20%20%20%20%20L_NO_TOUCH%20%3D%20false%3B%0A%20%20%20%20%20%20%20%20%20%20%20%20L_DISABLE_3D%20%3D%20false%3B%0A%20%20%20%20%20%20%20%20%3C/script%3E%0A%20%20%20%20%0A%20%20%20%20%3Cstyle%3Ehtml%2C%20body%20%7Bwidth%3A%20100%25%3Bheight%3A%20100%25%3Bmargin%3A%200%3Bpadding%3A%200%3B%7D%3C/style%3E%0A%20%20%20%20%3Cstyle%3E%23map%20%7Bposition%3Aabsolute%3Btop%3A0%3Bbottom%3A0%3Bright%3A0%3Bleft%3A0%3B%7D%3C/style%3E%0A%20%20%20%20%3Cscript%20src%3D%22https%3A//cdn.jsdelivr.net/npm/leaflet%401.6.0/dist/leaflet.js%22%3E%3C/script%3E%0A%20%20%20%20%3Cscript%20src%3D%22https%3A//code.jquery.com/jquery-1.12.4.min.js%22%3E%3C/script%3E%0A%20%20%20%20%3Cscript%20src%3D%22https%3A//maxcdn.bootstrapcdn.com/bootstrap/3.2.0/js/bootstrap.min.js%22%3E%3C/script%3E%0A%20%20%20%20%3Cscript%20src%3D%22https%3A//cdnjs.cloudflare.com/ajax/libs/Leaflet.awesome-markers/2.0.2/leaflet.awesome-markers.js%22%3E%3C/script%3E%0A%20%20%20%20%3Clink%20rel%3D%22stylesheet%22%20href%3D%22https%3A//cdn.jsdelivr.net/npm/leaflet%401.6.0/dist/leaflet.css%22/%3E%0A%20%20%20%20%3Clink%20rel%3D%22stylesheet%22%20href%3D%22https%3A//maxcdn.bootstrapcdn.com/bootstrap/3.2.0/css/bootstrap.min.css%22/%3E%0A%20%20%20%20%3Clink%20rel%3D%22stylesheet%22%20href%3D%22https%3A//maxcdn.bootstrapcdn.com/bootstrap/3.2.0/css/bootstrap-theme.min.css%22/%3E%0A%20%20%20%20%3Clink%20rel%3D%22stylesheet%22%20href%3D%22https%3A//maxcdn.bootstrapcdn.com/font-awesome/4.6.3/css/font-awesome.min.css%22/%3E%0A%20%20%20%20%3Clink%20rel%3D%22stylesheet%22%20href%3D%22https%3A//cdnjs.cloudflare.com/ajax/libs/Leaflet.awesome-markers/2.0.2/leaflet.awesome-markers.css%22/%3E%0A%20%20%20%20%3Clink%20rel%3D%22stylesheet%22%20href%3D%22https%3A//cdn.jsdelivr.net/gh/python-visualization/folium/folium/templates/leaflet.awesome.rotate.min.css%22/%3E%0A%20%20%20%20%0A%20%20%20%20%20%20%20%20%20%20%20%20%3Cmeta%20name%3D%22viewport%22%20content%3D%22width%3Ddevice-width%2C%0A%20%20%20%20%20%20%20%20%20%20%20%20%20%20%20%20initial-scale%3D1.0%2C%20maximum-scale%3D1.0%2C%20user-scalable%3Dno%22%20/%3E%0A%20%20%20%20%20%20%20%20%20%20%20%20%3Cstyle%3E%0A%20%20%20%20%20%20%20%20%20%20%20%20%20%20%20%20%23map_84a1d0db66d240eaa2a07caf0804fb1f%20%7B%0A%20%20%20%20%20%20%20%20%20%20%20%20%20%20%20%20%20%20%20%20position%3A%20relative%3B%0A%20%20%20%20%20%20%20%20%20%20%20%20%20%20%20%20%20%20%20%20width%3A%20100.0%25%3B%0A%20%20%20%20%20%20%20%20%20%20%20%20%20%20%20%20%20%20%20%20height%3A%20100.0%25%3B%0A%20%20%20%20%20%20%20%20%20%20%20%20%20%20%20%20%20%20%20%20left%3A%200.0%25%3B%0A%20%20%20%20%20%20%20%20%20%20%20%20%20%20%20%20%20%20%20%20top%3A%200.0%25%3B%0A%20%20%20%20%20%20%20%20%20%20%20%20%20%20%20%20%7D%0A%20%20%20%20%20%20%20%20%20%20%20%20%3C/style%3E%0A%20%20%20%20%20%20%20%20%0A%3C/head%3E%0A%3Cbody%3E%20%20%20%20%0A%20%20%20%20%0A%20%20%20%20%20%20%20%20%20%20%20%20%3Cdiv%20class%3D%22folium-map%22%20id%3D%22map_84a1d0db66d240eaa2a07caf0804fb1f%22%20%3E%3C/div%3E%0A%20%20%20%20%20%20%20%20%0A%3C/body%3E%0A%3Cscript%3E%20%20%20%20%0A%20%20%20%20%0A%20%20%20%20%20%20%20%20%20%20%20%20var%20map_84a1d0db66d240eaa2a07caf0804fb1f%20%3D%20L.map%28%0A%20%20%20%20%20%20%20%20%20%20%20%20%20%20%20%20%22map_84a1d0db66d240eaa2a07caf0804fb1f%22%2C%0A%20%20%20%20%20%20%20%20%20%20%20%20%20%20%20%20%7B%0A%20%20%20%20%20%20%20%20%20%20%20%20%20%20%20%20%20%20%20%20center%3A%20%5B-23.57891611%2C%20-46.697245179999996%5D%2C%0A%20%20%20%20%20%20%20%20%20%20%20%20%20%20%20%20%20%20%20%20crs%3A%20L.CRS.EPSG3857%2C%0A%20%20%20%20%20%20%20%20%20%20%20%20%20%20%20%20%20%20%20%20zoom%3A%2016%2C%0A%20%20%20%20%20%20%20%20%20%20%20%20%20%20%20%20%20%20%20%20zoomControl%3A%20true%2C%0A%20%20%20%20%20%20%20%20%20%20%20%20%20%20%20%20%20%20%20%20preferCanvas%3A%20false%2C%0A%20%20%20%20%20%20%20%20%20%20%20%20%20%20%20%20%7D%0A%20%20%20%20%20%20%20%20%20%20%20%20%29%3B%0A%0A%20%20%20%20%20%20%20%20%20%20%20%20%0A%0A%20%20%20%20%20%20%20%20%0A%20%20%20%20%0A%20%20%20%20%20%20%20%20%20%20%20%20var%20tile_layer_9249dd7b1133469ebb5e7d93db40a83f%20%3D%20L.tileLayer%28%0A%20%20%20%20%20%20%20%20%20%20%20%20%20%20%20%20%22https%3A//cartodb-basemaps-%7Bs%7D.global.ssl.fastly.net/light_all/%7Bz%7D/%7Bx%7D/%7By%7D.png%22%2C%0A%20%20%20%20%20%20%20%20%20%20%20%20%20%20%20%20%7B%22attribution%22%3A%20%22%5Cu0026copy%3B%20%5Cu003ca%20href%3D%5C%22http%3A//www.openstreetmap.org/copyright%5C%22%5Cu003eOpenStreetMap%5Cu003c/a%5Cu003e%20contributors%20%5Cu0026copy%3B%20%5Cu003ca%20href%3D%5C%22http%3A//cartodb.com/attributions%5C%22%5Cu003eCartoDB%5Cu003c/a%5Cu003e%2C%20CartoDB%20%5Cu003ca%20href%20%3D%5C%22http%3A//cartodb.com/attributions%5C%22%5Cu003eattributions%5Cu003c/a%5Cu003e%22%2C%20%22detectRetina%22%3A%20false%2C%20%22maxNativeZoom%22%3A%2018%2C%20%22maxZoom%22%3A%2018%2C%20%22minZoom%22%3A%200%2C%20%22noWrap%22%3A%20false%2C%20%22opacity%22%3A%201%2C%20%22subdomains%22%3A%20%22abc%22%2C%20%22tms%22%3A%20false%7D%0A%20%20%20%20%20%20%20%20%20%20%20%20%29.addTo%28map_84a1d0db66d240eaa2a07caf0804fb1f%29%3B%0A%20%20%20%20%20%20%20%20%0A%20%20%20%20%0A%20%20%20%20%20%20%20%20%20%20%20%20var%20circle_marker_c5754f40938c441fb5e8c103d2869ff9%20%3D%20L.circleMarker%28%0A%20%20%20%20%20%20%20%20%20%20%20%20%20%20%20%20%5B-23.582274%2C%20-46.6856661%5D%2C%0A%20%20%20%20%20%20%20%20%20%20%20%20%20%20%20%20%7B%22bubblingMouseEvents%22%3A%20true%2C%20%22color%22%3A%20%22red%22%2C%20%22dashArray%22%3A%20null%2C%20%22dashOffset%22%3A%20null%2C%20%22fill%22%3A%20true%2C%20%22fillColor%22%3A%20%22red%22%2C%20%22fillOpacity%22%3A%200.2%2C%20%22fillRule%22%3A%20%22evenodd%22%2C%20%22lineCap%22%3A%20%22round%22%2C%20%22lineJoin%22%3A%20%22round%22%2C%20%22opacity%22%3A%201.0%2C%20%22radius%22%3A%205%2C%20%22stroke%22%3A%20true%2C%20%22weight%22%3A%201%7D%0A%20%20%20%20%20%20%20%20%20%20%20%20%29.addTo%28map_84a1d0db66d240eaa2a07caf0804fb1f%29%3B%0A%20%20%20%20%20%20%20%20%0A%20%20%20%20%0A%20%20%20%20%20%20%20%20%20%20%20%20var%20circle_marker_3cd11cd82c454dc79577508784916566%20%3D%20L.circleMarker%28%0A%20%20%20%20%20%20%20%20%20%20%20%20%20%20%20%20%5B-23.5853147%2C%20-46.6884743%5D%2C%0A%20%20%20%20%20%20%20%20%20%20%20%20%20%20%20%20%7B%22bubblingMouseEvents%22%3A%20true%2C%20%22color%22%3A%20%22red%22%2C%20%22dashArray%22%3A%20null%2C%20%22dashOffset%22%3A%20null%2C%20%22fill%22%3A%20true%2C%20%22fillColor%22%3A%20%22red%22%2C%20%22fillOpacity%22%3A%200.2%2C%20%22fillRule%22%3A%20%22evenodd%22%2C%20%22lineCap%22%3A%20%22round%22%2C%20%22lineJoin%22%3A%20%22round%22%2C%20%22opacity%22%3A%201.0%2C%20%22radius%22%3A%205%2C%20%22stroke%22%3A%20true%2C%20%22weight%22%3A%201%7D%0A%20%20%20%20%20%20%20%20%20%20%20%20%29.addTo%28map_84a1d0db66d240eaa2a07caf0804fb1f%29%3B%0A%20%20%20%20%20%20%20%20%0A%20%20%20%20%0A%20%20%20%20%20%20%20%20%20%20%20%20var%20circle_marker_1035b715dbbb41eda77fec1e6804229f%20%3D%20L.circleMarker%28%0A%20%20%20%20%20%20%20%20%20%20%20%20%20%20%20%20%5B-23.5850464%2C%20-46.6910407%5D%2C%0A%20%20%20%20%20%20%20%20%20%20%20%20%20%20%20%20%7B%22bubblingMouseEvents%22%3A%20true%2C%20%22color%22%3A%20%22red%22%2C%20%22dashArray%22%3A%20null%2C%20%22dashOffset%22%3A%20null%2C%20%22fill%22%3A%20true%2C%20%22fillColor%22%3A%20%22red%22%2C%20%22fillOpacity%22%3A%200.2%2C%20%22fillRule%22%3A%20%22evenodd%22%2C%20%22lineCap%22%3A%20%22round%22%2C%20%22lineJoin%22%3A%20%22round%22%2C%20%22opacity%22%3A%201.0%2C%20%22radius%22%3A%205%2C%20%22stroke%22%3A%20true%2C%20%22weight%22%3A%201%7D%0A%20%20%20%20%20%20%20%20%20%20%20%20%29.addTo%28map_84a1d0db66d240eaa2a07caf0804fb1f%29%3B%0A%20%20%20%20%20%20%20%20%0A%20%20%20%20%0A%20%20%20%20%20%20%20%20%20%20%20%20var%20circle_marker_595fd21c4ca5406587e055e70987435d%20%3D%20L.circleMarker%28%0A%20%20%20%20%20%20%20%20%20%20%20%20%20%20%20%20%5B-23.5845803%2C%20-46.691775%5D%2C%0A%20%20%20%20%20%20%20%20%20%20%20%20%20%20%20%20%7B%22bubblingMouseEvents%22%3A%20true%2C%20%22color%22%3A%20%22red%22%2C%20%22dashArray%22%3A%20null%2C%20%22dashOffset%22%3A%20null%2C%20%22fill%22%3A%20true%2C%20%22fillColor%22%3A%20%22red%22%2C%20%22fillOpacity%22%3A%200.2%2C%20%22fillRule%22%3A%20%22evenodd%22%2C%20%22lineCap%22%3A%20%22round%22%2C%20%22lineJoin%22%3A%20%22round%22%2C%20%22opacity%22%3A%201.0%2C%20%22radius%22%3A%205%2C%20%22stroke%22%3A%20true%2C%20%22weight%22%3A%201%7D%0A%20%20%20%20%20%20%20%20%20%20%20%20%29.addTo%28map_84a1d0db66d240eaa2a07caf0804fb1f%29%3B%0A%20%20%20%20%20%20%20%20%0A%20%20%20%20%0A%20%20%20%20%20%20%20%20%20%20%20%20var%20circle_marker_6eae5e5c76c94689beff7ce58b779614%20%3D%20L.circleMarker%28%0A%20%20%20%20%20%20%20%20%20%20%20%20%20%20%20%20%5B-23.586483%2C%20-46.6955541%5D%2C%0A%20%20%20%20%20%20%20%20%20%20%20%20%20%20%20%20%7B%22bubblingMouseEvents%22%3A%20true%2C%20%22color%22%3A%20%22red%22%2C%20%22dashArray%22%3A%20null%2C%20%22dashOffset%22%3A%20null%2C%20%22fill%22%3A%20true%2C%20%22fillColor%22%3A%20%22red%22%2C%20%22fillOpacity%22%3A%200.2%2C%20%22fillRule%22%3A%20%22evenodd%22%2C%20%22lineCap%22%3A%20%22round%22%2C%20%22lineJoin%22%3A%20%22round%22%2C%20%22opacity%22%3A%201.0%2C%20%22radius%22%3A%205%2C%20%22stroke%22%3A%20true%2C%20%22weight%22%3A%201%7D%0A%20%20%20%20%20%20%20%20%20%20%20%20%29.addTo%28map_84a1d0db66d240eaa2a07caf0804fb1f%29%3B%0A%20%20%20%20%20%20%20%20%0A%20%20%20%20%0A%20%20%20%20%20%20%20%20%20%20%20%20var%20circle_marker_ddb45c136e754c509e931d42f032d0d7%20%3D%20L.circleMarker%28%0A%20%20%20%20%20%20%20%20%20%20%20%20%20%20%20%20%5B-23.5841196%2C%20-46.6989807%5D%2C%0A%20%20%20%20%20%20%20%20%20%20%20%20%20%20%20%20%7B%22bubblingMouseEvents%22%3A%20true%2C%20%22color%22%3A%20%22red%22%2C%20%22dashArray%22%3A%20null%2C%20%22dashOffset%22%3A%20null%2C%20%22fill%22%3A%20true%2C%20%22fillColor%22%3A%20%22red%22%2C%20%22fillOpacity%22%3A%200.2%2C%20%22fillRule%22%3A%20%22evenodd%22%2C%20%22lineCap%22%3A%20%22round%22%2C%20%22lineJoin%22%3A%20%22round%22%2C%20%22opacity%22%3A%201.0%2C%20%22radius%22%3A%205%2C%20%22stroke%22%3A%20true%2C%20%22weight%22%3A%201%7D%0A%20%20%20%20%20%20%20%20%20%20%20%20%29.addTo%28map_84a1d0db66d240eaa2a07caf0804fb1f%29%3B%0A%20%20%20%20%20%20%20%20%0A%20%20%20%20%0A%20%20%20%20%20%20%20%20%20%20%20%20var%20circle_marker_3310f8e6f3f547e5a2fe6514ea372ad0%20%3D%20L.circleMarker%28%0A%20%20%20%20%20%20%20%20%20%20%20%20%20%20%20%20%5B-23.5775489%2C%20-46.7020922%5D%2C%0A%20%20%20%20%20%20%20%20%20%20%20%20%20%20%20%20%7B%22bubblingMouseEvents%22%3A%20true%2C%20%22color%22%3A%20%22red%22%2C%20%22dashArray%22%3A%20null%2C%20%22dashOffset%22%3A%20null%2C%20%22fill%22%3A%20true%2C%20%22fillColor%22%3A%20%22red%22%2C%20%22fillOpacity%22%3A%200.2%2C%20%22fillRule%22%3A%20%22evenodd%22%2C%20%22lineCap%22%3A%20%22round%22%2C%20%22lineJoin%22%3A%20%22round%22%2C%20%22opacity%22%3A%201.0%2C%20%22radius%22%3A%205%2C%20%22stroke%22%3A%20true%2C%20%22weight%22%3A%201%7D%0A%20%20%20%20%20%20%20%20%20%20%20%20%29.addTo%28map_84a1d0db66d240eaa2a07caf0804fb1f%29%3B%0A%20%20%20%20%20%20%20%20%0A%20%20%20%20%0A%20%20%20%20%20%20%20%20%20%20%20%20var%20circle_marker_22872a70f75d42d68b56eb3659c96447%20%3D%20L.circleMarker%28%0A%20%20%20%20%20%20%20%20%20%20%20%20%20%20%20%20%5B-23.5737421%2C%20-46.7033941%5D%2C%0A%20%20%20%20%20%20%20%20%20%20%20%20%20%20%20%20%7B%22bubblingMouseEvents%22%3A%20true%2C%20%22color%22%3A%20%22red%22%2C%20%22dashArray%22%3A%20null%2C%20%22dashOffset%22%3A%20null%2C%20%22fill%22%3A%20true%2C%20%22fillColor%22%3A%20%22red%22%2C%20%22fillOpacity%22%3A%200.2%2C%20%22fillRule%22%3A%20%22evenodd%22%2C%20%22lineCap%22%3A%20%22round%22%2C%20%22lineJoin%22%3A%20%22round%22%2C%20%22opacity%22%3A%201.0%2C%20%22radius%22%3A%205%2C%20%22stroke%22%3A%20true%2C%20%22weight%22%3A%201%7D%0A%20%20%20%20%20%20%20%20%20%20%20%20%29.addTo%28map_84a1d0db66d240eaa2a07caf0804fb1f%29%3B%0A%20%20%20%20%20%20%20%20%0A%20%20%20%20%0A%20%20%20%20%20%20%20%20%20%20%20%20var%20circle_marker_28fe2719334c45a6a7b95d43ed010865%20%3D%20L.circleMarker%28%0A%20%20%20%20%20%20%20%20%20%20%20%20%20%20%20%20%5B-23.5713257%2C%20-46.7052409%5D%2C%0A%20%20%20%20%20%20%20%20%20%20%20%20%20%20%20%20%7B%22bubblingMouseEvents%22%3A%20true%2C%20%22color%22%3A%20%22red%22%2C%20%22dashArray%22%3A%20null%2C%20%22dashOffset%22%3A%20null%2C%20%22fill%22%3A%20true%2C%20%22fillColor%22%3A%20%22red%22%2C%20%22fillOpacity%22%3A%200.2%2C%20%22fillRule%22%3A%20%22evenodd%22%2C%20%22lineCap%22%3A%20%22round%22%2C%20%22lineJoin%22%3A%20%22round%22%2C%20%22opacity%22%3A%201.0%2C%20%22radius%22%3A%205%2C%20%22stroke%22%3A%20true%2C%20%22weight%22%3A%201%7D%0A%20%20%20%20%20%20%20%20%20%20%20%20%29.addTo%28map_84a1d0db66d240eaa2a07caf0804fb1f%29%3B%0A%20%20%20%20%20%20%20%20%0A%20%20%20%20%0A%20%20%20%20%20%20%20%20%20%20%20%20var%20poly_line_a8371c2de66a4380bde9f608680bb253%20%3D%20L.polyline%28%0A%20%20%20%20%20%20%20%20%20%20%20%20%20%20%20%20%5B%5B-23.582274%2C%20-46.6856661%5D%2C%20%5B-23.5853147%2C%20-46.6884743%5D%5D%2C%0A%20%20%20%20%20%20%20%20%20%20%20%20%20%20%20%20%7B%22bubblingMouseEvents%22%3A%20true%2C%20%22color%22%3A%20%22%230A8A9F%22%2C%20%22dashArray%22%3A%20null%2C%20%22dashOffset%22%3A%20null%2C%20%22fill%22%3A%20false%2C%20%22fillColor%22%3A%20%22%230A8A9F%22%2C%20%22fillOpacity%22%3A%200.2%2C%20%22fillRule%22%3A%20%22evenodd%22%2C%20%22lineCap%22%3A%20%22round%22%2C%20%22lineJoin%22%3A%20%22round%22%2C%20%22noClip%22%3A%20false%2C%20%22opacity%22%3A%201.0%2C%20%22smoothFactor%22%3A%201.0%2C%20%22stroke%22%3A%20true%2C%20%22weight%22%3A%201%7D%0A%20%20%20%20%20%20%20%20%20%20%20%20%29.addTo%28map_84a1d0db66d240eaa2a07caf0804fb1f%29%3B%0A%20%20%20%20%20%20%20%20%0A%20%20%20%20%0A%20%20%20%20%20%20%20%20%20%20%20%20var%20poly_line_d8c0e34682864b7389e0237948bedb3e%20%3D%20L.polyline%28%0A%20%20%20%20%20%20%20%20%20%20%20%20%20%20%20%20%5B%5B-23.5853147%2C%20-46.6884743%5D%2C%20%5B-23.5850464%2C%20-46.6910407%5D%5D%2C%0A%20%20%20%20%20%20%20%20%20%20%20%20%20%20%20%20%7B%22bubblingMouseEvents%22%3A%20true%2C%20%22color%22%3A%20%22%230A8A9F%22%2C%20%22dashArray%22%3A%20null%2C%20%22dashOffset%22%3A%20null%2C%20%22fill%22%3A%20false%2C%20%22fillColor%22%3A%20%22%230A8A9F%22%2C%20%22fillOpacity%22%3A%200.2%2C%20%22fillRule%22%3A%20%22evenodd%22%2C%20%22lineCap%22%3A%20%22round%22%2C%20%22lineJoin%22%3A%20%22round%22%2C%20%22noClip%22%3A%20false%2C%20%22opacity%22%3A%201.0%2C%20%22smoothFactor%22%3A%201.0%2C%20%22stroke%22%3A%20true%2C%20%22weight%22%3A%201%7D%0A%20%20%20%20%20%20%20%20%20%20%20%20%29.addTo%28map_84a1d0db66d240eaa2a07caf0804fb1f%29%3B%0A%20%20%20%20%20%20%20%20%0A%20%20%20%20%0A%20%20%20%20%20%20%20%20%20%20%20%20var%20poly_line_3b117b4e16b645d2b893597de97f580e%20%3D%20L.polyline%28%0A%20%20%20%20%20%20%20%20%20%20%20%20%20%20%20%20%5B%5B-23.5850464%2C%20-46.6910407%5D%2C%20%5B-23.5845803%2C%20-46.691775%5D%5D%2C%0A%20%20%20%20%20%20%20%20%20%20%20%20%20%20%20%20%7B%22bubblingMouseEvents%22%3A%20true%2C%20%22color%22%3A%20%22%230A8A9F%22%2C%20%22dashArray%22%3A%20null%2C%20%22dashOffset%22%3A%20null%2C%20%22fill%22%3A%20false%2C%20%22fillColor%22%3A%20%22%230A8A9F%22%2C%20%22fillOpacity%22%3A%200.2%2C%20%22fillRule%22%3A%20%22evenodd%22%2C%20%22lineCap%22%3A%20%22round%22%2C%20%22lineJoin%22%3A%20%22round%22%2C%20%22noClip%22%3A%20false%2C%20%22opacity%22%3A%201.0%2C%20%22smoothFactor%22%3A%201.0%2C%20%22stroke%22%3A%20true%2C%20%22weight%22%3A%201%7D%0A%20%20%20%20%20%20%20%20%20%20%20%20%29.addTo%28map_84a1d0db66d240eaa2a07caf0804fb1f%29%3B%0A%20%20%20%20%20%20%20%20%0A%20%20%20%20%0A%20%20%20%20%20%20%20%20%20%20%20%20var%20poly_line_fb3f290ca5c94599b5ca01e0044fea35%20%3D%20L.polyline%28%0A%20%20%20%20%20%20%20%20%20%20%20%20%20%20%20%20%5B%5B-23.5845803%2C%20-46.691775%5D%2C%20%5B-23.586483%2C%20-46.6955541%5D%5D%2C%0A%20%20%20%20%20%20%20%20%20%20%20%20%20%20%20%20%7B%22bubblingMouseEvents%22%3A%20true%2C%20%22color%22%3A%20%22%230A8A9F%22%2C%20%22dashArray%22%3A%20null%2C%20%22dashOffset%22%3A%20null%2C%20%22fill%22%3A%20false%2C%20%22fillColor%22%3A%20%22%230A8A9F%22%2C%20%22fillOpacity%22%3A%200.2%2C%20%22fillRule%22%3A%20%22evenodd%22%2C%20%22lineCap%22%3A%20%22round%22%2C%20%22lineJoin%22%3A%20%22round%22%2C%20%22noClip%22%3A%20false%2C%20%22opacity%22%3A%201.0%2C%20%22smoothFactor%22%3A%201.0%2C%20%22stroke%22%3A%20true%2C%20%22weight%22%3A%201%7D%0A%20%20%20%20%20%20%20%20%20%20%20%20%29.addTo%28map_84a1d0db66d240eaa2a07caf0804fb1f%29%3B%0A%20%20%20%20%20%20%20%20%0A%20%20%20%20%0A%20%20%20%20%20%20%20%20%20%20%20%20var%20poly_line_6ad58007b785476a8cf94386c5f915fc%20%3D%20L.polyline%28%0A%20%20%20%20%20%20%20%20%20%20%20%20%20%20%20%20%5B%5B-23.586483%2C%20-46.6955541%5D%2C%20%5B-23.5841196%2C%20-46.6989807%5D%5D%2C%0A%20%20%20%20%20%20%20%20%20%20%20%20%20%20%20%20%7B%22bubblingMouseEvents%22%3A%20true%2C%20%22color%22%3A%20%22%230A8A9F%22%2C%20%22dashArray%22%3A%20null%2C%20%22dashOffset%22%3A%20null%2C%20%22fill%22%3A%20false%2C%20%22fillColor%22%3A%20%22%230A8A9F%22%2C%20%22fillOpacity%22%3A%200.2%2C%20%22fillRule%22%3A%20%22evenodd%22%2C%20%22lineCap%22%3A%20%22round%22%2C%20%22lineJoin%22%3A%20%22round%22%2C%20%22noClip%22%3A%20false%2C%20%22opacity%22%3A%201.0%2C%20%22smoothFactor%22%3A%201.0%2C%20%22stroke%22%3A%20true%2C%20%22weight%22%3A%201%7D%0A%20%20%20%20%20%20%20%20%20%20%20%20%29.addTo%28map_84a1d0db66d240eaa2a07caf0804fb1f%29%3B%0A%20%20%20%20%20%20%20%20%0A%20%20%20%20%0A%20%20%20%20%20%20%20%20%20%20%20%20var%20poly_line_e2b15d1197024ec19a6c7f557a48a932%20%3D%20L.polyline%28%0A%20%20%20%20%20%20%20%20%20%20%20%20%20%20%20%20%5B%5B-23.5841196%2C%20-46.6989807%5D%2C%20%5B-23.5775489%2C%20-46.7020922%5D%5D%2C%0A%20%20%20%20%20%20%20%20%20%20%20%20%20%20%20%20%7B%22bubblingMouseEvents%22%3A%20true%2C%20%22color%22%3A%20%22%230A8A9F%22%2C%20%22dashArray%22%3A%20null%2C%20%22dashOffset%22%3A%20null%2C%20%22fill%22%3A%20false%2C%20%22fillColor%22%3A%20%22%230A8A9F%22%2C%20%22fillOpacity%22%3A%200.2%2C%20%22fillRule%22%3A%20%22evenodd%22%2C%20%22lineCap%22%3A%20%22round%22%2C%20%22lineJoin%22%3A%20%22round%22%2C%20%22noClip%22%3A%20false%2C%20%22opacity%22%3A%201.0%2C%20%22smoothFactor%22%3A%201.0%2C%20%22stroke%22%3A%20true%2C%20%22weight%22%3A%201%7D%0A%20%20%20%20%20%20%20%20%20%20%20%20%29.addTo%28map_84a1d0db66d240eaa2a07caf0804fb1f%29%3B%0A%20%20%20%20%20%20%20%20%0A%20%20%20%20%0A%20%20%20%20%20%20%20%20%20%20%20%20var%20poly_line_0019e2ee643e43feaec76373c4d9a206%20%3D%20L.polyline%28%0A%20%20%20%20%20%20%20%20%20%20%20%20%20%20%20%20%5B%5B-23.5775489%2C%20-46.7020922%5D%2C%20%5B-23.5737421%2C%20-46.7033941%5D%5D%2C%0A%20%20%20%20%20%20%20%20%20%20%20%20%20%20%20%20%7B%22bubblingMouseEvents%22%3A%20true%2C%20%22color%22%3A%20%22%230A8A9F%22%2C%20%22dashArray%22%3A%20null%2C%20%22dashOffset%22%3A%20null%2C%20%22fill%22%3A%20false%2C%20%22fillColor%22%3A%20%22%230A8A9F%22%2C%20%22fillOpacity%22%3A%200.2%2C%20%22fillRule%22%3A%20%22evenodd%22%2C%20%22lineCap%22%3A%20%22round%22%2C%20%22lineJoin%22%3A%20%22round%22%2C%20%22noClip%22%3A%20false%2C%20%22opacity%22%3A%201.0%2C%20%22smoothFactor%22%3A%201.0%2C%20%22stroke%22%3A%20true%2C%20%22weight%22%3A%201%7D%0A%20%20%20%20%20%20%20%20%20%20%20%20%29.addTo%28map_84a1d0db66d240eaa2a07caf0804fb1f%29%3B%0A%20%20%20%20%20%20%20%20%0A%20%20%20%20%0A%20%20%20%20%20%20%20%20%20%20%20%20var%20poly_line_7b7de56b7707482eb2b4fbae6d122462%20%3D%20L.polyline%28%0A%20%20%20%20%20%20%20%20%20%20%20%20%20%20%20%20%5B%5B-23.5737421%2C%20-46.7033941%5D%2C%20%5B-23.5713257%2C%20-46.7052409%5D%5D%2C%0A%20%20%20%20%20%20%20%20%20%20%20%20%20%20%20%20%7B%22bubblingMouseEvents%22%3A%20true%2C%20%22color%22%3A%20%22%230A8A9F%22%2C%20%22dashArray%22%3A%20null%2C%20%22dashOffset%22%3A%20null%2C%20%22fill%22%3A%20false%2C%20%22fillColor%22%3A%20%22%230A8A9F%22%2C%20%22fillOpacity%22%3A%200.2%2C%20%22fillRule%22%3A%20%22evenodd%22%2C%20%22lineCap%22%3A%20%22round%22%2C%20%22lineJoin%22%3A%20%22round%22%2C%20%22noClip%22%3A%20false%2C%20%22opacity%22%3A%201.0%2C%20%22smoothFactor%22%3A%201.0%2C%20%22stroke%22%3A%20true%2C%20%22weight%22%3A%201%7D%0A%20%20%20%20%20%20%20%20%20%20%20%20%29.addTo%28map_84a1d0db66d240eaa2a07caf0804fb1f%29%3B%0A%20%20%20%20%20%20%20%20%0A%20%20%20%20%0A%20%20%20%20%20%20%20%20%20%20%20%20var%20poly_line_c42821a8372d40ab88580c667d0ce12a%20%3D%20L.polyline%28%0A%20%20%20%20%20%20%20%20%20%20%20%20%20%20%20%20%5B%5B-23.5713257%2C%20-46.7052409%5D%2C%20%5B-23.5587264%2C%20-46.7102337%5D%5D%2C%0A%20%20%20%20%20%20%20%20%20%20%20%20%20%20%20%20%7B%22bubblingMouseEvents%22%3A%20true%2C%20%22color%22%3A%20%22%230A8A9F%22%2C%20%22dashArray%22%3A%20null%2C%20%22dashOffset%22%3A%20null%2C%20%22fill%22%3A%20false%2C%20%22fillColor%22%3A%20%22%230A8A9F%22%2C%20%22fillOpacity%22%3A%200.2%2C%20%22fillRule%22%3A%20%22evenodd%22%2C%20%22lineCap%22%3A%20%22round%22%2C%20%22lineJoin%22%3A%20%22round%22%2C%20%22noClip%22%3A%20false%2C%20%22opacity%22%3A%201.0%2C%20%22smoothFactor%22%3A%201.0%2C%20%22stroke%22%3A%20true%2C%20%22weight%22%3A%201%7D%0A%20%20%20%20%20%20%20%20%20%20%20%20%29.addTo%28map_84a1d0db66d240eaa2a07caf0804fb1f%29%3B%0A%20%20%20%20%20%20%20%20%0A%3C/script%3E onload=\"this.contentDocument.open();this.contentDocument.write(    decodeURIComponent(this.getAttribute('data-html')));this.contentDocument.close();\" allowfullscreen webkitallowfullscreen mozallowfullscreen></iframe></div></div>"
      ],
      "text/plain": [
       "<folium.folium.Map at 0x1a6324671f0>"
      ]
     },
     "execution_count": 44,
     "metadata": {},
     "output_type": "execute_result"
    }
   ],
   "source": [
    "df.dropna(how='any', inplace=True)\n",
    "\n",
    "for index, row in tqdm(df.iterrows(), total=df.shape[0]):\n",
    "    list_coordinates = [(row['latitude'], row['longitude']), (row['latitude_next'], row['longitude_next'])]\n",
    "    print(list_coordinates)\n",
    "\n",
    "    line = folium.PolyLine(\n",
    "    list_coordinates,\n",
    "    weight=1,\n",
    "    color='#0A8A9F'\n",
    ").add_to(map_2try)\n",
    "\n",
    "map_2try"
   ]
  },
  {
   "cell_type": "markdown",
   "metadata": {},
   "source": [
    "### Conclusion\n",
    "GoogleMaps coordinates are not precise enough for OpenRouteService to be able to perceive the right route between two points. The coordinates are a little off the mark, often resulting in cenarios when two consecutives geo points are pinned in opposide lanes of the same road or even in different roads. When analysing specifically the points, that is not an issue, although it is a problematic when using OpenRouteService API to estimate a route between the points. \n",
    "\n",
    "In a pragmatic way, since GoogleMaps data are available in a relatively high frequency (2 to 3 minutes), it is reasonable to directly connect the data points directly. Comparing a sample of 9 datapoints using both methods shows that directly connecting the GoogleMaps data points provide an acceptable margin of error, resulting in a better visualization overall.\n",
    "\n",
    "> In a conclusion, the use of OpenRouteService would not be advisable in this context."
   ]
  }
 ],
 "metadata": {
  "interpreter": {
   "hash": "5069c40d0919acfc919ba69b4a4d6ed4ea13303c3fbc9d067e494b47178b3648"
  },
  "kernelspec": {
   "display_name": "Python 3.9.6 64-bit",
   "language": "python",
   "name": "python3"
  },
  "language_info": {
   "codemirror_mode": {
    "name": "ipython",
    "version": 3
   },
   "file_extension": ".py",
   "mimetype": "text/x-python",
   "name": "python",
   "nbconvert_exporter": "python",
   "pygments_lexer": "ipython3",
   "version": "3.9.6"
  },
  "orig_nbformat": 4
 },
 "nbformat": 4,
 "nbformat_minor": 2
}
