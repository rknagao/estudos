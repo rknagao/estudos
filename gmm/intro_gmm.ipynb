{
 "cells": [
  {
   "attachments": {},
   "cell_type": "markdown",
   "metadata": {},
   "source": [
    "# Gaussian Mixture Model"
   ]
  },
  {
   "attachments": {},
   "cell_type": "markdown",
   "metadata": {},
   "source": [
    "Key takeaways:\n",
    "- the problem start with a univariate sample that should be a normal distribution but does not have a exact fit. There is suspicions of the sample being the product of subpopulations (ex.: weight of a person being a combination based on age, height and sex)\n",
    "- there is not a 100% way to know which factor affected more the sample. For that, instead of attributing it like a binary, it is a probability.\n",
    "- even with multinormal distribution, it is possible to determine which normal distribution have influenced more a specific subsample. But to do so, the parameters (mean and variance) is needed (it is the same with \"I can't find work because I don't have experience, and I don't have experience because I can't find work\".\n",
    "- first we use a pre-determined parameters of pre-determined number of subdistributions, second the log of p.d.f. is calculated (or log-likelihood), third each sample is attributed to a subdistribution. This processs is called Expectation Maximization, and it is repeated until a specific condition in achieved (be a maximum number of iterations or a small enough change in log-likelihood)"
   ]
  },
  {
   "cell_type": "code",
   "execution_count": 252,
   "metadata": {},
   "outputs": [],
   "source": [
    "import matplotlib.pyplot as plt\n",
    "import numpy as np\n",
    "import pandas as pd\n",
    "from scipy.stats import multivariate_normal\n",
    "from scipy.stats import shapiro \n",
    "import seaborn as sns"
   ]
  },
  {
   "attachments": {},
   "cell_type": "markdown",
   "metadata": {},
   "source": [
    "## Creating the dataset"
   ]
  },
  {
   "attachments": {},
   "cell_type": "markdown",
   "metadata": {},
   "source": [
    "Let's create a example dataset of age expectancy and other variables that is associated with it. For the sake of education, the basis assumption will be that age expectancy is a result of (1) exercise, (2) stress and (3) prevention by checkups.\n",
    "\n",
    "First we will create the associated variables, and then use them to create the age expectancy sample."
   ]
  },
  {
   "cell_type": "code",
   "execution_count": 253,
   "metadata": {},
   "outputs": [],
   "source": [
    "df = pd.DataFrame(columns=['exercise', 'stress', 'prevention'])"
   ]
  },
  {
   "attachments": {},
   "cell_type": "markdown",
   "metadata": {},
   "source": [
    "### Exercise"
   ]
  },
  {
   "attachments": {},
   "cell_type": "markdown",
   "metadata": {},
   "source": [
    "Definition: average hours of moderate intensity activities done in a weekly basis."
   ]
  },
  {
   "cell_type": "code",
   "execution_count": 254,
   "metadata": {},
   "outputs": [],
   "source": [
    "mean = 5\n",
    "std = 2\n",
    "\n",
    "df['exercise'] = np.random.normal(mean, std, 100).round(2)"
   ]
  },
  {
   "attachments": {},
   "cell_type": "markdown",
   "metadata": {},
   "source": [
    "### Stress"
   ]
  },
  {
   "attachments": {},
   "cell_type": "markdown",
   "metadata": {},
   "source": [
    "Definition: made up index of stress levels."
   ]
  },
  {
   "cell_type": "code",
   "execution_count": 255,
   "metadata": {},
   "outputs": [],
   "source": [
    "mean = 7\n",
    "std = 3\n",
    "\n",
    "df['stress'] = np.random.normal(mean, std, 100).round(2)"
   ]
  },
  {
   "attachments": {},
   "cell_type": "markdown",
   "metadata": {},
   "source": [
    "### Prevention"
   ]
  },
  {
   "attachments": {},
   "cell_type": "markdown",
   "metadata": {},
   "source": [
    "Definition: number of months between visits to the doctor."
   ]
  },
  {
   "cell_type": "code",
   "execution_count": 256,
   "metadata": {},
   "outputs": [],
   "source": [
    "mean = 12\n",
    "std = 3\n",
    "\n",
    "df['prevention'] = np.random.normal(mean, std, 100).round(2)"
   ]
  },
  {
   "cell_type": "code",
   "execution_count": 257,
   "metadata": {},
   "outputs": [
    {
     "data": {
      "text/html": [
       "<div>\n",
       "<style scoped>\n",
       "    .dataframe tbody tr th:only-of-type {\n",
       "        vertical-align: middle;\n",
       "    }\n",
       "\n",
       "    .dataframe tbody tr th {\n",
       "        vertical-align: top;\n",
       "    }\n",
       "\n",
       "    .dataframe thead th {\n",
       "        text-align: right;\n",
       "    }\n",
       "</style>\n",
       "<table border=\"1\" class=\"dataframe\">\n",
       "  <thead>\n",
       "    <tr style=\"text-align: right;\">\n",
       "      <th></th>\n",
       "      <th>exercise</th>\n",
       "      <th>stress</th>\n",
       "      <th>prevention</th>\n",
       "    </tr>\n",
       "  </thead>\n",
       "  <tbody>\n",
       "    <tr>\n",
       "      <th>94</th>\n",
       "      <td>6.35</td>\n",
       "      <td>6.55</td>\n",
       "      <td>16.22</td>\n",
       "    </tr>\n",
       "    <tr>\n",
       "      <th>77</th>\n",
       "      <td>4.97</td>\n",
       "      <td>7.01</td>\n",
       "      <td>12.03</td>\n",
       "    </tr>\n",
       "    <tr>\n",
       "      <th>39</th>\n",
       "      <td>1.97</td>\n",
       "      <td>1.23</td>\n",
       "      <td>9.64</td>\n",
       "    </tr>\n",
       "    <tr>\n",
       "      <th>17</th>\n",
       "      <td>-0.18</td>\n",
       "      <td>12.23</td>\n",
       "      <td>13.34</td>\n",
       "    </tr>\n",
       "    <tr>\n",
       "      <th>2</th>\n",
       "      <td>5.54</td>\n",
       "      <td>1.68</td>\n",
       "      <td>14.52</td>\n",
       "    </tr>\n",
       "  </tbody>\n",
       "</table>\n",
       "</div>"
      ],
      "text/plain": [
       "    exercise  stress  prevention\n",
       "94      6.35    6.55       16.22\n",
       "77      4.97    7.01       12.03\n",
       "39      1.97    1.23        9.64\n",
       "17     -0.18   12.23       13.34\n",
       "2       5.54    1.68       14.52"
      ]
     },
     "execution_count": 257,
     "metadata": {},
     "output_type": "execute_result"
    }
   ],
   "source": [
    "df.sample(5)"
   ]
  },
  {
   "attachments": {},
   "cell_type": "markdown",
   "metadata": {},
   "source": [
    "### Age expectancy"
   ]
  },
  {
   "attachments": {},
   "cell_type": "markdown",
   "metadata": {},
   "source": [
    "It is to be expected that exercise and prevention have a positive effect in age expectancy, while stress have a negative effect. Supposed the formula to age expectancy is given by:\n",
    "\n",
    "\n"
   ]
  },
  {
   "cell_type": "code",
   "execution_count": 258,
   "metadata": {},
   "outputs": [],
   "source": [
    "df['age'] = (df['exercise'] * 8 - df['stress'] * 3 + df['prevention'] * 3)"
   ]
  },
  {
   "cell_type": "code",
   "execution_count": 259,
   "metadata": {},
   "outputs": [
    {
     "data": {
      "text/html": [
       "<div>\n",
       "<style scoped>\n",
       "    .dataframe tbody tr th:only-of-type {\n",
       "        vertical-align: middle;\n",
       "    }\n",
       "\n",
       "    .dataframe tbody tr th {\n",
       "        vertical-align: top;\n",
       "    }\n",
       "\n",
       "    .dataframe thead th {\n",
       "        text-align: right;\n",
       "    }\n",
       "</style>\n",
       "<table border=\"1\" class=\"dataframe\">\n",
       "  <thead>\n",
       "    <tr style=\"text-align: right;\">\n",
       "      <th></th>\n",
       "      <th>exercise</th>\n",
       "      <th>stress</th>\n",
       "      <th>prevention</th>\n",
       "      <th>age</th>\n",
       "    </tr>\n",
       "  </thead>\n",
       "  <tbody>\n",
       "    <tr>\n",
       "      <th>count</th>\n",
       "      <td>100.00</td>\n",
       "      <td>100.00</td>\n",
       "      <td>100.00</td>\n",
       "      <td>100.00</td>\n",
       "    </tr>\n",
       "    <tr>\n",
       "      <th>mean</th>\n",
       "      <td>5.02</td>\n",
       "      <td>6.76</td>\n",
       "      <td>11.95</td>\n",
       "      <td>55.69</td>\n",
       "    </tr>\n",
       "    <tr>\n",
       "      <th>std</th>\n",
       "      <td>2.31</td>\n",
       "      <td>3.39</td>\n",
       "      <td>2.82</td>\n",
       "      <td>23.11</td>\n",
       "    </tr>\n",
       "    <tr>\n",
       "      <th>min</th>\n",
       "      <td>-1.63</td>\n",
       "      <td>-2.63</td>\n",
       "      <td>5.46</td>\n",
       "      <td>-2.90</td>\n",
       "    </tr>\n",
       "    <tr>\n",
       "      <th>25%</th>\n",
       "      <td>3.55</td>\n",
       "      <td>4.90</td>\n",
       "      <td>10.01</td>\n",
       "      <td>40.20</td>\n",
       "    </tr>\n",
       "    <tr>\n",
       "      <th>50%</th>\n",
       "      <td>5.20</td>\n",
       "      <td>6.52</td>\n",
       "      <td>11.92</td>\n",
       "      <td>55.21</td>\n",
       "    </tr>\n",
       "    <tr>\n",
       "      <th>75%</th>\n",
       "      <td>6.38</td>\n",
       "      <td>9.11</td>\n",
       "      <td>14.23</td>\n",
       "      <td>72.76</td>\n",
       "    </tr>\n",
       "    <tr>\n",
       "      <th>max</th>\n",
       "      <td>10.05</td>\n",
       "      <td>14.78</td>\n",
       "      <td>18.09</td>\n",
       "      <td>106.56</td>\n",
       "    </tr>\n",
       "  </tbody>\n",
       "</table>\n",
       "</div>"
      ],
      "text/plain": [
       "       exercise  stress  prevention     age\n",
       "count    100.00  100.00      100.00  100.00\n",
       "mean       5.02    6.76       11.95   55.69\n",
       "std        2.31    3.39        2.82   23.11\n",
       "min       -1.63   -2.63        5.46   -2.90\n",
       "25%        3.55    4.90       10.01   40.20\n",
       "50%        5.20    6.52       11.92   55.21\n",
       "75%        6.38    9.11       14.23   72.76\n",
       "max       10.05   14.78       18.09  106.56"
      ]
     },
     "execution_count": 259,
     "metadata": {},
     "output_type": "execute_result"
    }
   ],
   "source": [
    "df.describe().round(2)"
   ]
  },
  {
   "attachments": {},
   "cell_type": "markdown",
   "metadata": {},
   "source": [
    "*obs: negative values does not make sense in real world, although it will be kept for educational purposes.*"
   ]
  },
  {
   "attachments": {},
   "cell_type": "markdown",
   "metadata": {},
   "source": [
    "Question: does `age` fit a normal distributions?"
   ]
  },
  {
   "cell_type": "code",
   "execution_count": 260,
   "metadata": {},
   "outputs": [
    {
     "data": {
      "text/plain": [
       "<AxesSubplot:xlabel='age', ylabel='Count'>"
      ]
     },
     "execution_count": 260,
     "metadata": {},
     "output_type": "execute_result"
    },
    {
     "data": {
      "image/png": "[encoded data removed]",
      "text/plain": [
       "<Figure size 432x288 with 1 Axes>"
      ]
     },
     "metadata": {
      "needs_background": "light"
     },
     "output_type": "display_data"
    }
   ],
   "source": [
    "sns.histplot(df, x='age', bins=20, kde=True)"
   ]
  },
  {
   "cell_type": "code",
   "execution_count": 261,
   "metadata": {},
   "outputs": [
    {
     "name": "stdout",
     "output_type": "stream",
     "text": [
      "No, statistically speaking, it is not normal distributed.\n"
     ]
    }
   ],
   "source": [
    "_, p = shapiro(df['age'])\n",
    "\n",
    "if (p < 0.05):\n",
    "    print('Yes, statistically speaking, it is normal distributed.')\n",
    "else:\n",
    "    print('No, statistically speaking, it is not normal distributed.')"
   ]
  },
  {
   "attachments": {},
   "cell_type": "markdown",
   "metadata": {},
   "source": [
    "From the result above, the result sample does not necessarily is normal distributed, even when created from other normal distribution subsamples."
   ]
  },
  {
   "attachments": {},
   "cell_type": "markdown",
   "metadata": {},
   "source": [
    "## Reviewing required concepts "
   ]
  },
  {
   "attachments": {},
   "cell_type": "markdown",
   "metadata": {},
   "source": [
    "Before proceding, this topic will cover required concepts used during the notebook."
   ]
  },
  {
   "cell_type": "code",
   "execution_count": 55,
   "metadata": {},
   "outputs": [
    {
     "data": {
      "text/plain": [
       "<AxesSubplot:ylabel='Count'>"
      ]
     },
     "execution_count": 55,
     "metadata": {},
     "output_type": "execute_result"
    },
    {
     "data": {
      "image/png": "[encoded data removed]",
      "text/plain": [
       "<Figure size 432x288 with 1 Axes>"
      ]
     },
     "metadata": {
      "needs_background": "light"
     },
     "output_type": "display_data"
    }
   ],
   "source": [
    "# Example data\n",
    "a = np.random.normal(0, 5, 100).round(2)\n",
    "b = np.random.normal(0, 5, 100).round(2)\n",
    "c = np.random.normal(0, 5, 100).round(2)\n",
    "\n",
    "sns.histplot(a, color='red')\n",
    "sns.histplot(b, color='cyan') \n",
    "sns.histplot(c, color='purple') "
   ]
  },
  {
   "attachments": {},
   "cell_type": "markdown",
   "metadata": {},
   "source": [
    "### Covariance matrix"
   ]
  },
  {
   "cell_type": "code",
   "execution_count": 56,
   "metadata": {},
   "outputs": [],
   "source": [
    "# Set up the general case.\n",
    "def variation(array_a, array_b):\n",
    "    mean_a = array_a.mean()\n",
    "    mean_b = array_b.mean()\n",
    "    x = 1 / (len(array_a) - 1) * sum((array_a - mean_a) * (array_b - mean_b))\n",
    "    print(x)"
   ]
  },
  {
   "cell_type": "code",
   "execution_count": 57,
   "metadata": {},
   "outputs": [
    {
     "name": "stdout",
     "output_type": "stream",
     "text": [
      "19.712449656565653\n"
     ]
    },
    {
     "data": {
      "text/plain": [
       "19.712449656565656"
      ]
     },
     "execution_count": 57,
     "metadata": {},
     "output_type": "execute_result"
    }
   ],
   "source": [
    "# Variance: how much a sample varies.\n",
    "variation(a, a)\n",
    "\n",
    "np.var(a, ddof=1)"
   ]
  },
  {
   "cell_type": "code",
   "execution_count": 58,
   "metadata": {},
   "outputs": [
    {
     "name": "stdout",
     "output_type": "stream",
     "text": [
      "-2.686434606060605\n"
     ]
    },
    {
     "data": {
      "text/plain": [
       "array([[19.71244966, -2.68643461],\n",
       "       [-2.68643461, 29.47580819]])"
      ]
     },
     "execution_count": 58,
     "metadata": {},
     "output_type": "execute_result"
    }
   ],
   "source": [
    "# Covariance: how much two samples varies together.\n",
    "variation(a, b)\n",
    "\n",
    "np.cov(a, b)"
   ]
  },
  {
   "cell_type": "code",
   "execution_count": 59,
   "metadata": {},
   "outputs": [
    {
     "data": {
      "text/plain": [
       "array([[19.71244966, -2.68643461, -0.27344127],\n",
       "       [-2.68643461, 29.47580819,  0.04766637],\n",
       "       [-0.27344127,  0.04766637, 26.26351243]])"
      ]
     },
     "execution_count": 59,
     "metadata": {},
     "output_type": "execute_result"
    }
   ],
   "source": [
    "# Covariance matrix: how much multiple samples varies together\n",
    "abc = np.stack([a, b, c], axis=1)\n",
    "np.cov(abc.T)"
   ]
  },
  {
   "attachments": {},
   "cell_type": "markdown",
   "metadata": {},
   "source": [
    "### Multivariate gaussian"
   ]
  },
  {
   "attachments": {},
   "cell_type": "markdown",
   "metadata": {},
   "source": [
    "$f(x) = \\frac{1}{\\sqrt{(2 \\pi)^k \\det \\Sigma}}\n",
    "       \\exp\\left( -\\frac{1}{2} (x - \\mu)^T \\Sigma^{-1} (x - \\mu) \\right)$"
   ]
  },
  {
   "cell_type": "code",
   "execution_count": 165,
   "metadata": {},
   "outputs": [
    {
     "data": {
      "text/plain": [
       "array([-0.9478, -0.4067])"
      ]
     },
     "metadata": {},
     "output_type": "display_data"
    },
    {
     "data": {
      "text/plain": [
       "array([[19.71244966, -2.68643461],\n",
       "       [-2.68643461, 29.47580819]])"
      ]
     },
     "metadata": {},
     "output_type": "display_data"
    }
   ],
   "source": [
    "# Example data\n",
    "mean_array = np.array([a.mean(), b.mean()])\n",
    "display(mean_array)\n",
    "\n",
    "ab = np.stack([a, b], axis=1)\n",
    "cov_matrix = np.cov(ab.T)\n",
    "display(cov_matrix)"
   ]
  },
  {
   "cell_type": "code",
   "execution_count": 161,
   "metadata": {},
   "outputs": [
    {
     "data": {
      "text/plain": [
       "0.0054051044978481845"
      ]
     },
     "execution_count": 161,
     "metadata": {},
     "output_type": "execute_result"
    }
   ],
   "source": [
    "def gaussian_prob_density_function(array, mean, cov):\n",
    "    size = len(array)\n",
    "    escalar_part = 1/((2 * np.pi) ** size * np.linalg.det(cov)) ** (1/2)\n",
    "    exp_part = np.exp(-1/2 * np.matmul(np.matmul((array - mean).reshape(1, size), np.linalg.inv(cov)), array - mean))\n",
    "    pdf = escalar_part * exp_part\n",
    "\n",
    "    return pdf[0]\n",
    "\n",
    "gaussian_prob_density_function(array=ab[0], mean=mean_array, cov=cov_matrix)"
   ]
  },
  {
   "cell_type": "code",
   "execution_count": 166,
   "metadata": {},
   "outputs": [
    {
     "data": {
      "text/plain": [
       "0.005405104497848185"
      ]
     },
     "execution_count": 166,
     "metadata": {},
     "output_type": "execute_result"
    }
   ],
   "source": [
    "# Check\n",
    "mg = multivariate_normal(mean=mean_array, cov=cov_matrix)\n",
    "mg.pdf(ab[0])"
   ]
  },
  {
   "cell_type": "code",
   "execution_count": 167,
   "metadata": {},
   "outputs": [
    {
     "data": {
      "text/plain": [
       "<matplotlib.contour.QuadContourSet at 0x27ef35378e0>"
      ]
     },
     "execution_count": 167,
     "metadata": {},
     "output_type": "execute_result"
    },
    {
     "data": {
      "image/png": "[encoded data removed]",
      "text/plain": [
       "<Figure size 432x288 with 1 Axes>"
      ]
     },
     "metadata": {
      "needs_background": "light"
     },
     "output_type": "display_data"
    }
   ],
   "source": [
    "x, y = np.mgrid[-10:10:1, -10:10:1]\n",
    "pos = np.dstack((x, y))\n",
    "mn = multivariate_normal(mean=mean_array, cov=cov_matrix)\n",
    "fig2 = plt.figure()\n",
    "ax2 = fig2.add_subplot(111)\n",
    "ax2.contourf(x, y, mn.pdf(pos))"
   ]
  },
  {
   "attachments": {},
   "cell_type": "markdown",
   "metadata": {},
   "source": [
    "## Experimenting on 2D"
   ]
  },
  {
   "attachments": {},
   "cell_type": "markdown",
   "metadata": {},
   "source": [
    "### Normal distributed variables"
   ]
  },
  {
   "attachments": {},
   "cell_type": "markdown",
   "metadata": {},
   "source": [
    "### Non-normal distributed variables"
   ]
  },
  {
   "attachments": {},
   "cell_type": "markdown",
   "metadata": {},
   "source": [
    "### Highly correlated variables"
   ]
  },
  {
   "attachments": {},
   "cell_type": "markdown",
   "metadata": {},
   "source": [
    "### Non correlated variables"
   ]
  }
 ],
 "metadata": {
  "kernelspec": {
   "display_name": "Python 3",
   "language": "python",
   "name": "python3"
  },
  "language_info": {
   "codemirror_mode": {
    "name": "ipython",
    "version": 3
   },
   "file_extension": ".py",
   "mimetype": "text/x-python",
   "name": "python",
   "nbconvert_exporter": "python",
   "pygments_lexer": "ipython3",
   "version": "3.10.4"
  },
  "orig_nbformat": 4,
  "vscode": {
   "interpreter": {
    "hash": "7d7662bde5678ddf41fb482e2cda39dd85fc62406be2c88b1ebdc7b78e575873"
   }
  }
 },
 "nbformat": 4,
 "nbformat_minor": 2
}
