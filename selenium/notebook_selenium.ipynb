{
 "cells": [
  {
   "attachments": {},
   "cell_type": "markdown",
   "metadata": {},
   "source": [
    "# Selenium\n",
    "\n",
    "Objetivo: explorar a biblioteca Selenium para acessar o site da CVM e extrair o relatório financeiro Formulário de Referência."
   ]
  },
  {
   "cell_type": "code",
   "execution_count": 162,
   "metadata": {},
   "outputs": [],
   "source": [
    "from random import randint\n",
    "from selenium import webdriver\n",
    "from selenium.webdriver.common.action_chains import ActionChains\n",
    "from selenium.webdriver.common.by import By\n",
    "from selenium.webdriver.common.keys import Keys\n",
    "from selenium.webdriver.support.ui import WebDriverWait\n",
    "from selenium.webdriver.support import expected_conditions\n",
    "\n",
    "import os\n",
    "import pandas as pd\n",
    "from time import sleep"
   ]
  },
  {
   "cell_type": "code",
   "execution_count": 46,
   "metadata": {},
   "outputs": [
    {
     "name": "stdout",
     "output_type": "stream",
     "text": [
      "4.10.0\n"
     ]
    }
   ],
   "source": [
    "print(webdriver.__version__)"
   ]
  },
  {
   "cell_type": "code",
   "execution_count": 173,
   "metadata": {},
   "outputs": [],
   "source": [
    "# Iniciando o navegador.\n",
    "driver = webdriver.Chrome()\n",
    "\n",
    "# Acessar o site da CVM.\n",
    "link = 'https://www.rad.cvm.gov.br/ENET/frmConsultaExternaCVM.aspx'\n",
    "driver.get(link)\n",
    "assert driver.title == 'Consulta de Documentos de Companhias Abertas'\n",
    "\n",
    "# Simula uma pausa.\n",
    "#wait_time = randint(3, 6)\n",
    "#driver.implicitly_wait(wait_time)\n",
    "driver.implicitly_wait(10)"
   ]
  },
  {
   "cell_type": "code",
   "execution_count": 174,
   "metadata": {},
   "outputs": [],
   "source": [
    "# Escolher o relatório Formulário de Referência.\n",
    "text_box_documento = driver.find_element(By.ID, 'cboCategorias_chosen_input')\n",
    "driver.implicitly_wait(5)\n",
    "\n",
    "text_box_documento.send_keys('FRE - Formulário de Referência')\n",
    "driver.implicitly_wait(5)\n",
    "text_box_documento.send_keys('\\ue007')"
   ]
  },
  {
   "cell_type": "code",
   "execution_count": 175,
   "metadata": {},
   "outputs": [],
   "source": [
    "# Clicar no botão 'No período' para habilitar a seleção da data.\n",
    "radio_button_periodo = driver.find_element(By.ID, 'rdPeriodo')\n",
    "radio_button_periodo.click()\n",
    "driver.implicitly_wait(5)\n",
    "\n",
    "# Selecionar a data de início\n",
    "text_box_dt_inicio = driver.find_element(By.ID, 'txtDataIni')\n",
    "#text_box_dt_inicio.click()\n",
    "driver.implicitly_wait(5)\n",
    "text_box_dt_inicio.send_keys('01012021')\n",
    "\n",
    "# Selecionar a data de início\n",
    "text_box_dt_inicio = driver.find_element(By.ID, 'txtDataFim')\n",
    "#text_box_dt_inicio.click()\n",
    "driver.implicitly_wait(5)\n",
    "text_box_dt_inicio.send_keys('31012021')"
   ]
  },
  {
   "cell_type": "code",
   "execution_count": 50,
   "metadata": {},
   "outputs": [],
   "source": [
    "# Selecionar a empresa (opcional)\n",
    "#text_box_empresa = driver.find_element(By.ID, 'cboEmpresa')\n",
    "#text_box_empresa.send_keys('Porto Seguro S.A.')\n",
    "#driver.implicitly_wait(3)\n",
    "#text_box_empresa.send_keys(Keys.DOWN)\n",
    "#driver.implicitly_wait(5)\n",
    "#text_box_empresa.send_keys('\\ue007')\n",
    "#text_box_empresa.send_keys(Keys.RETURN)\n",
    "\n",
    "# não funcionou."
   ]
  },
  {
   "cell_type": "code",
   "execution_count": 176,
   "metadata": {},
   "outputs": [],
   "source": [
    "# Apertar botão de execução da consulta.\n",
    "button_consulta = driver.find_element(By.ID, 'btnConsulta')\n",
    "button_consulta.click()"
   ]
  },
  {
   "cell_type": "code",
   "execution_count": 177,
   "metadata": {},
   "outputs": [
    {
     "name": "stdout",
     "output_type": "stream",
     "text": [
      "LOCAWEB SERVIÇOS DE INTERNET S.A.\n",
      "FRE - Formulário de Referência\n",
      "2020\n",
      "30/01/2021 22:12\n"
     ]
    }
   ],
   "source": [
    "# Retrieve company name, report type and year.\n",
    "registry_elements = driver.find_elements(By.CSS_SELECTOR, \"tr[role = 'row'] > td\")\n",
    "\n",
    "# Data is organized by the schema below:\n",
    "# name: 1 + 11 * x\n",
    "list_id_name = [1 + 11 * x for x in range(100)]\n",
    "\n",
    "# report type: 2 + 11 * x\n",
    "list_id_type = [2 + 11 * x for x in range(100)]\n",
    "\n",
    "# year: 5 + 11 * x\n",
    "list_id_year = [5 + 11 * x for x in range(100)]\n",
    "\n",
    "# publication date: 6 + 11 * x\n",
    "list_id_publ = [6 + 11 * x for x in range(100)]\n",
    "\n",
    "print(registry_elements[list_id_name[0]].text)\n",
    "print(registry_elements[list_id_type[0]].text)\n",
    "print(registry_elements[list_id_year[0]].text)\n",
    "print(registry_elements[list_id_publ[0]].text)"
   ]
  },
  {
   "cell_type": "code",
   "execution_count": 178,
   "metadata": {},
   "outputs": [
    {
     "name": "stdout",
     "output_type": "stream",
     "text": [
      "Scrapping in page 1\n",
      "Scrapping in page 2\n",
      "Scrapping in page 3\n"
     ]
    }
   ],
   "source": [
    "# Extract registry data.\n",
    "df_main = pd.DataFrame()\n",
    "\n",
    "# Estimate the amount of pages found.\n",
    "n_pages = len(driver.find_elements(By.CSS_SELECTOR, '.paginate_button')) - 2\n",
    "\n",
    "for i in range(n_pages):\n",
    "    print(f'Scrapping in page {i + 1}')\n",
    "    \n",
    "    #df = pd.DataFrame(columns=['company', 'report_type', 'year'])\n",
    "\n",
    "    # Step 1: get name, report type and year.\n",
    "    registry_elements = driver.find_elements(By.CSS_SELECTOR, \"tr[role = 'row'] > td\")\n",
    "    \n",
    "    # Organizing name, report type and year in lists.\n",
    "    list_name = []\n",
    "    list_type = []\n",
    "    list_year = []\n",
    "    list_publ = []\n",
    "    for idx, val in enumerate(registry_elements):\n",
    "        if idx in list_id_name:\n",
    "            list_name.append(val.text)\n",
    "            \n",
    "        if idx in list_id_type:\n",
    "            list_type.append(val.text)\n",
    "\n",
    "        if idx in list_id_year:\n",
    "            list_year.append(val.text)\n",
    "\n",
    "        if idx in list_id_publ:\n",
    "            list_publ.append(val.text)\n",
    "\n",
    "    # Step 2: get report's url available in current page.\n",
    "    url_elements = driver.find_elements(By.ID, 'VisualizarDocumento')\n",
    "\n",
    "    # Step 3: clean the url string.\n",
    "    list_url = []\n",
    "    for k in url_elements:\n",
    "        url = k.get_attribute('onclick')\n",
    "        url = url[url.find(\"'\") + 1: -2]\n",
    "        clean_url = f\"https://www.rad.cvm.gov.br/ENET/{url}\"\n",
    "        list_url.append(clean_url)\n",
    "    \n",
    "    # Step 4: organize all data in dataframe.\n",
    "    df = pd.DataFrame({\n",
    "        'company': list_name,\n",
    "        'report_type': list_type,\n",
    "        'year': list_year,\n",
    "        'publication_date': list_publ,\n",
    "        'url': list_url\n",
    "        })\n",
    "    df_main = pd.concat([df_main, df], axis=0, ignore_index=True)\n",
    "\n",
    "    # Last step: click on next page\n",
    "    driver.find_element(By.CSS_SELECTOR, '#grdDocumentos_next').click()\n",
    "\n",
    "\n",
    "# Listar todos os downloads possíveis.\n",
    "#list_docs = driver.find_elements(By.ID, 'VisualizarDocumento')\n",
    "#print(list_docs[:3])\n",
    "#print(list_docs[0].get_attribute('onclick'))"
   ]
  },
  {
   "cell_type": "code",
   "execution_count": 264,
   "metadata": {},
   "outputs": [
    {
     "data": {
      "text/plain": [
       "timeout_error                      8\n",
       "99816_024910_02082023200843.pdf    1\n",
       "99707_023493_02082023200837.pdf    1\n",
       "99691_024716_02082023200825.pdf    1\n",
       "99692_020036_02082023200807.pdf    1\n",
       "                                  ..\n",
       "99750_020362_02082023200819.pdf    1\n",
       "99752_024716_02082023200859.pdf    1\n",
       "99755_021440_02082023200841.pdf    1\n",
       "99756_020648_02082023200813.pdf    1\n",
       "99645_019593_02082023200833.pdf    1\n",
       "Name: file, Length: 93, dtype: int64"
      ]
     },
     "execution_count": 264,
     "metadata": {},
     "output_type": "execute_result"
    }
   ],
   "source": [
    "df_main['file'].value_counts()"
   ]
  },
  {
   "cell_type": "code",
   "execution_count": 261,
   "metadata": {},
   "outputs": [],
   "source": [
    "# Criar uma pasta './temp' para salvar os relatórios.\n",
    "folder_path = os.getcwd() + '\\\\temp'\n",
    "#os.rmdir(folder_path)\n",
    "os.mkdir(folder_path)\n",
    "\n",
    "chrome_options = webdriver.ChromeOptions()\n",
    "chrome_options.add_experimental_option(\"prefs\", {\n",
    "    \"download.default_directory\": folder_path\n",
    "})\n",
    "\n",
    "# Iniciando o navegador.\n",
    "df_main['file'] = None\n",
    "#for index, row in df_main.iterrows():\n",
    "for index, row in df_main.head(100).iterrows():\n",
    "\n",
    "    list_file_before = os.listdir(folder_path)\n",
    "\n",
    "    single_driver = webdriver.Chrome(options=chrome_options)\n",
    "    single_driver.get(row['url'])\n",
    "\n",
    "    # Clique no botão 'Salvar em PDF'.\n",
    "    wait = WebDriverWait(single_driver, timeout=5)\n",
    "    wait.until(expected_conditions.element_to_be_clickable((By.ID, \"btnGeraRelatorioPDF\"))).click()\n",
    "    #salvar_em_pdf = single_driver.find_element(By.ID, 'btnGeraRelatorioPDF')\n",
    "    #print(single_driver.page_source)\n",
    "\n",
    "    # Antes de gerar o PDF, é necessário entrar no iframe (i.e. html externo dentro html principal).\n",
    "    iframe = single_driver.find_element(By.CSS_SELECTOR, '#iFrameModal')\n",
    "    single_driver.switch_to.frame(iframe)\n",
    "\n",
    "    #Clique no botão 'Gerar PDF'\n",
    "    wait = WebDriverWait(single_driver, timeout=5)\n",
    "\n",
    "    sleep(5)\n",
    "\n",
    "    wait.until(expected_conditions.element_to_be_clickable((By.TAG_NAME, 'button'))).click()\n",
    "\n",
    "    #sleep(30)\n",
    "    sleep(5)\n",
    "    timer = 0\n",
    "    in_progress = True\n",
    "\n",
    "    while in_progress:\n",
    "        \n",
    "        sleep(1)\n",
    "        timer += 1\n",
    "        list_file_after = os.listdir(folder_path)\n",
    "\n",
    "        if len(list_file_after) > len(list_file_before):\n",
    "            file = set(list_file_after) - set(list_file_before)\n",
    "            file = list(file)[0]\n",
    "\n",
    "            df_main.at[index, 'file'] = file \n",
    "            in_progress = False\n",
    "\n",
    "        if timer == 60:\n",
    "            df_main.at[index, 'file'] = 'timeout_error'\n",
    "            in_progress = False\n",
    "    \n",
    "    single_driver.quit()"
   ]
  }
 ],
 "metadata": {
  "kernelspec": {
   "display_name": "Python 3",
   "language": "python",
   "name": "python3"
  },
  "language_info": {
   "codemirror_mode": {
    "name": "ipython",
    "version": 3
   },
   "file_extension": ".py",
   "mimetype": "text/x-python",
   "name": "python",
   "nbconvert_exporter": "python",
   "pygments_lexer": "ipython3",
   "version": "3.10.4"
  },
  "orig_nbformat": 4
 },
 "nbformat": 4,
 "nbformat_minor": 2
}
