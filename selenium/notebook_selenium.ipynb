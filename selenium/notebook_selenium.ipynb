{
 "cells": [
  {
   "attachments": {},
   "cell_type": "markdown",
   "metadata": {},
   "source": [
    "# Selenium\n",
    "\n",
    "Objetivo: explorar a biblioteca Selenium para acessar o site da CVM e extrair o relatório financeiro Formulário de Referência."
   ]
  },
  {
   "cell_type": "code",
   "execution_count": 2,
   "metadata": {},
   "outputs": [],
   "source": [
    "from random import randint\n",
    "from selenium import webdriver\n",
    "from selenium.webdriver.common.action_chains import ActionChains\n",
    "from selenium.webdriver.common.by import By\n",
    "from selenium.webdriver.common.keys import Keys\n",
    "from selenium.webdriver.support.ui import WebDriverWait\n",
    "from selenium.webdriver.support import expected_conditions\n",
    "\n",
    "from time import sleep"
   ]
  },
  {
   "cell_type": "code",
   "execution_count": 3,
   "metadata": {},
   "outputs": [
    {
     "name": "stdout",
     "output_type": "stream",
     "text": [
      "4.10.0\n"
     ]
    }
   ],
   "source": [
    "print(webdriver.__version__)"
   ]
  },
  {
   "cell_type": "code",
   "execution_count": 4,
   "metadata": {},
   "outputs": [],
   "source": [
    "# Iniciando o navegador.\n",
    "driver = webdriver.Chrome()\n",
    "\n",
    "# Acessar o site da CVM.\n",
    "link = 'https://www.rad.cvm.gov.br/ENET/frmConsultaExternaCVM.aspx'\n",
    "driver.get(link)\n",
    "assert driver.title == 'Consulta de Documentos de Companhias Abertas'\n",
    "\n",
    "# Simula uma pausa.\n",
    "#wait_time = randint(3, 6)\n",
    "#driver.implicitly_wait(wait_time)\n",
    "driver.implicitly_wait(10)"
   ]
  },
  {
   "cell_type": "code",
   "execution_count": 5,
   "metadata": {},
   "outputs": [],
   "source": [
    "# Escolher o relatório Formulário de Referência.\n",
    "text_box_documento = driver.find_element(By.ID, 'cboCategorias_chosen_input')\n",
    "driver.implicitly_wait(5)\n",
    "\n",
    "text_box_documento.send_keys('FRE - Formulário de Referência')\n",
    "driver.implicitly_wait(5)\n",
    "text_box_documento.send_keys('\\ue007')"
   ]
  },
  {
   "cell_type": "code",
   "execution_count": 6,
   "metadata": {},
   "outputs": [],
   "source": [
    "# Clicar no botão 'No período' para habilitar a seleção da data.\n",
    "radio_button_periodo = driver.find_element(By.ID, 'rdPeriodo')\n",
    "radio_button_periodo.click()\n",
    "driver.implicitly_wait(5)\n",
    "\n",
    "# Selecionar a data de início\n",
    "text_box_dt_inicio = driver.find_element(By.ID, 'txtDataIni')\n",
    "#text_box_dt_inicio.click()\n",
    "driver.implicitly_wait(5)\n",
    "text_box_dt_inicio.send_keys('01012021')\n",
    "\n",
    "# Selecionar a data de início\n",
    "text_box_dt_inicio = driver.find_element(By.ID, 'txtDataFim')\n",
    "#text_box_dt_inicio.click()\n",
    "driver.implicitly_wait(5)\n",
    "text_box_dt_inicio.send_keys('31012021')"
   ]
  },
  {
   "cell_type": "code",
   "execution_count": 7,
   "metadata": {},
   "outputs": [],
   "source": [
    "# Selecionar a empresa (opcional)\n",
    "#text_box_empresa = driver.find_element(By.ID, 'cboEmpresa')\n",
    "#text_box_empresa.send_keys('Porto Seguro S.A.')\n",
    "#driver.implicitly_wait(3)\n",
    "#text_box_empresa.send_keys(Keys.DOWN)\n",
    "#driver.implicitly_wait(5)\n",
    "#text_box_empresa.send_keys('\\ue007')\n",
    "#text_box_empresa.send_keys(Keys.RETURN)\n",
    "\n",
    "# não funcionou."
   ]
  },
  {
   "cell_type": "code",
   "execution_count": 8,
   "metadata": {},
   "outputs": [],
   "source": [
    "# Apertar botão de execução da consulta.\n",
    "button_consulta = driver.find_element(By.ID, 'btnConsulta')\n",
    "button_consulta.click()"
   ]
  },
  {
   "cell_type": "code",
   "execution_count": 9,
   "metadata": {},
   "outputs": [
    {
     "name": "stdout",
     "output_type": "stream",
     "text": [
      "[<selenium.webdriver.remote.webelement.WebElement (session=\"6aa790ab87bbecb76bbe8224b4071b62\", element=\"F4477AD965E118571D96134CFAF4C460_element_119\")>, <selenium.webdriver.remote.webelement.WebElement (session=\"6aa790ab87bbecb76bbe8224b4071b62\", element=\"F4477AD965E118571D96134CFAF4C460_element_120\")>, <selenium.webdriver.remote.webelement.WebElement (session=\"6aa790ab87bbecb76bbe8224b4071b62\", element=\"F4477AD965E118571D96134CFAF4C460_element_121\")>]\n",
      "OpenPopUpVer('frmGerenciaPaginaFRE.aspx?NumeroSequencialDocumento=99816&CodigoTipoInstituicao=1')\n"
     ]
    }
   ],
   "source": [
    "# Listar todos os downloads possíveis.\n",
    "list_docs = driver.find_elements(By.ID, 'VisualizarDocumento')\n",
    "print(list_docs[:3])\n",
    "print(list_docs[0].get_attribute('onclick'))"
   ]
  },
  {
   "cell_type": "code",
   "execution_count": 18,
   "metadata": {},
   "outputs": [
    {
     "name": "stdout",
     "output_type": "stream",
     "text": [
      "https://www.rad.cvm.gov.br/ENET/frmGerenciaPaginaFRE.aspx?NumeroSequencialDocumento=99816&CodigoTipoInstituicao=1\n",
      "https://www.rad.cvm.gov.br/ENET/frmGerenciaPaginaFRE.aspx?NumeroSequencialDocumento=99815&CodigoTipoInstituicao=1\n",
      "https://www.rad.cvm.gov.br/ENET/frmGerenciaPaginaFRE.aspx?NumeroSequencialDocumento=99812&CodigoTipoInstituicao=1\n",
      "https://www.rad.cvm.gov.br/ENET/frmGerenciaPaginaFRE.aspx?NumeroSequencialDocumento=99807&CodigoTipoInstituicao=1\n",
      "https://www.rad.cvm.gov.br/ENET/frmGerenciaPaginaFRE.aspx?NumeroSequencialDocumento=99803&CodigoTipoInstituicao=1\n",
      "https://www.rad.cvm.gov.br/ENET/frmGerenciaPaginaFRE.aspx?NumeroSequencialDocumento=99799&CodigoTipoInstituicao=1\n",
      "https://www.rad.cvm.gov.br/ENET/frmGerenciaPaginaFRE.aspx?NumeroSequencialDocumento=99034&CodigoTipoInstituicao=1\n",
      "https://www.rad.cvm.gov.br/ENET/frmGerenciaPaginaFRE.aspx?NumeroSequencialDocumento=99778&CodigoTipoInstituicao=1\n",
      "https://www.rad.cvm.gov.br/ENET/frmGerenciaPaginaFRE.aspx?NumeroSequencialDocumento=99776&CodigoTipoInstituicao=1\n",
      "https://www.rad.cvm.gov.br/ENET/frmGerenciaPaginaFRE.aspx?NumeroSequencialDocumento=99774&CodigoTipoInstituicao=1\n",
      "https://www.rad.cvm.gov.br/ENET/frmGerenciaPaginaFRE.aspx?NumeroSequencialDocumento=99773&CodigoTipoInstituicao=1\n",
      "https://www.rad.cvm.gov.br/ENET/frmGerenciaPaginaFRE.aspx?NumeroSequencialDocumento=99772&CodigoTipoInstituicao=1\n",
      "https://www.rad.cvm.gov.br/ENET/frmGerenciaPaginaFRE.aspx?NumeroSequencialDocumento=99770&CodigoTipoInstituicao=1\n",
      "https://www.rad.cvm.gov.br/ENET/frmGerenciaPaginaFRE.aspx?NumeroSequencialDocumento=99769&CodigoTipoInstituicao=1\n",
      "https://www.rad.cvm.gov.br/ENET/frmGerenciaPaginaFRE.aspx?NumeroSequencialDocumento=99767&CodigoTipoInstituicao=1\n",
      "https://www.rad.cvm.gov.br/ENET/frmGerenciaPaginaFRE.aspx?NumeroSequencialDocumento=99766&CodigoTipoInstituicao=1\n",
      "https://www.rad.cvm.gov.br/ENET/frmGerenciaPaginaFRE.aspx?NumeroSequencialDocumento=99765&CodigoTipoInstituicao=1\n",
      "https://www.rad.cvm.gov.br/ENET/frmGerenciaPaginaFRE.aspx?NumeroSequencialDocumento=99764&CodigoTipoInstituicao=1\n",
      "https://www.rad.cvm.gov.br/ENET/frmGerenciaPaginaFRE.aspx?NumeroSequencialDocumento=99763&CodigoTipoInstituicao=1\n",
      "https://www.rad.cvm.gov.br/ENET/frmGerenciaPaginaFRE.aspx?NumeroSequencialDocumento=99762&CodigoTipoInstituicao=1\n",
      "https://www.rad.cvm.gov.br/ENET/frmGerenciaPaginaFRE.aspx?NumeroSequencialDocumento=99761&CodigoTipoInstituicao=1\n",
      "https://www.rad.cvm.gov.br/ENET/frmGerenciaPaginaFRE.aspx?NumeroSequencialDocumento=99760&CodigoTipoInstituicao=1\n",
      "https://www.rad.cvm.gov.br/ENET/frmGerenciaPaginaFRE.aspx?NumeroSequencialDocumento=99759&CodigoTipoInstituicao=1\n",
      "https://www.rad.cvm.gov.br/ENET/frmGerenciaPaginaFRE.aspx?NumeroSequencialDocumento=98904&CodigoTipoInstituicao=1\n",
      "https://www.rad.cvm.gov.br/ENET/frmGerenciaPaginaFRE.aspx?NumeroSequencialDocumento=99758&CodigoTipoInstituicao=1\n",
      "https://www.rad.cvm.gov.br/ENET/frmGerenciaPaginaFRE.aspx?NumeroSequencialDocumento=99757&CodigoTipoInstituicao=1\n",
      "https://www.rad.cvm.gov.br/ENET/frmGerenciaPaginaFRE.aspx?NumeroSequencialDocumento=99756&CodigoTipoInstituicao=1\n",
      "https://www.rad.cvm.gov.br/ENET/frmGerenciaPaginaFRE.aspx?NumeroSequencialDocumento=99755&CodigoTipoInstituicao=1\n",
      "https://www.rad.cvm.gov.br/ENET/frmGerenciaPaginaFRE.aspx?NumeroSequencialDocumento=99752&CodigoTipoInstituicao=1\n",
      "https://www.rad.cvm.gov.br/ENET/frmGerenciaPaginaFRE.aspx?NumeroSequencialDocumento=99750&CodigoTipoInstituicao=1\n",
      "https://www.rad.cvm.gov.br/ENET/frmGerenciaPaginaFRE.aspx?NumeroSequencialDocumento=99749&CodigoTipoInstituicao=1\n",
      "https://www.rad.cvm.gov.br/ENET/frmGerenciaPaginaFRE.aspx?NumeroSequencialDocumento=99748&CodigoTipoInstituicao=1\n",
      "https://www.rad.cvm.gov.br/ENET/frmGerenciaPaginaFRE.aspx?NumeroSequencialDocumento=99747&CodigoTipoInstituicao=1\n",
      "https://www.rad.cvm.gov.br/ENET/frmGerenciaPaginaFRE.aspx?NumeroSequencialDocumento=99745&CodigoTipoInstituicao=1\n",
      "https://www.rad.cvm.gov.br/ENET/frmGerenciaPaginaFRE.aspx?NumeroSequencialDocumento=99744&CodigoTipoInstituicao=1\n",
      "https://www.rad.cvm.gov.br/ENET/frmGerenciaPaginaFRE.aspx?NumeroSequencialDocumento=99743&CodigoTipoInstituicao=1\n",
      "https://www.rad.cvm.gov.br/ENET/frmGerenciaPaginaFRE.aspx?NumeroSequencialDocumento=99739&CodigoTipoInstituicao=1\n",
      "https://www.rad.cvm.gov.br/ENET/frmGerenciaPaginaFRE.aspx?NumeroSequencialDocumento=99738&CodigoTipoInstituicao=1\n",
      "https://www.rad.cvm.gov.br/ENET/frmGerenciaPaginaFRE.aspx?NumeroSequencialDocumento=99736&CodigoTipoInstituicao=1\n",
      "https://www.rad.cvm.gov.br/ENET/frmGerenciaPaginaFRE.aspx?NumeroSequencialDocumento=99733&CodigoTipoInstituicao=1\n",
      "https://www.rad.cvm.gov.br/ENET/frmGerenciaPaginaFRE.aspx?NumeroSequencialDocumento=96631&CodigoTipoInstituicao=1\n",
      "https://www.rad.cvm.gov.br/ENET/frmGerenciaPaginaFRE.aspx?NumeroSequencialDocumento=99732&CodigoTipoInstituicao=1\n",
      "https://www.rad.cvm.gov.br/ENET/frmGerenciaPaginaFRE.aspx?NumeroSequencialDocumento=99731&CodigoTipoInstituicao=1\n",
      "https://www.rad.cvm.gov.br/ENET/frmGerenciaPaginaFRE.aspx?NumeroSequencialDocumento=99729&CodigoTipoInstituicao=1\n",
      "https://www.rad.cvm.gov.br/ENET/frmGerenciaPaginaFRE.aspx?NumeroSequencialDocumento=99728&CodigoTipoInstituicao=1\n",
      "https://www.rad.cvm.gov.br/ENET/frmGerenciaPaginaFRE.aspx?NumeroSequencialDocumento=99725&CodigoTipoInstituicao=1\n",
      "https://www.rad.cvm.gov.br/ENET/frmGerenciaPaginaFRE.aspx?NumeroSequencialDocumento=99724&CodigoTipoInstituicao=1\n",
      "https://www.rad.cvm.gov.br/ENET/frmGerenciaPaginaFRE.aspx?NumeroSequencialDocumento=99723&CodigoTipoInstituicao=1\n",
      "https://www.rad.cvm.gov.br/ENET/frmGerenciaPaginaFRE.aspx?NumeroSequencialDocumento=99720&CodigoTipoInstituicao=1\n",
      "https://www.rad.cvm.gov.br/ENET/frmGerenciaPaginaFRE.aspx?NumeroSequencialDocumento=99719&CodigoTipoInstituicao=1\n",
      "https://www.rad.cvm.gov.br/ENET/frmGerenciaPaginaFRE.aspx?NumeroSequencialDocumento=99717&CodigoTipoInstituicao=1\n",
      "https://www.rad.cvm.gov.br/ENET/frmGerenciaPaginaFRE.aspx?NumeroSequencialDocumento=99716&CodigoTipoInstituicao=1\n",
      "https://www.rad.cvm.gov.br/ENET/frmGerenciaPaginaFRE.aspx?NumeroSequencialDocumento=99715&CodigoTipoInstituicao=1\n",
      "https://www.rad.cvm.gov.br/ENET/frmGerenciaPaginaFRE.aspx?NumeroSequencialDocumento=99714&CodigoTipoInstituicao=1\n",
      "https://www.rad.cvm.gov.br/ENET/frmGerenciaPaginaFRE.aspx?NumeroSequencialDocumento=99713&CodigoTipoInstituicao=1\n",
      "https://www.rad.cvm.gov.br/ENET/frmGerenciaPaginaFRE.aspx?NumeroSequencialDocumento=99712&CodigoTipoInstituicao=1\n",
      "https://www.rad.cvm.gov.br/ENET/frmGerenciaPaginaFRE.aspx?NumeroSequencialDocumento=99710&CodigoTipoInstituicao=1\n",
      "https://www.rad.cvm.gov.br/ENET/frmGerenciaPaginaFRE.aspx?NumeroSequencialDocumento=99709&CodigoTipoInstituicao=1\n",
      "https://www.rad.cvm.gov.br/ENET/frmGerenciaPaginaFRE.aspx?NumeroSequencialDocumento=99707&CodigoTipoInstituicao=1\n",
      "https://www.rad.cvm.gov.br/ENET/frmGerenciaPaginaFRE.aspx?NumeroSequencialDocumento=99705&CodigoTipoInstituicao=1\n",
      "https://www.rad.cvm.gov.br/ENET/frmGerenciaPaginaFRE.aspx?NumeroSequencialDocumento=99702&CodigoTipoInstituicao=1\n",
      "https://www.rad.cvm.gov.br/ENET/frmGerenciaPaginaFRE.aspx?NumeroSequencialDocumento=99699&CodigoTipoInstituicao=1\n",
      "https://www.rad.cvm.gov.br/ENET/frmGerenciaPaginaFRE.aspx?NumeroSequencialDocumento=99698&CodigoTipoInstituicao=1\n",
      "https://www.rad.cvm.gov.br/ENET/frmGerenciaPaginaFRE.aspx?NumeroSequencialDocumento=99695&CodigoTipoInstituicao=1\n",
      "https://www.rad.cvm.gov.br/ENET/frmGerenciaPaginaFRE.aspx?NumeroSequencialDocumento=99694&CodigoTipoInstituicao=1\n",
      "https://www.rad.cvm.gov.br/ENET/frmGerenciaPaginaFRE.aspx?NumeroSequencialDocumento=99693&CodigoTipoInstituicao=1\n",
      "https://www.rad.cvm.gov.br/ENET/frmGerenciaPaginaFRE.aspx?NumeroSequencialDocumento=99692&CodigoTipoInstituicao=1\n",
      "https://www.rad.cvm.gov.br/ENET/frmGerenciaPaginaFRE.aspx?NumeroSequencialDocumento=99691&CodigoTipoInstituicao=1\n",
      "https://www.rad.cvm.gov.br/ENET/frmGerenciaPaginaFRE.aspx?NumeroSequencialDocumento=99689&CodigoTipoInstituicao=1\n",
      "https://www.rad.cvm.gov.br/ENET/frmGerenciaPaginaFRE.aspx?NumeroSequencialDocumento=98114&CodigoTipoInstituicao=1\n",
      "https://www.rad.cvm.gov.br/ENET/frmGerenciaPaginaFRE.aspx?NumeroSequencialDocumento=99688&CodigoTipoInstituicao=1\n",
      "https://www.rad.cvm.gov.br/ENET/frmGerenciaPaginaFRE.aspx?NumeroSequencialDocumento=99687&CodigoTipoInstituicao=1\n",
      "https://www.rad.cvm.gov.br/ENET/frmGerenciaPaginaFRE.aspx?NumeroSequencialDocumento=99686&CodigoTipoInstituicao=1\n",
      "https://www.rad.cvm.gov.br/ENET/frmGerenciaPaginaFRE.aspx?NumeroSequencialDocumento=99685&CodigoTipoInstituicao=1\n",
      "https://www.rad.cvm.gov.br/ENET/frmGerenciaPaginaFRE.aspx?NumeroSequencialDocumento=99684&CodigoTipoInstituicao=1\n",
      "https://www.rad.cvm.gov.br/ENET/frmGerenciaPaginaFRE.aspx?NumeroSequencialDocumento=99683&CodigoTipoInstituicao=1\n",
      "https://www.rad.cvm.gov.br/ENET/frmGerenciaPaginaFRE.aspx?NumeroSequencialDocumento=99682&CodigoTipoInstituicao=1\n",
      "https://www.rad.cvm.gov.br/ENET/frmGerenciaPaginaFRE.aspx?NumeroSequencialDocumento=99681&CodigoTipoInstituicao=1\n",
      "https://www.rad.cvm.gov.br/ENET/frmGerenciaPaginaFRE.aspx?NumeroSequencialDocumento=99678&CodigoTipoInstituicao=1\n",
      "https://www.rad.cvm.gov.br/ENET/frmGerenciaPaginaFRE.aspx?NumeroSequencialDocumento=99677&CodigoTipoInstituicao=1\n",
      "https://www.rad.cvm.gov.br/ENET/frmGerenciaPaginaFRE.aspx?NumeroSequencialDocumento=96655&CodigoTipoInstituicao=1\n",
      "https://www.rad.cvm.gov.br/ENET/frmGerenciaPaginaFRE.aspx?NumeroSequencialDocumento=99676&CodigoTipoInstituicao=1\n",
      "https://www.rad.cvm.gov.br/ENET/frmGerenciaPaginaFRE.aspx?NumeroSequencialDocumento=99675&CodigoTipoInstituicao=1\n",
      "https://www.rad.cvm.gov.br/ENET/frmGerenciaPaginaFRE.aspx?NumeroSequencialDocumento=99672&CodigoTipoInstituicao=1\n",
      "https://www.rad.cvm.gov.br/ENET/frmGerenciaPaginaFRE.aspx?NumeroSequencialDocumento=99671&CodigoTipoInstituicao=1\n",
      "https://www.rad.cvm.gov.br/ENET/frmGerenciaPaginaFRE.aspx?NumeroSequencialDocumento=99669&CodigoTipoInstituicao=1\n",
      "https://www.rad.cvm.gov.br/ENET/frmGerenciaPaginaFRE.aspx?NumeroSequencialDocumento=99668&CodigoTipoInstituicao=1\n",
      "https://www.rad.cvm.gov.br/ENET/frmGerenciaPaginaFRE.aspx?NumeroSequencialDocumento=99667&CodigoTipoInstituicao=1\n",
      "https://www.rad.cvm.gov.br/ENET/frmGerenciaPaginaFRE.aspx?NumeroSequencialDocumento=99665&CodigoTipoInstituicao=1\n",
      "https://www.rad.cvm.gov.br/ENET/frmGerenciaPaginaFRE.aspx?NumeroSequencialDocumento=99663&CodigoTipoInstituicao=1\n"
     ]
    },
    {
     "ename": "KeyboardInterrupt",
     "evalue": "",
     "output_type": "error",
     "traceback": [
      "\u001b[1;31m---------------------------------------------------------------------------\u001b[0m",
      "\u001b[1;31mKeyboardInterrupt\u001b[0m                         Traceback (most recent call last)",
      "\u001b[1;32mc:\\Users\\Kenji\\GitHub\\studies\\selenium\\notebook_selenium.ipynb Cell 10\u001b[0m in \u001b[0;36m<cell line: 3>\u001b[1;34m()\u001b[0m\n\u001b[0;32m     <a href='vscode-notebook-cell:/c%3A/Users/Kenji/GitHub/studies/selenium/notebook_selenium.ipynb#X15sZmlsZQ%3D%3D?line=29'>30</a>\u001b[0m sleep(\u001b[39m5\u001b[39m)\n\u001b[0;32m     <a href='vscode-notebook-cell:/c%3A/Users/Kenji/GitHub/studies/selenium/notebook_selenium.ipynb#X15sZmlsZQ%3D%3D?line=31'>32</a>\u001b[0m wait\u001b[39m.\u001b[39muntil(expected_conditions\u001b[39m.\u001b[39melement_to_be_clickable((By\u001b[39m.\u001b[39mTAG_NAME, \u001b[39m'\u001b[39m\u001b[39mbutton\u001b[39m\u001b[39m'\u001b[39m)))\u001b[39m.\u001b[39mclick()\n\u001b[1;32m---> <a href='vscode-notebook-cell:/c%3A/Users/Kenji/GitHub/studies/selenium/notebook_selenium.ipynb#X15sZmlsZQ%3D%3D?line=33'>34</a>\u001b[0m sleep(\u001b[39m20\u001b[39;49m)\n\u001b[0;32m     <a href='vscode-notebook-cell:/c%3A/Users/Kenji/GitHub/studies/selenium/notebook_selenium.ipynb#X15sZmlsZQ%3D%3D?line=34'>35</a>\u001b[0m single_driver\u001b[39m.\u001b[39mquit()\n",
      "\u001b[1;31mKeyboardInterrupt\u001b[0m: "
     ]
    }
   ],
   "source": [
    "# Experimentando como extrair o relatório da página.\n",
    "\n",
    "for i in list_docs:\n",
    "        \n",
    "    url_suffix = i.get_attribute('onclick')\n",
    "    url_suffix = url_suffix[\n",
    "        url_suffix.find(\"'\") + 1:\n",
    "        -2\n",
    "    ]\n",
    "\n",
    "    single_link = f\"https://www.rad.cvm.gov.br/ENET/{url_suffix}\"\n",
    "    print(single_link)\n",
    "\n",
    "    single_driver = webdriver.Chrome()\n",
    "    single_driver.get(single_link)\n",
    "\n",
    "    # Clique no botão 'Salvar em PDF'.\n",
    "    wait = WebDriverWait(single_driver, timeout=5)\n",
    "    wait.until(expected_conditions.element_to_be_clickable((By.ID, \"btnGeraRelatorioPDF\"))).click()\n",
    "    #salvar_em_pdf = single_driver.find_element(By.ID, 'btnGeraRelatorioPDF')\n",
    "    #print(single_driver.page_source)\n",
    "\n",
    "    # Antes de gerar o PDF, é necessário entrar no iframe (i.e. html externo dentro html principal).\n",
    "    iframe = single_driver.find_element(By.CSS_SELECTOR, '#iFrameModal')\n",
    "    single_driver.switch_to.frame(iframe)\n",
    "\n",
    "    #Clique no botão 'Gerar PDF'\n",
    "    wait = WebDriverWait(single_driver, timeout=5)\n",
    "\n",
    "    sleep(5)\n",
    "\n",
    "    wait.until(expected_conditions.element_to_be_clickable((By.TAG_NAME, 'button'))).click()\n",
    "\n",
    "    sleep(20)\n",
    "    single_driver.quit()\n",
    "\n",
    "#salvar_em_pdf.click()\n",
    "# Método mais complexo para clicar\n",
    "#ActionChains(single_driver).click(salvar_em_pdf).perform()\n",
    "\n",
    "#print('--------------------------------')\n",
    "\n",
    "#single_driver.implicitly_wait(10)\n",
    "#print(single_driver.page_source)\n",
    "#wait = WebDriverWait(driver, 10)\n",
    "#element = wait.until(expected_conditions.presence_of_element_located((By.ID, 'btnConsulta')))\n",
    "\n",
    "#wait = WebDriverWait(driver, 10)\n",
    "#new_div = wait.until(expected_conditions.visibility_of_element_located((By.ID, 'btnConsulta')))\n",
    "#second_button = new_div.find_element_by_id('btnConsulta').click()\n",
    "\n",
    "\n",
    "#updated_html = single_driver.page_source\n",
    "#updated_driver = webdriver.Chrome()\n",
    "#element = single_driver.switch_to.active_element\n",
    "\n",
    "#gerar_pdf = single_driver.find_element_by_id('btnConsulta')\n",
    "#gerar_pdf.click()"
   ]
  },
  {
   "cell_type": "code",
   "execution_count": 169,
   "metadata": {},
   "outputs": [],
   "source": [
    "#updated_driver.find_element(By.ID, 'btnConsulta')\n",
    "#single_driver.current_url\n",
    "#updated_driver = webdriver.Chrome()\n",
    "#updated_driver.get(single_link)\n",
    "#updated_driver.find_element(By.ID, 'btnConsulta')\n",
    "#print(single_driver.page_source)\n",
    "#element.find_element(By.ID, 'btnConsulta')\n",
    "#iframe = single_driver.find_element(By.ID, \"iFrameModal\")\n",
    "#teste = single_driver.switch_to.frame(iframe)\n",
    "#teste\n",
    "#salvar_em_pdf.element_to_be_clickable()\n",
    "\n",
    "# Check: o objetvo é clicável? \n",
    "#from selenium.common.exceptions import WebDriverException\n",
    "#try:\n",
    "#    salvar_em_pdf.click()\n",
    "#except WebDriverException:\n",
    "#    print(\"Element is not clickable\")\n",
    "\n",
    "#iframe = single_driver.find_element(By.CSS_SELECTOR, '#iFrameModal')\n",
    "#single_driver.switch_to.frame(iframe)\n"
   ]
  },
  {
   "cell_type": "code",
   "execution_count": 170,
   "metadata": {},
   "outputs": [],
   "source": [
    "#print(single_driver.page_source)\n",
    "#iframe.get_attribute('id')\n"
   ]
  },
  {
   "cell_type": "code",
   "execution_count": 25,
   "metadata": {},
   "outputs": [
    {
     "name": "stdout",
     "output_type": "stream",
     "text": [
      "pag1\n",
      "pag2\n"
     ]
    }
   ],
   "source": [
    "# Aperta o botão de próxima página.\n",
    "print('pag1')\n",
    "button_proximo = driver.find_element(By.ID, 'grdDocumentos_next')\n",
    "button_proximo.click()\n",
    "driver.implicitly_wait(5)\n",
    "\n",
    "print('pag2')\n",
    "button_proximo = driver.find_element(By.ID, 'grdDocumentos_next')\n",
    "button_proximo.click()\n",
    "driver.implicitly_wait(5)\n",
    "\n",
    "#print('pag3')\n",
    "#button_proximo = driver.find_element(By.ID, 'grdDocumentos_next')\n",
    "#button_proximo.click()\n",
    "#driver.implicitly_wait(5)"
   ]
  }
 ],
 "metadata": {
  "kernelspec": {
   "display_name": "Python 3",
   "language": "python",
   "name": "python3"
  },
  "language_info": {
   "codemirror_mode": {
    "name": "ipython",
    "version": 3
   },
   "file_extension": ".py",
   "mimetype": "text/x-python",
   "name": "python",
   "nbconvert_exporter": "python",
   "pygments_lexer": "ipython3",
   "version": "3.10.4"
  },
  "orig_nbformat": 4
 },
 "nbformat": 4,
 "nbformat_minor": 2
}
