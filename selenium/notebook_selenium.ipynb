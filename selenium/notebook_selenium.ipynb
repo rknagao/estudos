{
 "cells": [
  {
   "attachments": {},
   "cell_type": "markdown",
   "metadata": {},
   "source": [
    "# Selenium\n",
    "\n",
    "Objetivo: explorar a biblioteca Selenium para acessar o site da CVM e extrair o relatório financeiro Formulário de Referência."
   ]
  },
  {
   "cell_type": "code",
   "execution_count": 300,
   "metadata": {},
   "outputs": [],
   "source": [
    "from random import randint\n",
    "from selenium import webdriver\n",
    "from selenium.webdriver.common.by import By\n",
    "from selenium.webdriver.common.keys import Keys"
   ]
  },
  {
   "cell_type": "code",
   "execution_count": 301,
   "metadata": {},
   "outputs": [
    {
     "name": "stdout",
     "output_type": "stream",
     "text": [
      "4.10.0\n"
     ]
    }
   ],
   "source": [
    "print(webdriver.__version__)"
   ]
  },
  {
   "cell_type": "code",
   "execution_count": 302,
   "metadata": {},
   "outputs": [],
   "source": [
    "# Iniciando o navegador.\n",
    "driver = webdriver.Chrome()\n",
    "\n",
    "# Acessar o site da CVM.\n",
    "link = 'https://www.rad.cvm.gov.br/ENET/frmConsultaExternaCVM.aspx'\n",
    "driver.get(link)\n",
    "assert driver.title == 'Consulta de Documentos de Companhias Abertas'\n",
    "\n",
    "# Simula uma pausa.\n",
    "#wait_time = randint(3, 6)\n",
    "#driver.implicitly_wait(wait_time)\n",
    "driver.implicitly_wait(10)"
   ]
  },
  {
   "cell_type": "code",
   "execution_count": 303,
   "metadata": {},
   "outputs": [],
   "source": [
    "# Escolher o relatório Formulário de Referência.\n",
    "text_box_documento = driver.find_element(By.ID, 'cboCategorias_chosen_input')\n",
    "driver.implicitly_wait(5)\n",
    "\n",
    "text_box_documento.send_keys('FRE - Formulário de Referência')\n",
    "driver.implicitly_wait(5)\n",
    "text_box_documento.send_keys('\\ue007')"
   ]
  },
  {
   "cell_type": "code",
   "execution_count": 304,
   "metadata": {},
   "outputs": [],
   "source": [
    "# Clicar no botão 'No período' para habilitar a seleção da data.\n",
    "radio_button_periodo = driver.find_element(By.ID, 'rdPeriodo')\n",
    "radio_button_periodo.click()\n",
    "driver.implicitly_wait(5)\n",
    "\n",
    "# Selecionar a data de início\n",
    "text_box_dt_inicio = driver.find_element(By.ID, 'txtDataIni')\n",
    "#text_box_dt_inicio.click()\n",
    "driver.implicitly_wait(5)\n",
    "text_box_dt_inicio.send_keys('01012021')\n",
    "\n",
    "# Selecionar a data de início\n",
    "text_box_dt_inicio = driver.find_element(By.ID, 'txtDataFim')\n",
    "#text_box_dt_inicio.click()\n",
    "driver.implicitly_wait(5)\n",
    "text_box_dt_inicio.send_keys('31012021')"
   ]
  },
  {
   "cell_type": "code",
   "execution_count": 305,
   "metadata": {},
   "outputs": [],
   "source": [
    "# Selecionar a empresa (opcional)\n",
    "#text_box_empresa = driver.find_element(By.ID, 'cboEmpresa')\n",
    "#text_box_empresa.send_keys('Porto Seguro S.A.')\n",
    "#driver.implicitly_wait(3)\n",
    "#text_box_empresa.send_keys(Keys.DOWN)\n",
    "#driver.implicitly_wait(5)\n",
    "#text_box_empresa.send_keys('\\ue007')\n",
    "#text_box_empresa.send_keys(Keys.RETURN)\n",
    "\n",
    "# não funcionou."
   ]
  },
  {
   "cell_type": "code",
   "execution_count": 306,
   "metadata": {},
   "outputs": [],
   "source": [
    "# Apertar botão de execução da consulta.\n",
    "button_consulta = driver.find_element(By.ID, 'btnConsulta')\n",
    "button_consulta.click()"
   ]
  },
  {
   "cell_type": "code",
   "execution_count": 307,
   "metadata": {},
   "outputs": [
    {
     "name": "stdout",
     "output_type": "stream",
     "text": [
      "pag1\n"
     ]
    },
    {
     "ename": "StaleElementReferenceException",
     "evalue": "Message: stale element reference: stale element not found\n  (Session info: chrome=115.0.5790.102); For documentation on this error, please visit: https://www.selenium.dev/documentation/webdriver/troubleshooting/errors#stale-element-reference-exception\nStacktrace:\nBacktrace:\n\tGetHandleVerifier [0x00C1A813+48355]\n\t(No symbol) [0x00BAC4B1]\n\t(No symbol) [0x00AB5358]\n\t(No symbol) [0x00AB87A1]\n\t(No symbol) [0x00AB99E1]\n\t(No symbol) [0x00AB9A80]\n\t(No symbol) [0x00AE1D29]\n\t(No symbol) [0x00AD9DAD]\n\t(No symbol) [0x00AFA73C]\n\t(No symbol) [0x00AD9A36]\n\t(No symbol) [0x00AFAA94]\n\t(No symbol) [0x00B0C922]\n\t(No symbol) [0x00AFA536]\n\t(No symbol) [0x00AD82DC]\n\t(No symbol) [0x00AD93DD]\n\tGetHandleVerifier [0x00E7AABD+2539405]\n\tGetHandleVerifier [0x00EBA78F+2800735]\n\tGetHandleVerifier [0x00EB456C+2775612]\n\tGetHandleVerifier [0x00CA51E0+616112]\n\t(No symbol) [0x00BB5F8C]\n\t(No symbol) [0x00BB2328]\n\t(No symbol) [0x00BB240B]\n\t(No symbol) [0x00BA4FF7]\n\tBaseThreadInitThunk [0x76D205C9+25]\n\tRtlGetAppContainerNamedObjectPath [0x77B777AD+237]\n\tRtlGetAppContainerNamedObjectPath [0x77B7777D+189]\n",
     "output_type": "error",
     "traceback": [
      "\u001b[1;31m---------------------------------------------------------------------------\u001b[0m",
      "\u001b[1;31mStaleElementReferenceException\u001b[0m            Traceback (most recent call last)",
      "\u001b[1;32mc:\\Users\\Kenji\\GitHub\\studies\\selenium\\notebook_selenium.ipynb Cell 9\u001b[0m in \u001b[0;36m<cell line: 4>\u001b[1;34m()\u001b[0m\n\u001b[0;32m      <a href='vscode-notebook-cell:/c%3A/Users/Kenji/GitHub/studies/selenium/notebook_selenium.ipynb#X16sZmlsZQ%3D%3D?line=1'>2</a>\u001b[0m \u001b[39mprint\u001b[39m(\u001b[39m'\u001b[39m\u001b[39mpag1\u001b[39m\u001b[39m'\u001b[39m)\n\u001b[0;32m      <a href='vscode-notebook-cell:/c%3A/Users/Kenji/GitHub/studies/selenium/notebook_selenium.ipynb#X16sZmlsZQ%3D%3D?line=2'>3</a>\u001b[0m button_proximo \u001b[39m=\u001b[39m driver\u001b[39m.\u001b[39mfind_element(By\u001b[39m.\u001b[39mID, \u001b[39m'\u001b[39m\u001b[39mgrdDocumentos_next\u001b[39m\u001b[39m'\u001b[39m)\n\u001b[1;32m----> <a href='vscode-notebook-cell:/c%3A/Users/Kenji/GitHub/studies/selenium/notebook_selenium.ipynb#X16sZmlsZQ%3D%3D?line=3'>4</a>\u001b[0m button_proximo\u001b[39m.\u001b[39;49mclick()\n\u001b[0;32m      <a href='vscode-notebook-cell:/c%3A/Users/Kenji/GitHub/studies/selenium/notebook_selenium.ipynb#X16sZmlsZQ%3D%3D?line=4'>5</a>\u001b[0m driver\u001b[39m.\u001b[39mimplicitly_wait(\u001b[39m5\u001b[39m)\n\u001b[0;32m      <a href='vscode-notebook-cell:/c%3A/Users/Kenji/GitHub/studies/selenium/notebook_selenium.ipynb#X16sZmlsZQ%3D%3D?line=6'>7</a>\u001b[0m \u001b[39mprint\u001b[39m(\u001b[39m'\u001b[39m\u001b[39mpag2\u001b[39m\u001b[39m'\u001b[39m)\n",
      "File \u001b[1;32mc:\\Users\\Kenji\\AppData\\Local\\Programs\\Python\\Python310\\lib\\site-packages\\selenium\\webdriver\\remote\\webelement.py:94\u001b[0m, in \u001b[0;36mWebElement.click\u001b[1;34m(self)\u001b[0m\n\u001b[0;32m     92\u001b[0m \u001b[39mdef\u001b[39;00m \u001b[39mclick\u001b[39m(\u001b[39mself\u001b[39m) \u001b[39m-\u001b[39m\u001b[39m>\u001b[39m \u001b[39mNone\u001b[39;00m:\n\u001b[0;32m     93\u001b[0m     \u001b[39m\"\"\"Clicks the element.\"\"\"\u001b[39;00m\n\u001b[1;32m---> 94\u001b[0m     \u001b[39mself\u001b[39;49m\u001b[39m.\u001b[39;49m_execute(Command\u001b[39m.\u001b[39;49mCLICK_ELEMENT)\n",
      "File \u001b[1;32mc:\\Users\\Kenji\\AppData\\Local\\Programs\\Python\\Python310\\lib\\site-packages\\selenium\\webdriver\\remote\\webelement.py:395\u001b[0m, in \u001b[0;36mWebElement._execute\u001b[1;34m(self, command, params)\u001b[0m\n\u001b[0;32m    393\u001b[0m     params \u001b[39m=\u001b[39m {}\n\u001b[0;32m    394\u001b[0m params[\u001b[39m\"\u001b[39m\u001b[39mid\u001b[39m\u001b[39m\"\u001b[39m] \u001b[39m=\u001b[39m \u001b[39mself\u001b[39m\u001b[39m.\u001b[39m_id\n\u001b[1;32m--> 395\u001b[0m \u001b[39mreturn\u001b[39;00m \u001b[39mself\u001b[39;49m\u001b[39m.\u001b[39;49m_parent\u001b[39m.\u001b[39;49mexecute(command, params)\n",
      "File \u001b[1;32mc:\\Users\\Kenji\\AppData\\Local\\Programs\\Python\\Python310\\lib\\site-packages\\selenium\\webdriver\\remote\\webdriver.py:346\u001b[0m, in \u001b[0;36mWebDriver.execute\u001b[1;34m(self, driver_command, params)\u001b[0m\n\u001b[0;32m    344\u001b[0m response \u001b[39m=\u001b[39m \u001b[39mself\u001b[39m\u001b[39m.\u001b[39mcommand_executor\u001b[39m.\u001b[39mexecute(driver_command, params)\n\u001b[0;32m    345\u001b[0m \u001b[39mif\u001b[39;00m response:\n\u001b[1;32m--> 346\u001b[0m     \u001b[39mself\u001b[39;49m\u001b[39m.\u001b[39;49merror_handler\u001b[39m.\u001b[39;49mcheck_response(response)\n\u001b[0;32m    347\u001b[0m     response[\u001b[39m\"\u001b[39m\u001b[39mvalue\u001b[39m\u001b[39m\"\u001b[39m] \u001b[39m=\u001b[39m \u001b[39mself\u001b[39m\u001b[39m.\u001b[39m_unwrap_value(response\u001b[39m.\u001b[39mget(\u001b[39m\"\u001b[39m\u001b[39mvalue\u001b[39m\u001b[39m\"\u001b[39m, \u001b[39mNone\u001b[39;00m))\n\u001b[0;32m    348\u001b[0m     \u001b[39mreturn\u001b[39;00m response\n",
      "File \u001b[1;32mc:\\Users\\Kenji\\AppData\\Local\\Programs\\Python\\Python310\\lib\\site-packages\\selenium\\webdriver\\remote\\errorhandler.py:245\u001b[0m, in \u001b[0;36mErrorHandler.check_response\u001b[1;34m(self, response)\u001b[0m\n\u001b[0;32m    243\u001b[0m         alert_text \u001b[39m=\u001b[39m value[\u001b[39m\"\u001b[39m\u001b[39malert\u001b[39m\u001b[39m\"\u001b[39m]\u001b[39m.\u001b[39mget(\u001b[39m\"\u001b[39m\u001b[39mtext\u001b[39m\u001b[39m\"\u001b[39m)\n\u001b[0;32m    244\u001b[0m     \u001b[39mraise\u001b[39;00m exception_class(message, screen, stacktrace, alert_text)  \u001b[39m# type: ignore[call-arg]  # mypy is not smart enough here\u001b[39;00m\n\u001b[1;32m--> 245\u001b[0m \u001b[39mraise\u001b[39;00m exception_class(message, screen, stacktrace)\n",
      "\u001b[1;31mStaleElementReferenceException\u001b[0m: Message: stale element reference: stale element not found\n  (Session info: chrome=115.0.5790.102); For documentation on this error, please visit: https://www.selenium.dev/documentation/webdriver/troubleshooting/errors#stale-element-reference-exception\nStacktrace:\nBacktrace:\n\tGetHandleVerifier [0x00C1A813+48355]\n\t(No symbol) [0x00BAC4B1]\n\t(No symbol) [0x00AB5358]\n\t(No symbol) [0x00AB87A1]\n\t(No symbol) [0x00AB99E1]\n\t(No symbol) [0x00AB9A80]\n\t(No symbol) [0x00AE1D29]\n\t(No symbol) [0x00AD9DAD]\n\t(No symbol) [0x00AFA73C]\n\t(No symbol) [0x00AD9A36]\n\t(No symbol) [0x00AFAA94]\n\t(No symbol) [0x00B0C922]\n\t(No symbol) [0x00AFA536]\n\t(No symbol) [0x00AD82DC]\n\t(No symbol) [0x00AD93DD]\n\tGetHandleVerifier [0x00E7AABD+2539405]\n\tGetHandleVerifier [0x00EBA78F+2800735]\n\tGetHandleVerifier [0x00EB456C+2775612]\n\tGetHandleVerifier [0x00CA51E0+616112]\n\t(No symbol) [0x00BB5F8C]\n\t(No symbol) [0x00BB2328]\n\t(No symbol) [0x00BB240B]\n\t(No symbol) [0x00BA4FF7]\n\tBaseThreadInitThunk [0x76D205C9+25]\n\tRtlGetAppContainerNamedObjectPath [0x77B777AD+237]\n\tRtlGetAppContainerNamedObjectPath [0x77B7777D+189]\n"
     ]
    }
   ],
   "source": [
    "# Aperta o botão de próxima página.\n",
    "print('pag1')\n",
    "button_proximo = driver.find_element(By.ID, 'grdDocumentos_next')\n",
    "button_proximo.click()\n",
    "driver.implicitly_wait(5)\n",
    "\n",
    "print('pag2')\n",
    "button_proximo = driver.find_element(By.ID, 'grdDocumentos_next')\n",
    "button_proximo.click()\n",
    "driver.implicitly_wait(5)\n",
    "\n",
    "#print('pag3')\n",
    "#button_proximo = driver.find_element(By.ID, 'grdDocumentos_next')\n",
    "#button_proximo.click()\n",
    "#driver.implicitly_wait(5)"
   ]
  }
 ],
 "metadata": {
  "kernelspec": {
   "display_name": "Python 3",
   "language": "python",
   "name": "python3"
  },
  "language_info": {
   "codemirror_mode": {
    "name": "ipython",
    "version": 3
   },
   "file_extension": ".py",
   "mimetype": "text/x-python",
   "name": "python",
   "nbconvert_exporter": "python",
   "pygments_lexer": "ipython3",
   "version": "3.10.4"
  },
  "orig_nbformat": 4
 },
 "nbformat": 4,
 "nbformat_minor": 2
}
