{
 "cells": [
  {
   "attachments": {},
   "cell_type": "markdown",
   "metadata": {},
   "source": [
    "# Skills keywords\n",
    "\n",
    "Objective: identifying skills keywords from job descritions with basic NLP techniques."
   ]
  },
  {
   "cell_type": "code",
   "execution_count": 246,
   "metadata": {},
   "outputs": [],
   "source": [
    "import collections\n",
    "import json\n",
    "import matplotlib.pyplot as plt\n",
    "import nltk\n",
    "import pandas as pd\n",
    "from wordcloud import WordCloud\n",
    "\n",
    "from selenium import webdriver\n",
    "from bs4 import BeautifulSoup\n",
    "import time\n",
    "import string\n",
    "import numpy as np\n",
    "import seaborn as sns\n",
    "from tqdm import tqdm"
   ]
  },
  {
   "attachments": {},
   "cell_type": "markdown",
   "metadata": {},
   "source": [
    "## Data extraction"
   ]
  },
  {
   "cell_type": "code",
   "execution_count": 247,
   "metadata": {},
   "outputs": [],
   "source": [
    "def url_to_soup(url):\n",
    "    \"\"\"\"\n",
    "    Step 1: extract url's html into soup object.\n",
    "    \"\"\"\n",
    "    driver = webdriver.Chrome()\n",
    "    driver.get(url)\n",
    "\n",
    "    time.sleep(3)\n",
    "    html = driver.page_source\n",
    "    soup = BeautifulSoup(html, \"html.parser\")\n",
    "    driver.close()\n",
    "    return soup\n",
    "\n",
    "# Check.\n",
    "#url = \"https://www.linkedin.com/jobs/search?keywords=Senior%20Data%20Scientist&location=United%20States\"\n",
    "#soup = url_to_soup(url)"
   ]
  },
  {
   "cell_type": "code",
   "execution_count": 248,
   "metadata": {},
   "outputs": [],
   "source": [
    "def soup_to_jobs(soup):\n",
    "    \"\"\"\"\n",
    "    Step 2: get all jobs specific url from the LinkedIn general search.\n",
    "    \"\"\"\n",
    "    descriptions = soup.find_all(\"a\", class_=\"base-card__full-link absolute top-0 right-0 bottom-0 left-0 p-0 z-[2]\")\n",
    "\n",
    "    list_job_href = [i.get('href') for i in descriptions]\n",
    "    print(f\"Jobs found: {len(list_job_href)}\")\n",
    "    \n",
    "    return list_job_href\n",
    "\n",
    "# Check.\n",
    "#list_job_href = soup_to_jobs(soup)"
   ]
  },
  {
   "cell_type": "code",
   "execution_count": 249,
   "metadata": {},
   "outputs": [],
   "source": [
    "def jobs_to_description(list_href):\n",
    "    \"\"\"\n",
    "    Step 3: extract raw job description from job posting.\n",
    "    \"\"\"\n",
    "    list_title = []\n",
    "    list_description = []\n",
    "    \n",
    "    for href in list_href:\n",
    "        soup = url_to_soup(href)\n",
    "        list_title.append(soup.find('title').string)\n",
    "        list_description.append(soup.find('div', class_='show-more-less-html__markup show-more-less-html__markup--clamp-after-5').get_text())\n",
    "\n",
    "    df = pd.DataFrame({'title': list_title, 'href': list_href, 'description':list_description})\n",
    "    return df\n",
    "\n",
    "# Check\n",
    "#df = jobs_to_description(list_job_href[:3])"
   ]
  },
  {
   "cell_type": "code",
   "execution_count": 250,
   "metadata": {},
   "outputs": [
    {
     "data": {
      "text/plain": [
       "['https://www.linkedin.com/jobs/search?keywords=Senior%20Data%20Scientist&location=Alabama&position=1&pageNum=0',\n",
       " 'https://www.linkedin.com/jobs/search?keywords=Senior%20Data%20Scientist&location=Alabama&f_TPR=&f_E=4&position=1&pageNum=0',\n",
       " 'https://www.linkedin.com/jobs/search?keywords=Data%20Scientist%20III&location=Alabama&position=1&pageNum=0',\n",
       " 'https://www.linkedin.com/jobs/search?keywords=Senior%20Data%20Scientist&location=Alaska&position=1&pageNum=0',\n",
       " 'https://www.linkedin.com/jobs/search?keywords=Senior%20Data%20Scientist&location=Alaska&f_TPR=&f_E=4&position=1&pageNum=0']"
      ]
     },
     "execution_count": 250,
     "metadata": {},
     "output_type": "execute_result"
    }
   ],
   "source": [
    "# Creating single list of LinkedIn job's urls passing specific filters.\n",
    "df_states = pd.read_html('https://www.jagranjosh.com/general-knowledge/list-of-states-in-usa-1663078166-1', header=0)[0]\n",
    "df_states['State'] = df_states['State'].str.replace(' ', '%20')\n",
    "\n",
    "\n",
    "list_url = []\n",
    "for i in df_states['State']:\n",
    "    # Name: Senior Data Scientist.\n",
    "    list_url.append(f'https://www.linkedin.com/jobs/search?keywords=Senior%20Data%20Scientist&location={i}&position=1&pageNum=0')\n",
    "\n",
    "    # Experience level: mid-senior level.\n",
    "    list_url.append(f'https://www.linkedin.com/jobs/search?keywords=Senior%20Data%20Scientist&location={i}&f_TPR=&f_E=4&position=1&pageNum=0')\n",
    "\n",
    "    # Name: Data Scientist III\n",
    "    list_url.append(f'https://www.linkedin.com/jobs/search?keywords=Data%20Scientist%20III&location={i}&position=1&pageNum=0')\n",
    "\n",
    "list_url[:5]"
   ]
  },
  {
   "cell_type": "code",
   "execution_count": 251,
   "metadata": {},
   "outputs": [],
   "source": [
    "def pipeline_extract(list_url):\n",
    "    \"\"\"\n",
    "    Step 1 + 2 + 3: encapsulate all exctraction steps.\n",
    "    \"\"\"\n",
    "\n",
    "    df_output = pd.DataFrame()\n",
    "    for i in tqdm(list_url):\n",
    "        try:\n",
    "            soup = url_to_soup(i)\n",
    "            list_job_href = soup_to_jobs(soup)\n",
    "            df = jobs_to_description(list_job_href)\n",
    "            df_output = pd.concat([df_output, df], axis=0).reset_index(drop=True)\n",
    "        except:\n",
    "            print(f\"The url {i} did not return jobs.\")\n",
    "\n",
    "    df_output.drop_duplicates(inplace=True)\n",
    "    return df_output"
   ]
  },
  {
   "cell_type": "code",
   "execution_count": 252,
   "metadata": {},
   "outputs": [],
   "source": [
    "#df_raw = pipeline_extract(list_url)\n",
    "df_raw = pd.read_csv('teste.csv')"
   ]
  },
  {
   "cell_type": "code",
   "execution_count": 253,
   "metadata": {},
   "outputs": [
    {
     "data": {
      "text/plain": [
       "'https://www.linkedin.com/jobs/view/data-scientist-at-ignitec-inc-3549564083?refId=Zax6RSoNQCl7RXrdHQkrtQ%3D%3D&trackingId=kuRJ3ThR1RSYhPjGOOE7vA%3D%3D&position=4&pageNum=0&trk=public_jobs_jserp-result_search-card'"
      ]
     },
     "execution_count": 253,
     "metadata": {},
     "output_type": "execute_result"
    }
   ],
   "source": [
    "df_raw.loc[3, 'href']"
   ]
  },
  {
   "cell_type": "code",
   "execution_count": 254,
   "metadata": {},
   "outputs": [
    {
     "data": {
      "text/plain": [
       "['https://www.linkedin.com/jobs/search?keywords=Senior%20Data%20Scientist&location=Alabama&position=1&pageNum=0',\n",
       " 'https://www.linkedin.com/jobs/search?keywords=Senior%20Data%20Scientist&location=Alabama&f_TPR=&f_E=4&position=1&pageNum=0',\n",
       " 'https://www.linkedin.com/jobs/search?keywords=Data%20Scientist%20III&location=Alabama&position=1&pageNum=0',\n",
       " 'https://www.linkedin.com/jobs/search?keywords=Senior%20Data%20Scientist&location=Alaska&position=1&pageNum=0',\n",
       " 'https://www.linkedin.com/jobs/search?keywords=Senior%20Data%20Scientist&location=Alaska&f_TPR=&f_E=4&position=1&pageNum=0']"
      ]
     },
     "execution_count": 254,
     "metadata": {},
     "output_type": "execute_result"
    }
   ],
   "source": [
    "# Creating single list of LinkedIn job's urls passing specific filters.\n",
    "df_states = pd.read_html('https://www.jagranjosh.com/general-knowledge/list-of-states-in-usa-1663078166-1', header=0)[0]\n",
    "df_states['State'] = df_states['State'].str.replace(' ', '%20')\n",
    "\n",
    "\n",
    "list_url = []\n",
    "for i in df_states['State']:\n",
    "    # Name: Senior Data Scientist.\n",
    "    list_url.append(f'https://www.linkedin.com/jobs/search?keywords=Senior%20Data%20Scientist&location={i}&position=1&pageNum=0')\n",
    "\n",
    "    # Experience level: mid-senior level.\n",
    "    list_url.append(f'https://www.linkedin.com/jobs/search?keywords=Senior%20Data%20Scientist&location={i}&f_TPR=&f_E=4&position=1&pageNum=0')\n",
    "\n",
    "    # Name: Data Scientist III\n",
    "    list_url.append(f'https://www.linkedin.com/jobs/search?keywords=Data%20Scientist%20III&location={i}&position=1&pageNum=0')\n",
    "\n",
    "list_url[:5]"
   ]
  },
  {
   "cell_type": "code",
   "execution_count": 255,
   "metadata": {},
   "outputs": [
    {
     "data": {
      "text/html": [
       "<div>\n",
       "<style scoped>\n",
       "    .dataframe tbody tr th:only-of-type {\n",
       "        vertical-align: middle;\n",
       "    }\n",
       "\n",
       "    .dataframe tbody tr th {\n",
       "        vertical-align: top;\n",
       "    }\n",
       "\n",
       "    .dataframe thead th {\n",
       "        text-align: right;\n",
       "    }\n",
       "</style>\n",
       "<table border=\"1\" class=\"dataframe\">\n",
       "  <thead>\n",
       "    <tr style=\"text-align: right;\">\n",
       "      <th></th>\n",
       "      <th>title</th>\n",
       "      <th>href</th>\n",
       "      <th>description</th>\n",
       "    </tr>\n",
       "  </thead>\n",
       "  <tbody>\n",
       "    <tr>\n",
       "      <th>0</th>\n",
       "      <td>Recruiting from Scratch está contratando Senio...</td>\n",
       "      <td>https://www.linkedin.com/jobs/view/senior-data...</td>\n",
       "      <td>\\nWho is Recruiting from Scratch: Recruiting f...</td>\n",
       "    </tr>\n",
       "    <tr>\n",
       "      <th>1</th>\n",
       "      <td>Recruiting from Scratch está contratando Senio...</td>\n",
       "      <td>https://www.linkedin.com/jobs/view/senior-data...</td>\n",
       "      <td>\\nWho is Recruiting from Scratch: Recruiting f...</td>\n",
       "    </tr>\n",
       "    <tr>\n",
       "      <th>2</th>\n",
       "      <td>Intuitive Research and Technology Corporation ...</td>\n",
       "      <td>https://www.linkedin.com/jobs/view/entry-level...</td>\n",
       "      <td>\\nINTUITIVE® is a nationally recognized Best P...</td>\n",
       "    </tr>\n",
       "    <tr>\n",
       "      <th>3</th>\n",
       "      <td>Ignitec Inc está contratando Data Scientist em...</td>\n",
       "      <td>https://www.linkedin.com/jobs/view/data-scient...</td>\n",
       "      <td>\\nRole: Data Scientist Pay: $110,000-$130,000L...</td>\n",
       "    </tr>\n",
       "    <tr>\n",
       "      <th>4</th>\n",
       "      <td>ISSAC LLC está contratando Data Scientist em: ...</td>\n",
       "      <td>https://www.linkedin.com/jobs/view/data-scient...</td>\n",
       "      <td>\\n        Category: Engineering Location: Hunt...</td>\n",
       "    </tr>\n",
       "    <tr>\n",
       "      <th>...</th>\n",
       "      <td>...</td>\n",
       "      <td>...</td>\n",
       "      <td>...</td>\n",
       "    </tr>\n",
       "    <tr>\n",
       "      <th>2331</th>\n",
       "      <td>3.000 vagas de Data Scientist Iii em: Estados ...</td>\n",
       "      <td>https://www.linkedin.com/jobs/data-scientist-i...</td>\n",
       "      <td>\\nTitle: Bioanalytical Scientist, DiscoveryLoc...</td>\n",
       "    </tr>\n",
       "    <tr>\n",
       "      <th>2332</th>\n",
       "      <td>3.000 vagas de Data Scientist Iii em: Estados ...</td>\n",
       "      <td>https://www.linkedin.com/jobs/data-scientist-i...</td>\n",
       "      <td>\\nJOB DESCRIPTIONThe role of the “Chemistry, M...</td>\n",
       "    </tr>\n",
       "    <tr>\n",
       "      <th>2333</th>\n",
       "      <td>3.000 vagas de Data Scientist Iii em: Estados ...</td>\n",
       "      <td>https://www.linkedin.com/jobs/data-scientist-i...</td>\n",
       "      <td>\\n        12 Month Contract (Likelihood to ext...</td>\n",
       "    </tr>\n",
       "    <tr>\n",
       "      <th>2334</th>\n",
       "      <td>3.000 vagas de Data Scientist Iii em: Estados ...</td>\n",
       "      <td>https://www.linkedin.com/jobs/data-scientist-i...</td>\n",
       "      <td>\\nAbout Company: HiFiBiO Therapeutics is an em...</td>\n",
       "    </tr>\n",
       "    <tr>\n",
       "      <th>2335</th>\n",
       "      <td>3.000 vagas de Data Scientist Iii em: Estados ...</td>\n",
       "      <td>https://www.linkedin.com/jobs/data-scientist-i...</td>\n",
       "      <td>\\nProcess Scientist IIIOur client is a growing...</td>\n",
       "    </tr>\n",
       "  </tbody>\n",
       "</table>\n",
       "<p>2336 rows × 3 columns</p>\n",
       "</div>"
      ],
      "text/plain": [
       "                                                  title  \\\n",
       "0     Recruiting from Scratch está contratando Senio...   \n",
       "1     Recruiting from Scratch está contratando Senio...   \n",
       "2     Intuitive Research and Technology Corporation ...   \n",
       "3     Ignitec Inc está contratando Data Scientist em...   \n",
       "4     ISSAC LLC está contratando Data Scientist em: ...   \n",
       "...                                                 ...   \n",
       "2331  3.000 vagas de Data Scientist Iii em: Estados ...   \n",
       "2332  3.000 vagas de Data Scientist Iii em: Estados ...   \n",
       "2333  3.000 vagas de Data Scientist Iii em: Estados ...   \n",
       "2334  3.000 vagas de Data Scientist Iii em: Estados ...   \n",
       "2335  3.000 vagas de Data Scientist Iii em: Estados ...   \n",
       "\n",
       "                                                   href  \\\n",
       "0     https://www.linkedin.com/jobs/view/senior-data...   \n",
       "1     https://www.linkedin.com/jobs/view/senior-data...   \n",
       "2     https://www.linkedin.com/jobs/view/entry-level...   \n",
       "3     https://www.linkedin.com/jobs/view/data-scient...   \n",
       "4     https://www.linkedin.com/jobs/view/data-scient...   \n",
       "...                                                 ...   \n",
       "2331  https://www.linkedin.com/jobs/data-scientist-i...   \n",
       "2332  https://www.linkedin.com/jobs/data-scientist-i...   \n",
       "2333  https://www.linkedin.com/jobs/data-scientist-i...   \n",
       "2334  https://www.linkedin.com/jobs/data-scientist-i...   \n",
       "2335  https://www.linkedin.com/jobs/data-scientist-i...   \n",
       "\n",
       "                                            description  \n",
       "0     \\nWho is Recruiting from Scratch: Recruiting f...  \n",
       "1     \\nWho is Recruiting from Scratch: Recruiting f...  \n",
       "2     \\nINTUITIVE® is a nationally recognized Best P...  \n",
       "3     \\nRole: Data Scientist Pay: $110,000-$130,000L...  \n",
       "4     \\n        Category: Engineering Location: Hunt...  \n",
       "...                                                 ...  \n",
       "2331  \\nTitle: Bioanalytical Scientist, DiscoveryLoc...  \n",
       "2332  \\nJOB DESCRIPTIONThe role of the “Chemistry, M...  \n",
       "2333  \\n        12 Month Contract (Likelihood to ext...  \n",
       "2334  \\nAbout Company: HiFiBiO Therapeutics is an em...  \n",
       "2335  \\nProcess Scientist IIIOur client is a growing...  \n",
       "\n",
       "[2336 rows x 3 columns]"
      ]
     },
     "execution_count": 255,
     "metadata": {},
     "output_type": "execute_result"
    }
   ],
   "source": [
    "#df_raw.sample(5)\n",
    "df_raw.to_csv('teste.csv', index=False)\n",
    "#df_raw = pd.read_csv('dataset.csv')\n",
    "df_raw"
   ]
  },
  {
   "cell_type": "code",
   "execution_count": 256,
   "metadata": {},
   "outputs": [
    {
     "data": {
      "text/plain": [
       "'https://www.linkedin.com/jobs/view/senior-data-scientist-at-recruiting-from-scratch-3437494438?refId=Zax6RSoNQCl7RXrdHQkrtQ%3D%3D&trackingId=ThPAtTHan7ormTmSapg1lw%3D%3D&position=2&pageNum=0&trk=public_jobs_jserp-result_search-card'"
      ]
     },
     "execution_count": 256,
     "metadata": {},
     "output_type": "execute_result"
    }
   ],
   "source": [
    "df_raw.loc[0, 'href']\n",
    "df_raw.loc[1, 'href']"
   ]
  },
  {
   "attachments": {},
   "cell_type": "markdown",
   "metadata": {},
   "source": [
    "## Data preprocessing"
   ]
  },
  {
   "cell_type": "code",
   "execution_count": 296,
   "metadata": {},
   "outputs": [],
   "source": [
    "df_eda = df_raw.copy(deep=True)"
   ]
  },
  {
   "cell_type": "code",
   "execution_count": 261,
   "metadata": {},
   "outputs": [],
   "source": [
    "def nlp_preprocessing(descr, stopwords, lem):\n",
    "\n",
    "\n",
    "    # Specific case: \"/\"\n",
    "    descr = descr.replace('/', ' ')\n",
    "\n",
    "    # Tokenize description column.\n",
    "    tokens = nltk.tokenize.word_tokenize(descr)\n",
    "\n",
    "    # Lowercase all tokens.\n",
    "    tokens = [i.lower() for i in tokens]\n",
    "\n",
    "    # Remove punctuation.\n",
    "    tokens = [i for i in tokens if i not in string.punctuation + '’' + '--']\n",
    "\n",
    "    # Using nltk default stopwords.\n",
    "    #nltk.download('stopwords')\n",
    "    #stopwords = nltk.corpus.stopwords.words('english')\n",
    "    tokens = [i for i in tokens if not i in stopwords]\n",
    "\n",
    "    # Stemming\n",
    "    #ps = nltk.stem.SnowballStemmer(language='english')\n",
    "    #tokens = [ps.stem(i) for i in tokens]\n",
    "\n",
    "    # Lemmatization\n",
    "    #nltk.download('wordnet')\n",
    "    #lem = nltk.stem.WordNetLemmatizer()\n",
    "    tokens = [lem.lemmatize(i) for i in tokens]\n",
    "\n",
    "    # Apply corrections within dict.\n",
    "    #with open('dict.json', 'r') as f:\n",
    "    #    custom_dict = json.load(f)\n",
    "    \n",
    "    #for i in custom_dict.items():\n",
    "    #    if i[0] in descr:\n",
    "    #        tokens = [i.replace(i[0], i[1]) for i in tokens]\n",
    "\n",
    "    # Removing context relevant stopwords.\n",
    "    list_custom_words = pd.read_csv('advanced_stopwords.csv', header=None, index_col=False).iloc[:, 0].tolist()\n",
    "    tokens = [i for i in tokens if not i in list_custom_words]\n",
    "\n",
    "    return tokens\n"
   ]
  },
  {
   "cell_type": "code",
   "execution_count": 297,
   "metadata": {},
   "outputs": [
    {
     "name": "stderr",
     "output_type": "stream",
     "text": [
      "[nltk_data] Downloading package stopwords to\n",
      "[nltk_data]     C:\\Users\\Kenji\\AppData\\Roaming\\nltk_data...\n",
      "[nltk_data]   Package stopwords is already up-to-date!\n",
      "[nltk_data] Downloading package wordnet to\n",
      "[nltk_data]     C:\\Users\\Kenji\\AppData\\Roaming\\nltk_data...\n",
      "[nltk_data]   Package wordnet is already up-to-date!\n"
     ]
    },
    {
     "data": {
      "text/html": [
       "<div>\n",
       "<style scoped>\n",
       "    .dataframe tbody tr th:only-of-type {\n",
       "        vertical-align: middle;\n",
       "    }\n",
       "\n",
       "    .dataframe tbody tr th {\n",
       "        vertical-align: top;\n",
       "    }\n",
       "\n",
       "    .dataframe thead th {\n",
       "        text-align: right;\n",
       "    }\n",
       "</style>\n",
       "<table border=\"1\" class=\"dataframe\">\n",
       "  <thead>\n",
       "    <tr style=\"text-align: right;\">\n",
       "      <th></th>\n",
       "      <th>title</th>\n",
       "      <th>href</th>\n",
       "      <th>description</th>\n",
       "      <th>tokens</th>\n",
       "    </tr>\n",
       "  </thead>\n",
       "  <tbody>\n",
       "    <tr>\n",
       "      <th>0</th>\n",
       "      <td>Recruiting from Scratch está contratando Senio...</td>\n",
       "      <td>https://www.linkedin.com/jobs/view/senior-data...</td>\n",
       "      <td>\\nWho is Recruiting from Scratch: Recruiting f...</td>\n",
       "      <td>[placing, manager, software, hardware, innovat...</td>\n",
       "    </tr>\n",
       "    <tr>\n",
       "      <th>1</th>\n",
       "      <td>Recruiting from Scratch está contratando Senio...</td>\n",
       "      <td>https://www.linkedin.com/jobs/view/senior-data...</td>\n",
       "      <td>\\nWho is Recruiting from Scratch: Recruiting f...</td>\n",
       "      <td>[placing, manager, software, hardware, innovat...</td>\n",
       "    </tr>\n",
       "    <tr>\n",
       "      <th>2</th>\n",
       "      <td>Intuitive Research and Technology Corporation ...</td>\n",
       "      <td>https://www.linkedin.com/jobs/view/entry-level...</td>\n",
       "      <td>\\nINTUITIVE® is a nationally recognized Best P...</td>\n",
       "      <td>[intuitive®, nationally, recognized, place, pr...</td>\n",
       "    </tr>\n",
       "    <tr>\n",
       "      <th>3</th>\n",
       "      <td>Ignitec Inc está contratando Data Scientist em...</td>\n",
       "      <td>https://www.linkedin.com/jobs/view/data-scient...</td>\n",
       "      <td>\\nRole: Data Scientist Pay: $110,000-$130,000L...</td>\n",
       "      <td>[data, pay, 110,000-, 130,000location, huntsvi...</td>\n",
       "    </tr>\n",
       "    <tr>\n",
       "      <th>4</th>\n",
       "      <td>ISSAC LLC está contratando Data Scientist em: ...</td>\n",
       "      <td>https://www.linkedin.com/jobs/view/data-scient...</td>\n",
       "      <td>\\n        Category: Engineering Location: Hunt...</td>\n",
       "      <td>[category, engineering, location, huntsville, ...</td>\n",
       "    </tr>\n",
       "  </tbody>\n",
       "</table>\n",
       "</div>"
      ],
      "text/plain": [
       "                                               title  \\\n",
       "0  Recruiting from Scratch está contratando Senio...   \n",
       "1  Recruiting from Scratch está contratando Senio...   \n",
       "2  Intuitive Research and Technology Corporation ...   \n",
       "3  Ignitec Inc está contratando Data Scientist em...   \n",
       "4  ISSAC LLC está contratando Data Scientist em: ...   \n",
       "\n",
       "                                                href  \\\n",
       "0  https://www.linkedin.com/jobs/view/senior-data...   \n",
       "1  https://www.linkedin.com/jobs/view/senior-data...   \n",
       "2  https://www.linkedin.com/jobs/view/entry-level...   \n",
       "3  https://www.linkedin.com/jobs/view/data-scient...   \n",
       "4  https://www.linkedin.com/jobs/view/data-scient...   \n",
       "\n",
       "                                         description  \\\n",
       "0  \\nWho is Recruiting from Scratch: Recruiting f...   \n",
       "1  \\nWho is Recruiting from Scratch: Recruiting f...   \n",
       "2  \\nINTUITIVE® is a nationally recognized Best P...   \n",
       "3  \\nRole: Data Scientist Pay: $110,000-$130,000L...   \n",
       "4  \\n        Category: Engineering Location: Hunt...   \n",
       "\n",
       "                                              tokens  \n",
       "0  [placing, manager, software, hardware, innovat...  \n",
       "1  [placing, manager, software, hardware, innovat...  \n",
       "2  [intuitive®, nationally, recognized, place, pr...  \n",
       "3  [data, pay, 110,000-, 130,000location, huntsvi...  \n",
       "4  [category, engineering, location, huntsville, ...  "
      ]
     },
     "execution_count": 297,
     "metadata": {},
     "output_type": "execute_result"
    }
   ],
   "source": [
    "# Preprocessing each job description composing a new column: tokens\n",
    "nltk.download('stopwords')\n",
    "stopwords = nltk.corpus.stopwords.words('english')\n",
    "\n",
    "nltk.download('wordnet')\n",
    "lem = nltk.stem.WordNetLemmatizer()\n",
    "\n",
    "df_eda['tokens'] = None\n",
    "\n",
    "for index, row in df_clean.iterrows():\n",
    "    df_eda.at[index, 'tokens'] = nlp_preprocessing(row['description'], stopwords, lem)\n",
    "\n",
    "df_eda.head()"
   ]
  },
  {
   "cell_type": "code",
   "execution_count": 266,
   "metadata": {},
   "outputs": [
    {
     "data": {
      "text/plain": [
       "'\\ndef nlp_preprocessing(df):\\n\\n    long_string = df[\\'description\\'].str.cat(sep=\\' \\')\\n\\n    # Specific case: \"/\"\\n    long_string = long_string.replace(\\'/\\', \\' \\')\\n\\n    # Tokenize description column.\\n    tokens = nltk.tokenize.word_tokenize(long_string)\\n\\n    # Lowercase all tokens.\\n    tokens = [i.lower() for i in tokens]\\n\\n    # Remove punctuation.\\n    tokens = [i for i in tokens if i not in string.punctuation + \\'’\\' + \\'--\\']\\n\\n    # Using nltk default stopwords.\\n    nltk.download(\\'stopwords\\')\\n    stopwords = nltk.corpus.stopwords.words(\\'english\\')\\n    tokens = [i for i in tokens if not i in stopwords]\\n\\n    # Stemming\\n    #ps = nltk.stem.SnowballStemmer(language=\\'english\\')\\n    #tokens = [ps.stem(i) for i in tokens]\\n\\n    # Lemmatization\\n    nltk.download(\\'wordnet\\')\\n    lem = nltk.stem.WordNetLemmatizer()\\n    tokens = [lem.lemmatize(i) for i in tokens]\\n\\n    # Apply corrections within dict.\\n    with open(\\'dict.json\\', \\'r\\') as f:\\n        custom_dict = json.load(f)\\n    \\n    for i in custom_dict.items():\\n        if i[0] in long_string:\\n            long_string = long_string.replace(i[0], i[1])\\n\\n    # Removing context relevant stopwords.\\n    list_custom_words = pd.read_csv(\\'advanced_stopwords.csv\\', header=None, index_col=False).iloc[:, 0].tolist()\\n    tokens = [i for i in tokens if not i in list_custom_words]\\n\\n    #wordcloud = WordCloud(width=1500, height=500).generate(\\' \\'.join(tokens))\\n    #plt.figure(figsize=(25,7))\\n    #plt.imshow(wordcloud)\\n    return tokens\\n    \\n\\ntokens = nlp_preprocessing(df_raw)\\ntokens[:5]\\n'"
      ]
     },
     "execution_count": 266,
     "metadata": {},
     "output_type": "execute_result"
    }
   ],
   "source": [
    "'''\n",
    "def nlp_preprocessing(df):\n",
    "\n",
    "    long_string = df['description'].str.cat(sep=' ')\n",
    "\n",
    "    # Specific case: \"/\"\n",
    "    long_string = long_string.replace('/', ' ')\n",
    "\n",
    "    # Tokenize description column.\n",
    "    tokens = nltk.tokenize.word_tokenize(long_string)\n",
    "\n",
    "    # Lowercase all tokens.\n",
    "    tokens = [i.lower() for i in tokens]\n",
    "\n",
    "    # Remove punctuation.\n",
    "    tokens = [i for i in tokens if i not in string.punctuation + '’' + '--']\n",
    "\n",
    "    # Using nltk default stopwords.\n",
    "    nltk.download('stopwords')\n",
    "    stopwords = nltk.corpus.stopwords.words('english')\n",
    "    tokens = [i for i in tokens if not i in stopwords]\n",
    "\n",
    "    # Stemming\n",
    "    #ps = nltk.stem.SnowballStemmer(language='english')\n",
    "    #tokens = [ps.stem(i) for i in tokens]\n",
    "\n",
    "    # Lemmatization\n",
    "    nltk.download('wordnet')\n",
    "    lem = nltk.stem.WordNetLemmatizer()\n",
    "    tokens = [lem.lemmatize(i) for i in tokens]\n",
    "\n",
    "    # Apply corrections within dict.\n",
    "    with open('dict.json', 'r') as f:\n",
    "        custom_dict = json.load(f)\n",
    "    \n",
    "    for i in custom_dict.items():\n",
    "        if i[0] in long_string:\n",
    "            long_string = long_string.replace(i[0], i[1])\n",
    "\n",
    "    # Removing context relevant stopwords.\n",
    "    list_custom_words = pd.read_csv('advanced_stopwords.csv', header=None, index_col=False).iloc[:, 0].tolist()\n",
    "    tokens = [i for i in tokens if not i in list_custom_words]\n",
    "\n",
    "    #wordcloud = WordCloud(width=1500, height=500).generate(' '.join(tokens))\n",
    "    #plt.figure(figsize=(25,7))\n",
    "    #plt.imshow(wordcloud)\n",
    "    return tokens\n",
    "    \n",
    "\n",
    "tokens = nlp_preprocessing(df_raw)\n",
    "tokens[:5]\n",
    "'''"
   ]
  },
  {
   "attachments": {},
   "cell_type": "markdown",
   "metadata": {},
   "source": [
    "## Analysis"
   ]
  },
  {
   "cell_type": "code",
   "execution_count": 298,
   "metadata": {},
   "outputs": [
    {
     "data": {
      "text/html": [
       "<div>\n",
       "<style scoped>\n",
       "    .dataframe tbody tr th:only-of-type {\n",
       "        vertical-align: middle;\n",
       "    }\n",
       "\n",
       "    .dataframe tbody tr th {\n",
       "        vertical-align: top;\n",
       "    }\n",
       "\n",
       "    .dataframe thead th {\n",
       "        text-align: right;\n",
       "    }\n",
       "</style>\n",
       "<table border=\"1\" class=\"dataframe\">\n",
       "  <thead>\n",
       "    <tr style=\"text-align: right;\">\n",
       "      <th></th>\n",
       "      <th>token</th>\n",
       "      <th>qtd</th>\n",
       "    </tr>\n",
       "  </thead>\n",
       "  <tbody>\n",
       "    <tr>\n",
       "      <th>12</th>\n",
       "      <td>data</td>\n",
       "      <td>18155</td>\n",
       "    </tr>\n",
       "    <tr>\n",
       "      <th>92</th>\n",
       "      <td>year</td>\n",
       "      <td>4236</td>\n",
       "    </tr>\n",
       "    <tr>\n",
       "      <th>59</th>\n",
       "      <td>analysis</td>\n",
       "      <td>4014</td>\n",
       "    </tr>\n",
       "    <tr>\n",
       "      <th>175</th>\n",
       "      <td>learning</td>\n",
       "      <td>3158</td>\n",
       "    </tr>\n",
       "    <tr>\n",
       "      <th>178</th>\n",
       "      <td>model</td>\n",
       "      <td>2979</td>\n",
       "    </tr>\n",
       "  </tbody>\n",
       "</table>\n",
       "</div>"
      ],
      "text/plain": [
       "        token    qtd\n",
       "12       data  18155\n",
       "92       year   4236\n",
       "59   analysis   4014\n",
       "175  learning   3158\n",
       "178     model   2979"
      ]
     },
     "execution_count": 298,
     "metadata": {},
     "output_type": "execute_result"
    }
   ],
   "source": [
    "# Checking the frequency of words\n",
    "all_tokens = []\n",
    "for i in df_eda['tokens']:\n",
    "    all_tokens += i \n",
    "\n",
    "freq = collections.Counter(all_tokens)\n",
    "df_freq = pd.DataFrame({'token': freq.keys(), 'qtd': freq.values()}).sort_values('qtd', ascending=False)\n",
    "df_freq.head()"
   ]
  },
  {
   "cell_type": "code",
   "execution_count": 299,
   "metadata": {},
   "outputs": [
    {
     "data": {
      "image/png": "[encoded data removed]",
      "text/plain": [
       "<Figure size 1800x360 with 1 Axes>"
      ]
     },
     "metadata": {
      "needs_background": "light"
     },
     "output_type": "display_data"
    }
   ],
   "source": [
    "# Plot\n",
    "plt.figure(figsize=(25, 5))\n",
    "fig = sns.barplot(data=df_freq.head(50), x='token', y='qtd', color='gray')\n",
    "fig.tick_params(axis='x', rotation=45)"
   ]
  },
  {
   "attachments": {},
   "cell_type": "markdown",
   "metadata": {},
   "source": [
    "##### Frequency\n",
    "\n",
    "The frequency returned relevant words, like `data`, `machine` and `degree`. Althouth certainly there are cases like `python` or `r` in which just one word is enough, there are some words that are expected to be linked to other, like `deep learning` or `data visualization`.  "
   ]
  },
  {
   "cell_type": "code",
   "execution_count": 118,
   "metadata": {},
   "outputs": [
    {
     "name": "stderr",
     "output_type": "stream",
     "text": [
      "C:\\Users\\Kenji\\AppData\\Local\\Temp\\ipykernel_2968\\2258299198.py:6: SettingWithCopyWarning: \n",
      "A value is trying to be set on a copy of a slice from a DataFrame.\n",
      "Try using .loc[row_indexer,col_indexer] = value instead\n",
      "\n",
      "See the caveats in the documentation: https://pandas.pydata.org/pandas-docs/stable/user_guide/indexing.html#returning-a-view-versus-a-copy\n",
      "  df_lang['perc'] = (df_lang['qtd'] / df_lang['qtd'].sum() * 100).astype(int)\n"
     ]
    },
    {
     "data": {
      "text/html": [
       "<div>\n",
       "<style scoped>\n",
       "    .dataframe tbody tr th:only-of-type {\n",
       "        vertical-align: middle;\n",
       "    }\n",
       "\n",
       "    .dataframe tbody tr th {\n",
       "        vertical-align: top;\n",
       "    }\n",
       "\n",
       "    .dataframe thead th {\n",
       "        text-align: right;\n",
       "    }\n",
       "</style>\n",
       "<table border=\"1\" class=\"dataframe\">\n",
       "  <thead>\n",
       "    <tr style=\"text-align: right;\">\n",
       "      <th></th>\n",
       "      <th>token</th>\n",
       "      <th>qtd</th>\n",
       "      <th>perc</th>\n",
       "    </tr>\n",
       "  </thead>\n",
       "  <tbody>\n",
       "    <tr>\n",
       "      <th>103</th>\n",
       "      <td>python</td>\n",
       "      <td>1540</td>\n",
       "      <td>32</td>\n",
       "    </tr>\n",
       "    <tr>\n",
       "      <th>104</th>\n",
       "      <td>r</td>\n",
       "      <td>1261</td>\n",
       "      <td>26</td>\n",
       "    </tr>\n",
       "    <tr>\n",
       "      <th>101</th>\n",
       "      <td>sql</td>\n",
       "      <td>964</td>\n",
       "      <td>20</td>\n",
       "    </tr>\n",
       "    <tr>\n",
       "      <th>395</th>\n",
       "      <td>java</td>\n",
       "      <td>261</td>\n",
       "      <td>5</td>\n",
       "    </tr>\n",
       "    <tr>\n",
       "      <th>610</th>\n",
       "      <td>c</td>\n",
       "      <td>180</td>\n",
       "      <td>3</td>\n",
       "    </tr>\n",
       "    <tr>\n",
       "      <th>396</th>\n",
       "      <td>scala</td>\n",
       "      <td>175</td>\n",
       "      <td>3</td>\n",
       "    </tr>\n",
       "    <tr>\n",
       "      <th>1394</th>\n",
       "      <td>go</td>\n",
       "      <td>138</td>\n",
       "      <td>2</td>\n",
       "    </tr>\n",
       "    <tr>\n",
       "      <th>1769</th>\n",
       "      <td>matlab</td>\n",
       "      <td>113</td>\n",
       "      <td>2</td>\n",
       "    </tr>\n",
       "    <tr>\n",
       "      <th>605</th>\n",
       "      <td>julia</td>\n",
       "      <td>51</td>\n",
       "      <td>1</td>\n",
       "    </tr>\n",
       "    <tr>\n",
       "      <th>607</th>\n",
       "      <td>javascript</td>\n",
       "      <td>47</td>\n",
       "      <td>0</td>\n",
       "    </tr>\n",
       "    <tr>\n",
       "      <th>39240</th>\n",
       "      <td>swift</td>\n",
       "      <td>4</td>\n",
       "      <td>0</td>\n",
       "    </tr>\n",
       "    <tr>\n",
       "      <th>17601</th>\n",
       "      <td>sas</td>\n",
       "      <td>1</td>\n",
       "      <td>0</td>\n",
       "    </tr>\n",
       "  </tbody>\n",
       "</table>\n",
       "</div>"
      ],
      "text/plain": [
       "            token   qtd  perc\n",
       "103        python  1540    32\n",
       "104             r  1261    26\n",
       "101           sql   964    20\n",
       "395          java   261     5\n",
       "610             c   180     3\n",
       "396         scala   175     3\n",
       "1394           go   138     2\n",
       "1769       matlab   113     2\n",
       "605         julia    51     1\n",
       "607    javascript    47     0\n",
       "39240       swift     4     0\n",
       "17601         sas     1     0"
      ]
     },
     "execution_count": 118,
     "metadata": {},
     "output_type": "execute_result"
    }
   ],
   "source": [
    "# Comparing different languages.\n",
    "list_lang = ['python', 'sql', 'r', 'java', 'c', 'go', 'julia', 'scala', 'javascript', 'swift', 'matlab', 'sas']\n",
    "# obs: languages obtained from https://www.datacamp.com/blog/top-programming-languages-for-data-scientists-in-2022\n",
    "\n",
    "df_lang = df_freq.loc[df_freq['token'].isin(list_lang)]\n",
    "df_lang['perc'] = (df_lang['qtd'] / df_lang['qtd'].sum() * 100).astype(int)\n",
    "\n",
    "df_lang"
   ]
  },
  {
   "cell_type": "code",
   "execution_count": 320,
   "metadata": {},
   "outputs": [
    {
     "name": "stdout",
     "output_type": "stream",
     "text": [
      "Frequency:\n",
      "- python: 0.5380993150684932\n",
      "- r: 0.4203767123287671\n",
      "- sql: 0.3240582191780822\n",
      "- None: 0.3386130136986301\n",
      "\n"
     ]
    }
   ],
   "source": [
    "# Checking the frequency of python, r and sql in job descriptions.\n",
    "df_clean['python'] = 0\n",
    "df_clean['r'] = 0\n",
    "df_clean['sql'] = 0\n",
    "\n",
    "for index, row in df_clean.iterrows():\n",
    "    if 'python' in row['tokens']:\n",
    "        df_clean.loc[index, 'python'] = 1\n",
    "    \n",
    "    if 'r' in row['tokens']:\n",
    "        df_clean.loc[index, 'r'] = 1\n",
    "    \n",
    "    if 'sql' in row['tokens']:\n",
    "        df_clean.loc[index, 'sql'] = 1\n",
    "\n",
    "\n",
    "print(f'''Frequency:\n",
    "- python: {df_clean['python'].sum() / df_clean.shape[0]}\n",
    "- r: {df_clean['r'].sum() / df_clean.shape[0]}\n",
    "- sql: {df_clean['sql'].sum() / df_clean.shape[0]}\n",
    "- None: {df_clean.loc[(df_clean['python'] == 0) & (df_clean['r'] == 0) & (df_clean['sql'] == 0)].shape[0] / df_clean.shape[0]}\n",
    "''')"
   ]
  },
  {
   "attachments": {},
   "cell_type": "markdown",
   "metadata": {},
   "source": [
    "##### Language\n",
    "\n",
    "The majority of program language is definitely `python`, `R` and `sql`, being present in almost in 3 of 4 job postings."
   ]
  },
  {
   "attachments": {},
   "cell_type": "markdown",
   "metadata": {},
   "source": [
    "### N-grams"
   ]
  },
  {
   "cell_type": "code",
   "execution_count": 120,
   "metadata": {},
   "outputs": [],
   "source": [
    "bigrams = list(nltk.ngrams(tokens, 2))\n",
    "bigrams = [frozenset(i) for i in bigrams]\n",
    "\n",
    "trigrams = list(nltk.ngrams(tokens, 3))\n",
    "trigrams = [frozenset(i) for i in trigrams]\n",
    "\n",
    "# disclaimer: since all job descriptions are merged, there will be n-grams formed of two separate corpus (e.g. last token of first document and first token of second document)."
   ]
  },
  {
   "cell_type": "code",
   "execution_count": 321,
   "metadata": {},
   "outputs": [],
   "source": [
    "# Organizing the bigram\n",
    "df_bi = pd.DataFrame({'bigram': bigrams}).value_counts().to_frame().reset_index().rename(columns={0:'qtd'})\n",
    "\n",
    "list_token1 = []\n",
    "list_token2 = []\n",
    "for i in df_bi['bigram']:\n",
    "    try:\n",
    "        token1, token2 = i\n",
    "        list_token1.append(token1)\n",
    "        list_token2.append(token2)\n",
    "    except:\n",
    "        token1 = i\n",
    "        list_token1.append(token1)\n",
    "        list_token2.append(token1)\n",
    "        \n",
    "df_bi['token1'] = list_token1\n",
    "df_bi['token2'] = list_token2"
   ]
  },
  {
   "cell_type": "code",
   "execution_count": 322,
   "metadata": {},
   "outputs": [
    {
     "data": {
      "text/html": [
       "<div>\n",
       "<style scoped>\n",
       "    .dataframe tbody tr th:only-of-type {\n",
       "        vertical-align: middle;\n",
       "    }\n",
       "\n",
       "    .dataframe tbody tr th {\n",
       "        vertical-align: top;\n",
       "    }\n",
       "\n",
       "    .dataframe thead th {\n",
       "        text-align: right;\n",
       "    }\n",
       "</style>\n",
       "<table border=\"1\" class=\"dataframe\">\n",
       "  <thead>\n",
       "    <tr style=\"text-align: right;\">\n",
       "      <th></th>\n",
       "      <th>count</th>\n",
       "      <th>mean</th>\n",
       "      <th>std</th>\n",
       "      <th>min</th>\n",
       "      <th>10%</th>\n",
       "      <th>20%</th>\n",
       "      <th>30%</th>\n",
       "      <th>40%</th>\n",
       "      <th>50%</th>\n",
       "      <th>60%</th>\n",
       "      <th>70%</th>\n",
       "      <th>80%</th>\n",
       "      <th>90%</th>\n",
       "      <th>max</th>\n",
       "    </tr>\n",
       "  </thead>\n",
       "  <tbody>\n",
       "    <tr>\n",
       "      <th>qtd</th>\n",
       "      <td>210143.0</td>\n",
       "      <td>3.2</td>\n",
       "      <td>10.5</td>\n",
       "      <td>1.0</td>\n",
       "      <td>1.0</td>\n",
       "      <td>1.0</td>\n",
       "      <td>1.0</td>\n",
       "      <td>1.0</td>\n",
       "      <td>1.0</td>\n",
       "      <td>2.0</td>\n",
       "      <td>2.0</td>\n",
       "      <td>3.0</td>\n",
       "      <td>5.0</td>\n",
       "      <td>2232.0</td>\n",
       "    </tr>\n",
       "  </tbody>\n",
       "</table>\n",
       "</div>"
      ],
      "text/plain": [
       "        count  mean   std  min  10%  20%  30%  40%  50%  60%  70%  80%  90%  \\\n",
       "qtd  210143.0   3.2  10.5  1.0  1.0  1.0  1.0  1.0  1.0  2.0  2.0  3.0  5.0   \n",
       "\n",
       "        max  \n",
       "qtd  2232.0  "
      ]
     },
     "execution_count": 322,
     "metadata": {},
     "output_type": "execute_result"
    }
   ],
   "source": [
    "df_bi.describe(percentiles=np.array(list(range(1, 10, 1)))/10).T.round(1)"
   ]
  },
  {
   "cell_type": "code",
   "execution_count": 324,
   "metadata": {},
   "outputs": [
    {
     "data": {
      "text/html": [
       "<div>\n",
       "<style scoped>\n",
       "    .dataframe tbody tr th:only-of-type {\n",
       "        vertical-align: middle;\n",
       "    }\n",
       "\n",
       "    .dataframe tbody tr th {\n",
       "        vertical-align: top;\n",
       "    }\n",
       "\n",
       "    .dataframe thead th {\n",
       "        text-align: right;\n",
       "    }\n",
       "</style>\n",
       "<table border=\"1\" class=\"dataframe\">\n",
       "  <thead>\n",
       "    <tr style=\"text-align: right;\">\n",
       "      <th></th>\n",
       "      <th>bigram</th>\n",
       "      <th>qtd</th>\n",
       "      <th>token1</th>\n",
       "      <th>token2</th>\n",
       "    </tr>\n",
       "  </thead>\n",
       "  <tbody>\n",
       "    <tr>\n",
       "      <th>0</th>\n",
       "      <td>(machine, learning)</td>\n",
       "      <td>2232</td>\n",
       "      <td>machine</td>\n",
       "      <td>learning</td>\n",
       "    </tr>\n",
       "    <tr>\n",
       "      <th>1</th>\n",
       "      <td>(analysis, data)</td>\n",
       "      <td>1018</td>\n",
       "      <td>analysis</td>\n",
       "      <td>data</td>\n",
       "    </tr>\n",
       "    <tr>\n",
       "      <th>2</th>\n",
       "      <td>(python, r)</td>\n",
       "      <td>738</td>\n",
       "      <td>python</td>\n",
       "      <td>r</td>\n",
       "    </tr>\n",
       "    <tr>\n",
       "      <th>3</th>\n",
       "      <td>(bachelor, degree)</td>\n",
       "      <td>716</td>\n",
       "      <td>bachelor</td>\n",
       "      <td>degree</td>\n",
       "    </tr>\n",
       "    <tr>\n",
       "      <th>4</th>\n",
       "      <td>(master, degree)</td>\n",
       "      <td>592</td>\n",
       "      <td>master</td>\n",
       "      <td>degree</td>\n",
       "    </tr>\n",
       "    <tr>\n",
       "      <th>5</th>\n",
       "      <td>(visualization, data)</td>\n",
       "      <td>586</td>\n",
       "      <td>visualization</td>\n",
       "      <td>data</td>\n",
       "    </tr>\n",
       "    <tr>\n",
       "      <th>6</th>\n",
       "      <td>(set, data)</td>\n",
       "      <td>515</td>\n",
       "      <td>set</td>\n",
       "      <td>data</td>\n",
       "    </tr>\n",
       "    <tr>\n",
       "      <th>7</th>\n",
       "      <td>(deep, learning)</td>\n",
       "      <td>492</td>\n",
       "      <td>deep</td>\n",
       "      <td>learning</td>\n",
       "    </tr>\n",
       "    <tr>\n",
       "      <th>8</th>\n",
       "      <td>(source, data)</td>\n",
       "      <td>470</td>\n",
       "      <td>source</td>\n",
       "      <td>data</td>\n",
       "    </tr>\n",
       "    <tr>\n",
       "      <th>9</th>\n",
       "      <td>(verbal, written)</td>\n",
       "      <td>442</td>\n",
       "      <td>verbal</td>\n",
       "      <td>written</td>\n",
       "    </tr>\n",
       "    <tr>\n",
       "      <th>10</th>\n",
       "      <td>(management, data)</td>\n",
       "      <td>438</td>\n",
       "      <td>management</td>\n",
       "      <td>data</td>\n",
       "    </tr>\n",
       "    <tr>\n",
       "      <th>11</th>\n",
       "      <td>(analysis, statistical)</td>\n",
       "      <td>421</td>\n",
       "      <td>analysis</td>\n",
       "      <td>statistical</td>\n",
       "    </tr>\n",
       "    <tr>\n",
       "      <th>12</th>\n",
       "      <td>(data)</td>\n",
       "      <td>411</td>\n",
       "      <td>(data)</td>\n",
       "      <td>(data)</td>\n",
       "    </tr>\n",
       "    <tr>\n",
       "      <th>13</th>\n",
       "      <td>(characteristic, protected)</td>\n",
       "      <td>389</td>\n",
       "      <td>characteristic</td>\n",
       "      <td>protected</td>\n",
       "    </tr>\n",
       "    <tr>\n",
       "      <th>14</th>\n",
       "      <td>(year, data)</td>\n",
       "      <td>373</td>\n",
       "      <td>year</td>\n",
       "      <td>data</td>\n",
       "    </tr>\n",
       "    <tr>\n",
       "      <th>15</th>\n",
       "      <td>(communication, written)</td>\n",
       "      <td>360</td>\n",
       "      <td>communication</td>\n",
       "      <td>written</td>\n",
       "    </tr>\n",
       "    <tr>\n",
       "      <th>16</th>\n",
       "      <td>(analyst, data)</td>\n",
       "      <td>347</td>\n",
       "      <td>analyst</td>\n",
       "      <td>data</td>\n",
       "    </tr>\n",
       "    <tr>\n",
       "      <th>17</th>\n",
       "      <td>(mining, data)</td>\n",
       "      <td>345</td>\n",
       "      <td>mining</td>\n",
       "      <td>data</td>\n",
       "    </tr>\n",
       "    <tr>\n",
       "      <th>18</th>\n",
       "      <td>(year, 5)</td>\n",
       "      <td>326</td>\n",
       "      <td>year</td>\n",
       "      <td>5</td>\n",
       "    </tr>\n",
       "    <tr>\n",
       "      <th>19</th>\n",
       "      <td>(statistic, mathematics)</td>\n",
       "      <td>292</td>\n",
       "      <td>statistic</td>\n",
       "      <td>mathematics</td>\n",
       "    </tr>\n",
       "  </tbody>\n",
       "</table>\n",
       "</div>"
      ],
      "text/plain": [
       "                         bigram   qtd          token1       token2\n",
       "0           (machine, learning)  2232         machine     learning\n",
       "1              (analysis, data)  1018        analysis         data\n",
       "2                   (python, r)   738          python            r\n",
       "3            (bachelor, degree)   716        bachelor       degree\n",
       "4              (master, degree)   592          master       degree\n",
       "5         (visualization, data)   586   visualization         data\n",
       "6                   (set, data)   515             set         data\n",
       "7              (deep, learning)   492            deep     learning\n",
       "8                (source, data)   470          source         data\n",
       "9             (verbal, written)   442          verbal      written\n",
       "10           (management, data)   438      management         data\n",
       "11      (analysis, statistical)   421        analysis  statistical\n",
       "12                       (data)   411          (data)       (data)\n",
       "13  (characteristic, protected)   389  characteristic    protected\n",
       "14                 (year, data)   373            year         data\n",
       "15     (communication, written)   360   communication      written\n",
       "16              (analyst, data)   347         analyst         data\n",
       "17               (mining, data)   345          mining         data\n",
       "18                    (year, 5)   326            year            5\n",
       "19     (statistic, mathematics)   292       statistic  mathematics"
      ]
     },
     "execution_count": 324,
     "metadata": {},
     "output_type": "execute_result"
    }
   ],
   "source": [
    "df_bi.head(20)"
   ]
  },
  {
   "attachments": {},
   "cell_type": "markdown",
   "metadata": {},
   "source": [
    "##### Bigram\n",
    "\n",
    "The majority of the sample are unique bigrams (percentile 70), with the most frequent bigram appeared 209 times. This result can be perceived as a sign that we may be in the correct path; since our goal is to retrieve the most relevant bigrams, we reduces our burden in at least 70%.\n",
    "\n",
    "The most relevant keywords are:\n",
    "\n",
    "- machine learning\n",
    "- data analysis\n",
    "- python\n",
    "- r\n",
    "- bachelor's and/or master's degree\n",
    "- data visualization\n",
    "- deep learning\n",
    "- statistical analysis\n",
    "- data mining\n",
    "- verbal and written communication skills"
   ]
  },
  {
   "cell_type": "code",
   "execution_count": 154,
   "metadata": {},
   "outputs": [
    {
     "data": {
      "text/plain": [
       "234"
      ]
     },
     "execution_count": 154,
     "metadata": {},
     "output_type": "execute_result"
    }
   ],
   "source": [
    "term = 'nlp'\n",
    "tokens.count(term)"
   ]
  },
  {
   "cell_type": "code",
   "execution_count": 157,
   "metadata": {},
   "outputs": [
    {
     "data": {
      "text/plain": [
       "177"
      ]
     },
     "execution_count": 157,
     "metadata": {},
     "output_type": "execute_result"
    }
   ],
   "source": [
    "term = 'tensorflow'\n",
    "tokens.count(term)"
   ]
  },
  {
   "cell_type": "code",
   "execution_count": 158,
   "metadata": {},
   "outputs": [
    {
     "data": {
      "text/plain": [
       "55"
      ]
     },
     "execution_count": 158,
     "metadata": {},
     "output_type": "execute_result"
    }
   ],
   "source": [
    "term = 'scikit'\n",
    "tokens.count(term)"
   ]
  },
  {
   "cell_type": "code",
   "execution_count": 160,
   "metadata": {},
   "outputs": [
    {
     "data": {
      "text/plain": [
       "202"
      ]
     },
     "execution_count": 160,
     "metadata": {},
     "output_type": "execute_result"
    }
   ],
   "source": [
    "term = 'panda'\n",
    "tokens.count(term)"
   ]
  },
  {
   "cell_type": "code",
   "execution_count": 163,
   "metadata": {},
   "outputs": [
    {
     "data": {
      "text/plain": [
       "103"
      ]
     },
     "execution_count": 163,
     "metadata": {},
     "output_type": "execute_result"
    }
   ],
   "source": [
    "term = 'pytorch'\n",
    "tokens.count(term)"
   ]
  },
  {
   "cell_type": "code",
   "execution_count": 165,
   "metadata": {},
   "outputs": [
    {
     "data": {
      "text/plain": [
       "327"
      ]
     },
     "execution_count": 165,
     "metadata": {},
     "output_type": "execute_result"
    }
   ],
   "source": [
    "term = 'tableau'\n",
    "tokens.count(term)"
   ]
  },
  {
   "cell_type": "code",
   "execution_count": 170,
   "metadata": {},
   "outputs": [
    {
     "data": {
      "text/plain": [
       "47"
      ]
     },
     "execution_count": 170,
     "metadata": {},
     "output_type": "execute_result"
    }
   ],
   "source": [
    "term = 'powerbi'\n",
    "tokens.count(term)"
   ]
  },
  {
   "cell_type": "code",
   "execution_count": 173,
   "metadata": {},
   "outputs": [
    {
     "data": {
      "text/plain": [
       "57"
      ]
     },
     "execution_count": 173,
     "metadata": {},
     "output_type": "execute_result"
    }
   ],
   "source": [
    "term = 'mlops'\n",
    "tokens.count(term)"
   ]
  },
  {
   "cell_type": "code",
   "execution_count": 174,
   "metadata": {},
   "outputs": [
    {
     "data": {
      "text/plain": [
       "171"
      ]
     },
     "execution_count": 174,
     "metadata": {},
     "output_type": "execute_result"
    }
   ],
   "source": [
    "term = 'governance'\n",
    "tokens.count(term)"
   ]
  },
  {
   "cell_type": "code",
   "execution_count": 326,
   "metadata": {},
   "outputs": [
    {
     "data": {
      "text/html": [
       "<div>\n",
       "<style scoped>\n",
       "    .dataframe tbody tr th:only-of-type {\n",
       "        vertical-align: middle;\n",
       "    }\n",
       "\n",
       "    .dataframe tbody tr th {\n",
       "        vertical-align: top;\n",
       "    }\n",
       "\n",
       "    .dataframe thead th {\n",
       "        text-align: right;\n",
       "    }\n",
       "</style>\n",
       "<table border=\"1\" class=\"dataframe\">\n",
       "  <thead>\n",
       "    <tr style=\"text-align: right;\">\n",
       "      <th></th>\n",
       "      <th>count</th>\n",
       "      <th>mean</th>\n",
       "      <th>std</th>\n",
       "      <th>min</th>\n",
       "      <th>10%</th>\n",
       "      <th>20%</th>\n",
       "      <th>30%</th>\n",
       "      <th>40%</th>\n",
       "      <th>50%</th>\n",
       "      <th>60%</th>\n",
       "      <th>70%</th>\n",
       "      <th>80%</th>\n",
       "      <th>90%</th>\n",
       "      <th>max</th>\n",
       "    </tr>\n",
       "  </thead>\n",
       "  <tbody>\n",
       "    <tr>\n",
       "      <th>qtd</th>\n",
       "      <td>283293.0</td>\n",
       "      <td>2.4</td>\n",
       "      <td>5.1</td>\n",
       "      <td>1.0</td>\n",
       "      <td>1.0</td>\n",
       "      <td>1.0</td>\n",
       "      <td>1.0</td>\n",
       "      <td>1.0</td>\n",
       "      <td>1.0</td>\n",
       "      <td>1.0</td>\n",
       "      <td>2.0</td>\n",
       "      <td>2.0</td>\n",
       "      <td>4.0</td>\n",
       "      <td>371.0</td>\n",
       "    </tr>\n",
       "  </tbody>\n",
       "</table>\n",
       "</div>"
      ],
      "text/plain": [
       "        count  mean  std  min  10%  20%  30%  40%  50%  60%  70%  80%  90%  \\\n",
       "qtd  283293.0   2.4  5.1  1.0  1.0  1.0  1.0  1.0  1.0  1.0  2.0  2.0  4.0   \n",
       "\n",
       "       max  \n",
       "qtd  371.0  "
      ]
     },
     "execution_count": 326,
     "metadata": {},
     "output_type": "execute_result"
    }
   ],
   "source": [
    "# Organizing the trigram\n",
    "df_tri = pd.DataFrame({'bigram': trigrams}).value_counts().to_frame().reset_index().rename(columns={0:'qtd'})\n",
    "df_tri.describe(percentiles=np.array(list(range(1, 10, 1)))/10).T.round(1)"
   ]
  },
  {
   "cell_type": "code",
   "execution_count": 328,
   "metadata": {},
   "outputs": [
    {
     "data": {
      "text/html": [
       "<div>\n",
       "<style scoped>\n",
       "    .dataframe tbody tr th:only-of-type {\n",
       "        vertical-align: middle;\n",
       "    }\n",
       "\n",
       "    .dataframe tbody tr th {\n",
       "        vertical-align: top;\n",
       "    }\n",
       "\n",
       "    .dataframe thead th {\n",
       "        text-align: right;\n",
       "    }\n",
       "</style>\n",
       "<table border=\"1\" class=\"dataframe\">\n",
       "  <thead>\n",
       "    <tr style=\"text-align: right;\">\n",
       "      <th></th>\n",
       "      <th>bigram</th>\n",
       "      <th>qtd</th>\n",
       "    </tr>\n",
       "  </thead>\n",
       "  <tbody>\n",
       "    <tr>\n",
       "      <th>0</th>\n",
       "      <td>(communication, verbal, written)</td>\n",
       "      <td>371</td>\n",
       "    </tr>\n",
       "    <tr>\n",
       "      <th>1</th>\n",
       "      <td>(machine, data, learning)</td>\n",
       "      <td>258</td>\n",
       "    </tr>\n",
       "    <tr>\n",
       "      <th>2</th>\n",
       "      <td>(machine, model, learning)</td>\n",
       "      <td>232</td>\n",
       "    </tr>\n",
       "    <tr>\n",
       "      <th>3</th>\n",
       "      <td>(python, sql, r)</td>\n",
       "      <td>189</td>\n",
       "    </tr>\n",
       "    <tr>\n",
       "      <th>4</th>\n",
       "      <td>(oral, communication, written)</td>\n",
       "      <td>181</td>\n",
       "    </tr>\n",
       "    <tr>\n",
       "      <th>5</th>\n",
       "      <td>(messy, underexplored, data)</td>\n",
       "      <td>168</td>\n",
       "    </tr>\n",
       "    <tr>\n",
       "      <th>6</th>\n",
       "      <td>(insight, data-driven, producing)</td>\n",
       "      <td>162</td>\n",
       "    </tr>\n",
       "    <tr>\n",
       "      <th>7</th>\n",
       "      <td>(hardware, software, manager)</td>\n",
       "      <td>158</td>\n",
       "    </tr>\n",
       "    <tr>\n",
       "      <th>8</th>\n",
       "      <td>(hardware, innovative, software)</td>\n",
       "      <td>158</td>\n",
       "    </tr>\n",
       "    <tr>\n",
       "      <th>9</th>\n",
       "      <td>(manager, software, placing)</td>\n",
       "      <td>158</td>\n",
       "    </tr>\n",
       "    <tr>\n",
       "      <th>10</th>\n",
       "      <td>(hardware, innovative, 100)</td>\n",
       "      <td>158</td>\n",
       "    </tr>\n",
       "    <tr>\n",
       "      <th>11</th>\n",
       "      <td>(dfj, management, accel)</td>\n",
       "      <td>158</td>\n",
       "    </tr>\n",
       "    <tr>\n",
       "      <th>12</th>\n",
       "      <td>(management, innovative, 100)</td>\n",
       "      <td>158</td>\n",
       "    </tr>\n",
       "    <tr>\n",
       "      <th>13</th>\n",
       "      <td>(accel, management, 100)</td>\n",
       "      <td>158</td>\n",
       "    </tr>\n",
       "    <tr>\n",
       "      <th>14</th>\n",
       "      <td>(machine, algorithm, learning)</td>\n",
       "      <td>155</td>\n",
       "    </tr>\n",
       "    <tr>\n",
       "      <th>15</th>\n",
       "      <td>(statistic, mathematics, computer)</td>\n",
       "      <td>154</td>\n",
       "    </tr>\n",
       "    <tr>\n",
       "      <th>16</th>\n",
       "      <td>(combination, equivalent, education)</td>\n",
       "      <td>150</td>\n",
       "    </tr>\n",
       "    <tr>\n",
       "      <th>17</th>\n",
       "      <td>(large, set, data)</td>\n",
       "      <td>146</td>\n",
       "    </tr>\n",
       "    <tr>\n",
       "      <th>18</th>\n",
       "      <td>(machine, statistical, learning)</td>\n",
       "      <td>138</td>\n",
       "    </tr>\n",
       "    <tr>\n",
       "      <th>19</th>\n",
       "      <td>(law, local, protected)</td>\n",
       "      <td>134</td>\n",
       "    </tr>\n",
       "    <tr>\n",
       "      <th>20</th>\n",
       "      <td>(governing, program, rule)</td>\n",
       "      <td>126</td>\n",
       "    </tr>\n",
       "    <tr>\n",
       "      <th>21</th>\n",
       "      <td>(deep, machine, learning)</td>\n",
       "      <td>119</td>\n",
       "    </tr>\n",
       "    <tr>\n",
       "      <th>22</th>\n",
       "      <td>(applied, statistic, mathematics)</td>\n",
       "      <td>116</td>\n",
       "    </tr>\n",
       "    <tr>\n",
       "      <th>23</th>\n",
       "      <td>(r, python, programming)</td>\n",
       "      <td>114</td>\n",
       "    </tr>\n",
       "    <tr>\n",
       "      <th>24</th>\n",
       "      <td>(law, characteristic, protected)</td>\n",
       "      <td>109</td>\n",
       "    </tr>\n",
       "    <tr>\n",
       "      <th>25</th>\n",
       "      <td>(analyst, management, data)</td>\n",
       "      <td>108</td>\n",
       "    </tr>\n",
       "    <tr>\n",
       "      <th>26</th>\n",
       "      <td>(machine, optimization, learning)</td>\n",
       "      <td>108</td>\n",
       "    </tr>\n",
       "    <tr>\n",
       "      <th>27</th>\n",
       "      <td>(machine, ai, learning)</td>\n",
       "      <td>108</td>\n",
       "    </tr>\n",
       "    <tr>\n",
       "      <th>28</th>\n",
       "      <td>(analysis, statistical, regression)</td>\n",
       "      <td>106</td>\n",
       "    </tr>\n",
       "    <tr>\n",
       "      <th>29</th>\n",
       "      <td>(machine, system, learning)</td>\n",
       "      <td>106</td>\n",
       "    </tr>\n",
       "  </tbody>\n",
       "</table>\n",
       "</div>"
      ],
      "text/plain": [
       "                                  bigram  qtd\n",
       "0       (communication, verbal, written)  371\n",
       "1              (machine, data, learning)  258\n",
       "2             (machine, model, learning)  232\n",
       "3                       (python, sql, r)  189\n",
       "4         (oral, communication, written)  181\n",
       "5           (messy, underexplored, data)  168\n",
       "6      (insight, data-driven, producing)  162\n",
       "7          (hardware, software, manager)  158\n",
       "8       (hardware, innovative, software)  158\n",
       "9           (manager, software, placing)  158\n",
       "10           (hardware, innovative, 100)  158\n",
       "11              (dfj, management, accel)  158\n",
       "12         (management, innovative, 100)  158\n",
       "13              (accel, management, 100)  158\n",
       "14        (machine, algorithm, learning)  155\n",
       "15    (statistic, mathematics, computer)  154\n",
       "16  (combination, equivalent, education)  150\n",
       "17                    (large, set, data)  146\n",
       "18      (machine, statistical, learning)  138\n",
       "19               (law, local, protected)  134\n",
       "20            (governing, program, rule)  126\n",
       "21             (deep, machine, learning)  119\n",
       "22     (applied, statistic, mathematics)  116\n",
       "23              (r, python, programming)  114\n",
       "24      (law, characteristic, protected)  109\n",
       "25           (analyst, management, data)  108\n",
       "26     (machine, optimization, learning)  108\n",
       "27               (machine, ai, learning)  108\n",
       "28   (analysis, statistical, regression)  106\n",
       "29           (machine, system, learning)  106"
      ]
     },
     "execution_count": 328,
     "metadata": {},
     "output_type": "execute_result"
    }
   ],
   "source": [
    "df_tri.head(30)"
   ]
  },
  {
   "attachments": {},
   "cell_type": "markdown",
   "metadata": {},
   "source": [
    "##### Trigram\n",
    "\n",
    "Similar results as bigrams."
   ]
  }
 ],
 "metadata": {
  "kernelspec": {
   "display_name": "Python 3",
   "language": "python",
   "name": "python3"
  },
  "language_info": {
   "codemirror_mode": {
    "name": "ipython",
    "version": 3
   },
   "file_extension": ".py",
   "mimetype": "text/x-python",
   "name": "python",
   "nbconvert_exporter": "python",
   "pygments_lexer": "ipython3",
   "version": "3.10.4"
  },
  "orig_nbformat": 4,
  "vscode": {
   "interpreter": {
    "hash": "7d7662bde5678ddf41fb482e2cda39dd85fc62406be2c88b1ebdc7b78e575873"
   }
  }
 },
 "nbformat": 4,
 "nbformat_minor": 2
}
