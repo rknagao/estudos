{
 "cells": [
  {
   "cell_type": "markdown",
   "metadata": {},
   "source": [
    "# Learning `pyspark`\n",
    "\n",
    "This notebook is focused on learning `pyspark` basic concepts and functions. In this case, we will use the dataset provided in Kaggle's challenge 'IEEE-CIS Fraud Detection'.\n",
    "\n",
    "Link: https://www.kaggle.com/competitions/ieee-fraud-detection/overview"
   ]
  },
  {
   "cell_type": "code",
   "execution_count": 28,
   "metadata": {},
   "outputs": [],
   "source": [
    "import kaggle\n",
    "import os\n",
    "import pandas as pd\n",
    "import pyspark\n",
    "import pyspark.sql.functions as fx\n",
    "from zipfile import ZipFile"
   ]
  },
  {
   "cell_type": "markdown",
   "metadata": {},
   "source": [
    "## Dataset\n",
    "\n",
    "Data dictionary:\n",
    "\n",
    "- TransactionDT: timedelta from a given reference datetime (not an actual timestamp)\n",
    "- TransactionAMT: transaction payment amount in USD\n",
    "- ProductCD: product code, the product for each transaction\n",
    "- card1 - card6: payment card information, such as card type, card category, issue bank, country, etc.\n",
    "- addr: address\n",
    "- dist: distance\n",
    "- P_ and (R__) emaildomain: purchaser and recipient email domain\n",
    "- C1-C14: counting, such as how many addresses are found to be associated with the payment card, etc. The actual meaning is masked.\n",
    "- D1-D15: timedelta, such as days between previous transaction, etc.\n",
    "- M1-M9: match, such as names on card and address, etc.\n",
    "- Vxxx: Vesta engineered rich features, including ranking, counting, and other entity relations.\n",
    "\n",
    "source: https://www.kaggle.com/c/ieee-fraud-detection/discussion/101203"
   ]
  },
  {
   "cell_type": "code",
   "execution_count": 29,
   "metadata": {},
   "outputs": [],
   "source": [
    "# Kaggle's link with dataset.\n",
    "# https://www.kaggle.com/competitions/ieee-fraud-detection/data\n",
    "\n",
    "# This is a way to extract the dataset with Python. The conditions are:\n",
    "# 1.) install kaggle lib with \"pip install kaggle\"\n",
    "# 2.) in account, go to the API section and download a json file containing the key \n",
    "# 3.) manually create a .kaggle in your home and save the API key in it (it should be something like this C:\\Users\\[user_name]\\.kaggle\\kaggle.json) \n",
    "# 4.) execute this code on terminal: \"kaggle datasets download -d kartik2112/fraud-detection\" \n",
    "\n",
    "# or use 'os' commands. This will save a zip file into your local folder.\n",
    "os.system('kaggle datasets download -d kartik2112/fraud-detection')\n",
    "\n",
    "# Open the ZIP file\n",
    "with ZipFile('./ieee-fraud-detection.zip', 'r') as z:\n",
    "    # Extract all contents to the specified directory\n",
    "    z.extractall('.')"
   ]
  },
  {
   "cell_type": "markdown",
   "metadata": {},
   "source": [
    "## Regular Pandas"
   ]
  },
  {
   "cell_type": "code",
   "execution_count": 30,
   "metadata": {},
   "outputs": [
    {
     "data": {
      "text/html": [
       "<div>\n",
       "<style scoped>\n",
       "    .dataframe tbody tr th:only-of-type {\n",
       "        vertical-align: middle;\n",
       "    }\n",
       "\n",
       "    .dataframe tbody tr th {\n",
       "        vertical-align: top;\n",
       "    }\n",
       "\n",
       "    .dataframe thead th {\n",
       "        text-align: right;\n",
       "    }\n",
       "</style>\n",
       "<table border=\"1\" class=\"dataframe\">\n",
       "  <thead>\n",
       "    <tr style=\"text-align: right;\">\n",
       "      <th></th>\n",
       "      <th>TransactionID</th>\n",
       "      <th>id_01</th>\n",
       "      <th>id_02</th>\n",
       "      <th>id_03</th>\n",
       "      <th>id_04</th>\n",
       "      <th>id_05</th>\n",
       "      <th>id_06</th>\n",
       "      <th>id_07</th>\n",
       "      <th>id_08</th>\n",
       "      <th>id_09</th>\n",
       "      <th>...</th>\n",
       "      <th>id_31</th>\n",
       "      <th>id_32</th>\n",
       "      <th>id_33</th>\n",
       "      <th>id_34</th>\n",
       "      <th>id_35</th>\n",
       "      <th>id_36</th>\n",
       "      <th>id_37</th>\n",
       "      <th>id_38</th>\n",
       "      <th>DeviceType</th>\n",
       "      <th>DeviceInfo</th>\n",
       "    </tr>\n",
       "  </thead>\n",
       "  <tbody>\n",
       "    <tr>\n",
       "      <th>0</th>\n",
       "      <td>2987004</td>\n",
       "      <td>0.0</td>\n",
       "      <td>70787.0</td>\n",
       "      <td>NaN</td>\n",
       "      <td>NaN</td>\n",
       "      <td>NaN</td>\n",
       "      <td>NaN</td>\n",
       "      <td>NaN</td>\n",
       "      <td>NaN</td>\n",
       "      <td>NaN</td>\n",
       "      <td>...</td>\n",
       "      <td>samsung browser 6.2</td>\n",
       "      <td>32.0</td>\n",
       "      <td>2220x1080</td>\n",
       "      <td>match_status:2</td>\n",
       "      <td>T</td>\n",
       "      <td>F</td>\n",
       "      <td>T</td>\n",
       "      <td>T</td>\n",
       "      <td>mobile</td>\n",
       "      <td>SAMSUNG SM-G892A Build/NRD90M</td>\n",
       "    </tr>\n",
       "    <tr>\n",
       "      <th>1</th>\n",
       "      <td>2987008</td>\n",
       "      <td>-5.0</td>\n",
       "      <td>98945.0</td>\n",
       "      <td>NaN</td>\n",
       "      <td>NaN</td>\n",
       "      <td>0.0</td>\n",
       "      <td>-5.0</td>\n",
       "      <td>NaN</td>\n",
       "      <td>NaN</td>\n",
       "      <td>NaN</td>\n",
       "      <td>...</td>\n",
       "      <td>mobile safari 11.0</td>\n",
       "      <td>32.0</td>\n",
       "      <td>1334x750</td>\n",
       "      <td>match_status:1</td>\n",
       "      <td>T</td>\n",
       "      <td>F</td>\n",
       "      <td>F</td>\n",
       "      <td>T</td>\n",
       "      <td>mobile</td>\n",
       "      <td>iOS Device</td>\n",
       "    </tr>\n",
       "    <tr>\n",
       "      <th>2</th>\n",
       "      <td>2987010</td>\n",
       "      <td>-5.0</td>\n",
       "      <td>191631.0</td>\n",
       "      <td>0.0</td>\n",
       "      <td>0.0</td>\n",
       "      <td>0.0</td>\n",
       "      <td>0.0</td>\n",
       "      <td>NaN</td>\n",
       "      <td>NaN</td>\n",
       "      <td>0.0</td>\n",
       "      <td>...</td>\n",
       "      <td>chrome 62.0</td>\n",
       "      <td>NaN</td>\n",
       "      <td>NaN</td>\n",
       "      <td>NaN</td>\n",
       "      <td>F</td>\n",
       "      <td>F</td>\n",
       "      <td>T</td>\n",
       "      <td>T</td>\n",
       "      <td>desktop</td>\n",
       "      <td>Windows</td>\n",
       "    </tr>\n",
       "    <tr>\n",
       "      <th>3</th>\n",
       "      <td>2987011</td>\n",
       "      <td>-5.0</td>\n",
       "      <td>221832.0</td>\n",
       "      <td>NaN</td>\n",
       "      <td>NaN</td>\n",
       "      <td>0.0</td>\n",
       "      <td>-6.0</td>\n",
       "      <td>NaN</td>\n",
       "      <td>NaN</td>\n",
       "      <td>NaN</td>\n",
       "      <td>...</td>\n",
       "      <td>chrome 62.0</td>\n",
       "      <td>NaN</td>\n",
       "      <td>NaN</td>\n",
       "      <td>NaN</td>\n",
       "      <td>F</td>\n",
       "      <td>F</td>\n",
       "      <td>T</td>\n",
       "      <td>T</td>\n",
       "      <td>desktop</td>\n",
       "      <td>NaN</td>\n",
       "    </tr>\n",
       "    <tr>\n",
       "      <th>4</th>\n",
       "      <td>2987016</td>\n",
       "      <td>0.0</td>\n",
       "      <td>7460.0</td>\n",
       "      <td>0.0</td>\n",
       "      <td>0.0</td>\n",
       "      <td>1.0</td>\n",
       "      <td>0.0</td>\n",
       "      <td>NaN</td>\n",
       "      <td>NaN</td>\n",
       "      <td>0.0</td>\n",
       "      <td>...</td>\n",
       "      <td>chrome 62.0</td>\n",
       "      <td>24.0</td>\n",
       "      <td>1280x800</td>\n",
       "      <td>match_status:2</td>\n",
       "      <td>T</td>\n",
       "      <td>F</td>\n",
       "      <td>T</td>\n",
       "      <td>T</td>\n",
       "      <td>desktop</td>\n",
       "      <td>MacOS</td>\n",
       "    </tr>\n",
       "  </tbody>\n",
       "</table>\n",
       "<p>5 rows × 41 columns</p>\n",
       "</div>"
      ],
      "text/plain": [
       "   TransactionID  id_01     id_02  id_03  id_04  id_05  id_06  id_07  id_08  \\\n",
       "0        2987004    0.0   70787.0    NaN    NaN    NaN    NaN    NaN    NaN   \n",
       "1        2987008   -5.0   98945.0    NaN    NaN    0.0   -5.0    NaN    NaN   \n",
       "2        2987010   -5.0  191631.0    0.0    0.0    0.0    0.0    NaN    NaN   \n",
       "3        2987011   -5.0  221832.0    NaN    NaN    0.0   -6.0    NaN    NaN   \n",
       "4        2987016    0.0    7460.0    0.0    0.0    1.0    0.0    NaN    NaN   \n",
       "\n",
       "   id_09  ...                id_31  id_32      id_33           id_34  id_35  \\\n",
       "0    NaN  ...  samsung browser 6.2   32.0  2220x1080  match_status:2      T   \n",
       "1    NaN  ...   mobile safari 11.0   32.0   1334x750  match_status:1      T   \n",
       "2    0.0  ...          chrome 62.0    NaN        NaN             NaN      F   \n",
       "3    NaN  ...          chrome 62.0    NaN        NaN             NaN      F   \n",
       "4    0.0  ...          chrome 62.0   24.0   1280x800  match_status:2      T   \n",
       "\n",
       "  id_36 id_37  id_38  DeviceType                     DeviceInfo  \n",
       "0     F     T      T      mobile  SAMSUNG SM-G892A Build/NRD90M  \n",
       "1     F     F      T      mobile                     iOS Device  \n",
       "2     F     T      T     desktop                        Windows  \n",
       "3     F     T      T     desktop                            NaN  \n",
       "4     F     T      T     desktop                          MacOS  \n",
       "\n",
       "[5 rows x 41 columns]"
      ]
     },
     "execution_count": 30,
     "metadata": {},
     "output_type": "execute_result"
    }
   ],
   "source": [
    "df_id = pd.read_csv('train_identity.csv')\n",
    "df_id.head()"
   ]
  },
  {
   "cell_type": "code",
   "execution_count": 31,
   "metadata": {},
   "outputs": [
    {
     "name": "stdout",
     "output_type": "stream",
     "text": [
      "<class 'pandas.core.frame.DataFrame'>\n",
      "RangeIndex: 144233 entries, 0 to 144232\n",
      "Data columns (total 41 columns):\n",
      " #   Column         Non-Null Count   Dtype  \n",
      "---  ------         --------------   -----  \n",
      " 0   TransactionID  144233 non-null  int64  \n",
      " 1   id_01          144233 non-null  float64\n",
      " 2   id_02          140872 non-null  float64\n",
      " 3   id_03          66324 non-null   float64\n",
      " 4   id_04          66324 non-null   float64\n",
      " 5   id_05          136865 non-null  float64\n",
      " 6   id_06          136865 non-null  float64\n",
      " 7   id_07          5155 non-null    float64\n",
      " 8   id_08          5155 non-null    float64\n",
      " 9   id_09          74926 non-null   float64\n",
      " 10  id_10          74926 non-null   float64\n",
      " 11  id_11          140978 non-null  float64\n",
      " 12  id_12          144233 non-null  object \n",
      " 13  id_13          127320 non-null  float64\n",
      " 14  id_14          80044 non-null   float64\n",
      " 15  id_15          140985 non-null  object \n",
      " 16  id_16          129340 non-null  object \n",
      " 17  id_17          139369 non-null  float64\n",
      " 18  id_18          45113 non-null   float64\n",
      " 19  id_19          139318 non-null  float64\n",
      " 20  id_20          139261 non-null  float64\n",
      " 21  id_21          5159 non-null    float64\n",
      " 22  id_22          5169 non-null    float64\n",
      " 23  id_23          5169 non-null    object \n",
      " 24  id_24          4747 non-null    float64\n",
      " 25  id_25          5132 non-null    float64\n",
      " 26  id_26          5163 non-null    float64\n",
      " 27  id_27          5169 non-null    object \n",
      " 28  id_28          140978 non-null  object \n",
      " 29  id_29          140978 non-null  object \n",
      " 30  id_30          77565 non-null   object \n",
      " 31  id_31          140282 non-null  object \n",
      " 32  id_32          77586 non-null   float64\n",
      " 33  id_33          73289 non-null   object \n",
      " 34  id_34          77805 non-null   object \n",
      " 35  id_35          140985 non-null  object \n",
      " 36  id_36          140985 non-null  object \n",
      " 37  id_37          140985 non-null  object \n",
      " 38  id_38          140985 non-null  object \n",
      " 39  DeviceType     140810 non-null  object \n",
      " 40  DeviceInfo     118666 non-null  object \n",
      "dtypes: float64(23), int64(1), object(17)\n",
      "memory usage: 45.1+ MB\n"
     ]
    }
   ],
   "source": [
    "df_id.info()"
   ]
  },
  {
   "cell_type": "code",
   "execution_count": 32,
   "metadata": {},
   "outputs": [
    {
     "data": {
      "text/html": [
       "<div>\n",
       "<style scoped>\n",
       "    .dataframe tbody tr th:only-of-type {\n",
       "        vertical-align: middle;\n",
       "    }\n",
       "\n",
       "    .dataframe tbody tr th {\n",
       "        vertical-align: top;\n",
       "    }\n",
       "\n",
       "    .dataframe thead th {\n",
       "        text-align: right;\n",
       "    }\n",
       "</style>\n",
       "<table border=\"1\" class=\"dataframe\">\n",
       "  <thead>\n",
       "    <tr style=\"text-align: right;\">\n",
       "      <th></th>\n",
       "      <th>TransactionID</th>\n",
       "      <th>isFraud</th>\n",
       "      <th>TransactionDT</th>\n",
       "      <th>TransactionAmt</th>\n",
       "      <th>ProductCD</th>\n",
       "      <th>card1</th>\n",
       "      <th>card2</th>\n",
       "      <th>card3</th>\n",
       "      <th>card4</th>\n",
       "      <th>card5</th>\n",
       "      <th>...</th>\n",
       "      <th>V330</th>\n",
       "      <th>V331</th>\n",
       "      <th>V332</th>\n",
       "      <th>V333</th>\n",
       "      <th>V334</th>\n",
       "      <th>V335</th>\n",
       "      <th>V336</th>\n",
       "      <th>V337</th>\n",
       "      <th>V338</th>\n",
       "      <th>V339</th>\n",
       "    </tr>\n",
       "  </thead>\n",
       "  <tbody>\n",
       "    <tr>\n",
       "      <th>0</th>\n",
       "      <td>2987000</td>\n",
       "      <td>0</td>\n",
       "      <td>86400</td>\n",
       "      <td>68.5</td>\n",
       "      <td>W</td>\n",
       "      <td>13926</td>\n",
       "      <td>NaN</td>\n",
       "      <td>150.0</td>\n",
       "      <td>discover</td>\n",
       "      <td>142.0</td>\n",
       "      <td>...</td>\n",
       "      <td>NaN</td>\n",
       "      <td>NaN</td>\n",
       "      <td>NaN</td>\n",
       "      <td>NaN</td>\n",
       "      <td>NaN</td>\n",
       "      <td>NaN</td>\n",
       "      <td>NaN</td>\n",
       "      <td>NaN</td>\n",
       "      <td>NaN</td>\n",
       "      <td>NaN</td>\n",
       "    </tr>\n",
       "    <tr>\n",
       "      <th>1</th>\n",
       "      <td>2987001</td>\n",
       "      <td>0</td>\n",
       "      <td>86401</td>\n",
       "      <td>29.0</td>\n",
       "      <td>W</td>\n",
       "      <td>2755</td>\n",
       "      <td>404.0</td>\n",
       "      <td>150.0</td>\n",
       "      <td>mastercard</td>\n",
       "      <td>102.0</td>\n",
       "      <td>...</td>\n",
       "      <td>NaN</td>\n",
       "      <td>NaN</td>\n",
       "      <td>NaN</td>\n",
       "      <td>NaN</td>\n",
       "      <td>NaN</td>\n",
       "      <td>NaN</td>\n",
       "      <td>NaN</td>\n",
       "      <td>NaN</td>\n",
       "      <td>NaN</td>\n",
       "      <td>NaN</td>\n",
       "    </tr>\n",
       "    <tr>\n",
       "      <th>2</th>\n",
       "      <td>2987002</td>\n",
       "      <td>0</td>\n",
       "      <td>86469</td>\n",
       "      <td>59.0</td>\n",
       "      <td>W</td>\n",
       "      <td>4663</td>\n",
       "      <td>490.0</td>\n",
       "      <td>150.0</td>\n",
       "      <td>visa</td>\n",
       "      <td>166.0</td>\n",
       "      <td>...</td>\n",
       "      <td>NaN</td>\n",
       "      <td>NaN</td>\n",
       "      <td>NaN</td>\n",
       "      <td>NaN</td>\n",
       "      <td>NaN</td>\n",
       "      <td>NaN</td>\n",
       "      <td>NaN</td>\n",
       "      <td>NaN</td>\n",
       "      <td>NaN</td>\n",
       "      <td>NaN</td>\n",
       "    </tr>\n",
       "    <tr>\n",
       "      <th>3</th>\n",
       "      <td>2987003</td>\n",
       "      <td>0</td>\n",
       "      <td>86499</td>\n",
       "      <td>50.0</td>\n",
       "      <td>W</td>\n",
       "      <td>18132</td>\n",
       "      <td>567.0</td>\n",
       "      <td>150.0</td>\n",
       "      <td>mastercard</td>\n",
       "      <td>117.0</td>\n",
       "      <td>...</td>\n",
       "      <td>NaN</td>\n",
       "      <td>NaN</td>\n",
       "      <td>NaN</td>\n",
       "      <td>NaN</td>\n",
       "      <td>NaN</td>\n",
       "      <td>NaN</td>\n",
       "      <td>NaN</td>\n",
       "      <td>NaN</td>\n",
       "      <td>NaN</td>\n",
       "      <td>NaN</td>\n",
       "    </tr>\n",
       "    <tr>\n",
       "      <th>4</th>\n",
       "      <td>2987004</td>\n",
       "      <td>0</td>\n",
       "      <td>86506</td>\n",
       "      <td>50.0</td>\n",
       "      <td>H</td>\n",
       "      <td>4497</td>\n",
       "      <td>514.0</td>\n",
       "      <td>150.0</td>\n",
       "      <td>mastercard</td>\n",
       "      <td>102.0</td>\n",
       "      <td>...</td>\n",
       "      <td>0.0</td>\n",
       "      <td>0.0</td>\n",
       "      <td>0.0</td>\n",
       "      <td>0.0</td>\n",
       "      <td>0.0</td>\n",
       "      <td>0.0</td>\n",
       "      <td>0.0</td>\n",
       "      <td>0.0</td>\n",
       "      <td>0.0</td>\n",
       "      <td>0.0</td>\n",
       "    </tr>\n",
       "  </tbody>\n",
       "</table>\n",
       "<p>5 rows × 394 columns</p>\n",
       "</div>"
      ],
      "text/plain": [
       "   TransactionID  isFraud  TransactionDT  TransactionAmt ProductCD  card1  \\\n",
       "0        2987000        0          86400            68.5         W  13926   \n",
       "1        2987001        0          86401            29.0         W   2755   \n",
       "2        2987002        0          86469            59.0         W   4663   \n",
       "3        2987003        0          86499            50.0         W  18132   \n",
       "4        2987004        0          86506            50.0         H   4497   \n",
       "\n",
       "   card2  card3       card4  card5  ... V330  V331  V332  V333  V334 V335  \\\n",
       "0    NaN  150.0    discover  142.0  ...  NaN   NaN   NaN   NaN   NaN  NaN   \n",
       "1  404.0  150.0  mastercard  102.0  ...  NaN   NaN   NaN   NaN   NaN  NaN   \n",
       "2  490.0  150.0        visa  166.0  ...  NaN   NaN   NaN   NaN   NaN  NaN   \n",
       "3  567.0  150.0  mastercard  117.0  ...  NaN   NaN   NaN   NaN   NaN  NaN   \n",
       "4  514.0  150.0  mastercard  102.0  ...  0.0   0.0   0.0   0.0   0.0  0.0   \n",
       "\n",
       "  V336  V337  V338  V339  \n",
       "0  NaN   NaN   NaN   NaN  \n",
       "1  NaN   NaN   NaN   NaN  \n",
       "2  NaN   NaN   NaN   NaN  \n",
       "3  NaN   NaN   NaN   NaN  \n",
       "4  0.0   0.0   0.0   0.0  \n",
       "\n",
       "[5 rows x 394 columns]"
      ]
     },
     "execution_count": 32,
     "metadata": {},
     "output_type": "execute_result"
    }
   ],
   "source": [
    "df_tr = pd.read_csv('train_transaction.csv')\n",
    "df_tr.head()"
   ]
  },
  {
   "cell_type": "markdown",
   "metadata": {},
   "source": [
    "## Pyspark"
   ]
  },
  {
   "cell_type": "code",
   "execution_count": 33,
   "metadata": {},
   "outputs": [
    {
     "data": {
      "text/html": [
       "\n",
       "            <div>\n",
       "                <p><b>SparkSession - in-memory</b></p>\n",
       "                \n",
       "        <div>\n",
       "            <p><b>SparkContext</b></p>\n",
       "\n",
       "            <p><a href=\"http://host.docker.internal:4040\">Spark UI</a></p>\n",
       "\n",
       "            <dl>\n",
       "              <dt>Version</dt>\n",
       "                <dd><code>v3.4.1</code></dd>\n",
       "              <dt>Master</dt>\n",
       "                <dd><code>local[*]</code></dd>\n",
       "              <dt>AppName</dt>\n",
       "                <dd><code>learning-pyspark</code></dd>\n",
       "            </dl>\n",
       "        </div>\n",
       "        \n",
       "            </div>\n",
       "        "
      ],
      "text/plain": [
       "<pyspark.sql.session.SparkSession at 0x254e4803c70>"
      ]
     },
     "execution_count": 33,
     "metadata": {},
     "output_type": "execute_result"
    }
   ],
   "source": [
    "# Initializing spark session\n",
    "spark = pyspark.sql.SparkSession.builder.appName('learning-pyspark')\\\n",
    "                                        .config(\"spark.memory.offHeap.enabled\",\"true\")\\\n",
    "                                        .config(\"spark.memory.offHeap.size\",\"4g\")\\\n",
    "                                        .getOrCreate()\n",
    "\n",
    "spark"
   ]
  },
  {
   "cell_type": "code",
   "execution_count": 34,
   "metadata": {},
   "outputs": [],
   "source": [
    "# Equivalent to 'pd.read_csv()', but as a pyspark dataframe object.\n",
    "df_id = spark.read.csv('train_identity.csv', header=True)"
   ]
  },
  {
   "cell_type": "code",
   "execution_count": 35,
   "metadata": {},
   "outputs": [],
   "source": [
    "df_tr = spark.read.csv('train_transaction.csv', header=True)"
   ]
  },
  {
   "cell_type": "code",
   "execution_count": 36,
   "metadata": {},
   "outputs": [
    {
     "name": "stdout",
     "output_type": "stream",
     "text": [
      "+-------------+-------+-------------+--------------+---------+-----+-----+-----+----------+-----+------+-----+-----+-----+-----+-------------+-------------+---+---+---+---+---+---+---+---+---+---+---+---+----+---+-----+-----+----+----+----+----+----+----+----+----+-----+----+----+----+-----+----+----+----+----+----+----+----+----+----+----+----+----+----+----+----+----+----+----+----+----+----+----+----+----+----+----+----+----+----+----+----+----+----+----+----+----+----+----+----+----+----+----+----+----+----+----+----+----+----+----+----+----+----+----+----+----+----+----+----+----+----+----+----+----+----+----+----+----+----+----+----+----+----+----+----+----+----+----+----+----+----+----+----+----+----+----+----+----+----+----+----+----+----+----+----+----+----+----+----+----+----+----+----+---+----+----+---+----+----+----+----+----+----+----+----+----+----+----+----+----+----+----+----+----+----+----+----+----+----+----+----+----+----+----+----+------+-----+----+-----+-----+----+------+-----+----+----+----+----+----+----+----+----+----+----+-----+----+----+----+----+------+----+----+----+----+----+----+----+----+---------------+-------------+----+----+----+-----+------+------+----+----+----+----+----+----+----+----+----+----+----+----+----+----+----+----+----+----+----+----+----+----+----+----+----+----+----+----+----+----+----+----+----+----+----+----+----+----+----+----+----+----+----+----+----+----+----+----+----+----+----+----+----+----+----+----+----+----+----+----+----+----+----+----+----+----+----+----+----+----+----+----+----+----+----+----+----+----+----+----+----+----+----+----+----+----+----+----+----+----+----+----+----+----+----+----+----+----+----+----+----+----+----+----+----+----+----+----+----+----+----+----+----+----+----+----+----+----+----+----+----+----+----+----+----+----+----+----+----+----+----+----+----+----+----+----+----+----+----+----+------+-----+----+-----+----+-----+----+----+----+----+------+-----+----+----+----+----+----+----+----+----+----+----+----+----+----+----+----+----+----+----+----+----+----+\n",
      "|TransactionID|isFraud|TransactionDT|TransactionAmt|ProductCD|card1|card2|card3|card4     |card5|card6 |addr1|addr2|dist1|dist2|P_emaildomain|R_emaildomain|C1 |C2 |C3 |C4 |C5 |C6 |C7 |C8 |C9 |C10|C11|C12|C13 |C14|D1   |D2   |D3  |D4  |D5  |D6  |D7  |D8  |D9  |D10 |D11  |D12 |D13 |D14 |D15  |M1  |M2  |M3  |M4  |M5  |M6  |M7  |M8  |M9  |V1  |V2  |V3  |V4  |V5  |V6  |V7  |V8  |V9  |V10 |V11 |V12 |V13 |V14 |V15 |V16 |V17 |V18 |V19 |V20 |V21 |V22 |V23 |V24 |V25 |V26 |V27 |V28 |V29 |V30 |V31 |V32 |V33 |V34 |V35 |V36 |V37 |V38 |V39 |V40 |V41 |V42 |V43 |V44 |V45 |V46 |V47 |V48 |V49 |V50 |V51 |V52 |V53 |V54 |V55 |V56 |V57 |V58 |V59 |V60 |V61 |V62 |V63 |V64 |V65 |V66 |V67 |V68 |V69 |V70 |V71 |V72 |V73 |V74 |V75 |V76 |V77 |V78 |V79 |V80 |V81 |V82 |V83 |V84 |V85 |V86 |V87 |V88 |V89 |V90 |V91 |V92 |V93 |V94 |V95|V96 |V97 |V98|V99 |V100|V101|V102|V103|V104|V105|V106|V107|V108|V109|V110|V111|V112|V113|V114|V115|V116|V117|V118|V119|V120|V121|V122|V123|V124|V125|V126|V127  |V128 |V129|V130 |V131 |V132|V133  |V134 |V135|V136|V137|V138|V139|V140|V141|V142|V143|V144|V145 |V146|V147|V148|V149|V150  |V151|V152|V153|V154|V155|V156|V157|V158|V159           |V160         |V161|V162|V163|V164 |V165  |V166  |V167|V168|V169|V170|V171|V172|V173|V174|V175|V176|V177|V178|V179|V180|V181|V182|V183|V184|V185|V186|V187|V188|V189|V190|V191|V192|V193|V194|V195|V196|V197|V198|V199|V200|V201|V202|V203|V204|V205|V206|V207|V208|V209|V210|V211|V212|V213|V214|V215|V216|V217|V218|V219|V220|V221|V222|V223|V224|V225|V226|V227|V228|V229|V230|V231|V232|V233|V234|V235|V236|V237|V238|V239|V240|V241|V242|V243|V244|V245|V246|V247|V248|V249|V250|V251|V252|V253|V254|V255|V256|V257|V258|V259|V260|V261|V262|V263|V264|V265|V266|V267|V268|V269|V270|V271|V272|V273|V274|V275|V276|V277|V278|V279|V280|V281|V282|V283|V284|V285|V286|V287|V288|V289|V290|V291|V292|V293|V294|V295|V296|V297|V298|V299|V300|V301|V302|V303|V304|V305|V306|V307  |V308 |V309|V310 |V311|V312 |V313|V314|V315|V316|V317  |V318 |V319|V320|V321|V322|V323|V324|V325|V326|V327|V328|V329|V330|V331|V332|V333|V334|V335|V336|V337|V338|V339|\n",
      "+-------------+-------+-------------+--------------+---------+-----+-----+-----+----------+-----+------+-----+-----+-----+-----+-------------+-------------+---+---+---+---+---+---+---+---+---+---+---+---+----+---+-----+-----+----+----+----+----+----+----+----+----+-----+----+----+----+-----+----+----+----+----+----+----+----+----+----+----+----+----+----+----+----+----+----+----+----+----+----+----+----+----+----+----+----+----+----+----+----+----+----+----+----+----+----+----+----+----+----+----+----+----+----+----+----+----+----+----+----+----+----+----+----+----+----+----+----+----+----+----+----+----+----+----+----+----+----+----+----+----+----+----+----+----+----+----+----+----+----+----+----+----+----+----+----+----+----+----+----+----+----+----+----+----+----+----+----+----+----+----+----+---+----+----+---+----+----+----+----+----+----+----+----+----+----+----+----+----+----+----+----+----+----+----+----+----+----+----+----+----+----+----+----+------+-----+----+-----+-----+----+------+-----+----+----+----+----+----+----+----+----+----+----+-----+----+----+----+----+------+----+----+----+----+----+----+----+----+---------------+-------------+----+----+----+-----+------+------+----+----+----+----+----+----+----+----+----+----+----+----+----+----+----+----+----+----+----+----+----+----+----+----+----+----+----+----+----+----+----+----+----+----+----+----+----+----+----+----+----+----+----+----+----+----+----+----+----+----+----+----+----+----+----+----+----+----+----+----+----+----+----+----+----+----+----+----+----+----+----+----+----+----+----+----+----+----+----+----+----+----+----+----+----+----+----+----+----+----+----+----+----+----+----+----+----+----+----+----+----+----+----+----+----+----+----+----+----+----+----+----+----+----+----+----+----+----+----+----+----+----+----+----+----+----+----+----+----+----+----+----+----+----+----+----+----+----+----+----+------+-----+----+-----+----+-----+----+----+----+----+------+-----+----+----+----+----+----+----+----+----+----+----+----+----+----+----+----+----+----+----+----+----+----+\n",
      "|2987000      |0      |86400        |68.5          |W        |13926|null |150.0|discover  |142.0|credit|315.0|87.0 |19.0 |null |null         |null         |1.0|1.0|0.0|0.0|0.0|1.0|0.0|0.0|1.0|0.0|2.0|0.0|1.0 |1.0|14.0 |null |13.0|null|null|null|null|null|null|13.0|13.0 |null|null|null|0.0  |T   |T   |T   |M2  |F   |T   |null|null|null|1.0 |1.0 |1.0 |1.0 |1.0 |1.0 |1.0 |1.0 |1.0 |0.0 |0.0 |1.0 |1.0 |1.0 |0.0 |0.0 |0.0 |0.0 |1.0 |1.0 |0.0 |0.0 |1.0 |1.0 |1.0 |1.0 |0.0 |0.0 |0.0 |0.0 |0.0 |0.0 |0.0 |0.0 |null|null|null|null|null|null|null|null|null|null|null|null|null|null|null|null|null|null|1.0 |1.0 |1.0 |1.0 |0.0 |0.0 |0.0 |0.0 |1.0 |1.0 |0.0 |0.0 |1.0 |1.0 |1.0 |0.0 |0.0 |0.0 |0.0 |0.0 |0.0 |0.0 |1.0 |1.0 |1.0 |1.0 |0.0 |0.0 |0.0 |0.0 |0.0 |0.0 |0.0 |1.0 |1.0 |1.0 |0.0 |0.0 |0.0 |0.0 |0.0 |0.0 |0.0|1.0 |0.0 |0.0|0.0 |0.0 |0.0 |1.0 |0.0 |0.0 |0.0 |0.0 |1.0 |1.0 |1.0 |1.0 |1.0 |1.0 |1.0 |1.0 |1.0 |1.0 |1.0 |1.0 |1.0 |1.0 |1.0 |1.0 |1.0 |1.0 |1.0 |0.0 |117.0 |0.0  |0.0 |0.0  |0.0  |0.0 |117.0 |0.0  |0.0 |0.0 |0.0 |null|null|null|null|null|null|null|null |null|null|null|null|null  |null|null|null|null|null|null|null|null|null           |null         |null|null|null|null |null  |null  |null|null|null|null|null|null|null|null|null|null|null|null|null|null|null|null|null|null|null|null|null|null|null|null|null|null|null|null|null|null|null|null|null|null|null|null|null|null|null|null|null|null|null|null|null|null|null|null|null|null|null|null|null|null|null|null|null|null|null|null|null|null|null|null|null|null|null|null|null|null|null|null|null|null|null|null|null|null|null|null|null|null|null|null|null|null|null|null|null|null|null|null|null|null|null|null|null|null|null|null|null|null|null|null|null|null|null|null|null|null|null|null|0.0 |0.0 |0.0 |1.0 |1.0 |0.0 |0.0 |0.0 |0.0 |0.0 |0.0 |1.0 |1.0 |1.0 |0.0 |1.0 |0.0 |0.0 |0.0 |0.0 |0.0 |0.0 |0.0 |0.0 |0.0 |0.0 |1.0 |0.0 |117.0 |0.0  |0.0 |0.0  |0.0 |0.0  |0.0 |0.0 |0.0 |0.0 |117.0 |0.0  |0.0 |0.0 |0.0 |null|null|null|null|null|null|null|null|null|null|null|null|null|null|null|null|null|null|\n",
      "|2987001      |0      |86401        |29.0          |W        |2755 |404.0|150.0|mastercard|102.0|credit|325.0|87.0 |null |null |gmail.com    |null         |1.0|1.0|0.0|0.0|0.0|1.0|0.0|0.0|0.0|0.0|1.0|0.0|1.0 |1.0|0.0  |null |null|0.0 |null|null|null|null|null|0.0 |null |null|null|null|0.0  |null|null|null|M0  |T   |T   |null|null|null|null|null|null|null|null|null|null|null|null|null|null|0.0 |0.0 |1.0 |0.0 |0.0 |0.0 |0.0 |1.0 |1.0 |0.0 |0.0 |1.0 |1.0 |1.0 |1.0 |0.0 |0.0 |0.0 |0.0 |0.0 |0.0 |0.0 |0.0 |0.0 |0.0 |1.0 |1.0 |0.0 |0.0 |1.0 |0.0 |0.0 |1.0 |1.0 |1.0 |1.0 |0.0 |0.0 |0.0 |0.0 |0.0 |0.0 |0.0 |1.0 |1.0 |0.0 |0.0 |0.0 |0.0 |1.0 |1.0 |0.0 |0.0 |1.0 |1.0 |1.0 |0.0 |0.0 |0.0 |0.0 |0.0 |0.0 |0.0 |0.0 |0.0 |1.0 |1.0 |0.0 |0.0 |0.0 |1.0 |1.0 |0.0 |0.0 |1.0 |1.0 |1.0 |0.0 |0.0 |0.0 |0.0 |0.0 |0.0 |0.0|0.0 |0.0 |0.0|0.0 |0.0 |0.0 |0.0 |0.0 |0.0 |0.0 |0.0 |1.0 |1.0 |1.0 |1.0 |1.0 |1.0 |1.0 |1.0 |1.0 |1.0 |1.0 |1.0 |1.0 |1.0 |1.0 |1.0 |1.0 |1.0 |1.0 |0.0 |0.0   |0.0  |0.0 |0.0  |0.0  |0.0 |0.0   |0.0  |0.0 |0.0 |0.0 |null|null|null|null|null|null|null|null |null|null|null|null|null  |null|null|null|null|null|null|null|null|null           |null         |null|null|null|null |null  |null  |null|null|null|null|null|null|null|null|null|null|null|null|null|null|null|null|null|null|null|null|null|null|null|null|null|null|null|null|null|null|null|null|null|null|null|null|null|null|null|null|null|null|null|null|null|null|null|null|null|null|null|null|null|null|null|null|null|null|null|null|null|null|null|null|null|null|null|null|null|null|null|null|null|null|null|null|null|null|null|null|null|null|null|null|null|null|null|null|null|null|null|null|null|null|null|null|null|null|null|null|null|null|null|null|null|null|null|null|null|null|null|null|0.0 |0.0 |0.0 |1.0 |1.0 |0.0 |0.0 |0.0 |0.0 |0.0 |0.0 |1.0 |1.0 |1.0 |0.0 |0.0 |0.0 |0.0 |0.0 |0.0 |0.0 |0.0 |0.0 |0.0 |0.0 |0.0 |1.0 |0.0 |0.0   |0.0  |0.0 |0.0  |0.0 |0.0  |0.0 |0.0 |0.0 |0.0 |0.0   |0.0  |0.0 |0.0 |0.0 |null|null|null|null|null|null|null|null|null|null|null|null|null|null|null|null|null|null|\n",
      "|2987002      |0      |86469        |59.0          |W        |4663 |490.0|150.0|visa      |166.0|debit |330.0|87.0 |287.0|null |outlook.com  |null         |1.0|1.0|0.0|0.0|0.0|1.0|0.0|0.0|1.0|0.0|1.0|0.0|1.0 |1.0|0.0  |null |null|0.0 |null|null|null|null|null|0.0 |315.0|null|null|null|315.0|T   |T   |T   |M0  |F   |F   |F   |F   |F   |1.0 |1.0 |1.0 |1.0 |1.0 |1.0 |1.0 |1.0 |1.0 |0.0 |0.0 |1.0 |1.0 |1.0 |0.0 |0.0 |0.0 |0.0 |1.0 |1.0 |0.0 |0.0 |1.0 |1.0 |1.0 |1.0 |0.0 |0.0 |0.0 |0.0 |0.0 |0.0 |0.0 |0.0 |1.0 |1.0 |1.0 |1.0 |0.0 |0.0 |1.0 |0.0 |0.0 |1.0 |1.0 |1.0 |1.0 |0.0 |0.0 |0.0 |0.0 |0.0 |1.0 |1.0 |1.0 |1.0 |0.0 |0.0 |0.0 |0.0 |1.0 |1.0 |0.0 |0.0 |1.0 |1.0 |1.0 |0.0 |0.0 |0.0 |0.0 |0.0 |0.0 |0.0 |1.0 |1.0 |1.0 |1.0 |0.0 |0.0 |0.0 |1.0 |1.0 |0.0 |0.0 |1.0 |1.0 |1.0 |0.0 |0.0 |0.0 |0.0 |0.0 |0.0 |0.0|0.0 |0.0 |0.0|0.0 |0.0 |0.0 |0.0 |0.0 |0.0 |0.0 |0.0 |1.0 |1.0 |1.0 |1.0 |1.0 |1.0 |1.0 |1.0 |1.0 |1.0 |1.0 |1.0 |1.0 |1.0 |1.0 |1.0 |1.0 |1.0 |1.0 |0.0 |0.0   |0.0  |0.0 |0.0  |0.0  |0.0 |0.0   |0.0  |0.0 |0.0 |0.0 |null|null|null|null|null|null|null|null |null|null|null|null|null  |null|null|null|null|null|null|null|null|null           |null         |null|null|null|null |null  |null  |null|null|null|null|null|null|null|null|null|null|null|null|null|null|null|null|null|null|null|null|null|null|null|null|null|null|null|null|null|null|null|null|null|null|null|null|null|null|null|null|null|null|null|null|null|null|null|null|null|null|null|null|null|null|null|null|null|null|null|null|null|null|null|null|null|null|null|null|null|null|null|null|null|null|null|null|null|null|null|null|null|null|null|null|null|null|null|null|null|null|null|null|null|null|null|null|null|null|null|null|null|null|null|null|null|null|null|null|null|null|null|null|0.0 |0.0 |0.0 |1.0 |1.0 |0.0 |0.0 |0.0 |0.0 |0.0 |0.0 |1.0 |1.0 |1.0 |0.0 |0.0 |0.0 |0.0 |0.0 |0.0 |0.0 |0.0 |0.0 |0.0 |0.0 |0.0 |1.0 |0.0 |0.0   |0.0  |0.0 |0.0  |0.0 |0.0  |0.0 |0.0 |0.0 |0.0 |0.0   |0.0  |0.0 |0.0 |0.0 |null|null|null|null|null|null|null|null|null|null|null|null|null|null|null|null|null|null|\n",
      "|2987003      |0      |86499        |50.0          |W        |18132|567.0|150.0|mastercard|117.0|debit |476.0|87.0 |null |null |yahoo.com    |null         |2.0|5.0|0.0|0.0|0.0|4.0|0.0|0.0|1.0|0.0|1.0|0.0|25.0|1.0|112.0|112.0|0.0 |94.0|0.0 |null|null|null|null|84.0|null |null|null|null|111.0|null|null|null|M0  |T   |F   |null|null|null|null|null|null|null|null|null|null|null|null|null|null|1.0 |1.0 |1.0 |0.0 |0.0 |0.0 |0.0 |1.0 |1.0 |0.0 |0.0 |1.0 |1.0 |1.0 |1.0 |0.0 |0.0 |0.0 |0.0 |0.0 |0.0 |0.0 |0.0 |1.0 |1.0 |1.0 |1.0 |0.0 |0.0 |1.0 |0.0 |0.0 |1.0 |1.0 |1.0 |1.0 |0.0 |0.0 |0.0 |0.0 |0.0 |1.0 |1.0 |1.0 |1.0 |0.0 |0.0 |0.0 |0.0 |1.0 |1.0 |0.0 |0.0 |1.0 |1.0 |1.0 |0.0 |0.0 |0.0 |0.0 |0.0 |0.0 |0.0 |1.0 |1.0 |1.0 |1.0 |0.0 |0.0 |0.0 |1.0 |1.0 |0.0 |0.0 |1.0 |1.0 |1.0 |0.0 |0.0 |0.0 |0.0 |0.0 |0.0 |1.0|48.0|28.0|0.0|10.0|4.0 |1.0 |38.0|24.0|0.0 |0.0 |0.0 |1.0 |1.0 |1.0 |1.0 |1.0 |1.0 |1.0 |1.0 |1.0 |1.0 |1.0 |1.0 |1.0 |1.0 |1.0 |1.0 |1.0 |1.0 |1.0 |50.0|1758.0|925.0|0.0 |354.0|135.0|50.0|1404.0|790.0|0.0 |0.0 |0.0 |null|null|null|null|null|null|null|null |null|null|null|null|null  |null|null|null|null|null|null|null|null|null           |null         |null|null|null|null |null  |null  |null|null|null|null|null|null|null|null|null|null|null|null|null|null|null|null|null|null|null|null|null|null|null|null|null|null|null|null|null|null|null|null|null|null|null|null|null|null|null|null|null|null|null|null|null|null|null|null|null|null|null|null|null|null|null|null|null|null|null|null|null|null|null|null|null|null|null|null|null|null|null|null|null|null|null|null|null|null|null|null|null|null|null|null|null|null|null|null|null|null|null|null|null|null|null|null|null|null|null|null|null|null|null|null|null|null|null|null|null|null|null|null|1.0 |28.0|0.0 |0.0 |0.0 |0.0 |10.0|0.0 |4.0 |0.0 |0.0 |1.0 |1.0 |1.0 |1.0 |38.0|24.0|0.0 |0.0 |0.0 |0.0 |0.0 |0.0 |0.0 |0.0 |0.0 |1.0 |50.0|1758.0|925.0|0.0 |354.0|0.0 |135.0|0.0 |0.0 |0.0 |50.0|1404.0|790.0|0.0 |0.0 |0.0 |null|null|null|null|null|null|null|null|null|null|null|null|null|null|null|null|null|null|\n",
      "|2987004      |0      |86506        |50.0          |H        |4497 |514.0|150.0|mastercard|102.0|credit|420.0|87.0 |null |null |gmail.com    |null         |1.0|1.0|0.0|0.0|0.0|1.0|0.0|1.0|0.0|1.0|1.0|0.0|1.0 |1.0|0.0  |null |null|null|null|null|null|null|null|null|null |null|null|null|null |null|null|null|null|null|null|null|null|null|null|null|null|null|null|null|null|null|null|null|null|null|null|null|null|null|null|null|null|null|null|null|null|null|null|null|null|null|null|null|null|null|null|null|null|null|null|null|null|null|null|null|null|null|null|null|null|null|null|null|null|null|null|null|null|null|null|null|null|null|null|null|null|null|null|null|null|null|null|null|null|null|null|null|null|null|null|null|null|null|null|null|null|null|null|null|null|null|null|null|null|null|null|null|0.0|0.0 |0.0 |0.0|0.0 |0.0 |0.0 |0.0 |0.0 |0.0 |0.0 |0.0 |1.0 |1.0 |1.0 |1.0 |1.0 |1.0 |1.0 |1.0 |1.0 |1.0 |1.0 |1.0 |1.0 |1.0 |1.0 |1.0 |1.0 |1.0 |1.0 |0.0 |0.0   |0.0  |0.0 |0.0  |0.0  |0.0 |0.0   |0.0  |0.0 |0.0 |0.0 |0.0 |0.0 |0.0 |0.0 |0.0 |6.0 |18.0|140.0|0.0 |0.0 |0.0 |0.0 |1803.0|49.0|64.0|0.0 |0.0 |0.0 |0.0 |0.0 |0.0 |15557.990234375|169690.796875|0.0 |0.0 |0.0 |515.0|5155.0|2840.0|0.0 |0.0 |0.0 |1.0 |1.0 |0.0 |0.0 |0.0 |0.0 |1.0 |0.0 |0.0 |0.0 |0.0 |0.0 |0.0 |0.0 |0.0 |0.0 |1.0 |1.0 |1.0 |1.0 |1.0 |1.0 |1.0 |1.0 |1.0 |1.0 |1.0 |1.0 |1.0 |1.0 |1.0 |1.0 |0.0 |0.0 |0.0 |0.0 |0.0 |0.0 |0.0 |0.0 |0.0 |0.0 |0.0 |0.0 |0.0 |0.0 |0.0 |0.0 |0.0 |0.0 |0.0 |1.0 |1.0 |0.0 |0.0 |0.0 |0.0 |0.0 |1.0 |1.0 |1.0 |0.0 |0.0 |0.0 |0.0 |0.0 |0.0 |0.0 |0.0 |0.0 |1.0 |1.0 |1.0 |1.0 |1.0 |1.0 |1.0 |1.0 |1.0 |1.0 |1.0 |1.0 |1.0 |1.0 |1.0 |1.0 |1.0 |1.0 |1.0 |1.0 |1.0 |1.0 |1.0 |0.0 |0.0 |0.0 |0.0 |0.0 |0.0 |0.0 |0.0 |0.0 |0.0 |0.0 |0.0 |0.0 |0.0 |0.0 |0.0 |0.0 |0.0 |0.0 |1.0 |1.0 |0.0 |0.0 |0.0 |0.0 |0.0 |0.0 |1.0 |1.0 |1.0 |0.0 |0.0 |0.0 |0.0 |0.0 |0.0 |0.0 |0.0 |0.0 |1.0 |1.0 |1.0 |1.0 |0.0 |0.0   |0.0  |0.0 |0.0  |0.0 |0.0  |0.0 |0.0 |0.0 |0.0 |0.0   |0.0  |0.0 |0.0 |0.0 |0.0 |0.0 |0.0 |0.0 |0.0 |0.0 |0.0 |0.0 |0.0 |0.0 |0.0 |0.0 |0.0 |0.0 |0.0 |0.0 |0.0 |0.0 |\n",
      "+-------------+-------+-------------+--------------+---------+-----+-----+-----+----------+-----+------+-----+-----+-----+-----+-------------+-------------+---+---+---+---+---+---+---+---+---+---+---+---+----+---+-----+-----+----+----+----+----+----+----+----+----+-----+----+----+----+-----+----+----+----+----+----+----+----+----+----+----+----+----+----+----+----+----+----+----+----+----+----+----+----+----+----+----+----+----+----+----+----+----+----+----+----+----+----+----+----+----+----+----+----+----+----+----+----+----+----+----+----+----+----+----+----+----+----+----+----+----+----+----+----+----+----+----+----+----+----+----+----+----+----+----+----+----+----+----+----+----+----+----+----+----+----+----+----+----+----+----+----+----+----+----+----+----+----+----+----+----+----+----+----+---+----+----+---+----+----+----+----+----+----+----+----+----+----+----+----+----+----+----+----+----+----+----+----+----+----+----+----+----+----+----+----+------+-----+----+-----+-----+----+------+-----+----+----+----+----+----+----+----+----+----+----+-----+----+----+----+----+------+----+----+----+----+----+----+----+----+---------------+-------------+----+----+----+-----+------+------+----+----+----+----+----+----+----+----+----+----+----+----+----+----+----+----+----+----+----+----+----+----+----+----+----+----+----+----+----+----+----+----+----+----+----+----+----+----+----+----+----+----+----+----+----+----+----+----+----+----+----+----+----+----+----+----+----+----+----+----+----+----+----+----+----+----+----+----+----+----+----+----+----+----+----+----+----+----+----+----+----+----+----+----+----+----+----+----+----+----+----+----+----+----+----+----+----+----+----+----+----+----+----+----+----+----+----+----+----+----+----+----+----+----+----+----+----+----+----+----+----+----+----+----+----+----+----+----+----+----+----+----+----+----+----+----+----+----+----+----+------+-----+----+-----+----+-----+----+----+----+----+------+-----+----+----+----+----+----+----+----+----+----+----+----+----+----+----+----+----+----+----+----+----+----+\n",
      "only showing top 5 rows\n",
      "\n"
     ]
    }
   ],
   "source": [
    "# Print (number of rows, number of characters)\n",
    "df_tr.show(5, 0)"
   ]
  },
  {
   "cell_type": "markdown",
   "metadata": {},
   "source": [
    "##### Comparison: open files\n",
    "\n",
    "Pyspark is faster in opening large csv files. `train_transaction.csv` have 660 MBytes and comparing the time for each library to open it:\n",
    "\n",
    "- Pandas: 22.3s\n",
    "- Pyspark: 0.3s"
   ]
  },
  {
   "cell_type": "markdown",
   "metadata": {},
   "source": [
    "## Data Cleaning"
   ]
  },
  {
   "cell_type": "code",
   "execution_count": 37,
   "metadata": {},
   "outputs": [
    {
     "name": "stdout",
     "output_type": "stream",
     "text": [
      "Original table: df_tr\n",
      "- rows: 590540\n",
      "- columns: 394\n",
      "Original table: df_id\n",
      "- rows: 144233\n",
      "- columns: 41\n",
      "Post data cleaning table: df_tr\n",
      "- rows: 590540\n",
      "- columns: 394\n",
      "Post data cleaning table: df_id\n",
      "- rows: 144233\n",
      "- columns: 41\n"
     ]
    }
   ],
   "source": [
    "print(f'Original table: df_tr\\n- rows: {df_tr.count()}\\n- columns: {len(df_tr.columns)}')\n",
    "print(f'Original table: df_id\\n- rows: {df_id.count()}\\n- columns: {len(df_id.columns)}')\n",
    "\n",
    "# Drop duplicates\n",
    "df_tr = df_tr.dropDuplicates()\n",
    "df_id = df_id.dropDuplicates()\n",
    "\n",
    "# Assert isFraud columns is binary and 100% completed.\n",
    "df_tr = df_tr.filter((df_tr['isFraud'] == 0) | (df_tr['isFraud'] == 1))\n",
    "\n",
    "\n",
    "print(f'Post data cleaning table: df_tr\\n- rows: {df_tr.count()}\\n- columns: {len(df_tr.columns)}')\n",
    "print(f'Post data cleaning table: df_id\\n- rows: {df_id.count()}\\n- columns: {len(df_id.columns)}')"
   ]
  },
  {
   "cell_type": "code",
   "execution_count": 38,
   "metadata": {},
   "outputs": [
    {
     "name": "stdout",
     "output_type": "stream",
     "text": [
      "+-------------+-------+-------------+--------------+---------+-----+-----+-----+-----+-----+------+-----+-----+-----+-----+-------------+-------------+---+---+---+---+---+---+---+---+---+---+---+---+---+---+---+----+----+----+----+----+----+-----+----+---+----+----+----+----+---+----+----+----+----+----+----+----+----+----+----+----+----+----+----+----+----+----+----+----+----+---+---+---+---+---+---+---+---+---+---+---+---+---+---+---+---+---+---+---+---+---+---+---+----+----+----+----+----+----+----+----+----+----+----+----+----+----+----+----+----+----+---+---+---+---+---+---+---+---+---+---+---+---+---+---+---+---+---+---+---+---+---+---+---+---+---+---+---+---+---+---+---+---+---+---+---+---+---+---+---+---+---+---+---+---+---+---+---+----+----+----+----+----+----+----+----+----+----+----+----+----+----+----+----+----+----+----+----+----+----+----+----+----+----+----+----+----+----+----+----+----+----+----+----+----+----+----+----+----+----+----+----+----+----+----+----+----+----+----+----+----+----+----+----+----+----+----+----+----+----+----+----+----+----+----+----+----+----+----+----+----+----+----+----+----+----+----+----+----+----+----+----+----+----+----+----+----+----+----+----+----+----+----+----+----+----+----+----+----+----+----+------------------+----+----+----+----+------------------+------------------+------------------+----+----+----+----+----+----+----+----+----+----+----+----+----+----+----+----+----+----+----+----+----+----+----+----+----+----+----+----+----+----+----+----+----+----+----+----+----+----+----+----+----+----+----+----+----+----+----+----+----+----+----+----+----+----+----+----+----+----+----+----+----+----+----+----+----+----+----+----+----+----+----+----+----+----+----+----+----+----+----+----+----+----+----+----+----+----+----+----+----+----+----+----+----+----+----+----+----+----+----+----+----+----+----+----+----+----+----+----+----+----+----+----+----+----+----+----+----+----+----+----+----+----+----+----+----+----+----+----+----+\n",
      "|TransactionID|isFraud|TransactionDT|TransactionAmt|ProductCD|card1|card2|card3|card4|card5|card6 |addr1|addr2|dist1|dist2|P_emaildomain|R_emaildomain|C1 |C2 |C3 |C4 |C5 |C6 |C7 |C8 |C9 |C10|C11|C12|C13|C14|D1 |D2  |D3  |D4  |D5  |D6  |D7  |D8   |D9  |D10|D11 |D12 |D13 |D14 |D15|M1  |M2  |M3  |M4  |M5  |M6  |M7  |M8  |M9  |V1  |V2  |V3  |V4  |V5  |V6  |V7  |V8  |V9  |V10 |V11 |V12|V13|V14|V15|V16|V17|V18|V19|V20|V21|V22|V23|V24|V25|V26|V27|V28|V29|V30|V31|V32|V33|V34|V35 |V36 |V37 |V38 |V39 |V40 |V41 |V42 |V43 |V44 |V45 |V46 |V47 |V48 |V49 |V50 |V51 |V52 |V53|V54|V55|V56|V57|V58|V59|V60|V61|V62|V63|V64|V65|V66|V67|V68|V69|V70|V71|V72|V73|V74|V75|V76|V77|V78|V79|V80|V81|V82|V83|V84|V85|V86|V87|V88|V89|V90|V91|V92|V93|V94|V95|V96|V97|V98|V99|V100|V101|V102|V103|V104|V105|V106|V107|V108|V109|V110|V111|V112|V113|V114|V115|V116|V117|V118|V119|V120|V121|V122|V123|V124|V125|V126|V127|V128|V129|V130|V131|V132|V133|V134|V135|V136|V137|V138|V139|V140|V141|V142|V143|V144|V145|V146|V147|V148|V149|V150|V151|V152|V153|V154|V155|V156|V157|V158|V159|V160|V161|V162|V163|V164|V165|V166|V167|V168|V169|V170|V171|V172|V173|V174|V175|V176|V177|V178|V179|V180|V181|V182|V183|V184|V185|V186|V187|V188|V189|V190|V191|V192|V193|V194|V195|V196|V197|V198|V199|V200|V201|V202|V203              |V204|V205|V206|V207|V208              |V209              |V210              |V211|V212|V213|V214|V215|V216|V217|V218|V219|V220|V221|V222|V223|V224|V225|V226|V227|V228|V229|V230|V231|V232|V233|V234|V235|V236|V237|V238|V239|V240|V241|V242|V243|V244|V245|V246|V247|V248|V249|V250|V251|V252|V253|V254|V255|V256|V257|V258|V259|V260|V261|V262|V263|V264|V265|V266|V267|V268|V269|V270|V271|V272|V273|V274|V275|V276|V277|V278|V279|V280|V281|V282|V283|V284|V285|V286|V287|V288|V289|V290|V291|V292|V293|V294|V295|V296|V297|V298|V299|V300|V301|V302|V303|V304|V305|V306|V307|V308|V309|V310|V311|V312|V313|V314|V315|V316|V317|V318|V319|V320|V321|V322|V323|V324|V325|V326|V327|V328|V329|V330|V331|V332|V333|V334|V335|V336|V337|V338|V339|\n",
      "+-------------+-------+-------------+--------------+---------+-----+-----+-----+-----+-----+------+-----+-----+-----+-----+-------------+-------------+---+---+---+---+---+---+---+---+---+---+---+---+---+---+---+----+----+----+----+----+----+-----+----+---+----+----+----+----+---+----+----+----+----+----+----+----+----+----+----+----+----+----+----+----+----+----+----+----+----+---+---+---+---+---+---+---+---+---+---+---+---+---+---+---+---+---+---+---+---+---+---+---+----+----+----+----+----+----+----+----+----+----+----+----+----+----+----+----+----+----+---+---+---+---+---+---+---+---+---+---+---+---+---+---+---+---+---+---+---+---+---+---+---+---+---+---+---+---+---+---+---+---+---+---+---+---+---+---+---+---+---+---+---+---+---+---+---+----+----+----+----+----+----+----+----+----+----+----+----+----+----+----+----+----+----+----+----+----+----+----+----+----+----+----+----+----+----+----+----+----+----+----+----+----+----+----+----+----+----+----+----+----+----+----+----+----+----+----+----+----+----+----+----+----+----+----+----+----+----+----+----+----+----+----+----+----+----+----+----+----+----+----+----+----+----+----+----+----+----+----+----+----+----+----+----+----+----+----+----+----+----+----+----+----+----+----+----+----+----+----+------------------+----+----+----+----+------------------+------------------+------------------+----+----+----+----+----+----+----+----+----+----+----+----+----+----+----+----+----+----+----+----+----+----+----+----+----+----+----+----+----+----+----+----+----+----+----+----+----+----+----+----+----+----+----+----+----+----+----+----+----+----+----+----+----+----+----+----+----+----+----+----+----+----+----+----+----+----+----+----+----+----+----+----+----+----+----+----+----+----+----+----+----+----+----+----+----+----+----+----+----+----+----+----+----+----+----+----+----+----+----+----+----+----+----+----+----+----+----+----+----+----+----+----+----+----+----+----+----+----+----+----+----+----+----+----+----+----+----+----+----+\n",
      "|2987065      |0      |87650        |114.95        |W        |17188|321.0|150.0|visa |226.0|debit |299.0|87.0 |1.0  |null |null         |null         |1.0|1.0|0.0|0.0|1.0|0.0|0.0|0.0|1.0|0.0|1.0|0.0|1.0|1.0|0.0|null|null|null|null|null|null|null |null|0.0|0.0 |null|null|null|0.0|T   |T   |T   |null|null|T   |F   |F   |T   |1.0 |1.0 |1.0 |0.0 |0.0 |1.0 |1.0 |1.0 |1.0 |1.0 |1.0 |1.0|1.0|1.0|0.0|0.0|0.0|0.0|0.0|0.0|0.0|0.0|1.0|1.0|1.0|1.0|0.0|0.0|1.0|1.0|0.0|0.0|0.0|0.0|null|null|null|null|null|null|null|null|null|null|null|null|null|null|null|null|null|null|1.0|1.0|1.0|1.0|0.0|0.0|0.0|0.0|0.0|0.0|0.0|0.0|1.0|1.0|1.0|0.0|1.0|1.0|0.0|0.0|0.0|0.0|1.0|1.0|1.0|1.0|0.0|0.0|0.0|0.0|0.0|0.0|0.0|1.0|1.0|1.0|0.0|1.0|1.0|0.0|0.0|0.0|0.0|0.0|0.0|0.0|0.0|0.0 |0.0 |0.0 |0.0 |0.0 |0.0 |0.0 |1.0 |1.0 |1.0 |1.0 |1.0 |1.0 |1.0 |1.0 |1.0 |1.0 |1.0 |1.0 |1.0 |1.0 |1.0 |1.0 |1.0 |1.0 |1.0 |0.0 |0.0 |0.0 |0.0 |0.0 |0.0 |0.0 |0.0 |0.0 |0.0 |0.0 |0.0 |null|null|null|null|null|null|null|null|null|null|null|null|null|null|null|null|null|null|null|null|null|null|null|null|null|null|null|null|null|null|null|null|null|null|null|null|null|null|null|null|null|null|null|null|null|null|null|null|null|null|null|null|null|null|null|null|null|null|null|null|null|null|null|null|null|null              |null|null|null|null|null              |null              |null              |null|null|null|null|null|null|null|null|null|null|null|null|null|null|null|null|null|null|null|null|null|null|null|null|null|null|null|null|null|null|null|null|null|null|null|null|null|null|null|null|null|null|null|null|null|null|null|null|null|null|null|null|null|null|null|null|null|null|null|null|null|null|null|null|null|null|null|null|0.0 |0.0 |0.0 |1.0 |1.0 |0.0 |0.0 |0.0 |0.0 |0.0 |0.0 |1.0 |1.0 |1.0 |0.0 |0.0 |0.0 |0.0 |0.0 |0.0 |0.0 |0.0 |0.0 |0.0 |0.0 |0.0 |1.0 |0.0 |0.0 |0.0 |0.0 |0.0 |0.0 |0.0 |0.0 |0.0 |0.0 |0.0 |0.0 |0.0 |0.0 |0.0 |0.0 |null|null|null|null|null|null|null|null|null|null|null|null|null|null|null|null|null|null|\n",
      "|2987209      |0      |89836        |21.993        |C        |10876|104.0|185.0|visa |137.0|credit|null |null |null |4.0  |anonymous.com|anonymous.com|2.0|2.0|0.0|1.0|0.0|1.0|1.0|1.0|0.0|2.0|2.0|2.0|2.0|2.0|0.0|null|null|24.0|24.0|24.0|24.0|549.0|0.0 |0.0|null|24.0|24.0|0.0 |0.0|null|null|null|M0  |null|null|null|null|null|null|null|null|null|null|null|null|null|null|null|null|0.0|0.0|1.0|1.0|1.0|1.0|1.0|1.0|1.0|1.0|1.0|1.0|1.0|1.0|1.0|0.0|0.0|0.0|0.0|1.0|1.0|1.0|1.0|0.0 |0.0 |1.0 |1.0 |1.0 |1.0 |1.0 |1.0 |1.0 |1.0 |1.0 |1.0 |1.0 |0.0 |0.0 |1.0 |1.0 |1.0 |0.0|0.0|1.0|1.0|1.0|1.0|1.0|1.0|1.0|1.0|1.0|1.0|1.0|1.0|1.0|0.0|0.0|0.0|1.0|1.0|1.0|1.0|0.0|0.0|1.0|1.0|1.0|1.0|1.0|1.0|1.0|1.0|1.0|1.0|1.0|1.0|0.0|0.0|0.0|1.0|1.0|1.0|0.0|0.0|0.0|0.0|0.0|0.0 |0.0 |0.0 |0.0 |0.0 |0.0 |0.0 |1.0 |1.0 |1.0 |1.0 |1.0 |1.0 |1.0 |1.0 |1.0 |1.0 |1.0 |1.0 |1.0 |1.0 |1.0 |1.0 |1.0 |1.0 |1.0 |0.0 |0.0 |0.0 |0.0 |0.0 |0.0 |0.0 |0.0 |0.0 |0.0 |0.0 |0.0 |null|null|null|null|null|null|null|null|null|null|null|null|null|null|null|null|null|null|null|null|null|null|null|null|null|null|null|null|null|0.0 |0.0 |0.0 |1.0 |1.0 |0.0 |0.0 |1.0 |1.0 |1.0 |0.0 |0.0 |0.0 |0.0 |0.0 |0.0 |0.0 |0.0 |0.0 |1.0 |1.0 |1.0 |1.0 |1.0 |1.0 |1.0 |1.0 |1.0 |1.0 |1.0 |1.0 |1.0 |1.0 |1.0 |1.0 |0.0 |25.013900756835934|0.0 |0.0 |0.0 |0.0 |25.013900756835934|25.013900756835934|25.013900756835934|0.0 |0.0 |0.0 |0.0 |0.0 |0.0 |0.0 |0.0 |0.0 |0.0 |1.0 |1.0 |0.0 |0.0 |0.0 |0.0 |0.0 |1.0 |1.0 |1.0 |0.0 |0.0 |0.0 |0.0 |0.0 |0.0 |0.0 |0.0 |0.0 |1.0 |1.0 |1.0 |1.0 |1.0 |1.0 |1.0 |1.0 |1.0 |1.0 |1.0 |1.0 |1.0 |1.0 |1.0 |1.0 |1.0 |1.0 |1.0 |1.0 |1.0 |1.0 |1.0 |0.0 |0.0 |0.0 |0.0 |0.0 |0.0 |0.0 |0.0 |0.0 |0.0 |0.0 |0.0 |0.0 |0.0 |0.0 |0.0 |0.0 |0.0 |0.0 |1.0 |1.0 |0.0 |0.0 |0.0 |0.0 |0.0 |0.0 |1.0 |1.0 |1.0 |0.0 |0.0 |0.0 |0.0 |0.0 |0.0 |0.0 |0.0 |0.0 |1.0 |1.0 |1.0 |1.0 |0.0 |0.0 |0.0 |0.0 |0.0 |0.0 |0.0 |0.0 |0.0 |0.0 |0.0 |0.0 |0.0 |0.0 |0.0 |0.0 |null|null|null|null|null|null|null|null|null|null|null|null|null|null|null|null|null|null|\n",
      "+-------------+-------+-------------+--------------+---------+-----+-----+-----+-----+-----+------+-----+-----+-----+-----+-------------+-------------+---+---+---+---+---+---+---+---+---+---+---+---+---+---+---+----+----+----+----+----+----+-----+----+---+----+----+----+----+---+----+----+----+----+----+----+----+----+----+----+----+----+----+----+----+----+----+----+----+----+---+---+---+---+---+---+---+---+---+---+---+---+---+---+---+---+---+---+---+---+---+---+---+----+----+----+----+----+----+----+----+----+----+----+----+----+----+----+----+----+----+---+---+---+---+---+---+---+---+---+---+---+---+---+---+---+---+---+---+---+---+---+---+---+---+---+---+---+---+---+---+---+---+---+---+---+---+---+---+---+---+---+---+---+---+---+---+---+----+----+----+----+----+----+----+----+----+----+----+----+----+----+----+----+----+----+----+----+----+----+----+----+----+----+----+----+----+----+----+----+----+----+----+----+----+----+----+----+----+----+----+----+----+----+----+----+----+----+----+----+----+----+----+----+----+----+----+----+----+----+----+----+----+----+----+----+----+----+----+----+----+----+----+----+----+----+----+----+----+----+----+----+----+----+----+----+----+----+----+----+----+----+----+----+----+----+----+----+----+----+----+------------------+----+----+----+----+------------------+------------------+------------------+----+----+----+----+----+----+----+----+----+----+----+----+----+----+----+----+----+----+----+----+----+----+----+----+----+----+----+----+----+----+----+----+----+----+----+----+----+----+----+----+----+----+----+----+----+----+----+----+----+----+----+----+----+----+----+----+----+----+----+----+----+----+----+----+----+----+----+----+----+----+----+----+----+----+----+----+----+----+----+----+----+----+----+----+----+----+----+----+----+----+----+----+----+----+----+----+----+----+----+----+----+----+----+----+----+----+----+----+----+----+----+----+----+----+----+----+----+----+----+----+----+----+----+----+----+----+----+----+----+\n",
      "only showing top 2 rows\n",
      "\n"
     ]
    }
   ],
   "source": [
    "df_tr.show(2, 0)"
   ]
  },
  {
   "cell_type": "code",
   "execution_count": 39,
   "metadata": {},
   "outputs": [
    {
     "name": "stdout",
     "output_type": "stream",
     "text": [
      "+-------------+-------+-------------+--------------+---------+-----+-----+-----+-----+-----+------+-----+-----+-----+-----+-------------+-------------+---+---+---+---+---+---+---+---+---+---+---+---+---+---+---+----+----+----+----+----+----+-----+----+---+----+----+----+----+---+----+----+----+----+----+----+----+----+----+----+----+----+----+----+----+----+----+----+----+----+---+---+---+---+---+---+---+---+---+---+---+---+---+---+---+---+---+---+---+---+---+---+---+----+----+----+----+----+----+----+----+----+----+----+----+----+----+----+----+----+----+---+---+---+---+---+---+---+---+---+---+---+---+---+---+---+---+---+---+---+---+---+---+---+---+---+---+---+---+---+---+---+---+---+---+---+---+---+---+---+---+---+---+---+---+---+---+---+----+----+----+----+----+----+----+----+----+----+----+----+----+----+----+----+----+----+----+----+----+----+----+----+----+----+----+----+----+----+----+----+----+----+----+----+----+----+----+----+----+----+----+----+----+----+----+----+----+----+----+----+----+----+----+----+----+----+----+----+----+----+----+----+----+----+----+----+----+----+----+----+----+----+----+----+----+----+----+----+----+----+----+----+----+----+----+----+----+----+----+----+----+----+----+----+----+----+----+----+----+----+----+------------------+----+----+----+----+------------------+------------------+------------------+----+----+----+----+----+----+----+----+----+----+----+----+----+----+----+----+----+----+----+----+----+----+----+----+----+----+----+----+----+----+----+----+----+----+----+----+----+----+----+----+----+----+----+----+----+----+----+----+----+----+----+----+----+----+----+----+----+----+----+----+----+----+----+----+----+----+----+----+----+----+----+----+----+----+----+----+----+----+----+----+----+----+----+----+----+----+----+----+----+----+----+----+----+----+----+----+----+----+----+----+----+----+----+----+----+----+----+----+----+----+----+----+----+----+----+----+----+----+----+----+----+----+----+----+----+----+----+----+----+------------------+\n",
      "|TransactionID|isFraud|TransactionDT|TransactionAmt|ProductCD|card1|card2|card3|card4|card5|card6 |addr1|addr2|dist1|dist2|P_emaildomain|R_emaildomain|C1 |C2 |C3 |C4 |C5 |C6 |C7 |C8 |C9 |C10|C11|C12|C13|C14|D1 |D2  |D3  |D4  |D5  |D6  |D7  |D8   |D9  |D10|D11 |D12 |D13 |D14 |D15|M1  |M2  |M3  |M4  |M5  |M6  |M7  |M8  |M9  |V1  |V2  |V3  |V4  |V5  |V6  |V7  |V8  |V9  |V10 |V11 |V12|V13|V14|V15|V16|V17|V18|V19|V20|V21|V22|V23|V24|V25|V26|V27|V28|V29|V30|V31|V32|V33|V34|V35 |V36 |V37 |V38 |V39 |V40 |V41 |V42 |V43 |V44 |V45 |V46 |V47 |V48 |V49 |V50 |V51 |V52 |V53|V54|V55|V56|V57|V58|V59|V60|V61|V62|V63|V64|V65|V66|V67|V68|V69|V70|V71|V72|V73|V74|V75|V76|V77|V78|V79|V80|V81|V82|V83|V84|V85|V86|V87|V88|V89|V90|V91|V92|V93|V94|V95|V96|V97|V98|V99|V100|V101|V102|V103|V104|V105|V106|V107|V108|V109|V110|V111|V112|V113|V114|V115|V116|V117|V118|V119|V120|V121|V122|V123|V124|V125|V126|V127|V128|V129|V130|V131|V132|V133|V134|V135|V136|V137|V138|V139|V140|V141|V142|V143|V144|V145|V146|V147|V148|V149|V150|V151|V152|V153|V154|V155|V156|V157|V158|V159|V160|V161|V162|V163|V164|V165|V166|V167|V168|V169|V170|V171|V172|V173|V174|V175|V176|V177|V178|V179|V180|V181|V182|V183|V184|V185|V186|V187|V188|V189|V190|V191|V192|V193|V194|V195|V196|V197|V198|V199|V200|V201|V202|V203              |V204|V205|V206|V207|V208              |V209              |V210              |V211|V212|V213|V214|V215|V216|V217|V218|V219|V220|V221|V222|V223|V224|V225|V226|V227|V228|V229|V230|V231|V232|V233|V234|V235|V236|V237|V238|V239|V240|V241|V242|V243|V244|V245|V246|V247|V248|V249|V250|V251|V252|V253|V254|V255|V256|V257|V258|V259|V260|V261|V262|V263|V264|V265|V266|V267|V268|V269|V270|V271|V272|V273|V274|V275|V276|V277|V278|V279|V280|V281|V282|V283|V284|V285|V286|V287|V288|V289|V290|V291|V292|V293|V294|V295|V296|V297|V298|V299|V300|V301|V302|V303|V304|V305|V306|V307|V308|V309|V310|V311|V312|V313|V314|V315|V316|V317|V318|V319|V320|V321|V322|V323|V324|V325|V326|V327|V328|V329|V330|V331|V332|V333|V334|V335|V336|V337|V338|V339|TransactionDT_days|\n",
      "+-------------+-------+-------------+--------------+---------+-----+-----+-----+-----+-----+------+-----+-----+-----+-----+-------------+-------------+---+---+---+---+---+---+---+---+---+---+---+---+---+---+---+----+----+----+----+----+----+-----+----+---+----+----+----+----+---+----+----+----+----+----+----+----+----+----+----+----+----+----+----+----+----+----+----+----+----+---+---+---+---+---+---+---+---+---+---+---+---+---+---+---+---+---+---+---+---+---+---+---+----+----+----+----+----+----+----+----+----+----+----+----+----+----+----+----+----+----+---+---+---+---+---+---+---+---+---+---+---+---+---+---+---+---+---+---+---+---+---+---+---+---+---+---+---+---+---+---+---+---+---+---+---+---+---+---+---+---+---+---+---+---+---+---+---+----+----+----+----+----+----+----+----+----+----+----+----+----+----+----+----+----+----+----+----+----+----+----+----+----+----+----+----+----+----+----+----+----+----+----+----+----+----+----+----+----+----+----+----+----+----+----+----+----+----+----+----+----+----+----+----+----+----+----+----+----+----+----+----+----+----+----+----+----+----+----+----+----+----+----+----+----+----+----+----+----+----+----+----+----+----+----+----+----+----+----+----+----+----+----+----+----+----+----+----+----+----+----+------------------+----+----+----+----+------------------+------------------+------------------+----+----+----+----+----+----+----+----+----+----+----+----+----+----+----+----+----+----+----+----+----+----+----+----+----+----+----+----+----+----+----+----+----+----+----+----+----+----+----+----+----+----+----+----+----+----+----+----+----+----+----+----+----+----+----+----+----+----+----+----+----+----+----+----+----+----+----+----+----+----+----+----+----+----+----+----+----+----+----+----+----+----+----+----+----+----+----+----+----+----+----+----+----+----+----+----+----+----+----+----+----+----+----+----+----+----+----+----+----+----+----+----+----+----+----+----+----+----+----+----+----+----+----+----+----+----+----+----+----+------------------+\n",
      "|2987065      |0      |87650        |114.95        |W        |17188|321.0|150.0|visa |226.0|debit |299.0|87.0 |1.0  |null |null         |null         |1.0|1.0|0.0|0.0|1.0|0.0|0.0|0.0|1.0|0.0|1.0|0.0|1.0|1.0|0.0|null|null|null|null|null|null|null |null|0.0|0.0 |null|null|null|0.0|T   |T   |T   |null|null|T   |F   |F   |T   |1.0 |1.0 |1.0 |0.0 |0.0 |1.0 |1.0 |1.0 |1.0 |1.0 |1.0 |1.0|1.0|1.0|0.0|0.0|0.0|0.0|0.0|0.0|0.0|0.0|1.0|1.0|1.0|1.0|0.0|0.0|1.0|1.0|0.0|0.0|0.0|0.0|null|null|null|null|null|null|null|null|null|null|null|null|null|null|null|null|null|null|1.0|1.0|1.0|1.0|0.0|0.0|0.0|0.0|0.0|0.0|0.0|0.0|1.0|1.0|1.0|0.0|1.0|1.0|0.0|0.0|0.0|0.0|1.0|1.0|1.0|1.0|0.0|0.0|0.0|0.0|0.0|0.0|0.0|1.0|1.0|1.0|0.0|1.0|1.0|0.0|0.0|0.0|0.0|0.0|0.0|0.0|0.0|0.0 |0.0 |0.0 |0.0 |0.0 |0.0 |0.0 |1.0 |1.0 |1.0 |1.0 |1.0 |1.0 |1.0 |1.0 |1.0 |1.0 |1.0 |1.0 |1.0 |1.0 |1.0 |1.0 |1.0 |1.0 |1.0 |0.0 |0.0 |0.0 |0.0 |0.0 |0.0 |0.0 |0.0 |0.0 |0.0 |0.0 |0.0 |null|null|null|null|null|null|null|null|null|null|null|null|null|null|null|null|null|null|null|null|null|null|null|null|null|null|null|null|null|null|null|null|null|null|null|null|null|null|null|null|null|null|null|null|null|null|null|null|null|null|null|null|null|null|null|null|null|null|null|null|null|null|null|null|null|null              |null|null|null|null|null              |null              |null              |null|null|null|null|null|null|null|null|null|null|null|null|null|null|null|null|null|null|null|null|null|null|null|null|null|null|null|null|null|null|null|null|null|null|null|null|null|null|null|null|null|null|null|null|null|null|null|null|null|null|null|null|null|null|null|null|null|null|null|null|null|null|null|null|null|null|null|null|0.0 |0.0 |0.0 |1.0 |1.0 |0.0 |0.0 |0.0 |0.0 |0.0 |0.0 |1.0 |1.0 |1.0 |0.0 |0.0 |0.0 |0.0 |0.0 |0.0 |0.0 |0.0 |0.0 |0.0 |0.0 |0.0 |1.0 |0.0 |0.0 |0.0 |0.0 |0.0 |0.0 |0.0 |0.0 |0.0 |0.0 |0.0 |0.0 |0.0 |0.0 |0.0 |0.0 |null|null|null|null|null|null|null|null|null|null|null|null|null|null|null|null|null|null|7.57296E9         |\n",
      "|2987209      |0      |89836        |21.993        |C        |10876|104.0|185.0|visa |137.0|credit|null |null |null |4.0  |anonymous.com|anonymous.com|2.0|2.0|0.0|1.0|0.0|1.0|1.0|1.0|0.0|2.0|2.0|2.0|2.0|2.0|0.0|null|null|24.0|24.0|24.0|24.0|549.0|0.0 |0.0|null|24.0|24.0|0.0 |0.0|null|null|null|M0  |null|null|null|null|null|null|null|null|null|null|null|null|null|null|null|null|0.0|0.0|1.0|1.0|1.0|1.0|1.0|1.0|1.0|1.0|1.0|1.0|1.0|1.0|1.0|0.0|0.0|0.0|0.0|1.0|1.0|1.0|1.0|0.0 |0.0 |1.0 |1.0 |1.0 |1.0 |1.0 |1.0 |1.0 |1.0 |1.0 |1.0 |1.0 |0.0 |0.0 |1.0 |1.0 |1.0 |0.0|0.0|1.0|1.0|1.0|1.0|1.0|1.0|1.0|1.0|1.0|1.0|1.0|1.0|1.0|0.0|0.0|0.0|1.0|1.0|1.0|1.0|0.0|0.0|1.0|1.0|1.0|1.0|1.0|1.0|1.0|1.0|1.0|1.0|1.0|1.0|0.0|0.0|0.0|1.0|1.0|1.0|0.0|0.0|0.0|0.0|0.0|0.0 |0.0 |0.0 |0.0 |0.0 |0.0 |0.0 |1.0 |1.0 |1.0 |1.0 |1.0 |1.0 |1.0 |1.0 |1.0 |1.0 |1.0 |1.0 |1.0 |1.0 |1.0 |1.0 |1.0 |1.0 |1.0 |0.0 |0.0 |0.0 |0.0 |0.0 |0.0 |0.0 |0.0 |0.0 |0.0 |0.0 |0.0 |null|null|null|null|null|null|null|null|null|null|null|null|null|null|null|null|null|null|null|null|null|null|null|null|null|null|null|null|null|0.0 |0.0 |0.0 |1.0 |1.0 |0.0 |0.0 |1.0 |1.0 |1.0 |0.0 |0.0 |0.0 |0.0 |0.0 |0.0 |0.0 |0.0 |0.0 |1.0 |1.0 |1.0 |1.0 |1.0 |1.0 |1.0 |1.0 |1.0 |1.0 |1.0 |1.0 |1.0 |1.0 |1.0 |1.0 |0.0 |25.013900756835934|0.0 |0.0 |0.0 |0.0 |25.013900756835934|25.013900756835934|25.013900756835934|0.0 |0.0 |0.0 |0.0 |0.0 |0.0 |0.0 |0.0 |0.0 |0.0 |1.0 |1.0 |0.0 |0.0 |0.0 |0.0 |0.0 |1.0 |1.0 |1.0 |0.0 |0.0 |0.0 |0.0 |0.0 |0.0 |0.0 |0.0 |0.0 |1.0 |1.0 |1.0 |1.0 |1.0 |1.0 |1.0 |1.0 |1.0 |1.0 |1.0 |1.0 |1.0 |1.0 |1.0 |1.0 |1.0 |1.0 |1.0 |1.0 |1.0 |1.0 |1.0 |0.0 |0.0 |0.0 |0.0 |0.0 |0.0 |0.0 |0.0 |0.0 |0.0 |0.0 |0.0 |0.0 |0.0 |0.0 |0.0 |0.0 |0.0 |0.0 |1.0 |1.0 |0.0 |0.0 |0.0 |0.0 |0.0 |0.0 |1.0 |1.0 |1.0 |0.0 |0.0 |0.0 |0.0 |0.0 |0.0 |0.0 |0.0 |0.0 |1.0 |1.0 |1.0 |1.0 |0.0 |0.0 |0.0 |0.0 |0.0 |0.0 |0.0 |0.0 |0.0 |0.0 |0.0 |0.0 |0.0 |0.0 |0.0 |0.0 |null|null|null|null|null|null|null|null|null|null|null|null|null|null|null|null|null|null|7.7618304E9       |\n",
      "+-------------+-------+-------------+--------------+---------+-----+-----+-----+-----+-----+------+-----+-----+-----+-----+-------------+-------------+---+---+---+---+---+---+---+---+---+---+---+---+---+---+---+----+----+----+----+----+----+-----+----+---+----+----+----+----+---+----+----+----+----+----+----+----+----+----+----+----+----+----+----+----+----+----+----+----+----+---+---+---+---+---+---+---+---+---+---+---+---+---+---+---+---+---+---+---+---+---+---+---+----+----+----+----+----+----+----+----+----+----+----+----+----+----+----+----+----+----+---+---+---+---+---+---+---+---+---+---+---+---+---+---+---+---+---+---+---+---+---+---+---+---+---+---+---+---+---+---+---+---+---+---+---+---+---+---+---+---+---+---+---+---+---+---+---+----+----+----+----+----+----+----+----+----+----+----+----+----+----+----+----+----+----+----+----+----+----+----+----+----+----+----+----+----+----+----+----+----+----+----+----+----+----+----+----+----+----+----+----+----+----+----+----+----+----+----+----+----+----+----+----+----+----+----+----+----+----+----+----+----+----+----+----+----+----+----+----+----+----+----+----+----+----+----+----+----+----+----+----+----+----+----+----+----+----+----+----+----+----+----+----+----+----+----+----+----+----+----+------------------+----+----+----+----+------------------+------------------+------------------+----+----+----+----+----+----+----+----+----+----+----+----+----+----+----+----+----+----+----+----+----+----+----+----+----+----+----+----+----+----+----+----+----+----+----+----+----+----+----+----+----+----+----+----+----+----+----+----+----+----+----+----+----+----+----+----+----+----+----+----+----+----+----+----+----+----+----+----+----+----+----+----+----+----+----+----+----+----+----+----+----+----+----+----+----+----+----+----+----+----+----+----+----+----+----+----+----+----+----+----+----+----+----+----+----+----+----+----+----+----+----+----+----+----+----+----+----+----+----+----+----+----+----+----+----+----+----+----+----+------------------+\n",
      "only showing top 2 rows\n",
      "\n"
     ]
    }
   ],
   "source": [
    "# The column TransactionDT represents \"timedelta from a given reference datetime (not an actual timestamp)\".\n",
    "# It seems to be in seconds. Let's create a new column converting the seconds in days.\n",
    "\n",
    "df_tr = df_tr.withColumn(\"TransactionDT_days\", fx.round(fx.col(\"TransactionDT\") * 24 * 60 * 60, 1))\n",
    "df_tr.show(2, 0)"
   ]
  },
  {
   "cell_type": "markdown",
   "metadata": {},
   "source": [
    "## EDA"
   ]
  },
  {
   "cell_type": "code",
   "execution_count": 40,
   "metadata": {},
   "outputs": [
    {
     "name": "stdout",
     "output_type": "stream",
     "text": [
      "+-------+--------------------+\n",
      "|isFraud|count(TransactionID)|\n",
      "+-------+--------------------+\n",
      "|      0|              569877|\n",
      "|      1|               20663|\n",
      "+-------+--------------------+\n",
      "\n"
     ]
    }
   ],
   "source": [
    "# First, converting the dataframe into a temporary table.\n",
    "df_tr.createOrReplaceTempView(\"transaction\")\n",
    "\n",
    "# As temporary tables, it is possible to use SQL commands.\n",
    "spark.sql(\"SELECT isFraud, COUNT(TransactionID) FROM transaction GROUP BY isFraud\").show()"
   ]
  },
  {
   "cell_type": "markdown",
   "metadata": {},
   "source": [
    "##### Comparison: dataframe vs tables\n",
    "\n",
    "In this case, the use of SQL commands were slightly faster than native dataframe."
   ]
  },
  {
   "cell_type": "code",
   "execution_count": 41,
   "metadata": {},
   "outputs": [
    {
     "data": {
      "text/plain": [
       "<AxesSubplot:title={'center':'Comparing the imbalanced data'}>"
      ]
     },
     "execution_count": 41,
     "metadata": {},
     "output_type": "execute_result"
    },
    {
     "data": {
      "image/png": "[encoded data removed]",
      "text/plain": [
       "<Figure size 432x288 with 1 Axes>"
      ]
     },
     "metadata": {
      "needs_background": "light"
     },
     "output_type": "display_data"
    }
   ],
   "source": [
    "# In order to create plots, it is necessary to convert the dataframe from pyspark to pandas, and then plot it.\n",
    "df_tr.groupby('isFraud').count().toPandas().plot(kind='bar', title='Comparing the imbalanced data')"
   ]
  },
  {
   "cell_type": "code",
   "execution_count": 42,
   "metadata": {},
   "outputs": [
    {
     "name": "stdout",
     "output_type": "stream",
     "text": [
      "+-------------+-------+-------------+--------------+---------+-----+-----+-----+-----+-----+------+-----+-----+-----+-----+-------------+-------------+---+---+---+---+---+---+---+---+---+---+---+---+----+---+-----+-----+----+----+----+----+----+-----------------+-------------------+-----+-----+----+----+----+-----+----+----+----+----+----+----+----+----+----+----+----+----+----+----+----+----+----+----+----+----+----+----+----+----+----+----+----+----+----+----+----+----+----+----+----+----+----+----+----+----+----+----+----+----+----+----+----+----+----+----+----+----+----+----+----+----+----+----+----+----+----+----+----+----+----+----+----+----+----+----+----+----+----+----+----+----+----+----+----+----+----+----+----+----+----+----+----+----+----+----+----+----+----+----+----+----+----+----+----+----+----+----+----+---+---+---+---+---+----+----+----+----+----+----+----+----+----+----+----+----+----+----+----+----+----+----+----+----+----+----+----+----+----+----+----+----+----+----+----+----+----+----+----+----+----+----+----+----+----+----+----+----+----+----+----+----+----+----+----+----+----+----+----+----+----+----+----+----+----+----+----+----+----+----+----+----+----+----+----+----+----+----+----+----+----+----+----+----+----+----+----+----+----+----+----+----+----+----+----+----+----+----+----+----+----+----+----+----+----+----+----+------------------+----+----+----+----+------------------+------------------+------------------+----+----+----+----+----+----+----+----+----+----+----+----+----+----+----+----+----+----+----+----+----+----+----+----+----+----+----+----+----+----+----+----+----+----+----+----+----+----+----+----+----+----+----+----+----+----+----+----+----+----+----+----+----+----+----+----+----+----+----+----+----+----+----+----+----+----+----+----+----+----+----+----+----+----+----+----+----+----+----+----+----+----+----+----+----+----+----+----+----+----+----+----+----+----+----+----+-----+----+----+-----+----+----+----+----+----+----+----+----+----+----+----+----+----+----+----+----+----+----+----+----+----+----+----+----+----+----+----+----+----+------------------+\n",
      "|TransactionID|isFraud|TransactionDT|TransactionAmt|ProductCD|card1|card2|card3|card4|card5|card6 |addr1|addr2|dist1|dist2|P_emaildomain|R_emaildomain|C1 |C2 |C3 |C4 |C5 |C6 |C7 |C8 |C9 |C10|C11|C12|C13 |C14|D1   |D2   |D3  |D4  |D5  |D6  |D7  |D8               |D9                 |D10  |D11  |D12 |D13 |D14 |D15  |M1  |M2  |M3  |M4  |M5  |M6  |M7  |M8  |M9  |V1  |V2  |V3  |V4  |V5  |V6  |V7  |V8  |V9  |V10 |V11 |V12 |V13 |V14 |V15 |V16 |V17 |V18 |V19 |V20 |V21 |V22 |V23 |V24 |V25 |V26 |V27 |V28 |V29 |V30 |V31 |V32 |V33 |V34 |V35 |V36 |V37 |V38 |V39 |V40 |V41 |V42 |V43 |V44 |V45 |V46 |V47 |V48 |V49 |V50 |V51 |V52 |V53 |V54 |V55 |V56 |V57 |V58 |V59 |V60 |V61 |V62 |V63 |V64 |V65 |V66 |V67 |V68 |V69 |V70 |V71 |V72 |V73 |V74 |V75 |V76 |V77 |V78 |V79 |V80 |V81 |V82 |V83 |V84 |V85 |V86 |V87 |V88 |V89 |V90 |V91 |V92 |V93 |V94 |V95|V96|V97|V98|V99|V100|V101|V102|V103|V104|V105|V106|V107|V108|V109|V110|V111|V112|V113|V114|V115|V116|V117|V118|V119|V120|V121|V122|V123|V124|V125|V126|V127|V128|V129|V130|V131|V132|V133|V134|V135|V136|V137|V138|V139|V140|V141|V142|V143|V144|V145|V146|V147|V148|V149|V150|V151|V152|V153|V154|V155|V156|V157|V158|V159|V160|V161|V162|V163|V164|V165|V166|V167|V168|V169|V170|V171|V172|V173|V174|V175|V176|V177|V178|V179|V180|V181|V182|V183|V184|V185|V186|V187|V188|V189|V190|V191|V192|V193|V194|V195|V196|V197|V198|V199|V200|V201|V202|V203              |V204|V205|V206|V207|V208              |V209              |V210              |V211|V212|V213|V214|V215|V216|V217|V218|V219|V220|V221|V222|V223|V224|V225|V226|V227|V228|V229|V230|V231|V232|V233|V234|V235|V236|V237|V238|V239|V240|V241|V242|V243|V244|V245|V246|V247|V248|V249|V250|V251|V252|V253|V254|V255|V256|V257|V258|V259|V260|V261|V262|V263|V264|V265|V266|V267|V268|V269|V270|V271|V272|V273|V274|V275|V276|V277|V278|V279|V280|V281|V282|V283|V284|V285|V286|V287|V288|V289|V290|V291|V292|V293|V294|V295|V296|V297|V298|V299|V300|V301|V302|V303|V304|V305|V306|V307 |V308|V309|V310 |V311|V312|V313|V314|V315|V316|V317|V318|V319|V320|V321|V322|V323|V324|V325|V326|V327|V328|V329|V330|V331|V332|V333|V334|V335|V336|V337|V338|V339|TransactionDT_days|\n",
      "+-------------+-------+-------------+--------------+---------+-----+-----+-----+-----+-----+------+-----+-----+-----+-----+-------------+-------------+---+---+---+---+---+---+---+---+---+---+---+---+----+---+-----+-----+----+----+----+----+----+-----------------+-------------------+-----+-----+----+----+----+-----+----+----+----+----+----+----+----+----+----+----+----+----+----+----+----+----+----+----+----+----+----+----+----+----+----+----+----+----+----+----+----+----+----+----+----+----+----+----+----+----+----+----+----+----+----+----+----+----+----+----+----+----+----+----+----+----+----+----+----+----+----+----+----+----+----+----+----+----+----+----+----+----+----+----+----+----+----+----+----+----+----+----+----+----+----+----+----+----+----+----+----+----+----+----+----+----+----+----+----+----+----+----+----+---+---+---+---+---+----+----+----+----+----+----+----+----+----+----+----+----+----+----+----+----+----+----+----+----+----+----+----+----+----+----+----+----+----+----+----+----+----+----+----+----+----+----+----+----+----+----+----+----+----+----+----+----+----+----+----+----+----+----+----+----+----+----+----+----+----+----+----+----+----+----+----+----+----+----+----+----+----+----+----+----+----+----+----+----+----+----+----+----+----+----+----+----+----+----+----+----+----+----+----+----+----+----+----+----+----+----+----+------------------+----+----+----+----+------------------+------------------+------------------+----+----+----+----+----+----+----+----+----+----+----+----+----+----+----+----+----+----+----+----+----+----+----+----+----+----+----+----+----+----+----+----+----+----+----+----+----+----+----+----+----+----+----+----+----+----+----+----+----+----+----+----+----+----+----+----+----+----+----+----+----+----+----+----+----+----+----+----+----+----+----+----+----+----+----+----+----+----+----+----+----+----+----+----+----+----+----+----+----+----+----+----+----+----+----+----+-----+----+----+-----+----+----+----+----+----+----+----+----+----+----+----+----+----+----+----+----+----+----+----+----+----+----+----+----+----+----+----+----+----+------------------+\n",
      "|2987065      |0      |87650        |114.95        |W        |17188|321.0|150.0|visa |226.0|debit |299.0|87.0 |1.0  |null |null         |null         |1.0|1.0|0.0|0.0|1.0|0.0|0.0|0.0|1.0|0.0|1.0|0.0|1.0 |1.0|0.0  |null |null|null|null|null|null|null             |null               |0.0  |0.0  |null|null|null|0.0  |T   |T   |T   |null|null|T   |F   |F   |T   |1.0 |1.0 |1.0 |0.0 |0.0 |1.0 |1.0 |1.0 |1.0 |1.0 |1.0 |1.0 |1.0 |1.0 |0.0 |0.0 |0.0 |0.0 |0.0 |0.0 |0.0 |0.0 |1.0 |1.0 |1.0 |1.0 |0.0 |0.0 |1.0 |1.0 |0.0 |0.0 |0.0 |0.0 |null|null|null|null|null|null|null|null|null|null|null|null|null|null|null|null|null|null|1.0 |1.0 |1.0 |1.0 |0.0 |0.0 |0.0 |0.0 |0.0 |0.0 |0.0 |0.0 |1.0 |1.0 |1.0 |0.0 |1.0 |1.0 |0.0 |0.0 |0.0 |0.0 |1.0 |1.0 |1.0 |1.0 |0.0 |0.0 |0.0 |0.0 |0.0 |0.0 |0.0 |1.0 |1.0 |1.0 |0.0 |1.0 |1.0 |0.0 |0.0 |0.0 |0.0|0.0|0.0|0.0|0.0|0.0 |0.0 |0.0 |0.0 |0.0 |0.0 |0.0 |1.0 |1.0 |1.0 |1.0 |1.0 |1.0 |1.0 |1.0 |1.0 |1.0 |1.0 |1.0 |1.0 |1.0 |1.0 |1.0 |1.0 |1.0 |1.0 |0.0 |0.0 |0.0 |0.0 |0.0 |0.0 |0.0 |0.0 |0.0 |0.0 |0.0 |0.0 |null|null|null|null|null|null|null|null|null|null|null|null|null|null|null|null|null|null|null|null|null|null|null|null|null|null|null|null|null|null|null|null|null|null|null|null|null|null|null|null|null|null|null|null|null|null|null|null|null|null|null|null|null|null|null|null|null|null|null|null|null|null|null|null|null|null              |null|null|null|null|null              |null              |null              |null|null|null|null|null|null|null|null|null|null|null|null|null|null|null|null|null|null|null|null|null|null|null|null|null|null|null|null|null|null|null|null|null|null|null|null|null|null|null|null|null|null|null|null|null|null|null|null|null|null|null|null|null|null|null|null|null|null|null|null|null|null|null|null|null|null|null|null|0.0 |0.0 |0.0 |1.0 |1.0 |0.0 |0.0 |0.0 |0.0 |0.0 |0.0 |1.0 |1.0 |1.0 |0.0 |0.0 |0.0 |0.0 |0.0 |0.0 |0.0 |0.0 |0.0 |0.0 |0.0 |0.0 |1.0 |0.0 |0.0  |0.0 |0.0 |0.0  |0.0 |0.0 |0.0 |0.0 |0.0 |0.0 |0.0 |0.0 |0.0 |0.0 |0.0 |null|null|null|null|null|null|null|null|null|null|null|null|null|null|null|null|null|null|7.57296E9         |\n",
      "|2987209      |0      |89836        |21.993        |C        |10876|104.0|185.0|visa |137.0|credit|null |null |null |4.0  |anonymous.com|anonymous.com|2.0|2.0|0.0|1.0|0.0|1.0|1.0|1.0|0.0|2.0|2.0|2.0|2.0 |2.0|0.0  |null |null|24.0|24.0|24.0|24.0|549.0            |0.0                |0.0  |null |24.0|24.0|0.0 |0.0  |null|null|null|M0  |null|null|null|null|null|null|null|null|null|null|null|null|null|null|null|null|0.0 |0.0 |1.0 |1.0 |1.0 |1.0 |1.0 |1.0 |1.0 |1.0 |1.0 |1.0 |1.0 |1.0 |1.0 |0.0 |0.0 |0.0 |0.0 |1.0 |1.0 |1.0 |1.0 |0.0 |0.0 |1.0 |1.0 |1.0 |1.0 |1.0 |1.0 |1.0 |1.0 |1.0 |1.0 |1.0 |0.0 |0.0 |1.0 |1.0 |1.0 |0.0 |0.0 |1.0 |1.0 |1.0 |1.0 |1.0 |1.0 |1.0 |1.0 |1.0 |1.0 |1.0 |1.0 |1.0 |0.0 |0.0 |0.0 |1.0 |1.0 |1.0 |1.0 |0.0 |0.0 |1.0 |1.0 |1.0 |1.0 |1.0 |1.0 |1.0 |1.0 |1.0 |1.0 |1.0 |1.0 |0.0 |0.0 |0.0 |1.0 |1.0 |1.0 |0.0|0.0|0.0|0.0|0.0|0.0 |0.0 |0.0 |0.0 |0.0 |0.0 |0.0 |1.0 |1.0 |1.0 |1.0 |1.0 |1.0 |1.0 |1.0 |1.0 |1.0 |1.0 |1.0 |1.0 |1.0 |1.0 |1.0 |1.0 |1.0 |1.0 |0.0 |0.0 |0.0 |0.0 |0.0 |0.0 |0.0 |0.0 |0.0 |0.0 |0.0 |0.0 |null|null|null|null|null|null|null|null|null|null|null|null|null|null|null|null|null|null|null|null|null|null|null|null|null|null|null|null|null|0.0 |0.0 |0.0 |1.0 |1.0 |0.0 |0.0 |1.0 |1.0 |1.0 |0.0 |0.0 |0.0 |0.0 |0.0 |0.0 |0.0 |0.0 |0.0 |1.0 |1.0 |1.0 |1.0 |1.0 |1.0 |1.0 |1.0 |1.0 |1.0 |1.0 |1.0 |1.0 |1.0 |1.0 |1.0 |0.0 |25.013900756835934|0.0 |0.0 |0.0 |0.0 |25.013900756835934|25.013900756835934|25.013900756835934|0.0 |0.0 |0.0 |0.0 |0.0 |0.0 |0.0 |0.0 |0.0 |0.0 |1.0 |1.0 |0.0 |0.0 |0.0 |0.0 |0.0 |1.0 |1.0 |1.0 |0.0 |0.0 |0.0 |0.0 |0.0 |0.0 |0.0 |0.0 |0.0 |1.0 |1.0 |1.0 |1.0 |1.0 |1.0 |1.0 |1.0 |1.0 |1.0 |1.0 |1.0 |1.0 |1.0 |1.0 |1.0 |1.0 |1.0 |1.0 |1.0 |1.0 |1.0 |1.0 |0.0 |0.0 |0.0 |0.0 |0.0 |0.0 |0.0 |0.0 |0.0 |0.0 |0.0 |0.0 |0.0 |0.0 |0.0 |0.0 |0.0 |0.0 |0.0 |1.0 |1.0 |0.0 |0.0 |0.0 |0.0 |0.0 |0.0 |1.0 |1.0 |1.0 |0.0 |0.0 |0.0 |0.0 |0.0 |0.0 |0.0 |0.0 |0.0 |1.0 |1.0 |1.0 |1.0 |0.0 |0.0  |0.0 |0.0 |0.0  |0.0 |0.0 |0.0 |0.0 |0.0 |0.0 |0.0 |0.0 |0.0 |0.0 |0.0 |null|null|null|null|null|null|null|null|null|null|null|null|null|null|null|null|null|null|7.7618304E9       |\n",
      "|2987281      |0      |90815        |30.0          |S        |5017 |432.0|150.0|visa |226.0|debit |330.0|87.0 |null |null |null         |aol.com      |1.0|1.0|1.0|1.0|0.0|0.0|0.0|1.0|0.0|1.0|1.0|0.0|1.0 |1.0|0.0  |null |null|null|null|null|null|248.0416717529297|0.04166600108146668|null |null |null|null|null|null |null|null|null|null|null|null|null|null|null|null|null|null|null|null|null|null|null|null|null|null|null|null|null|null|null|null|null|null|null|null|null|null|null|null|null|null|null|null|null|null|null|null|null|null|null|null|null|null|null|null|null|null|null|null|null|null|null|null|null|null|null|null|null|null|null|null|null|null|null|null|null|null|null|null|null|null|null|null|null|null|null|null|null|null|null|null|null|null|null|null|null|null|null|null|null|null|null|null|null|null|null|null|null|0.0|0.0|0.0|0.0|0.0|0.0 |0.0 |0.0 |0.0 |0.0 |0.0 |0.0 |1.0 |1.0 |1.0 |1.0 |1.0 |1.0 |1.0 |1.0 |1.0 |1.0 |1.0 |1.0 |1.0 |1.0 |1.0 |1.0 |1.0 |1.0 |1.0 |0.0 |0.0 |0.0 |0.0 |0.0 |0.0 |0.0 |0.0 |0.0 |0.0 |0.0 |0.0 |0.0 |1.0 |1.0 |0.0 |0.0 |0.0 |0.0 |0.0 |0.0 |0.0 |1.0 |1.0 |1.0 |1.0 |1.0 |1.0 |1.0 |1.0 |1.0 |1.0 |1.0 |0.0 |0.0 |0.0 |0.0 |0.0 |0.0 |0.0 |0.0 |0.0 |0.0 |0.0 |1.0 |1.0 |0.0 |0.0 |0.0 |0.0 |1.0 |0.0 |0.0 |0.0 |0.0 |0.0 |0.0 |0.0 |0.0 |0.0 |1.0 |1.0 |1.0 |1.0 |1.0 |1.0 |1.0 |1.0 |1.0 |1.0 |1.0 |1.0 |1.0 |1.0 |1.0 |1.0 |0.0 |0.0               |0.0 |0.0 |0.0 |0.0 |0.0               |0.0               |0.0               |0.0 |0.0 |0.0 |0.0 |0.0 |0.0 |0.0 |0.0 |0.0 |0.0 |1.0 |1.0 |0.0 |0.0 |0.0 |0.0 |0.0 |1.0 |1.0 |1.0 |0.0 |0.0 |0.0 |0.0 |0.0 |0.0 |0.0 |0.0 |0.0 |1.0 |1.0 |1.0 |1.0 |1.0 |1.0 |1.0 |1.0 |1.0 |1.0 |1.0 |1.0 |1.0 |1.0 |1.0 |1.0 |1.0 |1.0 |1.0 |1.0 |1.0 |1.0 |1.0 |0.0 |0.0 |0.0 |0.0 |0.0 |0.0 |0.0 |0.0 |0.0 |0.0 |0.0 |0.0 |0.0 |0.0 |0.0 |0.0 |0.0 |0.0 |0.0 |1.0 |1.0 |0.0 |0.0 |0.0 |0.0 |0.0 |0.0 |1.0 |1.0 |1.0 |0.0 |0.0 |0.0 |0.0 |0.0 |0.0 |0.0 |0.0 |0.0 |1.0 |1.0 |1.0 |1.0 |0.0 |0.0  |0.0 |0.0 |0.0  |0.0 |0.0 |0.0 |0.0 |0.0 |0.0 |0.0 |0.0 |0.0 |0.0 |0.0 |0.0 |0.0 |0.0 |0.0 |0.0 |0.0 |0.0 |0.0 |0.0 |0.0 |0.0 |0.0 |0.0 |0.0 |0.0 |0.0 |0.0 |0.0 |7.846416E9        |\n",
      "|2987304      |0      |91244        |554.0         |W        |8528 |215.0|150.0|visa |226.0|debit |251.0|87.0 |2.0  |null |hotmail.com  |null         |1.0|1.0|0.0|0.0|0.0|1.0|0.0|0.0|1.0|0.0|1.0|0.0|1.0 |1.0|0.0  |null |null|0.0 |null|null|null|null             |null               |0.0  |189.0|null|null|null|0.0  |T   |T   |F   |M1  |F   |F   |null|null|null|1.0 |1.0 |1.0 |1.0 |1.0 |1.0 |1.0 |1.0 |1.0 |0.0 |0.0 |1.0 |1.0 |1.0 |0.0 |0.0 |0.0 |0.0 |1.0 |1.0 |0.0 |0.0 |1.0 |1.0 |1.0 |1.0 |0.0 |0.0 |0.0 |0.0 |0.0 |0.0 |0.0 |0.0 |1.0 |1.0 |1.0 |1.0 |0.0 |0.0 |1.0 |0.0 |0.0 |1.0 |1.0 |1.0 |1.0 |0.0 |0.0 |0.0 |0.0 |0.0 |1.0 |1.0 |1.0 |1.0 |0.0 |0.0 |0.0 |0.0 |1.0 |1.0 |0.0 |0.0 |1.0 |1.0 |1.0 |0.0 |0.0 |0.0 |0.0 |0.0 |0.0 |0.0 |1.0 |1.0 |1.0 |1.0 |0.0 |0.0 |0.0 |1.0 |1.0 |0.0 |0.0 |1.0 |1.0 |1.0 |0.0 |0.0 |0.0 |0.0 |0.0 |0.0 |0.0|0.0|0.0|0.0|0.0|0.0 |0.0 |0.0 |0.0 |0.0 |0.0 |0.0 |1.0 |1.0 |1.0 |1.0 |1.0 |1.0 |1.0 |1.0 |1.0 |1.0 |1.0 |1.0 |1.0 |1.0 |1.0 |1.0 |1.0 |1.0 |1.0 |0.0 |0.0 |0.0 |0.0 |0.0 |0.0 |0.0 |0.0 |0.0 |0.0 |0.0 |0.0 |null|null|null|null|null|null|null|null|null|null|null|null|null|null|null|null|null|null|null|null|null|null|null|null|null|null|null|null|null|null|null|null|null|null|null|null|null|null|null|null|null|null|null|null|null|null|null|null|null|null|null|null|null|null|null|null|null|null|null|null|null|null|null|null|null|null              |null|null|null|null|null              |null              |null              |null|null|null|null|null|null|null|null|null|null|null|null|null|null|null|null|null|null|null|null|null|null|null|null|null|null|null|null|null|null|null|null|null|null|null|null|null|null|null|null|null|null|null|null|null|null|null|null|null|null|null|null|null|null|null|null|null|null|null|null|null|null|null|null|null|null|null|null|0.0 |0.0 |0.0 |1.0 |1.0 |0.0 |0.0 |0.0 |0.0 |0.0 |0.0 |1.0 |1.0 |1.0 |0.0 |0.0 |0.0 |0.0 |0.0 |0.0 |0.0 |0.0 |0.0 |0.0 |0.0 |0.0 |1.0 |0.0 |0.0  |0.0 |0.0 |0.0  |0.0 |0.0 |0.0 |0.0 |0.0 |0.0 |0.0 |0.0 |0.0 |0.0 |0.0 |null|null|null|null|null|null|null|null|null|null|null|null|null|null|null|null|null|null|7.8834816E9       |\n",
      "|2987371      |0      |92434        |44.0          |W        |3084 |555.0|150.0|visa |226.0|debit |315.0|87.0 |6.0  |null |null         |null         |3.0|5.0|0.0|0.0|0.0|5.0|0.0|0.0|4.0|0.0|3.0|0.0|45.0|1.0|290.0|290.0|3.0 |null|null|null|null|null             |null               |260.0|209.0|null|null|null|289.0|T   |T   |F   |M0  |F   |F   |null|null|null|1.0 |1.0 |1.0 |1.0 |1.0 |1.0 |1.0 |1.0 |1.0 |0.0 |0.0 |1.0 |1.0 |1.0 |0.0 |0.0 |0.0 |0.0 |0.0 |0.0 |0.0 |0.0 |1.0 |1.0 |1.0 |1.0 |0.0 |0.0 |0.0 |0.0 |0.0 |0.0 |0.0 |0.0 |null|null|null|null|null|null|null|null|null|null|null|null|null|null|null|null|null|null|0.0 |0.0 |1.0 |1.0 |0.0 |0.0 |0.0 |0.0 |0.0 |0.0 |0.0 |0.0 |1.0 |1.0 |1.0 |0.0 |0.0 |0.0 |0.0 |0.0 |0.0 |0.0 |0.0 |0.0 |1.0 |1.0 |0.0 |0.0 |0.0 |0.0 |0.0 |0.0 |0.0 |1.0 |1.0 |1.0 |0.0 |0.0 |0.0 |0.0 |0.0 |0.0 |0.0|0.0|0.0|0.0|0.0|0.0 |0.0 |0.0 |0.0 |0.0 |0.0 |0.0 |1.0 |1.0 |1.0 |1.0 |1.0 |1.0 |1.0 |1.0 |1.0 |1.0 |1.0 |1.0 |1.0 |1.0 |1.0 |1.0 |1.0 |1.0 |1.0 |0.0 |0.0 |0.0 |0.0 |0.0 |0.0 |0.0 |0.0 |0.0 |0.0 |0.0 |0.0 |null|null|null|null|null|null|null|null|null|null|null|null|null|null|null|null|null|null|null|null|null|null|null|null|null|null|null|null|null|null|null|null|null|null|null|null|null|null|null|null|null|null|null|null|null|null|null|null|null|null|null|null|null|null|null|null|null|null|null|null|null|null|null|null|null|null              |null|null|null|null|null              |null              |null              |null|null|null|null|null|null|null|null|null|null|null|null|null|null|null|null|null|null|null|null|null|null|null|null|null|null|null|null|null|null|null|null|null|null|null|null|null|null|null|null|null|null|null|null|null|null|null|null|null|null|null|null|null|null|null|null|null|null|null|null|null|null|null|null|null|null|null|null|0.0 |1.0 |0.0 |0.0 |0.0 |0.0 |3.0 |0.0 |1.0 |0.0 |0.0 |1.0 |2.0 |2.0 |0.0 |0.0 |0.0 |0.0 |0.0 |0.0 |0.0 |0.0 |0.0 |0.0 |0.0 |0.0 |1.0 |0.0 |248.0|39.0|0.0 |248.0|0.0 |39.0|0.0 |0.0 |0.0 |0.0 |0.0 |0.0 |0.0 |0.0 |0.0 |null|null|null|null|null|null|null|null|null|null|null|null|null|null|null|null|null|null|7.9862976E9       |\n",
      "+-------------+-------+-------------+--------------+---------+-----+-----+-----+-----+-----+------+-----+-----+-----+-----+-------------+-------------+---+---+---+---+---+---+---+---+---+---+---+---+----+---+-----+-----+----+----+----+----+----+-----------------+-------------------+-----+-----+----+----+----+-----+----+----+----+----+----+----+----+----+----+----+----+----+----+----+----+----+----+----+----+----+----+----+----+----+----+----+----+----+----+----+----+----+----+----+----+----+----+----+----+----+----+----+----+----+----+----+----+----+----+----+----+----+----+----+----+----+----+----+----+----+----+----+----+----+----+----+----+----+----+----+----+----+----+----+----+----+----+----+----+----+----+----+----+----+----+----+----+----+----+----+----+----+----+----+----+----+----+----+----+----+----+----+----+---+---+---+---+---+----+----+----+----+----+----+----+----+----+----+----+----+----+----+----+----+----+----+----+----+----+----+----+----+----+----+----+----+----+----+----+----+----+----+----+----+----+----+----+----+----+----+----+----+----+----+----+----+----+----+----+----+----+----+----+----+----+----+----+----+----+----+----+----+----+----+----+----+----+----+----+----+----+----+----+----+----+----+----+----+----+----+----+----+----+----+----+----+----+----+----+----+----+----+----+----+----+----+----+----+----+----+----+------------------+----+----+----+----+------------------+------------------+------------------+----+----+----+----+----+----+----+----+----+----+----+----+----+----+----+----+----+----+----+----+----+----+----+----+----+----+----+----+----+----+----+----+----+----+----+----+----+----+----+----+----+----+----+----+----+----+----+----+----+----+----+----+----+----+----+----+----+----+----+----+----+----+----+----+----+----+----+----+----+----+----+----+----+----+----+----+----+----+----+----+----+----+----+----+----+----+----+----+----+----+----+----+----+----+----+----+-----+----+----+-----+----+----+----+----+----+----+----+----+----+----+----+----+----+----+----+----+----+----+----+----+----+----+----+----+----+----+----+----+----+------------------+\n",
      "only showing top 5 rows\n",
      "\n"
     ]
    }
   ],
   "source": [
    "df_tr.show(5, 0)"
   ]
  },
  {
   "cell_type": "markdown",
   "metadata": {},
   "source": [
    "### Hypothesis\n",
    "\n",
    "According to market practices, there are some well-known practices within e-commerce fraud:\n",
    "\n",
    "- Customer abuse: customers abusing merchandise returning policies in order to obtain advantages. Among the abuses, one common practices is returning single used merchandise and falsely declaring not delivered merchandise.\n",
    "\n",
    "- Money Mules: fraudsters influence legitimate accounts to purchase merchandise, which is hard to track. One particular situation is known as 'sweetheart mule', in which the fraudster and legit buyer are romantically involved during a long period of time (e.g. 2 years) before the fraud event happens.\n",
    "\n",
    "- High value items: common merchandise target by fraudsters are high value itens, like eletronics, jewely and gold, which are easier to transport in person.\n",
    "\n",
    "- Identity theft: fraudster use stollen personal information to acquire merchandise and even acquire loans. Possible signals of this practice is irregular consumer behavior, divergence between delivery location and IP address physical location registered during and purchase.\n",
    "\n",
    "The dataset provides a limited selection of variables, therefore not all hypothesis can be explored. For now, two strategies will be used:\n",
    "\n",
    "1. Focus on the user: identify each user buyer habits and indicates if there is irregular transactions events.\n",
    "2. Focus on the merchandise: identify with type of merchandise is more target by fraudsters.  "
   ]
  },
  {
   "cell_type": "code",
   "execution_count": 43,
   "metadata": {},
   "outputs": [
    {
     "name": "stdout",
     "output_type": "stream",
     "text": [
      "+-------------+-----+--------+-----+-----+-----+-----+-----+-----+-----+-----+-----+--------+-----+------+-----+--------+-----+-----+-----+-----+-----+-----+-----+-----+-----+-----+-----+-----+--------+----------+------------------+-----+---------+--------------+-----+-----+-----+-----+----------+-----------+\n",
      "|TransactionID|id_01|id_02   |id_03|id_04|id_05|id_06|id_07|id_08|id_09|id_10|id_11|id_12   |id_13|id_14 |id_15|id_16   |id_17|id_18|id_19|id_20|id_21|id_22|id_23|id_24|id_25|id_26|id_27|id_28|id_29   |id_30     |id_31             |id_32|id_33    |id_34         |id_35|id_36|id_37|id_38|DeviceType|DeviceInfo |\n",
      "+-------------+-----+--------+-----+-----+-----+-----+-----+-----+-----+-----+-----+--------+-----+------+-----+--------+-----+-----+-----+-----+-----+-----+-----+-----+-----+-----+-----+-----+--------+----------+------------------+-----+---------+--------------+-----+-----+-----+-----+----------+-----------+\n",
      "|2987066      |-5.0 |54927.0 |0.0  |0.0  |0.0  |-1.0 |null |null |0.0  |0.0  |100.0|NotFound|52.0 |-360.0|Found|Found   |166.0|null |307.0|333.0|null |null |null |null |null |null |null |Found|Found   |Windows 10|chrome 62.0       |24.0 |1680x1050|match_status:2|T    |F    |T    |T    |desktop   |Windows    |\n",
      "|2987173      |0.0  |113499.0|null |null |0.0  |0.0  |null |null |null |null |100.0|NotFound|null |-300.0|New  |NotFound|166.0|null |215.0|368.0|null |null |null |null |null |null |null |New  |NotFound|iOS 11.1.2|mobile safari 11.0|32.0 |1136x640 |match_status:1|T    |F    |T    |T    |mobile    |iOS Device |\n",
      "|2987319      |-15.0|null    |null |null |null |null |null |null |null |null |null |NotFound|14.0 |null  |null |null    |null |null |null |null |null |null |null |null |null |null |null |null |null    |null      |null              |null |null     |null          |null |null |null |null |null      |null       |\n",
      "|2987337      |-5.0 |614791.0|null |null |0.0  |0.0  |null |null |null |null |100.0|NotFound|49.0 |-360.0|New  |NotFound|166.0|null |542.0|214.0|null |null |null |null |null |null |null |New  |NotFound|iOS 11.1.2|mobile safari 11.0|32.0 |2208x1242|match_status:1|T    |F    |F    |T    |mobile    |iOS Device |\n",
      "|2987515      |0.0  |85080.0 |0.0  |0.0  |0.0  |0.0  |null |null |0.0  |0.0  |100.0|NotFound|null |-300.0|Found|Found   |166.0|15.0 |100.0|533.0|null |null |null |null |null |null |null |Found|Found   |Windows 10|ie 11.0 for tablet|24.0 |1366x768 |match_status:2|T    |T    |T    |T    |desktop   |Trident/7.0|\n",
      "+-------------+-----+--------+-----+-----+-----+-----+-----+-----+-----+-----+-----+--------+-----+------+-----+--------+-----+-----+-----+-----+-----+-----+-----+-----+-----+-----+-----+-----+--------+----------+------------------+-----+---------+--------------+-----+-----+-----+-----+----------+-----------+\n",
      "only showing top 5 rows\n",
      "\n"
     ]
    }
   ],
   "source": [
    "# First strategy: focus on the user.\n",
    "# Idea: frauds are usually commited more than once by the same buyer.\n",
    "# Method: creating a index dividing number of fraud transaction by total number of transaction for every buyer.\n",
    "# Expectations: the distribution of the custom index will not be concentrated in the left wing. \n",
    "\n",
    "df_id.show(5, 0)"
   ]
  },
  {
   "cell_type": "code",
   "execution_count": 44,
   "metadata": {},
   "outputs": [
    {
     "name": "stdout",
     "output_type": "stream",
     "text": [
      "+-------------+-------+-------------+--------------+---------+-----+-----+-----+-----+-----+------+-----+-----+-----+-----+-------------+-------------+---+---+---+---+---+---+---+---+---+---+---+---+----+---+-----+-----+----+----+----+----+----+-----------------+-------------------+-----+-----+----+----+----+-----+----+----+----+----+----+----+----+----+----+----+----+----+----+----+----+----+----+----+----+----+----+----+----+----+----+----+----+----+----+----+----+----+----+----+----+----+----+----+----+----+----+----+----+----+----+----+----+----+----+----+----+----+----+----+----+----+----+----+----+----+----+----+----+----+----+----+----+----+----+----+----+----+----+----+----+----+----+----+----+----+----+----+----+----+----+----+----+----+----+----+----+----+----+----+----+----+----+----+----+----+----+----+----+---+---+---+---+---+----+----+----+----+----+----+----+----+----+----+----+----+----+----+----+----+----+----+----+----+----+----+----+----+----+----+----+----+----+----+----+----+----+----+----+----+----+----+----+----+----+----+----+----+----+----+----+----+----+----+----+----+----+----+----+----+----+----+----+----+----+----+----+----+----+----+----+----+----+----+----+----+----+----+----+----+----+----+----+----+----+----+----+----+----+----+----+----+----+----+----+----+----+----+----+----+----+----+----+----+----+----+----+------------------+----+----+----+----+------------------+------------------+------------------+----+----+----+----+----+----+----+----+----+----+----+----+----+----+----+----+----+----+----+----+----+----+----+----+----+----+----+----+----+----+----+----+----+----+----+----+----+----+----+----+----+----+----+----+----+----+----+----+----+----+----+----+----+----+----+----+----+----+----+----+----+----+----+----+----+----+----+----+----+----+----+----+----+----+----+----+----+----+----+----+----+----+----+----+----+----+----+----+----+----+----+----+----+----+----+----+-----+----+----+-----+----+----+----+----+----+----+----+----+----+----+----+----+----+----+----+----+----+----+----+----+----+----+----+----+----+----+----+----+----+------------------+\n",
      "|TransactionID|isFraud|TransactionDT|TransactionAmt|ProductCD|card1|card2|card3|card4|card5|card6 |addr1|addr2|dist1|dist2|P_emaildomain|R_emaildomain|C1 |C2 |C3 |C4 |C5 |C6 |C7 |C8 |C9 |C10|C11|C12|C13 |C14|D1   |D2   |D3  |D4  |D5  |D6  |D7  |D8               |D9                 |D10  |D11  |D12 |D13 |D14 |D15  |M1  |M2  |M3  |M4  |M5  |M6  |M7  |M8  |M9  |V1  |V2  |V3  |V4  |V5  |V6  |V7  |V8  |V9  |V10 |V11 |V12 |V13 |V14 |V15 |V16 |V17 |V18 |V19 |V20 |V21 |V22 |V23 |V24 |V25 |V26 |V27 |V28 |V29 |V30 |V31 |V32 |V33 |V34 |V35 |V36 |V37 |V38 |V39 |V40 |V41 |V42 |V43 |V44 |V45 |V46 |V47 |V48 |V49 |V50 |V51 |V52 |V53 |V54 |V55 |V56 |V57 |V58 |V59 |V60 |V61 |V62 |V63 |V64 |V65 |V66 |V67 |V68 |V69 |V70 |V71 |V72 |V73 |V74 |V75 |V76 |V77 |V78 |V79 |V80 |V81 |V82 |V83 |V84 |V85 |V86 |V87 |V88 |V89 |V90 |V91 |V92 |V93 |V94 |V95|V96|V97|V98|V99|V100|V101|V102|V103|V104|V105|V106|V107|V108|V109|V110|V111|V112|V113|V114|V115|V116|V117|V118|V119|V120|V121|V122|V123|V124|V125|V126|V127|V128|V129|V130|V131|V132|V133|V134|V135|V136|V137|V138|V139|V140|V141|V142|V143|V144|V145|V146|V147|V148|V149|V150|V151|V152|V153|V154|V155|V156|V157|V158|V159|V160|V161|V162|V163|V164|V165|V166|V167|V168|V169|V170|V171|V172|V173|V174|V175|V176|V177|V178|V179|V180|V181|V182|V183|V184|V185|V186|V187|V188|V189|V190|V191|V192|V193|V194|V195|V196|V197|V198|V199|V200|V201|V202|V203              |V204|V205|V206|V207|V208              |V209              |V210              |V211|V212|V213|V214|V215|V216|V217|V218|V219|V220|V221|V222|V223|V224|V225|V226|V227|V228|V229|V230|V231|V232|V233|V234|V235|V236|V237|V238|V239|V240|V241|V242|V243|V244|V245|V246|V247|V248|V249|V250|V251|V252|V253|V254|V255|V256|V257|V258|V259|V260|V261|V262|V263|V264|V265|V266|V267|V268|V269|V270|V271|V272|V273|V274|V275|V276|V277|V278|V279|V280|V281|V282|V283|V284|V285|V286|V287|V288|V289|V290|V291|V292|V293|V294|V295|V296|V297|V298|V299|V300|V301|V302|V303|V304|V305|V306|V307 |V308|V309|V310 |V311|V312|V313|V314|V315|V316|V317|V318|V319|V320|V321|V322|V323|V324|V325|V326|V327|V328|V329|V330|V331|V332|V333|V334|V335|V336|V337|V338|V339|TransactionDT_days|\n",
      "+-------------+-------+-------------+--------------+---------+-----+-----+-----+-----+-----+------+-----+-----+-----+-----+-------------+-------------+---+---+---+---+---+---+---+---+---+---+---+---+----+---+-----+-----+----+----+----+----+----+-----------------+-------------------+-----+-----+----+----+----+-----+----+----+----+----+----+----+----+----+----+----+----+----+----+----+----+----+----+----+----+----+----+----+----+----+----+----+----+----+----+----+----+----+----+----+----+----+----+----+----+----+----+----+----+----+----+----+----+----+----+----+----+----+----+----+----+----+----+----+----+----+----+----+----+----+----+----+----+----+----+----+----+----+----+----+----+----+----+----+----+----+----+----+----+----+----+----+----+----+----+----+----+----+----+----+----+----+----+----+----+----+----+----+----+---+---+---+---+---+----+----+----+----+----+----+----+----+----+----+----+----+----+----+----+----+----+----+----+----+----+----+----+----+----+----+----+----+----+----+----+----+----+----+----+----+----+----+----+----+----+----+----+----+----+----+----+----+----+----+----+----+----+----+----+----+----+----+----+----+----+----+----+----+----+----+----+----+----+----+----+----+----+----+----+----+----+----+----+----+----+----+----+----+----+----+----+----+----+----+----+----+----+----+----+----+----+----+----+----+----+----+----+------------------+----+----+----+----+------------------+------------------+------------------+----+----+----+----+----+----+----+----+----+----+----+----+----+----+----+----+----+----+----+----+----+----+----+----+----+----+----+----+----+----+----+----+----+----+----+----+----+----+----+----+----+----+----+----+----+----+----+----+----+----+----+----+----+----+----+----+----+----+----+----+----+----+----+----+----+----+----+----+----+----+----+----+----+----+----+----+----+----+----+----+----+----+----+----+----+----+----+----+----+----+----+----+----+----+----+----+-----+----+----+-----+----+----+----+----+----+----+----+----+----+----+----+----+----+----+----+----+----+----+----+----+----+----+----+----+----+----+----+----+----+------------------+\n",
      "|2987065      |0      |87650        |114.95        |W        |17188|321.0|150.0|visa |226.0|debit |299.0|87.0 |1.0  |null |null         |null         |1.0|1.0|0.0|0.0|1.0|0.0|0.0|0.0|1.0|0.0|1.0|0.0|1.0 |1.0|0.0  |null |null|null|null|null|null|null             |null               |0.0  |0.0  |null|null|null|0.0  |T   |T   |T   |null|null|T   |F   |F   |T   |1.0 |1.0 |1.0 |0.0 |0.0 |1.0 |1.0 |1.0 |1.0 |1.0 |1.0 |1.0 |1.0 |1.0 |0.0 |0.0 |0.0 |0.0 |0.0 |0.0 |0.0 |0.0 |1.0 |1.0 |1.0 |1.0 |0.0 |0.0 |1.0 |1.0 |0.0 |0.0 |0.0 |0.0 |null|null|null|null|null|null|null|null|null|null|null|null|null|null|null|null|null|null|1.0 |1.0 |1.0 |1.0 |0.0 |0.0 |0.0 |0.0 |0.0 |0.0 |0.0 |0.0 |1.0 |1.0 |1.0 |0.0 |1.0 |1.0 |0.0 |0.0 |0.0 |0.0 |1.0 |1.0 |1.0 |1.0 |0.0 |0.0 |0.0 |0.0 |0.0 |0.0 |0.0 |1.0 |1.0 |1.0 |0.0 |1.0 |1.0 |0.0 |0.0 |0.0 |0.0|0.0|0.0|0.0|0.0|0.0 |0.0 |0.0 |0.0 |0.0 |0.0 |0.0 |1.0 |1.0 |1.0 |1.0 |1.0 |1.0 |1.0 |1.0 |1.0 |1.0 |1.0 |1.0 |1.0 |1.0 |1.0 |1.0 |1.0 |1.0 |1.0 |0.0 |0.0 |0.0 |0.0 |0.0 |0.0 |0.0 |0.0 |0.0 |0.0 |0.0 |0.0 |null|null|null|null|null|null|null|null|null|null|null|null|null|null|null|null|null|null|null|null|null|null|null|null|null|null|null|null|null|null|null|null|null|null|null|null|null|null|null|null|null|null|null|null|null|null|null|null|null|null|null|null|null|null|null|null|null|null|null|null|null|null|null|null|null|null              |null|null|null|null|null              |null              |null              |null|null|null|null|null|null|null|null|null|null|null|null|null|null|null|null|null|null|null|null|null|null|null|null|null|null|null|null|null|null|null|null|null|null|null|null|null|null|null|null|null|null|null|null|null|null|null|null|null|null|null|null|null|null|null|null|null|null|null|null|null|null|null|null|null|null|null|null|0.0 |0.0 |0.0 |1.0 |1.0 |0.0 |0.0 |0.0 |0.0 |0.0 |0.0 |1.0 |1.0 |1.0 |0.0 |0.0 |0.0 |0.0 |0.0 |0.0 |0.0 |0.0 |0.0 |0.0 |0.0 |0.0 |1.0 |0.0 |0.0  |0.0 |0.0 |0.0  |0.0 |0.0 |0.0 |0.0 |0.0 |0.0 |0.0 |0.0 |0.0 |0.0 |0.0 |null|null|null|null|null|null|null|null|null|null|null|null|null|null|null|null|null|null|7.57296E9         |\n",
      "|2987209      |0      |89836        |21.993        |C        |10876|104.0|185.0|visa |137.0|credit|null |null |null |4.0  |anonymous.com|anonymous.com|2.0|2.0|0.0|1.0|0.0|1.0|1.0|1.0|0.0|2.0|2.0|2.0|2.0 |2.0|0.0  |null |null|24.0|24.0|24.0|24.0|549.0            |0.0                |0.0  |null |24.0|24.0|0.0 |0.0  |null|null|null|M0  |null|null|null|null|null|null|null|null|null|null|null|null|null|null|null|null|0.0 |0.0 |1.0 |1.0 |1.0 |1.0 |1.0 |1.0 |1.0 |1.0 |1.0 |1.0 |1.0 |1.0 |1.0 |0.0 |0.0 |0.0 |0.0 |1.0 |1.0 |1.0 |1.0 |0.0 |0.0 |1.0 |1.0 |1.0 |1.0 |1.0 |1.0 |1.0 |1.0 |1.0 |1.0 |1.0 |0.0 |0.0 |1.0 |1.0 |1.0 |0.0 |0.0 |1.0 |1.0 |1.0 |1.0 |1.0 |1.0 |1.0 |1.0 |1.0 |1.0 |1.0 |1.0 |1.0 |0.0 |0.0 |0.0 |1.0 |1.0 |1.0 |1.0 |0.0 |0.0 |1.0 |1.0 |1.0 |1.0 |1.0 |1.0 |1.0 |1.0 |1.0 |1.0 |1.0 |1.0 |0.0 |0.0 |0.0 |1.0 |1.0 |1.0 |0.0|0.0|0.0|0.0|0.0|0.0 |0.0 |0.0 |0.0 |0.0 |0.0 |0.0 |1.0 |1.0 |1.0 |1.0 |1.0 |1.0 |1.0 |1.0 |1.0 |1.0 |1.0 |1.0 |1.0 |1.0 |1.0 |1.0 |1.0 |1.0 |1.0 |0.0 |0.0 |0.0 |0.0 |0.0 |0.0 |0.0 |0.0 |0.0 |0.0 |0.0 |0.0 |null|null|null|null|null|null|null|null|null|null|null|null|null|null|null|null|null|null|null|null|null|null|null|null|null|null|null|null|null|0.0 |0.0 |0.0 |1.0 |1.0 |0.0 |0.0 |1.0 |1.0 |1.0 |0.0 |0.0 |0.0 |0.0 |0.0 |0.0 |0.0 |0.0 |0.0 |1.0 |1.0 |1.0 |1.0 |1.0 |1.0 |1.0 |1.0 |1.0 |1.0 |1.0 |1.0 |1.0 |1.0 |1.0 |1.0 |0.0 |25.013900756835934|0.0 |0.0 |0.0 |0.0 |25.013900756835934|25.013900756835934|25.013900756835934|0.0 |0.0 |0.0 |0.0 |0.0 |0.0 |0.0 |0.0 |0.0 |0.0 |1.0 |1.0 |0.0 |0.0 |0.0 |0.0 |0.0 |1.0 |1.0 |1.0 |0.0 |0.0 |0.0 |0.0 |0.0 |0.0 |0.0 |0.0 |0.0 |1.0 |1.0 |1.0 |1.0 |1.0 |1.0 |1.0 |1.0 |1.0 |1.0 |1.0 |1.0 |1.0 |1.0 |1.0 |1.0 |1.0 |1.0 |1.0 |1.0 |1.0 |1.0 |1.0 |0.0 |0.0 |0.0 |0.0 |0.0 |0.0 |0.0 |0.0 |0.0 |0.0 |0.0 |0.0 |0.0 |0.0 |0.0 |0.0 |0.0 |0.0 |0.0 |1.0 |1.0 |0.0 |0.0 |0.0 |0.0 |0.0 |0.0 |1.0 |1.0 |1.0 |0.0 |0.0 |0.0 |0.0 |0.0 |0.0 |0.0 |0.0 |0.0 |1.0 |1.0 |1.0 |1.0 |0.0 |0.0  |0.0 |0.0 |0.0  |0.0 |0.0 |0.0 |0.0 |0.0 |0.0 |0.0 |0.0 |0.0 |0.0 |0.0 |null|null|null|null|null|null|null|null|null|null|null|null|null|null|null|null|null|null|7.7618304E9       |\n",
      "|2987281      |0      |90815        |30.0          |S        |5017 |432.0|150.0|visa |226.0|debit |330.0|87.0 |null |null |null         |aol.com      |1.0|1.0|1.0|1.0|0.0|0.0|0.0|1.0|0.0|1.0|1.0|0.0|1.0 |1.0|0.0  |null |null|null|null|null|null|248.0416717529297|0.04166600108146668|null |null |null|null|null|null |null|null|null|null|null|null|null|null|null|null|null|null|null|null|null|null|null|null|null|null|null|null|null|null|null|null|null|null|null|null|null|null|null|null|null|null|null|null|null|null|null|null|null|null|null|null|null|null|null|null|null|null|null|null|null|null|null|null|null|null|null|null|null|null|null|null|null|null|null|null|null|null|null|null|null|null|null|null|null|null|null|null|null|null|null|null|null|null|null|null|null|null|null|null|null|null|null|null|null|null|null|null|null|0.0|0.0|0.0|0.0|0.0|0.0 |0.0 |0.0 |0.0 |0.0 |0.0 |0.0 |1.0 |1.0 |1.0 |1.0 |1.0 |1.0 |1.0 |1.0 |1.0 |1.0 |1.0 |1.0 |1.0 |1.0 |1.0 |1.0 |1.0 |1.0 |1.0 |0.0 |0.0 |0.0 |0.0 |0.0 |0.0 |0.0 |0.0 |0.0 |0.0 |0.0 |0.0 |0.0 |1.0 |1.0 |0.0 |0.0 |0.0 |0.0 |0.0 |0.0 |0.0 |1.0 |1.0 |1.0 |1.0 |1.0 |1.0 |1.0 |1.0 |1.0 |1.0 |1.0 |0.0 |0.0 |0.0 |0.0 |0.0 |0.0 |0.0 |0.0 |0.0 |0.0 |0.0 |1.0 |1.0 |0.0 |0.0 |0.0 |0.0 |1.0 |0.0 |0.0 |0.0 |0.0 |0.0 |0.0 |0.0 |0.0 |0.0 |1.0 |1.0 |1.0 |1.0 |1.0 |1.0 |1.0 |1.0 |1.0 |1.0 |1.0 |1.0 |1.0 |1.0 |1.0 |1.0 |0.0 |0.0               |0.0 |0.0 |0.0 |0.0 |0.0               |0.0               |0.0               |0.0 |0.0 |0.0 |0.0 |0.0 |0.0 |0.0 |0.0 |0.0 |0.0 |1.0 |1.0 |0.0 |0.0 |0.0 |0.0 |0.0 |1.0 |1.0 |1.0 |0.0 |0.0 |0.0 |0.0 |0.0 |0.0 |0.0 |0.0 |0.0 |1.0 |1.0 |1.0 |1.0 |1.0 |1.0 |1.0 |1.0 |1.0 |1.0 |1.0 |1.0 |1.0 |1.0 |1.0 |1.0 |1.0 |1.0 |1.0 |1.0 |1.0 |1.0 |1.0 |0.0 |0.0 |0.0 |0.0 |0.0 |0.0 |0.0 |0.0 |0.0 |0.0 |0.0 |0.0 |0.0 |0.0 |0.0 |0.0 |0.0 |0.0 |0.0 |1.0 |1.0 |0.0 |0.0 |0.0 |0.0 |0.0 |0.0 |1.0 |1.0 |1.0 |0.0 |0.0 |0.0 |0.0 |0.0 |0.0 |0.0 |0.0 |0.0 |1.0 |1.0 |1.0 |1.0 |0.0 |0.0  |0.0 |0.0 |0.0  |0.0 |0.0 |0.0 |0.0 |0.0 |0.0 |0.0 |0.0 |0.0 |0.0 |0.0 |0.0 |0.0 |0.0 |0.0 |0.0 |0.0 |0.0 |0.0 |0.0 |0.0 |0.0 |0.0 |0.0 |0.0 |0.0 |0.0 |0.0 |0.0 |7.846416E9        |\n",
      "|2987304      |0      |91244        |554.0         |W        |8528 |215.0|150.0|visa |226.0|debit |251.0|87.0 |2.0  |null |hotmail.com  |null         |1.0|1.0|0.0|0.0|0.0|1.0|0.0|0.0|1.0|0.0|1.0|0.0|1.0 |1.0|0.0  |null |null|0.0 |null|null|null|null             |null               |0.0  |189.0|null|null|null|0.0  |T   |T   |F   |M1  |F   |F   |null|null|null|1.0 |1.0 |1.0 |1.0 |1.0 |1.0 |1.0 |1.0 |1.0 |0.0 |0.0 |1.0 |1.0 |1.0 |0.0 |0.0 |0.0 |0.0 |1.0 |1.0 |0.0 |0.0 |1.0 |1.0 |1.0 |1.0 |0.0 |0.0 |0.0 |0.0 |0.0 |0.0 |0.0 |0.0 |1.0 |1.0 |1.0 |1.0 |0.0 |0.0 |1.0 |0.0 |0.0 |1.0 |1.0 |1.0 |1.0 |0.0 |0.0 |0.0 |0.0 |0.0 |1.0 |1.0 |1.0 |1.0 |0.0 |0.0 |0.0 |0.0 |1.0 |1.0 |0.0 |0.0 |1.0 |1.0 |1.0 |0.0 |0.0 |0.0 |0.0 |0.0 |0.0 |0.0 |1.0 |1.0 |1.0 |1.0 |0.0 |0.0 |0.0 |1.0 |1.0 |0.0 |0.0 |1.0 |1.0 |1.0 |0.0 |0.0 |0.0 |0.0 |0.0 |0.0 |0.0|0.0|0.0|0.0|0.0|0.0 |0.0 |0.0 |0.0 |0.0 |0.0 |0.0 |1.0 |1.0 |1.0 |1.0 |1.0 |1.0 |1.0 |1.0 |1.0 |1.0 |1.0 |1.0 |1.0 |1.0 |1.0 |1.0 |1.0 |1.0 |1.0 |0.0 |0.0 |0.0 |0.0 |0.0 |0.0 |0.0 |0.0 |0.0 |0.0 |0.0 |0.0 |null|null|null|null|null|null|null|null|null|null|null|null|null|null|null|null|null|null|null|null|null|null|null|null|null|null|null|null|null|null|null|null|null|null|null|null|null|null|null|null|null|null|null|null|null|null|null|null|null|null|null|null|null|null|null|null|null|null|null|null|null|null|null|null|null|null              |null|null|null|null|null              |null              |null              |null|null|null|null|null|null|null|null|null|null|null|null|null|null|null|null|null|null|null|null|null|null|null|null|null|null|null|null|null|null|null|null|null|null|null|null|null|null|null|null|null|null|null|null|null|null|null|null|null|null|null|null|null|null|null|null|null|null|null|null|null|null|null|null|null|null|null|null|0.0 |0.0 |0.0 |1.0 |1.0 |0.0 |0.0 |0.0 |0.0 |0.0 |0.0 |1.0 |1.0 |1.0 |0.0 |0.0 |0.0 |0.0 |0.0 |0.0 |0.0 |0.0 |0.0 |0.0 |0.0 |0.0 |1.0 |0.0 |0.0  |0.0 |0.0 |0.0  |0.0 |0.0 |0.0 |0.0 |0.0 |0.0 |0.0 |0.0 |0.0 |0.0 |0.0 |null|null|null|null|null|null|null|null|null|null|null|null|null|null|null|null|null|null|7.8834816E9       |\n",
      "|2987371      |0      |92434        |44.0          |W        |3084 |555.0|150.0|visa |226.0|debit |315.0|87.0 |6.0  |null |null         |null         |3.0|5.0|0.0|0.0|0.0|5.0|0.0|0.0|4.0|0.0|3.0|0.0|45.0|1.0|290.0|290.0|3.0 |null|null|null|null|null             |null               |260.0|209.0|null|null|null|289.0|T   |T   |F   |M0  |F   |F   |null|null|null|1.0 |1.0 |1.0 |1.0 |1.0 |1.0 |1.0 |1.0 |1.0 |0.0 |0.0 |1.0 |1.0 |1.0 |0.0 |0.0 |0.0 |0.0 |0.0 |0.0 |0.0 |0.0 |1.0 |1.0 |1.0 |1.0 |0.0 |0.0 |0.0 |0.0 |0.0 |0.0 |0.0 |0.0 |null|null|null|null|null|null|null|null|null|null|null|null|null|null|null|null|null|null|0.0 |0.0 |1.0 |1.0 |0.0 |0.0 |0.0 |0.0 |0.0 |0.0 |0.0 |0.0 |1.0 |1.0 |1.0 |0.0 |0.0 |0.0 |0.0 |0.0 |0.0 |0.0 |0.0 |0.0 |1.0 |1.0 |0.0 |0.0 |0.0 |0.0 |0.0 |0.0 |0.0 |1.0 |1.0 |1.0 |0.0 |0.0 |0.0 |0.0 |0.0 |0.0 |0.0|0.0|0.0|0.0|0.0|0.0 |0.0 |0.0 |0.0 |0.0 |0.0 |0.0 |1.0 |1.0 |1.0 |1.0 |1.0 |1.0 |1.0 |1.0 |1.0 |1.0 |1.0 |1.0 |1.0 |1.0 |1.0 |1.0 |1.0 |1.0 |1.0 |0.0 |0.0 |0.0 |0.0 |0.0 |0.0 |0.0 |0.0 |0.0 |0.0 |0.0 |0.0 |null|null|null|null|null|null|null|null|null|null|null|null|null|null|null|null|null|null|null|null|null|null|null|null|null|null|null|null|null|null|null|null|null|null|null|null|null|null|null|null|null|null|null|null|null|null|null|null|null|null|null|null|null|null|null|null|null|null|null|null|null|null|null|null|null|null              |null|null|null|null|null              |null              |null              |null|null|null|null|null|null|null|null|null|null|null|null|null|null|null|null|null|null|null|null|null|null|null|null|null|null|null|null|null|null|null|null|null|null|null|null|null|null|null|null|null|null|null|null|null|null|null|null|null|null|null|null|null|null|null|null|null|null|null|null|null|null|null|null|null|null|null|null|0.0 |1.0 |0.0 |0.0 |0.0 |0.0 |3.0 |0.0 |1.0 |0.0 |0.0 |1.0 |2.0 |2.0 |0.0 |0.0 |0.0 |0.0 |0.0 |0.0 |0.0 |0.0 |0.0 |0.0 |0.0 |0.0 |1.0 |0.0 |248.0|39.0|0.0 |248.0|0.0 |39.0|0.0 |0.0 |0.0 |0.0 |0.0 |0.0 |0.0 |0.0 |0.0 |null|null|null|null|null|null|null|null|null|null|null|null|null|null|null|null|null|null|7.9862976E9       |\n",
      "+-------------+-------+-------------+--------------+---------+-----+-----+-----+-----+-----+------+-----+-----+-----+-----+-------------+-------------+---+---+---+---+---+---+---+---+---+---+---+---+----+---+-----+-----+----+----+----+----+----+-----------------+-------------------+-----+-----+----+----+----+-----+----+----+----+----+----+----+----+----+----+----+----+----+----+----+----+----+----+----+----+----+----+----+----+----+----+----+----+----+----+----+----+----+----+----+----+----+----+----+----+----+----+----+----+----+----+----+----+----+----+----+----+----+----+----+----+----+----+----+----+----+----+----+----+----+----+----+----+----+----+----+----+----+----+----+----+----+----+----+----+----+----+----+----+----+----+----+----+----+----+----+----+----+----+----+----+----+----+----+----+----+----+----+----+---+---+---+---+---+----+----+----+----+----+----+----+----+----+----+----+----+----+----+----+----+----+----+----+----+----+----+----+----+----+----+----+----+----+----+----+----+----+----+----+----+----+----+----+----+----+----+----+----+----+----+----+----+----+----+----+----+----+----+----+----+----+----+----+----+----+----+----+----+----+----+----+----+----+----+----+----+----+----+----+----+----+----+----+----+----+----+----+----+----+----+----+----+----+----+----+----+----+----+----+----+----+----+----+----+----+----+----+------------------+----+----+----+----+------------------+------------------+------------------+----+----+----+----+----+----+----+----+----+----+----+----+----+----+----+----+----+----+----+----+----+----+----+----+----+----+----+----+----+----+----+----+----+----+----+----+----+----+----+----+----+----+----+----+----+----+----+----+----+----+----+----+----+----+----+----+----+----+----+----+----+----+----+----+----+----+----+----+----+----+----+----+----+----+----+----+----+----+----+----+----+----+----+----+----+----+----+----+----+----+----+----+----+----+----+----+-----+----+----+-----+----+----+----+----+----+----+----+----+----+----+----+----+----+----+----+----+----+----+----+----+----+----+----+----+----+----+----+----+----+------------------+\n",
      "only showing top 5 rows\n",
      "\n"
     ]
    }
   ],
   "source": [
    "df_tr.show(5, 0)"
   ]
  },
  {
   "cell_type": "code",
   "execution_count": 45,
   "metadata": {},
   "outputs": [
    {
     "name": "stdout",
     "output_type": "stream",
     "text": [
      "+------+---------------+\n",
      "|id_02 |qty_transaction|\n",
      "+------+---------------+\n",
      "|null  |3361           |\n",
      "|1102.0|11             |\n",
      "|696.0 |10             |\n",
      "|1141.0|9              |\n",
      "|1117.0|9              |\n",
      "+------+---------------+\n",
      "only showing top 5 rows\n",
      "\n"
     ]
    }
   ],
   "source": [
    "# Tryng to identify a unique column. Maybe 'id_02' in identity table?\n",
    "df_h1 = df_id.groupBy('id_02').agg(fx.count('TransactionID').alias('qty_transaction'))\n",
    "df_h1 = df_h1.orderBy(fx.col('qty_transaction').desc())\n",
    "\n",
    "df_h1.show(5, 0)"
   ]
  },
  {
   "cell_type": "code",
   "execution_count": 46,
   "metadata": {},
   "outputs": [
    {
     "name": "stdout",
     "output_type": "stream",
     "text": [
      "+-------------+-------+-------------+--------------+---------+-----+-----+-----+----------+-----+------+-----+-----+-----+-----+-------------+-------------+---+---+---+---+---+---+---+---+---+---+---+---+----+---+----+----+----+----+----+-----+----+------------------+-------------------+-----+----+----+----+-----+-----+----+----+----+----+----+----+----+----+----+----+----+----+----+----+----+----+----+----+----+----+----+----+----+----+----+----+----+----+----+----+----+----+----+----+----+----+----+----+----+----+----+----+----+----+----+----+----+----+----+----+----+----+----+----+----+----+----+----+----+----+----+----+----+----+----+----+----+----+----+----+----+----+----+----+----+----+----+----+----+----+----+----+----+----+----+----+----+----+----+----+----+----+----+----+----+----+----+----+----+----+----+----+----+-----+------+-----+---+----+----+-----+------+-----+----+----+----+----+----+----+----+----+----+----+----+----+----+----+----+----+----+----+----+----+----+----+-------+--------+-------+------+------+------+-------+--------+-------+------+------+------+----+----+----+----+----+-----+----+----+----+----+----+----+----+----+----+----+----+----+----+----+----+------+------+-----+-----+-----+-------+-------+------+-----+-----+----+----+----+----+----+----+----+----+-----+------+-----+----+----+----+----+----+----+----+----+----+----+----+----+----+----+----+----+----+----+----+----+----+----+-------+--------+-------+------+------+------+-----+------+-----+-------+--------+-------+------+------+------+-----+-----+-----+----+----+----+----+----+----+----+----+----+----+----+-----+-----+-----+----+----+----+----+----+----+----+----+----+----+----+----+----+----+----+----+----+----+----+----+----+----+----+----+----+----+----+----+----+-------+-------+-------+------+------+------+------+-----+-----+-----+-------+-------+-------+------+------+------+-----+-----+----+----+----+----+----+----+----+----+----+----+----+----+-----+------+-----+----+----+----+----+----+----+----+----+----+----+-------+--------+-------+------+------+------+------+-----+-----+-----+-------+--------+-------+------+------+------+-----+------+-----+----+----+----+----+----+----+-------+--------+-------+------+------+------+------+------+------+------------------+-----+------+-----+-----+-----+-----+-----+-----+-----+-----+-----+-----+-----+------+-----+-----+-----+-----+-----+-----+-----+-----+-----+-----+-----+-----+-----+-----+-----+----------+-----------+-----+---------+--------------+-----+-----+-----+-----+----------+----------+\n",
      "|TransactionID|isFraud|TransactionDT|TransactionAmt|ProductCD|card1|card2|card3|     card4|card5| card6|addr1|addr2|dist1|dist2|P_emaildomain|R_emaildomain| C1| C2| C3| C4| C5| C6| C7| C8| C9|C10|C11|C12| C13|C14|  D1|  D2|  D3|  D4|  D5|   D6|  D7|                D8|                 D9|  D10| D11| D12| D13|  D14|  D15|  M1|  M2|  M3|  M4|  M5|  M6|  M7|  M8|  M9|  V1|  V2|  V3|  V4|  V5|  V6|  V7|  V8|  V9| V10| V11| V12| V13| V14| V15| V16| V17| V18| V19| V20| V21| V22| V23| V24| V25| V26| V27| V28| V29| V30| V31| V32| V33| V34| V35| V36| V37| V38| V39| V40| V41| V42| V43| V44| V45| V46| V47| V48| V49| V50| V51| V52| V53| V54| V55| V56| V57| V58| V59| V60| V61| V62| V63| V64| V65| V66| V67| V68| V69| V70| V71| V72| V73| V74| V75| V76| V77| V78| V79| V80| V81| V82| V83| V84| V85| V86| V87| V88| V89| V90| V91| V92| V93| V94|  V95|   V96|  V97|V98| V99|V100| V101|  V102| V103|V104|V105|V106|V107|V108|V109|V110|V111|V112|V113|V114|V115|V116|V117|V118|V119|V120|V121|V122|V123|V124|V125|   V126|    V127|   V128|  V129|  V130|  V131|   V132|    V133|   V134|  V135|  V136|  V137|V138|V139|V140|V141|V142| V143|V144|V145|V146|V147|V148|V149|V150|V151|V152|V153|V154|V155|V156|V157|V158|  V159|  V160| V161| V162| V163|   V164|   V165|  V166| V167| V168|V169|V170|V171|V172|V173|V174|V175|V176| V177|  V178| V179|V180|V181|V182|V183|V184|V185|V186|V187|V188|V189|V190|V191|V192|V193|V194|V195|V196|V197|V198|V199|V200|V201|   V202|    V203|   V204|  V205|  V206|  V207| V208|  V209| V210|   V211|    V212|   V213|  V214|  V215|  V216| V217| V218| V219|V220|V221|V222|V223|V224|V225|V226|V227|V228|V229|V230| V231| V232| V233|V234|V235|V236|V237|V238|V239|V240|V241|V242|V243|V244|V245|V246|V247|V248|V249|V250|V251|V252|V253|V254|V255|V256|V257|V258|V259|V260|V261|V262|   V263|   V264|   V265|  V266|  V267|  V268|  V269| V270| V271| V272|   V273|   V274|   V275|  V276|  V277|  V278| V279| V280|V281|V282|V283|V284|V285|V286|V287|V288|V289|V290|V291|V292| V293|  V294| V295|V296|V297|V298|V299|V300|V301|V302|V303|V304|V305|   V306|    V307|   V308|  V309|  V310|  V311|  V312| V313| V314| V315|   V316|    V317|   V318|  V319|  V320|  V321| V322|  V323| V324|V325|V326|V327|V328|V329|V330|   V331|    V332|   V333|  V334|  V335|  V336|  V337|  V338|  V339|TransactionDT_days|id_01| id_02|id_03|id_04|id_05|id_06|id_07|id_08|id_09|id_10|id_11|id_12|id_13| id_14|id_15|id_16|id_17|id_18|id_19|id_20|id_21|id_22|id_23|id_24|id_25|id_26|id_27|id_28|id_29|     id_30|      id_31|id_32|    id_33|         id_34|id_35|id_36|id_37|id_38|DeviceType|DeviceInfo|\n",
      "+-------------+-------+-------------+--------------+---------+-----+-----+-----+----------+-----+------+-----+-----+-----+-----+-------------+-------------+---+---+---+---+---+---+---+---+---+---+---+---+----+---+----+----+----+----+----+-----+----+------------------+-------------------+-----+----+----+----+-----+-----+----+----+----+----+----+----+----+----+----+----+----+----+----+----+----+----+----+----+----+----+----+----+----+----+----+----+----+----+----+----+----+----+----+----+----+----+----+----+----+----+----+----+----+----+----+----+----+----+----+----+----+----+----+----+----+----+----+----+----+----+----+----+----+----+----+----+----+----+----+----+----+----+----+----+----+----+----+----+----+----+----+----+----+----+----+----+----+----+----+----+----+----+----+----+----+----+----+----+----+----+----+----+----+-----+------+-----+---+----+----+-----+------+-----+----+----+----+----+----+----+----+----+----+----+----+----+----+----+----+----+----+----+----+----+----+----+-------+--------+-------+------+------+------+-------+--------+-------+------+------+------+----+----+----+----+----+-----+----+----+----+----+----+----+----+----+----+----+----+----+----+----+----+------+------+-----+-----+-----+-------+-------+------+-----+-----+----+----+----+----+----+----+----+----+-----+------+-----+----+----+----+----+----+----+----+----+----+----+----+----+----+----+----+----+----+----+----+----+----+----+-------+--------+-------+------+------+------+-----+------+-----+-------+--------+-------+------+------+------+-----+-----+-----+----+----+----+----+----+----+----+----+----+----+----+-----+-----+-----+----+----+----+----+----+----+----+----+----+----+----+----+----+----+----+----+----+----+----+----+----+----+----+----+----+----+----+----+----+-------+-------+-------+------+------+------+------+-----+-----+-----+-------+-------+-------+------+------+------+-----+-----+----+----+----+----+----+----+----+----+----+----+----+----+-----+------+-----+----+----+----+----+----+----+----+----+----+----+-------+--------+-------+------+------+------+------+-----+-----+-----+-------+--------+-------+------+------+------+-----+------+-----+----+----+----+----+----+----+-------+--------+-------+------+------+------+------+------+------+------------------+-----+------+-----+-----+-----+-----+-----+-----+-----+-----+-----+-----+-----+------+-----+-----+-----+-----+-----+-----+-----+-----+-----+-----+-----+-----+-----+-----+-----+----------+-----------+-----+---------+--------------+-----+-----+-----+-----+----------+----------+\n",
      "|      3403541|      0|     10522683|          55.0|        S| 2616|327.0|150.0|  discover|223.0|credit|330.0| 87.0| null| null|         null|anonymous.com|1.0|1.0|1.0|1.0|0.0|0.0|0.0|1.0|0.0|1.0|1.0|0.0| 2.0|1.0| 0.0| 0.0|null|null|null| null|null|              0.75|               0.75| null|null|null|null| null| null|null|null|null|null|null|null|null|null|null|null|null|null|null|null|null|null|null|null|null|null|null|null|null|null|null|null|null|null|null|null|null|null|null|null|null|null|null|null|null|null|null|null|null|null|null|null|null|null|null|null|null|null|null|null|null|null|null|null|null|null|null|null|null|null|null|null|null|null|null|null|null|null|null|null|null|null|null|null|null|null|null|null|null|null|null|null|null|null|null|null|null|null|null|null|null|null|null|null|null|null|null|null|null|  8.0|   8.0|  8.0|2.0| 2.0| 2.0|  5.0|   5.0|  5.0| 1.0| 1.0| 1.0| 1.0| 1.0| 1.0| 1.0| 1.0| 1.0| 1.0| 1.0| 1.0| 1.0| 1.0| 1.0| 1.0| 1.0| 1.0| 1.0| 1.0| 1.0| 1.0|15380.0| 15380.0|15380.0|2100.0|2100.0|2100.0|11480.0| 11480.0|11480.0|1800.0|1800.0|1800.0| 4.0| 9.0| 9.0| 2.0| 2.0|  5.0| 1.0| 1.0| 1.0| 1.0| 1.0| 1.0| 1.0| 1.0| 1.0| 1.0| 1.0| 1.0| 1.0| 1.0| 1.0|2100.0|2100.0|525.0|525.0|525.0|11480.0|11480.0|1800.0|  8.0|  8.0| 4.0| 9.0| 9.0| 2.0| 2.0| 2.0| 2.0| 1.0|  5.0|   5.0|  5.0| 1.0| 1.0| 1.0| 1.0| 1.0| 1.0| 1.0| 1.0| 1.0| 1.0| 1.0| 1.0| 1.0| 1.0| 1.0| 1.0| 1.0| 1.0| 1.0| 1.0| 1.0| 1.0|15380.0| 15380.0|15380.0|2100.0|2100.0|2100.0|525.0| 525.0|525.0|11480.0| 11480.0|11480.0|1800.0|1800.0|1800.0|  8.0|  8.0|  8.0| 4.0| 9.0| 9.0| 2.0| 2.0| 2.0|28.0| 2.0| 1.0| 1.0| 1.0|  5.0|  5.0|  5.0| 1.0| 1.0| 1.0| 1.0| 1.0| 1.0| 1.0| 1.0| 1.0| 1.0| 1.0| 1.0| 1.0| 1.0| 1.0| 1.0| 1.0| 1.0| 1.0| 1.0| 1.0| 1.0| 1.0| 1.0| 1.0| 1.0| 1.0| 1.0| 1.0|15380.0|15380.0|15380.0|2100.0|2100.0|2100.0|2100.0|525.0|525.0|525.0|11480.0|11480.0|11480.0|1800.0|1800.0|1800.0|  8.0|  8.0| 4.0| 9.0| 9.0| 2.0| 2.0| 2.0| 2.0| 2.0| 2.0| 1.0| 1.0| 1.0|  5.0|   5.0|  5.0| 1.0| 1.0| 1.0| 1.0| 1.0| 1.0| 1.0| 1.0| 1.0| 1.0|15380.0| 15380.0|15380.0|2100.0|2100.0|2100.0|2100.0|525.0|525.0|525.0|11480.0| 11480.0|11480.0|1800.0|1800.0|1800.0|  8.0|   8.0|  8.0| 2.0| 2.0| 2.0| 1.0| 1.0| 1.0|15380.0| 15380.0|15380.0|2100.0|2100.0|2100.0|1800.0|1800.0|1800.0|    9.091598112E11|-10.0|1102.0|  0.0|  0.0|  1.0|  0.0| null| null|  0.0|  0.0|100.0|Found| 52.0|-300.0|Found|Found|166.0| 15.0|339.0|533.0| null| null| null| null| null| null| null|Found|Found| Windows 7|chrome 65.0| 24.0| 1366x768|match_status:2|    T|    F|    T|    T|   desktop|   Windows|\n",
      "|      3514125|      0|     13873884|          55.0|        S|15775|481.0|150.0|mastercard|102.0|credit|330.0| 87.0| null| null|         null|    yahoo.com|4.0|3.0|0.0|3.0|0.0|0.0|0.0|6.0|0.0|2.0|4.0|0.0|45.0|4.0|31.0|31.0| 0.0|null|null|245.0| 0.0|15.541666030883787| 0.5416659712791443|242.0|null|null|15.0|245.0| null|null|null|null|null|null|null|null|null|null|null|null|null|null|null|null|null|null|null|null|null| 0.0| 0.0| 1.0| 0.0| 0.0| 1.0| 1.0| 0.0| 0.0| 1.0| 1.0| 1.0| 1.0| 1.0| 1.0| 0.0| 0.0| 0.0| 0.0| 1.0| 1.0| 0.0| 0.0|null|null|null|null|null|null|null|null|null|null|null|null|null|null|null|null|null|null| 0.0| 0.0| 1.0| 1.0| 0.0| 0.0| 1.0| 1.0| 0.0| 0.0| 1.0| 1.0| 1.0| 1.0| 1.0| 0.0| 0.0| 0.0| 1.0| 1.0| 0.0| 0.0|null|null|null|null|null|null|null|null|null|null|null|null|null|null|null|null|null|null|null|null| 13.0|  38.0| 16.0|1.0|12.0| 1.0| 11.0|  19.0| 14.0| 1.0| 7.0| 1.0| 1.0| 1.0| 1.0| 1.0| 1.0| 1.0| 1.0| 1.0| 1.0| 1.0| 1.0| 1.0| 1.0| 1.0| 1.0| 1.0| 2.0| 2.0| 2.0|  766.0|  2535.0| 1084.0| 106.0| 746.0| 106.0|  605.0|  1348.0|  923.0|  55.0| 441.0|  55.0| 0.0| 0.0| 0.0| 0.0| 0.0| 11.0| 1.0| 1.0| 0.0| 0.0| 0.0| 0.0| 1.0| 1.0| 2.0| 0.0| 0.0| 0.0| 0.0| 0.0| 0.0| 106.0| 846.0|  0.0|  0.0|  0.0|  605.0|  923.0|  55.0| 12.0| 15.0| 0.0| 1.0|14.0| 1.0| 0.0| 1.0| 7.0| 1.0| 10.0|  18.0| 13.0| 5.0| 1.0| 5.0| 1.0| 0.0| 3.0| 1.0| 1.0| 1.0| 1.0| 1.0| 1.0| 1.0| 1.0| 1.0| 1.0| 1.0| 1.0| 1.0| 2.0| 1.0| 1.0|  711.0|  2295.0| 1029.0| 106.0|   0.0| 106.0| 75.0| 571.0|465.0|  550.0|  1293.0|  868.0|  55.0| 431.0|  55.0| 13.0| 38.0| 16.0| 0.0| 0.0| 0.0| 1.0|12.0| 1.0|11.0| 0.0| 1.0| 1.0| 1.0| 11.0| 19.0| 14.0| 7.0| 1.0| 7.0| 1.0| 0.0| 0.0| 1.0| 1.0| 1.0| 1.0| 1.0| 0.0| 1.0| 1.0| 1.0| 1.0| 0.0| 0.0| 1.0| 1.0| 1.0| 0.0| 0.0| 2.0| 2.0| 0.0| 2.0| 7.0| 2.0|  766.0| 2535.0| 1084.0| 106.0| 746.0| 106.0| 106.0|  0.0|  0.0|  0.0|  605.0| 1348.0|  923.0|  55.0| 441.0|  55.0| 12.0| 15.0| 0.0| 1.0| 1.0| 1.0|12.0| 0.0| 1.0| 1.0| 1.0| 1.0| 1.0| 1.0| 11.0|  19.0| 14.0| 6.0| 0.0| 6.0| 0.0| 0.0| 0.0| 2.0| 3.0| 2.0| 1.0|  711.0|  2480.0| 1029.0| 106.0| 746.0|   0.0| 106.0|100.0|740.0|100.0|  605.0|  1348.0|  923.0|   0.0| 386.0|   0.0| 13.0|  38.0| 16.0| 1.0|12.0| 1.0| 1.0| 7.0| 1.0|  766.0|  2535.0| 1084.0| 106.0| 746.0| 106.0|  55.0| 441.0|  55.0|   1.1987035776E12|-10.0|1102.0|  0.0|  0.0|  0.0|  0.0| null| null|  0.0|  0.0|100.0|Found| 52.0|-300.0|Found|Found|166.0| null|633.0|533.0| null| null| null| null| null| null| null|Found|Found|Windows 10|  edge 16.0| 24.0| 1366x768|match_status:2|    T|    F|    T|    T|   desktop|   Windows|\n",
      "|      3521841|      0|     14079953|         106.0|        S|15775|481.0|150.0|mastercard|102.0|credit|330.0| 87.0| null| null|         null|    yahoo.com|4.0|3.0|0.0|3.0|0.0|0.0|0.0|6.0|0.0|2.0|4.0|0.0|49.0|4.0|33.0|33.0| 0.0|null|null|247.0| 0.0|17.958332061767578| 0.9583330154418944|244.0|null|null|17.0|247.0| null|null|null|null|null|null|null|null|null|null|null|null|null|null|null|null|null|null|null|null|null| 0.0| 0.0| 1.0| 0.0| 0.0| 1.0| 1.0| 0.0| 0.0| 1.0| 1.0| 1.0| 1.0| 1.0| 1.0| 0.0| 0.0| 0.0| 0.0| 1.0| 1.0| 0.0| 0.0|null|null|null|null|null|null|null|null|null|null|null|null|null|null|null|null|null|null| 0.0| 0.0| 1.0| 1.0| 0.0| 0.0| 1.0| 1.0| 0.0| 0.0| 1.0| 1.0| 1.0| 1.0| 1.0| 0.0| 0.0| 0.0| 1.0| 1.0| 0.0| 0.0|null|null|null|null|null|null|null|null|null|null|null|null|null|null|null|null|null|null|null|null| 11.0|  66.0| 44.0|2.0|15.0| 4.0|  0.0|  28.0| 23.0| 9.0|23.0|17.0| 1.0| 1.0| 1.0| 1.0| 1.0| 1.0| 1.0| 1.0| 1.0| 1.0| 1.0| 1.0| 1.0| 1.0| 1.0| 1.0| 1.0| 2.0| 2.0| 1021.0|  5001.0| 3550.0| 161.0| 972.0| 332.0|    0.0|  1913.0| 1488.0| 860.0|2116.0|1730.0| 0.0| 0.0| 0.0| 0.0| 0.0|  0.0| 9.0|17.0| 0.0| 0.0| 0.0| 0.0| 1.0| 1.0| 2.0| 0.0| 0.0| 0.0| 0.0| 0.0| 0.0| 161.0|1072.0|  0.0|  0.0|  0.0|    0.0| 1488.0| 860.0|  9.0| 39.0| 0.0| 1.0|14.0| 2.0| 2.0| 1.0| 7.0| 1.0|  0.0|  25.0| 20.0|19.0| 7.0|19.0|15.0| 0.0| 3.0| 1.0| 1.0| 1.0| 1.0| 1.0| 1.0| 1.0| 1.0| 1.0| 1.0| 1.0| 1.0| 1.0| 1.0| 1.0| 1.0|  860.0|  4490.0| 3224.0| 161.0| 161.0| 332.0| 75.0| 797.0|465.0|    0.0|  1748.0| 1323.0| 699.0|1945.0|1569.0| 11.0| 66.0| 44.0| 0.0| 0.0| 0.0| 2.0|15.0| 4.0| 6.0| 0.0| 1.0| 1.0| 1.0|  0.0| 28.0| 23.0|23.0| 9.0|23.0|17.0| 0.0| 0.0| 1.0| 1.0| 1.0| 1.0| 1.0| 0.0| 1.0| 1.0| 1.0| 1.0| 0.0| 0.0| 1.0| 1.0| 1.0| 0.0| 0.0| 1.0| 2.0| 0.0| 2.0| 7.0| 2.0| 1021.0| 5001.0| 3550.0| 161.0| 972.0| 332.0| 161.0|  0.0|  0.0|  0.0|    0.0| 1913.0| 1488.0| 860.0|2116.0|1730.0| 11.0| 43.0| 0.0| 1.0| 1.0| 2.0|15.0| 2.0| 4.0| 1.0| 1.0| 1.0| 1.0| 1.0|  0.0|  28.0| 23.0|22.0| 9.0|22.0|16.0| 0.0| 0.0| 2.0| 3.0| 2.0| 1.0| 1021.0|  4946.0| 3495.0| 161.0| 972.0| 161.0| 332.0|100.0|740.0|100.0|    0.0|  1913.0| 1488.0| 860.0|2061.0|1675.0| 11.0|  66.0| 44.0| 2.0|15.0| 4.0| 9.0|23.0|17.0| 1021.0|  5001.0| 3550.0| 161.0| 972.0| 332.0| 860.0|2116.0|1730.0|   1.2165079392E12|-10.0|1102.0|  0.0|  0.0|  0.0|  0.0| null| null|  0.0|  0.0|100.0|Found| 52.0|-300.0|Found|Found|166.0| null|633.0|533.0| null| null| null| null| null| null| null|Found|Found|Windows 10|  edge 16.0| 24.0| 1366x768|match_status:2|    T|    F|    T|    T|   desktop|   Windows|\n",
      "|      3526939|      0|     14237497|         106.0|        S|15775|481.0|150.0|mastercard|102.0|credit|330.0| 87.0| null|  7.0|         null|    yahoo.com|4.0|3.0|0.0|3.0|0.0|0.0|0.0|6.0|0.0|2.0|5.0|0.0|51.0|4.0|35.0|35.0| 0.0|null|null|249.0| 0.0|             19.75|               0.75|246.0|null|null|19.0|249.0|249.0|null|null|null|null|null|null|null|null|null|null|null|null|null|null|null|null|null|null|null|null| 0.0| 0.0| 1.0| 0.0| 0.0| 1.0| 1.0| 0.0| 0.0| 1.0| 1.0| 1.0| 1.0| 1.0| 1.0| 0.0| 0.0| 0.0| 0.0| 1.0| 1.0| 0.0| 0.0|null|null|null|null|null|null|null|null|null|null|null|null|null|null|null|null|null|null| 0.0| 0.0| 1.0| 1.0| 0.0| 0.0| 1.0| 1.0| 0.0| 0.0| 1.0| 1.0| 1.0| 1.0| 1.0| 0.0| 0.0| 0.0| 1.0| 1.0| 0.0| 0.0| 0.0| 0.0| 1.0| 2.0| 0.0| 1.0| 1.0| 0.0| 0.0| 1.0| 1.0| 1.0| 1.0| 1.0| 0.0| 0.0| 0.0| 1.0| 1.0| 0.0|227.0| 295.0|273.0|1.0|18.0| 7.0|211.0| 239.0|234.0|15.0|38.0|32.0| 1.0| 1.0| 1.0| 1.0| 1.0| 1.0| 1.0| 1.0| 1.0| 1.0| 1.0| 1.0| 1.0| 1.0| 1.0| 1.0| 3.0| 3.0| 3.0|22796.0| 27978.0|26527.0| 106.0|1259.0| 619.0|21139.0| 23052.0|22627.0|1551.0|3667.0|3281.0| 0.0| 0.0| 0.0| 0.0| 0.0|212.0|15.0|32.0| 0.0| 0.0| 0.0| 0.0| 1.0| 1.0| 2.0| 0.0| 0.0| 0.0| 0.0| 0.0| 0.0| 106.0|1359.0|  0.0|  0.0|  0.0|21245.0|22733.0|1551.0|217.0|258.0| 0.0| 1.0|14.0| 1.0| 0.0| 1.0| 7.0| 2.0|201.0| 226.0|221.0|34.0|15.0|34.0|30.0| 0.0| 3.0| 1.0| 1.0| 1.0| 1.0| 1.0| 1.0| 1.0| 1.0| 1.0| 1.0| 1.0| 1.0| 1.0| 3.0| 1.0| 1.0|21787.0| 26458.0|25192.0| 106.0|   0.0| 619.0| 75.0|1084.0|465.0|20130.0| 21878.0|21453.0|1551.0|3496.0|3120.0|228.0|296.0|274.0| 0.0| 0.0| 0.0| 1.0|18.0| 7.0|21.0| 0.0| 2.0| 2.0| 2.0|212.0|240.0|235.0|38.0|15.0|38.0|32.0| 0.0| 0.0| 1.0| 1.0| 1.0| 1.0| 1.0| 0.0| 1.0| 1.0| 1.0| 1.0| 0.0| 0.0| 1.0| 1.0| 1.0| 0.0| 0.0| 3.0| 3.0| 0.0| 3.0| 9.0| 4.0|22902.0|28084.0|26633.0| 106.0|1259.0| 619.0| 106.0|  0.0|  0.0|  0.0|21245.0|23158.0|22733.0|1551.0|3667.0|3281.0|224.0|269.0| 0.0| 1.0| 1.0| 1.0|18.0| 0.0| 7.0| 1.0| 1.0| 2.0| 2.0| 2.0|212.0| 240.0|235.0|33.0|11.0|33.0|27.0| 0.0| 0.0| 2.0| 3.0| 2.0| 1.0|22529.0| 27656.0|26205.0| 106.0|1259.0|   0.0| 619.0|100.0|740.0|100.0|21245.0| 23158.0|22733.0|1178.0|3239.0|2853.0|228.0| 296.0|274.0| 1.0|18.0| 7.0|15.0|38.0|32.0|22902.0| 28084.0|26633.0| 106.0|1259.0| 619.0|1551.0|3667.0|3281.0|   1.2301197408E12|-10.0|1102.0|  0.0|  0.0|  0.0|  0.0| null| null|  0.0|  0.0|100.0|Found| 52.0|-300.0|Found|Found|166.0| null|633.0|533.0| null| null| null| null| null| null| null|Found|Found|Windows 10|  edge 16.0| 24.0| 1366x767|match_status:2|    T|    F|    T|    T|   desktop|   Windows|\n",
      "|      3539133|      0|     14588411|          10.0|        S|15066|170.0|150.0|mastercard|102.0|credit|337.0| 87.0| null| null|         null|    yahoo.com|3.0|3.0|0.0|2.0|0.0|0.0|0.0|2.0|0.0|2.0|2.0|0.0|13.0|2.0| 1.0|null|null|null|null|  1.0| 1.0|16.833332061767578| 0.8333330154418945| 16.0|null|null|16.0| 16.0| 21.0|null|null|null|null|null|null|null|null|null|null|null|null|null|null|null|null|null|null|null|null| 0.0| 0.0| 1.0| 0.0| 0.0| 1.0| 1.0| 0.0| 0.0| 1.0| 1.0| 1.0| 1.0| 1.0| 1.0| 0.0| 0.0| 0.0| 0.0| 1.0| 1.0| 0.0| 0.0|null|null|null|null|null|null|null|null|null|null|null|null|null|null|null|null|null|null|null|null|null|null|null|null|null|null|null|null|null|null|null|null|null|null|null|null|null|null|null|null| 0.0| 0.0| 1.0| 2.0| 0.0| 0.0| 1.0| 0.0| 0.0| 0.0| 1.0| 1.0| 1.0| 1.0| 0.0| 0.0| 0.0| 1.0| 1.0| 0.0|  0.0|   4.0|  2.0|0.0| 3.0| 1.0|  0.0|   1.0|  1.0| 0.0| 0.0| 0.0| 1.0| 1.0| 1.0| 1.0| 1.0| 1.0| 1.0| 1.0| 2.0| 2.0| 1.0| 1.0| 1.0| 1.0| 1.0| 1.0| 1.0| 2.0| 2.0|    0.0|    55.0|   30.0|   0.0|  40.0|  15.0|    0.0|    15.0|   15.0|   0.0|   0.0|   0.0| 0.0| 1.0| 2.0| 0.0| 0.0|  0.0| 0.0| 0.0| 0.0| 0.0| 1.0| 1.0| 1.0| 1.0| 1.0| 1.0| 1.0| 1.0| 1.0| 1.0| 1.0|   0.0|   0.0|  0.0|  0.0|  0.0|    0.0|   15.0|   0.0|  0.0|  2.0| 1.0| 2.0| 3.0| 0.0| 0.0| 2.0| 3.0| 1.0|  0.0|   1.0|  1.0| 0.0| 0.0| 0.0| 0.0| 0.0| 0.0| 1.0| 1.0| 1.0| 1.0| 1.0| 1.0| 1.0| 1.0| 1.0| 1.0| 1.0| 1.0| 1.0| 1.0| 1.0| 1.0|    0.0|    70.0|   30.0|   0.0|   0.0|  15.0| 30.0|  55.0| 40.0|    0.0|    15.0|   15.0|   0.0|   0.0|   0.0|  0.0|  5.0|  2.0| 1.0| 2.0| 3.0| 0.0| 4.0| 1.0| 0.0| 3.0| 1.0| 2.0| 1.0|  0.0|  1.0|  1.0| 0.0| 0.0| 0.0| 0.0| 0.0| 0.0| 1.0| 1.0| 1.0| 1.0| 1.0| 1.0| 1.0| 1.0| 1.0| 1.0| 1.0| 1.0| 1.0| 1.0| 1.0| 1.0| 1.0| 1.0| 2.0| 1.0| 1.0| 1.0| 1.0|    0.0|   70.0|   30.0|   0.0|  55.0|  15.0|   0.0| 30.0| 55.0| 40.0|    0.0|   15.0|   15.0|   0.0|   0.0|   0.0|  0.0|  1.0| 0.0| 1.0| 2.0| 0.0| 0.0| 0.0| 0.0| 0.0| 0.0| 1.0| 1.0| 1.0|  0.0|   1.0|  1.0| 0.0| 0.0| 0.0| 0.0| 0.0| 0.0| 1.0| 1.0| 1.0| 1.0|    0.0|    15.0|   15.0|   0.0|   0.0|   0.0|   0.0|  0.0|  0.0|  0.0|    0.0|    15.0|   15.0|   0.0|   0.0|   0.0|  0.0|   5.0|  2.0| 0.0| 4.0| 1.0| 0.0| 0.0| 0.0|    0.0|    70.0|   30.0|   0.0|  55.0|  15.0|   0.0|   0.0|   0.0|   1.2604387104E12| -5.0|1102.0|  0.0|  0.0|  7.0|-22.0| null| null|  0.0|  0.0|100.0|Found| 52.0|-300.0|Found|Found|166.0| 12.0|553.0|500.0| null| null| null| null| null| null| null|Found|Found| Windows 7|chrome 66.0| 24.0|1920x1200|match_status:2|    T|    F|    T|    T|   desktop|   Windows|\n",
      "|      3548113|      0|     14859236|         125.0|        S|15775|481.0|150.0|mastercard|102.0|credit|330.0| 87.0| null| null|         null|    yahoo.com|5.0|3.0|0.0|3.0|0.0|0.0|0.0|8.0|0.0|3.0|5.0|0.0|61.0|5.0|42.0|42.0| 0.0|null|null|256.0| 0.0|26.958332061767575| 0.9583330154418944|253.0|null|null|26.0|256.0| null|null|null|null|null|null|null|null|null|null|null|null|null|null|null|null|null|null|null|null|null| 0.0| 0.0| 1.0| 0.0| 0.0| 1.0| 1.0| 0.0| 0.0| 1.0| 1.0| 1.0| 1.0| 1.0| 1.0| 0.0| 0.0| 0.0| 0.0| 1.0| 1.0| 0.0| 0.0|null|null|null|null|null|null|null|null|null|null|null|null|null|null|null|null|null|null| 0.0| 0.0| 1.0| 1.0| 0.0| 0.0| 1.0| 1.0| 0.0| 0.0| 1.0| 1.0| 1.0| 1.0| 1.0| 0.0| 0.0| 0.0| 1.0| 1.0| 0.0| 0.0|null|null|null|null|null|null|null|null|null|null|null|null|null|null|null|null|null|null|null|null|600.0|1075.0|680.0|0.0|27.0|10.0|589.0| 971.0|635.0|11.0|77.0|35.0| 1.0| 1.0| 1.0| 1.0| 1.0| 1.0| 1.0| 1.0| 1.0| 1.0| 1.0| 1.0| 1.0| 1.0| 1.0| 1.0| 1.0| 4.0| 3.0|68613.0|115161.0|76351.0|   0.0|2301.0|1052.0|67448.0|105151.0|71642.0|1165.0|7709.0|3657.0| 0.0| 0.0| 0.0| 0.0| 0.0|589.0|11.0|35.0| 0.0| 0.0| 0.0| 0.0| 1.0| 1.0| 2.0| 0.0| 0.0| 0.0| 0.0| 0.0| 0.0|   0.0|2401.0|  0.0|  0.0|  0.0|67448.0|71642.0|1165.0|594.0|664.0| 0.0| 1.0|14.0| 0.0| 0.0| 1.0| 7.0| 1.0|583.0| 926.0|629.0|61.0|11.0|61.0|27.0| 0.0| 3.0| 1.0| 1.0| 1.0| 1.0| 1.0| 1.0| 1.0| 1.0| 1.0| 1.0| 1.0| 1.0| 1.0| 1.0| 1.0| 1.0|67977.0|108933.0|74815.0|   0.0|   0.0| 877.0| 75.0|1961.0|465.0|66812.0|100544.0|71006.0|1165.0|6428.0|2932.0| null| null| null| 0.0| 0.0| 0.0|null|null|null|null| 0.0|null|null|null| null| null| null|73.0|null|null|null| 0.0| 0.0|null|null|null|null|null| 0.0|null|null|null|null| 0.0| 0.0|null|null|null| 0.0| 0.0|null|null| 0.0|null|null|null|   null|   null|   null|  null|  null|  null|  null|  0.0|  0.0|  0.0|   null|   null|   null|  null|  null|  null|600.0|678.0| 0.0| 1.0| 1.0| 0.0|26.0| 0.0| 9.0| 1.0| 1.0| 1.0| 2.0| 1.0|589.0| 972.0|635.0|71.0|11.0|71.0|34.0| 0.0| 0.0| 2.0| 5.0| 3.0| 1.0|68613.0|114674.0|76186.0|   0.0|2191.0|   0.0| 942.0|100.0|740.0|100.0|67448.0|105257.0|71642.0|1165.0|7226.0|3602.0|600.0|1076.0|680.0| 0.0|27.0|10.0|11.0|77.0|35.0|68613.0|115267.0|76351.0|   0.0|2301.0|1052.0|1165.0|7709.0|3657.0|   1.2838379904E12|-10.0|1102.0|  0.0|  0.0|  6.0|  0.0| null| null|  0.0|  0.0|100.0|Found| 52.0|-300.0|Found|Found|166.0| null|633.0|533.0| null| null| null| null| null| null| null|Found|Found|Windows 10|  edge 16.0| 24.0| 1366x768|match_status:2|    T|    F|    T|    F|   desktop|   Windows|\n",
      "|      3548114|      0|     14859240|         125.0|        S|15775|481.0|150.0|mastercard|102.0|credit|330.0| 87.0| null| null|         null|    yahoo.com|5.0|3.0|0.0|3.0|0.0|0.0|0.0|8.0|0.0|3.0|5.0|0.0|61.0|5.0|42.0|42.0| 0.0|null|null|256.0| 0.0|26.958332061767575| 0.9583330154418944|253.0|null|null|26.0|256.0| null|null|null|null|null|null|null|null|null|null|null|null|null|null|null|null|null|null|null|null|null| 0.0| 0.0| 1.0| 0.0| 0.0| 1.0| 1.0| 0.0| 0.0| 1.0| 1.0| 1.0| 1.0| 1.0| 1.0| 0.0| 0.0| 0.0| 0.0| 1.0| 1.0| 0.0| 0.0|null|null|null|null|null|null|null|null|null|null|null|null|null|null|null|null|null|null| 0.0| 0.0| 1.0| 1.0| 0.0| 0.0| 1.0| 1.0| 0.0| 0.0| 1.0| 1.0| 1.0| 1.0| 1.0| 0.0| 0.0| 0.0| 1.0| 1.0| 0.0| 0.0|null|null|null|null|null|null|null|null|null|null|null|null|null|null|null|null|null|null|null|null|601.0|1076.0|681.0|0.0|27.0|10.0|590.0| 972.0|636.0|11.0|77.0|35.0| 1.0| 1.0| 1.0| 1.0| 1.0| 1.0| 1.0| 1.0| 1.0| 1.0| 1.0| 1.0| 1.0| 1.0| 1.0| 1.0| 1.0| 4.0| 3.0|68738.0|115286.0|76476.0|   0.0|2301.0|1052.0|67573.0|105276.0|71767.0|1165.0|7709.0|3657.0| 0.0| 0.0| 0.0| 0.0| 0.0|590.0|11.0|35.0| 0.0| 0.0| 0.0| 0.0| 1.0| 1.0| 2.0| 0.0| 0.0| 0.0| 0.0| 0.0| 0.0|   0.0|2401.0|  0.0|  0.0|  0.0|67573.0|71767.0|1165.0|595.0|665.0| 0.0| 1.0|14.0| 0.0| 0.0| 1.0| 7.0| 1.0|584.0| 927.0|630.0|61.0|11.0|61.0|27.0| 0.0| 3.0| 1.0| 1.0| 1.0| 1.0| 1.0| 1.0| 1.0| 1.0| 1.0| 1.0| 1.0| 1.0| 1.0| 1.0| 1.0| 1.0|68102.0|109058.0|74940.0|   0.0|   0.0| 877.0| 75.0|1961.0|465.0|66937.0|100669.0|71131.0|1165.0|6428.0|2932.0| null| null| null| 0.0| 0.0| 0.0|null|null|null|null| 0.0|null|null|null| null| null| null|73.0|null|null|null| 0.0| 0.0|null|null|null|null|null| 0.0|null|null|null|null| 0.0| 0.0|null|null|null| 0.0| 0.0|null|null| 0.0|null|null|null|   null|   null|   null|  null|  null|  null|  null|  0.0|  0.0|  0.0|   null|   null|   null|  null|  null|  null|601.0|679.0| 0.0| 1.0| 1.0| 0.0|26.0| 0.0| 9.0| 1.0| 1.0| 1.0| 2.0| 1.0|590.0| 973.0|636.0|71.0|11.0|71.0|34.0| 0.0| 0.0| 2.0| 5.0| 3.0| 1.0|68738.0|114799.0|76311.0|   0.0|2191.0|   0.0| 942.0|100.0|740.0|100.0|67573.0|105382.0|71767.0|1165.0|7226.0|3602.0|601.0|1077.0|681.0| 0.0|27.0|10.0|11.0|77.0|35.0|68738.0|115392.0|76476.0|   0.0|2301.0|1052.0|1165.0|7709.0|3657.0|    1.283838336E12|-10.0|1102.0|  0.0|  0.0|  6.0|  0.0| null| null|  0.0|  0.0|100.0|Found| 52.0|-300.0|Found|Found|166.0| null|633.0|533.0| null| null| null| null| null| null| null|Found|Found|Windows 10|  edge 16.0| 24.0| 1366x768|match_status:2|    T|    F|    T|    F|   desktop|   Windows|\n",
      "|      3548141|      0|     14859450|          75.0|        S|15775|481.0|150.0|mastercard|102.0|credit|330.0| 87.0| null| null|         null|    yahoo.com|5.0|3.0|0.0|3.0|0.0|0.0|0.0|8.0|0.0|3.0|5.0|0.0|61.0|5.0|42.0|42.0| 0.0|null|null|256.0| 0.0|26.958332061767575| 0.9583330154418944|253.0|null|null|26.0|256.0| null|null|null|null|null|null|null|null|null|null|null|null|null|null|null|null|null|null|null|null|null| 0.0| 0.0| 1.0| 0.0| 0.0| 1.0| 1.0| 0.0| 0.0| 1.0| 1.0| 1.0| 1.0| 1.0| 1.0| 0.0| 0.0| 0.0| 0.0| 1.0| 1.0| 0.0| 0.0|null|null|null|null|null|null|null|null|null|null|null|null|null|null|null|null|null|null| 0.0| 0.0| 1.0| 1.0| 0.0| 0.0| 1.0| 1.0| 0.0| 0.0| 1.0| 1.0| 1.0| 1.0| 1.0| 0.0| 0.0| 0.0| 1.0| 1.0| 0.0| 0.0|null|null|null|null|null|null|null|null|null|null|null|null|null|null|null|null|null|null|null|null|619.0|1094.0|699.0|0.0|27.0|10.0|608.0| 990.0|654.0|11.0|77.0|35.0| 1.0| 1.0| 1.0| 1.0| 1.0| 1.0| 1.0| 1.0| 1.0| 1.0| 1.0| 1.0| 1.0| 1.0| 1.0| 1.0| 1.0| 4.0| 3.0|70738.0|117286.0|78476.0|   0.0|2301.0|1052.0|69573.0|107276.0|73767.0|1165.0|7709.0|3657.0| 0.0| 0.0| 0.0| 0.0| 0.0|608.0|11.0|35.0| 0.0| 0.0| 0.0| 0.0| 1.0| 1.0| 2.0| 0.0| 0.0| 0.0| 0.0| 0.0| 0.0|   0.0|2401.0|  0.0|  0.0|  0.0|69573.0|73767.0|1165.0|613.0|683.0| 0.0| 1.0|14.0| 0.0| 0.0| 1.0| 7.0| 1.0|602.0| 945.0|648.0|61.0|11.0|61.0|27.0| 0.0| 3.0| 1.0| 1.0| 1.0| 1.0| 1.0| 1.0| 1.0| 1.0| 1.0| 1.0| 1.0| 1.0| 1.0| 1.0| 1.0| 1.0|70102.0|111058.0|76940.0|   0.0|   0.0| 877.0| 75.0|1961.0|465.0|68937.0|102669.0|73131.0|1165.0|6428.0|2932.0| null| null| null| 0.0| 0.0| 0.0|null|null|null|null| 0.0|null|null|null| null| null| null|73.0|null|null|null| 0.0| 0.0|null|null|null|null|null| 0.0|null|null|null|null| 0.0| 0.0|null|null|null| 0.0| 0.0|null|null| 0.0|null|null|null|   null|   null|   null|  null|  null|  null|  null|  0.0|  0.0|  0.0|   null|   null|   null|  null|  null|  null|619.0|697.0| 0.0| 1.0| 1.0| 0.0|26.0| 0.0| 9.0| 1.0| 1.0| 1.0| 2.0| 1.0|608.0| 991.0|654.0|71.0|11.0|71.0|34.0| 0.0| 0.0| 2.0| 5.0| 3.0| 1.0|70738.0|116799.0|78311.0|   0.0|2191.0|   0.0| 942.0|100.0|740.0|100.0|69573.0|107382.0|73767.0|1165.0|7226.0|3602.0|619.0|1095.0|699.0| 0.0|27.0|10.0|11.0|77.0|35.0|70738.0|117392.0|78476.0|   0.0|2301.0|1052.0|1165.0|7709.0|3657.0|     1.28385648E12|-10.0|1102.0|  0.0|  0.0|  6.0|  0.0| null| null|  0.0|  0.0|100.0|Found| 52.0|-300.0|Found|Found|166.0| null|633.0|533.0| null| null| null| null| null| null| null|Found|Found|Windows 10|  edge 16.0| 24.0| 1366x768|match_status:2|    T|    F|    T|    F|   desktop|   Windows|\n",
      "|      3548142|      0|     14859454|          75.0|        S|15775|481.0|150.0|mastercard|102.0|credit|330.0| 87.0| null| null|         null|    yahoo.com|5.0|3.0|0.0|3.0|0.0|0.0|0.0|8.0|0.0|3.0|5.0|0.0|61.0|5.0|42.0|42.0| 0.0|null|null|256.0| 0.0|26.958332061767575| 0.9583330154418944|253.0|null|null|26.0|256.0| null|null|null|null|null|null|null|null|null|null|null|null|null|null|null|null|null|null|null|null|null| 0.0| 0.0| 1.0| 0.0| 0.0| 1.0| 1.0| 0.0| 0.0| 1.0| 1.0| 1.0| 1.0| 1.0| 1.0| 0.0| 0.0| 0.0| 0.0| 1.0| 1.0| 0.0| 0.0|null|null|null|null|null|null|null|null|null|null|null|null|null|null|null|null|null|null| 0.0| 0.0| 1.0| 1.0| 0.0| 0.0| 1.0| 1.0| 0.0| 0.0| 1.0| 1.0| 1.0| 1.0| 1.0| 0.0| 0.0| 0.0| 1.0| 1.0| 0.0| 0.0|null|null|null|null|null|null|null|null|null|null|null|null|null|null|null|null|null|null|null|null|620.0|1095.0|700.0|0.0|27.0|10.0|609.0| 991.0|655.0|11.0|77.0|35.0| 1.0| 1.0| 1.0| 1.0| 1.0| 1.0| 1.0| 1.0| 1.0| 1.0| 1.0| 1.0| 1.0| 1.0| 1.0| 1.0| 1.0| 4.0| 3.0|70813.0|117361.0|78551.0|   0.0|2301.0|1052.0|69648.0|107351.0|73842.0|1165.0|7709.0|3657.0| 0.0| 0.0| 0.0| 0.0| 0.0|609.0|11.0|35.0| 0.0| 0.0| 0.0| 0.0| 1.0| 1.0| 2.0| 0.0| 0.0| 0.0| 0.0| 0.0| 0.0|   0.0|2401.0|  0.0|  0.0|  0.0|69648.0|73842.0|1165.0|614.0|684.0| 0.0| 1.0|14.0| 0.0| 0.0| 1.0| 7.0| 1.0|603.0| 946.0|649.0|61.0|11.0|61.0|27.0| 0.0| 3.0| 1.0| 1.0| 1.0| 1.0| 1.0| 1.0| 1.0| 1.0| 1.0| 1.0| 1.0| 1.0| 1.0| 1.0| 1.0| 1.0|70177.0|111133.0|77015.0|   0.0|   0.0| 877.0| 75.0|1961.0|465.0|69012.0|102744.0|73206.0|1165.0|6428.0|2932.0| null| null| null| 0.0| 0.0| 0.0|null|null|null|null| 0.0|null|null|null| null| null| null|73.0|null|null|null| 0.0| 0.0|null|null|null|null|null| 0.0|null|null|null|null| 0.0| 0.0|null|null|null| 0.0| 0.0|null|null| 0.0|null|null|null|   null|   null|   null|  null|  null|  null|  null|  0.0|  0.0|  0.0|   null|   null|   null|  null|  null|  null|620.0|698.0| 0.0| 1.0| 1.0| 0.0|26.0| 0.0| 9.0| 1.0| 1.0| 1.0| 2.0| 1.0|609.0| 992.0|655.0|71.0|11.0|71.0|34.0| 0.0| 0.0| 2.0| 5.0| 3.0| 1.0|70813.0|116874.0|78386.0|   0.0|2191.0|   0.0| 942.0|100.0|740.0|100.0|69648.0|107457.0|73842.0|1165.0|7226.0|3602.0|620.0|1096.0|700.0| 0.0|27.0|10.0|11.0|77.0|35.0|70813.0|117467.0|78551.0|   0.0|2301.0|1052.0|1165.0|7709.0|3657.0|   1.2838568256E12|-10.0|1102.0|  0.0|  0.0|  6.0|  0.0| null| null|  0.0|  0.0|100.0|Found| 52.0|-300.0|Found|Found|166.0| null|633.0|533.0| null| null| null| null| null| null| null|Found|Found|Windows 10|  edge 16.0| 24.0| 1366x768|match_status:2|    T|    F|    T|    F|   desktop|   Windows|\n",
      "|      3548611|      0|     14864408|         106.0|        S|15775|481.0|150.0|mastercard|102.0|credit|330.0| 87.0| null| null|         null|    yahoo.com|5.0|3.0|0.0|3.0|0.0|0.0|0.0|8.0|0.0|3.0|5.0|0.0|61.0|5.0|43.0|43.0| 0.0|null|null|256.0| 0.0| 27.04166603088379|0.04166600108146668|253.0|null|null|27.0| null| null|null|null|null|null|null|null|null|null|null|null|null|null|null|null|null|null|null|null|null|null| 0.0| 0.0| 1.0| 0.0| 0.0| 1.0| 1.0| 0.0| 0.0| 1.0| 1.0| 1.0| 1.0| 1.0| 1.0| 0.0| 0.0| 0.0| 0.0| 1.0| 1.0| 0.0| 0.0|null|null|null|null|null|null|null|null|null|null|null|null|null|null|null|null|null|null| 0.0| 0.0| 1.0| 1.0| 0.0| 0.0| 1.0| 1.0| 0.0| 0.0| 1.0| 1.0| 1.0| 1.0| 1.0| 0.0| 0.0| 0.0| 1.0| 1.0| 0.0| 0.0|null|null|null|null|null|null|null|null|null|null|null|null|null|null|null|null|null|null|null|null|839.0|1314.0|918.0|0.0|27.0| 9.0|828.0|1210.0|874.0|11.0|77.0|35.0| 1.0| 1.0| 1.0| 1.0| 1.0| 1.0| 1.0| 1.0| 1.0| 1.0| 1.0| 1.0| 1.0| 1.0| 1.0| 1.0| 1.0| 4.0| 2.0|90555.0|137103.0|98183.0|   0.0|2301.0| 942.0|89390.0|127093.0|93584.0|1165.0|7709.0|3657.0| 0.0| 0.0| 0.0| 0.0| 0.0|828.0|11.0|35.0| 0.0| 0.0| 0.0| 0.0| 1.0| 1.0| 2.0| 0.0| 0.0| 0.0| 0.0| 0.0| 0.0|   0.0|2401.0|  0.0|  0.0|  0.0|89390.0|93584.0|1165.0|831.0|901.0| 0.0| 1.0|14.0| 0.0| 0.0| 1.0| 7.0| 1.0|820.0|1163.0|866.0|61.0|11.0|61.0|27.0| 0.0| 3.0| 1.0| 1.0| 1.0| 1.0| 1.0| 1.0| 1.0| 1.0| 1.0| 1.0| 1.0| 1.0| 1.0| 1.0| 1.0| 1.0|89707.0|130663.0|96545.0|   0.0|   0.0| 877.0| 75.0|1961.0|465.0|88542.0|122274.0|92736.0|1165.0|6428.0|2932.0| null| null| null| 0.0| 0.0| 0.0|null|null|null|null| 0.0|null|null|null| null| null| null|73.0|null|null|null| 0.0| 0.0|null|null|null|null|null| 0.0|null|null|null|null| 0.0| 0.0|null|null|null| 0.0| 0.0|null|null| 0.0|null|null|null|   null|   null|   null|  null|  null|  null|  null|  0.0|  0.0|  0.0|   null|   null|   null|  null|  null|  null|839.0|917.0| 0.0| 1.0| 1.0| 0.0|26.0| 0.0| 9.0| 1.0| 1.0| 1.0| 2.0| 1.0|828.0|1211.0|874.0|71.0|11.0|71.0|34.0| 0.0| 0.0| 2.0| 5.0| 3.0| 1.0|90555.0|136616.0|98128.0|   0.0|2191.0|   0.0| 942.0|100.0|740.0|100.0|89390.0|127199.0|93584.0|1165.0|7226.0|3602.0|839.0|1315.0|918.0| 0.0|27.0| 9.0|11.0|77.0|35.0|90555.0|137209.0|98183.0|   0.0|2301.0| 942.0|1165.0|7709.0|3657.0|   1.2842848512E12|-10.0|1102.0|  0.0|  0.0| null| null| null| null|  0.0|  0.0|100.0|Found| 27.0|  null|Found|Found| null| null| null| null| null| null| null| null| null| null| null|Found|Found|      null|       null| null|     null|match_status:2|    T|    F|    T|    F|   desktop|      null|\n",
      "|      3548612|      0|     14864414|         106.0|        S|15775|481.0|150.0|mastercard|102.0|credit|330.0| 87.0| null| null|         null|    yahoo.com|5.0|3.0|0.0|3.0|0.0|0.0|0.0|8.0|0.0|3.0|5.0|0.0|61.0|5.0|43.0|43.0| 0.0|null|null|256.0| 0.0| 27.04166603088379|0.04166600108146668|253.0|null|null|27.0| null| null|null|null|null|null|null|null|null|null|null|null|null|null|null|null|null|null|null|null|null|null| 0.0| 0.0| 1.0| 0.0| 0.0| 1.0| 1.0| 0.0| 0.0| 1.0| 1.0| 1.0| 1.0| 1.0| 1.0| 0.0| 0.0| 0.0| 0.0| 1.0| 1.0| 0.0| 0.0|null|null|null|null|null|null|null|null|null|null|null|null|null|null|null|null|null|null| 0.0| 0.0| 1.0| 1.0| 0.0| 0.0| 1.0| 1.0| 0.0| 0.0| 1.0| 1.0| 1.0| 1.0| 1.0| 0.0| 0.0| 0.0| 1.0| 1.0| 0.0| 0.0|null|null|null|null|null|null|null|null|null|null|null|null|null|null|null|null|null|null|null|null|840.0|1315.0|919.0|0.0|27.0| 9.0|829.0|1211.0|875.0|11.0|77.0|35.0| 1.0| 1.0| 1.0| 1.0| 1.0| 1.0| 1.0| 1.0| 1.0| 1.0| 1.0| 1.0| 1.0| 1.0| 1.0| 1.0| 1.0| 4.0| 2.0|90661.0|137209.0|98289.0|   0.0|2301.0| 942.0|89496.0|127199.0|93690.0|1165.0|7709.0|3657.0| 0.0| 0.0| 0.0| 0.0| 0.0|829.0|11.0|35.0| 0.0| 0.0| 0.0| 0.0| 1.0| 1.0| 2.0| 0.0| 0.0| 0.0| 0.0| 0.0| 0.0|   0.0|2401.0|  0.0|  0.0|  0.0|89496.0|93690.0|1165.0|832.0|902.0| 0.0| 1.0|14.0| 0.0| 0.0| 1.0| 7.0| 1.0|821.0|1164.0|867.0|61.0|11.0|61.0|27.0| 0.0| 3.0| 1.0| 1.0| 1.0| 1.0| 1.0| 1.0| 1.0| 1.0| 1.0| 1.0| 1.0| 1.0| 1.0| 1.0| 1.0| 1.0|89813.0|130769.0|96651.0|   0.0|   0.0| 877.0| 75.0|1961.0|465.0|88648.0|122380.0|92842.0|1165.0|6428.0|2932.0| null| null| null| 0.0| 0.0| 0.0|null|null|null|null| 0.0|null|null|null| null| null| null|73.0|null|null|null| 0.0| 0.0|null|null|null|null|null| 0.0|null|null|null|null| 0.0| 0.0|null|null|null| 0.0| 0.0|null|null| 0.0|null|null|null|   null|   null|   null|  null|  null|  null|  null|  0.0|  0.0|  0.0|   null|   null|   null|  null|  null|  null|840.0|918.0| 0.0| 1.0| 1.0| 0.0|26.0| 0.0| 9.0| 1.0| 1.0| 1.0| 2.0| 1.0|829.0|1212.0|875.0|71.0|11.0|71.0|34.0| 0.0| 0.0| 2.0| 5.0| 3.0| 1.0|90661.0|136722.0|98234.0|   0.0|2191.0|   0.0| 942.0|100.0|740.0|100.0|89496.0|127305.0|93690.0|1165.0|7226.0|3602.0|840.0|1316.0|919.0| 0.0|27.0| 9.0|11.0|77.0|35.0|90661.0|137315.0|98289.0|   0.0|2301.0| 942.0|1165.0|7709.0|3657.0|   1.2842853696E12|-10.0|1102.0|  0.0|  0.0| null| null| null| null|  0.0|  0.0|100.0|Found| 27.0|  null|Found|Found| null| null| null| null| null| null| null| null| null| null| null|Found|Found|      null|       null| null|     null|match_status:2|    T|    F|    T|    F|   desktop|      null|\n",
      "+-------------+-------+-------------+--------------+---------+-----+-----+-----+----------+-----+------+-----+-----+-----+-----+-------------+-------------+---+---+---+---+---+---+---+---+---+---+---+---+----+---+----+----+----+----+----+-----+----+------------------+-------------------+-----+----+----+----+-----+-----+----+----+----+----+----+----+----+----+----+----+----+----+----+----+----+----+----+----+----+----+----+----+----+----+----+----+----+----+----+----+----+----+----+----+----+----+----+----+----+----+----+----+----+----+----+----+----+----+----+----+----+----+----+----+----+----+----+----+----+----+----+----+----+----+----+----+----+----+----+----+----+----+----+----+----+----+----+----+----+----+----+----+----+----+----+----+----+----+----+----+----+----+----+----+----+----+----+----+----+----+----+----+----+-----+------+-----+---+----+----+-----+------+-----+----+----+----+----+----+----+----+----+----+----+----+----+----+----+----+----+----+----+----+----+----+----+-------+--------+-------+------+------+------+-------+--------+-------+------+------+------+----+----+----+----+----+-----+----+----+----+----+----+----+----+----+----+----+----+----+----+----+----+------+------+-----+-----+-----+-------+-------+------+-----+-----+----+----+----+----+----+----+----+----+-----+------+-----+----+----+----+----+----+----+----+----+----+----+----+----+----+----+----+----+----+----+----+----+----+----+-------+--------+-------+------+------+------+-----+------+-----+-------+--------+-------+------+------+------+-----+-----+-----+----+----+----+----+----+----+----+----+----+----+----+-----+-----+-----+----+----+----+----+----+----+----+----+----+----+----+----+----+----+----+----+----+----+----+----+----+----+----+----+----+----+----+----+----+-------+-------+-------+------+------+------+------+-----+-----+-----+-------+-------+-------+------+------+------+-----+-----+----+----+----+----+----+----+----+----+----+----+----+----+-----+------+-----+----+----+----+----+----+----+----+----+----+----+-------+--------+-------+------+------+------+------+-----+-----+-----+-------+--------+-------+------+------+------+-----+------+-----+----+----+----+----+----+----+-------+--------+-------+------+------+------+------+------+------+------------------+-----+------+-----+-----+-----+-----+-----+-----+-----+-----+-----+-----+-----+------+-----+-----+-----+-----+-----+-----+-----+-----+-----+-----+-----+-----+-----+-----+-----+----------+-----------+-----+---------+--------------+-----+-----+-----+-----+----------+----------+\n",
      "\n"
     ]
    }
   ],
   "source": [
    "# Let's see in depth id_02 == 11.\n",
    "df_tr.join(df_id, on='TransactionID', how='inner')\\\n",
    "     .filter(df_id['id_02'] == 1102)\\\n",
    "     .orderBy(fx.col('TransactionDT').asc()).show()"
   ]
  },
  {
   "cell_type": "code",
   "execution_count": 47,
   "metadata": {},
   "outputs": [
    {
     "name": "stdout",
     "output_type": "stream",
     "text": [
      "+-------------+-------+-------------+--------------+---------+-----+-----+-----+-----+-----+------+-----+-----+-----+-----+-------------+-------------+---+---+---+---+---+---+---+---+---+---+---+---+---+---+---+----+----+----+----+----+----+-----+----+---+----+----+----+----+---+----+----+----+----+----+----+----+----+----+----+----+----+----+----+----+----+----+----+----+----+---+---+---+---+---+---+---+---+---+---+---+---+---+---+---+---+---+---+---+---+---+---+---+----+----+----+----+----+----+----+----+----+----+----+----+----+----+----+----+----+----+---+---+---+---+---+---+---+---+---+---+---+---+---+---+---+---+---+---+---+---+---+---+---+---+---+---+---+---+---+---+---+---+---+---+---+---+---+---+---+---+---+---+---+---+---+---+---+----+----+----+----+----+----+----+----+----+----+----+----+----+----+----+----+----+----+----+----+----+----+----+----+----+----+----+----+----+----+----+----+----+----+----+----+----+----+----+----+----+----+----+----+----+----+----+----+----+----+----+----+----+----+----+----+----+----+----+----+----+----+----+----+----+----+----+----+----+----+----+----+----+----+----+----+----+----+----+----+----+----+----+----+----+----+----+----+----+----+----+----+----+----+----+----+----+----+----+----+----+----+----+------------------+----+----+----+----+------------------+------------------+------------------+----+----+----+----+----+----+----+----+----+----+----+----+----+----+----+----+----+----+----+----+----+----+----+----+----+----+----+----+----+----+----+----+----+----+----+----+----+----+----+----+----+----+----+----+----+----+----+----+----+----+----+----+----+----+----+----+----+----+----+----+----+----+----+----+----+----+----+----+----+----+----+----+----+----+----+----+----+----+----+----+----+----+----+----+----+----+----+----+----+----+----+----+----+----+----+----+----+----+----+----+----+----+----+----+----+----+----+----+----+----+----+----+----+----+----+----+----+----+----+----+----+----+----+----+----+----+----+----+----+------------------+-----------------------------+\n",
      "|TransactionID|isFraud|TransactionDT|TransactionAmt|ProductCD|card1|card2|card3|card4|card5|card6 |addr1|addr2|dist1|dist2|P_emaildomain|R_emaildomain|C1 |C2 |C3 |C4 |C5 |C6 |C7 |C8 |C9 |C10|C11|C12|C13|C14|D1 |D2  |D3  |D4  |D5  |D6  |D7  |D8   |D9  |D10|D11 |D12 |D13 |D14 |D15|M1  |M2  |M3  |M4  |M5  |M6  |M7  |M8  |M9  |V1  |V2  |V3  |V4  |V5  |V6  |V7  |V8  |V9  |V10 |V11 |V12|V13|V14|V15|V16|V17|V18|V19|V20|V21|V22|V23|V24|V25|V26|V27|V28|V29|V30|V31|V32|V33|V34|V35 |V36 |V37 |V38 |V39 |V40 |V41 |V42 |V43 |V44 |V45 |V46 |V47 |V48 |V49 |V50 |V51 |V52 |V53|V54|V55|V56|V57|V58|V59|V60|V61|V62|V63|V64|V65|V66|V67|V68|V69|V70|V71|V72|V73|V74|V75|V76|V77|V78|V79|V80|V81|V82|V83|V84|V85|V86|V87|V88|V89|V90|V91|V92|V93|V94|V95|V96|V97|V98|V99|V100|V101|V102|V103|V104|V105|V106|V107|V108|V109|V110|V111|V112|V113|V114|V115|V116|V117|V118|V119|V120|V121|V122|V123|V124|V125|V126|V127|V128|V129|V130|V131|V132|V133|V134|V135|V136|V137|V138|V139|V140|V141|V142|V143|V144|V145|V146|V147|V148|V149|V150|V151|V152|V153|V154|V155|V156|V157|V158|V159|V160|V161|V162|V163|V164|V165|V166|V167|V168|V169|V170|V171|V172|V173|V174|V175|V176|V177|V178|V179|V180|V181|V182|V183|V184|V185|V186|V187|V188|V189|V190|V191|V192|V193|V194|V195|V196|V197|V198|V199|V200|V201|V202|V203              |V204|V205|V206|V207|V208              |V209              |V210              |V211|V212|V213|V214|V215|V216|V217|V218|V219|V220|V221|V222|V223|V224|V225|V226|V227|V228|V229|V230|V231|V232|V233|V234|V235|V236|V237|V238|V239|V240|V241|V242|V243|V244|V245|V246|V247|V248|V249|V250|V251|V252|V253|V254|V255|V256|V257|V258|V259|V260|V261|V262|V263|V264|V265|V266|V267|V268|V269|V270|V271|V272|V273|V274|V275|V276|V277|V278|V279|V280|V281|V282|V283|V284|V285|V286|V287|V288|V289|V290|V291|V292|V293|V294|V295|V296|V297|V298|V299|V300|V301|V302|V303|V304|V305|V306|V307|V308|V309|V310|V311|V312|V313|V314|V315|V316|V317|V318|V319|V320|V321|V322|V323|V324|V325|V326|V327|V328|V329|V330|V331|V332|V333|V334|V335|V336|V337|V338|V339|TransactionDT_days|card_concat                  |\n",
      "+-------------+-------+-------------+--------------+---------+-----+-----+-----+-----+-----+------+-----+-----+-----+-----+-------------+-------------+---+---+---+---+---+---+---+---+---+---+---+---+---+---+---+----+----+----+----+----+----+-----+----+---+----+----+----+----+---+----+----+----+----+----+----+----+----+----+----+----+----+----+----+----+----+----+----+----+----+---+---+---+---+---+---+---+---+---+---+---+---+---+---+---+---+---+---+---+---+---+---+---+----+----+----+----+----+----+----+----+----+----+----+----+----+----+----+----+----+----+---+---+---+---+---+---+---+---+---+---+---+---+---+---+---+---+---+---+---+---+---+---+---+---+---+---+---+---+---+---+---+---+---+---+---+---+---+---+---+---+---+---+---+---+---+---+---+----+----+----+----+----+----+----+----+----+----+----+----+----+----+----+----+----+----+----+----+----+----+----+----+----+----+----+----+----+----+----+----+----+----+----+----+----+----+----+----+----+----+----+----+----+----+----+----+----+----+----+----+----+----+----+----+----+----+----+----+----+----+----+----+----+----+----+----+----+----+----+----+----+----+----+----+----+----+----+----+----+----+----+----+----+----+----+----+----+----+----+----+----+----+----+----+----+----+----+----+----+----+----+------------------+----+----+----+----+------------------+------------------+------------------+----+----+----+----+----+----+----+----+----+----+----+----+----+----+----+----+----+----+----+----+----+----+----+----+----+----+----+----+----+----+----+----+----+----+----+----+----+----+----+----+----+----+----+----+----+----+----+----+----+----+----+----+----+----+----+----+----+----+----+----+----+----+----+----+----+----+----+----+----+----+----+----+----+----+----+----+----+----+----+----+----+----+----+----+----+----+----+----+----+----+----+----+----+----+----+----+----+----+----+----+----+----+----+----+----+----+----+----+----+----+----+----+----+----+----+----+----+----+----+----+----+----+----+----+----+----+----+----+----+------------------+-----------------------------+\n",
      "|2987065      |0      |87650        |114.95        |W        |17188|321.0|150.0|visa |226.0|debit |299.0|87.0 |1.0  |null |null         |null         |1.0|1.0|0.0|0.0|1.0|0.0|0.0|0.0|1.0|0.0|1.0|0.0|1.0|1.0|0.0|null|null|null|null|null|null|null |null|0.0|0.0 |null|null|null|0.0|T   |T   |T   |null|null|T   |F   |F   |T   |1.0 |1.0 |1.0 |0.0 |0.0 |1.0 |1.0 |1.0 |1.0 |1.0 |1.0 |1.0|1.0|1.0|0.0|0.0|0.0|0.0|0.0|0.0|0.0|0.0|1.0|1.0|1.0|1.0|0.0|0.0|1.0|1.0|0.0|0.0|0.0|0.0|null|null|null|null|null|null|null|null|null|null|null|null|null|null|null|null|null|null|1.0|1.0|1.0|1.0|0.0|0.0|0.0|0.0|0.0|0.0|0.0|0.0|1.0|1.0|1.0|0.0|1.0|1.0|0.0|0.0|0.0|0.0|1.0|1.0|1.0|1.0|0.0|0.0|0.0|0.0|0.0|0.0|0.0|1.0|1.0|1.0|0.0|1.0|1.0|0.0|0.0|0.0|0.0|0.0|0.0|0.0|0.0|0.0 |0.0 |0.0 |0.0 |0.0 |0.0 |0.0 |1.0 |1.0 |1.0 |1.0 |1.0 |1.0 |1.0 |1.0 |1.0 |1.0 |1.0 |1.0 |1.0 |1.0 |1.0 |1.0 |1.0 |1.0 |1.0 |0.0 |0.0 |0.0 |0.0 |0.0 |0.0 |0.0 |0.0 |0.0 |0.0 |0.0 |0.0 |null|null|null|null|null|null|null|null|null|null|null|null|null|null|null|null|null|null|null|null|null|null|null|null|null|null|null|null|null|null|null|null|null|null|null|null|null|null|null|null|null|null|null|null|null|null|null|null|null|null|null|null|null|null|null|null|null|null|null|null|null|null|null|null|null|null              |null|null|null|null|null              |null              |null              |null|null|null|null|null|null|null|null|null|null|null|null|null|null|null|null|null|null|null|null|null|null|null|null|null|null|null|null|null|null|null|null|null|null|null|null|null|null|null|null|null|null|null|null|null|null|null|null|null|null|null|null|null|null|null|null|null|null|null|null|null|null|null|null|null|null|null|null|0.0 |0.0 |0.0 |1.0 |1.0 |0.0 |0.0 |0.0 |0.0 |0.0 |0.0 |1.0 |1.0 |1.0 |0.0 |0.0 |0.0 |0.0 |0.0 |0.0 |0.0 |0.0 |0.0 |0.0 |0.0 |0.0 |1.0 |0.0 |0.0 |0.0 |0.0 |0.0 |0.0 |0.0 |0.0 |0.0 |0.0 |0.0 |0.0 |0.0 |0.0 |0.0 |0.0 |null|null|null|null|null|null|null|null|null|null|null|null|null|null|null|null|null|null|7.57296E9         |17188_321_150_visa_226_debit |\n",
      "|2987209      |0      |89836        |21.993        |C        |10876|104.0|185.0|visa |137.0|credit|null |null |null |4.0  |anonymous.com|anonymous.com|2.0|2.0|0.0|1.0|0.0|1.0|1.0|1.0|0.0|2.0|2.0|2.0|2.0|2.0|0.0|null|null|24.0|24.0|24.0|24.0|549.0|0.0 |0.0|null|24.0|24.0|0.0 |0.0|null|null|null|M0  |null|null|null|null|null|null|null|null|null|null|null|null|null|null|null|null|0.0|0.0|1.0|1.0|1.0|1.0|1.0|1.0|1.0|1.0|1.0|1.0|1.0|1.0|1.0|0.0|0.0|0.0|0.0|1.0|1.0|1.0|1.0|0.0 |0.0 |1.0 |1.0 |1.0 |1.0 |1.0 |1.0 |1.0 |1.0 |1.0 |1.0 |1.0 |0.0 |0.0 |1.0 |1.0 |1.0 |0.0|0.0|1.0|1.0|1.0|1.0|1.0|1.0|1.0|1.0|1.0|1.0|1.0|1.0|1.0|0.0|0.0|0.0|1.0|1.0|1.0|1.0|0.0|0.0|1.0|1.0|1.0|1.0|1.0|1.0|1.0|1.0|1.0|1.0|1.0|1.0|0.0|0.0|0.0|1.0|1.0|1.0|0.0|0.0|0.0|0.0|0.0|0.0 |0.0 |0.0 |0.0 |0.0 |0.0 |0.0 |1.0 |1.0 |1.0 |1.0 |1.0 |1.0 |1.0 |1.0 |1.0 |1.0 |1.0 |1.0 |1.0 |1.0 |1.0 |1.0 |1.0 |1.0 |1.0 |0.0 |0.0 |0.0 |0.0 |0.0 |0.0 |0.0 |0.0 |0.0 |0.0 |0.0 |0.0 |null|null|null|null|null|null|null|null|null|null|null|null|null|null|null|null|null|null|null|null|null|null|null|null|null|null|null|null|null|0.0 |0.0 |0.0 |1.0 |1.0 |0.0 |0.0 |1.0 |1.0 |1.0 |0.0 |0.0 |0.0 |0.0 |0.0 |0.0 |0.0 |0.0 |0.0 |1.0 |1.0 |1.0 |1.0 |1.0 |1.0 |1.0 |1.0 |1.0 |1.0 |1.0 |1.0 |1.0 |1.0 |1.0 |1.0 |0.0 |25.013900756835934|0.0 |0.0 |0.0 |0.0 |25.013900756835934|25.013900756835934|25.013900756835934|0.0 |0.0 |0.0 |0.0 |0.0 |0.0 |0.0 |0.0 |0.0 |0.0 |1.0 |1.0 |0.0 |0.0 |0.0 |0.0 |0.0 |1.0 |1.0 |1.0 |0.0 |0.0 |0.0 |0.0 |0.0 |0.0 |0.0 |0.0 |0.0 |1.0 |1.0 |1.0 |1.0 |1.0 |1.0 |1.0 |1.0 |1.0 |1.0 |1.0 |1.0 |1.0 |1.0 |1.0 |1.0 |1.0 |1.0 |1.0 |1.0 |1.0 |1.0 |1.0 |0.0 |0.0 |0.0 |0.0 |0.0 |0.0 |0.0 |0.0 |0.0 |0.0 |0.0 |0.0 |0.0 |0.0 |0.0 |0.0 |0.0 |0.0 |0.0 |1.0 |1.0 |0.0 |0.0 |0.0 |0.0 |0.0 |0.0 |1.0 |1.0 |1.0 |0.0 |0.0 |0.0 |0.0 |0.0 |0.0 |0.0 |0.0 |0.0 |1.0 |1.0 |1.0 |1.0 |0.0 |0.0 |0.0 |0.0 |0.0 |0.0 |0.0 |0.0 |0.0 |0.0 |0.0 |0.0 |0.0 |0.0 |0.0 |0.0 |null|null|null|null|null|null|null|null|null|null|null|null|null|null|null|null|null|null|7.7618304E9       |10876_104_185_visa_137_credit|\n",
      "+-------------+-------+-------------+--------------+---------+-----+-----+-----+-----+-----+------+-----+-----+-----+-----+-------------+-------------+---+---+---+---+---+---+---+---+---+---+---+---+---+---+---+----+----+----+----+----+----+-----+----+---+----+----+----+----+---+----+----+----+----+----+----+----+----+----+----+----+----+----+----+----+----+----+----+----+----+---+---+---+---+---+---+---+---+---+---+---+---+---+---+---+---+---+---+---+---+---+---+---+----+----+----+----+----+----+----+----+----+----+----+----+----+----+----+----+----+----+---+---+---+---+---+---+---+---+---+---+---+---+---+---+---+---+---+---+---+---+---+---+---+---+---+---+---+---+---+---+---+---+---+---+---+---+---+---+---+---+---+---+---+---+---+---+---+----+----+----+----+----+----+----+----+----+----+----+----+----+----+----+----+----+----+----+----+----+----+----+----+----+----+----+----+----+----+----+----+----+----+----+----+----+----+----+----+----+----+----+----+----+----+----+----+----+----+----+----+----+----+----+----+----+----+----+----+----+----+----+----+----+----+----+----+----+----+----+----+----+----+----+----+----+----+----+----+----+----+----+----+----+----+----+----+----+----+----+----+----+----+----+----+----+----+----+----+----+----+----+------------------+----+----+----+----+------------------+------------------+------------------+----+----+----+----+----+----+----+----+----+----+----+----+----+----+----+----+----+----+----+----+----+----+----+----+----+----+----+----+----+----+----+----+----+----+----+----+----+----+----+----+----+----+----+----+----+----+----+----+----+----+----+----+----+----+----+----+----+----+----+----+----+----+----+----+----+----+----+----+----+----+----+----+----+----+----+----+----+----+----+----+----+----+----+----+----+----+----+----+----+----+----+----+----+----+----+----+----+----+----+----+----+----+----+----+----+----+----+----+----+----+----+----+----+----+----+----+----+----+----+----+----+----+----+----+----+----+----+----+----+------------------+-----------------------------+\n",
      "only showing top 2 rows\n",
      "\n"
     ]
    }
   ],
   "source": [
    "# Alternative: what if the focus on the card information instead of the user.\n",
    "# ex: in my wallet there is a credit card 1 for day-to-day purchaise (like clothes and market) and a credit card 2 for more expensive things (like buying a car).\n",
    "\n",
    "# Create a column concatenating credit card information.\n",
    "df_tr = df_tr.withColumn(\"card_concat\", fx.concat(\n",
    "        fx.col(\"card1\"), fx.lit(\"_\"),\n",
    "        fx.col(\"card2\").cast('int').cast('string'), fx.lit(\"_\"),\n",
    "        fx.col(\"card3\").cast('int').cast('string'), fx.lit(\"_\"),\n",
    "        fx.col(\"card4\"), fx.lit(\"_\"),\n",
    "        fx.col(\"card5\").cast('int').cast('string'), fx.lit(\"_\"),\n",
    "        fx.col(\"card6\")\n",
    "    )\n",
    ")\n",
    "df_tr.show(2, 0)"
   ]
  },
  {
   "cell_type": "code",
   "execution_count": 48,
   "metadata": {},
   "outputs": [
    {
     "name": "stdout",
     "output_type": "stream",
     "text": [
      "+-----------+------------------+-----------------+\n",
      "|number_card|round(avg(qty), 1)|round(avg(vl), 1)|\n",
      "+-----------+------------------+-----------------+\n",
      "|      13691|              43.1|            148.9|\n",
      "+-----------+------------------+-----------------+\n",
      "\n"
     ]
    }
   ],
   "source": [
    "# What is the average number of transactions and average amount value by card_concat?\n",
    "df_tr.createOrReplaceTempView(\"transaction\")\n",
    "spark.sql('''\n",
    "    SELECT  COUNT(card_concat) AS number_card,\n",
    "            ROUND(AVG(qty), 1),\n",
    "            ROUND(AVG(vl), 1)\n",
    "    FROM (\n",
    "        SELECT DISTINCT \n",
    "            card_concat,\n",
    "            COUNT(TransactionID) AS qty,\n",
    "            ROUND(AVG(TransactionAmt), 1) AS vl\n",
    "        FROM transaction\n",
    "        GROUP BY 1\n",
    "    )\n",
    "''').show()"
   ]
  },
  {
   "cell_type": "code",
   "execution_count": 49,
   "metadata": {},
   "outputs": [
    {
     "name": "stdout",
     "output_type": "stream",
     "text": [
      "+---------------------------------------+\n",
      "|(((max(TransactionDT) / 60) / 60) / 24)|\n",
      "+---------------------------------------+\n",
      "|                     115.74063657407407|\n",
      "+---------------------------------------+\n",
      "\n"
     ]
    }
   ],
   "source": [
    "# What is the windows time for the dataset?\n",
    "spark.sql('SELECT MAX(TransactionDT) / 60 / 60 / 24 FROM transaction').show()"
   ]
  },
  {
   "cell_type": "code",
   "execution_count": 50,
   "metadata": {},
   "outputs": [
    {
     "name": "stdout",
     "output_type": "stream",
     "text": [
      "+-------------+-------+-------------+--------------+---------+-----+-----+-----+-----+-----+-----+-----+-----+------+-----+-------------+-------------+---+---+---+---+---+---+---+---+---+---+---+---+----+---+-----+-----+----+-----+-----+----+----+-----------------+-------------------+-----+-----+----+----+----+-----+----+----+----+----+----+----+----+----+----+----+----+----+----+----+----+----+----+----+----+----+----+----+----+----+----+----+----+----+----+----+----+----+----+----+----+----+----+----+----+----+----+----+----+----+----+----+----+----+----+----+----+----+----+----+----+----+----+----+----+----+----+----+----+----+----+----+----+----+----+----+----+----+----+----+----+----+----+----+----+----+----+----+----+----+----+----+----+----+----+----+----+----+----+----+----+----+----+----+----+----+----+----+----+---+---+---+---+---+----+----+----+----+----+----+----+----+----+----+----+----+----+----+----+----+----+----+----+----+----+----+----+----+----+----+------+-----------------+------+-----+-----------------+-----+------+------+------+----+----+----+----+----+----+----+----+----+----+-----+----+----+----+----+------+----+----+----+----+----+----+----+----+---------------+-------------+----+----+----+------+-------+----------------+----+----+----+----+----+----+----+----+----+----+----+----+----+----+----+----+----+----+----+----+----+----+----+----+----+----+----+----+----+----+----+----+----+----+----+----+----+----+----+----+----+----+----+----+----+----+----+----+----+----+----+----+----+----+----+----+----+----+----+----+----+----+----+----+----+----+----+----+----+----+----+----+----+----+----+----+----+----+----+----+----+----+----+----+----+----+----+----+----+----+----+----+----+----+----+----+----+----+----+----+----+----+----+----+----+----+----+----+----+----+----+----+----+----+----+----+----+----+----+----+----+----+----+----+----+----+----+----+----+----+----+----+----+----+----+----+----+----+----+------------------+------------------+------------------+-----------------+------------------+-----------------+-----------------+-----------------+------------------+------------------+-----------------+-----------------+-----------------+-----------------+-----------------+-----------------+----+----+----+----+----+----+----+----+----+----+----+----+----+----+----+----+----+----+------------------+--------------------+\n",
      "|TransactionID|isFraud|TransactionDT|TransactionAmt|ProductCD|card1|card2|card3|card4|card5|card6|addr1|addr2| dist1|dist2|P_emaildomain|R_emaildomain| C1| C2| C3| C4| C5| C6| C7| C8| C9|C10|C11|C12| C13|C14|   D1|   D2|  D3|   D4|   D5|  D6|  D7|               D8|                 D9|  D10|  D11| D12| D13| D14|  D15|  M1|  M2|  M3|  M4|  M5|  M6|  M7|  M8|  M9|  V1|  V2|  V3|  V4|  V5|  V6|  V7|  V8|  V9| V10| V11| V12| V13| V14| V15| V16| V17| V18| V19| V20| V21| V22| V23| V24| V25| V26| V27| V28| V29| V30| V31| V32| V33| V34| V35| V36| V37| V38| V39| V40| V41| V42| V43| V44| V45| V46| V47| V48| V49| V50| V51| V52| V53| V54| V55| V56| V57| V58| V59| V60| V61| V62| V63| V64| V65| V66| V67| V68| V69| V70| V71| V72| V73| V74| V75| V76| V77| V78| V79| V80| V81| V82| V83| V84| V85| V86| V87| V88| V89| V90| V91| V92| V93| V94|V95|V96|V97|V98|V99|V100|V101|V102|V103|V104|V105|V106|V107|V108|V109|V110|V111|V112|V113|V114|V115|V116|V117|V118|V119|V120|V121|V122|V123|V124|V125|  V126|             V127|  V128| V129|             V130| V131|  V132|  V133|  V134|V135|V136|V137|V138|V139|V140|V141|V142|V143|V144| V145|V146|V147|V148|V149|  V150|V151|V152|V153|V154|V155|V156|V157|V158|           V159|         V160|V161|V162|V163|  V164|   V165|            V166|V167|V168|V169|V170|V171|V172|V173|V174|V175|V176|V177|V178|V179|V180|V181|V182|V183|V184|V185|V186|V187|V188|V189|V190|V191|V192|V193|V194|V195|V196|V197|V198|V199|V200|V201|V202|V203|V204|V205|V206|V207|V208|V209|V210|V211|V212|V213|V214|V215|V216|V217|V218|V219|V220|V221|V222|V223|V224|V225|V226|V227|V228|V229|V230|V231|V232|V233|V234|V235|V236|V237|V238|V239|V240|V241|V242|V243|V244|V245|V246|V247|V248|V249|V250|V251|V252|V253|V254|V255|V256|V257|V258|V259|V260|V261|V262|V263|V264|V265|V266|V267|V268|V269|V270|V271|V272|V273|V274|V275|V276|V277|V278|V279|V280|V281|V282|V283|V284|V285|V286|V287|V288|V289|V290|V291|V292|V293|V294|V295|V296|V297|V298|V299|V300|V301|V302|V303|V304|V305|              V306|              V307|              V308|             V309|              V310|             V311|             V312|             V313|              V314|              V315|             V316|             V317|             V318|             V319|             V320|             V321|V322|V323|V324|V325|V326|V327|V328|V329|V330|V331|V332|V333|V334|V335|V336|V337|V338|V339|TransactionDT_days|         card_concat|\n",
      "+-------------+-------+-------------+--------------+---------+-----+-----+-----+-----+-----+-----+-----+-----+------+-----+-------------+-------------+---+---+---+---+---+---+---+---+---+---+---+---+----+---+-----+-----+----+-----+-----+----+----+-----------------+-------------------+-----+-----+----+----+----+-----+----+----+----+----+----+----+----+----+----+----+----+----+----+----+----+----+----+----+----+----+----+----+----+----+----+----+----+----+----+----+----+----+----+----+----+----+----+----+----+----+----+----+----+----+----+----+----+----+----+----+----+----+----+----+----+----+----+----+----+----+----+----+----+----+----+----+----+----+----+----+----+----+----+----+----+----+----+----+----+----+----+----+----+----+----+----+----+----+----+----+----+----+----+----+----+----+----+----+----+----+----+----+----+---+---+---+---+---+----+----+----+----+----+----+----+----+----+----+----+----+----+----+----+----+----+----+----+----+----+----+----+----+----+----+------+-----------------+------+-----+-----------------+-----+------+------+------+----+----+----+----+----+----+----+----+----+----+-----+----+----+----+----+------+----+----+----+----+----+----+----+----+---------------+-------------+----+----+----+------+-------+----------------+----+----+----+----+----+----+----+----+----+----+----+----+----+----+----+----+----+----+----+----+----+----+----+----+----+----+----+----+----+----+----+----+----+----+----+----+----+----+----+----+----+----+----+----+----+----+----+----+----+----+----+----+----+----+----+----+----+----+----+----+----+----+----+----+----+----+----+----+----+----+----+----+----+----+----+----+----+----+----+----+----+----+----+----+----+----+----+----+----+----+----+----+----+----+----+----+----+----+----+----+----+----+----+----+----+----+----+----+----+----+----+----+----+----+----+----+----+----+----+----+----+----+----+----+----+----+----+----+----+----+----+----+----+----+----+----+----+----+----+------------------+------------------+------------------+-----------------+------------------+-----------------+-----------------+-----------------+------------------+------------------+-----------------+-----------------+-----------------+-----------------+-----------------+-----------------+----+----+----+----+----+----+----+----+----+----+----+----+----+----+----+----+----+----+------------------+--------------------+\n",
      "|      2987065|      0|        87650|        114.95|        W|17188|321.0|150.0| visa|226.0|debit|299.0| 87.0|   1.0| null|         null|         null|1.0|1.0|0.0|0.0|1.0|0.0|0.0|0.0|1.0|0.0|1.0|0.0| 1.0|1.0|  0.0| null|null| null| null|null|null|             null|               null|  0.0|  0.0|null|null|null|  0.0|   T|   T|   T|null|null|   T|   F|   F|   T| 1.0| 1.0| 1.0| 0.0| 0.0| 1.0| 1.0| 1.0| 1.0| 1.0| 1.0| 1.0| 1.0| 1.0| 0.0| 0.0| 0.0| 0.0| 0.0| 0.0| 0.0| 0.0| 1.0| 1.0| 1.0| 1.0| 0.0| 0.0| 1.0| 1.0| 0.0| 0.0| 0.0| 0.0|null|null|null|null|null|null|null|null|null|null|null|null|null|null|null|null|null|null| 1.0| 1.0| 1.0| 1.0| 0.0| 0.0| 0.0| 0.0| 0.0| 0.0| 0.0| 0.0| 1.0| 1.0| 1.0| 0.0| 1.0| 1.0| 0.0| 0.0| 0.0| 0.0| 1.0| 1.0| 1.0| 1.0| 0.0| 0.0| 0.0| 0.0| 0.0| 0.0| 0.0| 1.0| 1.0| 1.0| 0.0| 1.0| 1.0| 0.0| 0.0| 0.0|0.0|0.0|0.0|0.0|0.0| 0.0| 0.0| 0.0| 0.0| 0.0| 0.0| 0.0| 1.0| 1.0| 1.0| 1.0| 1.0| 1.0| 1.0| 1.0| 1.0| 1.0| 1.0| 1.0| 1.0| 1.0| 1.0| 1.0| 1.0| 1.0| 1.0|   0.0|              0.0|   0.0|  0.0|              0.0|  0.0|   0.0|   0.0|   0.0| 0.0| 0.0| 0.0|null|null|null|null|null|null|null| null|null|null|null|null|  null|null|null|null|null|null|null|null|null|           null|         null|null|null|null|  null|   null|            null|null|null|null|null|null|null|null|null|null|null|null|null|null|null|null|null|null|null|null|null|null|null|null|null|null|null|null|null|null|null|null|null|null|null|null|null|null|null|null|null|null|null|null|null|null|null|null|null|null|null|null|null|null|null|null|null|null|null|null|null|null|null|null|null|null|null|null|null|null|null|null|null|null|null|null|null|null|null|null|null|null|null|null|null|null|null|null|null|null|null|null|null|null|null|null|null|null|null|null|null|null|null|null|null|null|null|null|null|null|null|null|null| 0.0| 0.0| 0.0| 1.0| 1.0| 0.0| 0.0| 0.0| 0.0| 0.0| 0.0| 1.0| 1.0| 1.0| 0.0| 0.0| 0.0| 0.0| 0.0| 0.0| 0.0| 0.0| 0.0| 0.0| 0.0| 0.0| 1.0|               0.0|               0.0|               0.0|              0.0|               0.0|              0.0|              0.0|              0.0|               0.0|               0.0|              0.0|              0.0|              0.0|              0.0|              0.0|              0.0|null|null|null|null|null|null|null|null|null|null|null|null|null|null|null|null|null|null|         7.57296E9|17188_321_150_vis...|\n",
      "|      2991427|      0|       165490|          75.0|        R|17188|321.0|150.0| visa|226.0|debit|299.0| 87.0|  null| null|    gmail.com|    gmail.com|1.0|1.0|0.0|1.0|0.0|1.0|0.0|1.0|0.0|1.0|1.0|0.0| 0.0|0.0|  0.0| null|null| null| null|null|null|          227.875|              0.875| null| null|null|null|null| null|null|null|null|null|null|null|null|null|null|null|null|null|null|null|null|null|null|null|null|null|null|null|null|null|null|null|null|null|null|null|null|null|null|null|null|null|null|null|null|null|null|null|null|null|null|null|null|null|null|null|null|null|null|null|null|null|null|null|null|null|null|null|null|null|null|null|null|null|null|null|null|null|null|null|null|null|null|null|null|null|null|null|null|null|null|null|null|null|null|null|null|null|null|null|null|null|null|null|null|null|null|null|null|0.0|0.0|0.0|0.0|0.0| 0.0| 0.0| 0.0| 0.0| 0.0| 0.0| 0.0| 1.0| 1.0| 1.0| 1.0| 1.0| 1.0| 1.0| 1.0| 1.0| 1.0| 1.0| 1.0| 1.0| 1.0| 1.0| 1.0| 1.0| 1.0| 1.0|   0.0|              0.0|   0.0|  0.0|              0.0|  0.0|   0.0|   0.0|   0.0| 0.0| 0.0| 0.0| 0.0| 1.0| 1.0| 0.0| 0.0| 0.0| 0.0|  0.0| 0.0| 0.0| 1.0| 1.0|   1.0| 1.0| 1.0| 1.0| 1.0| 1.0| 1.0| 1.0| 1.0|            0.0|          0.0| 0.0| 0.0| 0.0|   0.0|    0.0|             0.0| 0.0| 0.0| 0.0| 1.0| 1.0| 0.0| 0.0| 0.0| 0.0| 1.0| 0.0| 0.0| 0.0| 0.0| 0.0| 0.0| 0.0| 0.0| 0.0| 1.0| 1.0| 1.0| 1.0| 1.0| 1.0| 1.0| 1.0| 1.0| 1.0| 1.0| 1.0| 1.0| 1.0| 1.0| 1.0| 0.0| 0.0| 0.0| 0.0| 0.0| 0.0| 0.0| 0.0| 0.0| 0.0| 0.0| 0.0| 0.0| 0.0| 0.0| 0.0| 0.0| 0.0| 0.0| 1.0| 1.0| 0.0| 0.0| 0.0| 0.0| 0.0| 1.0| 1.0| 1.0| 0.0| 0.0| 0.0| 0.0| 0.0| 0.0| 0.0| 0.0| 0.0| 1.0| 1.0| 1.0| 1.0| 1.0| 1.0| 1.0| 1.0| 1.0| 1.0| 1.0| 1.0| 1.0| 1.0| 1.0| 1.0| 1.0| 1.0| 1.0| 1.0| 1.0| 1.0| 1.0| 0.0| 0.0| 0.0| 0.0| 0.0| 0.0| 0.0| 0.0| 0.0| 0.0| 0.0| 0.0| 0.0| 0.0| 0.0| 0.0| 0.0| 0.0| 0.0| 1.0| 1.0| 0.0| 0.0| 0.0| 0.0| 0.0| 0.0| 1.0| 1.0| 1.0| 0.0| 0.0| 0.0| 0.0| 0.0| 0.0| 0.0| 0.0| 0.0| 1.0| 1.0| 1.0| 1.0|               0.0|               0.0|               0.0|              0.0|               0.0|              0.0|              0.0|              0.0|               0.0|               0.0|              0.0|              0.0|              0.0|              0.0|              0.0|              0.0| 0.0| 0.0| 0.0| 0.0| 0.0| 0.0| 0.0| 0.0| 0.0| 0.0| 0.0| 0.0| 0.0| 0.0| 0.0| 0.0| 0.0| 0.0|      1.4298336E10|17188_321_150_vis...|\n",
      "|      2998588|      0|       339135|        21.751|        C|17188|321.0|150.0| visa|226.0|debit| null| null|  null|960.0|    gmail.com|    gmail.com|2.0|6.0|0.0|2.0|0.0|2.0|2.0|2.0|0.0|1.0|2.0|2.0| 1.0|1.0|  0.0|  0.0| 0.0|  0.0| null| 0.0|null|             null|               null|  0.0| null| 0.0|null|null|  0.0|null|null|null|  M0|null|null|null|null|null|null|null|null|null|null|null|null|null|null|null|null| 0.0| 0.0| 1.0| 1.0| 1.0| 0.0| 0.0| 1.0| 1.0| 0.0| 0.0| 1.0| 1.0| 1.0| 1.0| 0.0| 0.0| 0.0| 0.0| 1.0| 1.0| 1.0| 1.0| 0.0| 0.0| 1.0| 1.0| 0.0| 0.0| 1.0| 0.0| 0.0| 1.0| 1.0| 1.0| 1.0| 0.0| 0.0| 1.0| 1.0| 1.0| 0.0| 0.0| 4.0| 4.0| 1.0| 1.0| 0.0| 0.0| 1.0| 1.0| 0.0| 0.0| 1.0| 1.0| 1.0| 0.0| 0.0| 0.0| 1.0| 1.0| 1.0| 1.0| 0.0| 0.0| 2.0| 2.0| 2.0| 0.0| 0.0| 2.0| 2.0| 0.0| 0.0| 2.0| 2.0| 1.0| 0.0| 0.0| 0.0| 2.0| 2.0| 1.0|0.0|0.0|0.0|0.0|0.0| 0.0| 0.0| 0.0| 0.0| 0.0| 0.0| 0.0| 1.0| 1.0| 1.0| 1.0| 1.0| 1.0| 1.0| 1.0| 1.0| 1.0| 1.0| 1.0| 1.0| 1.0| 1.0| 1.0| 1.0| 1.0| 1.0|   0.0|              0.0|   0.0|  0.0|              0.0|  0.0|   0.0|   0.0|   0.0| 0.0| 0.0| 0.0|null|null|null|null|null|null|null| null|null|null|null|null|  null|null|null|null|null|null|null|null|null|           null|         null|null|null|null|  null|   null|            null|null|null|null|null|null|null|null|null|null|null|null|null|null|null|null|null|null|null|null|null|null|null|null|null|null|null|null|null|null|null|null|null|null|null|null|null|null|null|null|null|null|null|null|null|null|null|null|null|null|null|null|null|null|null|null|null|null|null|null|null|null|null|null|null|null|null|null|null|null|null|null|null|null|null|null|null|null|null|null|null|null|null|null|null|null|null|null|null|null|null|null|null|null|null|null|null|null|null|null|null|null|null|null|null|null|null|null|null|null|null|null|null| 3.0| 3.0| 2.0| 4.0| 4.0| 1.0| 1.0| 1.0| 1.0| 1.0| 1.0| 4.0| 4.0| 4.0| 1.0| 1.0| 1.0| 1.0| 1.0| 1.0| 1.0| 1.0| 1.0| 0.0| 0.0| 0.0| 1.0|152.25840759277344|152.25840759277344|152.25840759277344|65.25360107421875| 65.25360107421875|65.25360107421875|65.25360107421875|65.25360107421875| 65.25360107421875| 65.25360107421875|21.75119972229004|21.75119972229004|21.75119972229004|65.25360107421875|65.25360107421875|65.25360107421875|null|null|null|null|null|null|null|null|null|null|null|null|null|null|null|null|null|null|      2.9301264E10|17188_321_150_vis...|\n",
      "|      2999684|      0|       355499|         100.0|        H|17188|321.0|150.0| visa|226.0|debit|299.0| 87.0|  null| null|    yahoo.com|         null|1.0|1.0|0.0|0.0|0.0|1.0|0.0|1.0|0.0|1.0|1.0|0.0| 1.0|1.0|  0.0| null|null| null| null|null|null|7.083333015441895|0.08333300054073334| null| null|null|null|null| null|null|null|null|null|null|null|null|null|null|null|null|null|null|null|null|null|null|null|null|null|null|null|null|null|null|null|null|null|null|null|null|null|null|null|null|null|null|null|null|null|null|null|null|null|null|null|null|null|null|null|null|null|null|null|null|null|null|null|null|null|null|null|null|null|null|null|null|null|null|null|null|null|null|null|null|null|null|null|null|null|null|null|null|null|null|null|null|null|null|null|null|null|null|null|null|null|null|null|null|null|null|null|null|0.0|0.0|0.0|0.0|0.0| 0.0| 0.0| 0.0| 0.0| 0.0| 0.0| 0.0| 1.0| 1.0| 1.0| 1.0| 1.0| 1.0| 1.0| 1.0| 1.0| 1.0| 1.0| 1.0| 1.0| 1.0| 1.0| 1.0| 1.0| 1.0| 1.0|   0.0|              0.0|   0.0|  0.0|              0.0|  0.0|   0.0|   0.0|   0.0| 0.0| 0.0| 0.0| 0.0| 0.0| 0.0| 0.0| 0.0|10.0|24.0|141.0| 0.0| 0.0| 0.0| 0.0|1981.0|52.0|64.0| 0.0| 0.0| 0.0| 0.0| 0.0| 0.0|22558.990234375|229991.734375| 0.0| 0.0| 0.0| 375.0| 5945.0|          1445.0| 0.0| 0.0| 0.0| 1.0| 1.0| 0.0| 0.0| 0.0| 0.0| 1.0| 0.0| 0.0| 0.0| 0.0| 0.0| 0.0| 0.0| 0.0| 0.0| 1.0| 1.0| 1.0| 1.0| 1.0| 1.0| 1.0| 1.0| 1.0| 1.0| 1.0| 1.0| 1.0| 1.0| 1.0| 1.0| 0.0| 0.0| 0.0| 0.0| 0.0| 0.0| 0.0| 0.0| 0.0| 0.0| 0.0| 0.0| 0.0| 0.0| 0.0| 0.0| 0.0| 0.0| 0.0| 1.0| 1.0| 0.0| 0.0| 0.0| 0.0| 0.0| 1.0| 1.0| 1.0| 0.0| 0.0| 0.0| 0.0| 0.0| 0.0| 0.0| 0.0| 0.0| 1.0| 1.0| 1.0| 1.0| 1.0| 1.0| 1.0| 1.0| 1.0| 1.0| 1.0| 1.0| 1.0| 1.0| 1.0| 1.0| 1.0| 1.0| 1.0| 1.0| 1.0| 1.0| 1.0| 0.0| 0.0| 0.0| 0.0| 0.0| 0.0| 0.0| 0.0| 0.0| 0.0| 0.0| 0.0| 0.0| 0.0| 0.0| 0.0| 0.0| 0.0| 0.0| 1.0| 1.0| 0.0| 0.0| 0.0| 0.0| 0.0| 0.0| 1.0| 1.0| 1.0| 0.0| 0.0| 0.0| 0.0| 0.0| 0.0| 0.0| 0.0| 0.0| 1.0| 1.0| 1.0| 1.0|               0.0|               0.0|               0.0|              0.0|               0.0|              0.0|              0.0|              0.0|               0.0|               0.0|              0.0|              0.0|              0.0|              0.0|              0.0|              0.0| 0.0| 0.0| 0.0| 0.0| 0.0| 0.0| 0.0| 0.0| 0.0| 0.0| 0.0| 0.0| 0.0| 0.0| 0.0| 0.0| 0.0| 0.0|     3.07151136E10|17188_321_150_vis...|\n",
      "|      3016234|      0|       748338|         35.95|        W|17188|321.0|150.0| visa|226.0|debit|310.0| 87.0| 262.0| null|    gmail.com|         null|3.0|4.0|0.0|0.0|2.0|2.0|0.0|0.0|2.0|0.0|3.0|0.0| 9.0|3.0|  0.0| null|null|  0.0| null|null|null|             null|               null|481.0|481.0|null|null|null|432.0|   T|   T|   T|null|null|null|null|null|null| 1.0| 2.0| 2.0| 2.0| 2.0| 2.0| 2.0| 2.0| 2.0| 2.0| 2.0| 1.0| 1.0| 1.0| 0.0| 0.0| 0.0| 0.0| 1.0| 1.0| 0.0| 0.0| 1.0| 1.0| 1.0| 1.0| 0.0| 0.0| 1.0| 1.0| 0.0| 0.0| 0.0| 0.0| 1.0| 1.0| 1.0| 1.0| 0.0| 0.0| 1.0| 0.0| 0.0| 1.0| 1.0| 1.0| 1.0| 1.0| 1.0| 0.0| 0.0| 0.0| 1.0| 1.0| 1.0| 1.0| 0.0| 0.0| 0.0| 0.0| 1.0| 1.0| 0.0| 0.0| 1.0| 1.0| 1.0| 0.0| 1.0| 1.0| 0.0| 0.0| 0.0| 0.0| 0.0| 0.0| 1.0| 1.0| 0.0| 0.0| 0.0| 1.0| 1.0| 0.0| 0.0| 1.0| 1.0| 1.0| 0.0| 1.0| 1.0| 0.0| 0.0| 0.0|0.0|0.0|0.0|0.0|0.0| 0.0| 0.0| 0.0| 0.0| 0.0| 0.0| 0.0| 1.0| 1.0| 1.0| 1.0| 1.0| 1.0| 1.0| 1.0| 1.0| 1.0| 1.0| 1.0| 1.0| 1.0| 1.0| 1.0| 1.0| 1.0| 1.0|   0.0|              0.0|   0.0|  0.0|              0.0|  0.0|   0.0|   0.0|   0.0| 0.0| 0.0| 0.0|null|null|null|null|null|null|null| null|null|null|null|null|  null|null|null|null|null|null|null|null|null|           null|         null|null|null|null|  null|   null|            null|null|null|null|null|null|null|null|null|null|null|null|null|null|null|null|null|null|null|null|null|null|null|null|null|null|null|null|null|null|null|null|null|null|null|null|null|null|null|null|null|null|null|null|null|null|null|null|null|null|null|null|null|null|null|null|null|null|null|null|null|null|null|null|null|null|null|null|null|null|null|null|null|null|null|null|null|null|null|null|null|null|null|null|null|null|null|null|null|null|null|null|null|null|null|null|null|null|null|null|null|null|null|null|null|null|null|null|null|null|null|null|null| 0.0| 0.0| 0.0| 1.0| 1.0| 0.0| 0.0| 0.0| 0.0| 0.0| 0.0| 1.0| 1.0| 1.0| 0.0| 0.0| 0.0| 0.0| 0.0| 0.0| 0.0| 0.0| 0.0| 0.0| 0.0| 0.0| 1.0|               0.0|               0.0|               0.0|              0.0|               0.0|              0.0|              0.0|              0.0|               0.0|               0.0|              0.0|              0.0|              0.0|              0.0|              0.0|              0.0|null|null|null|null|null|null|null|null|null|null|null|null|null|null|null|null|null|null|     6.46564032E10|17188_321_150_vis...|\n",
      "|      2998937|      0|       343591|         36.95|        W|17188|321.0|150.0| visa|226.0|debit|299.0| 87.0|   8.0| null|    yahoo.com|         null|1.0|1.0|0.0|0.0|1.0|1.0|0.0|0.0|1.0|0.0|1.0|0.0| 1.0|1.0|  0.0| null|null| null| null|null|null|             null|               null|  0.0| null|null|null|null| null|   T|   T|   F|null|null|   F|   F|   F|   T|null|null|null|null|null|null|null|null|null|null|null| 0.0| 0.0| 1.0| 0.0| 0.0| 0.0| 0.0| 0.0| 0.0| 0.0| 0.0| 1.0| 1.0| 0.0| 0.0| 0.0| 0.0| 0.0| 0.0| 0.0| 0.0| 0.0| 0.0|null|null|null|null|null|null|null|null|null|null|null|null|null|null|null|null|null|null| 0.0| 0.0| 1.0| 1.0| 0.0| 0.0| 0.0| 0.0| 0.0| 0.0| 0.0| 0.0| 1.0| 0.0| 0.0| 0.0| 0.0| 0.0| 0.0| 0.0| 0.0| 0.0|null|null|null|null|null|null|null|null|null|null|null|null|null|null|null|null|null|null|null|null|0.0|0.0|0.0|0.0|0.0| 0.0| 0.0| 0.0| 0.0| 0.0| 0.0| 0.0| 1.0| 1.0| 1.0| 1.0| 1.0| 1.0| 1.0| 1.0| 1.0| 1.0| 1.0| 1.0| 1.0| 1.0| 1.0| 1.0| 1.0| 1.0| 1.0|   0.0|              0.0|   0.0|  0.0|              0.0|  0.0|   0.0|   0.0|   0.0| 0.0| 0.0| 0.0|null|null|null|null|null|null|null| null|null|null|null|null|  null|null|null|null|null|null|null|null|null|           null|         null|null|null|null|  null|   null|            null|null|null|null|null|null|null|null|null|null|null|null|null|null|null|null|null|null|null|null|null|null|null|null|null|null|null|null|null|null|null|null|null|null|null|null|null|null|null|null|null|null|null|null|null|null|null|null|null|null|null|null|null|null|null|null|null|null|null|null|null|null|null|null|null|null|null|null|null|null|null|null|null|null|null|null|null|null|null|null|null|null|null|null|null|null|null|null|null|null|null|null|null|null|null|null|null|null|null|null|null|null|null|null|null|null|null|null|null|null|null|null|null| 0.0| 0.0| 0.0| 1.0| 1.0| 0.0| 0.0| 0.0| 0.0| 0.0| 0.0| 1.0| 1.0| 1.0| 0.0| 0.0| 0.0| 0.0| 0.0| 0.0| 0.0| 0.0| 0.0| 0.0| 0.0| 0.0| 1.0|               0.0|               0.0|               0.0|              0.0|               0.0|              0.0|              0.0|              0.0|               0.0|               0.0|              0.0|              0.0|              0.0|              0.0|              0.0|              0.0|null|null|null|null|null|null|null|null|null|null|null|null|null|null|null|null|null|null|     2.96862624E10|17188_321_150_vis...|\n",
      "|      3015313|      0|       705357|         100.0|        H|17188|321.0|150.0| visa|226.0|debit|299.0| 87.0|  null| null|    yahoo.com|    gmail.com|1.0|1.0|0.0|1.0|0.0|1.0|0.0|1.0|0.0|1.0|1.0|0.0| 0.0|0.0|  0.0| null|null| null| null|null|null|          433.125|              0.125| null| null|null|null|null| null|null|null|null|null|null|null|null|null|null|null|null|null|null|null|null|null|null|null|null|null|null|null|null|null|null|null|null|null|null|null|null|null|null|null|null|null|null|null|null|null|null|null|null|null|null|null|null|null|null|null|null|null|null|null|null|null|null|null|null|null|null|null|null|null|null|null|null|null|null|null|null|null|null|null|null|null|null|null|null|null|null|null|null|null|null|null|null|null|null|null|null|null|null|null|null|null|null|null|null|null|null|null|null|0.0|0.0|0.0|0.0|0.0| 0.0| 0.0| 0.0| 0.0| 0.0| 0.0| 0.0| 1.0| 1.0| 1.0| 1.0| 1.0| 1.0| 1.0| 1.0| 1.0| 1.0| 1.0| 1.0| 1.0| 1.0| 1.0| 1.0| 1.0| 1.0| 1.0|   0.0|              0.0|   0.0|  0.0|              0.0|  0.0|   0.0|   0.0|   0.0| 0.0| 0.0| 0.0| 0.0| 1.0| 1.0| 0.0| 0.0| 0.0| 0.0|  0.0| 0.0| 0.0| 1.0| 1.0|   1.0| 1.0| 1.0| 1.0| 1.0| 1.0| 1.0| 1.0| 1.0|            0.0|          0.0| 0.0| 0.0| 0.0|   0.0|    0.0|             0.0| 0.0| 0.0| 0.0| 1.0| 1.0| 0.0| 0.0| 0.0| 0.0| 1.0| 0.0| 0.0| 0.0| 0.0| 0.0| 0.0| 0.0| 0.0| 0.0| 1.0| 1.0| 1.0| 1.0| 1.0| 1.0| 1.0| 1.0| 1.0| 1.0| 1.0| 1.0| 1.0| 1.0| 1.0| 1.0| 0.0| 0.0| 0.0| 0.0| 0.0| 0.0| 0.0| 0.0| 0.0| 0.0| 0.0| 0.0| 0.0| 0.0| 0.0| 0.0| 0.0| 0.0| 0.0| 1.0| 1.0| 0.0| 0.0| 0.0| 0.0| 0.0| 1.0| 1.0| 1.0| 0.0| 0.0| 0.0| 0.0| 0.0| 0.0| 0.0| 0.0| 0.0| 1.0| 1.0| 1.0| 1.0| 1.0| 1.0| 1.0| 1.0| 1.0| 1.0| 1.0| 1.0| 1.0| 1.0| 1.0| 1.0| 1.0| 1.0| 1.0| 1.0| 1.0| 1.0| 1.0| 0.0| 0.0| 0.0| 0.0| 0.0| 0.0| 0.0| 0.0| 0.0| 0.0| 0.0| 0.0| 0.0| 0.0| 0.0| 0.0| 0.0| 0.0| 0.0| 1.0| 1.0| 0.0| 0.0| 0.0| 0.0| 0.0| 0.0| 1.0| 1.0| 1.0| 0.0| 0.0| 0.0| 0.0| 0.0| 0.0| 0.0| 0.0| 0.0| 1.0| 1.0| 1.0| 1.0|               0.0|               0.0|               0.0|              0.0|               0.0|              0.0|              0.0|              0.0|               0.0|               0.0|              0.0|              0.0|              0.0|              0.0|              0.0|              0.0| 0.0| 0.0| 0.0| 0.0| 0.0| 0.0| 0.0| 0.0| 0.0| 0.0| 0.0| 0.0| 0.0| 0.0| 0.0| 0.0| 0.0| 0.0|     6.09428448E10|17188_321_150_vis...|\n",
      "|      3021106|      0|       846945|        107.95|        W|17188|321.0|150.0| visa|226.0|debit|485.0| 87.0|  null| null|    yahoo.com|         null|4.0|3.0|0.0|0.0|4.0|4.0|0.0|0.0|2.0|0.0|2.0|0.0|40.0|4.0|  9.0|  9.0| 4.0|452.0|  4.0|null|null|             null|               null|452.0| null|null|null|null|452.0|null|null|null|null|null|   F|null|null|null|null|null|null|null|null|null|null|null|null|null|null| 0.0| 0.0| 1.0| 0.0| 0.0| 0.0| 0.0| 1.0| 1.0| 0.0| 0.0| 1.0| 1.0| 1.0| 1.0| 0.0| 0.0| 1.0| 1.0| 0.0| 0.0| 0.0| 0.0| 0.0| 0.0| 1.0| 1.0| 0.0| 0.0| 1.0| 0.0| 0.0| 1.0| 1.0| 1.0| 1.0| 1.0| 1.0| 0.0| 0.0| 0.0| 1.0| 1.0| 1.0| 1.0| 0.0| 0.0| 0.0| 0.0| 1.0| 1.0| 0.0| 0.0| 1.0| 1.0| 1.0| 0.0| 1.0| 2.0| 0.0| 0.0| 0.0| 0.0| 0.0| 0.0| 1.0| 1.0| 0.0| 0.0| 0.0| 1.0| 1.0| 0.0| 0.0| 1.0| 1.0| 1.0| 0.0| 1.0| 1.0| 0.0| 0.0| 0.0|0.0|4.0|2.0|0.0|4.0| 2.0| 0.0| 0.0| 0.0| 0.0| 0.0| 0.0| 1.0| 1.0| 1.0| 1.0| 1.0| 1.0| 1.0| 1.0| 1.0| 1.0| 1.0| 1.0| 1.0| 1.0| 1.0| 1.0| 1.0| 2.0| 1.0|   0.0|357.8999938964844| 140.0|  0.0|357.8999938964844|140.0|   0.0|   0.0|   0.0| 0.0| 0.0| 0.0|null|null|null|null|null|null|null| null|null|null|null|null|  null|null|null|null|null|null|null|null|null|           null|         null|null|null|null|  null|   null|            null|null|null|null|null|null|null|null|null|null|null|null|null|null|null|null|null|null|null|null|null|null|null|null|null|null|null|null|null|null|null|null|null|null|null|null|null|null|null|null|null|null|null|null|null|null|null|null|null|null|null|null|null|null|null|null|null|null|null|null|null|null|null|null|null|null|null|null|null|null|null|null|null|null|null|null|null|null|null|null|null|null|null|null|null|null|null|null|null|null|null|null|null|null|null|null|null|null|null|null|null|null|null|null|null|null|null|null|null|null|null|null|null| 0.0| 2.0| 0.0| 1.0| 3.0| 0.0| 3.0| 0.0| 2.0| 1.0| 3.0| 1.0| 1.0| 1.0| 0.0| 0.0| 0.0| 0.0| 0.0| 0.0| 0.0| 0.0| 0.0| 0.0| 0.0| 0.0| 1.0|               0.0|299.95001220703125|             140.0|              0.0|299.95001220703125|              0.0|            140.0|159.9499969482422|299.95001220703125|299.95001220703125|              0.0|              0.0|              0.0|              0.0|              0.0|              0.0|null|null|null|null|null|null|null|null|null|null|null|null|null|null|null|null|null|null|      7.3176048E10|17188_321_150_vis...|\n",
      "|      2989724|      0|       148835|         100.0|        W|17188|321.0|150.0| visa|226.0|debit|299.0| 87.0|  null| null|    yahoo.com|         null|5.0|3.0|0.0|0.0|1.0|3.0|0.0|0.0|3.0|0.0|3.0|0.0|16.0|5.0|271.0|271.0|26.0| null| null|null|null|             null|               null|211.0| null|null|null|null|271.0|null|null|null|null|null|   F|null|null|null|null|null|null|null|null|null|null|null|null|null|null| 0.0| 0.0| 1.0| 0.0| 0.0| 0.0| 0.0| 1.0| 1.0| 0.0| 0.0| 1.0| 1.0| 1.0| 1.0| 0.0| 0.0| 1.0| 1.0| 0.0| 0.0| 0.0| 0.0|null|null|null|null|null|null|null|null|null|null|null|null|null|null|null|null|null|null| 1.0| 1.0| 1.0| 1.0| 0.0| 0.0| 0.0| 0.0| 1.0| 1.0| 0.0| 0.0| 1.0| 1.0| 1.0| 0.0| 1.0| 1.0| 0.0| 0.0| 0.0| 0.0| 1.0| 1.0| 1.0| 1.0| 0.0| 0.0| 0.0| 1.0| 1.0| 0.0| 0.0| 1.0| 1.0| 1.0| 0.0| 1.0| 1.0| 0.0| 0.0| 0.0|0.0|0.0|0.0|0.0|0.0| 0.0| 0.0| 0.0| 0.0| 0.0| 0.0| 0.0| 1.0| 1.0| 1.0| 1.0| 1.0| 1.0| 1.0| 1.0| 1.0| 1.0| 1.0| 1.0| 1.0| 1.0| 1.0| 1.0| 1.0| 1.0| 1.0|   0.0|              0.0|   0.0|  0.0|              0.0|  0.0|   0.0|   0.0|   0.0| 0.0| 0.0| 0.0|null|null|null|null|null|null|null| null|null|null|null|null|  null|null|null|null|null|null|null|null|null|           null|         null|null|null|null|  null|   null|            null|null|null|null|null|null|null|null|null|null|null|null|null|null|null|null|null|null|null|null|null|null|null|null|null|null|null|null|null|null|null|null|null|null|null|null|null|null|null|null|null|null|null|null|null|null|null|null|null|null|null|null|null|null|null|null|null|null|null|null|null|null|null|null|null|null|null|null|null|null|null|null|null|null|null|null|null|null|null|null|null|null|null|null|null|null|null|null|null|null|null|null|null|null|null|null|null|null|null|null|null|null|null|null|null|null|null|null|null|null|null|null|null| 0.0| 0.0| 0.0| 0.0| 0.0| 0.0| 1.0| 0.0| 0.0| 0.0| 0.0| 1.0| 2.0| 1.0| 0.0| 0.0| 0.0| 1.0| 0.0| 1.0| 0.0| 0.0| 0.0| 0.0| 0.0| 0.0| 1.0|               0.0| 182.9499969482422|               0.0|              0.0|              75.0|              0.0|              0.0|              0.0|               0.0|               0.0|              0.0|              0.0|              0.0|              0.0|107.9499969482422|              0.0|null|null|null|null|null|null|null|null|null|null|null|null|null|null|null|null|null|null|      1.2859344E10|17188_321_150_vis...|\n",
      "|      3011647|      0|       621243|        891.95|        W|17188|321.0|150.0| visa|226.0|debit|299.0| 87.0|   2.0| null|    gmail.com|         null|1.0|1.0|0.0|0.0|1.0|1.0|0.0|0.0|1.0|0.0|1.0|0.0| 1.0|1.0|  0.0| null|null|  0.0| null|null|null|             null|               null|  0.0|  0.0|null|null|null|  0.0|   T|   T|   T|null|null|null|   F|   T|   T| 1.0| 1.0| 1.0| 1.0| 1.0| 1.0| 1.0| 1.0| 1.0| 1.0| 1.0| 1.0| 1.0| 1.0| 0.0| 0.0| 0.0| 0.0| 1.0| 1.0| 0.0| 0.0| 1.0| 1.0| 1.0| 1.0| 0.0| 0.0| 1.0| 1.0| 0.0| 0.0| 0.0| 0.0| 1.0| 1.0| 1.0| 1.0| 0.0| 0.0| 1.0| 0.0| 0.0| 1.0| 1.0| 1.0| 1.0| 1.0| 1.0| 0.0| 0.0| 0.0| 1.0| 1.0| 1.0| 1.0| 0.0| 0.0| 0.0| 0.0| 1.0| 1.0| 0.0| 0.0| 1.0| 1.0| 1.0| 0.0| 1.0| 1.0| 0.0| 0.0| 0.0| 0.0| 1.0| 1.0| 1.0| 1.0| 0.0| 0.0| 0.0| 1.0| 1.0| 0.0| 0.0| 1.0| 1.0| 1.0| 0.0| 1.0| 1.0| 0.0| 0.0| 0.0|0.0|0.0|0.0|0.0|0.0| 0.0| 0.0| 0.0| 0.0| 0.0| 0.0| 0.0| 1.0| 1.0| 1.0| 1.0| 1.0| 1.0| 1.0| 1.0| 1.0| 1.0| 1.0| 1.0| 1.0| 1.0| 1.0| 1.0| 1.0| 1.0| 1.0|   0.0|              0.0|   0.0|  0.0|              0.0|  0.0|   0.0|   0.0|   0.0| 0.0| 0.0| 0.0|null|null|null|null|null|null|null| null|null|null|null|null|  null|null|null|null|null|null|null|null|null|           null|         null|null|null|null|  null|   null|            null|null|null|null|null|null|null|null|null|null|null|null|null|null|null|null|null|null|null|null|null|null|null|null|null|null|null|null|null|null|null|null|null|null|null|null|null|null|null|null|null|null|null|null|null|null|null|null|null|null|null|null|null|null|null|null|null|null|null|null|null|null|null|null|null|null|null|null|null|null|null|null|null|null|null|null|null|null|null|null|null|null|null|null|null|null|null|null|null|null|null|null|null|null|null|null|null|null|null|null|null|null|null|null|null|null|null|null|null|null|null|null|null| 0.0| 0.0| 0.0| 1.0| 1.0| 0.0| 0.0| 0.0| 0.0| 0.0| 0.0| 1.0| 1.0| 1.0| 0.0| 0.0| 0.0| 0.0| 0.0| 0.0| 0.0| 0.0| 0.0| 0.0| 0.0| 0.0| 1.0|               0.0|               0.0|               0.0|              0.0|               0.0|              0.0|              0.0|              0.0|               0.0|               0.0|              0.0|              0.0|              0.0|              0.0|              0.0|              0.0|null|null|null|null|null|null|null|null|null|null|null|null|null|null|null|null|null|null|     5.36753952E10|17188_321_150_vis...|\n",
      "|      3016471|      0|       751357|         226.0|        W|17188|321.0|150.0| visa|226.0|debit|299.0| 87.0|   5.0| null|    yahoo.com|         null|1.0|1.0|0.0|0.0|0.0|1.0|0.0|0.0|1.0|0.0|1.0|0.0| 1.0|1.0|  0.0| null|null|  0.0| null|null|null|             null|               null|  0.0|  0.0|null|null|null|  0.0|   T|   T|   T|  M0|   T|   F|null|null|null| 1.0| 1.0| 1.0| 1.0| 1.0| 1.0| 1.0| 1.0| 1.0| 0.0| 0.0| 1.0| 1.0| 1.0| 0.0| 0.0| 0.0| 0.0| 1.0| 1.0| 0.0| 0.0| 1.0| 1.0| 1.0| 1.0| 0.0| 0.0| 0.0| 0.0| 0.0| 0.0| 0.0| 0.0| 1.0| 1.0| 1.0| 1.0| 0.0| 0.0| 1.0| 0.0| 0.0| 1.0| 1.0| 1.0| 1.0| 0.0| 0.0| 0.0| 0.0| 0.0| 1.0| 1.0| 1.0| 1.0| 0.0| 0.0| 0.0| 0.0| 1.0| 1.0| 0.0| 0.0| 1.0| 1.0| 1.0| 0.0| 0.0| 0.0| 0.0| 0.0| 0.0| 0.0| 1.0| 1.0| 1.0| 1.0| 0.0| 0.0| 0.0| 1.0| 1.0| 0.0| 0.0| 1.0| 1.0| 1.0| 0.0| 0.0| 0.0| 0.0| 0.0| 0.0|0.0|0.0|0.0|0.0|0.0| 0.0| 0.0| 0.0| 0.0| 0.0| 0.0| 0.0| 1.0| 1.0| 1.0| 1.0| 1.0| 1.0| 1.0| 1.0| 1.0| 1.0| 1.0| 1.0| 1.0| 1.0| 1.0| 1.0| 1.0| 1.0| 1.0|   0.0|              0.0|   0.0|  0.0|              0.0|  0.0|   0.0|   0.0|   0.0| 0.0| 0.0| 0.0|null|null|null|null|null|null|null| null|null|null|null|null|  null|null|null|null|null|null|null|null|null|           null|         null|null|null|null|  null|   null|            null|null|null|null|null|null|null|null|null|null|null|null|null|null|null|null|null|null|null|null|null|null|null|null|null|null|null|null|null|null|null|null|null|null|null|null|null|null|null|null|null|null|null|null|null|null|null|null|null|null|null|null|null|null|null|null|null|null|null|null|null|null|null|null|null|null|null|null|null|null|null|null|null|null|null|null|null|null|null|null|null|null|null|null|null|null|null|null|null|null|null|null|null|null|null|null|null|null|null|null|null|null|null|null|null|null|null|null|null|null|null|null|null| 0.0| 0.0| 0.0| 1.0| 1.0| 0.0| 0.0| 0.0| 0.0| 0.0| 0.0| 1.0| 1.0| 1.0| 0.0| 0.0| 0.0| 0.0| 0.0| 0.0| 0.0| 0.0| 0.0| 0.0| 0.0| 0.0| 1.0|               0.0|               0.0|               0.0|              0.0|               0.0|              0.0|              0.0|              0.0|               0.0|               0.0|              0.0|              0.0|              0.0|              0.0|              0.0|              0.0|null|null|null|null|null|null|null|null|null|null|null|null|null|null|null|null|null|null|     6.49172448E10|17188_321_150_vis...|\n",
      "|      3019481|      0|       794733|          20.0|        H|17188|321.0|150.0| visa|226.0|debit|299.0| 87.0|  null| null|    yahoo.com|         null|1.0|1.0|0.0|0.0|0.0|1.0|0.0|1.0|0.0|1.0|1.0|0.0| 1.0|1.0|  0.0| null|null| null| null|null|null|             null|               null| null| null|null|null|null| null|null|null|null|null|null|null|null|null|null|null|null|null|null|null|null|null|null|null|null|null|null|null|null|null|null|null|null|null|null|null|null|null|null|null|null|null|null|null|null|null|null|null|null|null|null|null|null|null|null|null|null|null|null|null|null|null|null|null|null|null|null|null|null|null|null|null|null|null|null|null|null|null|null|null|null|null|null|null|null|null|null|null|null|null|null|null|null|null|null|null|null|null|null|null|null|null|null|null|null|null|null|null|null|0.0|0.0|0.0|0.0|0.0| 0.0| 0.0| 0.0| 0.0| 0.0| 0.0| 0.0| 1.0| 1.0| 1.0| 1.0| 1.0| 1.0| 1.0| 1.0| 1.0| 1.0| 1.0| 1.0| 1.0| 1.0| 1.0| 1.0| 1.0| 1.0| 1.0|   0.0|              0.0|   0.0|  0.0|              0.0|  0.0|   0.0|   0.0|   0.0| 0.0| 0.0| 0.0| 0.0| 0.0| 0.0| 0.0| 0.0|33.0|24.0|150.0| 0.0| 0.0| 0.0| 0.0|2557.0|52.0|66.0| 0.0| 0.0| 0.0| 0.0| 0.0| 0.0| 25103.98046875| 357398.59375| 0.0| 0.0| 0.0|2560.0|12075.0|2228.97998046875| 0.0| 0.0| 0.0| 1.0| 1.0| 0.0| 0.0| 0.0| 0.0| 1.0| 0.0| 0.0| 0.0| 0.0| 0.0| 0.0| 0.0| 0.0| 0.0| 1.0| 1.0| 1.0| 1.0| 1.0| 1.0| 1.0| 1.0| 1.0| 1.0| 1.0| 1.0| 1.0| 1.0| 1.0| 1.0| 0.0| 0.0| 0.0| 0.0| 0.0| 0.0| 0.0| 0.0| 0.0| 0.0| 0.0| 0.0| 0.0| 0.0| 0.0| 0.0| 0.0| 0.0| 0.0| 1.0| 1.0| 0.0| 0.0| 0.0| 0.0| 0.0| 1.0| 1.0| 1.0| 0.0| 0.0| 0.0| 0.0| 0.0| 0.0| 0.0| 0.0| 0.0| 1.0| 1.0| 1.0| 1.0| 1.0| 1.0| 1.0| 1.0| 1.0| 1.0| 1.0| 1.0| 1.0| 1.0| 1.0| 1.0| 1.0| 1.0| 1.0| 1.0| 1.0| 1.0| 1.0| 0.0| 0.0| 0.0| 0.0| 0.0| 0.0| 0.0| 0.0| 0.0| 0.0| 0.0| 0.0| 0.0| 0.0| 0.0| 0.0| 0.0| 0.0| 0.0| 1.0| 1.0| 0.0| 0.0| 0.0| 0.0| 0.0| 0.0| 1.0| 1.0| 1.0| 0.0| 0.0| 0.0| 0.0| 0.0| 0.0| 0.0| 0.0| 0.0| 1.0| 1.0| 1.0| 1.0|               0.0|               0.0|               0.0|              0.0|               0.0|              0.0|              0.0|              0.0|               0.0|               0.0|              0.0|              0.0|              0.0|              0.0|              0.0|              0.0| 0.0| 0.0| 0.0| 0.0| 0.0| 0.0| 0.0| 0.0| 0.0| 0.0| 0.0| 0.0| 0.0| 0.0| 0.0| 0.0| 0.0| 0.0|     6.86649312E10|17188_321_150_vis...|\n",
      "|      2994398|      0|       238617|          50.0|        W|17188|321.0|150.0| visa|226.0|debit|122.0| 87.0|  null| null|    yahoo.com|         null|2.0|1.0|0.0|0.0|0.0|1.0|0.0|0.0|0.0|0.0|1.0|0.0|10.0|2.0|  6.0|  6.0| 2.0| null| null|null|null|             null|               null|483.0| null|null|null|null| null|null|null|null|  M0|   F|null|null|null|null|null|null|null|null|null|null|null|null|null|null|null| 1.0| 1.0| 1.0| 0.0| 0.0| 0.0| 0.0| 1.0| 1.0| 0.0| 0.0| 1.0| 1.0| 1.0| 1.0| 0.0| 0.0| 0.0| 0.0| 0.0| 0.0| 0.0| 0.0|null|null|null|null|null|null|null|null|null|null|null|null|null|null|null|null|null|null| 0.0| 0.0| 1.0| 1.0| 0.0| 0.0| 0.0| 0.0| 1.0| 1.0| 0.0| 0.0| 1.0| 1.0| 1.0| 0.0| 0.0| 0.0| 0.0| 0.0| 0.0| 0.0|null|null|null|null|null|null|null|null|null|null|null|null|null|null|null|null|null|null|null|null|0.0|0.0|0.0|0.0|0.0| 0.0| 0.0| 0.0| 0.0| 0.0| 0.0| 0.0| 1.0| 1.0| 1.0| 1.0| 1.0| 1.0| 1.0| 1.0| 1.0| 1.0| 1.0| 1.0| 1.0| 1.0| 1.0| 1.0| 1.0| 1.0| 1.0|   0.0|              0.0|   0.0|  0.0|              0.0|  0.0|   0.0|   0.0|   0.0| 0.0| 0.0| 0.0|null|null|null|null|null|null|null| null|null|null|null|null|  null|null|null|null|null|null|null|null|null|           null|         null|null|null|null|  null|   null|            null|null|null|null|null|null|null|null|null|null|null|null|null|null|null|null|null|null|null|null|null|null|null|null|null|null|null|null|null|null|null|null|null|null|null|null|null|null|null|null|null|null|null|null|null|null|null|null|null|null|null|null|null|null|null|null|null|null|null|null|null|null|null|null|null|null|null|null|null|null|null|null|null|null|null|null|null|null|null|null|null|null|null|null|null|null|null|null|null|null|null|null|null|null|null|null|null|null|null|null|null|null|null|null|null|null|null|null|null|null|null|null|null| 0.0| 3.0| 0.0| 1.0| 4.0| 0.0| 3.0| 0.0| 3.0| 1.0| 3.0| 1.0| 2.0| 2.0| 0.0| 0.0| 0.0| 0.0| 0.0| 0.0| 0.0| 0.0| 0.0| 0.0| 0.0| 0.0| 1.0|               0.0|             139.0|             139.0|              0.0|             139.0|              0.0|            139.0|             39.0|             139.0|             139.0|              0.0|              0.0|              0.0|              0.0|              0.0|              0.0|null|null|null|null|null|null|null|null|null|null|null|null|null|null|null|null|null|null|     2.06165088E10|17188_321_150_vis...|\n",
      "|      3003321|      0|       434312|         109.0|        W|17188|321.0|150.0| visa|226.0|debit|299.0| 87.0|  null| null|    gmail.com|         null|2.0|1.0|0.0|0.0|0.0|1.0|0.0|0.0|1.0|0.0|1.0|0.0| 2.0|2.0|  0.0| null|null|  0.0| null|null|null|             null|               null| 46.0| null|null|null|null| 46.0|null|null|null|  M0|   F|   T|null|null|null|null|null|null|null|null|null|null|null|null|null|null| 1.0| 1.0| 1.0| 0.0| 0.0| 0.0| 0.0| 0.0| 0.0| 0.0| 0.0| 1.0| 1.0| 1.0| 1.0| 0.0| 0.0| 0.0| 0.0| 0.0| 0.0| 0.0| 0.0| 0.0| 0.0| 1.0| 1.0| 0.0| 0.0| 1.0| 0.0| 0.0| 1.0| 1.0| 1.0| 1.0| 0.0| 0.0| 0.0| 0.0| 0.0| 0.0| 0.0| 1.0| 1.0| 0.0| 0.0| 0.0| 0.0| 1.0| 1.0| 0.0| 0.0| 1.0| 1.0| 1.0| 0.0| 0.0| 0.0| 0.0| 0.0| 0.0| 0.0| 1.0| 1.0| 1.0| 1.0| 0.0| 0.0| 0.0| 0.0| 0.0| 0.0| 0.0| 1.0| 1.0| 1.0| 0.0| 0.0| 0.0| 0.0| 0.0| 0.0|0.0|0.0|0.0|0.0|0.0| 0.0| 0.0| 0.0| 0.0| 0.0| 0.0| 0.0| 1.0| 1.0| 1.0| 1.0| 1.0| 1.0| 1.0| 1.0| 1.0| 1.0| 1.0| 1.0| 1.0| 1.0| 1.0| 1.0| 1.0| 1.0| 1.0|   0.0|              0.0|   0.0|  0.0|              0.0|  0.0|   0.0|   0.0|   0.0| 0.0| 0.0| 0.0|null|null|null|null|null|null|null| null|null|null|null|null|  null|null|null|null|null|null|null|null|null|           null|         null|null|null|null|  null|   null|            null|null|null|null|null|null|null|null|null|null|null|null|null|null|null|null|null|null|null|null|null|null|null|null|null|null|null|null|null|null|null|null|null|null|null|null|null|null|null|null|null|null|null|null|null|null|null|null|null|null|null|null|null|null|null|null|null|null|null|null|null|null|null|null|null|null|null|null|null|null|null|null|null|null|null|null|null|null|null|null|null|null|null|null|null|null|null|null|null|null|null|null|null|null|null|null|null|null|null|null|null|null|null|null|null|null|null|null|null|null|null|null|null| 0.0| 0.0| 0.0| 1.0| 1.0| 0.0| 0.0| 0.0| 0.0| 0.0| 0.0| 1.0| 1.0| 1.0| 0.0| 0.0| 0.0| 0.0| 0.0| 0.0| 0.0| 0.0| 0.0| 0.0| 0.0| 0.0| 1.0|               0.0|               0.0|               0.0|              0.0|               0.0|              0.0|              0.0|              0.0|               0.0|               0.0|              0.0|              0.0|              0.0|              0.0|              0.0|              0.0|null|null|null|null|null|null|null|null|null|null|null|null|null|null|null|null|null|null|     3.75245568E10|17188_321_150_vis...|\n",
      "|      3017349|      1|       762200|         250.0|        W|17188|321.0|150.0| visa|226.0|debit|299.0| 87.0|  null| null|    yahoo.com|         null|2.0|1.0|0.0|0.0|0.0|1.0|0.0|0.0|1.0|0.0|1.0|0.0| 2.0|1.0|  2.0|  2.0| 0.0|  2.0|  0.0|null|null|             null|               null|  2.0| null|null|null|null|  2.0|null|null|null|  M2|   T|   F|null|null|null|null|null|null|null|null|null|null|null|null|null|null| 1.0| 1.0| 1.0| 0.0| 0.0| 0.0| 0.0| 1.0| 1.0| 0.0| 0.0| 1.0| 2.0| 1.0| 1.0| 0.0| 0.0| 0.0| 0.0| 0.0| 0.0| 0.0| 0.0| 1.0| 1.0| 1.0| 1.0| 0.0| 0.0| 1.0| 0.0| 0.0| 1.0| 2.0| 1.0| 1.0| 0.0| 0.0| 0.0| 0.0| 0.0| 1.0| 1.0| 1.0| 1.0| 0.0| 0.0| 0.0| 0.0| 1.0| 1.0| 0.0| 0.0| 1.0| 1.0| 1.0| 0.0| 0.0| 0.0| 0.0| 0.0| 0.0| 0.0| 1.0| 1.0| 1.0| 1.0| 0.0| 0.0| 0.0| 1.0| 1.0| 0.0| 0.0| 1.0| 2.0| 1.0| 0.0| 0.0| 0.0| 0.0| 0.0| 0.0|6.0|7.0|7.0|1.0|2.0| 2.0| 5.0| 5.0| 5.0| 0.0| 0.0| 0.0| 1.0| 1.0| 1.0| 1.0| 1.0| 1.0| 1.0| 1.0| 1.0| 1.0| 1.0| 1.0| 1.0| 1.0| 1.0| 1.0| 2.0| 2.0| 2.0|1594.0|           2039.0|2039.0|300.0|            745.0|745.0|1294.0|1294.0|1294.0| 0.0| 0.0| 0.0|null|null|null|null|null|null|null| null|null|null|null|null|  null|null|null|null|null|null|null|null|null|           null|         null|null|null|null|  null|   null|            null|null|null|null|null|null|null|null|null|null|null|null|null|null|null|null|null|null|null|null|null|null|null|null|null|null|null|null|null|null|null|null|null|null|null|null|null|null|null|null|null|null|null|null|null|null|null|null|null|null|null|null|null|null|null|null|null|null|null|null|null|null|null|null|null|null|null|null|null|null|null|null|null|null|null|null|null|null|null|null|null|null|null|null|null|null|null|null|null|null|null|null|null|null|null|null|null|null|null|null|null|null|null|null|null|null|null|null|null|null|null|null|null| 5.0| 6.0| 1.0| 2.0| 7.0| 1.0| 2.0| 0.0| 2.0| 2.0| 2.0| 1.0| 1.0| 1.0| 4.0| 4.0| 4.0| 0.0| 0.0| 0.0| 0.0| 0.0| 0.0| 0.0| 0.0| 0.0| 1.0|            1401.0|            1846.0|            1846.0|            300.0|             745.0|              0.0|            745.0|            745.0|             745.0|             745.0|           1101.0|           1101.0|           1101.0|              0.0|              0.0|              0.0|null|null|null|null|null|null|null|null|null|null|null|null|null|null|null|null|null|null|       6.585408E10|17188_321_150_vis...|\n",
      "|      3024921|      0|       937461|          50.0|        R|17188|321.0|150.0| visa|226.0|debit|428.0| 87.0|  null| null|    gmail.com|    gmail.com|1.0|1.0|0.0|1.0|0.0|1.0|0.0|1.0|0.0|1.0|1.0|0.0| 1.0|1.0|  0.0| null|null| null| null|null|null|             null|               null| null| null|null|null|null| null|null|null|null|null|null|null|null|null|null|null|null|null|null|null|null|null|null|null|null|null|null|null|null|null|null|null|null|null|null|null|null|null|null|null|null|null|null|null|null|null|null|null|null|null|null|null|null|null|null|null|null|null|null|null|null|null|null|null|null|null|null|null|null|null|null|null|null|null|null|null|null|null|null|null|null|null|null|null|null|null|null|null|null|null|null|null|null|null|null|null|null|null|null|null|null|null|null|null|null|null|null|null|null|0.0|0.0|0.0|0.0|0.0| 0.0| 0.0| 0.0| 0.0| 0.0| 0.0| 0.0| 1.0| 1.0| 1.0| 1.0| 1.0| 1.0| 1.0| 1.0| 1.0| 1.0| 1.0| 1.0| 1.0| 1.0| 1.0| 1.0| 1.0| 1.0| 1.0|   0.0|              0.0|   0.0|  0.0|              0.0|  0.0|   0.0|   0.0|   0.0| 0.0| 0.0| 0.0| 0.0| 1.0| 1.0| 0.0| 0.0| 0.0| 0.0|  0.0| 0.0| 0.0| 1.0| 1.0|   1.0| 1.0| 1.0| 1.0| 1.0| 1.0| 1.0| 1.0| 1.0|            0.0|          0.0| 0.0| 0.0| 0.0|   0.0|    0.0|             0.0| 0.0| 0.0| 0.0| 1.0| 1.0| 0.0| 0.0| 0.0| 0.0| 1.0| 0.0| 0.0| 0.0| 0.0| 0.0| 0.0| 0.0| 0.0| 0.0| 1.0| 1.0| 1.0| 1.0| 1.0| 1.0| 1.0| 1.0| 1.0| 1.0| 1.0| 1.0| 1.0| 1.0| 1.0| 1.0| 0.0| 0.0| 0.0| 0.0| 0.0| 0.0| 0.0| 0.0| 0.0| 0.0| 0.0| 0.0| 0.0| 0.0| 0.0| 0.0| 0.0| 0.0| 0.0| 1.0| 1.0| 0.0| 0.0| 0.0| 0.0| 0.0| 1.0| 1.0| 1.0| 0.0| 0.0| 0.0| 0.0| 0.0| 0.0| 0.0| 0.0| 0.0| 1.0| 1.0| 1.0| 1.0| 1.0| 1.0| 1.0| 1.0| 1.0| 1.0| 1.0| 1.0| 1.0| 1.0| 1.0| 1.0| 1.0| 1.0| 1.0| 1.0| 1.0| 1.0| 1.0| 0.0| 0.0| 0.0| 0.0| 0.0| 0.0| 0.0| 0.0| 0.0| 0.0| 0.0| 0.0| 0.0| 0.0| 0.0| 0.0| 0.0| 0.0| 0.0| 1.0| 1.0| 0.0| 0.0| 0.0| 0.0| 0.0| 0.0| 1.0| 1.0| 1.0| 0.0| 0.0| 0.0| 0.0| 0.0| 0.0| 0.0| 0.0| 0.0| 1.0| 1.0| 1.0| 1.0|               0.0|               0.0|               0.0|              0.0|               0.0|              0.0|              0.0|              0.0|               0.0|               0.0|              0.0|              0.0|              0.0|              0.0|              0.0|              0.0| 0.0| 0.0| 0.0| 0.0| 0.0| 0.0| 0.0| 0.0| 0.0| 0.0| 0.0| 0.0| 0.0| 0.0| 0.0| 0.0| 0.0| 0.0|     8.09966304E10|17188_321_150_vis...|\n",
      "|      2994783|      0|       243920|        107.95|        W|17188|321.0|150.0| visa|226.0|debit|310.0| 87.0|   8.0| null|    yahoo.com|         null|9.0|7.0|0.0|0.0|2.0|4.0|0.0|0.0|5.0|0.0|4.0|0.0|23.0|8.0|181.0|181.0|28.0|452.0| 61.0|null|null|             null|               null|362.0|463.0|null|null|null| null|   T|   F|   F|null|null|   F|   F|   T|   T| 1.0| 1.0| 1.0| 0.0| 0.0| 1.0| 1.0| 1.0| 1.0| 1.0| 1.0| 0.0| 0.0| 1.0| 0.0| 0.0| 0.0| 0.0| 1.0| 1.0| 0.0| 0.0| 1.0| 1.0| 1.0| 1.0| 0.0| 0.0| 1.0| 1.0| 0.0| 0.0| 0.0| 0.0| 0.0| 0.0| 1.0| 2.0| 0.0| 0.0| 1.0| 0.0| 0.0| 1.0| 2.0| 1.0| 1.0| 1.0| 1.0| 0.0| 0.0| 0.0| 1.0| 1.0| 1.0| 1.0| 0.0| 0.0| 0.0| 0.0| 1.0| 1.0| 0.0| 0.0| 1.0| 1.0| 1.0| 0.0| 1.0| 1.0| 0.0| 0.0| 0.0| 0.0|null|null|null|null|null|null|null|null|null|null|null|null|null|null|null|null|null|null|null|null|0.0|0.0|0.0|0.0|0.0| 0.0| 0.0| 0.0| 0.0| 0.0| 0.0| 0.0| 1.0| 1.0| 1.0| 1.0| 1.0| 1.0| 1.0| 1.0| 1.0| 1.0| 1.0| 1.0| 1.0| 1.0| 1.0| 1.0| 1.0| 1.0| 1.0|   0.0|              0.0|   0.0|  0.0|              0.0|  0.0|   0.0|   0.0|   0.0| 0.0| 0.0| 0.0|null|null|null|null|null|null|null| null|null|null|null|null|  null|null|null|null|null|null|null|null|null|           null|         null|null|null|null|  null|   null|            null|null|null|null|null|null|null|null|null|null|null|null|null|null|null|null|null|null|null|null|null|null|null|null|null|null|null|null|null|null|null|null|null|null|null|null|null|null|null|null|null|null|null|null|null|null|null|null|null|null|null|null|null|null|null|null|null|null|null|null|null|null|null|null|null|null|null|null|null|null|null|null|null|null|null|null|null|null|null|null|null|null|null|null|null|null|null|null|null|null|null|null|null|null|null|null|null|null|null|null|null|null|null|null|null|null|null|null|null|null|null|null|null| 0.0| 0.0| 0.0| 0.0| 0.0| 0.0| 1.0| 0.0| 0.0| 0.0| 0.0| 1.0| 2.0| 1.0| 0.0| 0.0| 0.0| 0.0| 0.0| 0.0| 0.0| 0.0| 0.0| 0.0| 0.0| 0.0| 1.0|               0.0| 107.9499969482422|               0.0|              0.0| 107.9499969482422|              0.0|              0.0|              0.0|               0.0|               0.0|              0.0|              0.0|              0.0|              0.0|              0.0|              0.0|null|null|null|null|null|null|null|null|null|null|null|null|null|null|null|null|null|null|      2.1074688E10|17188_321_150_vis...|\n",
      "|      3006525|      0|       510844|         169.0|        W|17188|321.0|150.0| visa|226.0|debit|299.0| 87.0|2209.0| null|    gmail.com|         null|3.0|1.0|0.0|0.0|0.0|1.0|0.0|0.0|1.0|0.0|1.0|0.0|10.0|3.0| 31.0| 31.0|32.0|439.0|286.0|null|null|             null|               null|463.0|286.0|null|null|null|463.0|   T|   T|   T|  M0|   F|   F|   F|   F|   F| 1.0| 1.0| 1.0| 1.0| 1.0| 1.0| 1.0| 1.0| 1.0| 0.0| 0.0| 0.0| 0.0| 1.0| 0.0| 0.0| 0.0| 0.0| 0.0| 0.0| 0.0| 0.0| 1.0| 1.0| 1.0| 1.0| 0.0| 0.0| 0.0| 0.0| 0.0| 0.0| 0.0| 0.0| 0.0| 0.0| 1.0| 1.0| 0.0| 0.0| 1.0| 0.0| 0.0| 1.0| 1.0| 1.0| 1.0| 0.0| 0.0| 0.0| 0.0| 0.0| 1.0| 1.0| 1.0| 1.0| 0.0| 0.0| 0.0| 0.0| 0.0| 0.0| 0.0| 0.0| 1.0| 1.0| 1.0| 0.0| 0.0| 0.0| 0.0| 0.0| 0.0| 0.0| 0.0| 0.0| 1.0| 1.0| 0.0| 0.0| 0.0| 0.0| 0.0| 0.0| 0.0| 1.0| 1.0| 1.0| 0.0| 0.0| 0.0| 0.0| 0.0| 0.0|0.0|0.0|0.0|0.0|0.0| 0.0| 0.0| 0.0| 0.0| 0.0| 0.0| 0.0| 1.0| 1.0| 1.0| 1.0| 1.0| 1.0| 1.0| 1.0| 1.0| 1.0| 1.0| 1.0| 1.0| 1.0| 1.0| 1.0| 1.0| 1.0| 1.0|   0.0|              0.0|   0.0|  0.0|              0.0|  0.0|   0.0|   0.0|   0.0| 0.0| 0.0| 0.0|null|null|null|null|null|null|null| null|null|null|null|null|  null|null|null|null|null|null|null|null|null|           null|         null|null|null|null|  null|   null|            null|null|null|null|null|null|null|null|null|null|null|null|null|null|null|null|null|null|null|null|null|null|null|null|null|null|null|null|null|null|null|null|null|null|null|null|null|null|null|null|null|null|null|null|null|null|null|null|null|null|null|null|null|null|null|null|null|null|null|null|null|null|null|null|null|null|null|null|null|null|null|null|null|null|null|null|null|null|null|null|null|null|null|null|null|null|null|null|null|null|null|null|null|null|null|null|null|null|null|null|null|null|null|null|null|null|null|null|null|null|null|null|null| 0.0| 0.0| 0.0| 1.0| 1.0| 0.0| 0.0| 0.0| 0.0| 1.0| 1.0| 1.0| 1.0| 1.0| 0.0| 0.0| 0.0| 0.0| 0.0| 0.0| 0.0| 0.0| 0.0| 0.0| 0.0| 0.0| 1.0|               0.0|               0.0|               0.0|              0.0|               0.0|              0.0|              0.0|             34.0|              34.0|              34.0|              0.0|              0.0|              0.0|              0.0|              0.0|              0.0|null|null|null|null|null|null|null|null|null|null|null|null|null|null|null|null|null|null|     4.41369216E10|17188_321_150_vis...|\n",
      "|      3013289|      0|       673368|          75.0|        H|17188|321.0|150.0| visa|226.0|debit|299.0| 87.0|  null| null|    yahoo.com|         null|1.0|1.0|0.0|0.0|0.0|1.0|0.0|1.0|0.0|1.0|1.0|0.0| 1.0|1.0|  0.0| null|null| null| null|null|null|             null|               null|  0.0| null|null|null|null| null|null|null|null|null|null|null|null|null|null|null|null|null|null|null|null|null|null|null|null|null| 0.0| 0.0| 1.0| 0.0| 0.0| 1.0| 1.0| 1.0| 1.0| 1.0| 1.0| 1.0| 1.0| 1.0| 1.0| 0.0| 0.0| 0.0| 0.0| 0.0| 0.0| 0.0| 0.0|null|null|null|null|null|null|null|null|null|null|null|null|null|null|null|null|null|null|null|null|null|null|null|null|null|null|null|null|null|null|null|null|null|null|null|null|null|null|null|null|null|null|null|null|null|null|null|null|null|null|null|null|null|null|null|null|null|null|null|null|0.0|0.0|0.0|0.0|0.0| 0.0| 0.0| 0.0| 0.0| 0.0| 0.0| 0.0| 1.0| 1.0| 1.0| 1.0| 1.0| 1.0| 1.0| 1.0| 1.0| 1.0| 1.0| 1.0| 1.0| 1.0| 1.0| 1.0| 1.0| 1.0| 1.0|   0.0|              0.0|   0.0|  0.0|              0.0|  0.0|   0.0|   0.0|   0.0| 0.0| 0.0| 0.0| 0.0| 0.0| 0.0| 0.0| 0.0|14.0|30.0|144.0| 0.0| 0.0| 0.0| 0.0|2312.0|52.0|65.0| 0.0| 0.0| 0.0| 0.0| 0.0| 0.0|25625.970703125|   317116.625| 0.0| 0.0| 0.0|1225.0|10130.0|1838.97998046875| 0.0| 0.0| 0.0| 1.0| 1.0| 0.0| 0.0| 0.0| 0.0| 1.0| 0.0| 0.0| 0.0| 0.0| 0.0| 0.0| 0.0| 0.0| 0.0| 1.0| 1.0| 1.0| 1.0| 1.0| 1.0| 1.0| 1.0| 1.0| 1.0| 1.0| 1.0| 1.0| 1.0| 1.0| 1.0| 0.0| 0.0| 0.0| 0.0| 0.0| 0.0| 0.0| 0.0| 0.0| 0.0| 0.0| 0.0| 0.0| 0.0| 0.0| 0.0| 0.0| 0.0| 0.0| 1.0| 1.0| 0.0| 0.0| 0.0| 0.0| 0.0| 1.0| 1.0| 1.0| 0.0| 0.0| 0.0| 0.0| 0.0| 0.0| 0.0| 0.0| 0.0| 1.0| 1.0| 1.0| 1.0| 1.0| 1.0| 1.0| 1.0| 1.0| 1.0| 1.0| 1.0| 1.0| 1.0| 1.0| 1.0| 1.0| 1.0| 1.0| 1.0| 1.0| 1.0| 1.0| 0.0| 0.0| 0.0| 0.0| 0.0| 0.0| 0.0| 0.0| 0.0| 0.0| 0.0| 0.0| 0.0| 0.0| 0.0| 0.0| 0.0| 0.0| 0.0| 1.0| 1.0| 0.0| 0.0| 0.0| 0.0| 0.0| 0.0| 1.0| 1.0| 1.0| 0.0| 0.0| 0.0| 0.0| 0.0| 0.0| 0.0| 0.0| 0.0| 1.0| 1.0| 1.0| 1.0|               0.0|               0.0|               0.0|              0.0|               0.0|              0.0|              0.0|              0.0|               0.0|               0.0|              0.0|              0.0|              0.0|              0.0|              0.0|              0.0| 0.0| 0.0| 0.0| 0.0| 0.0| 0.0| 0.0| 0.0| 0.0| 0.0| 0.0| 0.0| 0.0| 0.0| 0.0| 0.0| 0.0| 0.0|     5.81789952E10|17188_321_150_vis...|\n",
      "|      3018408|      0|       775103|         97.95|        W|17188|321.0|150.0| visa|226.0|debit|264.0| 87.0|  27.0| null|   icloud.com|         null|3.0|2.0|0.0|0.0|2.0|1.0|0.0|0.0|1.0|0.0|1.0|0.0| 4.0|2.0|  0.0| null|null|192.0|164.0|null|null|             null|               null|164.0|192.0|null|null|null|192.0|   T|   T|   T|null|null|null|   F|   F|   T| 1.0| 1.0| 1.0| 1.0| 1.0| 1.0| 1.0| 1.0| 1.0| 1.0| 1.0| 1.0| 1.0| 1.0| 0.0| 0.0| 0.0| 0.0| 1.0| 1.0| 0.0| 0.0| 1.0| 1.0| 1.0| 1.0| 0.0| 0.0| 1.0| 1.0| 0.0| 0.0| 0.0| 0.0| 1.0| 1.0| 1.0| 1.0| 0.0| 0.0| 1.0| 0.0| 0.0| 1.0| 1.0| 1.0| 1.0| 1.0| 1.0| 0.0| 0.0| 0.0| 1.0| 1.0| 1.0| 1.0| 0.0| 0.0| 0.0| 0.0| 1.0| 1.0| 0.0| 0.0| 1.0| 1.0| 1.0| 0.0| 1.0| 1.0| 0.0| 0.0| 0.0| 0.0| 1.0| 1.0| 1.0| 1.0| 0.0| 0.0| 0.0| 1.0| 1.0| 0.0| 0.0| 1.0| 1.0| 1.0| 0.0| 1.0| 1.0| 0.0| 0.0| 0.0|0.0|0.0|0.0|0.0|0.0| 0.0| 0.0| 0.0| 0.0| 0.0| 0.0| 0.0| 1.0| 1.0| 1.0| 1.0| 1.0| 1.0| 1.0| 1.0| 1.0| 1.0| 1.0| 1.0| 1.0| 1.0| 1.0| 1.0| 1.0| 1.0| 1.0|   0.0|              0.0|   0.0|  0.0|              0.0|  0.0|   0.0|   0.0|   0.0| 0.0| 0.0| 0.0|null|null|null|null|null|null|null| null|null|null|null|null|  null|null|null|null|null|null|null|null|null|           null|         null|null|null|null|  null|   null|            null|null|null|null|null|null|null|null|null|null|null|null|null|null|null|null|null|null|null|null|null|null|null|null|null|null|null|null|null|null|null|null|null|null|null|null|null|null|null|null|null|null|null|null|null|null|null|null|null|null|null|null|null|null|null|null|null|null|null|null|null|null|null|null|null|null|null|null|null|null|null|null|null|null|null|null|null|null|null|null|null|null|null|null|null|null|null|null|null|null|null|null|null|null|null|null|null|null|null|null|null|null|null|null|null|null|null|null|null|null|null|null|null| 0.0| 0.0| 0.0| 1.0| 1.0| 0.0| 0.0| 0.0| 0.0| 0.0| 0.0| 1.0| 1.0| 1.0| 0.0| 0.0| 0.0| 0.0| 0.0| 0.0| 0.0| 0.0| 0.0| 0.0| 0.0| 0.0| 1.0|               0.0|               0.0|               0.0|              0.0|               0.0|              0.0|              0.0|              0.0|               0.0|               0.0|              0.0|              0.0|              0.0|              0.0|              0.0|              0.0|null|null|null|null|null|null|null|null|null|null|null|null|null|null|null|null|null|null|     6.69688992E10|17188_321_150_vis...|\n",
      "+-------------+-------+-------------+--------------+---------+-----+-----+-----+-----+-----+-----+-----+-----+------+-----+-------------+-------------+---+---+---+---+---+---+---+---+---+---+---+---+----+---+-----+-----+----+-----+-----+----+----+-----------------+-------------------+-----+-----+----+----+----+-----+----+----+----+----+----+----+----+----+----+----+----+----+----+----+----+----+----+----+----+----+----+----+----+----+----+----+----+----+----+----+----+----+----+----+----+----+----+----+----+----+----+----+----+----+----+----+----+----+----+----+----+----+----+----+----+----+----+----+----+----+----+----+----+----+----+----+----+----+----+----+----+----+----+----+----+----+----+----+----+----+----+----+----+----+----+----+----+----+----+----+----+----+----+----+----+----+----+----+----+----+----+----+----+---+---+---+---+---+----+----+----+----+----+----+----+----+----+----+----+----+----+----+----+----+----+----+----+----+----+----+----+----+----+----+------+-----------------+------+-----+-----------------+-----+------+------+------+----+----+----+----+----+----+----+----+----+----+-----+----+----+----+----+------+----+----+----+----+----+----+----+----+---------------+-------------+----+----+----+------+-------+----------------+----+----+----+----+----+----+----+----+----+----+----+----+----+----+----+----+----+----+----+----+----+----+----+----+----+----+----+----+----+----+----+----+----+----+----+----+----+----+----+----+----+----+----+----+----+----+----+----+----+----+----+----+----+----+----+----+----+----+----+----+----+----+----+----+----+----+----+----+----+----+----+----+----+----+----+----+----+----+----+----+----+----+----+----+----+----+----+----+----+----+----+----+----+----+----+----+----+----+----+----+----+----+----+----+----+----+----+----+----+----+----+----+----+----+----+----+----+----+----+----+----+----+----+----+----+----+----+----+----+----+----+----+----+----+----+----+----+----+----+------------------+------------------+------------------+-----------------+------------------+-----------------+-----------------+-----------------+------------------+------------------+-----------------+-----------------+-----------------+-----------------+-----------------+-----------------+----+----+----+----+----+----+----+----+----+----+----+----+----+----+----+----+----+----+------------------+--------------------+\n",
      "only showing top 20 rows\n",
      "\n"
     ]
    }
   ],
   "source": [
    "# Let's see an example:\n",
    "df_tr.filter(df_tr['card_concat'] == '17188_321_150_visa_226_debit').show()"
   ]
  },
  {
   "cell_type": "code",
   "execution_count": 51,
   "metadata": {},
   "outputs": [
    {
     "data": {
      "text/plain": [
       "'\\nConclusion:\\n\\nThe attempts to identify users by card information were unsucessful.\\n\\nThe table above displays that transactions made by a single card_concat may have different\\nP_emaildomain, merchants, addresses, etc. It seems farfetched to consider that each single\\ncard_concat may be a single customer.\\n\\nSince this task will require more complex solutions, it will be paused for now.\\n'"
      ]
     },
     "execution_count": 51,
     "metadata": {},
     "output_type": "execute_result"
    }
   ],
   "source": [
    "'''\n",
    "Conclusion:\n",
    "\n",
    "The attempts to identify users by card information were unsucessful.\n",
    "\n",
    "The table above displays that transactions made by a single card_concat may have different\n",
    "P_emaildomain, merchants, addresses, etc. It seems farfetched to consider that each single\n",
    "card_concat may be a single customer.\n",
    "\n",
    "Since this task will require more complex solutions, it will be paused for now.\n",
    "'''"
   ]
  },
  {
   "cell_type": "code",
   "execution_count": 52,
   "metadata": {},
   "outputs": [
    {
     "name": "stdout",
     "output_type": "stream",
     "text": [
      "+---------+---------------------------------+------------+--------------------------------+----------------------+\n",
      "|ProductCD|CAST(count(TransactionID) AS INT)|sum(isFraud)|round(median(TransactionAmt), 1)|round(avg(isFraud), 3)|\n",
      "+---------+---------------------------------+------------+--------------------------------+----------------------+\n",
      "|        C|                            68519|      8008.0|                            31.2|                 0.117|\n",
      "|        W|                           439670|      8969.0|                            78.5|                  0.02|\n",
      "|        S|                            11628|       686.0|                            35.0|                 0.059|\n",
      "|        R|                            37699|      1426.0|                           125.0|                 0.038|\n",
      "|        H|                            33024|      1574.0|                            50.0|                 0.048|\n",
      "+---------+---------------------------------+------------+--------------------------------+----------------------+\n",
      "\n"
     ]
    }
   ],
   "source": [
    "# Second strategy: focus on the merchandise.\n",
    "# How many Product CD we have and what are their fraud rates?\n",
    "spark.sql(\"SELECT ProductCD, CAST(COUNT(TransactionID) AS INT), SUM(isFraud), ROUND(MEDIAN(TransactionAmt), 1), ROUND(AVG(isFraud), 3) FROM transaction GROUP BY ProductCD\").show()"
   ]
  },
  {
   "cell_type": "code",
   "execution_count": 53,
   "metadata": {},
   "outputs": [
    {
     "name": "stdout",
     "output_type": "stream",
     "text": [
      "+---------+-------+---------------+---------------------------------+--------------------------------+\n",
      "|ProductCD|isFraud|card6          |CAST(count(TransactionID) AS INT)|round(median(TransactionAmt), 1)|\n",
      "+---------+-------+---------------+---------------------------------+--------------------------------+\n",
      "|C        |0      |null           |175                              |29.3                            |\n",
      "|C        |0      |charge card    |12                               |25.8                            |\n",
      "|C        |0      |credit         |22888                            |33.7                            |\n",
      "|C        |0      |debit          |37436                            |29.1                            |\n",
      "|C        |1      |null           |18                               |46.9                            |\n",
      "|C        |1      |credit         |4663                             |36.0                            |\n",
      "|C        |1      |debit          |3327                             |33.1                            |\n",
      "|H        |0      |null           |1                                |40.0                            |\n",
      "|H        |0      |credit         |16778                            |50.0                            |\n",
      "|H        |0      |debit          |14671                            |50.0                            |\n",
      "|H        |1      |credit         |878                              |150.0                           |\n",
      "|H        |1      |debit          |696                              |100.0                           |\n",
      "|R        |0      |null           |5                                |100.0                           |\n",
      "|R        |0      |charge card    |3                                |150.0                           |\n",
      "|R        |0      |credit         |25467                            |150.0                           |\n",
      "|R        |0      |debit          |10798                            |100.0                           |\n",
      "|R        |1      |credit         |1032                             |200.0                           |\n",
      "|R        |1      |debit          |394                              |200.0                           |\n",
      "|S        |0      |null           |1                                |25.0                            |\n",
      "|S        |0      |credit         |6156                             |50.0                            |\n",
      "|S        |0      |debit          |4785                             |25.0                            |\n",
      "|S        |1      |credit         |371                              |50.0                            |\n",
      "|S        |1      |debit          |315                              |20.0                            |\n",
      "|W        |0      |null           |1350                             |97.0                            |\n",
      "|W        |0      |credit         |67747                            |117.0                           |\n",
      "|W        |0      |debit          |361574                           |68.0                            |\n",
      "|W        |0      |debit or credit|30                               |58.7                            |\n",
      "|W        |1      |null           |21                               |130.0                           |\n",
      "|W        |1      |credit         |3006                             |206.0                           |\n",
      "|W        |1      |debit          |5942                             |99.5                            |\n",
      "+---------+-------+---------------+---------------------------------+--------------------------------+\n",
      "\n"
     ]
    }
   ],
   "source": [
    "# Fraud events have different behaviours conditional to ProductCD?\n",
    "spark.sql(\"\"\"\n",
    "    SELECT \n",
    "        ProductCD,\n",
    "        isFraud,\n",
    "        card6,\n",
    "        CAST(COUNT(TransactionID) AS INT),\n",
    "        ROUND(MEDIAN(TransactionAmt), 1)\n",
    "    FROM transaction\n",
    "    GROUP BY 1, 2, 3\n",
    "    ORDER BY 1, 2, 3\n",
    "\"\"\").show(100, 0)"
   ]
  },
  {
   "cell_type": "code",
   "execution_count": 54,
   "metadata": {},
   "outputs": [
    {
     "data": {
      "text/plain": [
       "\"\\nConclusion:\\n- C: high fraud rate. Transactions made with credit card presents a higher probability of fraud than debit card's transactions.\\n- H: moderate fraud rate. Transactions with higher amount values have a highter probability of fraud.\\n- R: moderate fraud rate. There is a similar number of transactions made with debit cards and credit cards.\\n- S: similar to R.\\n- W: small fraud rate. Frauds tends to be more frequent in credit card transactions and in higher amount values.\\n\""
      ]
     },
     "execution_count": 54,
     "metadata": {},
     "output_type": "execute_result"
    }
   ],
   "source": [
    "'''\n",
    "Conclusion:\n",
    "- C: high fraud rate. Transactions made with credit card presents a higher probability of fraud than debit card's transactions.\n",
    "- H: moderate fraud rate. Transactions with higher amount values have a highter probability of fraud.\n",
    "- R: moderate fraud rate. There is a similar number of transactions made with debit cards and credit cards.\n",
    "- S: similar to R.\n",
    "- W: small fraud rate. Frauds tends to be more frequent in credit card transactions and in higher amount values.\n",
    "'''"
   ]
  }
 ],
 "metadata": {
  "kernelspec": {
   "display_name": "Python 3",
   "language": "python",
   "name": "python3"
  },
  "language_info": {
   "codemirror_mode": {
    "name": "ipython",
    "version": 3
   },
   "file_extension": ".py",
   "mimetype": "text/x-python",
   "name": "python",
   "nbconvert_exporter": "python",
   "pygments_lexer": "ipython3",
   "version": "3.10.4"
  },
  "orig_nbformat": 4
 },
 "nbformat": 4,
 "nbformat_minor": 2
}
